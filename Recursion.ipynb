{
 "cells": [
  {
   "cell_type": "code",
   "execution_count": 1,
   "id": "7763a06b",
   "metadata": {},
   "outputs": [],
   "source": [
    "#print the numebrs from 1 to 4\n",
    "def fun(i,n):\n",
    "    if(i>n):\n",
    "        return\n",
    "    else:\n",
    "        print(i)\n",
    "        fun(i+1,n)"
   ]
  },
  {
   "cell_type": "code",
   "execution_count": 2,
   "id": "106ef808",
   "metadata": {},
   "outputs": [
    {
     "name": "stdout",
     "output_type": "stream",
     "text": [
      "1\n",
      "2\n",
      "3\n",
      "4\n"
     ]
    }
   ],
   "source": [
    "fun(1,4)"
   ]
  },
  {
   "cell_type": "code",
   "execution_count": 8,
   "id": "e87e8aaa",
   "metadata": {},
   "outputs": [],
   "source": [
    "#print the name for 3 times\n",
    "def funname(i,n):\n",
    "    if(i>n):\n",
    "        return\n",
    "    else:\n",
    "        print(\"hello\")\n",
    "        funname(i+1,n)\n",
    "    "
   ]
  },
  {
   "cell_type": "code",
   "execution_count": 9,
   "id": "9f93f60c",
   "metadata": {},
   "outputs": [
    {
     "name": "stdout",
     "output_type": "stream",
     "text": [
      "hello\n",
      "hello\n",
      "hello\n"
     ]
    }
   ],
   "source": [
    "funname(1,3)"
   ]
  },
  {
   "cell_type": "code",
   "execution_count": 7,
   "id": "26ee0a5c",
   "metadata": {},
   "outputs": [],
   "source": [
    "## print 1 to n but using backtracking\n",
    "def fun(i,n):\n",
    "    if(i<1):\n",
    "        return\n",
    "    else:\n",
    "        fun(i-1,n)\n",
    "        print(i)"
   ]
  },
  {
   "cell_type": "code",
   "execution_count": 8,
   "id": "eff784c9",
   "metadata": {},
   "outputs": [
    {
     "name": "stdout",
     "output_type": "stream",
     "text": [
      "1\n",
      "2\n",
      "3\n"
     ]
    }
   ],
   "source": [
    "fun(3,3)"
   ]
  },
  {
   "cell_type": "code",
   "execution_count": 3,
   "id": "2257e93a",
   "metadata": {},
   "outputs": [],
   "source": [
    "## print n to 1 but using backtracking\n",
    "def fun(i,n):\n",
    "    if(i<n):\n",
    "        return\n",
    "    else:\n",
    "        fun(i-1,n)\n",
    "        print(i)"
   ]
  },
  {
   "cell_type": "code",
   "execution_count": 4,
   "id": "8ecbd3f3",
   "metadata": {},
   "outputs": [],
   "source": [
    "fun(1,3)"
   ]
  },
  {
   "cell_type": "code",
   "execution_count": null,
   "id": "47b69ec1",
   "metadata": {},
   "outputs": [],
   "source": []
  }
 ],
 "metadata": {
  "kernelspec": {
   "display_name": "Python 3 (ipykernel)",
   "language": "python",
   "name": "python3"
  },
  "language_info": {
   "codemirror_mode": {
    "name": "ipython",
    "version": 3
   },
   "file_extension": ".py",
   "mimetype": "text/x-python",
   "name": "python",
   "nbconvert_exporter": "python",
   "pygments_lexer": "ipython3",
   "version": "3.9.13"
  }
 },
 "nbformat": 4,
 "nbformat_minor": 5
}
