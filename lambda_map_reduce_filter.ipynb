{
 "cells": [
  {
   "cell_type": "code",
   "execution_count": 1,
   "id": "223bce75",
   "metadata": {},
   "outputs": [],
   "source": [
    "## lambda function"
   ]
  },
  {
   "cell_type": "code",
   "execution_count": 2,
   "id": "85cd9063",
   "metadata": {},
   "outputs": [],
   "source": [
    "# basic syntax\n",
    "#lambda arguments :expression\n"
   ]
  },
  {
   "cell_type": "code",
   "execution_count": 4,
   "id": "5c5cba86",
   "metadata": {},
   "outputs": [
    {
     "data": {
      "text/plain": [
       "5"
      ]
     },
     "execution_count": 4,
     "metadata": {},
     "output_type": "execute_result"
    }
   ],
   "source": [
    "# aaddition of 2 numbers usng lambda \n",
    "ans=lambda x,y :x+y\n",
    "ans(2,3)"
   ]
  },
  {
   "cell_type": "code",
   "execution_count": 5,
   "id": "d574a3da",
   "metadata": {},
   "outputs": [
    {
     "data": {
      "text/plain": [
       "16"
      ]
     },
     "execution_count": 5,
     "metadata": {},
     "output_type": "execute_result"
    }
   ],
   "source": [
    "## multiplication of a number\n",
    "ans=lambda x: x*x\n",
    "ans(4)"
   ]
  },
  {
   "cell_type": "code",
   "execution_count": 6,
   "id": "7dcd8f52",
   "metadata": {},
   "outputs": [
    {
     "data": {
      "text/plain": [
       "6"
      ]
     },
     "execution_count": 6,
     "metadata": {},
     "output_type": "execute_result"
    }
   ],
   "source": [
    "## multiplication of 2 numbera\n",
    "ans=lambda x,y:x*y\n",
    "ans(2,3)"
   ]
  },
  {
   "cell_type": "code",
   "execution_count": 7,
   "id": "c2c9d0d6",
   "metadata": {},
   "outputs": [
    {
     "name": "stdout",
     "output_type": "stream",
     "text": [
      "enter the number23\n",
      "a is odd\n"
     ]
    }
   ],
   "source": [
    "## check if number is even or odd\n",
    "a=int(input(\"enter the number\"))\n",
    "if(a%2==0):\n",
    "    print(\"a is even\")\n",
    "else:\n",
    "    print(\"a is odd\")"
   ]
  },
  {
   "cell_type": "code",
   "execution_count": 9,
   "id": "183579bb",
   "metadata": {},
   "outputs": [],
   "source": [
    "even_odd=lambda a: f\"{a} is even\" if (a%2==0) else f'{a} is odd'"
   ]
  },
  {
   "cell_type": "code",
   "execution_count": 12,
   "id": "d377015d",
   "metadata": {},
   "outputs": [
    {
     "data": {
      "text/plain": [
       "'22 is even'"
      ]
     },
     "execution_count": 12,
     "metadata": {},
     "output_type": "execute_result"
    }
   ],
   "source": [
    "even_odd(22)"
   ]
  },
  {
   "cell_type": "code",
   "execution_count": 17,
   "id": "21c4d03b",
   "metadata": {},
   "outputs": [],
   "source": [
    "#check if number is zero or not\n",
    "ans=lambda x:\"zero\" if (x==0) else None"
   ]
  },
  {
   "cell_type": "code",
   "execution_count": 20,
   "id": "a81126c1",
   "metadata": {},
   "outputs": [],
   "source": [
    "ans(10)"
   ]
  },
  {
   "cell_type": "code",
   "execution_count": 21,
   "id": "002f8abf",
   "metadata": {},
   "outputs": [],
   "source": [
    "l=[12,3,4,5,6,7]\n",
    "ans=lambda l:max(l)"
   ]
  },
  {
   "cell_type": "code",
   "execution_count": 22,
   "id": "bc55e4f5",
   "metadata": {},
   "outputs": [
    {
     "data": {
      "text/plain": [
       "12"
      ]
     },
     "execution_count": 22,
     "metadata": {},
     "output_type": "execute_result"
    }
   ],
   "source": [
    "ans(l)"
   ]
  },
  {
   "cell_type": "code",
   "execution_count": 25,
   "id": "e11fd3bf",
   "metadata": {},
   "outputs": [
    {
     "data": {
      "text/plain": [
       "37"
      ]
     },
     "execution_count": 25,
     "metadata": {},
     "output_type": "execute_result"
    }
   ],
   "source": [
    "# find the sum of all the elements in the list\n",
    "sum([i for i in l])"
   ]
  },
  {
   "cell_type": "code",
   "execution_count": 27,
   "id": "05c113f9",
   "metadata": {},
   "outputs": [],
   "source": [
    "## add plus 2 to each element in the list \n",
    "l=[12,3,4,5]\n",
    "v=map(lambda a:a+2,l)"
   ]
  },
  {
   "cell_type": "code",
   "execution_count": 28,
   "id": "d06672d7",
   "metadata": {},
   "outputs": [
    {
     "data": {
      "text/plain": [
       "[14, 5, 6, 7]"
      ]
     },
     "execution_count": 28,
     "metadata": {},
     "output_type": "execute_result"
    }
   ],
   "source": [
    "list(v)"
   ]
  },
  {
   "cell_type": "code",
   "execution_count": 29,
   "id": "da70f512",
   "metadata": {},
   "outputs": [],
   "source": [
    "## find the length of all the strings in the list\n",
    "l=['pwskills','data','science']\n",
    "v=map(lambda a:len(a),l)"
   ]
  },
  {
   "cell_type": "code",
   "execution_count": 30,
   "id": "2583a359",
   "metadata": {},
   "outputs": [
    {
     "data": {
      "text/plain": [
       "[8, 4, 7]"
      ]
     },
     "execution_count": 30,
     "metadata": {},
     "output_type": "execute_result"
    }
   ],
   "source": [
    "list(v)"
   ]
  },
  {
   "cell_type": "code",
   "execution_count": 31,
   "id": "c6c60a59",
   "metadata": {},
   "outputs": [],
   "source": [
    "## reverse all the words in the list\n",
    "l=['pwskills','data','science']\n",
    "v=map(lambda l:l[::-1],l)"
   ]
  },
  {
   "cell_type": "code",
   "execution_count": 32,
   "id": "def92baa",
   "metadata": {},
   "outputs": [
    {
     "data": {
      "text/plain": [
       "['sllikswp', 'atad', 'ecneics']"
      ]
     },
     "execution_count": 32,
     "metadata": {},
     "output_type": "execute_result"
    }
   ],
   "source": [
    "list(v)"
   ]
  },
  {
   "cell_type": "code",
   "execution_count": 34,
   "id": "64bf664e",
   "metadata": {},
   "outputs": [],
   "source": [
    "## convert all lower case letters to upper case in given list of strings\n",
    "l=['pwskills','data','science']\n",
    "v=map(lambda a:a.upper(),l)"
   ]
  },
  {
   "cell_type": "code",
   "execution_count": 35,
   "id": "8a5c42a5",
   "metadata": {},
   "outputs": [
    {
     "data": {
      "text/plain": [
       "['PWSKILLS', 'DATA', 'SCIENCE']"
      ]
     },
     "execution_count": 35,
     "metadata": {},
     "output_type": "execute_result"
    }
   ],
   "source": [
    "list(v)"
   ]
  },
  {
   "cell_type": "code",
   "execution_count": 37,
   "id": "718e11e1",
   "metadata": {},
   "outputs": [],
   "source": [
    "## find the minimum element in the list\n",
    "l=[12,34,5,2,21,3]\n",
    "v=map(lambda a:max(a),l)"
   ]
  },
  {
   "cell_type": "code",
   "execution_count": 38,
   "id": "fa3d7f89",
   "metadata": {},
   "outputs": [
    {
     "ename": "TypeError",
     "evalue": "'int' object is not iterable",
     "output_type": "error",
     "traceback": [
      "\u001b[1;31m---------------------------------------------------------------------------\u001b[0m",
      "\u001b[1;31mTypeError\u001b[0m                                 Traceback (most recent call last)",
      "Cell \u001b[1;32mIn[38], line 1\u001b[0m\n\u001b[1;32m----> 1\u001b[0m \u001b[38;5;28;43mlist\u001b[39;49m\u001b[43m(\u001b[49m\u001b[43mv\u001b[49m\u001b[43m)\u001b[49m\n",
      "Cell \u001b[1;32mIn[37], line 3\u001b[0m, in \u001b[0;36m<lambda>\u001b[1;34m(a)\u001b[0m\n\u001b[0;32m      1\u001b[0m \u001b[38;5;66;03m## find the minimum element in the list\u001b[39;00m\n\u001b[0;32m      2\u001b[0m l\u001b[38;5;241m=\u001b[39m[\u001b[38;5;241m12\u001b[39m,\u001b[38;5;241m34\u001b[39m,\u001b[38;5;241m5\u001b[39m,\u001b[38;5;241m2\u001b[39m,\u001b[38;5;241m21\u001b[39m,\u001b[38;5;241m3\u001b[39m]\n\u001b[1;32m----> 3\u001b[0m v\u001b[38;5;241m=\u001b[39m\u001b[38;5;28mmap\u001b[39m(\u001b[38;5;28;01mlambda\u001b[39;00m a:\u001b[38;5;28;43mmax\u001b[39;49m\u001b[43m(\u001b[49m\u001b[43ma\u001b[49m\u001b[43m)\u001b[49m,l)\n",
      "\u001b[1;31mTypeError\u001b[0m: 'int' object is not iterable"
     ]
    }
   ],
   "source": [
    "list(v)"
   ]
  },
  {
   "cell_type": "code",
   "execution_count": 42,
   "id": "62fa6f46",
   "metadata": {},
   "outputs": [],
   "source": [
    "from functools import reduce\n"
   ]
  },
  {
   "cell_type": "code",
   "execution_count": 46,
   "id": "05bb306c",
   "metadata": {},
   "outputs": [
    {
     "data": {
      "text/plain": [
       "34"
      ]
     },
     "execution_count": 46,
     "metadata": {},
     "output_type": "execute_result"
    }
   ],
   "source": [
    "v=reduce(lambda x,y: x if x>y else y,l)\n",
    "v"
   ]
  },
  {
   "cell_type": "code",
   "execution_count": 47,
   "id": "1d16a2d6",
   "metadata": {},
   "outputs": [
    {
     "data": {
      "text/plain": [
       "120"
      ]
     },
     "execution_count": 47,
     "metadata": {},
     "output_type": "execute_result"
    }
   ],
   "source": [
    "# find out the multiplication of all the values in the list\n",
    "l=[1,2,3,4,5]\n",
    "reduce(lambda a,b:a*b,l)"
   ]
  },
  {
   "cell_type": "code",
   "execution_count": 50,
   "id": "a4780ef6",
   "metadata": {},
   "outputs": [
    {
     "data": {
      "text/plain": [
       "8"
      ]
     },
     "execution_count": 50,
     "metadata": {},
     "output_type": "execute_result"
    }
   ],
   "source": [
    "# find the multiplication of all the even elements\n",
    "l=[1,2,3,4]\n",
    "reduce(lambda x,y:x*y,[i for i in l if i%2==0])"
   ]
  },
  {
   "cell_type": "code",
   "execution_count": 52,
   "id": "e92b1f46",
   "metadata": {},
   "outputs": [
    {
     "data": {
      "text/plain": [
       "[2, 4, 6]"
      ]
     },
     "execution_count": 52,
     "metadata": {},
     "output_type": "execute_result"
    }
   ],
   "source": [
    "# filter all the elemnts which are even in the list\n",
    "l=[1,2,3,4,5,6]\n",
    "list(filter(lambda x: x if(x%2==0) else None,l))"
   ]
  },
  {
   "cell_type": "code",
   "execution_count": 55,
   "id": "58e94983",
   "metadata": {},
   "outputs": [
    {
     "data": {
      "text/plain": [
       "['W', 'S', 'K', 'I']"
      ]
     },
     "execution_count": 55,
     "metadata": {},
     "output_type": "execute_result"
    }
   ],
   "source": [
    "# filter all the elments which are upper in case\n",
    "s='pW SKIlls'\n",
    "list(filter(lambda x:x.isupper()==True,s))"
   ]
  },
  {
   "cell_type": "code",
   "execution_count": 60,
   "id": "c3c28623",
   "metadata": {},
   "outputs": [
    {
     "data": {
      "text/plain": [
       "['pro', 'sir', 'no']"
      ]
     },
     "execution_count": 60,
     "metadata": {},
     "output_type": "execute_result"
    }
   ],
   "source": [
    "# find all the words whose length is lesser than 4\n",
    "l=['pwskills','data','pro','sir','no']\n",
    "v=(filter(lambda x:len(x)<4,l))\n",
    "list(v)"
   ]
  },
  {
   "cell_type": "code",
   "execution_count": 61,
   "id": "61dbb331",
   "metadata": {},
   "outputs": [
    {
     "data": {
      "text/plain": [
       "[False, False, True, True, True]"
      ]
     },
     "execution_count": 61,
     "metadata": {},
     "output_type": "execute_result"
    }
   ],
   "source": [
    "l=['pwskills','data','pro','sir','no']\n",
    "v=(map(lambda x:len(x)<4,l))\n",
    "list(v)"
   ]
  },
  {
   "cell_type": "code",
   "execution_count": 65,
   "id": "ad243ed4",
   "metadata": {},
   "outputs": [
    {
     "data": {
      "text/plain": [
       "[None, None, 'pro', 'sir', 'no']"
      ]
     },
     "execution_count": 65,
     "metadata": {},
     "output_type": "execute_result"
    }
   ],
   "source": [
    "l=['pwskills','data','pro','sir','no']\n",
    "v=(map(lambda x:x if len(x)<4 else None,l))\n",
    "list(v)"
   ]
  },
  {
   "cell_type": "code",
   "execution_count": 71,
   "id": "c3b60c84",
   "metadata": {},
   "outputs": [
    {
     "data": {
      "text/plain": [
       "['Pwskills', 'pwskills', 'physicswallah']"
      ]
     },
     "execution_count": 71,
     "metadata": {},
     "output_type": "execute_result"
    }
   ],
   "source": [
    "# filter all the words which starts with 'P' in the list\n",
    "l=['Pwskills','Data','pwskills','physicswallah']\n",
    "list(filter(lambda x:x[0]=='p' or x[0]=='P',l))"
   ]
  },
  {
   "cell_type": "markdown",
   "id": "cde0c3a2",
   "metadata": {},
   "source": [
    "Certainly! Here are 50 practice questions for using `map`, `reduce`, and `filter` in Python:\n",
    "\n",
    "**Using `map`:**\n",
    "\n",
    "1. Double all the elements in a list of integers.\n",
    "2. Convert a list of names to lowercase.\n",
    "3. Square each number in a list of integers.\n",
    "4. Convert a list of temperatures from Celsius to Fahrenheit.\n",
    "5. Capitalize the first letter of each word in a list of strings.\n",
    "6. Calculate the lengths of strings in a list.\n",
    "7. Convert a list of strings to integers.\n",
    "8. Replace all occurrences of a specific word in a list of strings.\n",
    "9. Add 10 to each number in a list.\n",
    "10. Calculate the square root of each number in a list.\n",
    "\n",
    "**Using `filter`:**\n",
    "\n",
    "11. Filter out all even numbers from a list.\n",
    "12. Filter out all words longer than 5 characters from a list of strings.\n",
    "13. Filter out all negative numbers from a list.\n",
    "14. Filter out all strings containing the letter 'a' from a list of strings.\n",
    "15. Filter out all prime numbers from a list of integers.\n",
    "16. Filter out all students with a grade less than 60 from a list of student records.\n",
    "17. Filter out all empty strings from a list of strings.\n",
    "18. Filter out all names that start with 'A' from a list of names.\n",
    "19. Filter out all duplicates from a list.\n",
    "\n",
    "\n",
    "**Using `reduce`:**\n",
    "\n",
    "21. Calculate the sum of all numbers in a list.\n",
    "22. Calculate the product of all numbers in a list.\n",
    "23. Find the maximum number in a list of integers.\n",
    "24. Find the minimum number in a list of integers.\n",
    "25. Concatenate all strings in a list into a single string.\n",
    "26. Find the union of two sets.\n",
    "27. Find the intersection of two sets.\n",
    "28. Calculate the factorial of a number using `reduce`.\n",
    "29. Calculate the cumulative product of a list of numbers.\n",
    "30. Find the longest word in a list of strings.\n",
    "\n",
    "**Mixed exercises (using a combination of `map`, `filter`, and `reduce`):**\n",
    "\n",
    "31. Calculate the average of all even numbers in a list.\n",
    "32. Calculate the total length of all strings in a list.\n",
    "33. Find the sum of squares of all even numbers in a list.\n",
    "34. Calculate the product of all odd numbers in a list.\n",
    "35. Calculate the sum of all prime numbers in a list.\n",
    "36. Find the maximum length of strings in a list of strings.\n",
    "37. Calculate the average length of words in a list of sentences.\n",
    "38. Find the longest word that doesn't contain the letter 'e' in a list of words.\n",
    "39. Calculate the sum of the squares of the first 10 natural numbers using `reduce`.\n",
    "40. Find the common elements between two lists using `filter`.\n",
    "\n",
    "**List comprehensions (to practice both `map` and `filter` in a more compact form):**\n",
    "\n",
    "41. Create a list of squares of all even numbers from 1 to 20 using a list comprehension.\n",
    "42. Create a list of vowels from a given string using a list comprehension.\n",
    "43. Create a list of words longer than 5 characters from a sentence using a list comprehension.\n",
    "44. Create a list of the lengths of words in a sentence using a list comprehension.\n",
    "45. Create a list of prime numbers from 1 to 100 using a list comprehension.\n",
    "46. Create a list of words that start with a vowel from a list of words using a list comprehension.\n",
    "47. Create a list of numbers divisible by 3 and 5 from 1 to 50 using a list comprehension.\n",
    "48. Create a list of uppercase letters from a given string using a list comprehension.\n",
    "49. Create a list of strings containing the letter 'o' from a list of strings using a list comprehension.\n",
    "50. Create a list of words with more than two vowels from a list of words using a list comprehension.\n",
    "\n",
    "These practice questions cover a wide range of scenarios where you can apply `map`, `filter`, and `reduce` in Python. You can use them to improve your skills and gain confidence in using these functional programming concepts."
   ]
  },
  {
   "cell_type": "code",
   "execution_count": 73,
   "id": "2001aec8",
   "metadata": {},
   "outputs": [
    {
     "data": {
      "text/plain": [
       "['Pwskills', 'Data', 'Science']"
      ]
     },
     "execution_count": 73,
     "metadata": {},
     "output_type": "execute_result"
    }
   ],
   "source": [
    "#Capitalize the first letter of each word in a list of strings.\n",
    "l=['pwskills','data','science']\n",
    "list(map(lambda x:x.title(),l))"
   ]
  },
  {
   "cell_type": "code",
   "execution_count": 75,
   "id": "0844625e",
   "metadata": {},
   "outputs": [
    {
     "data": {
      "text/plain": [
       "['pwskills',\n",
       " 'DATA',\n",
       " 'science',\n",
       " 'masters',\n",
       " 'course',\n",
       " 'DATA',\n",
       " 'is',\n",
       " 'everywhere']"
      ]
     },
     "execution_count": 75,
     "metadata": {},
     "output_type": "execute_result"
    }
   ],
   "source": [
    "# Replace all occurrences of a specific word in a list of strings\n",
    "s=\"pwskills data science masters course data is everywhere\"\n",
    "word='DATA'\n",
    "l=s.split(' ')\n",
    "list(map(lambda x:x.replace('data',word),l))"
   ]
  },
  {
   "cell_type": "code",
   "execution_count": 76,
   "id": "80ef361f",
   "metadata": {},
   "outputs": [
    {
     "data": {
      "text/plain": [
       "[-1, -4, -1]"
      ]
     },
     "execution_count": 76,
     "metadata": {},
     "output_type": "execute_result"
    }
   ],
   "source": [
    "# Filter out all negative numbers from a list\n",
    "l=[-1,0,3,-4,5-6]\n",
    "list(filter(lambda x:x<0,l))"
   ]
  },
  {
   "cell_type": "code",
   "execution_count": 79,
   "id": "e7d0e47f",
   "metadata": {},
   "outputs": [
    {
     "data": {
      "text/plain": [
       "['DATA', 'DATA']"
      ]
     },
     "execution_count": 79,
     "metadata": {},
     "output_type": "execute_result"
    }
   ],
   "source": [
    "# Filter out all strings containing the letter 'a' from a list of strings.\n",
    "v=['pwskills','DATA','science', 'masters', 'course','DATA','is','everywhere']\n",
    "list(filter(lambda x:'A' in x,v))\n"
   ]
  },
  {
   "cell_type": "code",
   "execution_count": 81,
   "id": "e8906cae",
   "metadata": {},
   "outputs": [
    {
     "data": {
      "text/plain": [
       "[56, 55, 45]"
      ]
     },
     "execution_count": 81,
     "metadata": {},
     "output_type": "execute_result"
    }
   ],
   "source": [
    "# Filter out all students with a grade less than 60 from a list of student records\n",
    "l=[67,89,90,56,78,90,55,80,90,45]\n",
    "list(filter(lambda x:x<60,l))"
   ]
  },
  {
   "cell_type": "code",
   "execution_count": 84,
   "id": "11f6e6f2",
   "metadata": {},
   "outputs": [
    {
     "data": {
      "text/plain": [
       "[12, 2, 2, 2, 12]"
      ]
     },
     "execution_count": 84,
     "metadata": {},
     "output_type": "execute_result"
    }
   ],
   "source": [
    "# Filter out all duplicates from a list.\n",
    "l=[12,2,2,2,1,12,3,0]\n",
    "list(filter(lambda x:l.count(x)>1,l))"
   ]
  },
  {
   "cell_type": "code",
   "execution_count": 102,
   "id": "c2575492",
   "metadata": {},
   "outputs": [
    {
     "data": {
      "text/plain": [
       "'pwskillsdatascience'"
      ]
     },
     "execution_count": 102,
     "metadata": {},
     "output_type": "execute_result"
    }
   ],
   "source": [
    "#Concatenate all strings in a list into a single string.\n",
    "l=['pwskills','data', 'science']\n",
    "s=''\n",
    "''.join(l)"
   ]
  },
  {
   "cell_type": "code",
   "execution_count": 93,
   "id": "afa37528",
   "metadata": {},
   "outputs": [
    {
     "data": {
      "text/plain": [
       "{1, 2, 3, 4}"
      ]
     },
     "execution_count": 93,
     "metadata": {},
     "output_type": "execute_result"
    }
   ],
   "source": [
    "# Find the union of two sets.\n",
    "s1={1,2,3,4}\n",
    "s2={4,2,1,3}\n",
    "def union_set(s1,s2):\n",
    "    return s1.union(s2)\n",
    "\n",
    "reduce(union_set,[s1,s2])"
   ]
  },
  {
   "cell_type": "code",
   "execution_count": 109,
   "id": "c89f7dcc",
   "metadata": {},
   "outputs": [
    {
     "data": {
      "text/plain": [
       "120"
      ]
     },
     "execution_count": 109,
     "metadata": {},
     "output_type": "execute_result"
    }
   ],
   "source": [
    "# Calculate the factorial of a number using reduce.\n",
    "reduce(lambda x,y:x*y,[i for i in range(1,6)])"
   ]
  },
  {
   "cell_type": "code",
   "execution_count": 110,
   "id": "76565a76",
   "metadata": {},
   "outputs": [
    {
     "data": {
      "text/plain": [
       "24"
      ]
     },
     "execution_count": 110,
     "metadata": {},
     "output_type": "execute_result"
    }
   ],
   "source": [
    "# Calculate the cumulative product of a list of numbers.\n",
    "l=[1,2,3,4]\n",
    "reduce(lambda x,y:x*y,l)"
   ]
  },
  {
   "cell_type": "code",
   "execution_count": 111,
   "id": "a26548ab",
   "metadata": {},
   "outputs": [
    {
     "data": {
      "text/plain": [
       "8"
      ]
     },
     "execution_count": 111,
     "metadata": {},
     "output_type": "execute_result"
    }
   ],
   "source": [
    "# Find the longest word in a list of strings.\n",
    "l=['pwskills','data','science']\n",
    "reduce(lambda x,y:x if(x>y) else y,[len(i) for i in l])"
   ]
  },
  {
   "cell_type": "code",
   "execution_count": 120,
   "id": "f07a03f1",
   "metadata": {},
   "outputs": [
    {
     "data": {
      "text/plain": [
       "0.4444444444444444"
      ]
     },
     "execution_count": 120,
     "metadata": {},
     "output_type": "execute_result"
    }
   ],
   "source": [
    "# Calculate the average of all even numbers in a list.\n",
    "l=[2,1,2,3,4,5]\n",
    "reduce(lambda x,y:(x*y)/len(l),[i for i in l if (i%2==0)])\n"
   ]
  },
  {
   "cell_type": "code",
   "execution_count": 121,
   "id": "3eed625e",
   "metadata": {},
   "outputs": [
    {
     "data": {
      "text/plain": [
       "[8, 4, 7]"
      ]
     },
     "execution_count": 121,
     "metadata": {},
     "output_type": "execute_result"
    }
   ],
   "source": [
    "#Calculate the total length of all strings in a list.\n",
    "l=['pwskills','data','scinece']\n",
    "list(map(lambda x:len(x),l))"
   ]
  },
  {
   "cell_type": "code",
   "execution_count": 129,
   "id": "c71f80d1",
   "metadata": {},
   "outputs": [
    {
     "data": {
      "text/plain": [
       "384"
      ]
     },
     "execution_count": 129,
     "metadata": {},
     "output_type": "execute_result"
    }
   ],
   "source": [
    "#Find the sum of squares of all even numbers in a list.\n",
    "l=[1,2,3,4,5,6]\n",
    "reduce(lambda x,y:x*y,[i*2 for i in l if(i%2==0)])"
   ]
  },
  {
   "cell_type": "code",
   "execution_count": 130,
   "id": "18853fcf",
   "metadata": {},
   "outputs": [
    {
     "data": {
      "text/plain": [
       "15"
      ]
     },
     "execution_count": 130,
     "metadata": {},
     "output_type": "execute_result"
    }
   ],
   "source": [
    "#Calculate the product of all odd numbers in a list.\n",
    "l=[1,2,3,4,5,6]\n",
    "reduce(lambda x,y:x*y,[i for i in l if(i%2!=0)])"
   ]
  },
  {
   "cell_type": "code",
   "execution_count": 159,
   "id": "41d8fcff",
   "metadata": {},
   "outputs": [],
   "source": [
    "# Find the longest word that doesn't contain the letter 'e' in a list of words.\n",
    "l=['pwskills','data','science','vaishnavimadhukar']\n",
    "def longest(l):\n",
    "    max1=''\n",
    "    for i in l:\n",
    "        if(len(i)>len(max1) and 'e' not in i):\n",
    "            max1=i\n",
    "    return max1\n",
    "    "
   ]
  },
  {
   "cell_type": "code",
   "execution_count": 160,
   "id": "e76c688c",
   "metadata": {},
   "outputs": [
    {
     "data": {
      "text/plain": [
       "'vaishnavimadhukar'"
      ]
     },
     "execution_count": 160,
     "metadata": {},
     "output_type": "execute_result"
    }
   ],
   "source": [
    "longest(l)"
   ]
  },
  {
   "cell_type": "code",
   "execution_count": 165,
   "id": "42497d19",
   "metadata": {},
   "outputs": [
    {
     "data": {
      "text/plain": [
       "384"
      ]
     },
     "execution_count": 165,
     "metadata": {},
     "output_type": "execute_result"
    }
   ],
   "source": [
    "# Calculate the sum of the squares of the first 10 natural numbers using reduce.\n",
    "reduce(lambda x,y:x*y,[i*2 for i in range(1,5)])"
   ]
  },
  {
   "cell_type": "code",
   "execution_count": 188,
   "id": "217454e0",
   "metadata": {},
   "outputs": [],
   "source": [
    "#Find the common elements between two lists using filter.\n",
    "l1=[1,2,3,4,67,89]\n",
    "l2=[1,2,3,4,5]\n",
    "def common(l1,l2):\n",
    "    for i in l1:\n",
    "        if(i not in l2):\n",
    "             print (i)"
   ]
  },
  {
   "cell_type": "code",
   "execution_count": 189,
   "id": "42291523",
   "metadata": {},
   "outputs": [
    {
     "name": "stdout",
     "output_type": "stream",
     "text": [
      "67\n",
      "89\n"
     ]
    }
   ],
   "source": [
    "common(l1,l2)"
   ]
  },
  {
   "cell_type": "code",
   "execution_count": 191,
   "id": "1b066fa6",
   "metadata": {},
   "outputs": [
    {
     "data": {
      "text/plain": [
       "['ancestor', 'ash']"
      ]
     },
     "execution_count": 191,
     "metadata": {},
     "output_type": "execute_result"
    }
   ],
   "source": [
    "# Create a list of words that start with a vowel from a list of words using a list comprehension.\n",
    "l=['pwskills','data','ancestor','ash']\n",
    "list(filter(lambda x: x[0] in 'aeiou',l))"
   ]
  },
  {
   "cell_type": "code",
   "execution_count": 193,
   "id": "0043ae68",
   "metadata": {},
   "outputs": [
    {
     "data": {
      "text/plain": [
       "['course']"
      ]
     },
     "execution_count": 193,
     "metadata": {},
     "output_type": "execute_result"
    }
   ],
   "source": [
    "# Create alist of strings containing the letter 'o' from a list of strings using a list comprehension.\n",
    "l=['pwskills','data','science','masters','course']\n",
    "list(filter(lambda x:'o' in x,l))"
   ]
  },
  {
   "cell_type": "code",
   "execution_count": null,
   "id": "5e738b4c",
   "metadata": {},
   "outputs": [],
   "source": []
  },
  {
   "cell_type": "code",
   "execution_count": null,
   "id": "33f3f939",
   "metadata": {},
   "outputs": [],
   "source": []
  },
  {
   "cell_type": "code",
   "execution_count": null,
   "id": "b80bb656",
   "metadata": {},
   "outputs": [],
   "source": []
  }
 ],
 "metadata": {
  "kernelspec": {
   "display_name": "Python 3 (ipykernel)",
   "language": "python",
   "name": "python3"
  },
  "language_info": {
   "codemirror_mode": {
    "name": "ipython",
    "version": 3
   },
   "file_extension": ".py",
   "mimetype": "text/x-python",
   "name": "python",
   "nbconvert_exporter": "python",
   "pygments_lexer": "ipython3",
   "version": "3.10.9"
  }
 },
 "nbformat": 4,
 "nbformat_minor": 5
}
