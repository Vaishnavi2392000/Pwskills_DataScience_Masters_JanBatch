{
 "cells": [
  {
   "cell_type": "markdown",
   "id": "b606e732",
   "metadata": {},
   "source": [
    "## Basic If-Else Statements:"
   ]
  },
  {
   "cell_type": "markdown",
   "id": "5b0c8df6",
   "metadata": {},
   "source": [
    "#### 1. Write a Python program to check if a given number is positive or negative."
   ]
  },
  {
   "cell_type": "code",
   "execution_count": 1,
   "id": "ee987c3e",
   "metadata": {},
   "outputs": [
    {
     "name": "stdout",
     "output_type": "stream",
     "text": [
      "enter the number34\n",
      "34 is a positive number\n"
     ]
    }
   ],
   "source": [
    "a=int(input(\"enter the number\"))\n",
    "if(a==0):\n",
    "    print(f\"{a} is zero\")\n",
    "elif(a>0):\n",
    "    print(f'{a} is a positive number')\n",
    "else:\n",
    "    print(f'{a} is negative number')"
   ]
  },
  {
   "cell_type": "markdown",
   "id": "afbd44a2",
   "metadata": {},
   "source": [
    "#### 2. Create a program that determines if a person is eligible to vote based on their age."
   ]
  },
  {
   "cell_type": "code",
   "execution_count": 2,
   "id": "e67b3549",
   "metadata": {},
   "outputs": [
    {
     "name": "stdout",
     "output_type": "stream",
     "text": [
      "enter the age34\n",
      "your age is 34 and you're eligible for voting\n"
     ]
    }
   ],
   "source": [
    "age=int(input(\"enter the age\"))\n",
    "if(age>=18):\n",
    "    print(\"your age is {} and you're eligible for voting\".format(age))\n",
    "else:\n",
    "    print(\"your age is {} and you're not eligible for voting\".format(age))"
   ]
  },
  {
   "cell_type": "markdown",
   "id": "ad92f17b",
   "metadata": {},
   "source": [
    "#### 3. Develop a program to find the maximum of two numbers using if-else statements."
   ]
  },
  {
   "cell_type": "code",
   "execution_count": 3,
   "id": "bb0c0224",
   "metadata": {},
   "outputs": [
    {
     "name": "stdout",
     "output_type": "stream",
     "text": [
      "enter first numebr3\n",
      "enter second number4\n",
      "4 is greator the 3\n"
     ]
    }
   ],
   "source": [
    "a=int(input(\"enter first numebr\"))\n",
    "b=int(input(\"enter second number\"))\n",
    "if(a>b):\n",
    "    print(f\"{a} is greator the {b}\")\n",
    "else:\n",
    "    print(f\"{b} is greator the {a}\")\n",
    "\n",
    "    "
   ]
  },
  {
   "cell_type": "markdown",
   "id": "32764aa8",
   "metadata": {},
   "source": [
    "#### 4. Write a Python script to classify a given year as a leap year or not."
   ]
  },
  {
   "cell_type": "code",
   "execution_count": 4,
   "id": "4f7e5ce4",
   "metadata": {},
   "outputs": [
    {
     "name": "stdout",
     "output_type": "stream",
     "text": [
      "enter year1909\n",
      "year is a normal year\n"
     ]
    }
   ],
   "source": [
    "year=int(input(\"enter year\"))\n",
    "if(year%4==0):\n",
    "    print(\"year is a leap\")\n",
    "else:\n",
    "    print(\"year is a normal year\")"
   ]
  },
  {
   "cell_type": "markdown",
   "id": "c2385c94",
   "metadata": {},
   "source": [
    "#### 5. Create a program that checks whether a character is a vowel or a consonant."
   ]
  },
  {
   "cell_type": "code",
   "execution_count": 5,
   "id": "fe95a290",
   "metadata": {},
   "outputs": [
    {
     "name": "stdout",
     "output_type": "stream",
     "text": [
      "enter the stringpwskislls\n",
      "p is consonant\n",
      "w is consonant\n",
      "s is consonant\n",
      "k is consonant\n",
      "i is vowel\n",
      "s is consonant\n",
      "l is consonant\n",
      "l is consonant\n",
      "s is consonant\n"
     ]
    }
   ],
   "source": [
    "string=input(\"enter the string\")\n",
    "s1=\"aeiou\"\n",
    "for i in string:\n",
    "    if(i in s1):\n",
    "        print(f\"{i} is vowel\")\n",
    "    else:\n",
    "        print(f'{i} is consonant')"
   ]
  },
  {
   "cell_type": "markdown",
   "id": "3c0c522e",
   "metadata": {},
   "source": [
    "#### 6. Implement a program to determine whether a given number is even or odd."
   ]
  },
  {
   "cell_type": "code",
   "execution_count": 6,
   "id": "48539f80",
   "metadata": {},
   "outputs": [
    {
     "name": "stdout",
     "output_type": "stream",
     "text": [
      "enter the numebr3\n",
      "3 is odd\n"
     ]
    }
   ],
   "source": [
    "a=int(input(\"enter the numebr\"))\n",
    "if(a%2==0):\n",
    "    print(f'{a} is even')\n",
    "else:\n",
    "    print(f'{a} is odd')"
   ]
  },
  {
   "cell_type": "markdown",
   "id": "af8c852b",
   "metadata": {},
   "source": [
    "#### 7. Write a Python function to calculate the absolute value of a number without using the `abs()` function."
   ]
  },
  {
   "cell_type": "code",
   "execution_count": 1,
   "id": "45c678c9",
   "metadata": {},
   "outputs": [
    {
     "name": "stdout",
     "output_type": "stream",
     "text": [
      "enter the number-4\n",
      "4.0\n"
     ]
    }
   ],
   "source": [
    "a=float(input(\"enter the number\"))\n",
    "if(a<0):\n",
    "    print(-1*a)\n",
    "else:\n",
    "    print(a)"
   ]
  },
  {
   "cell_type": "markdown",
   "id": "ee21e8cb",
   "metadata": {},
   "source": [
    "#### 8. Develop a program that determines the largest of three given numbers using if-else statements."
   ]
  },
  {
   "cell_type": "code",
   "execution_count": 2,
   "id": "72ff4bac",
   "metadata": {},
   "outputs": [
    {
     "name": "stdout",
     "output_type": "stream",
     "text": [
      "enter first number1\n",
      "enter second number2\n",
      "enter third number3\n",
      "3 is greator than 1 and 2\n"
     ]
    }
   ],
   "source": [
    "a=int(input(\"enter first number\"))\n",
    "b=int(input(\"enter second number\"))\n",
    "c=int(input(\"enter third number\"))\n",
    "if(a>b and a>c):\n",
    "    print(f\"{a} is greator than {b} and {c}\")\n",
    "elif(b>c and b>a):\n",
    "    print(f\"{b} is greator than {a} and {c}\")\n",
    "else:\n",
    "    print(f\"{c} is greator than {a} and {b}\")\n"
   ]
  },
  {
   "cell_type": "markdown",
   "id": "99216c39",
   "metadata": {},
   "source": [
    "#### 9. Create a program that checks if a given string is a palindrome."
   ]
  },
  {
   "cell_type": "code",
   "execution_count": 3,
   "id": "c297d726",
   "metadata": {},
   "outputs": [
    {
     "name": "stdout",
     "output_type": "stream",
     "text": [
      "enter the stringkanak\n",
      "kanak is palindrome\n"
     ]
    }
   ],
   "source": [
    "s=input(\"enter the string\")\n",
    "s1=s[::-1]\n",
    "if(s==s1):\n",
    "    print(f\"{s} is palindrome\")\n",
    "else:\n",
    "    print(f'{s} is not palindrome')"
   ]
  },
  {
   "cell_type": "markdown",
   "id": "70b2a360",
   "metadata": {},
   "source": [
    "#### 10. Write a Python program to calculate the grade based on a student's score."
   ]
  },
  {
   "cell_type": "code",
   "execution_count": 4,
   "id": "73ec7c1e",
   "metadata": {},
   "outputs": [
    {
     "name": "stdout",
     "output_type": "stream",
     "text": [
      "enter the marks90\n",
      "the marks are 90 and grade is  first class with distinction\n"
     ]
    }
   ],
   "source": [
    "marks=int(input(\"enter the marks\"))\n",
    "if(marks<=40):\n",
    "    print(f\"the marks are {marks} and now practise more for next time\")\n",
    "elif(marks<=50):\n",
    "    print(f\"the marks are {marks} and grade is second class\")\n",
    "elif(marks<=60):\n",
    "    print(f\"the marks are {marks} and grade is first class\")\n",
    "elif(marks<=70):\n",
    "    print(f\"the marks are {marks} and grade is  first class\")\n",
    "elif(marks>=80 or marks>=90):\n",
    "    print(f\"the marks are {marks} and grade is  first class with distinction\")\n"
   ]
  },
  {
   "cell_type": "markdown",
   "id": "b5d3e703",
   "metadata": {},
   "source": [
    "## Nested If-Else Statements:"
   ]
  },
  {
   "cell_type": "markdown",
   "id": "f45b0f38",
   "metadata": {},
   "source": [
    "#### 11. Write a program to find the largest among three numbers using nested if-else statements."
   ]
  },
  {
   "cell_type": "code",
   "execution_count": 5,
   "id": "ab0783f8",
   "metadata": {},
   "outputs": [
    {
     "name": "stdout",
     "output_type": "stream",
     "text": [
      "enter first number23\n",
      "enter second number45\n",
      "enter third number67\n",
      "c is greator\n"
     ]
    }
   ],
   "source": [
    "a=int(input(\"enter first number\"))\n",
    "b=int(input(\"enter second number\"))\n",
    "c=int(input(\"enter third number\"))\n",
    "if(a>b):\n",
    "    if(a>c):\n",
    "        print(\"a is greator\")\n",
    "    else:\n",
    "        print(\"c is greator\")\n",
    "else:\n",
    "    if(b>c):\n",
    "        print(\"b is greator\")\n",
    "    else:\n",
    "        print(\"c is greator\")\n",
    "\n",
    "    "
   ]
  },
  {
   "cell_type": "markdown",
   "id": "3adf171b",
   "metadata": {},
   "source": [
    "#### 12. Implement a program to determine if a triangle is equilateral, isosceles, or scalene."
   ]
  },
  {
   "cell_type": "code",
   "execution_count": 6,
   "id": "8b0c92dc",
   "metadata": {},
   "outputs": [
    {
     "name": "stdout",
     "output_type": "stream",
     "text": [
      "enter first side of traingle2\n",
      "enter second side of traingle2\n",
      "enter third side of traingle2\n",
      "the traingle is equilateral traingle\n"
     ]
    }
   ],
   "source": [
    "a=int(input(\"enter first side of traingle\"))\n",
    "b=int(input(\"enter second side of traingle\"))\n",
    "c=int(input(\"enter third side of traingle\"))\n",
    "if(a==b and b==c and a==c):\n",
    "    print(\"the traingle is equilateral traingle\")\n",
    "elif(a==b or a==c or b==c):\n",
    "    print(\"the traingle is isoscales triangle\")\n",
    "else:\n",
    "    print(\" the traingle is scalene traingle\")"
   ]
  },
  {
   "cell_type": "markdown",
   "id": "296e0388",
   "metadata": {},
   "source": [
    "#### 13. Develop a program that checks if a year is a leap year and also if it is a century year."
   ]
  },
  {
   "cell_type": "code",
   "execution_count": 7,
   "id": "a5bd05fc",
   "metadata": {},
   "outputs": [
    {
     "name": "stdout",
     "output_type": "stream",
     "text": [
      "enter year1900\n",
      "year is century yea\n"
     ]
    }
   ],
   "source": [
    "a=int(input(\"enter year\"))\n",
    "if((a%4==0 and a%100!=0) or a%400==0):\n",
    "    print(\"year is leap year\")\n",
    "else:\n",
    "    print(\"year is century yea\")\n"
   ]
  },
  {
   "cell_type": "markdown",
   "id": "33755fd4",
   "metadata": {},
   "source": [
    "#### 14. Write a Python script to determine if a number is positive, negative, or zero."
   ]
  },
  {
   "cell_type": "code",
   "execution_count": 8,
   "id": "a732a126",
   "metadata": {},
   "outputs": [
    {
     "name": "stdout",
     "output_type": "stream",
     "text": [
      "enter the number90\n",
      "90 is a positive number\n"
     ]
    }
   ],
   "source": [
    "a=int(input(\"enter the number\"))\n",
    "if(a==0):\n",
    "    print(f\"{a} is zero\")\n",
    "elif(a>0):\n",
    "    print(f'{a} is a positive number')\n",
    "else:\n",
    "    print(f'{a} is negative number')"
   ]
  },
  {
   "cell_type": "markdown",
   "id": "9bc27801",
   "metadata": {},
   "source": [
    "#### 15. Create a program to check if a person is a teenager (between 13 and 19 years old)."
   ]
  },
  {
   "cell_type": "code",
   "execution_count": 10,
   "id": "7efc486e",
   "metadata": {},
   "outputs": [
    {
     "name": "stdout",
     "output_type": "stream",
     "text": [
      "enter the age1\n",
      "you're child\n"
     ]
    }
   ],
   "source": [
    "age=int(input(\"enter the age\"))\n",
    "if(age>=13 and age<=19):\n",
    "    print(\"you're teeneger\")\n",
    "elif(age<13):\n",
    "    print(\"you're child\")\n",
    "else:\n",
    "    print(\"you're an adult\")"
   ]
  },
  {
   "cell_type": "markdown",
   "id": "896effb0",
   "metadata": {},
   "source": [
    "#### 16. Develop a program that determines the type of angle based on its measure (acute, obtuse, or right)."
   ]
  },
  {
   "cell_type": "code",
   "execution_count": 11,
   "id": "91a6d7cb",
   "metadata": {},
   "outputs": [
    {
     "name": "stdout",
     "output_type": "stream",
     "text": [
      "enter the angle measurment90\n",
      " angle is right angle\n"
     ]
    }
   ],
   "source": [
    "a=int(input(\"enter the angle measurment\"))\n",
    "if(a>180):\n",
    "    print(\"enter valid angle size\")\n",
    "else:\n",
    "    if(a==90):\n",
    "        print(\" angle is right angle\")\n",
    "    elif(a<90):\n",
    "        print(\"angle is acute\")\n",
    "    else:\n",
    "        print(\"angle is obtuse\")"
   ]
  },
  {
   "cell_type": "markdown",
   "id": "a1e24d5c",
   "metadata": {},
   "source": [
    "#### 17. Write a Python program to calculate the roots of a quadratic equation."
   ]
  },
  {
   "cell_type": "code",
   "execution_count": 12,
   "id": "b4e0f20b",
   "metadata": {},
   "outputs": [
    {
     "name": "stdout",
     "output_type": "stream",
     "text": [
      "enter first number1\n",
      "enter second number2\n",
      "enter third number3\n",
      "(-2+1.4142135623730951j)\n",
      "(2-1.4142135623730951j)\n"
     ]
    }
   ],
   "source": [
    "import cmath\n",
    "a=float(input(\"enter first number\"))\n",
    "b=float(input(\"enter second number\"))\n",
    "c=float(input(\"enter third number\"))\n",
    "d=(b**2)-4*a*c\n",
    "root1=-b+cmath.sqrt(d)/2*a\n",
    "print(root1)\n",
    "root2=+b-cmath.sqrt(d)/2*a\n",
    "print(root2)\n"
   ]
  },
  {
   "cell_type": "markdown",
   "id": "183fa233",
   "metadata": {},
   "source": [
    "#### 18. Implement a program to determine the day of the week based on a user-provided number (1 for Monday, 2 for Tuesday, etc.)."
   ]
  },
  {
   "cell_type": "code",
   "execution_count": 13,
   "id": "a238644e",
   "metadata": {},
   "outputs": [
    {
     "name": "stdout",
     "output_type": "stream",
     "text": [
      "enter number3\n",
      "wednesday\n"
     ]
    }
   ],
   "source": [
    "a=int(input(\"enter number\"))\n",
    "if(a==1):\n",
    "    print(\"Monday\")\n",
    "elif(a==2):\n",
    "    print(\"Tuesday\")\n",
    "elif(a==3):\n",
    "    print(\"wednesday\")\n",
    "elif(a==4):\n",
    "    print(\"thursday\")\n",
    "elif(a==5):\n",
    "    print(\"friday\")\n",
    "elif(a==6):\n",
    "    print(\"saturday\")\n",
    "elif(a==7):\n",
    "    print(\"Sunday\")"
   ]
  },
  {
   "cell_type": "markdown",
   "id": "6a4e1c05",
   "metadata": {},
   "source": [
    "#### 19. Create a program that determines if a year is a leap year and also if it is evenly divisible by 400.\n"
   ]
  },
  {
   "cell_type": "code",
   "execution_count": 14,
   "id": "88cb4fad",
   "metadata": {},
   "outputs": [
    {
     "name": "stdout",
     "output_type": "stream",
     "text": [
      "enter the year1345\n",
      "year is century year\n"
     ]
    }
   ],
   "source": [
    "year=int(input(\"enter the year\"))\n",
    "if((year%4==0 and year%100!=0)or year%400==0):\n",
    "    print(\"year is leap year\")\n",
    "else:\n",
    "    print(\"year is century year\")"
   ]
  },
  {
   "cell_type": "markdown",
   "id": "b6c55f47",
   "metadata": {},
   "source": [
    "#### 20. Develop a program that checks if a given number is prime or not using nested if-else statements."
   ]
  },
  {
   "cell_type": "code",
   "execution_count": 15,
   "id": "c30c1d47",
   "metadata": {},
   "outputs": [
    {
     "name": "stdout",
     "output_type": "stream",
     "text": [
      "enter the number34\n",
      "34 not a prime number\n"
     ]
    }
   ],
   "source": [
    "f=False\n",
    "n=int(input(\"enter the number\"))\n",
    "for i in range(2,n):\n",
    "    if(n%i)==0:\n",
    "        f=True\n",
    "        break\n",
    "    else:\n",
    "        f=False\n",
    "        \n",
    "if f:\n",
    "    print(f\"{n} not a prime number\")\n",
    "else:\n",
    "    print(f\"{n} is a prime number\")\n"
   ]
  },
  {
   "cell_type": "markdown",
   "id": "cff16084",
   "metadata": {},
   "source": [
    "#### 21. Write a Python program to assign grades based on different ranges of scores using elif statements."
   ]
  },
  {
   "cell_type": "code",
   "execution_count": 16,
   "id": "19ca6e51",
   "metadata": {},
   "outputs": [
    {
     "name": "stdout",
     "output_type": "stream",
     "text": [
      "enter marks34\n",
      "better efforts next time\n"
     ]
    }
   ],
   "source": [
    "a=int(input(\"enter marks\"))\n",
    "if(a>80):\n",
    "    if(a<=92):\n",
    "        print(\"first class with distinction\")\n",
    "    else:\n",
    "        print(\"first class\")\n",
    "elif(a<=70):\n",
    "    if(a>=60 and a<=70):\n",
    "        print(\"second class\")\n",
    "    else:\n",
    "        print(\"better efforts next time\")\n",
    "\n",
    "        "
   ]
  },
  {
   "cell_type": "markdown",
   "id": "910ab997",
   "metadata": {},
   "source": [
    "#### 22. Implement a program to determine the type of a triangle based on its angles."
   ]
  },
  {
   "cell_type": "code",
   "execution_count": 18,
   "id": "354bb4bd",
   "metadata": {},
   "outputs": [
    {
     "name": "stdout",
     "output_type": "stream",
     "text": [
      "enter angle134\n",
      "obtuse angled triangle\n"
     ]
    }
   ],
   "source": [
    "angle=int(input(\"enter angle\"))\n",
    "if(angle>=180):\n",
    "    print(\"Invalid entry\")\n",
    "elif(angle==90):\n",
    "    print(\"right angled traingle\")\n",
    "elif(angle>90):\n",
    "    print(\"obtuse angled triangle\")\n",
    "else:\n",
    "    print(\"acute angled triangle\")"
   ]
  },
  {
   "cell_type": "markdown",
   "id": "c8863339",
   "metadata": {},
   "source": [
    "#### 23. Develop a program to categorize a given person's BMI into underweight, normal, overweight, or obese "
   ]
  },
  {
   "cell_type": "code",
   "execution_count": 19,
   "id": "a217c865",
   "metadata": {},
   "outputs": [
    {
     "name": "stdout",
     "output_type": "stream",
     "text": [
      "enter the bmi34\n",
      "obsese\n"
     ]
    }
   ],
   "source": [
    "bmi=float(input(\"enter the bmi\"))\n",
    "if(bmi<18.5):\n",
    "    print(\"Underwight\")\n",
    "elif(bmi>=18.5 and bmi<=24.9):\n",
    "    print(\"Normal Weight\")\n",
    "elif(bmi>=25 and bmi<29.9):\n",
    "    print(\"Overweight\")\n",
    "else:\n",
    "    print(\"obsese\")\n"
   ]
  },
  {
   "cell_type": "markdown",
   "id": "45a5cea3",
   "metadata": {},
   "source": [
    "#### 24. Create a program that determines whether a given number is positive, negative, or zero using elif"
   ]
  },
  {
   "cell_type": "code",
   "execution_count": 20,
   "id": "df5795f8",
   "metadata": {},
   "outputs": [
    {
     "name": "stdout",
     "output_type": "stream",
     "text": [
      "enter the number4\n",
      "4 is a positive number\n"
     ]
    }
   ],
   "source": [
    "a=int(input(\"enter the number\"))\n",
    "if(a==0):\n",
    "    print(f\"{a} is zero\")\n",
    "elif(a>0):\n",
    "    print(f'{a} is a positive number')\n",
    "else:\n",
    "    print(f'{a} is negative number')"
   ]
  },
  {
   "cell_type": "markdown",
   "id": "58ce8b84",
   "metadata": {},
   "source": [
    "#### 25. Write a Python script to determine the type of a character (uppercase, lowercase, or special) using elif statements."
   ]
  },
  {
   "cell_type": "code",
   "execution_count": 22,
   "id": "7523bd87",
   "metadata": {},
   "outputs": [
    {
     "name": "stdout",
     "output_type": "stream",
     "text": [
      "enter the charactersid\n",
      "please enter single letter\n",
      "enter the characters\n",
      "you entered s\n",
      "s is lower\n"
     ]
    }
   ],
   "source": [
    "while True:\n",
    "    a=input(\"enter the character\")\n",
    "    if(len(a)==1):\n",
    "        break\n",
    "    else:\n",
    "        print(\"please enter single letter\")\n",
    "print(f\"you entered {a}\")\n",
    "if(a.islower()):\n",
    "    print(f\"{a} is lower\")\n",
    "elif(a.isupper()):\n",
    "    print(f\"{a} is upper\")\n",
    "else:\n",
    "    print(\"other than lower and upper case\")"
   ]
  },
  {
   "cell_type": "markdown",
   "id": "0158281d",
   "metadata": {},
   "source": [
    "#### 26. Implement a program to calculate the discounted price based on different purchase amounts using elif statements."
   ]
  },
  {
   "cell_type": "code",
   "execution_count": 25,
   "id": "d6204772",
   "metadata": {},
   "outputs": [
    {
     "name": "stdout",
     "output_type": "stream",
     "text": [
      "enter the amount567\n",
      "no discount applicable\n"
     ]
    }
   ],
   "source": [
    "amount=int(input(\"enter the amount\"))\n",
    "if(amount<1000):\n",
    "    print(\"no discount applicable\")\n",
    "elif(amount==5000):\n",
    "    print(\"you will not get discount so amount is\",amount)\n",
    "elif(amount>=5001 and amount<=10000):\n",
    "    dis=(amount-50001)*0.1*amount\n",
    "    print(\"you will get the 10% discount so amount is \",dis)\n",
    "elif(amount>=10000 and amount<=20000):\n",
    "    dis=(amount-10000)*0.2*amount\n",
    "    print(\"you will get the 20% discount so amount is \",dis)\n",
    "elif(amount>20000 and amount<=30000):\n",
    "    dis=(amount-20000)*0.3*amount\n",
    "    print(\"you will get the 30% discount so amount is \",dis)\n",
    "else:\n",
    "    dis=(amount-30000)*0.4*amount\n",
    "    print(\"you will get the 40% discount so amount is \",dis)\n",
    "    \n",
    "    \n"
   ]
  },
  {
   "cell_type": "markdown",
   "id": "0f361b01",
   "metadata": {},
   "source": [
    "#### 27. Develop a program to calculate the electricity bill based on different consumption slabs using elif statements."
   ]
  },
  {
   "cell_type": "code",
   "execution_count": 26,
   "id": "2eaa713e",
   "metadata": {},
   "outputs": [
    {
     "name": "stdout",
     "output_type": "stream",
     "text": [
      "Enter the electricity consumption (in kWh): 890\n",
      "Electricity Bill: rs375.00\n"
     ]
    }
   ],
   "source": [
    "consumption = float(input(\"Enter the electricity consumption (in kWh): \"))\n",
    "slab1_rate = 0.2  \n",
    "slab2_rate = 0.3  \n",
    "slab3_rate = 0.5  \n",
    "bill = 0.0\n",
    "if consumption <= 100:\n",
    "    bill = consumption * slab1_rate\n",
    "elif consumption <= 300:\n",
    "    bill = 100 * slab1_rate + (consumption - 100) * slab2_rate\n",
    "else:\n",
    "    bill = 100 * slab1_rate + 200 * slab2_rate + (consumption - 300) * slab3_rate\n",
    "print(f\"Electricity Bill: rs{bill:.2f}\")\n"
   ]
  },
  {
   "cell_type": "markdown",
   "id": "95637c76",
   "metadata": {},
   "source": [
    "#### 28. Create a program to determine the type of quadrilateral based on its angles and sides using elif statements."
   ]
  },
  {
   "cell_type": "code",
   "execution_count": 43,
   "id": "04172dbc",
   "metadata": {},
   "outputs": [
    {
     "name": "stdout",
     "output_type": "stream",
     "text": [
      "Enter the first angle in degrees: 90\n",
      "Enter the second angle in degrees: 90\n",
      "Enter the third angle in degrees: 90\n",
      "Enter the fourth angle in degrees: 90\n",
      "Enter the length of the first side: 2\n",
      "Enter the length of the second side: 2\n",
      "Enter the length of the third side: 2\n",
      "Enter the length of the fourth side: 2\n",
      "It's a square.\n"
     ]
    }
   ],
   "source": [
    "# Input angles and sides\n",
    "angle1 = float(input(\"Enter the first angle in degrees: \"))\n",
    "angle2 = float(input(\"Enter the second angle in degrees: \"))\n",
    "angle3 = float(input(\"Enter the third angle in degrees: \"))\n",
    "angle4 = float(input(\"Enter the fourth angle in degrees: \"))\n",
    "\n",
    "side1 = float(input(\"Enter the length of the first side: \"))\n",
    "side2 = float(input(\"Enter the length of the second side: \"))\n",
    "side3 = float(input(\"Enter the length of the third side: \"))\n",
    "side4 = float(input(\"Enter the length of the fourth side: \"))\n",
    "\n",
    "# Check if it's a valid quadrilateral\n",
    "if angle1 + angle2 + angle3 + angle4 == 360 and side1 > 0 and side2 > 0 and side3 > 0 and side4 > 0:\n",
    "    # Check for specific quadrilateral types\n",
    "    if angle1 == angle2 == angle3 == angle4 == 90:\n",
    "        if side1 == side2 == side3 == side4:\n",
    "            print(\"It's a square.\")\n",
    "        else:\n",
    "            print(\"It's a rectangle.\")\n",
    "    elif side1 == side2 == side3 == side4:\n",
    "        if angle1 == angle2 == angle3 == angle4:\n",
    "            print(\"It's a rhombus.\")\n",
    "        else:\n",
    "            print(\"It's a parallelogram.\")\n",
    "    else:\n",
    "        print(\"It's a general quadrilateral.\")\n",
    "else:\n",
    "    print(\"Invalid input. Not a quadrilateral.\")\n"
   ]
  },
  {
   "cell_type": "markdown",
   "id": "e76e1e60",
   "metadata": {},
   "source": [
    "#### 29. Write a Python script to determine the season based on a user-provided month using elif statements."
   ]
  },
  {
   "cell_type": "code",
   "execution_count": 27,
   "id": "bf608396",
   "metadata": {},
   "outputs": [
    {
     "name": "stdout",
     "output_type": "stream",
     "text": [
      "enter monthjanuary\n",
      "season is winter\n"
     ]
    }
   ],
   "source": [
    "month=input(\"enter month\")[0:3].lower().strip()\n",
    "moths=['jan','feb','mar','apr','may','jun','jul','aug','sep','oct','nov','dec']\n",
    "winter=['oct','nov','dec','jan']\n",
    "summer=['feb','mar','apr','may']\n",
    "monsoon=['jun','jul','aug','sept']\n",
    "if(month in winter):\n",
    "    print(\"season is winter\")\n",
    "elif(month in summer):\n",
    "    print(\"season is summer\")\n",
    "else:\n",
    "    print(\"season is monsoon\")\n",
    "\n"
   ]
  },
  {
   "cell_type": "markdown",
   "id": "0e39c0e7",
   "metadata": {},
   "source": [
    "#### 30. Implement a program to determine the type of a year (leap or common) and month (30 or 31 days) using elif statements."
   ]
  },
  {
   "cell_type": "code",
   "execution_count": 28,
   "id": "01b0fa86",
   "metadata": {},
   "outputs": [
    {
     "name": "stdout",
     "output_type": "stream",
     "text": [
      "enter the year2000\n",
      "enter the month12\n",
      "year 2000 is not a leap and days in the month are 30/31\n"
     ]
    }
   ],
   "source": [
    "year=int(input(\"enter the year\"))\n",
    "month=int(input(\"enter the month\"))\n",
    "\n",
    "if((year%4==0 and year%100!=0) or year%400==0):\n",
    "    if(month==2):\n",
    "        print(\"year {} is leap and days in the month are 29\".format(year))\n",
    "    elif(month in (1,3,4,5,6,7,8,9,10,11,12)):\n",
    "        print(\"year {} is not a leap and days in the month are 30/31\".format(year))\n",
    "else:\n",
    "    print(\"year {} is not leap\".format(year))\n",
    "    if(month==2):\n",
    "        print(\"year {} is not leap and days in the month are 29\".format(year))\n",
    "    elif(month in (1,3,4,5,6,7,8,9,10,11,12)):\n",
    "        print(\"year {} is not a leap and days in the month are 30/31\".format(year))\n",
    "    "
   ]
  },
  {
   "cell_type": "markdown",
   "id": "f84bea2f",
   "metadata": {},
   "source": [
    "#### 1. Write a Python function to calculate the absolute value of a number without using the `abs()` functio"
   ]
  },
  {
   "cell_type": "code",
   "execution_count": 29,
   "id": "9e117022",
   "metadata": {},
   "outputs": [
    {
     "name": "stdout",
     "output_type": "stream",
     "text": [
      "enter the number34\n",
      "34\n"
     ]
    }
   ],
   "source": [
    "a=int(input(\"enter the number\"))\n",
    "if(a<0):\n",
    "    print(-1*a)\n",
    "else:\n",
    "    print(a)"
   ]
  },
  {
   "cell_type": "markdown",
   "id": "97d4f653",
   "metadata": {},
   "source": [
    "#### 2 .Develop a program that calculates the factorial of a given number using recursion."
   ]
  },
  {
   "cell_type": "code",
   "execution_count": 30,
   "id": "c3ee265b",
   "metadata": {},
   "outputs": [],
   "source": [
    "def fact(n):\n",
    "    if(n<=1):\n",
    "        return n\n",
    "    else:\n",
    "        return n*fact(n-1)"
   ]
  },
  {
   "cell_type": "code",
   "execution_count": 31,
   "id": "211658d7",
   "metadata": {},
   "outputs": [
    {
     "data": {
      "text/plain": [
       "120"
      ]
     },
     "execution_count": 31,
     "metadata": {},
     "output_type": "execute_result"
    }
   ],
   "source": [
    "fact(5)"
   ]
  },
  {
   "cell_type": "markdown",
   "id": "f040786b",
   "metadata": {},
   "source": [
    "#### 3. Create a program that simulates a basic ATM transaction menu."
   ]
  },
  {
   "cell_type": "code",
   "execution_count": 32,
   "id": "8241d630",
   "metadata": {},
   "outputs": [
    {
     "name": "stdout",
     "output_type": "stream",
     "text": [
      "welcome to the ATM!\n",
      "plese swipe the card\n",
      "please enter the pin1234\n",
      "user successfully logged in\n",
      "enter the choice 1. Account information,2.Cash withdrawl,3.Cash deposit,4.Exit1\n",
      "your account has 10000 rs\n",
      "enter the choice 1. Account information,2.Cash withdrawl,3.Cash deposit,4.Exit2\n",
      "enter amount to withdraw2000\n",
      "your current balence is 8000\n",
      "enter the choice 1. Account information,2.Cash withdrawl,3.Cash deposit,4.Exit2\n",
      "enter amount to withdraw40000\n",
      "account balence is not sufficient\n",
      "enter the choice 1. Account information,2.Cash withdrawl,3.Cash deposit,4.Exit2\n",
      "enter amount to withdraw2000\n",
      "your current balence is 8000\n",
      "enter the choice 1. Account information,2.Cash withdrawl,3.Cash deposit,4.Exit4\n",
      "thanks for visiting us\n"
     ]
    }
   ],
   "source": [
    "print(\"welcome to the ATM!\")\n",
    "print(\"plese swipe the card\")\n",
    "pin=1234\n",
    "pin1=int(input(\"please enter the pin\"))\n",
    "if(pin==pin1):\n",
    "        print(\"user successfully logged in\")\n",
    "while True:\n",
    "    \n",
    "        choice=int(input(\"enter the choice 1. Account information,2.Cash withdrawl,3.Cash deposit,4.Exit\"))\n",
    "        if(choice==1):\n",
    "            print(\"your account has 10000 rs\")\n",
    "        elif(choice==2):\n",
    "            amount=int(input(\"enter amount to withdraw\"))\n",
    "            if(amount>10000):\n",
    "                print(\"account balence is not sufficient\")\n",
    "            else:\n",
    "                amount1=10000-amount\n",
    "                print(\"your current balence is\",(amount1))\n",
    "        elif(choice==3):\n",
    "            amount=int(input(\"enter amount to deposit\"))\n",
    "            amount2=amount+amount1\n",
    "            print(\"your current balence is\",(amount2))\n",
    "        elif(choice==4):\n",
    "            print(\"thanks for visiting us\")\n",
    "            break\n",
    "        "
   ]
  },
  {
   "cell_type": "markdown",
   "id": "77cb9875",
   "metadata": {},
   "source": [
    "#### 4. Write a program that calculates the average of a list of numbers, excluding the smallest and largest values."
   ]
  },
  {
   "cell_type": "code",
   "execution_count": 33,
   "id": "5da72bd2",
   "metadata": {},
   "outputs": [
    {
     "name": "stdout",
     "output_type": "stream",
     "text": [
      "[1, 7, 8, 9, 23, 45, 56, 67]\n",
      "16.5\n"
     ]
    }
   ],
   "source": [
    "l=[1,23,45,67,56,7,8,9]\n",
    "l.sort()\n",
    "print(l)\n",
    "sum1=0\n",
    "for i in range(1,len(l)-1):\n",
    "    sum1=sum1+l[i]\n",
    "print(sum1/len(l)-2)\n",
    "    \n",
    "\n",
    "    "
   ]
  },
  {
   "cell_type": "markdown",
   "id": "34afd66d",
   "metadata": {},
   "source": [
    "#### 4. Write a program that determines the roots of a cubic equation using the Cardano formula.\n"
   ]
  },
  {
   "cell_type": "code",
   "execution_count": 37,
   "id": "8747af81",
   "metadata": {},
   "outputs": [
    {
     "name": "stdout",
     "output_type": "stream",
     "text": [
      "^C\n"
     ]
    }
   ],
   "source": [
    "!pip install cardano-method\n"
   ]
  },
  {
   "cell_type": "code",
   "execution_count": 35,
   "id": "bf59103b",
   "metadata": {},
   "outputs": [
    {
     "name": "stdout",
     "output_type": "stream",
     "text": [
      "[(0.52138+0j), (-1.76069+0.857873j), (-1.76069-0.857873j)]\n"
     ]
    }
   ],
   "source": [
    "from cardano_method import CubicEquation\n",
    "\n",
    "a = CubicEquation([1, 3, 2, -2])\n",
    "\n",
    "print(a.answers)\n"
   ]
  },
  {
   "cell_type": "markdown",
   "id": "2fee6be2",
   "metadata": {},
   "source": [
    "## Advanced Level:"
   ]
  },
  {
   "cell_type": "markdown",
   "id": "63bcb68f",
   "metadata": {},
   "source": [
    "#### 21. Create a program that calculates the income tax based on the user's income and tax brackets."
   ]
  },
  {
   "cell_type": "code",
   "execution_count": 40,
   "id": "25930e40",
   "metadata": {},
   "outputs": [
    {
     "name": "stdout",
     "output_type": "stream",
     "text": [
      "enter  your income2000000\n",
      "you need to pay 600000.0\n"
     ]
    }
   ],
   "source": [
    "income=int(input(\"enter  your income\"))\n",
    "if(income<250000):\n",
    "    print(\"NIL\")\n",
    "elif(500000>income and income>250000):\n",
    "    print(\"you need to pay \",income*0.05)\n",
    "elif(1000000>income and income>500000):\n",
    "    print(\"you need to pay\",income*0.2)\n",
    "else:\n",
    "    print(\"you need to pay\",income*0.3)\n",
    "    "
   ]
  },
  {
   "cell_type": "markdown",
   "id": "cac3cb71",
   "metadata": {},
   "source": [
    "#### 22. Write a program that simulates a rock-paper-scissors game against the computer."
   ]
  },
  {
   "cell_type": "code",
   "execution_count": 36,
   "id": "ec4b86ee",
   "metadata": {},
   "outputs": [
    {
     "name": "stdout",
     "output_type": "stream",
     "text": [
      "play rock paper scissor game\n",
      "you want to play game again\n",
      "y:yes,n:Noy\n",
      "enter choice 0. Rock, 1.paper ,2.Scissors1\n",
      "user entered:\n",
      "paper\n",
      "computer entered:\n",
      "rock\n",
      "user win\n",
      "you want to play game again\n",
      "y:yes,n:Noy\n",
      "enter choice 0. Rock, 1.paper ,2.Scissors2\n",
      "user entered:\n",
      "scissors\n",
      "computer entered:\n",
      "rock\n",
      "user win\n",
      "you want to play game again\n",
      "y:yes,n:Non\n",
      "thanks for playing, good bye\n"
     ]
    }
   ],
   "source": [
    "print(\"play rock paper scissor game\")\n",
    "import random\n",
    "\n",
    "def rock_paper_scissors():\n",
    "    user_points=0\n",
    "    computer_points=0\n",
    "    choices=[\"rock\",'paper','scissors']\n",
    "    user_choice=int(input(\"enter choice 0. Rock, 1.paper ,2.Scissors\"))\n",
    "    computer_choice=random.randint(0,2)\n",
    "    print(\"user entered:\")\n",
    "    print(choices[user_choice])\n",
    "    print(\"computer entered:\")\n",
    "    print(choices[computer_choice])\n",
    "    if(user_choice==computer_choice):\n",
    "                print(\"draw the game\")\n",
    "\n",
    "    elif(user_choice==3):\n",
    "                print(\"exit\")\n",
    "\n",
    "    elif(computer_choice>user_choice):\n",
    "                print(\"compuer win\")\n",
    "    elif(user_choice>computer_choice):\n",
    "                print('user win')\n",
    "    elif(user_choice==0 and computer_choice==2):\n",
    "                print(\"user win\")\n",
    "\n",
    "    elif(user_choice==2 and computer_choice==0):\n",
    "                print(\"computer win\")\n",
    "            \n",
    "while(True):\n",
    "    print(\"you want to play game again\")\n",
    "    choice=(input(\"y:yes,n:No\"))\n",
    "    if(choice=='y' or choice=='yes'):\n",
    "        rock_paper_scissors()\n",
    "    else:\n",
    "        print(\"thanks for playing, good bye\")\n",
    "        break\n",
    "        \n",
    "        \n",
    "\n",
    "\n"
   ]
  },
  {
   "cell_type": "markdown",
   "id": "55c69232",
   "metadata": {},
   "source": [
    "#### 23. Develop a program that generates a random password based on user preferences (length, complexity)."
   ]
  },
  {
   "cell_type": "code",
   "execution_count": 66,
   "id": "e42f71bd",
   "metadata": {},
   "outputs": [
    {
     "name": "stdout",
     "output_type": "stream",
     "text": [
      "how many character should be there in password?2\n",
      "how many numericals should be there in password?2\n",
      "how many symbols should be there in passsword?2\n",
      "W V6$7$\n"
     ]
    }
   ],
   "source": [
    "import random\n",
    "\n",
    "alphabtes=[\"A\",'B','C','D','E','F','G','H','I','J','K','L','M','N','O','P','Q','R','S','T','U','V','W','X','Y','Z']\n",
    "numbers=[0,1,2,3,4,5,6,7,8,9]\n",
    "symbols=[\"#\",'@',\"$\",\"*\",\"&\",\"%\"]\n",
    "alpahbet_size=int(input(\"how many character should be there in password?\"))\n",
    "numbers_size=int(input(\"how many numericals should be there in password?\"))\n",
    "symbols_size=int(input(\"how many symbols should be there in passsword?\"))\n",
    "password=' '\n",
    "for i in range(alpahbet_size):\n",
    "    ran_val=random.choice(alphabtes)\n",
    "    password=password+ran_val\n",
    "    \n",
    "for i in range(numbers_size):\n",
    "    ran_val=random.choice(numbers)\n",
    "    password=password+str(ran_val)\n",
    "    \n",
    "for i in range(symbols_size):\n",
    "    ran_val=random.choice(symbols)\n",
    "    password=password+str(ran_val)\n",
    "l=list(password)\n",
    "random.shuffle(l)\n",
    "final_password=''.join(l)\n",
    "print(final_password)\n",
    "    "
   ]
  },
  {
   "cell_type": "markdown",
   "id": "c974da0b",
   "metadata": {},
   "source": [
    "#### 24. Create a program that implements a simple text-based adventure game with branching scenarios."
   ]
  },
  {
   "cell_type": "code",
   "execution_count": 78,
   "id": "287fd709",
   "metadata": {},
   "outputs": [
    {
     "name": "stdout",
     "output_type": "stream",
     "text": [
      "welcome to adventure game!\n",
      "would you like to play the game?yes\n",
      "let's go !!!\n",
      "where do you want to go either to left or right?left\n",
      "you chose the wrong path now do you want to run or attack against devil??\n",
      "either run or attack?attack\n",
      "you chose the wrong path, you will die now, GAME OVER!!\n"
     ]
    }
   ],
   "source": [
    "import random\n",
    "print(\"welcome to adventure game!\")\n",
    "answer=input(\"would you like to play the game?\").lower().strip()\n",
    "if(answer=='yes'):\n",
    "    print(\"let's go !!!\")\n",
    "    direction=input(\"where do you want to go either to left or right?\").lower().strip()\n",
    "    if(direction=='right'):\n",
    "        print(\"you made the right choice !hureeey!!\")\n",
    "        print(\"what do you want eat hero??\")\n",
    "        food=input(\"enter food item\")\n",
    "        food_list=['beet root','carrot','vegetable','oninon']\n",
    "        if(food in food_list):\n",
    "                print(\"you will get the food {}\".format(food))\n",
    "        else:\n",
    "                print(\"don't demand kuch bhi. you will get {}\".format(random.choice(food_list)))\n",
    "    else:\n",
    "        print(\"you chose the wrong path now do you want to run or attack against devil??\")\n",
    "        choice=input(\"either run or attack?\")\n",
    "        if(choice=='attack'):\n",
    "            print(\"you chose the wrong path, you will die now, GAME OVER!!\")\n",
    "        else:\n",
    "            print(\"you took right decision go and run away and save yourself\")\n",
    "else:\n",
    "    print(\"once try a game !\")"
   ]
  },
  {
   "cell_type": "markdown",
   "id": "1af8a534",
   "metadata": {},
   "source": [
    "#### 25. Build a program that solves a linear equation for x, considering different cases."
   ]
  },
  {
   "cell_type": "code",
   "execution_count": 79,
   "id": "7d7f4c32",
   "metadata": {},
   "outputs": [
    {
     "name": "stdout",
     "output_type": "stream",
     "text": [
      "Enter the coefficient 'a': 2\n",
      "Enter the coefficient 'b': 3\n",
      "Solution for x: -1.5\n"
     ]
    }
   ],
   "source": [
    "def solve_linear_equation(a, b):\n",
    "    if a == 0:\n",
    "        if b == 0:\n",
    "            return \"Infinite solutions (identity equation)\"\n",
    "        else:\n",
    "            return \"No solution (contradictory equation)\"\n",
    "    else:\n",
    "        x = -b / a\n",
    "        return x\n",
    "a = float(input(\"Enter the coefficient 'a': \"))\n",
    "b = float(input(\"Enter the coefficient 'b': \"))\n",
    "\n",
    "solution = solve_linear_equation(a, b)\n",
    "\n",
    "print(\"Solution for x:\", solution)\n"
   ]
  },
  {
   "cell_type": "markdown",
   "id": "9c89287b",
   "metadata": {},
   "source": [
    "#### 26. Write a program that simulates a basic quiz game with multiple-choice questions and scoring."
   ]
  },
  {
   "cell_type": "code",
   "execution_count": 81,
   "id": "98e38924",
   "metadata": {},
   "outputs": [
    {
     "name": "stdout",
     "output_type": "stream",
     "text": [
      "Welcome to the Simple Quiz Game!\n",
      "You will have 1 chance to answer correctly. \n",
      "Please put the alphabet of the answer\n",
      "\n",
      "1) Who is known as father of indian nevy?\n",
      "(a) chpt.Shivaji Maharaj\n",
      "(b) Chandragupa maurya\n",
      "(c) mahatma gandhi\n",
      "(d) None of the above\n",
      "\n",
      " \n",
      "Answer: a\n",
      "Correct! Good Job.\n",
      "\n",
      "1) when maharashtra day is celebrated?\n",
      "(a) July 4\n",
      "(b) June 2\n",
      "(c) May 1\n",
      "(d) August 3\n",
      "\n",
      " \n",
      "Answer: c\n",
      "Correct! Good Job.\n",
      "\n",
      "your score is 2\n"
     ]
    }
   ],
   "source": [
    "import time\n",
    "print(\"Welcome to the Simple Quiz Game!\")\n",
    "time.sleep(1)\n",
    "chances = 1\n",
    "print(\"You will have\", chances, \"chance to answer correctly. \\nPlease put the alphabet of the answer\\n\")\n",
    "time.sleep(2)\n",
    "score = 0\n",
    "question_1 = print(\"1) Who is known as father of indian nevy?\\n(a) chpt.Shivaji Maharaj\\n(b) Chandragupa maurya\\n(c) mahatma gandhi\\n(d) None of the above\\n\\n \")\n",
    "answer_1 = \"a\"\n",
    "\n",
    "for i in range(chances):\n",
    "    answer = input(\"Answer: \")\n",
    "    if (answer.lower() == answer_1):\n",
    "        print(\"Correct! Good Job.\\n\")\n",
    "        score = score + 1\n",
    "        break\n",
    "    else:\n",
    "        print(\"Incorrect!\\n\")\n",
    "        time.sleep(0.5)\n",
    "        print(\"The correct answer is\", answer_1, \"\\n\\n\")\n",
    "\n",
    "question_1 = print(\"1) when maharashtra day is celebrated?\\n(a) July 4\\n(b) June 2\\n(c) May 1\\n(d) August 3\\n\\n \")\n",
    "answer_1 = \"c\"\n",
    "for i in range(chances):\n",
    "    answer = input(\"Answer: \")\n",
    "    if (answer.lower() == answer_1):\n",
    "        print(\"Correct! Good Job.\\n\")\n",
    "        score = score + 1\n",
    "        print(\"your score is\",score)\n",
    "        break\n",
    "    else:\n",
    "        print(\"Incorrect!\\n\")\n",
    "        time.sleep(0.5)\n",
    "        print(\"The correct answer is\", answer_1, \"\\n\\n\")\n"
   ]
  },
  {
   "cell_type": "markdown",
   "id": "09db5150",
   "metadata": {},
   "source": [
    "####  Create a program that validates a password based on complexity rules (length, characters, etc.)."
   ]
  },
  {
   "cell_type": "code",
   "execution_count": 82,
   "id": "72328e84",
   "metadata": {},
   "outputs": [
    {
     "name": "stdout",
     "output_type": "stream",
     "text": [
      "Enter a password: Shreya@2350\n",
      "Password is valid.\n"
     ]
    }
   ],
   "source": [
    "import re\n",
    "\n",
    "def is_valid_password(password):\n",
    "    min_length = 8\n",
    "    requires_uppercase = True\n",
    "    requires_lowercase = True\n",
    "    requires_digit = True\n",
    "    requires_special_char = True\n",
    "    special_characters = \"!@#$%^&*()_-+=<>?/[]{}|\"\n",
    "    if len(password) < min_length:\n",
    "        return False\n",
    "    if requires_uppercase and not re.search(r'[A-Z]', password):\n",
    "        return False\n",
    "    if requires_lowercase and not re.search(r'[a-z]', password):\n",
    "        return False\n",
    "    if requires_digit and not re.search(r'[0-9]', password):\n",
    "        return False\n",
    "    if requires_special_char and not any(char in special_characters for char in password):\n",
    "        return False\n",
    "    return True\n",
    "\n",
    "# Input a password to validate\n",
    "password = input(\"Enter a password: \")\n",
    "\n",
    "# Validate the password\n",
    "if is_valid_password(password):\n",
    "    print(\"Password is valid.\")\n",
    "else:\n",
    "    print(\"Password is invalid.\")\n"
   ]
  },
  {
   "cell_type": "markdown",
   "id": "cb0c369b",
   "metadata": {},
   "source": [
    "#### Develop a program that performs matrix addition and subtraction based on user input."
   ]
  },
  {
   "cell_type": "code",
   "execution_count": 96,
   "id": "e0c7d29d",
   "metadata": {},
   "outputs": [
    {
     "name": "stdout",
     "output_type": "stream",
     "text": [
      "enter element1\n",
      "enter element2\n",
      "enter element3\n",
      "enter element4\n",
      "1 2 \n",
      "3 4 \n",
      "enter element2\n",
      "enter element3\n",
      "enter element1\n",
      "enter element4\n",
      "2 3 \n",
      "1 4 \n",
      "addition of 2 matrices is [3, 5, 4, 8]\n",
      "substraction of 2 matrices is [-1, -1, 2, 0]\n"
     ]
    }
   ],
   "source": [
    "mat1=[]\n",
    "for i in range(2):\n",
    "    a=[]\n",
    "    for j in range(2):\n",
    "        inp=int(input(\"enter element\"))\n",
    "        a.append(inp)\n",
    "    mat1.append(a)\n",
    "for i in range(2):\n",
    "    for j in range(2):\n",
    "        print(mat1[i][j], end = \" \")\n",
    "    print()\n",
    "mat2=[]\n",
    "for i in range(2):\n",
    "    a=[]\n",
    "    for j in range(2):\n",
    "        inp=int(input(\"enter element\"))\n",
    "        a.append(inp)\n",
    "    mat2.append(a)\n",
    "for i in range(2):\n",
    "    for j in range(2):\n",
    "        print(mat2[i][j], end = \" \")\n",
    "    print()\n",
    "res=[]   \n",
    "res2=[]\n",
    "if(len(mat1)==len(mat2)):\n",
    "    for i in range(len(mat1)):\n",
    "        for j in range(len(mat2)):\n",
    "            res.append(mat1[i][j]+mat2[i][j])\n",
    "            res2.append(mat1[i][j]-mat2[i][j])\n",
    "\n",
    "print(\"addition of 2 matrices is\",res)\n",
    "print(\"substraction of 2 matrices is\",res2)\n",
    "        \n",
    "        \n",
    "        \n"
   ]
  },
  {
   "cell_type": "markdown",
   "id": "4d2d021e",
   "metadata": {},
   "source": [
    "####  Write a program that calculates the greatest common divisor (GCD) of two numbers using the Euclidean algorithm."
   ]
  },
  {
   "cell_type": "code",
   "execution_count": 97,
   "id": "22af8218",
   "metadata": {},
   "outputs": [
    {
     "name": "stdout",
     "output_type": "stream",
     "text": [
      "Enter the first number: 2\n",
      "Enter the second number: 4\n",
      "The GCD of 2 and 4 is 2\n"
     ]
    }
   ],
   "source": [
    "def euclidean_gcd(a, b):\n",
    "    while b:\n",
    "        a, b = b, a % b\n",
    "    return a\n",
    "num1 = int(input(\"Enter the first number: \"))\n",
    "num2 = int(input(\"Enter the second number: \"))\n",
    "gcd = euclidean_gcd(num1, num2)\n",
    "print(f\"The GCD of {num1} and {num2} is {gcd}\")\n"
   ]
  },
  {
   "cell_type": "markdown",
   "id": "9e0a4277",
   "metadata": {},
   "source": [
    "#### Build a program that performs matrix multiplication using nested loops and conditional statements."
   ]
  },
  {
   "cell_type": "code",
   "execution_count": 98,
   "id": "d7cc81f8",
   "metadata": {},
   "outputs": [
    {
     "name": "stdout",
     "output_type": "stream",
     "text": [
      "enter element1\n",
      "enter element2\n",
      "enter element3\n",
      "enter element4\n",
      "1 2 \n",
      "3 4 \n",
      "enter element2\n",
      "enter element1\n",
      "enter element3\n",
      "enter element4\n",
      "2 1 \n",
      "3 4 \n",
      "addition of 2 matrices is [2, 2, 9, 16]\n"
     ]
    }
   ],
   "source": [
    "mat1=[]\n",
    "for i in range(2):\n",
    "    a=[]\n",
    "    for j in range(2):\n",
    "        inp=int(input(\"enter element\"))\n",
    "        a.append(inp)\n",
    "    mat1.append(a)\n",
    "for i in range(2):\n",
    "    for j in range(2):\n",
    "        print(mat1[i][j], end = \" \")\n",
    "    print()\n",
    "mat2=[]\n",
    "for i in range(2):\n",
    "    a=[]\n",
    "    for j in range(2):\n",
    "        inp=int(input(\"enter element\"))\n",
    "        a.append(inp)\n",
    "    mat2.append(a)\n",
    "for i in range(2):\n",
    "    for j in range(2):\n",
    "        print(mat2[i][j], end = \" \")\n",
    "    print()\n",
    "res=[]   \n",
    "if(len(mat1)==len(mat2)):\n",
    "    for i in range(len(mat1)):\n",
    "        for j in range(len(mat2)):\n",
    "            res.append(mat1[i][j]*mat2[i][j])\n",
    "            \n",
    "\n",
    "print(\"addition of 2 matrices is\",res)"
   ]
  },
  {
   "cell_type": "markdown",
   "id": "4dcd1cbc",
   "metadata": {},
   "source": [
    "#### Write a program that generates Fibonacci numbers up to a specified term using iterative methods."
   ]
  },
  {
   "cell_type": "code",
   "execution_count": 99,
   "id": "6964b51b",
   "metadata": {},
   "outputs": [],
   "source": [
    "def fib(n):\n",
    "    a,b=0,1\n",
    "    for i in range(n):\n",
    "        yield a\n",
    "        a,b=b,a+b"
   ]
  },
  {
   "cell_type": "code",
   "execution_count": 100,
   "id": "06df55a7",
   "metadata": {},
   "outputs": [
    {
     "name": "stdout",
     "output_type": "stream",
     "text": [
      "0\n",
      "1\n",
      "1\n",
      "2\n",
      "3\n",
      "5\n",
      "8\n",
      "13\n",
      "21\n",
      "34\n"
     ]
    }
   ],
   "source": [
    "for i in iter(fib(10)):\n",
    "    print(i)"
   ]
  },
  {
   "cell_type": "markdown",
   "id": "c7d40255",
   "metadata": {},
   "source": [
    "####  Develop a program that calculates the nth term of the Fibonacci sequence using memoization."
   ]
  },
  {
   "cell_type": "code",
   "execution_count": 109,
   "id": "f65be9d8",
   "metadata": {},
   "outputs": [],
   "source": [
    "def fib(n):\n",
    "    if(n<=1):\n",
    "        return n\n",
    "    else:\n",
    "        return fib(n-1)+fib(n-2)"
   ]
  },
  {
   "cell_type": "code",
   "execution_count": 108,
   "id": "f93348db",
   "metadata": {},
   "outputs": [
    {
     "data": {
      "text/plain": [
       "3"
      ]
     },
     "execution_count": 108,
     "metadata": {},
     "output_type": "execute_result"
    }
   ],
   "source": [
    "fib(4)"
   ]
  },
  {
   "cell_type": "markdown",
   "id": "4fdb0b56",
   "metadata": {},
   "source": [
    "#### Create a program that generates a calendar for a given month and year using conditional statements."
   ]
  },
  {
   "cell_type": "code",
   "execution_count": 120,
   "id": "9eed37e8",
   "metadata": {},
   "outputs": [
    {
     "name": "stdout",
     "output_type": "stream",
     "text": [
      "Enter the year: 12\n",
      "Enter the month (1-12): 9\n",
      "Calendar for September 12:\n",
      "\n",
      "    September 12\n",
      "Mo Tu We Th Fr Sa Su\n",
      "                1  2\n",
      " 3  4  5  6  7  8  9\n",
      "10 11 12 13 14 15 16\n",
      "17 18 19 20 21 22 23\n",
      "24 25 26 27 28 29 30\n",
      "\n"
     ]
    }
   ],
   "source": [
    "import calendar\n",
    "\n",
    "# Input the year and month\n",
    "year = int(input(\"Enter the year: \"))\n",
    "month = int(input(\"Enter the month (1-12): \"))\n",
    "\n",
    "# Validate input\n",
    "if month < 1 or month > 12:\n",
    "    print(\"Invalid month input. Please enter a month between 1 and 12.\")\n",
    "else:\n",
    "    # Generate the calendar for the specified month and year\n",
    "    cal = calendar.month(year, month)\n",
    "\n",
    "    # Display the calendar\n",
    "    print(f\"Calendar for {calendar.month_name[month]} {year}:\\n\")\n",
    "    print(cal)\n"
   ]
  },
  {
   "cell_type": "markdown",
   "id": "c27807a0",
   "metadata": {},
   "source": [
    "#### Build a program that simulates a basic text-based blackjack game against the computer."
   ]
  },
  {
   "cell_type": "code",
   "execution_count": 42,
   "id": "16a1edab",
   "metadata": {},
   "outputs": [
    {
     "name": "stdout",
     "output_type": "stream",
     "text": [
      "\n",
      "--- Your Hand ---\n",
      "A of Clubs\n",
      "9 of Spades\n",
      "Total Value: 20\n",
      "\n",
      "Do you want to 'hit' or 'stand'? hit\n",
      "\n",
      "--- Your Hand ---\n",
      "A of Clubs\n",
      "9 of Spades\n",
      "3 of Hearts\n",
      "Total Value: 13\n",
      "\n",
      "Do you want to 'hit' or 'stand'? stand\n",
      "\n",
      "--- Computer's Hand ---\n",
      "10 of Hearts\n",
      "4 of Diamonds\n",
      "8 of Spades\n",
      "Total Value: 22\n",
      "Computer busts. You win!\n"
     ]
    }
   ],
   "source": [
    "import random\n",
    "\n",
    "# Function to initialize the deck\n",
    "def initialize_deck():\n",
    "    ranks = ['2', '3', '4', '5', '6', '7', '8', '9', '10', 'J', 'Q', 'K', 'A']\n",
    "    suits = ['Hearts', 'Diamonds', 'Clubs', 'Spades']\n",
    "    deck = [{'rank': rank, 'suit': suit} for rank in ranks for suit in suits]\n",
    "    random.shuffle(deck)\n",
    "    return deck\n",
    "\n",
    "# Function to calculate the value of a hand\n",
    "def calculate_hand_value(hand):\n",
    "    value = 0\n",
    "    num_aces = 0\n",
    "    for card in hand:\n",
    "        rank = card['rank']\n",
    "        if rank.isdigit():\n",
    "            value += int(rank)\n",
    "        elif rank in ['J', 'Q', 'K']:\n",
    "            value += 10\n",
    "        else:  # Ace\n",
    "            value += 11\n",
    "            num_aces += 1\n",
    "    while num_aces > 0 and value > 21:\n",
    "        value -= 10\n",
    "        num_aces -= 1\n",
    "    return value\n",
    "\n",
    "# Function to display a hand\n",
    "def display_hand(hand):\n",
    "    for card in hand:\n",
    "        print(f\"{card['rank']} of {card['suit']}\")\n",
    "\n",
    "# Initialize the deck and deal initial cards\n",
    "deck = initialize_deck()\n",
    "player_hand = [deck.pop(), deck.pop()]\n",
    "computer_hand = [deck.pop(), deck.pop()]\n",
    "\n",
    "# Main game loop\n",
    "while True:\n",
    "    player_value = calculate_hand_value(player_hand)\n",
    "    computer_value = calculate_hand_value(computer_hand)\n",
    "\n",
    "    print(\"\\n--- Your Hand ---\")\n",
    "    display_hand(player_hand)\n",
    "    print(f\"Total Value: {player_value}\")\n",
    "\n",
    "    if player_value == 21:\n",
    "        print(\"Blackjack! You win!\")\n",
    "        break\n",
    "    elif player_value > 21:\n",
    "        print(\"Bust! You lose.\")\n",
    "        break\n",
    "\n",
    "    choice = input(\"\\nDo you want to 'hit' or 'stand'? \").lower()\n",
    "    if choice == 'hit':\n",
    "        player_hand.append(deck.pop())\n",
    "    elif choice == 'stand':\n",
    "        while computer_value < 17:\n",
    "            computer_hand.append(deck.pop())\n",
    "            computer_value = calculate_hand_value(computer_hand)\n",
    "        print(\"\\n--- Computer's Hand ---\")\n",
    "        display_hand(computer_hand)\n",
    "        print(f\"Total Value: {computer_value}\")\n",
    "\n",
    "        if computer_value == 21:\n",
    "            print(\"Computer has Blackjack. You lose!\")\n",
    "        elif computer_value > 21:\n",
    "            print(\"Computer busts. You win!\")\n",
    "        elif computer_value >= player_value:\n",
    "            print(\"Computer wins.\")\n",
    "        else:\n",
    "            print(\"You win!\")\n",
    "        break\n",
    "    else:\n",
    "        print(\"Invalid input. Please enter 'hit' or 'stand'.\")\n",
    "\n",
    "    if len(deck) == 0:\n",
    "        print(\"No more cards in the deck. It's a tie!\")\n",
    "        break\n"
   ]
  },
  {
   "cell_type": "markdown",
   "id": "4126718a",
   "metadata": {},
   "source": [
    "#### Create a program that simulates a basic text-based tic-tac-toe game against the computer."
   ]
  },
  {
   "cell_type": "code",
   "execution_count": 41,
   "id": "2339a973",
   "metadata": {},
   "outputs": [
    {
     "name": "stdout",
     "output_type": "stream",
     "text": [
      " | | \n",
      "-+-+-\n",
      " | | \n",
      "-+-+-\n",
      " | | \n",
      "Enter your move (1-9): 4\n",
      " | | \n",
      "-+-+-\n",
      "X| |O\n",
      "-+-+-\n",
      " | | \n",
      "Enter your move (1-9): 6\n",
      "Invalid move. Try again.\n",
      "Enter your move (1-9): 2\n",
      " |X| \n",
      "-+-+-\n",
      "X|O|O\n",
      "-+-+-\n",
      " | | \n",
      "Enter your move (1-9): 3\n",
      "O|X|X\n",
      "-+-+-\n",
      "X|O|O\n",
      "-+-+-\n",
      " | | \n",
      "Enter your move (1-9): 9\n",
      "O|X|X\n",
      "-+-+-\n",
      "X|O|O\n",
      "-+-+-\n",
      "O| |X\n",
      "Enter your move (1-9): 8\n",
      "O|X|X\n",
      "-+-+-\n",
      "X|O|O\n",
      "-+-+-\n",
      "O|X|X\n",
      "It's a tie!\n"
     ]
    }
   ],
   "source": [
    "import random\n",
    "\n",
    "# Initialize the board\n",
    "board = [' ' for _ in range(9)]\n",
    "\n",
    "# Function to display the Tic-Tac-Toe board\n",
    "def display_board(board):\n",
    "    print(board[0] + '|' + board[1] + '|' + board[2])\n",
    "    print('-+-+-')\n",
    "    print(board[3] + '|' + board[4] + '|' + board[5])\n",
    "    print('-+-+-')\n",
    "    print(board[6] + '|' + board[7] + '|' + board[8])\n",
    "\n",
    "# Function to check for a win\n",
    "def check_win(board, player):\n",
    "    win_combinations = [\n",
    "        [0, 1, 2], [3, 4, 5], [6, 7, 8],\n",
    "        [0, 3, 6], [1, 4, 7], [2, 5, 8],\n",
    "        [0, 4, 8], [2, 4, 6]\n",
    "    ]\n",
    "    for combo in win_combinations:\n",
    "        if board[combo[0]] == board[combo[1]] == board[combo[2]] == player:\n",
    "            return True\n",
    "    return False\n",
    "\n",
    "# Function to check if the board is full\n",
    "def is_board_full(board):\n",
    "    return ' ' not in board\n",
    "\n",
    "# Function for the computer's move\n",
    "def computer_move(board):\n",
    "    # Check if the computer can win\n",
    "    for i in range(9):\n",
    "        if board[i] == ' ':\n",
    "            board[i] = 'O'\n",
    "            if check_win(board, 'O'):\n",
    "                return i\n",
    "            board[i] = ' '\n",
    "\n",
    "    # Check if the player can win, block them\n",
    "    for i in range(9):\n",
    "        if board[i] == ' ':\n",
    "            board[i] = 'X'\n",
    "            if check_win(board, 'X'):\n",
    "                return i\n",
    "            board[i] = ' '\n",
    "\n",
    "    # Choose a random available spot\n",
    "    empty_cells = [i for i in range(9) if board[i] == ' ']\n",
    "    return random.choice(empty_cells)\n",
    "\n",
    "# Main game loop\n",
    "while True:\n",
    "    display_board(board)\n",
    "    \n",
    "    # Player's move\n",
    "    while True:\n",
    "        try:\n",
    "            player_move = int(input(\"Enter your move (1-9): \")) - 1\n",
    "            if 0 <= player_move <= 8 and board[player_move] == ' ':\n",
    "                board[player_move] = 'X'\n",
    "                break\n",
    "            else:\n",
    "                print(\"Invalid move. Try again.\")\n",
    "        except ValueError:\n",
    "            print(\"Invalid input. Enter a number between 1 and 9.\")\n",
    "    \n",
    "    if check_win(board, 'X'):\n",
    "        display_board(board)\n",
    "        print(\"Congratulations! You win!\")\n",
    "        break\n",
    "\n",
    "    if is_board_full(board):\n",
    "        display_board(board)\n",
    "        print(\"It's a tie!\")\n",
    "        break\n",
    "    \n",
    "    # Computer's move\n",
    "    computer_choice = computer_move(board)\n",
    "    board[computer_choice] = 'O'\n",
    "\n",
    "    # Check if the computer wins\n",
    "    if check_win(board, 'O'):\n",
    "        display_board(board)\n",
    "        print(\"Sorry, you lose. The computer wins!\")\n",
    "        break\n"
   ]
  },
  {
   "cell_type": "markdown",
   "id": "6e48f4bb",
   "metadata": {},
   "source": [
    "#### Write a program that generates the prime factors of a given number using trial division."
   ]
  },
  {
   "cell_type": "code",
   "execution_count": 124,
   "id": "a7adce42",
   "metadata": {},
   "outputs": [
    {
     "name": "stdout",
     "output_type": "stream",
     "text": [
      "Enter a number: 45\n",
      "Prime factors of 45 are: [3, 3, 5]\n"
     ]
    }
   ],
   "source": [
    "def prime_factors(n):\n",
    "    factors = []\n",
    "    divisor = 2  # Start with the smallest prime number\n",
    "\n",
    "    while n > 1:\n",
    "        while n % divisor == 0:\n",
    "            factors.append(divisor)\n",
    "            n //= divisor\n",
    "        divisor += 1\n",
    "\n",
    "    return factors\n",
    "num = int(input(\"Enter a number: \"))\n",
    "\n",
    "if num < 2:\n",
    "    print(\"Prime factors are not defined for numbers less than 2.\")\n",
    "else:\n",
    "    factors = prime_factors(num)\n",
    "    print(f\"Prime factors of {num} are: {factors}\")\n"
   ]
  },
  {
   "cell_type": "code",
   "execution_count": null,
   "id": "756e536a",
   "metadata": {},
   "outputs": [],
   "source": []
  }
 ],
 "metadata": {
  "kernelspec": {
   "display_name": "Python 3 (ipykernel)",
   "language": "python",
   "name": "python3"
  },
  "language_info": {
   "codemirror_mode": {
    "name": "ipython",
    "version": 3
   },
   "file_extension": ".py",
   "mimetype": "text/x-python",
   "name": "python",
   "nbconvert_exporter": "python",
   "pygments_lexer": "ipython3",
   "version": "3.10.9"
  }
 },
 "nbformat": 4,
 "nbformat_minor": 5
}
