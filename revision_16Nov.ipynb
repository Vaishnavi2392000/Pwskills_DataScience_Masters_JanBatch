{
 "cells": [
  {
   "cell_type": "code",
   "execution_count": 1,
   "id": "fdf17f95",
   "metadata": {},
   "outputs": [
    {
     "data": {
      "text/plain": [
       "10"
      ]
     },
     "execution_count": 1,
     "metadata": {},
     "output_type": "execute_result"
    }
   ],
   "source": [
    "a=10\n",
    "int(a)"
   ]
  },
  {
   "cell_type": "code",
   "execution_count": 2,
   "id": "4cf582e7",
   "metadata": {},
   "outputs": [
    {
     "data": {
      "text/plain": [
       "str"
      ]
     },
     "execution_count": 2,
     "metadata": {},
     "output_type": "execute_result"
    }
   ],
   "source": [
    "b='sudh'\n",
    "type(b)"
   ]
  },
  {
   "cell_type": "code",
   "execution_count": 4,
   "id": "20617234",
   "metadata": {},
   "outputs": [
    {
     "name": "stdout",
     "output_type": "stream",
     "text": [
      "my name is vaishnavi age is 24\n"
     ]
    }
   ],
   "source": [
    "age=24\n",
    "name='vaishnavi'\n",
    "print(\"my name is\",name,'age is',age)"
   ]
  },
  {
   "cell_type": "code",
   "execution_count": 5,
   "id": "4c783660",
   "metadata": {},
   "outputs": [
    {
     "name": "stdout",
     "output_type": "stream",
     "text": [
      "my name is vaishnavi and age is 24\n"
     ]
    }
   ],
   "source": [
    "print(\"my name is {} and age is {}\".format(name,age))"
   ]
  },
  {
   "cell_type": "code",
   "execution_count": 6,
   "id": "6ae2b8e7",
   "metadata": {},
   "outputs": [
    {
     "name": "stdout",
     "output_type": "stream",
     "text": [
      "my name is vaishnavi and age is 24\n"
     ]
    }
   ],
   "source": [
    "print(f'my name is {name} and age is {age}')"
   ]
  },
  {
   "cell_type": "code",
   "execution_count": 7,
   "id": "1c211fe2",
   "metadata": {},
   "outputs": [
    {
     "data": {
      "text/plain": [
       "'pwskills data science masters course'"
      ]
     },
     "execution_count": 7,
     "metadata": {},
     "output_type": "execute_result"
    }
   ],
   "source": [
    "s1='pwskills data science masters course'\n",
    "s1"
   ]
  },
  {
   "cell_type": "code",
   "execution_count": 8,
   "id": "d5511c75",
   "metadata": {},
   "outputs": [
    {
     "data": {
      "text/plain": [
       "str"
      ]
     },
     "execution_count": 8,
     "metadata": {},
     "output_type": "execute_result"
    }
   ],
   "source": [
    "type(s1)"
   ]
  },
  {
   "cell_type": "code",
   "execution_count": 9,
   "id": "6084f221",
   "metadata": {},
   "outputs": [
    {
     "data": {
      "text/plain": [
       "float"
      ]
     },
     "execution_count": 9,
     "metadata": {},
     "output_type": "execute_result"
    }
   ],
   "source": [
    "f=34.56\n",
    "type(f)"
   ]
  },
  {
   "cell_type": "code",
   "execution_count": 10,
   "id": "879e5548",
   "metadata": {},
   "outputs": [
    {
     "data": {
      "text/plain": [
       "complex"
      ]
     },
     "execution_count": 10,
     "metadata": {},
     "output_type": "execute_result"
    }
   ],
   "source": [
    "g=2+4j\n",
    "type(g)"
   ]
  },
  {
   "cell_type": "code",
   "execution_count": 11,
   "id": "0f83544e",
   "metadata": {},
   "outputs": [
    {
     "data": {
      "text/plain": [
       "(2-4j)"
      ]
     },
     "execution_count": 11,
     "metadata": {},
     "output_type": "execute_result"
    }
   ],
   "source": [
    "g.conjugate()"
   ]
  },
  {
   "cell_type": "code",
   "execution_count": 12,
   "id": "20172d3a",
   "metadata": {},
   "outputs": [
    {
     "data": {
      "text/plain": [
       "4.0"
      ]
     },
     "execution_count": 12,
     "metadata": {},
     "output_type": "execute_result"
    }
   ],
   "source": [
    "g.imag"
   ]
  },
  {
   "cell_type": "code",
   "execution_count": 14,
   "id": "f75610d8",
   "metadata": {},
   "outputs": [
    {
     "data": {
      "text/plain": [
       "2.0"
      ]
     },
     "execution_count": 14,
     "metadata": {},
     "output_type": "execute_result"
    }
   ],
   "source": [
    "g.real"
   ]
  },
  {
   "cell_type": "code",
   "execution_count": 15,
   "id": "440f9b85",
   "metadata": {},
   "outputs": [
    {
     "data": {
      "text/plain": [
       "bool"
      ]
     },
     "execution_count": 15,
     "metadata": {},
     "output_type": "execute_result"
    }
   ],
   "source": [
    "b1=False\n",
    "type(b1)"
   ]
  },
  {
   "cell_type": "code",
   "execution_count": 18,
   "id": "22bf66cc",
   "metadata": {},
   "outputs": [
    {
     "data": {
      "text/plain": [
       "bool"
      ]
     },
     "execution_count": 18,
     "metadata": {},
     "output_type": "execute_result"
    }
   ],
   "source": [
    "b1=0\n",
    "type(bool(b1))\n"
   ]
  },
  {
   "cell_type": "code",
   "execution_count": 19,
   "id": "569f0b5c",
   "metadata": {},
   "outputs": [
    {
     "data": {
      "text/plain": [
       "25"
      ]
     },
     "execution_count": 19,
     "metadata": {},
     "output_type": "execute_result"
    }
   ],
   "source": [
    "a1=23\n",
    "a2=2\n",
    "a1+a2"
   ]
  },
  {
   "cell_type": "code",
   "execution_count": 20,
   "id": "7818ce2c",
   "metadata": {},
   "outputs": [
    {
     "data": {
      "text/plain": [
       "21"
      ]
     },
     "execution_count": 20,
     "metadata": {},
     "output_type": "execute_result"
    }
   ],
   "source": [
    "a1-a2"
   ]
  },
  {
   "cell_type": "code",
   "execution_count": 21,
   "id": "2573bca8",
   "metadata": {},
   "outputs": [
    {
     "data": {
      "text/plain": [
       "11.5"
      ]
     },
     "execution_count": 21,
     "metadata": {},
     "output_type": "execute_result"
    }
   ],
   "source": [
    "a1/a2"
   ]
  },
  {
   "cell_type": "code",
   "execution_count": 22,
   "id": "03f73dfb",
   "metadata": {},
   "outputs": [
    {
     "data": {
      "text/plain": [
       "46"
      ]
     },
     "execution_count": 22,
     "metadata": {},
     "output_type": "execute_result"
    }
   ],
   "source": [
    "a1*a2"
   ]
  },
  {
   "cell_type": "code",
   "execution_count": 24,
   "id": "0919f2d7",
   "metadata": {},
   "outputs": [],
   "source": [
    "a,b,c,d=1,2,2,4"
   ]
  },
  {
   "cell_type": "code",
   "execution_count": 25,
   "id": "d075b771",
   "metadata": {},
   "outputs": [
    {
     "data": {
      "text/plain": [
       "(1, 2, 2, 4)"
      ]
     },
     "execution_count": 25,
     "metadata": {},
     "output_type": "execute_result"
    }
   ],
   "source": [
    "a,b,c,d"
   ]
  },
  {
   "cell_type": "code",
   "execution_count": 26,
   "id": "07433743",
   "metadata": {},
   "outputs": [
    {
     "data": {
      "text/plain": [
       "1"
      ]
     },
     "execution_count": 26,
     "metadata": {},
     "output_type": "execute_result"
    }
   ],
   "source": [
    "a"
   ]
  },
  {
   "cell_type": "code",
   "execution_count": 27,
   "id": "9bdcd9fa",
   "metadata": {},
   "outputs": [
    {
     "data": {
      "text/plain": [
       "2"
      ]
     },
     "execution_count": 27,
     "metadata": {},
     "output_type": "execute_result"
    }
   ],
   "source": [
    "b"
   ]
  },
  {
   "cell_type": "code",
   "execution_count": 28,
   "id": "447ae3eb",
   "metadata": {},
   "outputs": [
    {
     "data": {
      "text/plain": [
       "2"
      ]
     },
     "execution_count": 28,
     "metadata": {},
     "output_type": "execute_result"
    }
   ],
   "source": [
    "c"
   ]
  },
  {
   "cell_type": "code",
   "execution_count": 29,
   "id": "897acd3b",
   "metadata": {},
   "outputs": [
    {
     "data": {
      "text/plain": [
       "4"
      ]
     },
     "execution_count": 29,
     "metadata": {},
     "output_type": "execute_result"
    }
   ],
   "source": [
    "d"
   ]
  },
  {
   "cell_type": "code",
   "execution_count": 34,
   "id": "a2472383",
   "metadata": {},
   "outputs": [
    {
     "name": "stderr",
     "output_type": "stream",
     "text": [
      "UsageError: Line magic function `%var=23` not found.\n"
     ]
    }
   ],
   "source": [
    "%var=23"
   ]
  },
  {
   "cell_type": "code",
   "execution_count": 35,
   "id": "a73890d7",
   "metadata": {},
   "outputs": [
    {
     "ename": "SyntaxError",
     "evalue": "invalid decimal literal (323499141.py, line 1)",
     "output_type": "error",
     "traceback": [
      "\u001b[1;36m  Cell \u001b[1;32mIn[35], line 1\u001b[1;36m\u001b[0m\n\u001b[1;33m    12ed=34\u001b[0m\n\u001b[1;37m     ^\u001b[0m\n\u001b[1;31mSyntaxError\u001b[0m\u001b[1;31m:\u001b[0m invalid decimal literal\n"
     ]
    }
   ],
   "source": [
    "12ed=34"
   ]
  },
  {
   "cell_type": "code",
   "execution_count": 37,
   "id": "2a6f1652",
   "metadata": {},
   "outputs": [],
   "source": [
    "_a=23"
   ]
  },
  {
   "cell_type": "code",
   "execution_count": 39,
   "id": "fac9fd6c",
   "metadata": {},
   "outputs": [
    {
     "data": {
      "text/plain": [
       "23"
      ]
     },
     "execution_count": 39,
     "metadata": {},
     "output_type": "execute_result"
    }
   ],
   "source": [
    "__ad=23\n",
    "__ad"
   ]
  },
  {
   "cell_type": "code",
   "execution_count": 40,
   "id": "4521b394",
   "metadata": {},
   "outputs": [
    {
     "data": {
      "text/plain": [
       "int"
      ]
     },
     "execution_count": 40,
     "metadata": {},
     "output_type": "execute_result"
    }
   ],
   "source": [
    "int"
   ]
  },
  {
   "cell_type": "code",
   "execution_count": 41,
   "id": "cbe9db28",
   "metadata": {},
   "outputs": [
    {
     "data": {
      "text/plain": [
       "1"
      ]
     },
     "execution_count": 41,
     "metadata": {},
     "output_type": "execute_result"
    }
   ],
   "source": [
    "b1=False\n",
    "b2=True\n",
    "b1+b2"
   ]
  },
  {
   "cell_type": "code",
   "execution_count": 42,
   "id": "45c89e5a",
   "metadata": {},
   "outputs": [
    {
     "data": {
      "text/plain": [
       "True"
      ]
     },
     "execution_count": 42,
     "metadata": {},
     "output_type": "execute_result"
    }
   ],
   "source": [
    "bool(b1+b2)"
   ]
  },
  {
   "cell_type": "code",
   "execution_count": 46,
   "id": "2fdadf19",
   "metadata": {},
   "outputs": [
    {
     "data": {
      "text/plain": [
       "False"
      ]
     },
     "execution_count": 46,
     "metadata": {},
     "output_type": "execute_result"
    }
   ],
   "source": [
    "bool(False+False)"
   ]
  },
  {
   "cell_type": "code",
   "execution_count": 44,
   "id": "795c25e0",
   "metadata": {},
   "outputs": [
    {
     "data": {
      "text/plain": [
       "1"
      ]
     },
     "execution_count": 44,
     "metadata": {},
     "output_type": "execute_result"
    }
   ],
   "source": [
    "b1+b2"
   ]
  },
  {
   "cell_type": "code",
   "execution_count": 47,
   "id": "a28453eb",
   "metadata": {},
   "outputs": [
    {
     "ename": "ZeroDivisionError",
     "evalue": "division by zero",
     "output_type": "error",
     "traceback": [
      "\u001b[1;31m---------------------------------------------------------------------------\u001b[0m",
      "\u001b[1;31mZeroDivisionError\u001b[0m                         Traceback (most recent call last)",
      "Cell \u001b[1;32mIn[47], line 1\u001b[0m\n\u001b[1;32m----> 1\u001b[0m \u001b[43mb2\u001b[49m\u001b[38;5;241;43m/\u001b[39;49m\u001b[43mb1\u001b[49m\n",
      "\u001b[1;31mZeroDivisionError\u001b[0m: division by zero"
     ]
    }
   ],
   "source": [
    "b2/b1"
   ]
  },
  {
   "cell_type": "code",
   "execution_count": 48,
   "id": "e96c96bb",
   "metadata": {},
   "outputs": [
    {
     "data": {
      "text/plain": [
       "'pwskills data science masters course'"
      ]
     },
     "execution_count": 48,
     "metadata": {},
     "output_type": "execute_result"
    }
   ],
   "source": [
    "# this is my revison class \n",
    "str1='pwskills data science masters course'\n",
    "str1"
   ]
  },
  {
   "cell_type": "code",
   "execution_count": 53,
   "id": "9bb9085e",
   "metadata": {},
   "outputs": [
    {
     "data": {
      "text/plain": [
       "10"
      ]
     },
     "execution_count": 53,
     "metadata": {},
     "output_type": "execute_result"
    }
   ],
   "source": [
    "'''this is the revision i am currently doing'''\n",
    "a=10\n",
    "a"
   ]
  },
  {
   "cell_type": "code",
   "execution_count": 55,
   "id": "5e4e9d3a",
   "metadata": {},
   "outputs": [
    {
     "data": {
      "text/plain": [
       "'sudh10'"
      ]
     },
     "execution_count": 55,
     "metadata": {},
     "output_type": "execute_result"
    }
   ],
   "source": [
    "s1='sudh'\n",
    "s2=10\n",
    "s1+str(s2)\n"
   ]
  },
  {
   "cell_type": "code",
   "execution_count": 58,
   "id": "66131304",
   "metadata": {},
   "outputs": [
    {
     "data": {
      "text/plain": [
       "'10'"
      ]
     },
     "execution_count": 58,
     "metadata": {},
     "output_type": "execute_result"
    }
   ],
   "source": [
    "s='10'\n",
    "str(s)"
   ]
  },
  {
   "cell_type": "code",
   "execution_count": 59,
   "id": "b123161b",
   "metadata": {},
   "outputs": [
    {
     "name": "stdout",
     "output_type": "stream",
     "text": [
      "10\n"
     ]
    },
    {
     "data": {
      "text/plain": [
       "10"
      ]
     },
     "execution_count": 59,
     "metadata": {},
     "output_type": "execute_result"
    }
   ],
   "source": [
    "a=int(input())\n",
    "a"
   ]
  },
  {
   "cell_type": "code",
   "execution_count": 62,
   "id": "bd2dba77",
   "metadata": {},
   "outputs": [
    {
     "name": "stdout",
     "output_type": "stream",
     "text": [
      "enter stringsud\n"
     ]
    },
    {
     "data": {
      "text/plain": [
       "'sud'"
      ]
     },
     "execution_count": 62,
     "metadata": {},
     "output_type": "execute_result"
    }
   ],
   "source": [
    "b=input(\"enter string\")\n",
    "b"
   ]
  },
  {
   "cell_type": "code",
   "execution_count": 86,
   "id": "136d607f",
   "metadata": {},
   "outputs": [
    {
     "data": {
      "text/plain": [
       "'pwskills data science masters course'"
      ]
     },
     "execution_count": 86,
     "metadata": {},
     "output_type": "execute_result"
    }
   ],
   "source": [
    "s4='pwskills data science masters course'\n",
    "s4"
   ]
  },
  {
   "cell_type": "code",
   "execution_count": 87,
   "id": "06ed462e",
   "metadata": {},
   "outputs": [
    {
     "data": {
      "text/plain": [
       "'esruoc sretsam ecneics atad sllikswp'"
      ]
     },
     "execution_count": 87,
     "metadata": {},
     "output_type": "execute_result"
    }
   ],
   "source": [
    "s4[::-1]"
   ]
  },
  {
   "cell_type": "code",
   "execution_count": 88,
   "id": "cfbfa1f0",
   "metadata": {},
   "outputs": [
    {
     "data": {
      "text/plain": [
       "'psil aasinemsescus'"
      ]
     },
     "execution_count": 88,
     "metadata": {},
     "output_type": "execute_result"
    }
   ],
   "source": [
    "s4[0::2]"
   ]
  },
  {
   "cell_type": "code",
   "execution_count": 89,
   "id": "a258549a",
   "metadata": {},
   "outputs": [
    {
     "ename": "IndexError",
     "evalue": "string index out of range",
     "output_type": "error",
     "traceback": [
      "\u001b[1;31m---------------------------------------------------------------------------\u001b[0m",
      "\u001b[1;31mIndexError\u001b[0m                                Traceback (most recent call last)",
      "Cell \u001b[1;32mIn[89], line 1\u001b[0m\n\u001b[1;32m----> 1\u001b[0m \u001b[43ms4\u001b[49m\u001b[43m[\u001b[49m\u001b[38;5;241;43m100\u001b[39;49m\u001b[43m]\u001b[49m\n",
      "\u001b[1;31mIndexError\u001b[0m: string index out of range"
     ]
    }
   ],
   "source": [
    "s4[100]"
   ]
  },
  {
   "cell_type": "code",
   "execution_count": 90,
   "id": "7e0b1b5d",
   "metadata": {},
   "outputs": [
    {
     "data": {
      "text/plain": [
       "'pwskills data science masters course'"
      ]
     },
     "execution_count": 90,
     "metadata": {},
     "output_type": "execute_result"
    }
   ],
   "source": [
    "s4[:100]"
   ]
  },
  {
   "cell_type": "code",
   "execution_count": 91,
   "id": "694303df",
   "metadata": {},
   "outputs": [
    {
     "data": {
      "text/plain": [
       "'pwskills data science masters course'"
      ]
     },
     "execution_count": 91,
     "metadata": {},
     "output_type": "execute_result"
    }
   ],
   "source": [
    "s4"
   ]
  },
  {
   "cell_type": "code",
   "execution_count": 92,
   "id": "a11baaf6",
   "metadata": {},
   "outputs": [
    {
     "data": {
      "text/plain": [
       "'science'"
      ]
     },
     "execution_count": 92,
     "metadata": {},
     "output_type": "execute_result"
    }
   ],
   "source": [
    "s4[14:21]"
   ]
  },
  {
   "cell_type": "code",
   "execution_count": 93,
   "id": "96b3fd1f",
   "metadata": {},
   "outputs": [
    {
     "data": {
      "text/plain": [
       "'python'"
      ]
     },
     "execution_count": 93,
     "metadata": {},
     "output_type": "execute_result"
    }
   ],
   "source": [
    "word='python'\n",
    "word"
   ]
  },
  {
   "cell_type": "code",
   "execution_count": 96,
   "id": "468d15a8",
   "metadata": {},
   "outputs": [
    {
     "data": {
      "text/plain": [
       "'nohtyp'"
      ]
     },
     "execution_count": 96,
     "metadata": {},
     "output_type": "execute_result"
    }
   ],
   "source": [
    "word[::-1]"
   ]
  },
  {
   "cell_type": "code",
   "execution_count": 101,
   "id": "8ff59f33",
   "metadata": {},
   "outputs": [
    {
     "data": {
      "text/plain": [
       "'pto'"
      ]
     },
     "execution_count": 101,
     "metadata": {},
     "output_type": "execute_result"
    }
   ],
   "source": [
    "word[::2]"
   ]
  },
  {
   "cell_type": "code",
   "execution_count": 102,
   "id": "ee933fc4",
   "metadata": {},
   "outputs": [
    {
     "data": {
      "text/plain": [
       "'vaishnavi Ghadge'"
      ]
     },
     "execution_count": 102,
     "metadata": {},
     "output_type": "execute_result"
    }
   ],
   "source": [
    "s6='vaishnavi Ghadge'\n",
    "s6"
   ]
  },
  {
   "cell_type": "code",
   "execution_count": 103,
   "id": "87914f79",
   "metadata": {},
   "outputs": [
    {
     "data": {
      "text/plain": [
       "'Vaishnavi ghadge'"
      ]
     },
     "execution_count": 103,
     "metadata": {},
     "output_type": "execute_result"
    }
   ],
   "source": [
    "s6.capitalize()"
   ]
  },
  {
   "cell_type": "code",
   "execution_count": 107,
   "id": "5da47d69",
   "metadata": {},
   "outputs": [
    {
     "data": {
      "text/plain": [
       "2"
      ]
     },
     "execution_count": 107,
     "metadata": {},
     "output_type": "execute_result"
    }
   ],
   "source": [
    "s6.count('v')"
   ]
  },
  {
   "cell_type": "code",
   "execution_count": 109,
   "id": "29e1c944",
   "metadata": {},
   "outputs": [
    {
     "data": {
      "text/plain": [
       "True"
      ]
     },
     "execution_count": 109,
     "metadata": {},
     "output_type": "execute_result"
    }
   ],
   "source": [
    "s6.endswith('e')"
   ]
  },
  {
   "cell_type": "code",
   "execution_count": 111,
   "id": "a58e1421",
   "metadata": {},
   "outputs": [
    {
     "data": {
      "text/plain": [
       "0"
      ]
     },
     "execution_count": 111,
     "metadata": {},
     "output_type": "execute_result"
    }
   ],
   "source": [
    "s6.index('v')"
   ]
  },
  {
   "cell_type": "code",
   "execution_count": 112,
   "id": "d74910b3",
   "metadata": {},
   "outputs": [
    {
     "ename": "ValueError",
     "evalue": "substring not found",
     "output_type": "error",
     "traceback": [
      "\u001b[1;31m---------------------------------------------------------------------------\u001b[0m",
      "\u001b[1;31mValueError\u001b[0m                                Traceback (most recent call last)",
      "Cell \u001b[1;32mIn[112], line 1\u001b[0m\n\u001b[1;32m----> 1\u001b[0m \u001b[43ms6\u001b[49m\u001b[38;5;241;43m.\u001b[39;49m\u001b[43mindex\u001b[49m\u001b[43m(\u001b[49m\u001b[38;5;124;43m'\u001b[39;49m\u001b[38;5;124;43mz\u001b[39;49m\u001b[38;5;124;43m'\u001b[39;49m\u001b[43m)\u001b[49m\n",
      "\u001b[1;31mValueError\u001b[0m: substring not found"
     ]
    }
   ],
   "source": [
    "s6.index('z')"
   ]
  },
  {
   "cell_type": "code",
   "execution_count": 113,
   "id": "6c29fee4",
   "metadata": {},
   "outputs": [
    {
     "data": {
      "text/plain": [
       "-1"
      ]
     },
     "execution_count": 113,
     "metadata": {},
     "output_type": "execute_result"
    }
   ],
   "source": [
    "s6.find('z')"
   ]
  },
  {
   "cell_type": "code",
   "execution_count": 114,
   "id": "d635b5a7",
   "metadata": {},
   "outputs": [
    {
     "data": {
      "text/plain": [
       "False"
      ]
     },
     "execution_count": 114,
     "metadata": {},
     "output_type": "execute_result"
    }
   ],
   "source": [
    "s6.isalpha()"
   ]
  },
  {
   "cell_type": "code",
   "execution_count": 120,
   "id": "deefae92",
   "metadata": {},
   "outputs": [],
   "source": [
    "s7='ty'\n"
   ]
  },
  {
   "cell_type": "code",
   "execution_count": 121,
   "id": "58cab40e",
   "metadata": {},
   "outputs": [
    {
     "data": {
      "text/plain": [
       "True"
      ]
     },
     "execution_count": 121,
     "metadata": {},
     "output_type": "execute_result"
    }
   ],
   "source": [
    "s7.isalpha()"
   ]
  },
  {
   "cell_type": "code",
   "execution_count": 122,
   "id": "bee64b23",
   "metadata": {},
   "outputs": [
    {
     "data": {
      "text/plain": [
       "'pythonpython'"
      ]
     },
     "execution_count": 122,
     "metadata": {},
     "output_type": "execute_result"
    }
   ],
   "source": [
    "s8='python'\n",
    "s8*2"
   ]
  },
  {
   "cell_type": "code",
   "execution_count": 124,
   "id": "fec003af",
   "metadata": {},
   "outputs": [
    {
     "data": {
      "text/plain": [
       "'python'"
      ]
     },
     "execution_count": 124,
     "metadata": {},
     "output_type": "execute_result"
    }
   ],
   "source": [
    "s9=' python     '\n",
    "s9.strip()"
   ]
  },
  {
   "cell_type": "code",
   "execution_count": 125,
   "id": "fa173c03",
   "metadata": {},
   "outputs": [
    {
     "data": {
      "text/plain": [
       "' python      python     '"
      ]
     },
     "execution_count": 125,
     "metadata": {},
     "output_type": "execute_result"
    }
   ],
   "source": [
    "s9+s9"
   ]
  },
  {
   "cell_type": "code",
   "execution_count": 126,
   "id": "26db8f57",
   "metadata": {},
   "outputs": [
    {
     "data": {
      "text/plain": [
       "list"
      ]
     },
     "execution_count": 126,
     "metadata": {},
     "output_type": "execute_result"
    }
   ],
   "source": [
    "l=[]\n",
    "type(l)"
   ]
  },
  {
   "cell_type": "code",
   "execution_count": 127,
   "id": "786d6a5b",
   "metadata": {},
   "outputs": [
    {
     "data": {
      "text/plain": [
       "[1, 2, 3, 4, 'pwskills', (56+4j), 45.67]"
      ]
     },
     "execution_count": 127,
     "metadata": {},
     "output_type": "execute_result"
    }
   ],
   "source": [
    "l1=[1,2,3,4,'pwskills',56+4j,45.67]\n",
    "l1"
   ]
  },
  {
   "cell_type": "code",
   "execution_count": 128,
   "id": "2cc22c98",
   "metadata": {},
   "outputs": [
    {
     "data": {
      "text/plain": [
       "list"
      ]
     },
     "execution_count": 128,
     "metadata": {},
     "output_type": "execute_result"
    }
   ],
   "source": [
    "type(l1)"
   ]
  },
  {
   "cell_type": "code",
   "execution_count": 129,
   "id": "46a8c693",
   "metadata": {},
   "outputs": [
    {
     "data": {
      "text/plain": [
       "(56+4j)"
      ]
     },
     "execution_count": 129,
     "metadata": {},
     "output_type": "execute_result"
    }
   ],
   "source": [
    "l1[5]"
   ]
  },
  {
   "cell_type": "code",
   "execution_count": 130,
   "id": "8d963268",
   "metadata": {},
   "outputs": [
    {
     "data": {
      "text/plain": [
       "[45.67, (56+4j), 'pwskills', 4, 3, 2, 1]"
      ]
     },
     "execution_count": 130,
     "metadata": {},
     "output_type": "execute_result"
    }
   ],
   "source": [
    "l1[::-1]"
   ]
  },
  {
   "cell_type": "code",
   "execution_count": 131,
   "id": "7466343d",
   "metadata": {},
   "outputs": [
    {
     "data": {
      "text/plain": [
       "[1, 3, 'pwskills', 45.67]"
      ]
     },
     "execution_count": 131,
     "metadata": {},
     "output_type": "execute_result"
    }
   ],
   "source": [
    "l1[::2]"
   ]
  },
  {
   "cell_type": "code",
   "execution_count": 132,
   "id": "ca9dc48c",
   "metadata": {},
   "outputs": [
    {
     "data": {
      "text/plain": [
       "[1, 2, 3]"
      ]
     },
     "execution_count": 132,
     "metadata": {},
     "output_type": "execute_result"
    }
   ],
   "source": [
    "l2=[1,2,3]\n",
    "l2"
   ]
  },
  {
   "cell_type": "code",
   "execution_count": 133,
   "id": "413c4bb5",
   "metadata": {},
   "outputs": [
    {
     "data": {
      "text/plain": [
       "[1, 2, 3, 4, 'pwskills', (56+4j), 45.67, 1, 2, 3]"
      ]
     },
     "execution_count": 133,
     "metadata": {},
     "output_type": "execute_result"
    }
   ],
   "source": [
    "l1+l2"
   ]
  },
  {
   "cell_type": "code",
   "execution_count": 134,
   "id": "960ff09b",
   "metadata": {},
   "outputs": [
    {
     "data": {
      "text/plain": [
       "[1, 2, 3, 4, 'pwskills', (56+4j), 45.67]"
      ]
     },
     "execution_count": 134,
     "metadata": {},
     "output_type": "execute_result"
    }
   ],
   "source": [
    "l1"
   ]
  },
  {
   "cell_type": "code",
   "execution_count": 135,
   "id": "d818698c",
   "metadata": {},
   "outputs": [
    {
     "data": {
      "text/plain": [
       "[1, 2, 3]"
      ]
     },
     "execution_count": 135,
     "metadata": {},
     "output_type": "execute_result"
    }
   ],
   "source": [
    "l2"
   ]
  },
  {
   "cell_type": "code",
   "execution_count": 137,
   "id": "7038d1e2",
   "metadata": {},
   "outputs": [
    {
     "data": {
      "text/plain": [
       "[1, 2, 3, 4, 'pwskills', (56+4j), 45.67, 's', 'u', 'd', 'h']"
      ]
     },
     "execution_count": 137,
     "metadata": {},
     "output_type": "execute_result"
    }
   ],
   "source": [
    "l1+list('sudh')"
   ]
  },
  {
   "cell_type": "code",
   "execution_count": 139,
   "id": "6fba0094",
   "metadata": {},
   "outputs": [
    {
     "data": {
      "text/plain": [
       "3"
      ]
     },
     "execution_count": 139,
     "metadata": {},
     "output_type": "execute_result"
    }
   ],
   "source": [
    "l2[2]"
   ]
  },
  {
   "cell_type": "code",
   "execution_count": 140,
   "id": "cb53cbd8",
   "metadata": {},
   "outputs": [
    {
     "data": {
      "text/plain": [
       "[1, 3]"
      ]
     },
     "execution_count": 140,
     "metadata": {},
     "output_type": "execute_result"
    }
   ],
   "source": [
    "l2[::2]"
   ]
  },
  {
   "cell_type": "code",
   "execution_count": 143,
   "id": "ff199eed",
   "metadata": {},
   "outputs": [
    {
     "data": {
      "text/plain": [
       "[45.67, (56+4j), 'pwskills', 4, 3, 2, 1]"
      ]
     },
     "execution_count": 143,
     "metadata": {},
     "output_type": "execute_result"
    }
   ],
   "source": [
    "l1[::-1]"
   ]
  },
  {
   "cell_type": "code",
   "execution_count": 144,
   "id": "e572a46f",
   "metadata": {},
   "outputs": [
    {
     "data": {
      "text/plain": [
       "(1, 2, 3, 4, 'sudh', (4+5j))"
      ]
     },
     "execution_count": 144,
     "metadata": {},
     "output_type": "execute_result"
    }
   ],
   "source": [
    "t=(1,2,3,4,'sudh',4+5j)\n",
    "t"
   ]
  },
  {
   "cell_type": "code",
   "execution_count": 145,
   "id": "57b8a14e",
   "metadata": {},
   "outputs": [
    {
     "data": {
      "text/plain": [
       "1"
      ]
     },
     "execution_count": 145,
     "metadata": {},
     "output_type": "execute_result"
    }
   ],
   "source": [
    "t[0]"
   ]
  },
  {
   "cell_type": "code",
   "execution_count": 146,
   "id": "48c3af83",
   "metadata": {},
   "outputs": [
    {
     "data": {
      "text/plain": [
       "((4+5j), 'sudh', 4, 3, 2, 1)"
      ]
     },
     "execution_count": 146,
     "metadata": {},
     "output_type": "execute_result"
    }
   ],
   "source": [
    "t[::-1]"
   ]
  },
  {
   "cell_type": "code",
   "execution_count": 147,
   "id": "ee93aaf6",
   "metadata": {},
   "outputs": [
    {
     "data": {
      "text/plain": [
       "(1, 2, 3, 4, 'sudh', (4+5j), 1, 2, 3, 4)"
      ]
     },
     "execution_count": 147,
     "metadata": {},
     "output_type": "execute_result"
    }
   ],
   "source": [
    "t1=(1,2,3,4)\n",
    "t+t1"
   ]
  },
  {
   "cell_type": "code",
   "execution_count": 148,
   "id": "6128a13f",
   "metadata": {},
   "outputs": [
    {
     "data": {
      "text/plain": [
       "(1, 2, 3, 4)"
      ]
     },
     "execution_count": 148,
     "metadata": {},
     "output_type": "execute_result"
    }
   ],
   "source": [
    "t1"
   ]
  },
  {
   "cell_type": "code",
   "execution_count": 149,
   "id": "541531b5",
   "metadata": {},
   "outputs": [
    {
     "data": {
      "text/plain": [
       "(1, 2, 3, 4, 'sudh', (4+5j))"
      ]
     },
     "execution_count": 149,
     "metadata": {},
     "output_type": "execute_result"
    }
   ],
   "source": [
    "t"
   ]
  },
  {
   "cell_type": "code",
   "execution_count": 150,
   "id": "36a840df",
   "metadata": {},
   "outputs": [
    {
     "data": {
      "text/plain": [
       "[1, 2, 3, 4, 'pwskills', (56+4j), 45.67]"
      ]
     },
     "execution_count": 150,
     "metadata": {},
     "output_type": "execute_result"
    }
   ],
   "source": [
    "l1"
   ]
  },
  {
   "cell_type": "code",
   "execution_count": 151,
   "id": "b57e63f0",
   "metadata": {},
   "outputs": [],
   "source": [
    "l1[0]='pwskills'"
   ]
  },
  {
   "cell_type": "code",
   "execution_count": 152,
   "id": "30217c91",
   "metadata": {},
   "outputs": [
    {
     "data": {
      "text/plain": [
       "['pwskills', 2, 3, 4, 'pwskills', (56+4j), 45.67]"
      ]
     },
     "execution_count": 152,
     "metadata": {},
     "output_type": "execute_result"
    }
   ],
   "source": [
    "l1"
   ]
  },
  {
   "cell_type": "code",
   "execution_count": 153,
   "id": "b146ff80",
   "metadata": {},
   "outputs": [],
   "source": [
    "l1.append('masters')"
   ]
  },
  {
   "cell_type": "code",
   "execution_count": 154,
   "id": "a4bd3ec2",
   "metadata": {},
   "outputs": [
    {
     "data": {
      "text/plain": [
       "['pwskills', 2, 3, 4, 'pwskills', (56+4j), 45.67, 'masters']"
      ]
     },
     "execution_count": 154,
     "metadata": {},
     "output_type": "execute_result"
    }
   ],
   "source": [
    "l1"
   ]
  },
  {
   "cell_type": "code",
   "execution_count": 158,
   "id": "446c13c1",
   "metadata": {},
   "outputs": [
    {
     "data": {
      "text/plain": [
       "0"
      ]
     },
     "execution_count": 158,
     "metadata": {},
     "output_type": "execute_result"
    }
   ],
   "source": [
    "l1.count(\"Pwskills\")"
   ]
  },
  {
   "cell_type": "code",
   "execution_count": 159,
   "id": "d32c9b6f",
   "metadata": {},
   "outputs": [
    {
     "data": {
      "text/plain": [
       "['pwskills', 2, 3, 4, 'pwskills', (56+4j), 45.67, 'masters']"
      ]
     },
     "execution_count": 159,
     "metadata": {},
     "output_type": "execute_result"
    }
   ],
   "source": [
    "l1"
   ]
  },
  {
   "cell_type": "code",
   "execution_count": 160,
   "id": "325e46d2",
   "metadata": {},
   "outputs": [
    {
     "data": {
      "text/plain": [
       "{'data science', 'pwskills', 'sudh'}"
      ]
     },
     "execution_count": 160,
     "metadata": {},
     "output_type": "execute_result"
    }
   ],
   "source": [
    "s2={'sudh','sudh','sudh','pwskills','data science'}\n",
    "s2"
   ]
  },
  {
   "cell_type": "code",
   "execution_count": 161,
   "id": "ff627338",
   "metadata": {},
   "outputs": [
    {
     "data": {
      "text/plain": [
       "{'data science', 'pwskills'}"
      ]
     },
     "execution_count": 161,
     "metadata": {},
     "output_type": "execute_result"
    }
   ],
   "source": [
    "s3={'pwskills','data science'}\n",
    "s3"
   ]
  },
  {
   "cell_type": "code",
   "execution_count": 162,
   "id": "ccf1dc94",
   "metadata": {},
   "outputs": [
    {
     "data": {
      "text/plain": [
       "{(56+4j), 2, 3, 4, 45.67, 'masters', 'pwskills'}"
      ]
     },
     "execution_count": 162,
     "metadata": {},
     "output_type": "execute_result"
    }
   ],
   "source": [
    "set(l1)"
   ]
  },
  {
   "cell_type": "code",
   "execution_count": 163,
   "id": "628a04ad",
   "metadata": {},
   "outputs": [
    {
     "ename": "TypeError",
     "evalue": "'set' object is not subscriptable",
     "output_type": "error",
     "traceback": [
      "\u001b[1;31m---------------------------------------------------------------------------\u001b[0m",
      "\u001b[1;31mTypeError\u001b[0m                                 Traceback (most recent call last)",
      "Cell \u001b[1;32mIn[163], line 1\u001b[0m\n\u001b[1;32m----> 1\u001b[0m \u001b[43ms2\u001b[49m\u001b[43m[\u001b[49m\u001b[38;5;241;43m0\u001b[39;49m\u001b[43m]\u001b[49m\n",
      "\u001b[1;31mTypeError\u001b[0m: 'set' object is not subscriptable"
     ]
    }
   ],
   "source": [
    "s2[0]"
   ]
  },
  {
   "cell_type": "code",
   "execution_count": 164,
   "id": "0bd8093e",
   "metadata": {},
   "outputs": [
    {
     "data": {
      "text/plain": [
       "{1, 2, 3, 4, 5, 'sudh'}"
      ]
     },
     "execution_count": 164,
     "metadata": {},
     "output_type": "execute_result"
    }
   ],
   "source": [
    "s3={1,2,3,4,5,3,3,3,2,2,2,'sudh','sudh','sudh','sudh'}\n",
    "s3"
   ]
  },
  {
   "cell_type": "code",
   "execution_count": 165,
   "id": "85dd44e9",
   "metadata": {},
   "outputs": [
    {
     "data": {
      "text/plain": [
       "{'name': 'shreya', 'age': 23, 'course': 'fsds pro'}"
      ]
     },
     "execution_count": 165,
     "metadata": {},
     "output_type": "execute_result"
    }
   ],
   "source": [
    "d={'name':'shreya','age':23,'course':'fsds pro'}\n",
    "d"
   ]
  },
  {
   "cell_type": "code",
   "execution_count": 167,
   "id": "54ccfd6b",
   "metadata": {},
   "outputs": [
    {
     "data": {
      "text/plain": [
       "{'name': None, 'age': None, 'course': None}"
      ]
     },
     "execution_count": 167,
     "metadata": {},
     "output_type": "execute_result"
    }
   ],
   "source": [
    "d.fromkeys(d)"
   ]
  },
  {
   "cell_type": "code",
   "execution_count": 169,
   "id": "134bf78a",
   "metadata": {},
   "outputs": [
    {
     "data": {
      "text/plain": [
       "{(1, 2, 3, 4): 'vaishnavi'}"
      ]
     },
     "execution_count": 169,
     "metadata": {},
     "output_type": "execute_result"
    }
   ],
   "source": [
    "d1={(1,2,3,4):'vaishnavi'}\n",
    "d1"
   ]
  },
  {
   "cell_type": "code",
   "execution_count": 170,
   "id": "33b91ce2",
   "metadata": {},
   "outputs": [
    {
     "data": {
      "text/plain": [
       "{(2+4j): 'shreya'}"
      ]
     },
     "execution_count": 170,
     "metadata": {},
     "output_type": "execute_result"
    }
   ],
   "source": [
    "d2={2+4j:'shreya'}\n",
    "d2"
   ]
  },
  {
   "cell_type": "code",
   "execution_count": 171,
   "id": "632258f2",
   "metadata": {},
   "outputs": [
    {
     "ename": "TypeError",
     "evalue": "unhashable type: 'dict'",
     "output_type": "error",
     "traceback": [
      "\u001b[1;31m---------------------------------------------------------------------------\u001b[0m",
      "\u001b[1;31mTypeError\u001b[0m                                 Traceback (most recent call last)",
      "Cell \u001b[1;32mIn[171], line 1\u001b[0m\n\u001b[1;32m----> 1\u001b[0m d2\u001b[38;5;241m=\u001b[39m{{\u001b[38;5;124m'\u001b[39m\u001b[38;5;124mname\u001b[39m\u001b[38;5;124m'\u001b[39m:\u001b[38;5;124m'\u001b[39m\u001b[38;5;124mshreya\u001b[39m\u001b[38;5;124m'\u001b[39m,\u001b[38;5;124m'\u001b[39m\u001b[38;5;124mage\u001b[39m\u001b[38;5;124m'\u001b[39m:\u001b[38;5;241m24\u001b[39m}:\u001b[38;5;241m34\u001b[39m}\n",
      "\u001b[1;31mTypeError\u001b[0m: unhashable type: 'dict'"
     ]
    }
   ],
   "source": [
    "d2={{'name':'shreya','age':24}:34}"
   ]
  },
  {
   "cell_type": "code",
   "execution_count": 172,
   "id": "b14522e2",
   "metadata": {},
   "outputs": [],
   "source": [
    "d4 = {'course ' : ['dsa','java','webdev','blockchain' , 'cloud'] , 'mentor' :('sudh' , 'krish' , 'viswa' , 'sourganshu' , 'sunny '),\n",
    "     'price' : {3500, 20000,15000, 11000,3500} , 'duration' :1 , 'access year' : 1 ,'syllabus' :{'python':['core python','oops','pandas','numpy' , 'db','mongodb'],'ml':['supervised','unsupervised','semisupervised']}}"
   ]
  },
  {
   "cell_type": "code",
   "execution_count": 173,
   "id": "51b6fbc8",
   "metadata": {},
   "outputs": [
    {
     "data": {
      "text/plain": [
       "{'course ': ['dsa', 'java', 'webdev', 'blockchain', 'cloud'],\n",
       " 'mentor': ('sudh', 'krish', 'viswa', 'sourganshu', 'sunny '),\n",
       " 'price': {3500, 11000, 15000, 20000},\n",
       " 'duration': 1,\n",
       " 'access year': 1,\n",
       " 'syllabus': {'python': ['core python',\n",
       "   'oops',\n",
       "   'pandas',\n",
       "   'numpy',\n",
       "   'db',\n",
       "   'mongodb'],\n",
       "  'ml': ['supervised', 'unsupervised', 'semisupervised']}}"
      ]
     },
     "execution_count": 173,
     "metadata": {},
     "output_type": "execute_result"
    }
   ],
   "source": [
    "d4"
   ]
  },
  {
   "cell_type": "code",
   "execution_count": 174,
   "id": "37c15bd0",
   "metadata": {},
   "outputs": [
    {
     "data": {
      "text/plain": [
       "['dsa', 'java', 'webdev', 'blockchain', 'cloud']"
      ]
     },
     "execution_count": 174,
     "metadata": {},
     "output_type": "execute_result"
    }
   ],
   "source": [
    "d4['course ']"
   ]
  },
  {
   "cell_type": "code",
   "execution_count": 175,
   "id": "9d93c0fe",
   "metadata": {},
   "outputs": [
    {
     "data": {
      "text/plain": [
       "1"
      ]
     },
     "execution_count": 175,
     "metadata": {},
     "output_type": "execute_result"
    }
   ],
   "source": [
    "d4['access year']"
   ]
  },
  {
   "cell_type": "code",
   "execution_count": 176,
   "id": "6e3417da",
   "metadata": {},
   "outputs": [],
   "source": [
    "d4['access year']='One Year'"
   ]
  },
  {
   "cell_type": "code",
   "execution_count": 177,
   "id": "57d5491b",
   "metadata": {},
   "outputs": [
    {
     "data": {
      "text/plain": [
       "{'course ': ['dsa', 'java', 'webdev', 'blockchain', 'cloud'],\n",
       " 'mentor': ('sudh', 'krish', 'viswa', 'sourganshu', 'sunny '),\n",
       " 'price': {3500, 11000, 15000, 20000},\n",
       " 'duration': 1,\n",
       " 'access year': 'One Year',\n",
       " 'syllabus': {'python': ['core python',\n",
       "   'oops',\n",
       "   'pandas',\n",
       "   'numpy',\n",
       "   'db',\n",
       "   'mongodb'],\n",
       "  'ml': ['supervised', 'unsupervised', 'semisupervised']}}"
      ]
     },
     "execution_count": 177,
     "metadata": {},
     "output_type": "execute_result"
    }
   ],
   "source": [
    "d4"
   ]
  },
  {
   "cell_type": "code",
   "execution_count": 178,
   "id": "7485580a",
   "metadata": {},
   "outputs": [
    {
     "data": {
      "text/plain": [
       "'sudh'"
      ]
     },
     "execution_count": 178,
     "metadata": {},
     "output_type": "execute_result"
    }
   ],
   "source": [
    "s1.format('shreya')\n"
   ]
  },
  {
   "cell_type": "code",
   "execution_count": 180,
   "id": "9ba612a6",
   "metadata": {},
   "outputs": [
    {
     "data": {
      "text/plain": [
       "['pwskills', 'data', 'science', 'masters', 'course']"
      ]
     },
     "execution_count": 180,
     "metadata": {},
     "output_type": "execute_result"
    }
   ],
   "source": [
    "s.split(' ')"
   ]
  },
  {
   "cell_type": "code",
   "execution_count": 183,
   "id": "044519f1",
   "metadata": {},
   "outputs": [
    {
     "data": {
      "text/plain": [
       "['course', 'masters', 'science', 'data', 'pwskills']"
      ]
     },
     "execution_count": 183,
     "metadata": {},
     "output_type": "execute_result"
    }
   ],
   "source": [
    "s.split(' ')[::-1]"
   ]
  },
  {
   "cell_type": "code",
   "execution_count": 184,
   "id": "632f473e",
   "metadata": {},
   "outputs": [
    {
     "data": {
      "text/plain": [
       "'pwskills data science masters. This is important.'"
      ]
     },
     "execution_count": 184,
     "metadata": {},
     "output_type": "execute_result"
    }
   ],
   "source": [
    "s3='pwskills data science masters. This is important.'\n",
    "s3"
   ]
  },
  {
   "cell_type": "code",
   "execution_count": 187,
   "id": "85fdb906",
   "metadata": {},
   "outputs": [
    {
     "data": {
      "text/plain": [
       "['', ' This is important', 'pwskills data science masters']"
      ]
     },
     "execution_count": 187,
     "metadata": {},
     "output_type": "execute_result"
    }
   ],
   "source": [
    "s3.split('.')[::-1]"
   ]
  },
  {
   "cell_type": "code",
   "execution_count": 188,
   "id": "bd88905e",
   "metadata": {},
   "outputs": [
    {
     "data": {
      "text/plain": [
       "['pwskills data science masters', ' This is important', '']"
      ]
     },
     "execution_count": 188,
     "metadata": {},
     "output_type": "execute_result"
    }
   ],
   "source": [
    "s3.split('.')"
   ]
  },
  {
   "cell_type": "code",
   "execution_count": 189,
   "id": "a44d7610",
   "metadata": {},
   "outputs": [
    {
     "data": {
      "text/plain": [
       "'Pwskills data science masters'"
      ]
     },
     "execution_count": 189,
     "metadata": {},
     "output_type": "execute_result"
    }
   ],
   "source": [
    "s='pwskills data science masters'\n",
    "s.capitalize()"
   ]
  },
  {
   "cell_type": "code",
   "execution_count": 190,
   "id": "04fbad0a",
   "metadata": {},
   "outputs": [
    {
     "data": {
      "text/plain": [
       "'Pwskills Data Science Masters'"
      ]
     },
     "execution_count": 190,
     "metadata": {},
     "output_type": "execute_result"
    }
   ],
   "source": [
    "s.title()"
   ]
  },
  {
   "cell_type": "code",
   "execution_count": 191,
   "id": "975abf3b",
   "metadata": {},
   "outputs": [
    {
     "data": {
      "text/plain": [
       "'   pwskillss    '"
      ]
     },
     "execution_count": 191,
     "metadata": {},
     "output_type": "execute_result"
    }
   ],
   "source": [
    "s='   pwskillss    '\n",
    "s"
   ]
  },
  {
   "cell_type": "code",
   "execution_count": 192,
   "id": "6f935b21",
   "metadata": {},
   "outputs": [
    {
     "data": {
      "text/plain": [
       "False"
      ]
     },
     "execution_count": 192,
     "metadata": {},
     "output_type": "execute_result"
    }
   ],
   "source": [
    "s.isalpha()"
   ]
  },
  {
   "cell_type": "code",
   "execution_count": 193,
   "id": "ad652e77",
   "metadata": {},
   "outputs": [
    {
     "data": {
      "text/plain": [
       "['pwskills', 2, 3, 4, 'pwskills', (56+4j), 45.67, 'masters']"
      ]
     },
     "execution_count": 193,
     "metadata": {},
     "output_type": "execute_result"
    }
   ],
   "source": [
    "l1"
   ]
  },
  {
   "cell_type": "code",
   "execution_count": 194,
   "id": "0ac40097",
   "metadata": {},
   "outputs": [
    {
     "data": {
      "text/plain": [
       "['pwskills', 2, 3, 4, 'pwskills', (56+4j), 45.67, 'masters', 1, 34, 56]"
      ]
     },
     "execution_count": 194,
     "metadata": {},
     "output_type": "execute_result"
    }
   ],
   "source": [
    "l1.extend([1,34,56])\n",
    "l1"
   ]
  },
  {
   "cell_type": "code",
   "execution_count": 195,
   "id": "6b6ed11c",
   "metadata": {},
   "outputs": [
    {
     "data": {
      "text/plain": [
       "['pwskills',\n",
       " 2,\n",
       " 3,\n",
       " 4,\n",
       " 'pwskills',\n",
       " (56+4j),\n",
       " 45.67,\n",
       " 'masters',\n",
       " 1,\n",
       " 34,\n",
       " 56,\n",
       " [1, 2, 3, 4]]"
      ]
     },
     "execution_count": 195,
     "metadata": {},
     "output_type": "execute_result"
    }
   ],
   "source": [
    "l1.append([1,2,3,4])\n",
    "l1"
   ]
  },
  {
   "cell_type": "code",
   "execution_count": 196,
   "id": "062d85ac",
   "metadata": {},
   "outputs": [
    {
     "data": {
      "text/plain": [
       "[1, 2, 'fsds', 3]"
      ]
     },
     "execution_count": 196,
     "metadata": {},
     "output_type": "execute_result"
    }
   ],
   "source": [
    "l2.insert(2,'fsds')\n",
    "l2"
   ]
  },
  {
   "cell_type": "code",
   "execution_count": 197,
   "id": "a8adaadd",
   "metadata": {},
   "outputs": [
    {
     "data": {
      "text/plain": [
       "3"
      ]
     },
     "execution_count": 197,
     "metadata": {},
     "output_type": "execute_result"
    }
   ],
   "source": [
    "l2.pop()"
   ]
  },
  {
   "cell_type": "code",
   "execution_count": 198,
   "id": "717d7d04",
   "metadata": {},
   "outputs": [
    {
     "data": {
      "text/plain": [
       "[1, 2, 'fsds']"
      ]
     },
     "execution_count": 198,
     "metadata": {},
     "output_type": "execute_result"
    }
   ],
   "source": [
    "l2"
   ]
  },
  {
   "cell_type": "code",
   "execution_count": 199,
   "id": "630e7109",
   "metadata": {},
   "outputs": [
    {
     "data": {
      "text/plain": [
       "{(1, 2, 3, 4): 'vaishnavi'}"
      ]
     },
     "execution_count": 199,
     "metadata": {},
     "output_type": "execute_result"
    }
   ],
   "source": [
    "d1"
   ]
  },
  {
   "cell_type": "code",
   "execution_count": 200,
   "id": "da61a7e5",
   "metadata": {},
   "outputs": [
    {
     "data": {
      "text/plain": [
       "{'course ': ['dsa', 'java', 'webdev', 'blockchain', 'cloud'],\n",
       " 'mentor': ('sudh', 'krish', 'viswa', 'sourganshu', 'sunny '),\n",
       " 'price': {3500, 11000, 15000, 20000},\n",
       " 'duration': 1,\n",
       " 'access year': 'One Year',\n",
       " 'syllabus': {'python': ['core python',\n",
       "   'oops',\n",
       "   'pandas',\n",
       "   'numpy',\n",
       "   'db',\n",
       "   'mongodb'],\n",
       "  'ml': ['supervised', 'unsupervised', 'semisupervised']}}"
      ]
     },
     "execution_count": 200,
     "metadata": {},
     "output_type": "execute_result"
    }
   ],
   "source": [
    "d4"
   ]
  },
  {
   "cell_type": "code",
   "execution_count": 203,
   "id": "3e5a2540",
   "metadata": {},
   "outputs": [
    {
     "data": {
      "text/plain": [
       "['course ', 'mentor', 'price', 'duration', 'access year', 'syllabus']"
      ]
     },
     "execution_count": 203,
     "metadata": {},
     "output_type": "execute_result"
    }
   ],
   "source": [
    "list(d4.keys())"
   ]
  },
  {
   "cell_type": "code",
   "execution_count": 205,
   "id": "ab997942",
   "metadata": {},
   "outputs": [
    {
     "data": {
      "text/plain": [
       "[((1, 2, 3, 4), 'vaishnavi')]"
      ]
     },
     "execution_count": 205,
     "metadata": {},
     "output_type": "execute_result"
    }
   ],
   "source": [
    "list(d1.items())"
   ]
  },
  {
   "cell_type": "code",
   "execution_count": 206,
   "id": "c7d71136",
   "metadata": {},
   "outputs": [
    {
     "data": {
      "text/plain": [
       "True"
      ]
     },
     "execution_count": 206,
     "metadata": {},
     "output_type": "execute_result"
    }
   ],
   "source": [
    "'sk' in 'pwskills'"
   ]
  },
  {
   "cell_type": "code",
   "execution_count": 207,
   "id": "55b5db78",
   "metadata": {},
   "outputs": [
    {
     "data": {
      "text/plain": [
       "b'c3VkaGFuc2h1'"
      ]
     },
     "execution_count": 207,
     "metadata": {},
     "output_type": "execute_result"
    }
   ],
   "source": [
    "import base64\n",
    "s = 'sudhanshu'\n",
    "base64.b64encode(s.encode('utf-8'))"
   ]
  },
  {
   "cell_type": "code",
   "execution_count": 209,
   "id": "10e9baed",
   "metadata": {},
   "outputs": [
    {
     "name": "stdout",
     "output_type": "stream",
     "text": [
      "enter the mobile number1234\n",
      "enterd mobile numebr is already registred\n",
      "enter the otp4567\n",
      "user successfully logged in\n"
     ]
    }
   ],
   "source": [
    "mob_no=1234\n",
    "otp=4567\n",
    "if(mob_no==int(input(\"enter the mobile number\"))):\n",
    "    print(\"enterd mobile numebr is already registred\")\n",
    "    if(otp==int(input(\"enter the otp\"))):\n",
    "        print(\"user successfully logged in\")\n",
    "    else:\n",
    "        print(\"you entered the wrong otp\")\n",
    "else:\n",
    "    print(\"mobile number is wrong!\")\n",
    "    \n",
    "    "
   ]
  },
  {
   "cell_type": "code",
   "execution_count": 211,
   "id": "e10d7a71",
   "metadata": {},
   "outputs": [
    {
     "name": "stdout",
     "output_type": "stream",
     "text": [
      "enter the mobile number12345\n",
      "user is logged in\n",
      "enter the otp1234\n",
      "user successfully logged in\n"
     ]
    }
   ],
   "source": [
    "mobile_no={12345,6789,2131,2345,21212}\n",
    "otp=1234\n",
    "if(int(input(\"enter the mobile number\")) in mobile_no):\n",
    "    print(\"user is logged in\")\n",
    "    if(otp==int(input('enter the otp'))):\n",
    "        print(\"user successfully logged in\")\n"
   ]
  },
  {
   "cell_type": "code",
   "execution_count": 222,
   "id": "9b0ee886",
   "metadata": {},
   "outputs": [
    {
     "name": "stdout",
     "output_type": "stream",
     "text": [
      "123345\n",
      "the mobile is registered\n",
      "11234\n",
      "1221\n",
      "22211\n",
      "34455\n",
      "55566\n"
     ]
    }
   ],
   "source": [
    "mob_no=[123345,11234,1221,22211,34455,55566]\n",
    "stud_details = {'mobile_no' : 23432 ,'course' : ['dsa' , 'dsm' , 'big data']}\n",
    "num=123345\n",
    "for i in mob_no:\n",
    "    print(i)\n",
    "    if(i==num):\n",
    "        print(\"the mobile is registered\")\n",
    "        if(i==stud_details['mobile_no']):\n",
    "            print('the number is already registered')\n",
    "            print(\"course accessed to this user is \" , stud_details['course'])    \n",
    "            \n",
    "    "
   ]
  },
  {
   "cell_type": "code",
   "execution_count": 223,
   "id": "9e2b3a88",
   "metadata": {},
   "outputs": [
    {
     "data": {
      "text/plain": [
       "{'course ': ['dsa', 'java', 'webdev', 'blockchain', 'cloud'],\n",
       " 'mentor': ('sudh', 'krish', 'viswa', 'sourganshu', 'sunny '),\n",
       " 'price': {3500, 11000, 15000, 20000},\n",
       " 'duration': 1,\n",
       " 'access year': 'One Year',\n",
       " 'syllabus': {'python': ['core python',\n",
       "   'oops',\n",
       "   'pandas',\n",
       "   'numpy',\n",
       "   'db',\n",
       "   'mongodb'],\n",
       "  'ml': ['supervised', 'unsupervised', 'semisupervised']}}"
      ]
     },
     "execution_count": 223,
     "metadata": {},
     "output_type": "execute_result"
    }
   ],
   "source": [
    "d4"
   ]
  },
  {
   "cell_type": "code",
   "execution_count": 231,
   "id": "061f806c",
   "metadata": {},
   "outputs": [
    {
     "name": "stdout",
     "output_type": "stream",
     "text": [
      "java  is present\n"
     ]
    }
   ],
   "source": [
    "for i in d4.values():\n",
    "    if(type(i)==list and 'java' in i):\n",
    "        print('java  is present')"
   ]
  },
  {
   "cell_type": "code",
   "execution_count": 232,
   "id": "f4fabbeb",
   "metadata": {},
   "outputs": [
    {
     "data": {
      "text/plain": [
       "6"
      ]
     },
     "execution_count": 232,
     "metadata": {},
     "output_type": "execute_result"
    }
   ],
   "source": [
    "len(d4)"
   ]
  },
  {
   "cell_type": "code",
   "execution_count": 243,
   "id": "7cc43def",
   "metadata": {},
   "outputs": [],
   "source": [
    "def test():\n",
    "    return(\"first function\")"
   ]
  },
  {
   "cell_type": "code",
   "execution_count": 244,
   "id": "5948ff8f",
   "metadata": {},
   "outputs": [
    {
     "data": {
      "text/plain": [
       "'first function'"
      ]
     },
     "execution_count": 244,
     "metadata": {},
     "output_type": "execute_result"
    }
   ],
   "source": [
    "test()"
   ]
  },
  {
   "cell_type": "code",
   "execution_count": 245,
   "id": "2a7b90f5",
   "metadata": {},
   "outputs": [
    {
     "data": {
      "text/plain": [
       "str"
      ]
     },
     "execution_count": 245,
     "metadata": {},
     "output_type": "execute_result"
    }
   ],
   "source": [
    "type(test())"
   ]
  },
  {
   "cell_type": "code",
   "execution_count": 248,
   "id": "d35af66a",
   "metadata": {},
   "outputs": [
    {
     "data": {
      "text/plain": [
       "'first functionsudh'"
      ]
     },
     "execution_count": 248,
     "metadata": {},
     "output_type": "execute_result"
    }
   ],
   "source": [
    "test()+'sudh'"
   ]
  },
  {
   "cell_type": "code",
   "execution_count": 247,
   "id": "881140f0",
   "metadata": {},
   "outputs": [
    {
     "data": {
      "text/plain": [
       "'first functionsudh'"
      ]
     },
     "execution_count": 247,
     "metadata": {},
     "output_type": "execute_result"
    }
   ],
   "source": [
    "\"first function\"+'sudh'"
   ]
  },
  {
   "cell_type": "code",
   "execution_count": 250,
   "id": "9e2d0b78",
   "metadata": {},
   "outputs": [],
   "source": [
    "def fun2():\n",
    "    return 1,2,34,56"
   ]
  },
  {
   "cell_type": "code",
   "execution_count": 251,
   "id": "9e54bc9b",
   "metadata": {},
   "outputs": [
    {
     "data": {
      "text/plain": [
       "(1, 2, 34, 56)"
      ]
     },
     "execution_count": 251,
     "metadata": {},
     "output_type": "execute_result"
    }
   ],
   "source": [
    "fun2()"
   ]
  },
  {
   "cell_type": "code",
   "execution_count": 252,
   "id": "3ced553f",
   "metadata": {},
   "outputs": [],
   "source": [
    "def fun(x):\n",
    "    return x\n",
    "    "
   ]
  },
  {
   "cell_type": "code",
   "execution_count": 254,
   "id": "584b9896",
   "metadata": {},
   "outputs": [
    {
     "data": {
      "text/plain": [
       "[1, 2, 3, 4]"
      ]
     },
     "execution_count": 254,
     "metadata": {},
     "output_type": "execute_result"
    }
   ],
   "source": [
    "fun([1,2,3,4])"
   ]
  },
  {
   "cell_type": "code",
   "execution_count": 256,
   "id": "c1e15f1f",
   "metadata": {},
   "outputs": [],
   "source": [
    "def fun(*args):\n",
    "    return args"
   ]
  },
  {
   "cell_type": "code",
   "execution_count": 257,
   "id": "c76ae984",
   "metadata": {},
   "outputs": [
    {
     "data": {
      "text/plain": [
       "(1, 2, 3, 4)"
      ]
     },
     "execution_count": 257,
     "metadata": {},
     "output_type": "execute_result"
    }
   ],
   "source": [
    "fun(1,2,3,4)"
   ]
  },
  {
   "cell_type": "code",
   "execution_count": 258,
   "id": "b586c995",
   "metadata": {},
   "outputs": [],
   "source": [
    "def test(a:int,b:int):\n",
    "    return a+b"
   ]
  },
  {
   "cell_type": "code",
   "execution_count": 260,
   "id": "d10a6494",
   "metadata": {},
   "outputs": [
    {
     "data": {
      "text/plain": [
       "'sudhpooja'"
      ]
     },
     "execution_count": 260,
     "metadata": {},
     "output_type": "execute_result"
    }
   ],
   "source": [
    "test('sudh','pooja')"
   ]
  },
  {
   "cell_type": "code",
   "execution_count": 261,
   "id": "c5b3a474",
   "metadata": {},
   "outputs": [],
   "source": [
    "def fun():\n",
    "    '''\n",
    "    the function is created\n",
    "    '''\n",
    "    return 'hello'\n"
   ]
  },
  {
   "cell_type": "code",
   "execution_count": 262,
   "id": "4617f08c",
   "metadata": {},
   "outputs": [
    {
     "data": {
      "text/plain": [
       "'hello'"
      ]
     },
     "execution_count": 262,
     "metadata": {},
     "output_type": "execute_result"
    }
   ],
   "source": [
    "fun()"
   ]
  },
  {
   "cell_type": "code",
   "execution_count": 263,
   "id": "3b61bc71",
   "metadata": {},
   "outputs": [],
   "source": [
    "def funct(**kwargs):\n",
    "    return kwargs"
   ]
  },
  {
   "cell_type": "code",
   "execution_count": 265,
   "id": "c1f35d6f",
   "metadata": {},
   "outputs": [
    {
     "data": {
      "text/plain": [
       "{'name': 'vaishnavi', 'marks': 23}"
      ]
     },
     "execution_count": 265,
     "metadata": {},
     "output_type": "execute_result"
    }
   ],
   "source": [
    "funct(name='vaishnavi',marks=23)"
   ]
  },
  {
   "cell_type": "code",
   "execution_count": 266,
   "id": "9bff822f",
   "metadata": {},
   "outputs": [],
   "source": [
    "def function(a,b,c=23):\n",
    "    return a+b+c"
   ]
  },
  {
   "cell_type": "code",
   "execution_count": 268,
   "id": "fd0d892f",
   "metadata": {},
   "outputs": [
    {
     "data": {
      "text/plain": [
       "3"
      ]
     },
     "execution_count": 268,
     "metadata": {},
     "output_type": "execute_result"
    }
   ],
   "source": [
    "function(1,2,0)"
   ]
  },
  {
   "cell_type": "code",
   "execution_count": 269,
   "id": "53736062",
   "metadata": {},
   "outputs": [
    {
     "data": {
      "text/plain": [
       "5"
      ]
     },
     "execution_count": 269,
     "metadata": {},
     "output_type": "execute_result"
    }
   ],
   "source": [
    "m=lambda x,y:x+y\n",
    "m(2,3)"
   ]
  },
  {
   "cell_type": "code",
   "execution_count": 270,
   "id": "d6eda531",
   "metadata": {},
   "outputs": [
    {
     "data": {
      "text/plain": [
       "<function __main__.<lambda>(x, y)>"
      ]
     },
     "execution_count": 270,
     "metadata": {},
     "output_type": "execute_result"
    }
   ],
   "source": [
    "m"
   ]
  },
  {
   "cell_type": "code",
   "execution_count": 272,
   "id": "498d30bd",
   "metadata": {},
   "outputs": [
    {
     "data": {
      "text/plain": [
       "<function __main__.test(a: int, b: int)>"
      ]
     },
     "execution_count": 272,
     "metadata": {},
     "output_type": "execute_result"
    }
   ],
   "source": [
    "test"
   ]
  },
  {
   "cell_type": "code",
   "execution_count": 276,
   "id": "bf318926",
   "metadata": {},
   "outputs": [],
   "source": [
    "ans=lambda x:'number sis even' if (x%2==0) else 'number is odd'"
   ]
  },
  {
   "cell_type": "code",
   "execution_count": 278,
   "id": "f14295f5",
   "metadata": {},
   "outputs": [
    {
     "data": {
      "text/plain": [
       "'number sis even'"
      ]
     },
     "execution_count": 278,
     "metadata": {},
     "output_type": "execute_result"
    }
   ],
   "source": [
    "ans(20)"
   ]
  },
  {
   "cell_type": "code",
   "execution_count": 279,
   "id": "ebcbc964",
   "metadata": {},
   "outputs": [],
   "source": [
    "l1=[12,34,56,78,89]\n",
    "ans=lambda l1:min(l1)"
   ]
  },
  {
   "cell_type": "code",
   "execution_count": 280,
   "id": "48865992",
   "metadata": {},
   "outputs": [
    {
     "data": {
      "text/plain": [
       "12"
      ]
     },
     "execution_count": 280,
     "metadata": {},
     "output_type": "execute_result"
    }
   ],
   "source": [
    "ans(l1)"
   ]
  },
  {
   "cell_type": "code",
   "execution_count": 283,
   "id": "8fe516e9",
   "metadata": {},
   "outputs": [],
   "source": [
    "s='pwskills'\n",
    "ans=lambda x:s.upper()"
   ]
  },
  {
   "cell_type": "code",
   "execution_count": 284,
   "id": "40f3a15c",
   "metadata": {},
   "outputs": [
    {
     "data": {
      "text/plain": [
       "'PWSKILLS'"
      ]
     },
     "execution_count": 284,
     "metadata": {},
     "output_type": "execute_result"
    }
   ],
   "source": [
    "ans(s)"
   ]
  },
  {
   "cell_type": "code",
   "execution_count": 288,
   "id": "345724bb",
   "metadata": {},
   "outputs": [],
   "source": [
    "l1\n",
    "s1=lambda l:sum([i for i in l])"
   ]
  },
  {
   "cell_type": "code",
   "execution_count": 289,
   "id": "95265669",
   "metadata": {},
   "outputs": [
    {
     "data": {
      "text/plain": [
       "269"
      ]
     },
     "execution_count": 289,
     "metadata": {},
     "output_type": "execute_result"
    }
   ],
   "source": [
    "s1(l1)"
   ]
  },
  {
   "cell_type": "code",
   "execution_count": 290,
   "id": "b85a4fe2",
   "metadata": {},
   "outputs": [],
   "source": [
    "def fun(n):\n",
    "    if(n==1):\n",
    "        return 1\n",
    "    else:\n",
    "        return n*fun(n-1)"
   ]
  },
  {
   "cell_type": "code",
   "execution_count": 291,
   "id": "fac4e066",
   "metadata": {},
   "outputs": [
    {
     "data": {
      "text/plain": [
       "120"
      ]
     },
     "execution_count": 291,
     "metadata": {},
     "output_type": "execute_result"
    }
   ],
   "source": [
    "fun(5)"
   ]
  },
  {
   "cell_type": "code",
   "execution_count": 294,
   "id": "601e2c6c",
   "metadata": {},
   "outputs": [],
   "source": [
    "ans=lambda x: x if x==1 else x*ans(x-1)"
   ]
  },
  {
   "cell_type": "code",
   "execution_count": 295,
   "id": "94391fbb",
   "metadata": {},
   "outputs": [
    {
     "data": {
      "text/plain": [
       "120"
      ]
     },
     "execution_count": 295,
     "metadata": {},
     "output_type": "execute_result"
    }
   ],
   "source": [
    "ans(5)"
   ]
  },
  {
   "cell_type": "code",
   "execution_count": 299,
   "id": "a29a97d3",
   "metadata": {},
   "outputs": [
    {
     "data": {
      "text/plain": [
       "[3, 4, 5, 6]"
      ]
     },
     "execution_count": 299,
     "metadata": {},
     "output_type": "execute_result"
    }
   ],
   "source": [
    "l1=[1,2,3,4]\n",
    "list(map(lambda x:x+2,l1))"
   ]
  },
  {
   "cell_type": "code",
   "execution_count": 305,
   "id": "fa632ddb",
   "metadata": {},
   "outputs": [
    {
     "data": {
      "text/plain": [
       "[8, 4, 7]"
      ]
     },
     "execution_count": 305,
     "metadata": {},
     "output_type": "execute_result"
    }
   ],
   "source": [
    "l1=['pwskills','data','science']\n",
    "ans=list(map(lambda x:len(x),l1))\n",
    "ans"
   ]
  },
  {
   "cell_type": "code",
   "execution_count": 306,
   "id": "fccf2499",
   "metadata": {},
   "outputs": [
    {
     "data": {
      "text/plain": [
       "['pwskills', 'data', 'science']"
      ]
     },
     "execution_count": 306,
     "metadata": {},
     "output_type": "execute_result"
    }
   ],
   "source": [
    "l1"
   ]
  },
  {
   "cell_type": "code",
   "execution_count": 308,
   "id": "4edfdb83",
   "metadata": {},
   "outputs": [
    {
     "data": {
      "text/plain": [
       "['sllikswp', 'atad', 'ecneics']"
      ]
     },
     "execution_count": 308,
     "metadata": {},
     "output_type": "execute_result"
    }
   ],
   "source": [
    "ans1=list(map(lambda x:x[::-1],l1))\n",
    "ans1"
   ]
  },
  {
   "cell_type": "code",
   "execution_count": 309,
   "id": "95f9fc03",
   "metadata": {},
   "outputs": [],
   "source": [
    "from functools import reduce\n",
    "l1=[1,2,3,4]\n",
    "ans=reduce(lambda x,y:x*y,l1)"
   ]
  },
  {
   "cell_type": "code",
   "execution_count": 310,
   "id": "8be0a32e",
   "metadata": {},
   "outputs": [
    {
     "data": {
      "text/plain": [
       "24"
      ]
     },
     "execution_count": 310,
     "metadata": {},
     "output_type": "execute_result"
    }
   ],
   "source": [
    "ans"
   ]
  },
  {
   "cell_type": "code",
   "execution_count": 313,
   "id": "e692fd32",
   "metadata": {},
   "outputs": [
    {
     "data": {
      "text/plain": [
       "5"
      ]
     },
     "execution_count": 313,
     "metadata": {},
     "output_type": "execute_result"
    }
   ],
   "source": [
    "a1=[1,2,3,4,5]\n",
    "reduce(lambda a,b: a if a>b else b,a1)\n"
   ]
  },
  {
   "cell_type": "code",
   "execution_count": 315,
   "id": "f702e915",
   "metadata": {},
   "outputs": [
    {
     "data": {
      "text/plain": [
       "8"
      ]
     },
     "execution_count": 315,
     "metadata": {},
     "output_type": "execute_result"
    }
   ],
   "source": [
    "l1=[1,2,3,4,5]\n",
    "reduce(lambda x,y:x*y,[i for i in l1 if (i%2==0)])"
   ]
  },
  {
   "cell_type": "code",
   "execution_count": 320,
   "id": "55ba7d43",
   "metadata": {},
   "outputs": [
    {
     "data": {
      "text/plain": [
       "[2, 2, 2]"
      ]
     },
     "execution_count": 320,
     "metadata": {},
     "output_type": "execute_result"
    }
   ],
   "source": [
    "l1=[1,2,3,2,1,2,21,3,41]\n",
    "ans=list(filter(lambda x:x%2==0,l1))\n",
    "ans"
   ]
  },
  {
   "cell_type": "code",
   "execution_count": 324,
   "id": "6c846a4f",
   "metadata": {},
   "outputs": [],
   "source": [
    "s='PwSKILls'\n",
    "ans=map(lambda x:x.upper(),s)"
   ]
  },
  {
   "cell_type": "code",
   "execution_count": 325,
   "id": "9e59572f",
   "metadata": {},
   "outputs": [
    {
     "data": {
      "text/plain": [
       "['P', 'W', 'S', 'K', 'I', 'L', 'L', 'S']"
      ]
     },
     "execution_count": 325,
     "metadata": {},
     "output_type": "execute_result"
    }
   ],
   "source": [
    "list(ans)"
   ]
  },
  {
   "cell_type": "code",
   "execution_count": 326,
   "id": "b23da5ed",
   "metadata": {},
   "outputs": [
    {
     "data": {
      "text/plain": [
       "15"
      ]
     },
     "execution_count": 326,
     "metadata": {},
     "output_type": "execute_result"
    }
   ],
   "source": [
    "sum1=0\n",
    "n=1\n",
    "t=5\n",
    "while(n<=t):\n",
    "    sum1+=n\n",
    "    n+=1\n",
    "sum1"
   ]
  },
  {
   "cell_type": "code",
   "execution_count": 327,
   "id": "5ebcc566",
   "metadata": {},
   "outputs": [
    {
     "name": "stdout",
     "output_type": "stream",
     "text": [
      "19\n",
      "38\n",
      "57\n",
      "76\n",
      "95\n",
      "114\n",
      "133\n",
      "152\n",
      "171\n",
      "190\n"
     ]
    }
   ],
   "source": [
    "n1=19\n",
    "i=1\n",
    "n=11\n",
    "while(i<n):\n",
    "    print(n1*i)\n",
    "    i+=1\n"
   ]
  },
  {
   "cell_type": "code",
   "execution_count": 331,
   "id": "1be0940a",
   "metadata": {},
   "outputs": [
    {
     "name": "stdout",
     "output_type": "stream",
     "text": [
      "20\n",
      "19\n",
      "18\n",
      "17\n",
      "16\n",
      "15\n",
      "14\n",
      "13\n",
      "12\n",
      "11\n",
      "10\n",
      "9\n",
      "8\n",
      "7\n",
      "6\n",
      "5\n",
      "4\n",
      "3\n",
      "2\n",
      "1\n",
      "0\n"
     ]
    }
   ],
   "source": [
    "import time\n",
    "s=20\n",
    "while(s>=0):\n",
    "    print(s)\n",
    "    time.sleep(1)\n",
    "    s-=1\n",
    "    "
   ]
  },
  {
   "cell_type": "code",
   "execution_count": null,
   "id": "d050c470",
   "metadata": {},
   "outputs": [],
   "source": []
  }
 ],
 "metadata": {
  "kernelspec": {
   "display_name": "Python 3 (ipykernel)",
   "language": "python",
   "name": "python3"
  },
  "language_info": {
   "codemirror_mode": {
    "name": "ipython",
    "version": 3
   },
   "file_extension": ".py",
   "mimetype": "text/x-python",
   "name": "python",
   "nbconvert_exporter": "python",
   "pygments_lexer": "ipython3",
   "version": "3.10.9"
  }
 },
 "nbformat": 4,
 "nbformat_minor": 5
}
