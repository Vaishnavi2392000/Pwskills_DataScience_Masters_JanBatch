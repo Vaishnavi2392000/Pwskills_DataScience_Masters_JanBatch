{
 "cells": [
  {
   "cell_type": "markdown",
   "id": "befd75f3-0e15-4cca-90bc-558d0def7d30",
   "metadata": {},
   "source": [
    "### Operators"
   ]
  },
  {
   "cell_type": "raw",
   "id": "82346f47-d79e-4233-a53d-db8a6f822832",
   "metadata": {},
   "source": [
    "1. Numeric----> int,float,complex\n",
    "2. string---->str\n",
    "3. list\n",
    "4. tuple\n",
    "5. set\n",
    "6. dictionary"
   ]
  },
  {
   "cell_type": "code",
   "execution_count": 1,
   "id": "5e600976-fc78-4fa3-a433-60106c348bf7",
   "metadata": {},
   "outputs": [
    {
     "data": {
      "text/plain": [
       "10"
      ]
     },
     "execution_count": 1,
     "metadata": {},
     "output_type": "execute_result"
    }
   ],
   "source": [
    "x=10\n",
    "x"
   ]
  },
  {
   "cell_type": "code",
   "execution_count": 2,
   "id": "43ea6642-c57d-4855-bb25-956bc0309a0b",
   "metadata": {},
   "outputs": [
    {
     "data": {
      "text/plain": [
       "'pwskills'"
      ]
     },
     "execution_count": 2,
     "metadata": {},
     "output_type": "execute_result"
    }
   ],
   "source": [
    "x=\"pwskills\"\n",
    "x"
   ]
  },
  {
   "cell_type": "code",
   "execution_count": 3,
   "id": "692a4ec9-8dce-4d71-881f-4bf374d1a3c3",
   "metadata": {},
   "outputs": [
    {
     "data": {
      "text/plain": [
       "[12, 34, 56, 78]"
      ]
     },
     "execution_count": 3,
     "metadata": {},
     "output_type": "execute_result"
    }
   ],
   "source": [
    "x=[12,34,56,78]\n",
    "x"
   ]
  },
  {
   "cell_type": "code",
   "execution_count": 4,
   "id": "bdfb0dee-3abc-4742-9929-bf266aaaf4ba",
   "metadata": {},
   "outputs": [
    {
     "data": {
      "text/plain": [
       "('we', 'us', 'them')"
      ]
     },
     "execution_count": 4,
     "metadata": {},
     "output_type": "execute_result"
    }
   ],
   "source": [
    "y=('we','us','them')\n",
    "y"
   ]
  },
  {
   "cell_type": "code",
   "execution_count": 5,
   "id": "03a20e7d-52f4-4009-a4f1-2bc57e5713b3",
   "metadata": {},
   "outputs": [
    {
     "data": {
      "text/plain": [
       "{1, 3, 12, 23}"
      ]
     },
     "execution_count": 5,
     "metadata": {},
     "output_type": "execute_result"
    }
   ],
   "source": [
    "h={12,3,1,1,1,23}\n",
    "h"
   ]
  },
  {
   "cell_type": "code",
   "execution_count": 8,
   "id": "673be43e-dbaf-4563-8c53-f43f004198b4",
   "metadata": {},
   "outputs": [
    {
     "data": {
      "text/plain": [
       "set"
      ]
     },
     "execution_count": 8,
     "metadata": {},
     "output_type": "execute_result"
    }
   ],
   "source": [
    "type(h)"
   ]
  },
  {
   "cell_type": "markdown",
   "id": "5c0a1f97-21bb-4ded-9f8f-176aba9f70e8",
   "metadata": {},
   "source": [
    "#### input output prograam"
   ]
  },
  {
   "cell_type": "code",
   "execution_count": 11,
   "id": "a3cf8d66-727f-400f-988a-77c34563a809",
   "metadata": {},
   "outputs": [
    {
     "name": "stdin",
     "output_type": "stream",
     "text": [
      " f\n"
     ]
    }
   ],
   "source": [
    "x=input()"
   ]
  },
  {
   "cell_type": "code",
   "execution_count": 13,
   "id": "79193f77-3a85-4e57-9776-ddf95bf81ea9",
   "metadata": {},
   "outputs": [
    {
     "name": "stdin",
     "output_type": "stream",
     "text": [
      "enter the input shreya\n"
     ]
    },
    {
     "name": "stdout",
     "output_type": "stream",
     "text": [
      "shreya\n"
     ]
    }
   ],
   "source": [
    "inp=input(\"enter the input\")\n",
    "print(inp)"
   ]
  },
  {
   "cell_type": "code",
   "execution_count": 15,
   "id": "4b3ce050-fc13-4b8b-a966-913387ceefb1",
   "metadata": {},
   "outputs": [
    {
     "name": "stdin",
     "output_type": "stream",
     "text": [
      "enter your age 23\n"
     ]
    },
    {
     "name": "stdout",
     "output_type": "stream",
     "text": [
      "my age is 23\n"
     ]
    }
   ],
   "source": [
    "y=input(\"enter your age\")\n",
    "print(\"my age is \" +y)"
   ]
  },
  {
   "cell_type": "code",
   "execution_count": 18,
   "id": "eb56317b-3a6c-4664-9611-c19a9beabc1a",
   "metadata": {},
   "outputs": [
    {
     "name": "stdin",
     "output_type": "stream",
     "text": [
      " 12\n",
      " 2\n"
     ]
    },
    {
     "name": "stdout",
     "output_type": "stream",
     "text": [
      "14\n"
     ]
    }
   ],
   "source": [
    "x=int(input())\n",
    "y=int(input())\n",
    "print(x+y)"
   ]
  },
  {
   "cell_type": "code",
   "execution_count": 21,
   "id": "9558826e-7709-42ea-a942-40c60a7c3cca",
   "metadata": {},
   "outputs": [
    {
     "name": "stdin",
     "output_type": "stream",
     "text": [
      "enter any number one\n"
     ]
    },
    {
     "ename": "ValueError",
     "evalue": "invalid literal for int() with base 10: 'one'",
     "output_type": "error",
     "traceback": [
      "\u001b[0;31m---------------------------------------------------------------------------\u001b[0m",
      "\u001b[0;31mValueError\u001b[0m                                Traceback (most recent call last)",
      "Cell \u001b[0;32mIn[21], line 1\u001b[0m\n\u001b[0;32m----> 1\u001b[0m x\u001b[38;5;241m=\u001b[39m\u001b[38;5;28;43mint\u001b[39;49m\u001b[43m(\u001b[49m\u001b[38;5;28;43minput\u001b[39;49m\u001b[43m(\u001b[49m\u001b[38;5;124;43m\"\u001b[39;49m\u001b[38;5;124;43menter any number\u001b[39;49m\u001b[38;5;124;43m\"\u001b[39;49m\u001b[43m)\u001b[49m\u001b[43m)\u001b[49m\n",
      "\u001b[0;31mValueError\u001b[0m: invalid literal for int() with base 10: 'one'"
     ]
    }
   ],
   "source": [
    "x=int(input(\"enter any number\"))\n"
   ]
  },
  {
   "cell_type": "code",
   "execution_count": 22,
   "id": "e9aad9f6-58c9-4542-af1c-3fcc2b74abfe",
   "metadata": {},
   "outputs": [
    {
     "name": "stdout",
     "output_type": "stream",
     "text": [
      "pwskills\n"
     ]
    }
   ],
   "source": [
    "print(\"pwskills\")"
   ]
  },
  {
   "cell_type": "code",
   "execution_count": 26,
   "id": "82fc92fe-9ee4-43e4-99bb-db5c67d72c3a",
   "metadata": {},
   "outputs": [
    {
     "name": "stdout",
     "output_type": "stream",
     "text": [
      " ok, hi pwskills!\n"
     ]
    }
   ],
   "source": [
    "x='hi'\n",
    "y='pwskills'\n",
    "print(f' ok, {x} {y}!')"
   ]
  },
  {
   "cell_type": "markdown",
   "id": "048e99f3-7147-4631-9706-7bf3d2f5e866",
   "metadata": {},
   "source": [
    "# :)"
   ]
  },
  {
   "cell_type": "code",
   "execution_count": 28,
   "id": "e7ef0e5a-d6f4-4f6a-af59-2052befa5601",
   "metadata": {},
   "outputs": [
    {
     "name": "stdin",
     "output_type": "stream",
     "text": [
      "enter first name shreya\n",
      "enter second name indra\n",
      "enter third name pooja\n"
     ]
    },
    {
     "name": "stdout",
     "output_type": "stream",
     "text": [
      "shreya- meet indra and his friend pooja\n"
     ]
    }
   ],
   "source": [
    "a=input(\"enter first name\")\n",
    "b=input(\"enter second name\")\n",
    "c=input(\"enter third name\")\n",
    "print(f'{a}- meet {b} and his friend {c}')"
   ]
  },
  {
   "cell_type": "markdown",
   "id": "4b734cad-4d3a-4e54-8666-a3782f158145",
   "metadata": {},
   "source": [
    "# :)"
   ]
  },
  {
   "cell_type": "code",
   "execution_count": 30,
   "id": "c2a53ad9-d9c3-47e1-9583-ea9941af32ce",
   "metadata": {},
   "outputs": [
    {
     "name": "stdout",
     "output_type": "stream",
     "text": [
      "pwskills and data science\n"
     ]
    }
   ],
   "source": [
    "print(\"{} and {}\".format(\"pwskills\",'data science'))"
   ]
  },
  {
   "cell_type": "code",
   "execution_count": null,
   "id": "8df393f6-27ce-4a26-8609-47b87b059da3",
   "metadata": {},
   "outputs": [],
   "source": [
    "print(\"{} and {}\")"
   ]
  }
 ],
 "metadata": {
  "kernelspec": {
   "display_name": "Python 3 (ipykernel)",
   "language": "python",
   "name": "python3"
  },
  "language_info": {
   "codemirror_mode": {
    "name": "ipython",
    "version": 3
   },
   "file_extension": ".py",
   "mimetype": "text/x-python",
   "name": "python",
   "nbconvert_exporter": "python",
   "pygments_lexer": "ipython3",
   "version": "3.10.8"
  }
 },
 "nbformat": 4,
 "nbformat_minor": 5
}
