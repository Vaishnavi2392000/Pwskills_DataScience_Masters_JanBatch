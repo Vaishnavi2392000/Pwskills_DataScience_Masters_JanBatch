{
 "cells": [
  {
   "cell_type": "code",
   "execution_count": 1,
   "id": "ca0725c8-0d02-4a69-9bad-64515244d7a0",
   "metadata": {},
   "outputs": [
    {
     "data": {
      "text/plain": [
       "'dATA sCIENCE mASTERS'"
      ]
     },
     "execution_count": 1,
     "metadata": {},
     "output_type": "execute_result"
    }
   ],
   "source": [
    "name=\"Data Science Masters\"\n",
    "name.swapcase()\n"
   ]
  },
  {
   "cell_type": "code",
   "execution_count": 2,
   "id": "4f6019a0-e8f7-4499-a507-428580cc9648",
   "metadata": {},
   "outputs": [
    {
     "data": {
      "text/plain": [
       "'Data Science Masters'"
      ]
     },
     "execution_count": 2,
     "metadata": {},
     "output_type": "execute_result"
    }
   ],
   "source": [
    "name.title()"
   ]
  },
  {
   "cell_type": "code",
   "execution_count": 3,
   "id": "0581efbe-9e8c-4c1d-91cc-e2b59abaa88f",
   "metadata": {},
   "outputs": [
    {
     "data": {
      "text/plain": [
       "'Data science masters'"
      ]
     },
     "execution_count": 3,
     "metadata": {},
     "output_type": "execute_result"
    }
   ],
   "source": [
    "name.capitalize()"
   ]
  },
  {
   "cell_type": "code",
   "execution_count": 4,
   "id": "8d0c5cfa-0051-4af8-b221-82c1175b2338",
   "metadata": {},
   "outputs": [
    {
     "data": {
      "text/plain": [
       "'s r e t s a M   e c n e i c S   a t a D'"
      ]
     },
     "execution_count": 4,
     "metadata": {},
     "output_type": "execute_result"
    }
   ],
   "source": [
    "' '.join(reversed(name))"
   ]
  },
  {
   "cell_type": "code",
   "execution_count": 5,
   "id": "547c58fb-8a8f-4827-8565-f44a6a77191b",
   "metadata": {},
   "outputs": [
    {
     "data": {
      "text/plain": [
       "'vvivekavivekiviveksvivekhviveknviveka'"
      ]
     },
     "execution_count": 5,
     "metadata": {},
     "output_type": "execute_result"
    }
   ],
   "source": [
    "'vivek'.join(\"vaishna\")"
   ]
  },
  {
   "cell_type": "code",
   "execution_count": 6,
   "id": "83fca5ed-bfe5-4bcf-a3c8-dd8ee7c1728d",
   "metadata": {},
   "outputs": [
    {
     "data": {
      "text/plain": [
       "'SVaivi hVaivi rVaivi eVaivi yVaivi a'"
      ]
     },
     "execution_count": 6,
     "metadata": {},
     "output_type": "execute_result"
    }
   ],
   "source": [
    "\"Vaivi \".join(\"Shreya\")"
   ]
  },
  {
   "cell_type": "code",
   "execution_count": 7,
   "id": "3113b258-63f7-43ce-916f-fd579a3a71fd",
   "metadata": {},
   "outputs": [
    {
     "data": {
      "text/plain": [
       "'apwskils npwskils t'"
      ]
     },
     "execution_count": 7,
     "metadata": {},
     "output_type": "execute_result"
    }
   ],
   "source": [
    "str(\"pwskils \".join(\"ant\"))"
   ]
  },
  {
   "cell_type": "code",
   "execution_count": 8,
   "id": "3414c82c-90ef-4a0d-9b25-9b8b66ba36b7",
   "metadata": {},
   "outputs": [
    {
     "data": {
      "text/plain": [
       "'pwskills is a good company'"
      ]
     },
     "execution_count": 8,
     "metadata": {},
     "output_type": "execute_result"
    }
   ],
   "source": [
    "str1=\"pwskills is a good company\"\n",
    "str1"
   ]
  },
  {
   "cell_type": "code",
   "execution_count": 9,
   "id": "4b18d000-8ee4-4a91-851a-faef43a12836",
   "metadata": {},
   "outputs": [
    {
     "data": {
      "text/plain": [
       "'Spwskills is a good companyhpwskills is a good companyrpwskills is a good companyepwskills is a good companyypwskills is a good companya'"
      ]
     },
     "execution_count": 9,
     "metadata": {},
     "output_type": "execute_result"
    }
   ],
   "source": [
    "str1 .join(\"Shreya\")"
   ]
  },
  {
   "cell_type": "code",
   "execution_count": 10,
   "id": "5d37115f-625a-4300-aa5f-ed0fc01707d6",
   "metadata": {},
   "outputs": [
    {
     "data": {
      "text/plain": [
       "'ynapmoc doog a si sllikswp'"
      ]
     },
     "execution_count": 10,
     "metadata": {},
     "output_type": "execute_result"
    }
   ],
   "source": [
    "('').join(reversed(str1))"
   ]
  },
  {
   "cell_type": "code",
   "execution_count": 11,
   "id": "4fc7e53a-d7f9-4083-b53d-2066e352dd8e",
   "metadata": {},
   "outputs": [
    {
     "data": {
      "text/plain": [
       "'ynapmoc doog a si sllikswp'"
      ]
     },
     "execution_count": 11,
     "metadata": {},
     "output_type": "execute_result"
    }
   ],
   "source": [
    "str1[::-1]"
   ]
  },
  {
   "cell_type": "code",
   "execution_count": 12,
   "id": "b26ddd4c-cf91-4dbc-91fb-fb3af0866234",
   "metadata": {},
   "outputs": [
    {
     "data": {
      "text/plain": [
       "str"
      ]
     },
     "execution_count": 12,
     "metadata": {},
     "output_type": "execute_result"
    }
   ],
   "source": [
    "type(('').join(reversed(str1)))"
   ]
  },
  {
   "cell_type": "code",
   "execution_count": 13,
   "id": "aa2f645e-8d41-44a6-97da-6617b14c8ab5",
   "metadata": {},
   "outputs": [
    {
     "data": {
      "text/plain": [
       "'<reversed object at 0x7f6f5238a7a0>'"
      ]
     },
     "execution_count": 13,
     "metadata": {},
     "output_type": "execute_result"
    }
   ],
   "source": [
    "str(reversed(str1))"
   ]
  },
  {
   "cell_type": "code",
   "execution_count": 14,
   "id": "6c44a216-aa82-4e2e-90bf-dd4fb91dd110",
   "metadata": {},
   "outputs": [
    {
     "data": {
      "text/plain": [
       "\"['s', 'l', 'l', 'i', 'k', 's', 'w', 'p']\""
      ]
     },
     "execution_count": 14,
     "metadata": {},
     "output_type": "execute_result"
    }
   ],
   "source": [
    "s1=\"pwskills\"\n",
    "str(list(reversed(s1)))"
   ]
  },
  {
   "cell_type": "markdown",
   "id": "536dcf1b-8a6a-4cc8-9118-58ad4155680f",
   "metadata": {},
   "source": []
  },
  {
   "cell_type": "code",
   "execution_count": 15,
   "id": "e896a0a3-e02f-421c-9971-8823661cb453",
   "metadata": {},
   "outputs": [
    {
     "name": "stdout",
     "output_type": "stream",
     "text": [
      "ynapmoc doog a si sllikswp"
     ]
    }
   ],
   "source": [
    "for i in reversed(str1):\n",
    "    print(i,end='')"
   ]
  },
  {
   "cell_type": "markdown",
   "id": "8488f3c7-5703-4246-aaa0-2264aa82a244",
   "metadata": {},
   "source": [
    "### more string functions"
   ]
  },
  {
   "cell_type": "code",
   "execution_count": 16,
   "id": "50d19234-03c8-413f-856e-19b5b913390a",
   "metadata": {},
   "outputs": [
    {
     "data": {
      "text/plain": [
       "'  pwskills     '"
      ]
     },
     "execution_count": 16,
     "metadata": {},
     "output_type": "execute_result"
    }
   ],
   "source": [
    "str2=\"  pwskills     \"\n",
    "str2"
   ]
  },
  {
   "cell_type": "code",
   "execution_count": 17,
   "id": "dda24dc1-b75c-48c5-ae91-61d4dfb754ea",
   "metadata": {},
   "outputs": [
    {
     "data": {
      "text/plain": [
       "'pwskills     '"
      ]
     },
     "execution_count": 17,
     "metadata": {},
     "output_type": "execute_result"
    }
   ],
   "source": [
    "str2.lstrip()"
   ]
  },
  {
   "cell_type": "code",
   "execution_count": 18,
   "id": "470defa5-7c6f-4bd7-bb4f-8b840e7edcff",
   "metadata": {},
   "outputs": [
    {
     "data": {
      "text/plain": [
       "'  pwskills'"
      ]
     },
     "execution_count": 18,
     "metadata": {},
     "output_type": "execute_result"
    }
   ],
   "source": [
    "str2.rstrip()"
   ]
  },
  {
   "cell_type": "code",
   "execution_count": 19,
   "id": "dec3bdf7-469f-4ff2-bda1-68c91c5cb61e",
   "metadata": {},
   "outputs": [
    {
     "data": {
      "text/plain": [
       "'pwskills'"
      ]
     },
     "execution_count": 19,
     "metadata": {},
     "output_type": "execute_result"
    }
   ],
   "source": [
    "str2.strip()"
   ]
  },
  {
   "cell_type": "code",
   "execution_count": 20,
   "id": "0afe72a3-af9b-4b39-813f-5740b2157ea9",
   "metadata": {},
   "outputs": [
    {
     "data": {
      "text/plain": [
       "140116097629872"
      ]
     },
     "execution_count": 20,
     "metadata": {},
     "output_type": "execute_result"
    }
   ],
   "source": [
    "str3=\"greetings from pwskills\"\n",
    "id(str3)"
   ]
  },
  {
   "cell_type": "code",
   "execution_count": 21,
   "id": "a9327a52-3d36-4ab6-87a0-b0984fc89465",
   "metadata": {},
   "outputs": [
    {
     "data": {
      "text/plain": [
       "'greetings from pwskills'"
      ]
     },
     "execution_count": 21,
     "metadata": {},
     "output_type": "execute_result"
    }
   ],
   "source": [
    "str3"
   ]
  },
  {
   "cell_type": "code",
   "execution_count": 22,
   "id": "941ecdb0-c831-440d-9eba-7d3a5e09a4fe",
   "metadata": {},
   "outputs": [
    {
     "data": {
      "text/plain": [
       "'greetings to pwskills'"
      ]
     },
     "execution_count": 22,
     "metadata": {},
     "output_type": "execute_result"
    }
   ],
   "source": [
    "str3.replace(\"from\",\"to\")\n"
   ]
  },
  {
   "cell_type": "code",
   "execution_count": 23,
   "id": "27b178cd-442c-4312-bffe-0aa7e6187f09",
   "metadata": {},
   "outputs": [
    {
     "data": {
      "text/plain": [
       "140116097629872"
      ]
     },
     "execution_count": 23,
     "metadata": {},
     "output_type": "execute_result"
    }
   ],
   "source": [
    "id(str3)"
   ]
  },
  {
   "cell_type": "code",
   "execution_count": 24,
   "id": "b5e168cd-ecf8-470c-b39c-71ffe23a5630",
   "metadata": {},
   "outputs": [
    {
     "ename": "TypeError",
     "evalue": "'str' object does not support item assignment",
     "output_type": "error",
     "traceback": [
      "\u001b[0;31m---------------------------------------------------------------------------\u001b[0m",
      "\u001b[0;31mTypeError\u001b[0m                                 Traceback (most recent call last)",
      "Cell \u001b[0;32mIn[24], line 1\u001b[0m\n\u001b[0;32m----> 1\u001b[0m \u001b[43mstr3\u001b[49m\u001b[43m[\u001b[49m\u001b[38;5;241;43m0\u001b[39;49m\u001b[43m]\u001b[49m\u001b[38;5;241m=\u001b[39m\u001b[38;5;124m\"\u001b[39m\u001b[38;5;124mP\u001b[39m\u001b[38;5;124m\"\u001b[39m\n",
      "\u001b[0;31mTypeError\u001b[0m: 'str' object does not support item assignment"
     ]
    }
   ],
   "source": [
    "str3[0]=\"P\""
   ]
  },
  {
   "cell_type": "markdown",
   "id": "7e8b215d-72fc-4141-a1bd-47e6c4f857ee",
   "metadata": {},
   "source": [
    "### string does support the word replacement not the character "
   ]
  },
  {
   "cell_type": "code",
   "execution_count": 25,
   "id": "ceb19c11-a323-4803-a260-3fc831bbab0c",
   "metadata": {},
   "outputs": [],
   "source": [
    "str4=\"welcome to the pwskills\""
   ]
  },
  {
   "cell_type": "code",
   "execution_count": 26,
   "id": "3aa82f4f-611d-4cd7-a752-53bb27b7b1ff",
   "metadata": {},
   "outputs": [
    {
     "data": {
      "text/plain": [
       "140115798768688"
      ]
     },
     "execution_count": 26,
     "metadata": {},
     "output_type": "execute_result"
    }
   ],
   "source": [
    "id(str4)"
   ]
  },
  {
   "cell_type": "code",
   "execution_count": 27,
   "id": "e326a54a-f4c9-47db-932d-b32bc2ace7b2",
   "metadata": {},
   "outputs": [],
   "source": [
    "var2=str4.replace(\"welcome\",\"greetings\")"
   ]
  },
  {
   "cell_type": "code",
   "execution_count": 28,
   "id": "6765a1dd-02fa-4d7d-89c1-97d1691383f4",
   "metadata": {},
   "outputs": [
    {
     "data": {
      "text/plain": [
       "'greetings to the pwskills'"
      ]
     },
     "execution_count": 28,
     "metadata": {},
     "output_type": "execute_result"
    }
   ],
   "source": [
    "var2"
   ]
  },
  {
   "cell_type": "code",
   "execution_count": 29,
   "id": "c6bbebee-dfda-4e07-9bf7-6a3c0e1f9560",
   "metadata": {},
   "outputs": [
    {
     "data": {
      "text/plain": [
       "140115799117056"
      ]
     },
     "execution_count": 29,
     "metadata": {},
     "output_type": "execute_result"
    }
   ],
   "source": [
    "id(var2)"
   ]
  },
  {
   "cell_type": "code",
   "execution_count": 30,
   "id": "97b8e29b-5b49-4ed6-a31f-c873417b6c61",
   "metadata": {},
   "outputs": [
    {
     "data": {
      "text/plain": [
       "False"
      ]
     },
     "execution_count": 30,
     "metadata": {},
     "output_type": "execute_result"
    }
   ],
   "source": [
    "var2 is str4"
   ]
  },
  {
   "cell_type": "code",
   "execution_count": 31,
   "id": "9c9385ca-6834-4280-91da-e7366e1245ad",
   "metadata": {},
   "outputs": [
    {
     "data": {
      "text/plain": [
       "'welcome to pwskills. Welcome to dat cience master'"
      ]
     },
     "execution_count": 31,
     "metadata": {},
     "output_type": "execute_result"
    }
   ],
   "source": [
    "str1=\"welcome to pwskills. Welcome to dat cience master\"\n",
    "str1"
   ]
  },
  {
   "cell_type": "code",
   "execution_count": 32,
   "id": "3c285a77-f925-4802-8c83-07f7315f35ec",
   "metadata": {},
   "outputs": [
    {
     "data": {
      "text/plain": [
       "'welcome to pwskills. Welcome to data cience master'"
      ]
     },
     "execution_count": 32,
     "metadata": {},
     "output_type": "execute_result"
    }
   ],
   "source": [
    "str1.replace(\"dat\",'data')"
   ]
  },
  {
   "cell_type": "code",
   "execution_count": 33,
   "id": "71ad3b0e-c892-4b93-9b30-2f445ab188d6",
   "metadata": {},
   "outputs": [
    {
     "data": {
      "text/plain": [
       "'welcome to pwskills. Welcome to dat science master'"
      ]
     },
     "execution_count": 33,
     "metadata": {},
     "output_type": "execute_result"
    }
   ],
   "source": [
    "str1.replace(\"cience\",\"science\")"
   ]
  },
  {
   "cell_type": "code",
   "execution_count": 34,
   "id": "39cee66e-e945-42eb-a758-07ce0fc5411c",
   "metadata": {},
   "outputs": [],
   "source": [
    "## check string is upper case or not"
   ]
  },
  {
   "cell_type": "code",
   "execution_count": 35,
   "id": "146eb38d-be0b-4b83-a87c-07a95ad5b023",
   "metadata": {},
   "outputs": [],
   "source": [
    "str1=\"WELCOME  TO DATA SCINCE MASTER\""
   ]
  },
  {
   "cell_type": "code",
   "execution_count": 36,
   "id": "3a0ce3a1-48ed-4162-a19b-8d435c65a576",
   "metadata": {},
   "outputs": [
    {
     "data": {
      "text/plain": [
       "True"
      ]
     },
     "execution_count": 36,
     "metadata": {},
     "output_type": "execute_result"
    }
   ],
   "source": [
    "str1.isupper()"
   ]
  },
  {
   "cell_type": "code",
   "execution_count": 37,
   "id": "e5d3bd34-7f7d-463a-9c12-d4d28fcba8f9",
   "metadata": {},
   "outputs": [],
   "source": [
    "str1=\"Krish\"\n"
   ]
  },
  {
   "cell_type": "code",
   "execution_count": 38,
   "id": "fdd31335-3156-4f77-98b6-0813d5af2efe",
   "metadata": {},
   "outputs": [
    {
     "data": {
      "text/plain": [
       "False"
      ]
     },
     "execution_count": 38,
     "metadata": {},
     "output_type": "execute_result"
    }
   ],
   "source": [
    "str1.isupper()"
   ]
  },
  {
   "cell_type": "code",
   "execution_count": 39,
   "id": "a68c3e9d-d94d-41cf-8544-b34e9c4f7391",
   "metadata": {},
   "outputs": [
    {
     "data": {
      "text/plain": [
       "False"
      ]
     },
     "execution_count": 39,
     "metadata": {},
     "output_type": "execute_result"
    }
   ],
   "source": [
    "str1.islower()"
   ]
  },
  {
   "cell_type": "code",
   "execution_count": 40,
   "id": "41d77cbc-5d0b-4286-83c9-e88f12d959fa",
   "metadata": {},
   "outputs": [
    {
     "data": {
      "text/plain": [
       "'kRISH'"
      ]
     },
     "execution_count": 40,
     "metadata": {},
     "output_type": "execute_result"
    }
   ],
   "source": [
    "str1.swapcase()"
   ]
  },
  {
   "cell_type": "code",
   "execution_count": 41,
   "id": "5803f45e-157b-4a05-bb00-01d9e68a07cf",
   "metadata": {},
   "outputs": [
    {
     "data": {
      "text/plain": [
       "False"
      ]
     },
     "execution_count": 41,
     "metadata": {},
     "output_type": "execute_result"
    }
   ],
   "source": [
    "str1.isspace()"
   ]
  },
  {
   "cell_type": "code",
   "execution_count": 42,
   "id": "b7022907-411b-46dc-a4a2-fc1d85d1a11a",
   "metadata": {},
   "outputs": [
    {
     "data": {
      "text/plain": [
       "True"
      ]
     },
     "execution_count": 42,
     "metadata": {},
     "output_type": "execute_result"
    }
   ],
   "source": [
    "s=\"  \"\n",
    "s.isspace()"
   ]
  },
  {
   "cell_type": "code",
   "execution_count": 43,
   "id": "df09a4a8-c482-433c-9a57-5a6434f4617a",
   "metadata": {},
   "outputs": [
    {
     "data": {
      "text/plain": [
       "False"
      ]
     },
     "execution_count": 43,
     "metadata": {},
     "output_type": "execute_result"
    }
   ],
   "source": [
    "s=\"    krish\"\n",
    "s.isspace()"
   ]
  },
  {
   "cell_type": "code",
   "execution_count": 44,
   "id": "0beb02c8-9c64-49cd-a12d-9b328c86afb4",
   "metadata": {},
   "outputs": [
    {
     "data": {
      "text/plain": [
       "False"
      ]
     },
     "execution_count": 44,
     "metadata": {},
     "output_type": "execute_result"
    }
   ],
   "source": [
    "' v'.isspace()"
   ]
  },
  {
   "cell_type": "code",
   "execution_count": 45,
   "id": "288df81d-c110-4a0c-b6ab-3cb1a5adc1f3",
   "metadata": {},
   "outputs": [
    {
     "name": "stdout",
     "output_type": "stream",
     "text": [
      "there is no space\n"
     ]
    }
   ],
   "source": [
    "a=\"Vaishnavi\"\n",
    "if(a.isspace()):\n",
    "    print(\" space is there\")\n",
    "else:\n",
    "    print(\"there is no space\")"
   ]
  },
  {
   "cell_type": "code",
   "execution_count": 46,
   "id": "52b21f37-ed34-44d0-8dc3-a4c0761037aa",
   "metadata": {},
   "outputs": [
    {
     "data": {
      "text/plain": [
       "'pwskills'"
      ]
     },
     "execution_count": 46,
     "metadata": {},
     "output_type": "execute_result"
    }
   ],
   "source": [
    "str2=\"pwskills\"\n",
    "str2"
   ]
  },
  {
   "cell_type": "code",
   "execution_count": 47,
   "id": "d280c1bc-1722-4482-bfdd-758aeb5424ee",
   "metadata": {},
   "outputs": [
    {
     "data": {
      "text/plain": [
       "False"
      ]
     },
     "execution_count": 47,
     "metadata": {},
     "output_type": "execute_result"
    }
   ],
   "source": [
    "str2.endswith('p')"
   ]
  },
  {
   "cell_type": "code",
   "execution_count": 48,
   "id": "444a3d11-96b4-4b47-ae57-ed9afb272eb8",
   "metadata": {},
   "outputs": [
    {
     "data": {
      "text/plain": [
       "False"
      ]
     },
     "execution_count": 48,
     "metadata": {},
     "output_type": "execute_result"
    }
   ],
   "source": [
    "str2.startswith(\"s\")"
   ]
  },
  {
   "cell_type": "code",
   "execution_count": 49,
   "id": "c0529ca2-5302-4911-9ef7-2bf65fc77e4a",
   "metadata": {},
   "outputs": [],
   "source": [
    "## check all the characters are alphanumeric or not "
   ]
  },
  {
   "cell_type": "code",
   "execution_count": 50,
   "id": "b0e23846-cd84-41c8-877f-673e7b05ed71",
   "metadata": {},
   "outputs": [
    {
     "data": {
      "text/plain": [
       "True"
      ]
     },
     "execution_count": 50,
     "metadata": {},
     "output_type": "execute_result"
    }
   ],
   "source": [
    "a=\"abcd1234\"\n",
    "a.isalnum()"
   ]
  },
  {
   "cell_type": "code",
   "execution_count": 51,
   "id": "b1ab2ede-3afd-4295-ab70-be89a941eb99",
   "metadata": {},
   "outputs": [
    {
     "name": "stdout",
     "output_type": "stream",
     "text": [
      "7\n"
     ]
    }
   ],
   "source": [
    "##number of characters in the string\n",
    "a=\"welcome\"\n",
    "c=0\n",
    "for i in a:\n",
    "    c+=1\n",
    "print(c)\n",
    "    "
   ]
  },
  {
   "cell_type": "code",
   "execution_count": 52,
   "id": "ca3677c0-c916-426d-a136-562cebff7000",
   "metadata": {},
   "outputs": [
    {
     "data": {
      "text/plain": [
       "7"
      ]
     },
     "execution_count": 52,
     "metadata": {},
     "output_type": "execute_result"
    }
   ],
   "source": [
    "len(a)"
   ]
  },
  {
   "cell_type": "code",
   "execution_count": 53,
   "id": "81a11970-058d-4ad1-b5c1-149cc55bc48a",
   "metadata": {},
   "outputs": [
    {
     "name": "stdout",
     "output_type": "stream",
     "text": [
      "0 = w\n",
      "1 = e\n",
      "2 = l\n",
      "3 = c\n",
      "4 = o\n",
      "5 = m\n",
      "6 = e\n"
     ]
    }
   ],
   "source": [
    "for i in range(len(a)):\n",
    "    print(i,'=',a[i])"
   ]
  },
  {
   "cell_type": "code",
   "execution_count": 54,
   "id": "401f9e9a-ccd0-4185-882b-a7dbd1a074ab",
   "metadata": {},
   "outputs": [
    {
     "data": {
      "text/plain": [
       "'welcome'"
      ]
     },
     "execution_count": 54,
     "metadata": {},
     "output_type": "execute_result"
    }
   ],
   "source": [
    "a"
   ]
  },
  {
   "cell_type": "code",
   "execution_count": 55,
   "id": "5c1d3f98-de54-4618-bf7e-0bcf7bd57d6c",
   "metadata": {},
   "outputs": [
    {
     "name": "stdout",
     "output_type": "stream",
     "text": [
      "emoclew"
     ]
    }
   ],
   "source": [
    "i=len(a)-1\n",
    "while(i>=0):\n",
    "    print(a[i],end='')\n",
    "    i=i-1\n"
   ]
  },
  {
   "cell_type": "code",
   "execution_count": 56,
   "id": "81d1becf-bff7-494d-81ae-a2a9d3dd2dd8",
   "metadata": {},
   "outputs": [
    {
     "name": "stdout",
     "output_type": "stream",
     "text": [
      "emoclew"
     ]
    }
   ],
   "source": [
    "for i in range(len(a)-1,-1,-1):\n",
    "    print(a[i],end='')"
   ]
  },
  {
   "cell_type": "code",
   "execution_count": 57,
   "id": "7557e86f-6a82-4764-99e2-740092fb9f7c",
   "metadata": {},
   "outputs": [
    {
     "data": {
      "text/plain": [
       "range(6, 0)"
      ]
     },
     "execution_count": 57,
     "metadata": {},
     "output_type": "execute_result"
    }
   ],
   "source": [
    "range(len(a)-1,0)"
   ]
  },
  {
   "cell_type": "code",
   "execution_count": 58,
   "id": "44291797-285d-49a1-8590-ab1a990e71b0",
   "metadata": {},
   "outputs": [],
   "source": [
    "name=\"pwskillsA\"\n",
    "vowels=\"AaEeIiOoUu\"\n"
   ]
  },
  {
   "cell_type": "code",
   "execution_count": 59,
   "id": "614cb177-9067-460a-b00c-657fcb8b5baf",
   "metadata": {},
   "outputs": [
    {
     "name": "stdout",
     "output_type": "stream",
     "text": [
      "i\n",
      "A\n"
     ]
    }
   ],
   "source": [
    "for i in name:\n",
    "    if(i in vowels):\n",
    "        print(i)"
   ]
  },
  {
   "cell_type": "markdown",
   "id": "31d2982e-6ce6-476b-bb29-1f1d84599a4d",
   "metadata": {},
   "source": [
    "## list"
   ]
  },
  {
   "cell_type": "code",
   "execution_count": 60,
   "id": "a5f5949f-988b-4d24-80a7-63e17119bb95",
   "metadata": {},
   "outputs": [
    {
     "data": {
      "text/plain": [
       "[12, 34, 56, 78]"
      ]
     },
     "execution_count": 60,
     "metadata": {},
     "output_type": "execute_result"
    }
   ],
   "source": [
    "a=[12,34,56,78]\n",
    "a"
   ]
  },
  {
   "cell_type": "code",
   "execution_count": 61,
   "id": "5cc019c2-2673-4c5a-8a13-5670ef47be40",
   "metadata": {},
   "outputs": [
    {
     "data": {
      "text/plain": [
       "['data', 'science', 'masters', 'course']"
      ]
     },
     "execution_count": 61,
     "metadata": {},
     "output_type": "execute_result"
    }
   ],
   "source": [
    "lst1=['data','science','masters','course']\n",
    "lst1"
   ]
  },
  {
   "cell_type": "code",
   "execution_count": 62,
   "id": "2899ecf5-8cfe-4e15-9f8d-dbea2162b508",
   "metadata": {},
   "outputs": [
    {
     "data": {
      "text/plain": [
       "'data'"
      ]
     },
     "execution_count": 62,
     "metadata": {},
     "output_type": "execute_result"
    }
   ],
   "source": [
    "lst1[0]"
   ]
  },
  {
   "cell_type": "code",
   "execution_count": 63,
   "id": "18b743c7-9fd5-48bd-9e00-3b32b3842cb2",
   "metadata": {},
   "outputs": [],
   "source": [
    "lst1[0]='PW skills Data'"
   ]
  },
  {
   "cell_type": "code",
   "execution_count": 64,
   "id": "10999c97-9bc3-4c1d-a9ce-682ff32a89a0",
   "metadata": {},
   "outputs": [
    {
     "data": {
      "text/plain": [
       "['PW skills Data', 'science', 'masters', 'course']"
      ]
     },
     "execution_count": 64,
     "metadata": {},
     "output_type": "execute_result"
    }
   ],
   "source": [
    "lst1"
   ]
  },
  {
   "cell_type": "code",
   "execution_count": 65,
   "id": "ff6add6f-46cb-45b5-a778-fbc2088af8d4",
   "metadata": {},
   "outputs": [
    {
     "data": {
      "text/plain": [
       "'science'"
      ]
     },
     "execution_count": 65,
     "metadata": {},
     "output_type": "execute_result"
    }
   ],
   "source": [
    "lst1[1]"
   ]
  },
  {
   "cell_type": "code",
   "execution_count": 66,
   "id": "a0fd6958-615a-4af9-a79d-c36ba075e3c5",
   "metadata": {},
   "outputs": [
    {
     "data": {
      "text/plain": [
       "'science'"
      ]
     },
     "execution_count": 66,
     "metadata": {},
     "output_type": "execute_result"
    }
   ],
   "source": [
    "lst1[-3]"
   ]
  },
  {
   "cell_type": "code",
   "execution_count": 67,
   "id": "72d8edb8-a77f-4761-8bb1-947386f3717a",
   "metadata": {},
   "outputs": [
    {
     "data": {
      "text/plain": [
       "['PW skills Data', 'science', 'masters', 'course']"
      ]
     },
     "execution_count": 67,
     "metadata": {},
     "output_type": "execute_result"
    }
   ],
   "source": [
    "lst1[-4:]"
   ]
  },
  {
   "cell_type": "code",
   "execution_count": 68,
   "id": "54eb650e-01ff-495b-b8fd-a1977978d061",
   "metadata": {},
   "outputs": [
    {
     "data": {
      "text/plain": [
       "['PW skills Data', 'science', 'masters', 'course']"
      ]
     },
     "execution_count": 68,
     "metadata": {},
     "output_type": "execute_result"
    }
   ],
   "source": [
    "lst1"
   ]
  },
  {
   "cell_type": "code",
   "execution_count": 69,
   "id": "80a26bda-120a-4d10-99a9-4b245062e3ca",
   "metadata": {},
   "outputs": [],
   "source": [
    "lst2=lst1+[['new element',3]]"
   ]
  },
  {
   "cell_type": "code",
   "execution_count": 70,
   "id": "115694d7-9e39-4657-b4e9-569020964592",
   "metadata": {},
   "outputs": [
    {
     "data": {
      "text/plain": [
       "['PW skills Data', 'science', 'masters', 'course', ['new element', 3]]"
      ]
     },
     "execution_count": 70,
     "metadata": {},
     "output_type": "execute_result"
    }
   ],
   "source": [
    "lst2"
   ]
  },
  {
   "cell_type": "code",
   "execution_count": 71,
   "id": "d51e766a-62ef-4944-acf5-da2395b38460",
   "metadata": {},
   "outputs": [
    {
     "data": {
      "text/plain": [
       "'new element'"
      ]
     },
     "execution_count": 71,
     "metadata": {},
     "output_type": "execute_result"
    }
   ],
   "source": [
    "lst2[-1][0]"
   ]
  },
  {
   "cell_type": "code",
   "execution_count": 72,
   "id": "404fcd9b-5f17-44f9-831e-bf8e4d30015d",
   "metadata": {},
   "outputs": [
    {
     "data": {
      "text/plain": [
       "True"
      ]
     },
     "execution_count": 72,
     "metadata": {},
     "output_type": "execute_result"
    }
   ],
   "source": [
    "'science' in lst2"
   ]
  },
  {
   "cell_type": "code",
   "execution_count": 73,
   "id": "4204cbca-653c-42c1-bc7e-fa2ff28349bb",
   "metadata": {},
   "outputs": [
    {
     "name": "stdout",
     "output_type": "stream",
     "text": [
      "yes\n"
     ]
    }
   ],
   "source": [
    "for i in lst2:\n",
    "    if('science' in lst2):\n",
    "        print('yes')\n",
    "        break\n",
    "        \n",
    "        "
   ]
  },
  {
   "cell_type": "code",
   "execution_count": 74,
   "id": "4145a267-4a82-4bff-a29b-822d9b2a30f8",
   "metadata": {},
   "outputs": [
    {
     "name": "stdout",
     "output_type": "stream",
     "text": [
      "science\n"
     ]
    }
   ],
   "source": [
    "for ele in lst2:\n",
    "    if(ele=='science'):\n",
    "        print(ele)\n",
    "        break"
   ]
  },
  {
   "cell_type": "code",
   "execution_count": 75,
   "id": "ad44fefd-5616-4294-b735-6089c9862772",
   "metadata": {},
   "outputs": [],
   "source": [
    "l1=['zebra','monkey','donkey','lion']\n",
    "l2=[5,6,2,9,5,8,6]"
   ]
  },
  {
   "cell_type": "code",
   "execution_count": 76,
   "id": "f752dd64-a569-4839-acea-fcd9c56bda7f",
   "metadata": {},
   "outputs": [
    {
     "data": {
      "text/plain": [
       "['zebra', 'monkey', 'donkey', 'lion']"
      ]
     },
     "execution_count": 76,
     "metadata": {},
     "output_type": "execute_result"
    }
   ],
   "source": [
    "l1"
   ]
  },
  {
   "cell_type": "code",
   "execution_count": 77,
   "id": "dc226c77-c0b6-4a99-bc96-34418f0210fd",
   "metadata": {},
   "outputs": [
    {
     "data": {
      "text/plain": [
       "[5, 6, 2, 9, 5, 8, 6]"
      ]
     },
     "execution_count": 77,
     "metadata": {},
     "output_type": "execute_result"
    }
   ],
   "source": [
    "l2"
   ]
  },
  {
   "cell_type": "code",
   "execution_count": 78,
   "id": "c90215e9-2ab2-46cf-b0a0-8640527e706d",
   "metadata": {},
   "outputs": [
    {
     "data": {
      "text/plain": [
       "'zebra'"
      ]
     },
     "execution_count": 78,
     "metadata": {},
     "output_type": "execute_result"
    }
   ],
   "source": [
    "max(l1)"
   ]
  },
  {
   "cell_type": "code",
   "execution_count": 79,
   "id": "a6e46a3b-4855-4b9f-ab4c-dc2387c9085c",
   "metadata": {},
   "outputs": [
    {
     "data": {
      "text/plain": [
       "9"
      ]
     },
     "execution_count": 79,
     "metadata": {},
     "output_type": "execute_result"
    }
   ],
   "source": [
    "max(l2)"
   ]
  },
  {
   "cell_type": "code",
   "execution_count": 80,
   "id": "612727ab-89cf-42ab-92db-8188232abc72",
   "metadata": {},
   "outputs": [
    {
     "data": {
      "text/plain": [
       "'donkey'"
      ]
     },
     "execution_count": 80,
     "metadata": {},
     "output_type": "execute_result"
    }
   ],
   "source": [
    "min(l1)"
   ]
  },
  {
   "cell_type": "code",
   "execution_count": 81,
   "id": "7f719b69-b3a1-403d-8b4f-2de9d1645950",
   "metadata": {},
   "outputs": [
    {
     "data": {
      "text/plain": [
       "2"
      ]
     },
     "execution_count": 81,
     "metadata": {},
     "output_type": "execute_result"
    }
   ],
   "source": [
    "min(l2)"
   ]
  },
  {
   "cell_type": "code",
   "execution_count": 82,
   "id": "b2f770c5-edae-4f2c-a85a-75516398d465",
   "metadata": {},
   "outputs": [
    {
     "data": {
      "text/plain": [
       "90"
      ]
     },
     "execution_count": 82,
     "metadata": {},
     "output_type": "execute_result"
    }
   ],
   "source": [
    "a=90\n",
    "a"
   ]
  },
  {
   "cell_type": "code",
   "execution_count": 83,
   "id": "58e98f44-e768-478b-ba29-6c40a7a62740",
   "metadata": {},
   "outputs": [
    {
     "data": {
      "text/plain": [
       "'vaishnavi'"
      ]
     },
     "execution_count": 83,
     "metadata": {},
     "output_type": "execute_result"
    }
   ],
   "source": [
    "a='vaishnavi'\n",
    "a"
   ]
  },
  {
   "cell_type": "code",
   "execution_count": 84,
   "id": "abfd1c16-a93c-4993-9f73-36dcc8b893e7",
   "metadata": {},
   "outputs": [
    {
     "data": {
      "text/plain": [
       "'ivanhsiav'"
      ]
     },
     "execution_count": 84,
     "metadata": {},
     "output_type": "execute_result"
    }
   ],
   "source": [
    "''.join(reversed(a))"
   ]
  },
  {
   "cell_type": "code",
   "execution_count": 85,
   "id": "f31296e5-a13a-4991-b50d-b488e3ac76b6",
   "metadata": {},
   "outputs": [
    {
     "data": {
      "text/plain": [
       "['pw', 'skills', 'data', 'science', 'masters']"
      ]
     },
     "execution_count": 85,
     "metadata": {},
     "output_type": "execute_result"
    }
   ],
   "source": [
    "l=['pw','skills','data','science','masters']\n",
    "l"
   ]
  },
  {
   "cell_type": "code",
   "execution_count": 86,
   "id": "1652279a-3adc-49f9-9bd1-1fcc8fb0cbb5",
   "metadata": {},
   "outputs": [],
   "source": [
    "l[1]='ineuron'\n"
   ]
  },
  {
   "cell_type": "code",
   "execution_count": 87,
   "id": "d596ea33-436b-4f5a-9df3-42e02208fbb4",
   "metadata": {},
   "outputs": [
    {
     "data": {
      "text/plain": [
       "['pw', 'ineuron', 'data', 'science', 'masters']"
      ]
     },
     "execution_count": 87,
     "metadata": {},
     "output_type": "execute_result"
    }
   ],
   "source": [
    "l"
   ]
  },
  {
   "cell_type": "code",
   "execution_count": 88,
   "id": "5348aeae-3a13-4657-b61c-3f5fe06cd7c6",
   "metadata": {},
   "outputs": [
    {
     "data": {
      "text/plain": [
       "['pw', 'ineuron', 'data', 'science', 'masters', 'pwwallh']"
      ]
     },
     "execution_count": 88,
     "metadata": {},
     "output_type": "execute_result"
    }
   ],
   "source": [
    "l.append('pwwallh')\n",
    "l"
   ]
  },
  {
   "cell_type": "code",
   "execution_count": 89,
   "id": "e96661a9-120d-4540-8eae-ef1a964895f9",
   "metadata": {},
   "outputs": [
    {
     "data": {
      "text/plain": [
       "140115797175872"
      ]
     },
     "execution_count": 89,
     "metadata": {},
     "output_type": "execute_result"
    }
   ],
   "source": [
    "id(l)"
   ]
  },
  {
   "cell_type": "code",
   "execution_count": 90,
   "id": "58243d62-9796-4134-a855-5dc130cbf083",
   "metadata": {},
   "outputs": [
    {
     "data": {
      "text/plain": [
       "['pw',\n",
       " 'ineuron',\n",
       " 'data',\n",
       " 'science',\n",
       " 'masters',\n",
       " 'pwwallh',\n",
       " ['computer vision', 'deep learning']]"
      ]
     },
     "execution_count": 90,
     "metadata": {},
     "output_type": "execute_result"
    }
   ],
   "source": [
    "l.append(['computer vision','deep learning'])\n",
    "l"
   ]
  },
  {
   "cell_type": "code",
   "execution_count": 91,
   "id": "70bb5e88-565f-45fc-8c7a-0212b532fa6c",
   "metadata": {},
   "outputs": [
    {
     "data": {
      "text/plain": [
       "['skills', 'salary', 'experience', 'networking']"
      ]
     },
     "execution_count": 91,
     "metadata": {},
     "output_type": "execute_result"
    }
   ],
   "source": [
    "l=['skills','salary','experience','networking']\n",
    "l"
   ]
  },
  {
   "cell_type": "code",
   "execution_count": 92,
   "id": "9d2da543-415f-44cf-a079-9f84c3ffb411",
   "metadata": {},
   "outputs": [
    {
     "data": {
      "text/plain": [
       "'networking'"
      ]
     },
     "execution_count": 92,
     "metadata": {},
     "output_type": "execute_result"
    }
   ],
   "source": [
    "l.pop()"
   ]
  },
  {
   "cell_type": "code",
   "execution_count": 93,
   "id": "e462372d-260a-49f0-bbcd-5dc3560f5665",
   "metadata": {},
   "outputs": [
    {
     "data": {
      "text/plain": [
       "['skills', 'salary', 'experience']"
      ]
     },
     "execution_count": 93,
     "metadata": {},
     "output_type": "execute_result"
    }
   ],
   "source": [
    "l"
   ]
  },
  {
   "cell_type": "code",
   "execution_count": 94,
   "id": "b1181447-6e50-4670-bdc5-360dfc5b3b51",
   "metadata": {},
   "outputs": [
    {
     "data": {
      "text/plain": [
       "'skills'"
      ]
     },
     "execution_count": 94,
     "metadata": {},
     "output_type": "execute_result"
    }
   ],
   "source": [
    "l.pop(0)"
   ]
  },
  {
   "cell_type": "code",
   "execution_count": 95,
   "id": "f1f6c8ef-9e5c-4ce9-8ff4-8fc2aba74eef",
   "metadata": {},
   "outputs": [
    {
     "data": {
      "text/plain": [
       "['salary', 'experience']"
      ]
     },
     "execution_count": 95,
     "metadata": {},
     "output_type": "execute_result"
    }
   ],
   "source": [
    "l"
   ]
  },
  {
   "cell_type": "code",
   "execution_count": 96,
   "id": "496e290b-80ba-499b-8d79-51cc430cafdb",
   "metadata": {},
   "outputs": [
    {
     "data": {
      "text/plain": [
       "['monkey', 'donkey', 'lion']"
      ]
     },
     "execution_count": 96,
     "metadata": {},
     "output_type": "execute_result"
    }
   ],
   "source": [
    "l1=['monkey','donkey','lion']\n",
    "l1"
   ]
  },
  {
   "cell_type": "code",
   "execution_count": 97,
   "id": "5c898745-e706-4559-a827-47de8a7fa63e",
   "metadata": {},
   "outputs": [
    {
     "ename": "IndexError",
     "evalue": "list index out of range",
     "output_type": "error",
     "traceback": [
      "\u001b[0;31m---------------------------------------------------------------------------\u001b[0m",
      "\u001b[0;31mIndexError\u001b[0m                                Traceback (most recent call last)",
      "Cell \u001b[0;32mIn[97], line 1\u001b[0m\n\u001b[0;32m----> 1\u001b[0m \u001b[43ml1\u001b[49m\u001b[43m[\u001b[49m\u001b[38;5;241;43m100\u001b[39;49m\u001b[43m]\u001b[49m\n",
      "\u001b[0;31mIndexError\u001b[0m: list index out of range"
     ]
    }
   ],
   "source": [
    "l1[100]"
   ]
  },
  {
   "cell_type": "code",
   "execution_count": 98,
   "id": "f73735f4-a85d-4db4-aec6-8ec0b71e60c9",
   "metadata": {},
   "outputs": [
    {
     "data": {
      "text/plain": [
       "['a', 'w', 'f', 'e', 'r', 's']"
      ]
     },
     "execution_count": 98,
     "metadata": {},
     "output_type": "execute_result"
    }
   ],
   "source": [
    "l=['a','w','f','e','r','s']\n",
    "l"
   ]
  },
  {
   "cell_type": "code",
   "execution_count": 99,
   "id": "43a7e27a-4501-4b4b-a91d-a3379d17b58c",
   "metadata": {},
   "outputs": [
    {
     "data": {
      "text/plain": [
       "['a', 'w', 'f', 'e', 'r', 's']"
      ]
     },
     "execution_count": 99,
     "metadata": {},
     "output_type": "execute_result"
    }
   ],
   "source": [
    "l"
   ]
  },
  {
   "cell_type": "code",
   "execution_count": 100,
   "id": "2a33f836-5335-40ff-961d-eca504aae603",
   "metadata": {},
   "outputs": [
    {
     "data": {
      "text/plain": [
       "['a', 'w', 'f', 'e', 'r', 's', 'r']"
      ]
     },
     "execution_count": 100,
     "metadata": {},
     "output_type": "execute_result"
    }
   ],
   "source": [
    "l.append('r')\n",
    "l"
   ]
  },
  {
   "cell_type": "code",
   "execution_count": 101,
   "id": "a14674a8-c6bf-4810-9ffe-44ad4d65e1d2",
   "metadata": {},
   "outputs": [],
   "source": [
    "l.reverse()"
   ]
  },
  {
   "cell_type": "code",
   "execution_count": 102,
   "id": "4af81681-2e64-4da9-b3ff-241e39798cf2",
   "metadata": {},
   "outputs": [
    {
     "data": {
      "text/plain": [
       "['r', 's', 'r', 'e', 'f', 'w', 'a']"
      ]
     },
     "execution_count": 102,
     "metadata": {},
     "output_type": "execute_result"
    }
   ],
   "source": [
    "l"
   ]
  },
  {
   "cell_type": "code",
   "execution_count": 103,
   "id": "0253d2b6-7237-4be5-a215-ff027ba01221",
   "metadata": {},
   "outputs": [],
   "source": [
    "l.sort()"
   ]
  },
  {
   "cell_type": "code",
   "execution_count": 104,
   "id": "667aa3e8-0840-43a6-8043-ad97ddeceda3",
   "metadata": {},
   "outputs": [
    {
     "data": {
      "text/plain": [
       "['a', 'e', 'f', 'r', 'r', 's', 'w']"
      ]
     },
     "execution_count": 104,
     "metadata": {},
     "output_type": "execute_result"
    }
   ],
   "source": [
    "l"
   ]
  },
  {
   "cell_type": "code",
   "execution_count": 105,
   "id": "42a9d4ae-a259-4330-88bc-1b6f1aaaa2de",
   "metadata": {},
   "outputs": [],
   "source": [
    "lst=[12,34,56,67,'pwskills']\n"
   ]
  },
  {
   "cell_type": "code",
   "execution_count": 106,
   "id": "98fdaee0-cacb-429d-9c88-767240258a09",
   "metadata": {},
   "outputs": [
    {
     "data": {
      "text/plain": [
       "[12, 34, 56, 67, 'pwskills']"
      ]
     },
     "execution_count": 106,
     "metadata": {},
     "output_type": "execute_result"
    }
   ],
   "source": [
    "lst"
   ]
  },
  {
   "cell_type": "code",
   "execution_count": 107,
   "id": "056867fa-09a8-4ffa-b206-d5b3da3f8916",
   "metadata": {},
   "outputs": [],
   "source": [
    "lst.append(['masters','data science'])\n"
   ]
  },
  {
   "cell_type": "code",
   "execution_count": 108,
   "id": "fd004834-abae-421e-9255-255acbb9617d",
   "metadata": {},
   "outputs": [
    {
     "data": {
      "text/plain": [
       "[12, 34, 56, 67, 'pwskills', ['masters', 'data science']]"
      ]
     },
     "execution_count": 108,
     "metadata": {},
     "output_type": "execute_result"
    }
   ],
   "source": [
    "lst"
   ]
  },
  {
   "cell_type": "code",
   "execution_count": 109,
   "id": "38df896c-2b10-4856-bdf5-cb896c8e6e8c",
   "metadata": {},
   "outputs": [],
   "source": [
    "lst.extend(['masters','data science'])"
   ]
  },
  {
   "cell_type": "code",
   "execution_count": 110,
   "id": "a17cee31-f542-4f61-89c7-8b0e79a280d3",
   "metadata": {},
   "outputs": [
    {
     "data": {
      "text/plain": [
       "[12,\n",
       " 34,\n",
       " 56,\n",
       " 67,\n",
       " 'pwskills',\n",
       " ['masters', 'data science'],\n",
       " 'masters',\n",
       " 'data science']"
      ]
     },
     "execution_count": 110,
     "metadata": {},
     "output_type": "execute_result"
    }
   ],
   "source": [
    "lst"
   ]
  },
  {
   "cell_type": "code",
   "execution_count": 111,
   "id": "a7d51680-224e-440b-9f1c-27c2015da81e",
   "metadata": {},
   "outputs": [],
   "source": [
    "l1=[1,2,3]\n",
    "l2=[4,5,6]\n",
    "l3=[7,8,9]\n"
   ]
  },
  {
   "cell_type": "code",
   "execution_count": 112,
   "id": "5772d6cd-4ce3-48ad-9f6d-21725024ab30",
   "metadata": {},
   "outputs": [
    {
     "data": {
      "text/plain": [
       "[1, 2, 3]"
      ]
     },
     "execution_count": 112,
     "metadata": {},
     "output_type": "execute_result"
    }
   ],
   "source": [
    "l1"
   ]
  },
  {
   "cell_type": "code",
   "execution_count": 113,
   "id": "2ae6ec30-4dc3-43b3-af16-c21e65b451e4",
   "metadata": {},
   "outputs": [
    {
     "data": {
      "text/plain": [
       "[4, 5, 6]"
      ]
     },
     "execution_count": 113,
     "metadata": {},
     "output_type": "execute_result"
    }
   ],
   "source": [
    "l2"
   ]
  },
  {
   "cell_type": "code",
   "execution_count": 114,
   "id": "56a321e1-2653-4165-8cce-bf1629e5a9d6",
   "metadata": {},
   "outputs": [
    {
     "data": {
      "text/plain": [
       "[7, 8, 9]"
      ]
     },
     "execution_count": 114,
     "metadata": {},
     "output_type": "execute_result"
    }
   ],
   "source": [
    "l3"
   ]
  },
  {
   "cell_type": "code",
   "execution_count": 115,
   "id": "5a61e291-8bc4-4ce2-93f8-c59f95877adb",
   "metadata": {},
   "outputs": [],
   "source": [
    "l=[l1,l2,l3]"
   ]
  },
  {
   "cell_type": "code",
   "execution_count": 116,
   "id": "ef7d1a83-fedf-4d6e-83d8-d33ee56faeb6",
   "metadata": {},
   "outputs": [
    {
     "data": {
      "text/plain": [
       "[[1, 2, 3], [4, 5, 6], [7, 8, 9]]"
      ]
     },
     "execution_count": 116,
     "metadata": {},
     "output_type": "execute_result"
    }
   ],
   "source": [
    "l"
   ]
  },
  {
   "cell_type": "code",
   "execution_count": 117,
   "id": "12cf7201-5919-4df9-a27b-eadf49734ddc",
   "metadata": {},
   "outputs": [
    {
     "data": {
      "text/plain": [
       "[8, 9]"
      ]
     },
     "execution_count": 117,
     "metadata": {},
     "output_type": "execute_result"
    }
   ],
   "source": [
    "l[2][1:]"
   ]
  },
  {
   "cell_type": "code",
   "execution_count": 118,
   "id": "93e1d241-4e84-422d-937e-5fe658307ec1",
   "metadata": {},
   "outputs": [
    {
     "data": {
      "text/plain": [
       "[4, 6]"
      ]
     },
     "execution_count": 118,
     "metadata": {},
     "output_type": "execute_result"
    }
   ],
   "source": [
    "l[1][0::2]"
   ]
  },
  {
   "cell_type": "code",
   "execution_count": 119,
   "id": "70f164d4-967b-48ee-9f8f-4301720bb403",
   "metadata": {},
   "outputs": [
    {
     "data": {
      "text/plain": [
       "[2]"
      ]
     },
     "execution_count": 119,
     "metadata": {},
     "output_type": "execute_result"
    }
   ],
   "source": [
    "l[0][1::2]"
   ]
  },
  {
   "cell_type": "code",
   "execution_count": 120,
   "id": "8cb8f82a-a8d8-46e7-b616-1e79f4f434ad",
   "metadata": {},
   "outputs": [
    {
     "data": {
      "text/plain": [
       "[1, 2, 3]"
      ]
     },
     "execution_count": 120,
     "metadata": {},
     "output_type": "execute_result"
    }
   ],
   "source": [
    "l[0:3][0]"
   ]
  },
  {
   "cell_type": "code",
   "execution_count": 121,
   "id": "29ab0981-281b-4313-a23e-27b31c8c7405",
   "metadata": {},
   "outputs": [],
   "source": [
    "l=[i for i in range(20)]"
   ]
  },
  {
   "cell_type": "code",
   "execution_count": 122,
   "id": "3d51c48b-163d-4bfb-8da0-02a98278f1e8",
   "metadata": {},
   "outputs": [
    {
     "data": {
      "text/plain": [
       "[0, 1, 2, 3, 4, 5, 6, 7, 8, 9, 10, 11, 12, 13, 14, 15, 16, 17, 18, 19]"
      ]
     },
     "execution_count": 122,
     "metadata": {},
     "output_type": "execute_result"
    }
   ],
   "source": [
    "l"
   ]
  },
  {
   "cell_type": "code",
   "execution_count": 123,
   "id": "216601b6-f050-4313-83ff-c34b5ec67678",
   "metadata": {},
   "outputs": [
    {
     "data": {
      "text/plain": [
       "[('even', 0),\n",
       " 'odd',\n",
       " ('even', 2),\n",
       " 'odd',\n",
       " ('even', 4),\n",
       " 'odd',\n",
       " ('even', 6),\n",
       " 'odd',\n",
       " ('even', 8),\n",
       " 'odd',\n",
       " ('even', 10),\n",
       " 'odd',\n",
       " ('even', 12),\n",
       " 'odd',\n",
       " ('even', 14),\n",
       " 'odd',\n",
       " ('even', 16),\n",
       " 'odd',\n",
       " ('even', 18),\n",
       " 'odd']"
      ]
     },
     "execution_count": 123,
     "metadata": {},
     "output_type": "execute_result"
    }
   ],
   "source": [
    "[ ('even',i) if i%2==0 else 'odd' for i in range(20) ]"
   ]
  },
  {
   "cell_type": "code",
   "execution_count": 124,
   "id": "1a27f36c-6a9b-4468-99a0-b97fadc7e840",
   "metadata": {},
   "outputs": [
    {
     "data": {
      "text/plain": [
       "[1, 2, 3, 4, 5, 6, 7, 8, 9]"
      ]
     },
     "execution_count": 124,
     "metadata": {},
     "output_type": "execute_result"
    }
   ],
   "source": [
    "l2=[1,2,3,4,5,6,7,8,9]\n",
    "l2"
   ]
  },
  {
   "cell_type": "code",
   "execution_count": 125,
   "id": "0583c349-84c3-4e41-8626-109dc9aea63a",
   "metadata": {},
   "outputs": [
    {
     "data": {
      "text/plain": [
       "[1, 2, 3, 4, 5, 6, 7, 8, 9]"
      ]
     },
     "execution_count": 125,
     "metadata": {},
     "output_type": "execute_result"
    }
   ],
   "source": [
    "[i for i in l2]"
   ]
  },
  {
   "cell_type": "code",
   "execution_count": 126,
   "id": "7b101cf0-044e-42e3-8d29-810c3ed0d0f8",
   "metadata": {},
   "outputs": [
    {
     "data": {
      "text/plain": [
       "[' ', 2, ' ', 4, ' ', 6, ' ', 8, ' ']"
      ]
     },
     "execution_count": 126,
     "metadata": {},
     "output_type": "execute_result"
    }
   ],
   "source": [
    "[i if(i%2==0)  else ' 'for i in l2]"
   ]
  },
  {
   "cell_type": "code",
   "execution_count": 127,
   "id": "9f69a93d-c1d1-4d6f-9a86-6d675cedd8f5",
   "metadata": {},
   "outputs": [],
   "source": [
    "sum1=0\n",
    "sum2=0\n",
    "for i in l2:\n",
    "    if(i%2==0):\n",
    "        sum1=sum1+i\n",
    "    else:\n",
    "        sum2=sum2+i"
   ]
  },
  {
   "cell_type": "code",
   "execution_count": 128,
   "id": "41b7c251-67ed-4828-8ed8-891d15718ec8",
   "metadata": {},
   "outputs": [
    {
     "data": {
      "text/plain": [
       "20"
      ]
     },
     "execution_count": 128,
     "metadata": {},
     "output_type": "execute_result"
    }
   ],
   "source": [
    "sum1"
   ]
  },
  {
   "cell_type": "code",
   "execution_count": 129,
   "id": "9efd802c-71c6-450e-8dda-f1fccf491706",
   "metadata": {},
   "outputs": [
    {
     "data": {
      "text/plain": [
       "25"
      ]
     },
     "execution_count": 129,
     "metadata": {},
     "output_type": "execute_result"
    }
   ],
   "source": [
    "sum2"
   ]
  },
  {
   "cell_type": "code",
   "execution_count": 130,
   "id": "38f58642-4378-4a4a-90a3-ef1804288a04",
   "metadata": {},
   "outputs": [
    {
     "data": {
      "text/plain": [
       "20"
      ]
     },
     "execution_count": 130,
     "metadata": {},
     "output_type": "execute_result"
    }
   ],
   "source": [
    "sum([num for num in l2 if(num%2==0)])"
   ]
  },
  {
   "cell_type": "code",
   "execution_count": 131,
   "id": "a069de2c-9ee4-4012-917e-b5bf21153ac3",
   "metadata": {},
   "outputs": [
    {
     "data": {
      "text/plain": [
       "25"
      ]
     },
     "execution_count": 131,
     "metadata": {},
     "output_type": "execute_result"
    }
   ],
   "source": [
    "sum([num for num in l2 if (num%2!=0)])"
   ]
  },
  {
   "cell_type": "code",
   "execution_count": 132,
   "id": "63d9d59f-5a05-4ca7-9617-b0e8b8e150a7",
   "metadata": {},
   "outputs": [
    {
     "data": {
      "text/plain": [
       "[1, 4, 9, 16, 25, 36, 49, 64, 81]"
      ]
     },
     "execution_count": 132,
     "metadata": {},
     "output_type": "execute_result"
    }
   ],
   "source": [
    "[num**2 for num in l2]"
   ]
  },
  {
   "cell_type": "code",
   "execution_count": 133,
   "id": "117cdc19-ad56-4b8a-91f9-b432cfe595f1",
   "metadata": {},
   "outputs": [],
   "source": [
    "l3=[-3,4,-5,-6,7,-68,9,-2]"
   ]
  },
  {
   "cell_type": "code",
   "execution_count": 134,
   "id": "1811742a-d742-46a4-9286-7ff9f1b85839",
   "metadata": {},
   "outputs": [
    {
     "data": {
      "text/plain": [
       "[4, 7, 9]"
      ]
     },
     "execution_count": 134,
     "metadata": {},
     "output_type": "execute_result"
    }
   ],
   "source": [
    "[ i for i in l3 if(i>0)]"
   ]
  },
  {
   "cell_type": "code",
   "execution_count": 135,
   "id": "d21e573d-cea0-4e7e-a380-4e15285c8448",
   "metadata": {},
   "outputs": [
    {
     "data": {
      "text/plain": [
       "['pwskills', 'masters', 'amazing']"
      ]
     },
     "execution_count": 135,
     "metadata": {},
     "output_type": "execute_result"
    }
   ],
   "source": [
    "l=['pwskills','masters','amazing']\n",
    "l"
   ]
  },
  {
   "cell_type": "code",
   "execution_count": 136,
   "id": "1ecaecf4-e379-4e4a-9463-052079c59a45",
   "metadata": {},
   "outputs": [
    {
     "data": {
      "text/plain": [
       "['p', 'm', 'a']"
      ]
     },
     "execution_count": 136,
     "metadata": {},
     "output_type": "execute_result"
    }
   ],
   "source": [
    "[i[0] for i in l]"
   ]
  },
  {
   "cell_type": "markdown",
   "id": "c6543b2a-2922-4cb8-8c4a-ee0eff565771",
   "metadata": {},
   "source": [
    "(9/5)*temp+32"
   ]
  },
  {
   "cell_type": "code",
   "execution_count": 137,
   "id": "cb74f59d-293a-47ca-8513-42e00190fa62",
   "metadata": {},
   "outputs": [
    {
     "data": {
      "text/plain": [
       "[33.8, 35.6, 37.4, 39.2, 41.0, 42.8, 44.6, 46.4, 48.2]"
      ]
     },
     "execution_count": 137,
     "metadata": {},
     "output_type": "execute_result"
    }
   ],
   "source": [
    "[(9/5)*i+32 for i in l2]"
   ]
  },
  {
   "cell_type": "code",
   "execution_count": 138,
   "id": "7b63f577-c6b0-4fe3-bd5f-02f6ec739f91",
   "metadata": {},
   "outputs": [
    {
     "data": {
      "text/plain": [
       "['pwskills', 'masters', 'amazing']"
      ]
     },
     "execution_count": 138,
     "metadata": {},
     "output_type": "execute_result"
    }
   ],
   "source": [
    "l"
   ]
  },
  {
   "cell_type": "code",
   "execution_count": 139,
   "id": "8053af5a-f50e-4fda-9fb0-3a0bd874d9e2",
   "metadata": {},
   "outputs": [
    {
     "data": {
      "text/plain": [
       "[[1, 2, 3], [45, 67, 5], [1, 2, 3]]"
      ]
     },
     "execution_count": 139,
     "metadata": {},
     "output_type": "execute_result"
    }
   ],
   "source": [
    "l=[[1,2,3],[45,67,5],[1,2,3]]\n",
    "l"
   ]
  },
  {
   "cell_type": "code",
   "execution_count": 184,
   "id": "d32e528c-dc32-4909-91b2-479706932afe",
   "metadata": {},
   "outputs": [
    {
     "name": "stdout",
     "output_type": "stream",
     "text": [
      "1 2 3 45 67 5 1 2 3 "
     ]
    }
   ],
   "source": [
    "for i in range(len(l)):\n",
    "    for j in range(len(l)):\n",
    "        print(l[i][j],end=' ')"
   ]
  },
  {
   "cell_type": "code",
   "execution_count": 185,
   "id": "47237e95-ae62-46f5-af11-0c18cab0ca33",
   "metadata": {},
   "outputs": [],
   "source": [
    "l1=[i for j in l for i in j]"
   ]
  },
  {
   "cell_type": "code",
   "execution_count": 186,
   "id": "43ac886a-157c-4194-b5de-fa8e562ee49f",
   "metadata": {},
   "outputs": [
    {
     "data": {
      "text/plain": [
       "[1, 2, 3, 45, 67, 5, 1, 2, 3]"
      ]
     },
     "execution_count": 186,
     "metadata": {},
     "output_type": "execute_result"
    }
   ],
   "source": [
    "## give only prime numbers from given list \n",
    "l1"
   ]
  },
  {
   "cell_type": "code",
   "execution_count": null,
   "id": "e1a16b6b-4fd9-4167-93bc-94b6242ff183",
   "metadata": {},
   "outputs": [],
   "source": []
  },
  {
   "cell_type": "code",
   "execution_count": 188,
   "id": "46395375-f4cd-4e25-8e5e-d60a3e81eb62",
   "metadata": {},
   "outputs": [
    {
     "data": {
      "text/plain": [
       "0"
      ]
     },
     "execution_count": 188,
     "metadata": {},
     "output_type": "execute_result"
    }
   ],
   "source": [
    "2%1"
   ]
  },
  {
   "cell_type": "code",
   "execution_count": 189,
   "id": "4f9ab924-9e45-48eb-a45b-5418e1369dda",
   "metadata": {},
   "outputs": [
    {
     "name": "stdout",
     "output_type": "stream",
     "text": [
      "0\n",
      "1\n",
      "2\n"
     ]
    }
   ],
   "source": [
    "for i in range(3):\n",
    "    print(i)"
   ]
  },
  {
   "cell_type": "code",
   "execution_count": 194,
   "id": "27fed726-ef18-4354-8c7d-570e6213d718",
   "metadata": {},
   "outputs": [],
   "source": [
    "l4=[1,2,3,4,5,6,7,8,9,10,11]\n",
    "ans=[]\n",
    "if(i==1):\n",
    "    print('neither prime nor composite')\n",
    "for i in l4:\n",
    "    if(i>1):\n",
    "        for j in range(2,i):\n",
    "            if(i%j!=0):\n",
    "                ans.append(i)\n",
    "                break\n",
    "            else:\n",
    "                pass\n",
    "            \n",
    "            \n",
    "        "
   ]
  },
  {
   "cell_type": "code",
   "execution_count": 195,
   "id": "9d2f73b2-cb19-4f4f-87c4-05756b850569",
   "metadata": {},
   "outputs": [
    {
     "data": {
      "text/plain": [
       "[3, 4, 5, 6, 7, 8, 9, 10, 11]"
      ]
     },
     "execution_count": 195,
     "metadata": {},
     "output_type": "execute_result"
    }
   ],
   "source": [
    "ans"
   ]
  },
  {
   "cell_type": "code",
   "execution_count": 204,
   "id": "7f08b30b-cc46-4c22-a399-0ebcd8e6ab24",
   "metadata": {},
   "outputs": [],
   "source": [
    "i=67\n",
    "ans=[]\n",
    "f=False\n",
    "for j in range(2,i):\n",
    "            if(i%j!=0):\n",
    "                F=True\n",
    "                break\n",
    "            else:\n",
    "                F=False\n",
    "            "
   ]
  },
  {
   "cell_type": "code",
   "execution_count": 205,
   "id": "f8a9ac32-41f9-474c-b433-0348646041d6",
   "metadata": {},
   "outputs": [
    {
     "name": "stdout",
     "output_type": "stream",
     "text": [
      " no prime\n"
     ]
    }
   ],
   "source": [
    "if(f==True):\n",
    "       print(\"prime\") \n",
    "else:\n",
    "    print(\" no prime\")"
   ]
  },
  {
   "cell_type": "code",
   "execution_count": 206,
   "id": "1cba7f20-736f-4838-84a1-ac5b929a92cd",
   "metadata": {},
   "outputs": [
    {
     "name": "stdout",
     "output_type": "stream",
     "text": [
      "1 2\n",
      "1 3\n",
      "1 4\n",
      "2 3\n",
      "2 4\n",
      "3 4\n"
     ]
    }
   ],
   "source": [
    "a=[1,2,3,4]\n",
    "for i in range(len(a)):\n",
    "    for j in range(i+1,len(a)):\n",
    "        print(a[i],a[j])\n",
    "        "
   ]
  },
  {
   "cell_type": "code",
   "execution_count": null,
   "id": "893545a8-7859-4d5a-bfb7-7ab4a7344c86",
   "metadata": {},
   "outputs": [],
   "source": []
  },
  {
   "cell_type": "code",
   "execution_count": null,
   "id": "3e44a8eb-1c86-4dfd-a1ea-f73c6197c8b7",
   "metadata": {},
   "outputs": [],
   "source": []
  },
  {
   "cell_type": "code",
   "execution_count": null,
   "id": "4529bf71-7e6f-4914-9b0c-c69249ed2293",
   "metadata": {},
   "outputs": [],
   "source": []
  },
  {
   "cell_type": "code",
   "execution_count": null,
   "id": "6e190818-df21-429c-8aa7-3e331e8bfdeb",
   "metadata": {},
   "outputs": [],
   "source": []
  },
  {
   "cell_type": "code",
   "execution_count": null,
   "id": "fb9e2622-72d1-486a-9c28-1ba413849a4b",
   "metadata": {},
   "outputs": [],
   "source": []
  },
  {
   "cell_type": "code",
   "execution_count": null,
   "id": "96fd6d63-0b3c-4186-9b6b-a334e1b90485",
   "metadata": {},
   "outputs": [],
   "source": []
  },
  {
   "cell_type": "code",
   "execution_count": null,
   "id": "2cebfdc6-b139-4dd4-bbd4-faa927283b45",
   "metadata": {},
   "outputs": [],
   "source": []
  }
 ],
 "metadata": {
  "kernelspec": {
   "display_name": "Python 3 (ipykernel)",
   "language": "python",
   "name": "python3"
  },
  "language_info": {
   "codemirror_mode": {
    "name": "ipython",
    "version": 3
   },
   "file_extension": ".py",
   "mimetype": "text/x-python",
   "name": "python",
   "nbconvert_exporter": "python",
   "pygments_lexer": "ipython3",
   "version": "3.10.8"
  }
 },
 "nbformat": 4,
 "nbformat_minor": 5
}
