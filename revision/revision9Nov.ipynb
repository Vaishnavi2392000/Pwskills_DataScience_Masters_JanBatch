{
 "cells": [
  {
   "cell_type": "code",
   "execution_count": 1,
   "id": "8ff28aa4",
   "metadata": {},
   "outputs": [
    {
     "name": "stdout",
     "output_type": "stream",
     "text": [
      "my name is shreya and age is 23\n"
     ]
    }
   ],
   "source": [
    "name='shreya'\n",
    "age=23\n",
    "print(\"my name is\",name,'and age is',age)"
   ]
  },
  {
   "cell_type": "code",
   "execution_count": 2,
   "id": "a2109abe",
   "metadata": {},
   "outputs": [],
   "source": [
    "b1=True\n",
    "b2=False\n"
   ]
  },
  {
   "cell_type": "code",
   "execution_count": 3,
   "id": "541463da",
   "metadata": {},
   "outputs": [
    {
     "data": {
      "text/plain": [
       "False"
      ]
     },
     "execution_count": 3,
     "metadata": {},
     "output_type": "execute_result"
    }
   ],
   "source": [
    "b2&b2"
   ]
  },
  {
   "cell_type": "code",
   "execution_count": 4,
   "id": "71825ac6",
   "metadata": {},
   "outputs": [
    {
     "data": {
      "text/plain": [
       "1"
      ]
     },
     "execution_count": 4,
     "metadata": {},
     "output_type": "execute_result"
    }
   ],
   "source": [
    "b1+b2"
   ]
  },
  {
   "cell_type": "code",
   "execution_count": 5,
   "id": "bc376e84",
   "metadata": {},
   "outputs": [
    {
     "data": {
      "text/plain": [
       "1"
      ]
     },
     "execution_count": 5,
     "metadata": {},
     "output_type": "execute_result"
    }
   ],
   "source": [
    "b1-b2"
   ]
  },
  {
   "cell_type": "code",
   "execution_count": 6,
   "id": "e56ef40e",
   "metadata": {},
   "outputs": [
    {
     "data": {
      "text/plain": [
       "0"
      ]
     },
     "execution_count": 6,
     "metadata": {},
     "output_type": "execute_result"
    }
   ],
   "source": [
    "b1*b2"
   ]
  },
  {
   "cell_type": "code",
   "execution_count": 7,
   "id": "d436dfce",
   "metadata": {},
   "outputs": [
    {
     "data": {
      "text/plain": [
       "0.0"
      ]
     },
     "execution_count": 7,
     "metadata": {},
     "output_type": "execute_result"
    }
   ],
   "source": [
    "False/True"
   ]
  },
  {
   "cell_type": "code",
   "execution_count": 8,
   "id": "d0ea3b5f",
   "metadata": {},
   "outputs": [
    {
     "ename": "ZeroDivisionError",
     "evalue": "division by zero",
     "output_type": "error",
     "traceback": [
      "\u001b[1;31m---------------------------------------------------------------------------\u001b[0m",
      "\u001b[1;31mZeroDivisionError\u001b[0m                         Traceback (most recent call last)",
      "Cell \u001b[1;32mIn[8], line 1\u001b[0m\n\u001b[1;32m----> 1\u001b[0m \u001b[38;5;28;43;01mTrue\u001b[39;49;00m\u001b[38;5;241;43m/\u001b[39;49m\u001b[38;5;28;43;01mFalse\u001b[39;49;00m\n",
      "\u001b[1;31mZeroDivisionError\u001b[0m: division by zero"
     ]
    }
   ],
   "source": [
    "True/False"
   ]
  },
  {
   "cell_type": "code",
   "execution_count": 10,
   "id": "bbef2e29",
   "metadata": {},
   "outputs": [
    {
     "data": {
      "text/plain": [
       "1"
      ]
     },
     "execution_count": 10,
     "metadata": {},
     "output_type": "execute_result"
    }
   ],
   "source": [
    "True+False"
   ]
  },
  {
   "cell_type": "code",
   "execution_count": 11,
   "id": "ba3f7a32",
   "metadata": {},
   "outputs": [
    {
     "data": {
      "text/plain": [
       "False"
      ]
     },
     "execution_count": 11,
     "metadata": {},
     "output_type": "execute_result"
    }
   ],
   "source": [
    "True and False"
   ]
  },
  {
   "cell_type": "code",
   "execution_count": 12,
   "id": "633cbabb",
   "metadata": {},
   "outputs": [
    {
     "data": {
      "text/plain": [
       "\"this is revision class's\""
      ]
     },
     "execution_count": 12,
     "metadata": {},
     "output_type": "execute_result"
    }
   ],
   "source": [
    "s2=\"this is revision class's\"\n",
    "s2"
   ]
  },
  {
   "cell_type": "code",
   "execution_count": 13,
   "id": "46b2473d",
   "metadata": {},
   "outputs": [
    {
     "data": {
      "text/plain": [
       "'s'"
      ]
     },
     "execution_count": 13,
     "metadata": {},
     "output_type": "execute_result"
    }
   ],
   "source": [
    "s='sudh'\n",
    "s[0]"
   ]
  },
  {
   "cell_type": "code",
   "execution_count": 14,
   "id": "2dd1960f",
   "metadata": {},
   "outputs": [
    {
     "data": {
      "text/plain": [
       "'h'"
      ]
     },
     "execution_count": 14,
     "metadata": {},
     "output_type": "execute_result"
    }
   ],
   "source": [
    "s[-1]"
   ]
  },
  {
   "cell_type": "code",
   "execution_count": 15,
   "id": "9ca89eb3",
   "metadata": {},
   "outputs": [
    {
     "data": {
      "text/plain": [
       "'pwskills'"
      ]
     },
     "execution_count": 15,
     "metadata": {},
     "output_type": "execute_result"
    }
   ],
   "source": [
    "s='pwskills'\n",
    "s"
   ]
  },
  {
   "cell_type": "code",
   "execution_count": 16,
   "id": "be00836c",
   "metadata": {},
   "outputs": [
    {
     "data": {
      "text/plain": [
       "'PWSKILLS'"
      ]
     },
     "execution_count": 16,
     "metadata": {},
     "output_type": "execute_result"
    }
   ],
   "source": [
    "s.upper()"
   ]
  },
  {
   "cell_type": "code",
   "execution_count": 17,
   "id": "350914b9",
   "metadata": {},
   "outputs": [
    {
     "data": {
      "text/plain": [
       "'pwskills'"
      ]
     },
     "execution_count": 17,
     "metadata": {},
     "output_type": "execute_result"
    }
   ],
   "source": [
    "s.lower()"
   ]
  },
  {
   "cell_type": "code",
   "execution_count": 18,
   "id": "76b6443e",
   "metadata": {},
   "outputs": [
    {
     "data": {
      "text/plain": [
       "True"
      ]
     },
     "execution_count": 18,
     "metadata": {},
     "output_type": "execute_result"
    }
   ],
   "source": [
    "s.isalpha()"
   ]
  },
  {
   "cell_type": "code",
   "execution_count": 19,
   "id": "96f76769",
   "metadata": {},
   "outputs": [
    {
     "data": {
      "text/plain": [
       "'pwskillspwskillspwskills'"
      ]
     },
     "execution_count": 19,
     "metadata": {},
     "output_type": "execute_result"
    }
   ],
   "source": [
    "s*3"
   ]
  },
  {
   "cell_type": "code",
   "execution_count": 23,
   "id": "76e0afdc",
   "metadata": {},
   "outputs": [
    {
     "data": {
      "text/plain": [
       "'    hello   world   '"
      ]
     },
     "execution_count": 23,
     "metadata": {},
     "output_type": "execute_result"
    }
   ],
   "source": [
    "s='    hello   world   '\n",
    "s"
   ]
  },
  {
   "cell_type": "code",
   "execution_count": 24,
   "id": "ae69c6ed",
   "metadata": {},
   "outputs": [
    {
     "data": {
      "text/plain": [
       "'hello   world'"
      ]
     },
     "execution_count": 24,
     "metadata": {},
     "output_type": "execute_result"
    }
   ],
   "source": [
    "s.strip()"
   ]
  },
  {
   "cell_type": "code",
   "execution_count": 25,
   "id": "2858e2ca",
   "metadata": {},
   "outputs": [
    {
     "data": {
      "text/plain": [
       "'hello   world   '"
      ]
     },
     "execution_count": 25,
     "metadata": {},
     "output_type": "execute_result"
    }
   ],
   "source": [
    "s.lstrip()"
   ]
  },
  {
   "cell_type": "code",
   "execution_count": 26,
   "id": "9baa8009",
   "metadata": {},
   "outputs": [
    {
     "data": {
      "text/plain": [
       "'    hello   world   '"
      ]
     },
     "execution_count": 26,
     "metadata": {},
     "output_type": "execute_result"
    }
   ],
   "source": [
    "s"
   ]
  },
  {
   "cell_type": "code",
   "execution_count": 27,
   "id": "73992f93",
   "metadata": {},
   "outputs": [],
   "source": [
    "## create a program that takes a sentence from the user and counts the number of vowels (a, e, i, o, u) in the string."
   ]
  },
  {
   "cell_type": "code",
   "execution_count": 29,
   "id": "3cee833c",
   "metadata": {},
   "outputs": [
    {
     "name": "stdout",
     "output_type": "stream",
     "text": [
      "2\n"
     ]
    }
   ],
   "source": [
    "s='pwskillsi'\n",
    "s1='aeiou'\n",
    "c=0\n",
    "for i in s:\n",
    "    if(i in s1):\n",
    "        c+=1\n",
    "print(c)\n",
    "    "
   ]
  },
  {
   "cell_type": "code",
   "execution_count": 33,
   "id": "5c66b124",
   "metadata": {},
   "outputs": [
    {
     "data": {
      "text/plain": [
       "'helloworld'"
      ]
     },
     "execution_count": 33,
     "metadata": {},
     "output_type": "execute_result"
    }
   ],
   "source": [
    "s=' hello  world'\n",
    "for i in s:\n",
    "    if(i==' '):\n",
    "        s=s.replace(' ','')\n",
    "s"
   ]
  },
  {
   "cell_type": "code",
   "execution_count": 34,
   "id": "06cd316e",
   "metadata": {},
   "outputs": [
    {
     "data": {
      "text/plain": [
       "list"
      ]
     },
     "execution_count": 34,
     "metadata": {},
     "output_type": "execute_result"
    }
   ],
   "source": [
    "l=[]\n",
    "type(l)"
   ]
  },
  {
   "cell_type": "code",
   "execution_count": 35,
   "id": "d2c2e01e",
   "metadata": {},
   "outputs": [
    {
     "data": {
      "text/plain": [
       "[1, 2, 3, 45, 'sudh', (34+5j), 89, 90.98]"
      ]
     },
     "execution_count": 35,
     "metadata": {},
     "output_type": "execute_result"
    }
   ],
   "source": [
    "l=[1,2,3,45,'sudh',34+5j,89,90.98]\n",
    "l"
   ]
  },
  {
   "cell_type": "code",
   "execution_count": 36,
   "id": "bef3562b",
   "metadata": {},
   "outputs": [
    {
     "data": {
      "text/plain": [
       "[1, 2, 3, 45, 'sudh', (34+5j), 89, 90.98]"
      ]
     },
     "execution_count": 36,
     "metadata": {},
     "output_type": "execute_result"
    }
   ],
   "source": [
    "l"
   ]
  },
  {
   "cell_type": "code",
   "execution_count": 37,
   "id": "915c1878",
   "metadata": {},
   "outputs": [
    {
     "data": {
      "text/plain": [
       "[1, 2, 3]"
      ]
     },
     "execution_count": 37,
     "metadata": {},
     "output_type": "execute_result"
    }
   ],
   "source": [
    "l[0:3]"
   ]
  },
  {
   "cell_type": "code",
   "execution_count": 39,
   "id": "5ee1a8ba",
   "metadata": {},
   "outputs": [
    {
     "data": {
      "text/plain": [
       "[45, 'sudh', (34+5j), 89]"
      ]
     },
     "execution_count": 39,
     "metadata": {},
     "output_type": "execute_result"
    }
   ],
   "source": [
    "l[3:-1:1]"
   ]
  },
  {
   "cell_type": "code",
   "execution_count": 41,
   "id": "6ff93a1a",
   "metadata": {},
   "outputs": [
    {
     "data": {
      "text/plain": [
       "[1,\n",
       " 2,\n",
       " 3,\n",
       " 45,\n",
       " 'sudh',\n",
       " (34+5j),\n",
       " 89,\n",
       " 90.98,\n",
       " 1,\n",
       " 2,\n",
       " 3,\n",
       " 45,\n",
       " 'sudh',\n",
       " (34+5j),\n",
       " 89,\n",
       " 90.98]"
      ]
     },
     "execution_count": 41,
     "metadata": {},
     "output_type": "execute_result"
    }
   ],
   "source": [
    "l*2\n"
   ]
  },
  {
   "cell_type": "code",
   "execution_count": 43,
   "id": "61c4f1f9",
   "metadata": {},
   "outputs": [],
   "source": [
    "l[2]='krish naik'"
   ]
  },
  {
   "cell_type": "code",
   "execution_count": 44,
   "id": "2072edf2",
   "metadata": {},
   "outputs": [
    {
     "data": {
      "text/plain": [
       "[1, 2, 'krish naik', 45, 'sudh', (34+5j), 89, 90.98]"
      ]
     },
     "execution_count": 44,
     "metadata": {},
     "output_type": "execute_result"
    }
   ],
   "source": [
    "l"
   ]
  },
  {
   "cell_type": "code",
   "execution_count": 45,
   "id": "528c47e3",
   "metadata": {},
   "outputs": [
    {
     "data": {
      "text/plain": [
       "2642868826560"
      ]
     },
     "execution_count": 45,
     "metadata": {},
     "output_type": "execute_result"
    }
   ],
   "source": [
    "l1=[1,2,3,4]\n",
    "id(l1)"
   ]
  },
  {
   "cell_type": "code",
   "execution_count": 46,
   "id": "d5db344d",
   "metadata": {},
   "outputs": [
    {
     "data": {
      "text/plain": [
       "2642868826560"
      ]
     },
     "execution_count": 46,
     "metadata": {},
     "output_type": "execute_result"
    }
   ],
   "source": [
    "l1[1]=23\n",
    "id(l1)"
   ]
  },
  {
   "cell_type": "code",
   "execution_count": 47,
   "id": "138a702b",
   "metadata": {},
   "outputs": [
    {
     "data": {
      "text/plain": [
       "(1, 2, 34, 56, 'krish naik', 'fsds')"
      ]
     },
     "execution_count": 47,
     "metadata": {},
     "output_type": "execute_result"
    }
   ],
   "source": [
    "t=(1,2,34,56,'krish naik','fsds')\n",
    "t"
   ]
  },
  {
   "cell_type": "code",
   "execution_count": 48,
   "id": "84ef44dc",
   "metadata": {},
   "outputs": [
    {
     "data": {
      "text/plain": [
       "1"
      ]
     },
     "execution_count": 48,
     "metadata": {},
     "output_type": "execute_result"
    }
   ],
   "source": [
    "t.count(2)"
   ]
  },
  {
   "cell_type": "code",
   "execution_count": 50,
   "id": "e616801f",
   "metadata": {},
   "outputs": [
    {
     "data": {
      "text/plain": [
       "2"
      ]
     },
     "execution_count": 50,
     "metadata": {},
     "output_type": "execute_result"
    }
   ],
   "source": [
    "t.index(34)"
   ]
  },
  {
   "cell_type": "code",
   "execution_count": 52,
   "id": "f3f44914",
   "metadata": {},
   "outputs": [
    {
     "data": {
      "text/plain": [
       "(1, 2, 34)"
      ]
     },
     "execution_count": 52,
     "metadata": {},
     "output_type": "execute_result"
    }
   ],
   "source": [
    "t[0:3]"
   ]
  },
  {
   "cell_type": "code",
   "execution_count": 53,
   "id": "15f9bef8",
   "metadata": {},
   "outputs": [
    {
     "data": {
      "text/plain": [
       "(1, 2, 34, 56, 'krish naik', 'fsds')"
      ]
     },
     "execution_count": 53,
     "metadata": {},
     "output_type": "execute_result"
    }
   ],
   "source": [
    "t"
   ]
  },
  {
   "cell_type": "code",
   "execution_count": 55,
   "id": "713f25e1",
   "metadata": {},
   "outputs": [
    {
     "ename": "TypeError",
     "evalue": "'tuple' object does not support item assignment",
     "output_type": "error",
     "traceback": [
      "\u001b[1;31m---------------------------------------------------------------------------\u001b[0m",
      "\u001b[1;31mTypeError\u001b[0m                                 Traceback (most recent call last)",
      "Cell \u001b[1;32mIn[55], line 1\u001b[0m\n\u001b[1;32m----> 1\u001b[0m t[\u001b[38;5;241m0\u001b[39m]\u001b[38;5;241m=\u001b[39m\u001b[38;5;124m'\u001b[39m\u001b[38;5;124mkrish naik\u001b[39m\u001b[38;5;124m'\u001b[39m\n",
      "\u001b[1;31mTypeError\u001b[0m: 'tuple' object does not support item assignment"
     ]
    }
   ],
   "source": [
    "t[0]='krish naik'"
   ]
  },
  {
   "cell_type": "code",
   "execution_count": 56,
   "id": "bee5352d",
   "metadata": {},
   "outputs": [],
   "source": [
    "t1=(1,2,3,4)"
   ]
  },
  {
   "cell_type": "code",
   "execution_count": 57,
   "id": "97636779",
   "metadata": {},
   "outputs": [
    {
     "data": {
      "text/plain": [
       "(1, 2, 34, 56, 'krish naik', 'fsds', 1, 2, 3, 4)"
      ]
     },
     "execution_count": 57,
     "metadata": {},
     "output_type": "execute_result"
    }
   ],
   "source": [
    "t+t1"
   ]
  },
  {
   "cell_type": "code",
   "execution_count": 58,
   "id": "b9eba9df",
   "metadata": {},
   "outputs": [
    {
     "data": {
      "text/plain": [
       "(1, 2, 3, 4)"
      ]
     },
     "execution_count": 58,
     "metadata": {},
     "output_type": "execute_result"
    }
   ],
   "source": [
    "t1"
   ]
  },
  {
   "cell_type": "code",
   "execution_count": 59,
   "id": "d3b49d22",
   "metadata": {},
   "outputs": [
    {
     "data": {
      "text/plain": [
       "(1, 2, 34, 56, 'krish naik', 'fsds')"
      ]
     },
     "execution_count": 59,
     "metadata": {},
     "output_type": "execute_result"
    }
   ],
   "source": [
    "t"
   ]
  },
  {
   "cell_type": "code",
   "execution_count": 60,
   "id": "cb56ffc0",
   "metadata": {},
   "outputs": [],
   "source": [
    "s={}"
   ]
  },
  {
   "cell_type": "code",
   "execution_count": 62,
   "id": "97da9b7e",
   "metadata": {},
   "outputs": [
    {
     "data": {
      "text/plain": [
       "dict"
      ]
     },
     "execution_count": 62,
     "metadata": {},
     "output_type": "execute_result"
    }
   ],
   "source": [
    "type(s)"
   ]
  },
  {
   "cell_type": "code",
   "execution_count": 63,
   "id": "b2e37c95",
   "metadata": {},
   "outputs": [
    {
     "data": {
      "text/plain": [
       "{1, 2, 3, 4, 5}"
      ]
     },
     "execution_count": 63,
     "metadata": {},
     "output_type": "execute_result"
    }
   ],
   "source": [
    "s={1,1,1,2,3,4,4,5}\n",
    "s"
   ]
  },
  {
   "cell_type": "code",
   "execution_count": 66,
   "id": "eb05d1ef",
   "metadata": {},
   "outputs": [
    {
     "data": {
      "text/plain": [
       "{'Vaishanvi', 'ghadge', 'sudh', 'vaishnavi'}"
      ]
     },
     "execution_count": 66,
     "metadata": {},
     "output_type": "execute_result"
    }
   ],
   "source": [
    "s={'sudh','vaishnavi','ghadge','Vaishanvi','ghadge'}\n",
    "s"
   ]
  },
  {
   "cell_type": "code",
   "execution_count": 69,
   "id": "7e4d3730",
   "metadata": {},
   "outputs": [],
   "source": [
    "s1={1,1,2,3,1,2,3}\n"
   ]
  },
  {
   "cell_type": "code",
   "execution_count": 70,
   "id": "ee1cdc18",
   "metadata": {},
   "outputs": [
    {
     "data": {
      "text/plain": [
       "{1, 2, 3}"
      ]
     },
     "execution_count": 70,
     "metadata": {},
     "output_type": "execute_result"
    }
   ],
   "source": [
    "s1"
   ]
  },
  {
   "cell_type": "code",
   "execution_count": 71,
   "id": "f85ec130",
   "metadata": {},
   "outputs": [
    {
     "ename": "TypeError",
     "evalue": "'set' object is not subscriptable",
     "output_type": "error",
     "traceback": [
      "\u001b[1;31m---------------------------------------------------------------------------\u001b[0m",
      "\u001b[1;31mTypeError\u001b[0m                                 Traceback (most recent call last)",
      "Cell \u001b[1;32mIn[71], line 1\u001b[0m\n\u001b[1;32m----> 1\u001b[0m \u001b[43ms\u001b[49m\u001b[43m[\u001b[49m\u001b[38;5;241;43m0\u001b[39;49m\u001b[43m]\u001b[49m\n",
      "\u001b[1;31mTypeError\u001b[0m: 'set' object is not subscriptable"
     ]
    }
   ],
   "source": [
    "s[0]"
   ]
  },
  {
   "cell_type": "code",
   "execution_count": 72,
   "id": "8e5a6528",
   "metadata": {},
   "outputs": [
    {
     "data": {
      "text/plain": [
       "{'sudh': 34,\n",
       " 'krish naik': [1, 2, 3, 4],\n",
       " 'sanaya': {2, 4, 5, 11},\n",
       " (23, 45, 56): 'sudh'}"
      ]
     },
     "execution_count": 72,
     "metadata": {},
     "output_type": "execute_result"
    }
   ],
   "source": [
    "d1={'sudh':34,'krish naik':[1,2,3,4],'sanaya':{11,2,4,5},(23,45,56):\"sudh\"}\n",
    "d1"
   ]
  },
  {
   "cell_type": "code",
   "execution_count": 73,
   "id": "42f3f4d5",
   "metadata": {},
   "outputs": [
    {
     "ename": "TypeError",
     "evalue": "unhashable type: 'list'",
     "output_type": "error",
     "traceback": [
      "\u001b[1;31m---------------------------------------------------------------------------\u001b[0m",
      "\u001b[1;31mTypeError\u001b[0m                                 Traceback (most recent call last)",
      "Cell \u001b[1;32mIn[73], line 1\u001b[0m\n\u001b[1;32m----> 1\u001b[0m d2\u001b[38;5;241m=\u001b[39m{[\u001b[38;5;241m1\u001b[39m,\u001b[38;5;241m2\u001b[39m,\u001b[38;5;241m3\u001b[39m,\u001b[38;5;241m4\u001b[39m]:\u001b[38;5;241m45\u001b[39m}\n",
      "\u001b[1;31mTypeError\u001b[0m: unhashable type: 'list'"
     ]
    }
   ],
   "source": [
    "d2={[1,2,3,4]:45}"
   ]
  },
  {
   "cell_type": "code",
   "execution_count": 74,
   "id": "9f222164",
   "metadata": {},
   "outputs": [
    {
     "data": {
      "text/plain": [
       "{(1, 2, 3, 4): 'sudh'}"
      ]
     },
     "execution_count": 74,
     "metadata": {},
     "output_type": "execute_result"
    }
   ],
   "source": [
    "d3={(1,2,3,4):'sudh'}\n",
    "d3"
   ]
  },
  {
   "cell_type": "code",
   "execution_count": 75,
   "id": "eda910d4",
   "metadata": {},
   "outputs": [
    {
     "ename": "TypeError",
     "evalue": "unhashable type: 'set'",
     "output_type": "error",
     "traceback": [
      "\u001b[1;31m---------------------------------------------------------------------------\u001b[0m",
      "\u001b[1;31mTypeError\u001b[0m                                 Traceback (most recent call last)",
      "Cell \u001b[1;32mIn[75], line 1\u001b[0m\n\u001b[1;32m----> 1\u001b[0m d4\u001b[38;5;241m=\u001b[39m{{\u001b[38;5;241m1\u001b[39m,\u001b[38;5;241m2\u001b[39m,\u001b[38;5;241m3\u001b[39m,\u001b[38;5;241m4\u001b[39m}:\u001b[38;5;241m45\u001b[39m}\n",
      "\u001b[1;31mTypeError\u001b[0m: unhashable type: 'set'"
     ]
    }
   ],
   "source": [
    "d4={{1,2,3,4}:45}"
   ]
  },
  {
   "cell_type": "code",
   "execution_count": 76,
   "id": "79f202e5",
   "metadata": {},
   "outputs": [
    {
     "ename": "TypeError",
     "evalue": "unhashable type: 'dict'",
     "output_type": "error",
     "traceback": [
      "\u001b[1;31m---------------------------------------------------------------------------\u001b[0m",
      "\u001b[1;31mTypeError\u001b[0m                                 Traceback (most recent call last)",
      "Cell \u001b[1;32mIn[76], line 1\u001b[0m\n\u001b[1;32m----> 1\u001b[0m d5\u001b[38;5;241m=\u001b[39m{{\u001b[38;5;241m12\u001b[39m:\u001b[38;5;241m34\u001b[39m}:\u001b[38;5;124m'\u001b[39m\u001b[38;5;124mFalse\u001b[39m\u001b[38;5;124m'\u001b[39m}\n\u001b[0;32m      2\u001b[0m d5\n",
      "\u001b[1;31mTypeError\u001b[0m: unhashable type: 'dict'"
     ]
    }
   ],
   "source": [
    "d5={{12:34}:'False'}\n",
    "d5"
   ]
  },
  {
   "cell_type": "code",
   "execution_count": 77,
   "id": "8e22e767",
   "metadata": {},
   "outputs": [],
   "source": [
    "d4={ \"course\":['mldl','springboot','spring hyberent','python'],\n",
    "    'mentor':(\"sudhanshu kumar\",'krish naik','priya bhatia'),\n",
    "    'fees':{20000,19000,20000},\n",
    "    'duration':'1 year',\n",
    "    'access year':'1 year'\n",
    "   }"
   ]
  },
  {
   "cell_type": "code",
   "execution_count": 78,
   "id": "f122715f",
   "metadata": {},
   "outputs": [
    {
     "data": {
      "text/plain": [
       "{'course': ['mldl', 'springboot', 'spring hyberent', 'python'],\n",
       " 'mentor': ('sudhanshu kumar', 'krish naik', 'priya bhatia'),\n",
       " 'fees': {19000, 20000},\n",
       " 'duration': '1 year',\n",
       " 'access year': '1 year'}"
      ]
     },
     "execution_count": 78,
     "metadata": {},
     "output_type": "execute_result"
    }
   ],
   "source": [
    "d4"
   ]
  },
  {
   "cell_type": "code",
   "execution_count": 80,
   "id": "851f723f",
   "metadata": {},
   "outputs": [],
   "source": [
    "d4['start data']='12 Aug'"
   ]
  },
  {
   "cell_type": "code",
   "execution_count": 86,
   "id": "d8b6ed31",
   "metadata": {},
   "outputs": [
    {
     "data": {
      "text/plain": [
       "{'course': ['mldl', 'springboot', 'spring hyberent', 'python'],\n",
       " 'mentor': ('sudhanshu kumar', 'krish naik', 'priya bhatia'),\n",
       " 'fees': {19000, 20000},\n",
       " 'duration': 'DURATON',\n",
       " 'access year': '1 year',\n",
       " 'start data': '12 Aug',\n",
       " 'Duration': 'DURATON'}"
      ]
     },
     "execution_count": 86,
     "metadata": {},
     "output_type": "execute_result"
    }
   ],
   "source": [
    "d4"
   ]
  },
  {
   "cell_type": "code",
   "execution_count": 89,
   "id": "59ca6061",
   "metadata": {},
   "outputs": [],
   "source": [
    "d4['duration']=1"
   ]
  },
  {
   "cell_type": "code",
   "execution_count": 90,
   "id": "1ecfecc8",
   "metadata": {},
   "outputs": [
    {
     "data": {
      "text/plain": [
       "{'course': ['mldl', 'springboot', 'spring hyberent', 'python'],\n",
       " 'mentor': ('sudhanshu kumar', 'krish naik', 'priya bhatia'),\n",
       " 'fees': {19000, 20000},\n",
       " 'duration': 1,\n",
       " 'access year': '1 year',\n",
       " 'start data': '12 Aug',\n",
       " 'Duration': 'DURATON'}"
      ]
     },
     "execution_count": 90,
     "metadata": {},
     "output_type": "execute_result"
    }
   ],
   "source": [
    "d4"
   ]
  },
  {
   "cell_type": "code",
   "execution_count": 92,
   "id": "9c728076",
   "metadata": {},
   "outputs": [
    {
     "data": {
      "text/plain": [
       "'DURATON'"
      ]
     },
     "execution_count": 92,
     "metadata": {},
     "output_type": "execute_result"
    }
   ],
   "source": [
    "d4.pop('Duration')"
   ]
  },
  {
   "cell_type": "code",
   "execution_count": 93,
   "id": "1977a631",
   "metadata": {},
   "outputs": [
    {
     "data": {
      "text/plain": [
       "{'course': ['mldl', 'springboot', 'spring hyberent', 'python'],\n",
       " 'mentor': ('sudhanshu kumar', 'krish naik', 'priya bhatia'),\n",
       " 'fees': {19000, 20000},\n",
       " 'duration': 1,\n",
       " 'access year': '1 year',\n",
       " 'start data': '12 Aug'}"
      ]
     },
     "execution_count": 93,
     "metadata": {},
     "output_type": "execute_result"
    }
   ],
   "source": [
    "d4"
   ]
  },
  {
   "cell_type": "code",
   "execution_count": 94,
   "id": "3672e7fe",
   "metadata": {},
   "outputs": [
    {
     "data": {
      "text/plain": [
       "['pwskills', 'data', 'science', 'masters', 'course']"
      ]
     },
     "execution_count": 94,
     "metadata": {},
     "output_type": "execute_result"
    }
   ],
   "source": [
    "s4='pwskills data science masters course'\n",
    "s4.split(' ')"
   ]
  },
  {
   "cell_type": "code",
   "execution_count": 95,
   "id": "099e2af6",
   "metadata": {},
   "outputs": [
    {
     "data": {
      "text/plain": [
       "['pwski', '', 's data science masters course']"
      ]
     },
     "execution_count": 95,
     "metadata": {},
     "output_type": "execute_result"
    }
   ],
   "source": [
    "s4.split('l')"
   ]
  },
  {
   "cell_type": "code",
   "execution_count": null,
   "id": "30afe8d1",
   "metadata": {},
   "outputs": [],
   "source": []
  }
 ],
 "metadata": {
  "kernelspec": {
   "display_name": "Python 3 (ipykernel)",
   "language": "python",
   "name": "python3"
  },
  "language_info": {
   "codemirror_mode": {
    "name": "ipython",
    "version": 3
   },
   "file_extension": ".py",
   "mimetype": "text/x-python",
   "name": "python",
   "nbconvert_exporter": "python",
   "pygments_lexer": "ipython3",
   "version": "3.10.9"
  }
 },
 "nbformat": 4,
 "nbformat_minor": 5
}
