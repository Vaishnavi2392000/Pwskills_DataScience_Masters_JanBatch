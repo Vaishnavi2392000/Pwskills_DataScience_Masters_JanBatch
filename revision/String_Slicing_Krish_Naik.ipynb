{
 "cells": [
  {
   "cell_type": "code",
   "execution_count": 1,
   "id": "1c58564c-d69c-447b-9e8f-9d694e83b3a7",
   "metadata": {},
   "outputs": [
    {
     "data": {
      "text/plain": [
       "10"
      ]
     },
     "execution_count": 1,
     "metadata": {},
     "output_type": "execute_result"
    }
   ],
   "source": [
    "a=10\n",
    "a"
   ]
  },
  {
   "cell_type": "markdown",
   "id": "8022ddc0-8df5-4df5-9963-1d2cfb085be5",
   "metadata": {},
   "source": [
    "## Data Structures"
   ]
  },
  {
   "cell_type": "markdown",
   "id": "b3f982cf-5168-4d62-b39f-b5fc9b9fd062",
   "metadata": {},
   "source": [
    "## 1. String "
   ]
  },
  {
   "cell_type": "code",
   "execution_count": 2,
   "id": "a102b21e-7251-4cf2-ba81-70d405171713",
   "metadata": {},
   "outputs": [
    {
     "data": {
      "text/plain": [
       "'pw skills data science master course'"
      ]
     },
     "execution_count": 2,
     "metadata": {},
     "output_type": "execute_result"
    }
   ],
   "source": [
    "str1=\"pw skills data science master course\"\n",
    "str1"
   ]
  },
  {
   "cell_type": "code",
   "execution_count": 3,
   "id": "59193fa0-f5c4-4fc5-808a-e2a38727ab2d",
   "metadata": {},
   "outputs": [
    {
     "data": {
      "text/plain": [
       "'p'"
      ]
     },
     "execution_count": 3,
     "metadata": {},
     "output_type": "execute_result"
    }
   ],
   "source": [
    "str1[0]"
   ]
  },
  {
   "cell_type": "code",
   "execution_count": 4,
   "id": "7ba5d02f-7a68-4312-bc01-66dbfbb08cd3",
   "metadata": {},
   "outputs": [
    {
     "data": {
      "text/plain": [
       "'ills data science master course'"
      ]
     },
     "execution_count": 4,
     "metadata": {},
     "output_type": "execute_result"
    }
   ],
   "source": [
    "str1[5:]"
   ]
  },
  {
   "cell_type": "code",
   "execution_count": 5,
   "id": "b80ccc63-9709-4ea5-a2cb-a73b0c6e655f",
   "metadata": {},
   "outputs": [
    {
     "data": {
      "text/plain": [
       "'e'"
      ]
     },
     "execution_count": 5,
     "metadata": {},
     "output_type": "execute_result"
    }
   ],
   "source": [
    "str1[-1]"
   ]
  },
  {
   "cell_type": "code",
   "execution_count": 6,
   "id": "134fecfc-1e2d-41d8-9153-a052efda884f",
   "metadata": {},
   "outputs": [
    {
     "data": {
      "text/plain": [
       "mappingproxy({'__new__': <function str.__new__(*args, **kwargs)>,\n",
       "              '__repr__': <slot wrapper '__repr__' of 'str' objects>,\n",
       "              '__hash__': <slot wrapper '__hash__' of 'str' objects>,\n",
       "              '__str__': <slot wrapper '__str__' of 'str' objects>,\n",
       "              '__getattribute__': <slot wrapper '__getattribute__' of 'str' objects>,\n",
       "              '__lt__': <slot wrapper '__lt__' of 'str' objects>,\n",
       "              '__le__': <slot wrapper '__le__' of 'str' objects>,\n",
       "              '__eq__': <slot wrapper '__eq__' of 'str' objects>,\n",
       "              '__ne__': <slot wrapper '__ne__' of 'str' objects>,\n",
       "              '__gt__': <slot wrapper '__gt__' of 'str' objects>,\n",
       "              '__ge__': <slot wrapper '__ge__' of 'str' objects>,\n",
       "              '__iter__': <slot wrapper '__iter__' of 'str' objects>,\n",
       "              '__mod__': <slot wrapper '__mod__' of 'str' objects>,\n",
       "              '__rmod__': <slot wrapper '__rmod__' of 'str' objects>,\n",
       "              '__len__': <slot wrapper '__len__' of 'str' objects>,\n",
       "              '__getitem__': <slot wrapper '__getitem__' of 'str' objects>,\n",
       "              '__add__': <slot wrapper '__add__' of 'str' objects>,\n",
       "              '__mul__': <slot wrapper '__mul__' of 'str' objects>,\n",
       "              '__rmul__': <slot wrapper '__rmul__' of 'str' objects>,\n",
       "              '__contains__': <slot wrapper '__contains__' of 'str' objects>,\n",
       "              'encode': <method 'encode' of 'str' objects>,\n",
       "              'replace': <method 'replace' of 'str' objects>,\n",
       "              'split': <method 'split' of 'str' objects>,\n",
       "              'rsplit': <method 'rsplit' of 'str' objects>,\n",
       "              'join': <method 'join' of 'str' objects>,\n",
       "              'capitalize': <method 'capitalize' of 'str' objects>,\n",
       "              'casefold': <method 'casefold' of 'str' objects>,\n",
       "              'title': <method 'title' of 'str' objects>,\n",
       "              'center': <method 'center' of 'str' objects>,\n",
       "              'count': <method 'count' of 'str' objects>,\n",
       "              'expandtabs': <method 'expandtabs' of 'str' objects>,\n",
       "              'find': <method 'find' of 'str' objects>,\n",
       "              'partition': <method 'partition' of 'str' objects>,\n",
       "              'index': <method 'index' of 'str' objects>,\n",
       "              'ljust': <method 'ljust' of 'str' objects>,\n",
       "              'lower': <method 'lower' of 'str' objects>,\n",
       "              'lstrip': <method 'lstrip' of 'str' objects>,\n",
       "              'rfind': <method 'rfind' of 'str' objects>,\n",
       "              'rindex': <method 'rindex' of 'str' objects>,\n",
       "              'rjust': <method 'rjust' of 'str' objects>,\n",
       "              'rstrip': <method 'rstrip' of 'str' objects>,\n",
       "              'rpartition': <method 'rpartition' of 'str' objects>,\n",
       "              'splitlines': <method 'splitlines' of 'str' objects>,\n",
       "              'strip': <method 'strip' of 'str' objects>,\n",
       "              'swapcase': <method 'swapcase' of 'str' objects>,\n",
       "              'translate': <method 'translate' of 'str' objects>,\n",
       "              'upper': <method 'upper' of 'str' objects>,\n",
       "              'startswith': <method 'startswith' of 'str' objects>,\n",
       "              'endswith': <method 'endswith' of 'str' objects>,\n",
       "              'removeprefix': <method 'removeprefix' of 'str' objects>,\n",
       "              'removesuffix': <method 'removesuffix' of 'str' objects>,\n",
       "              'isascii': <method 'isascii' of 'str' objects>,\n",
       "              'islower': <method 'islower' of 'str' objects>,\n",
       "              'isupper': <method 'isupper' of 'str' objects>,\n",
       "              'istitle': <method 'istitle' of 'str' objects>,\n",
       "              'isspace': <method 'isspace' of 'str' objects>,\n",
       "              'isdecimal': <method 'isdecimal' of 'str' objects>,\n",
       "              'isdigit': <method 'isdigit' of 'str' objects>,\n",
       "              'isnumeric': <method 'isnumeric' of 'str' objects>,\n",
       "              'isalpha': <method 'isalpha' of 'str' objects>,\n",
       "              'isalnum': <method 'isalnum' of 'str' objects>,\n",
       "              'isidentifier': <method 'isidentifier' of 'str' objects>,\n",
       "              'isprintable': <method 'isprintable' of 'str' objects>,\n",
       "              'zfill': <method 'zfill' of 'str' objects>,\n",
       "              'format': <method 'format' of 'str' objects>,\n",
       "              'format_map': <method 'format_map' of 'str' objects>,\n",
       "              '__format__': <method '__format__' of 'str' objects>,\n",
       "              'maketrans': <staticmethod(<built-in method maketrans of type object at 0x55e405319e40>)>,\n",
       "              '__sizeof__': <method '__sizeof__' of 'str' objects>,\n",
       "              '__getnewargs__': <method '__getnewargs__' of 'str' objects>,\n",
       "              '__doc__': \"str(object='') -> str\\nstr(bytes_or_buffer[, encoding[, errors]]) -> str\\n\\nCreate a new string object from the given object. If encoding or\\nerrors is specified, then the object must expose a data buffer\\nthat will be decoded using the given encoding and error handler.\\nOtherwise, returns the result of object.__str__() (if defined)\\nor repr(object).\\nencoding defaults to sys.getdefaultencoding().\\nerrors defaults to 'strict'.\"})"
      ]
     },
     "execution_count": 6,
     "metadata": {},
     "output_type": "execute_result"
    }
   ],
   "source": [
    "str.__dict__"
   ]
  },
  {
   "cell_type": "code",
   "execution_count": 7,
   "id": "68270266-8c33-40e9-a45c-a23f0e3968f9",
   "metadata": {},
   "outputs": [
    {
     "data": {
      "text/plain": [
       "' retsam ecneics atad sll'"
      ]
     },
     "execution_count": 7,
     "metadata": {},
     "output_type": "execute_result"
    }
   ],
   "source": [
    "str1[-7:5:-1]\n"
   ]
  },
  {
   "cell_type": "code",
   "execution_count": 8,
   "id": "b6da1bf2-7d54-424f-bd4d-537fe065445e",
   "metadata": {},
   "outputs": [
    {
     "data": {
      "text/plain": [
       "'Karthik'"
      ]
     },
     "execution_count": 8,
     "metadata": {},
     "output_type": "execute_result"
    }
   ],
   "source": [
    "str1='Karthik'\n",
    "str1"
   ]
  },
  {
   "cell_type": "code",
   "execution_count": 9,
   "id": "aa179768-9bfa-4dc5-8658-60ff5135164d",
   "metadata": {},
   "outputs": [
    {
     "data": {
      "text/plain": [
       "'rt'"
      ]
     },
     "execution_count": 9,
     "metadata": {},
     "output_type": "execute_result"
    }
   ],
   "source": [
    "str1[-5:4]"
   ]
  },
  {
   "cell_type": "code",
   "execution_count": 10,
   "id": "195e06b4-b1f5-4a57-97eb-4a8ad8e0d4b0",
   "metadata": {},
   "outputs": [
    {
     "data": {
      "text/plain": [
       "''"
      ]
     },
     "execution_count": 10,
     "metadata": {},
     "output_type": "execute_result"
    }
   ],
   "source": [
    "str1[-5:0]"
   ]
  },
  {
   "cell_type": "code",
   "execution_count": 11,
   "id": "5bf7d05b-42f6-4b4d-985d-edb003a9ba33",
   "metadata": {},
   "outputs": [
    {
     "data": {
      "text/plain": [
       "'kihtraK'"
      ]
     },
     "execution_count": 11,
     "metadata": {},
     "output_type": "execute_result"
    }
   ],
   "source": [
    "str1[::-1]"
   ]
  },
  {
   "cell_type": "code",
   "execution_count": 12,
   "id": "a9cdd26d-ca6b-4fac-ac85-a87f9662bad5",
   "metadata": {},
   "outputs": [
    {
     "data": {
      "text/plain": [
       "'Ka'"
      ]
     },
     "execution_count": 12,
     "metadata": {},
     "output_type": "execute_result"
    }
   ],
   "source": [
    "str1[0:-5:1]"
   ]
  },
  {
   "cell_type": "code",
   "execution_count": 13,
   "id": "4da7ff52-b86f-42f7-b42b-19b43942485e",
   "metadata": {},
   "outputs": [],
   "source": [
    "course_name=\"Data Science Masters\""
   ]
  },
  {
   "cell_type": "code",
   "execution_count": 14,
   "id": "0a631fc1-ff17-4b54-aae3-da488981bb49",
   "metadata": {},
   "outputs": [
    {
     "data": {
      "text/plain": [
       "'Science'"
      ]
     },
     "execution_count": 14,
     "metadata": {},
     "output_type": "execute_result"
    }
   ],
   "source": [
    "course_name[5:12]"
   ]
  },
  {
   "cell_type": "code",
   "execution_count": 15,
   "id": "e23d3d66-45cb-4584-b83b-f418623fc8a6",
   "metadata": {},
   "outputs": [
    {
     "data": {
      "text/plain": [
       "'Science'"
      ]
     },
     "execution_count": 15,
     "metadata": {},
     "output_type": "execute_result"
    }
   ],
   "source": [
    "course_name[-15:-8:1]"
   ]
  },
  {
   "cell_type": "code",
   "execution_count": 16,
   "id": "f0188883-0001-440e-b715-4eb09b32e488",
   "metadata": {},
   "outputs": [
    {
     "data": {
      "text/plain": [
       "'ecneicS'"
      ]
     },
     "execution_count": 16,
     "metadata": {},
     "output_type": "execute_result"
    }
   ],
   "source": [
    "course_name[-9:-16:-1]"
   ]
  },
  {
   "cell_type": "code",
   "execution_count": 17,
   "id": "4369ce7b-ab55-4d3b-ba1d-c10ee6956eb4",
   "metadata": {},
   "outputs": [
    {
     "data": {
      "text/plain": [
       "'data science master course'"
      ]
     },
     "execution_count": 17,
     "metadata": {},
     "output_type": "execute_result"
    }
   ],
   "source": [
    "c=\"data science master course\"\n",
    "c"
   ]
  },
  {
   "cell_type": "code",
   "execution_count": 18,
   "id": "7037a476-ac5b-463d-92cb-33c70aad4e8b",
   "metadata": {},
   "outputs": [
    {
     "data": {
      "text/plain": [
       "4"
      ]
     },
     "execution_count": 18,
     "metadata": {},
     "output_type": "execute_result"
    }
   ],
   "source": [
    "c.count('e')"
   ]
  },
  {
   "cell_type": "code",
   "execution_count": 19,
   "id": "9b614748-525f-46c4-8efb-a1abf0ad4df7",
   "metadata": {},
   "outputs": [
    {
     "data": {
      "text/plain": [
       "27"
      ]
     },
     "execution_count": 19,
     "metadata": {},
     "output_type": "execute_result"
    }
   ],
   "source": [
    "c.count('')"
   ]
  },
  {
   "cell_type": "code",
   "execution_count": 20,
   "id": "6211d53d-e986-4526-ae0c-369c5b032621",
   "metadata": {},
   "outputs": [
    {
     "data": {
      "text/plain": [
       "26"
      ]
     },
     "execution_count": 20,
     "metadata": {},
     "output_type": "execute_result"
    }
   ],
   "source": [
    "len(c)"
   ]
  },
  {
   "cell_type": "code",
   "execution_count": 21,
   "id": "c8b77cb0-bd7d-4e26-896a-3b00ea6b15cd",
   "metadata": {},
   "outputs": [
    {
     "data": {
      "text/plain": [
       "90"
      ]
     },
     "execution_count": 21,
     "metadata": {},
     "output_type": "execute_result"
    }
   ],
   "source": [
    "s=90\n",
    "s"
   ]
  },
  {
   "cell_type": "code",
   "execution_count": 22,
   "id": "455b74b4-f1a0-4789-9a14-673910d918e6",
   "metadata": {},
   "outputs": [
    {
     "data": {
      "text/plain": [
       "'Data Science Master Course'"
      ]
     },
     "execution_count": 22,
     "metadata": {},
     "output_type": "execute_result"
    }
   ],
   "source": [
    "string1=\"Data Science Master Course\"\n",
    "string1"
   ]
  },
  {
   "cell_type": "code",
   "execution_count": 23,
   "id": "895f2038-23d5-4710-8f79-b0c1318a71f4",
   "metadata": {},
   "outputs": [
    {
     "data": {
      "text/plain": [
       "'a'"
      ]
     },
     "execution_count": 23,
     "metadata": {},
     "output_type": "execute_result"
    }
   ],
   "source": [
    "string1[1]"
   ]
  },
  {
   "cell_type": "code",
   "execution_count": 24,
   "id": "b131f8fa-4619-403b-aa27-7022113a6b0e",
   "metadata": {},
   "outputs": [
    {
     "data": {
      "text/plain": [
       "['Data', 'Science', 'Master', 'Course']"
      ]
     },
     "execution_count": 24,
     "metadata": {},
     "output_type": "execute_result"
    }
   ],
   "source": [
    "string1.split(' ')"
   ]
  },
  {
   "cell_type": "code",
   "execution_count": 25,
   "id": "c6ed833a-b03e-4465-a053-8be2460b4c02",
   "metadata": {},
   "outputs": [
    {
     "data": {
      "text/plain": [
       "['Data ', 'cience Master Course']"
      ]
     },
     "execution_count": 25,
     "metadata": {},
     "output_type": "execute_result"
    }
   ],
   "source": [
    "string1.split('S')"
   ]
  },
  {
   "cell_type": "code",
   "execution_count": 26,
   "id": "f8ba75f8-9357-413b-ad1d-d1415fc9aa4b",
   "metadata": {},
   "outputs": [],
   "source": [
    "string1=string1.lower()"
   ]
  },
  {
   "cell_type": "code",
   "execution_count": 27,
   "id": "eb21ceef-63e4-45e8-bef7-42f185b38b14",
   "metadata": {},
   "outputs": [
    {
     "data": {
      "text/plain": [
       "['data ', 'cience ma', 'ter cour', 'e']"
      ]
     },
     "execution_count": 27,
     "metadata": {},
     "output_type": "execute_result"
    }
   ],
   "source": [
    "string1.split('s')"
   ]
  },
  {
   "cell_type": "code",
   "execution_count": 28,
   "id": "bb8c9b2c-665d-402c-af04-aa9a813d0f9a",
   "metadata": {},
   "outputs": [
    {
     "data": {
      "text/plain": [
       "('data ', 's', 'cience master course')"
      ]
     },
     "execution_count": 28,
     "metadata": {},
     "output_type": "execute_result"
    }
   ],
   "source": [
    "string1.partition('s')"
   ]
  },
  {
   "cell_type": "code",
   "execution_count": 29,
   "id": "4a2856b9-0a8c-468a-9ede-aa34d6d3dd5f",
   "metadata": {},
   "outputs": [],
   "source": [
    "str2='dasta science master cours'"
   ]
  },
  {
   "cell_type": "code",
   "execution_count": 30,
   "id": "65aae6d3-e445-43bf-aa04-2707e979329f",
   "metadata": {},
   "outputs": [
    {
     "data": {
      "text/plain": [
       "('da', 's', 'ta science master cours')"
      ]
     },
     "execution_count": 30,
     "metadata": {},
     "output_type": "execute_result"
    }
   ],
   "source": [
    "str2.partition('s')"
   ]
  },
  {
   "cell_type": "code",
   "execution_count": 31,
   "id": "74b602ef-12e6-49c6-9767-e3db4340c61a",
   "metadata": {},
   "outputs": [
    {
     "data": {
      "text/plain": [
       "10"
      ]
     },
     "execution_count": 31,
     "metadata": {},
     "output_type": "execute_result"
    }
   ],
   "source": [
    "a=10\n",
    "a"
   ]
  },
  {
   "cell_type": "code",
   "execution_count": 32,
   "id": "357a4361-402e-4a58-a3ea-d5d22b923390",
   "metadata": {},
   "outputs": [
    {
     "data": {
      "text/plain": [
       "['data ', 'cience ma', 'ter cour', 'e']"
      ]
     },
     "execution_count": 32,
     "metadata": {},
     "output_type": "execute_result"
    }
   ],
   "source": [
    "string1.split('s')"
   ]
  },
  {
   "cell_type": "code",
   "execution_count": 33,
   "id": "d48b1051-e6a4-49bd-b294-eaf7cf09f40a",
   "metadata": {},
   "outputs": [
    {
     "data": {
      "text/plain": [
       "('data ', 's', 'cience master course')"
      ]
     },
     "execution_count": 33,
     "metadata": {},
     "output_type": "execute_result"
    }
   ],
   "source": [
    "string1.partition('s')"
   ]
  },
  {
   "cell_type": "code",
   "execution_count": 34,
   "id": "777ad485-b058-49a6-82d5-a32078b2934a",
   "metadata": {},
   "outputs": [
    {
     "data": {
      "text/plain": [
       "3"
      ]
     },
     "execution_count": 34,
     "metadata": {},
     "output_type": "execute_result"
    }
   ],
   "source": [
    "string1.count('s')"
   ]
  },
  {
   "cell_type": "code",
   "execution_count": 35,
   "id": "92dba179-35bd-4ec7-9d86-f47610ed9323",
   "metadata": {},
   "outputs": [
    {
     "data": {
      "text/plain": [
       "3"
      ]
     },
     "execution_count": 36,
     "metadata": {},
     "output_type": "execute_result"
    }
   ],
   "source": [
    "string1.count('')"
   ]
  },
  {
   "cell_type": "code",
   "execution_count": 37,
   "id": "23a90622-6645-4214-a02c-1e5345a128f1",
   "metadata": {},
   "outputs": [
    {
     "data": {
      "text/plain": [
       "1"
      ]
     },
     "execution_count": 37,
     "metadata": {},
     "output_type": "execute_result"
    }
   ],
   "source": [
    "string1.count('a',2,10)"
   ]
  },
  {
   "cell_type": "code",
   "execution_count": 38,
   "id": "915b1739-ea0c-4cf3-9eb8-6059325e4593",
   "metadata": {},
   "outputs": [
    {
     "data": {
      "text/plain": [
       "['data', 'science', 'master', 'course']"
      ]
     },
     "execution_count": 38,
     "metadata": {},
     "output_type": "execute_result"
    }
   ],
   "source": [
    "string1.split(' ')"
   ]
  },
  {
   "cell_type": "code",
   "execution_count": 39,
   "id": "920a8a25-18ba-4914-8e8e-d52cd6895c3a",
   "metadata": {},
   "outputs": [
    {
     "data": {
      "text/plain": [
       "['d', 't', ' science m', 'ster course']"
      ]
     },
     "execution_count": 39,
     "metadata": {},
     "output_type": "execute_result"
    }
   ],
   "source": [
    "string1.split('a')"
   ]
  },
  {
   "cell_type": "code",
   "execution_count": 40,
   "id": "67470f82-3deb-4bff-be87-859be314dd9b",
   "metadata": {},
   "outputs": [
    {
     "data": {
      "text/plain": [
       "('d', 'a', 'ta science master course')"
      ]
     },
     "execution_count": 40,
     "metadata": {},
     "output_type": "execute_result"
    }
   ],
   "source": [
    "string1.partition('a')"
   ]
  },
  {
   "cell_type": "code",
   "execution_count": 41,
   "id": "c1556d41-b322-4147-8382-424bc5a18d1e",
   "metadata": {},
   "outputs": [
    {
     "data": {
      "text/plain": [
       "'data science master course'"
      ]
     },
     "execution_count": 41,
     "metadata": {},
     "output_type": "execute_result"
    }
   ],
   "source": [
    "course_name=\"data science master course\"\n",
    "course_name"
   ]
  },
  {
   "cell_type": "code",
   "execution_count": 42,
   "id": "98cc53f9-2ff6-48c7-b071-e0d20ceb1cbf",
   "metadata": {},
   "outputs": [
    {
     "data": {
      "text/plain": [
       "'DATA SCIENCE MASTER COURSE'"
      ]
     },
     "execution_count": 42,
     "metadata": {},
     "output_type": "execute_result"
    }
   ],
   "source": [
    "course_name.upper()"
   ]
  },
  {
   "cell_type": "code",
   "execution_count": 43,
   "id": "66da814a-8df7-48c5-bb22-3af962e1b6eb",
   "metadata": {},
   "outputs": [
    {
     "data": {
      "text/plain": [
       "'data science master course'"
      ]
     },
     "execution_count": 43,
     "metadata": {},
     "output_type": "execute_result"
    }
   ],
   "source": [
    "course_name.lower()"
   ]
  },
  {
   "cell_type": "code",
   "execution_count": 48,
   "id": "7b35c534-5d9b-4296-b729-6219b342fd35",
   "metadata": {},
   "outputs": [],
   "source": [
    "course_name1=\"Course Name iS Data Science Master Course \"\n",
    "\n"
   ]
  },
  {
   "cell_type": "code",
   "execution_count": 49,
   "id": "62fd8b15-fb33-429f-955c-8f4a758e8dfd",
   "metadata": {},
   "outputs": [
    {
     "data": {
      "text/plain": [
       "['Course', 'Name', 'iS', 'Data', 'Science', 'Master', 'Course', '']"
      ]
     },
     "execution_count": 49,
     "metadata": {},
     "output_type": "execute_result"
    }
   ],
   "source": [
    "course_name1.split(' ')"
   ]
  },
  {
   "cell_type": "code",
   "execution_count": 52,
   "id": "0c4cb946-ccc6-41ad-8ad5-673a365e47d3",
   "metadata": {},
   "outputs": [
    {
     "data": {
      "text/plain": [
       "'cOURSE nAME Is dATA sCIENCE mASTER cOURSE '"
      ]
     },
     "execution_count": 52,
     "metadata": {},
     "output_type": "execute_result"
    }
   ],
   "source": [
    "course_name1.swapcase()"
   ]
  },
  {
   "cell_type": "code",
   "execution_count": 53,
   "id": "c84cc1a6-39df-4f04-aa66-5e85e6ecf0cc",
   "metadata": {},
   "outputs": [
    {
     "data": {
      "text/plain": [
       "'You Are Beautiful'"
      ]
     },
     "execution_count": 53,
     "metadata": {},
     "output_type": "execute_result"
    }
   ],
   "source": [
    "course_name3=\"You are beautiful\"\n",
    "course_name3.title()"
   ]
  },
  {
   "cell_type": "code",
   "execution_count": 55,
   "id": "2b5526b6-a2ea-4867-b2f4-5edc96ae1a34",
   "metadata": {},
   "outputs": [
    {
     "data": {
      "text/plain": [
       "'-0b1100100'"
      ]
     },
     "execution_count": 55,
     "metadata": {},
     "output_type": "execute_result"
    }
   ],
   "source": [
    "bin(-100)"
   ]
  },
  {
   "cell_type": "code",
   "execution_count": 58,
   "id": "ccf2ddd5-48b4-41af-9286-6c19f5fdfdd0",
   "metadata": {},
   "outputs": [],
   "source": [
    "list1=[1,2,3,4]\n",
    "list2=[1,2,3,4]"
   ]
  },
  {
   "cell_type": "code",
   "execution_count": 59,
   "id": "1a2f019c-d4bb-4022-aa55-137836dc3aea",
   "metadata": {},
   "outputs": [
    {
     "data": {
      "text/plain": [
       "False"
      ]
     },
     "execution_count": 59,
     "metadata": {},
     "output_type": "execute_result"
    }
   ],
   "source": [
    "list1 is list2"
   ]
  },
  {
   "cell_type": "code",
   "execution_count": 60,
   "id": "7d62624b-df2f-41b1-86ad-c2d25b186433",
   "metadata": {},
   "outputs": [
    {
     "data": {
      "text/plain": [
       "True"
      ]
     },
     "execution_count": 60,
     "metadata": {},
     "output_type": "execute_result"
    }
   ],
   "source": [
    "list1== list2"
   ]
  },
  {
   "cell_type": "code",
   "execution_count": 61,
   "id": "75795752-35c3-483e-8e01-9545c218037a",
   "metadata": {},
   "outputs": [
    {
     "data": {
      "text/plain": [
       "42"
      ]
     },
     "execution_count": 61,
     "metadata": {},
     "output_type": "execute_result"
    }
   ],
   "source": [
    "len(course_name1)"
   ]
  },
  {
   "cell_type": "code",
   "execution_count": 63,
   "id": "6f9bc2b3-9018-4a8f-b66a-82c1f2dc31cb",
   "metadata": {},
   "outputs": [
    {
     "data": {
      "text/plain": [
       "43"
      ]
     },
     "execution_count": 63,
     "metadata": {},
     "output_type": "execute_result"
    }
   ],
   "source": [
    "course_name1.count('')"
   ]
  },
  {
   "cell_type": "code",
   "execution_count": 64,
   "id": "87789b09-3562-41ab-9dc8-009192cb3773",
   "metadata": {},
   "outputs": [
    {
     "data": {
      "text/plain": [
       "4"
      ]
     },
     "execution_count": 64,
     "metadata": {},
     "output_type": "execute_result"
    }
   ],
   "source": [
    "course_name1.count('a')"
   ]
  },
  {
   "cell_type": "code",
   "execution_count": null,
   "id": "f1c1ecf0-4e70-4e8a-8cde-3d6c2f34be1b",
   "metadata": {},
   "outputs": [],
   "source": [
    "str1='course is the best'"
   ]
  },
  {
   "cell_type": "code",
   "execution_count": null,
   "id": "67161e99-a5ab-4dda-9312-ceb1cfceb196",
   "metadata": {},
   "outputs": [],
   "source": []
  },
  {
   "cell_type": "code",
   "execution_count": null,
   "id": "b02959dc-9be5-48dc-bda6-3777f35682c5",
   "metadata": {},
   "outputs": [],
   "source": []
  },
  {
   "cell_type": "code",
   "execution_count": null,
   "id": "72563d00-c142-44e8-9108-3287ff5e9d50",
   "metadata": {},
   "outputs": [],
   "source": []
  }
 ],
 "metadata": {
  "kernelspec": {
   "display_name": "Python 3 (ipykernel)",
   "language": "python",
   "name": "python3"
  },
  "language_info": {
   "codemirror_mode": {
    "name": "ipython",
    "version": 3
   },
   "file_extension": ".py",
   "mimetype": "text/x-python",
   "name": "python",
   "nbconvert_exporter": "python",
   "pygments_lexer": "ipython3",
   "version": "3.10.8"
  }
 },
 "nbformat": 4,
 "nbformat_minor": 5
}
