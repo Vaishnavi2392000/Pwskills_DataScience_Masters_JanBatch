{
 "cells": [
  {
   "cell_type": "code",
   "execution_count": 1,
   "id": "83dbc779-c84d-436b-90f0-597eda214d37",
   "metadata": {},
   "outputs": [
    {
     "name": "stdout",
     "output_type": "stream",
     "text": [
      "10 9 8 7 6 5 4 3 2 1 "
     ]
    }
   ],
   "source": [
    "n=10\n",
    "while(n>=1):\n",
    "    print(n,end=' ')\n",
    "    n-=1"
   ]
  },
  {
   "cell_type": "code",
   "execution_count": 2,
   "id": "3d9a4565-5535-4910-8dbe-64e83c5f5072",
   "metadata": {},
   "outputs": [
    {
     "name": "stdout",
     "output_type": "stream",
     "text": [
      "55\n"
     ]
    }
   ],
   "source": [
    "s=0\n",
    "n=1\n",
    "t=10\n",
    "while(n<=t):\n",
    "    s=s+n\n",
    "    n+=1\n",
    "print(s)\n",
    "    "
   ]
  },
  {
   "cell_type": "code",
   "execution_count": 3,
   "id": "cf84f1e4-d9df-4ada-85e1-23757e591264",
   "metadata": {},
   "outputs": [
    {
     "name": "stdout",
     "output_type": "stream",
     "text": [
      "24\n"
     ]
    }
   ],
   "source": [
    "s=1\n",
    "n=1\n",
    "t=4\n",
    "while(n<=t):\n",
    "    s=s*n\n",
    "    n+=1\n",
    "print(s)\n",
    "    \n"
   ]
  },
  {
   "cell_type": "code",
   "execution_count": 8,
   "id": "e18b0c59-7195-4a6e-935c-2da5321bc0a0",
   "metadata": {},
   "outputs": [
    {
     "name": "stdin",
     "output_type": "stream",
     "text": [
      "enter number 23\n"
     ]
    },
    {
     "name": "stdout",
     "output_type": "stream",
     "text": [
      "1 * 23 = 23\n",
      "2 * 23 = 46\n",
      "3 * 23 = 69\n",
      "4 * 23 = 92\n",
      "5 * 23 = 115\n",
      "6 * 23 = 138\n",
      "7 * 23 = 161\n",
      "8 * 23 = 184\n",
      "9 * 23 = 207\n",
      "10 * 23 = 230\n"
     ]
    }
   ],
   "source": [
    "n=int(input(\"enter number\"))\n",
    "i=1\n",
    "mul=1\n",
    "while(i<=10):\n",
    "    mul=i*n\n",
    "    print(i,'*',n,'=',mul)\n",
    "    i+=1\n",
    "    "
   ]
  },
  {
   "cell_type": "code",
   "execution_count": 14,
   "id": "07484dde-6a0e-415c-ae35-1d9cc618a911",
   "metadata": {},
   "outputs": [
    {
     "name": "stdout",
     "output_type": "stream",
     "text": [
      "5\n",
      "4\n",
      "3\n",
      "2\n",
      "1\n",
      "break time is over\n"
     ]
    }
   ],
   "source": [
    "import time\n",
    "s=5\n",
    "while(s>0):\n",
    "    print(s)\n",
    "    time.sleep(0.5)\n",
    "    s=s-1\n",
    "print(\"break time is over\")"
   ]
  },
  {
   "cell_type": "code",
   "execution_count": 18,
   "id": "26a570cc-9d1e-48be-a822-7ab0117c3d58",
   "metadata": {},
   "outputs": [
    {
     "name": "stdin",
     "output_type": "stream",
     "text": [
      "enter the amount 20\n"
     ]
    },
    {
     "name": "stdout",
     "output_type": "stream",
     "text": [
      "your account has 20\n"
     ]
    },
    {
     "name": "stdin",
     "output_type": "stream",
     "text": [
      "enter your choice(1. biscuit, 2. chips, 3.coke) 1\n"
     ]
    },
    {
     "name": "stdout",
     "output_type": "stream",
     "text": [
      "take your biscuit\n",
      "your account has 16\n"
     ]
    },
    {
     "name": "stdin",
     "output_type": "stream",
     "text": [
      "enter your choice(1. biscuit, 2. chips, 3.coke) 2\n"
     ]
    },
    {
     "name": "stdout",
     "output_type": "stream",
     "text": [
      "take your chips\n",
      "your account has 6\n"
     ]
    },
    {
     "name": "stdin",
     "output_type": "stream",
     "text": [
      "enter your choice(1. biscuit, 2. chips, 3.coke) 1\n"
     ]
    },
    {
     "name": "stdout",
     "output_type": "stream",
     "text": [
      "take your biscuit\n"
     ]
    }
   ],
   "source": [
    "amount=int(input(\"enter the amount\"))\n",
    "while(amount>=5):\n",
    "    print(\"your account has\",amount)\n",
    "    choice=int(input(\"enter your choice(1. biscuit, 2. chips, 3.coke)\"))\n",
    "    if(choice==1):\n",
    "        print(\"take your biscuit\")\n",
    "        amount=amount-4\n",
    "    elif(choice==2):\n",
    "        print(\"take your chips\")\n",
    "        amount=amount-10\n",
    "    elif(choice==3):\n",
    "        amount=amount-20\n",
    "    else:\n",
    "        print(\"money ended\")\n",
    "    "
   ]
  },
  {
   "cell_type": "code",
   "execution_count": 19,
   "id": "05503518-32d9-464e-9e63-2f4dd18381c5",
   "metadata": {},
   "outputs": [
    {
     "name": "stdout",
     "output_type": "stream",
     "text": [
      "40\n",
      "39\n",
      "38\n",
      "37\n",
      "36\n",
      "35\n",
      "34\n",
      "33\n",
      "32\n",
      "31\n",
      "30\n",
      "break time is over\n"
     ]
    }
   ],
   "source": [
    "import time\n",
    "s=40\n",
    "while(s>0):\n",
    "    print(s)\n",
    "    time.sleep(1)\n",
    "    if(s==30):\n",
    "        break\n",
    "    s=s-1\n",
    "print(\"break time is over\")"
   ]
  },
  {
   "cell_type": "code",
   "execution_count": 20,
   "id": "3394daba-2fe9-4738-987f-ce7b08c7b148",
   "metadata": {},
   "outputs": [
    {
     "name": "stdin",
     "output_type": "stream",
     "text": [
      "enter the username vaishnavi\n",
      "enter the password ghadge\n",
      "enter the username sdf\n",
      "enter the password fg\n",
      "enter the username d\n",
      "enter the password sd\n",
      "enter the username sd\n"
     ]
    },
    {
     "ename": "KeyboardInterrupt",
     "evalue": "Interrupted by user",
     "output_type": "error",
     "traceback": [
      "\u001b[0;31m---------------------------------------------------------------------------\u001b[0m",
      "\u001b[0;31mKeyboardInterrupt\u001b[0m                         Traceback (most recent call last)",
      "Cell \u001b[0;32mIn[20], line 13\u001b[0m\n\u001b[1;32m     11\u001b[0m \u001b[38;5;28;01mwhile\u001b[39;00m(i\u001b[38;5;241m<\u001b[39m\u001b[38;5;241m=\u001b[39m\u001b[38;5;241m3\u001b[39m):\n\u001b[1;32m     12\u001b[0m     username\u001b[38;5;241m=\u001b[39m\u001b[38;5;28minput\u001b[39m(\u001b[38;5;124m\"\u001b[39m\u001b[38;5;124menter the username\u001b[39m\u001b[38;5;124m\"\u001b[39m)\n\u001b[0;32m---> 13\u001b[0m     passwoard\u001b[38;5;241m=\u001b[39m\u001b[38;5;28;43minput\u001b[39;49m\u001b[43m(\u001b[49m\u001b[38;5;124;43m\"\u001b[39;49m\u001b[38;5;124;43menter the password\u001b[39;49m\u001b[38;5;124;43m\"\u001b[39;49m\u001b[43m)\u001b[49m\n\u001b[1;32m     14\u001b[0m     i\u001b[38;5;241m+\u001b[39m\u001b[38;5;241m=\u001b[39m\u001b[38;5;241m1\u001b[39m\n",
      "File \u001b[0;32m/opt/conda/lib/python3.10/site-packages/ipykernel/kernelbase.py:1175\u001b[0m, in \u001b[0;36mKernel.raw_input\u001b[0;34m(self, prompt)\u001b[0m\n\u001b[1;32m   1171\u001b[0m \u001b[38;5;28;01mif\u001b[39;00m \u001b[38;5;129;01mnot\u001b[39;00m \u001b[38;5;28mself\u001b[39m\u001b[38;5;241m.\u001b[39m_allow_stdin:\n\u001b[1;32m   1172\u001b[0m     \u001b[38;5;28;01mraise\u001b[39;00m StdinNotImplementedError(\n\u001b[1;32m   1173\u001b[0m         \u001b[38;5;124m\"\u001b[39m\u001b[38;5;124mraw_input was called, but this frontend does not support input requests.\u001b[39m\u001b[38;5;124m\"\u001b[39m\n\u001b[1;32m   1174\u001b[0m     )\n\u001b[0;32m-> 1175\u001b[0m \u001b[38;5;28;01mreturn\u001b[39;00m \u001b[38;5;28;43mself\u001b[39;49m\u001b[38;5;241;43m.\u001b[39;49m\u001b[43m_input_request\u001b[49m\u001b[43m(\u001b[49m\n\u001b[1;32m   1176\u001b[0m \u001b[43m    \u001b[49m\u001b[38;5;28;43mstr\u001b[39;49m\u001b[43m(\u001b[49m\u001b[43mprompt\u001b[49m\u001b[43m)\u001b[49m\u001b[43m,\u001b[49m\n\u001b[1;32m   1177\u001b[0m \u001b[43m    \u001b[49m\u001b[38;5;28;43mself\u001b[39;49m\u001b[38;5;241;43m.\u001b[39;49m\u001b[43m_parent_ident\u001b[49m\u001b[43m[\u001b[49m\u001b[38;5;124;43m\"\u001b[39;49m\u001b[38;5;124;43mshell\u001b[39;49m\u001b[38;5;124;43m\"\u001b[39;49m\u001b[43m]\u001b[49m\u001b[43m,\u001b[49m\n\u001b[1;32m   1178\u001b[0m \u001b[43m    \u001b[49m\u001b[38;5;28;43mself\u001b[39;49m\u001b[38;5;241;43m.\u001b[39;49m\u001b[43mget_parent\u001b[49m\u001b[43m(\u001b[49m\u001b[38;5;124;43m\"\u001b[39;49m\u001b[38;5;124;43mshell\u001b[39;49m\u001b[38;5;124;43m\"\u001b[39;49m\u001b[43m)\u001b[49m\u001b[43m,\u001b[49m\n\u001b[1;32m   1179\u001b[0m \u001b[43m    \u001b[49m\u001b[43mpassword\u001b[49m\u001b[38;5;241;43m=\u001b[39;49m\u001b[38;5;28;43;01mFalse\u001b[39;49;00m\u001b[43m,\u001b[49m\n\u001b[1;32m   1180\u001b[0m \u001b[43m\u001b[49m\u001b[43m)\u001b[49m\n",
      "File \u001b[0;32m/opt/conda/lib/python3.10/site-packages/ipykernel/kernelbase.py:1217\u001b[0m, in \u001b[0;36mKernel._input_request\u001b[0;34m(self, prompt, ident, parent, password)\u001b[0m\n\u001b[1;32m   1214\u001b[0m             \u001b[38;5;28;01mbreak\u001b[39;00m\n\u001b[1;32m   1215\u001b[0m \u001b[38;5;28;01mexcept\u001b[39;00m \u001b[38;5;167;01mKeyboardInterrupt\u001b[39;00m:\n\u001b[1;32m   1216\u001b[0m     \u001b[38;5;66;03m# re-raise KeyboardInterrupt, to truncate traceback\u001b[39;00m\n\u001b[0;32m-> 1217\u001b[0m     \u001b[38;5;28;01mraise\u001b[39;00m \u001b[38;5;167;01mKeyboardInterrupt\u001b[39;00m(\u001b[38;5;124m\"\u001b[39m\u001b[38;5;124mInterrupted by user\u001b[39m\u001b[38;5;124m\"\u001b[39m) \u001b[38;5;28;01mfrom\u001b[39;00m \u001b[38;5;28mNone\u001b[39m\n\u001b[1;32m   1218\u001b[0m \u001b[38;5;28;01mexcept\u001b[39;00m \u001b[38;5;167;01mException\u001b[39;00m:\n\u001b[1;32m   1219\u001b[0m     \u001b[38;5;28mself\u001b[39m\u001b[38;5;241m.\u001b[39mlog\u001b[38;5;241m.\u001b[39mwarning(\u001b[38;5;124m\"\u001b[39m\u001b[38;5;124mInvalid Message:\u001b[39m\u001b[38;5;124m\"\u001b[39m, exc_info\u001b[38;5;241m=\u001b[39m\u001b[38;5;28;01mTrue\u001b[39;00m)\n",
      "\u001b[0;31mKeyboardInterrupt\u001b[0m: Interrupted by user"
     ]
    }
   ],
   "source": [
    "username=input(\"enter the username\")\n",
    "passwoard=input(\"enter the password\")\n",
    "username1=\"vaishnavi9\"\n",
    "password1=\"VMG$2350\"\n",
    "attempts=3\n",
    "i=1\n",
    "while(True):\n",
    "    if(username==username1 and password==password1):\n",
    "        print(\"you're logged in\")\n",
    "    elif(username!=username1 or password!=password1):\n",
    "        while(i<=3):\n",
    "            username=input(\"enter the username\")\n",
    "            passwoard=input(\"enter the password\")\n",
    "            i+=1\n",
    "            \n",
    "        \n",
    "        \n",
    "        "
   ]
  },
  {
   "cell_type": "code",
   "execution_count": 25,
   "id": "81692324-834e-4970-9444-6a79f86e651a",
   "metadata": {},
   "outputs": [
    {
     "name": "stdin",
     "output_type": "stream",
     "text": [
      "enter your userid for account vaishnavi\n",
      "enter your password for respt userid vaishnavi235\n",
      "enter your password for respt userid vaishnavi235\n",
      "enter your password for respt userid vaishnavi235\n"
     ]
    },
    {
     "name": "stdout",
     "output_type": "stream",
     "text": [
      "you have lost\n"
     ]
    }
   ],
   "source": [
    "user_id=\"vaishnavi\"\n",
    "password=\"vaishnavi235\"\n",
    "counter=1\n",
    "user_id_check=False\n",
    "userid=input(\"enter your userid for account\")\n",
    "while(counter<=3):\n",
    "    \n",
    "    if(userid==user_id):\n",
    "        user_id_check=True\n",
    "    if(user_id_check==True):\n",
    "        pswd=input(\"enter your password for respt userid\")\n",
    "        if(pswd==passwoard):\n",
    "            print(\"user successfully logged in\")\n",
    "            break\n",
    "       \n",
    "        counter+=1\n",
    "if(counter>3):\n",
    "    print(\"you have lost\")\n",
    "            \n",
    "            \n",
    "            \n",
    "    "
   ]
  },
  {
   "cell_type": "code",
   "execution_count": null,
   "id": "99e619ac-9e76-46c9-9e7c-d904e45c4ffa",
   "metadata": {},
   "outputs": [],
   "source": [
    "todo_list=[]\n",
    "counter=False\n",
    "end_of_todo='e'\n",
    "while(True):\n",
    "    task=input(\"enter the task\")\n",
    "    todo_list.append(task)\n",
    "    if(len(todo_list)==5):\n",
    "        counter=True\n",
    "        break\n",
    "print(todo_list)\n"
   ]
  },
  {
   "cell_type": "code",
   "execution_count": null,
   "id": "b0683cd6-c853-4e5d-b807-0fe08ca1fb73",
   "metadata": {},
   "outputs": [],
   "source": []
  }
 ],
 "metadata": {
  "kernelspec": {
   "display_name": "Python 3 (ipykernel)",
   "language": "python",
   "name": "python3"
  },
  "language_info": {
   "codemirror_mode": {
    "name": "ipython",
    "version": 3
   },
   "file_extension": ".py",
   "mimetype": "text/x-python",
   "name": "python",
   "nbconvert_exporter": "python",
   "pygments_lexer": "ipython3",
   "version": "3.10.8"
  }
 },
 "nbformat": 4,
 "nbformat_minor": 5
}
