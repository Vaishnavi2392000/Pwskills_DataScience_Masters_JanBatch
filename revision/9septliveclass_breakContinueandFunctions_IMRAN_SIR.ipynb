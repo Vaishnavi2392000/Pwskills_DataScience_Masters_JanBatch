{
 "cells": [
  {
   "cell_type": "code",
   "execution_count": 2,
   "id": "f7d345f6-5b9e-4f58-aa12-ec0391468b2c",
   "metadata": {},
   "outputs": [
    {
     "name": "stdout",
     "output_type": "stream",
     "text": [
      "Hi@HI@HI@HI@HI\n"
     ]
    }
   ],
   "source": [
    "s1='Hi@HI@HI@HI@HI'\n",
    "print(s1)"
   ]
  },
  {
   "cell_type": "code",
   "execution_count": 3,
   "id": "756f1e06-7007-4087-88e3-2a5a0d9b633b",
   "metadata": {},
   "outputs": [
    {
     "data": {
      "text/plain": [
       "['Hi', 'HI', 'HI@HI@HI']"
      ]
     },
     "execution_count": 3,
     "metadata": {},
     "output_type": "execute_result"
    }
   ],
   "source": [
    "s1.split(\"@\",2)"
   ]
  },
  {
   "cell_type": "code",
   "execution_count": 4,
   "id": "d4f4e712-f134-4bfe-8067-05082ef30881",
   "metadata": {},
   "outputs": [
    {
     "name": "stdout",
     "output_type": "stream",
     "text": [
      "p\n",
      "w\n",
      "s\n",
      "k\n",
      "i\n",
      "l\n",
      "l\n",
      "s\n"
     ]
    }
   ],
   "source": [
    "for i in \"pwskills\":\n",
    "    print(i)"
   ]
  },
  {
   "cell_type": "code",
   "execution_count": 9,
   "id": "07edee5f-0e1b-4fbe-8a98-57ae0cf426d9",
   "metadata": {},
   "outputs": [
    {
     "name": "stdout",
     "output_type": "stream",
     "text": [
      "letter is  p\n",
      "letter is  w\n",
      "letter is  s\n",
      "letter is  k\n",
      "letter is  i\n"
     ]
    }
   ],
   "source": [
    "for i in \"pwskills\":\n",
    "    if(i==\"l\"):\n",
    "        break\n",
    "    else:\n",
    "        print(\"letter is \",i)"
   ]
  },
  {
   "cell_type": "code",
   "execution_count": 10,
   "id": "6c280fb4-b78e-4880-b491-5c571221014a",
   "metadata": {},
   "outputs": [
    {
     "name": "stdout",
     "output_type": "stream",
     "text": [
      "0\n",
      "1\n",
      "2\n"
     ]
    }
   ],
   "source": [
    "for i in range(5):\n",
    "    if(i==3):\n",
    "        break\n",
    "    print(i)"
   ]
  },
  {
   "cell_type": "code",
   "execution_count": 11,
   "id": "7ad365c5-bfe3-4d64-b4a5-51bf3fbee83b",
   "metadata": {},
   "outputs": [
    {
     "data": {
      "text/plain": [
       "[0, 1, 2, 3, 4]"
      ]
     },
     "execution_count": 11,
     "metadata": {},
     "output_type": "execute_result"
    }
   ],
   "source": [
    "list(range(5))"
   ]
  },
  {
   "cell_type": "code",
   "execution_count": 12,
   "id": "f5a2fecf-5696-4c9e-9612-31eb704ec111",
   "metadata": {},
   "outputs": [
    {
     "name": "stdout",
     "output_type": "stream",
     "text": [
      "1\n",
      "2\n",
      "3\n",
      "4\n",
      "5\n"
     ]
    }
   ],
   "source": [
    "i=1\n",
    "while(i<=10):\n",
    "    print(i)\n",
    "    \n",
    "    if(i>=5):\n",
    "        break\n",
    "    i+=1"
   ]
  },
  {
   "cell_type": "code",
   "execution_count": 14,
   "id": "4ac7ff9e-4b2c-4a74-941f-a3abae2df781",
   "metadata": {},
   "outputs": [
    {
     "name": "stdout",
     "output_type": "stream",
     "text": [
      "current number is  10\n",
      "current number is  20\n",
      "current number is  30\n",
      "current number is  40\n",
      "current number is  50\n"
     ]
    }
   ],
   "source": [
    "numbers=[10,20,30,40,50,120,230]\n",
    "for i in numbers:\n",
    "    if(i>100):\n",
    "        break\n",
    "    print(\"current number is \",i)"
   ]
  },
  {
   "cell_type": "code",
   "execution_count": 15,
   "id": "d2c28e3f-fdd9-44b3-85d4-4fc399ad8ed8",
   "metadata": {},
   "outputs": [
    {
     "name": "stdout",
     "output_type": "stream",
     "text": [
      "h\n",
      "e\n",
      "l\n",
      "l\n",
      "o\n",
      ",\n"
     ]
    }
   ],
   "source": [
    "s=\"hello,world!\"\n",
    "for character in s:\n",
    "    print(character)\n",
    "    if(character==','):\n",
    "        break\n"
   ]
  },
  {
   "cell_type": "code",
   "execution_count": 18,
   "id": "ade4cf56-3a1f-4b9b-b458-c71c4c95711a",
   "metadata": {},
   "outputs": [
    {
     "name": "stdout",
     "output_type": "stream",
     "text": [
      "w s k i l l s "
     ]
    }
   ],
   "source": [
    "for i in \"pwskills\":\n",
    "    if(i=='p'):\n",
    "        continue\n",
    "    print(i,end=' ')"
   ]
  },
  {
   "cell_type": "code",
   "execution_count": 19,
   "id": "6e472743-a08f-4acd-9ed6-8205bccd91b1",
   "metadata": {},
   "outputs": [
    {
     "name": "stdout",
     "output_type": "stream",
     "text": [
      "0\n",
      "1\n",
      "2\n",
      "4\n"
     ]
    }
   ],
   "source": [
    "for i in range(5):\n",
    "    if(i==3):\n",
    "        continue\n",
    "    print(i)"
   ]
  },
  {
   "cell_type": "code",
   "execution_count": 20,
   "id": "214b7cda-1032-47f9-8574-4f053fe9d307",
   "metadata": {},
   "outputs": [
    {
     "name": "stdout",
     "output_type": "stream",
     "text": [
      "0\n",
      "1\n",
      "2\n"
     ]
    }
   ],
   "source": [
    "for i in range(5):\n",
    "    if(i==3):\n",
    "        break\n",
    "    print(i)"
   ]
  },
  {
   "cell_type": "markdown",
   "id": "d5debfde-200b-43ac-946d-abda8f1d54f7",
   "metadata": {},
   "source": [
    "#### break will end the loop. \n",
    "#### continue will skip the iteration."
   ]
  },
  {
   "cell_type": "code",
   "execution_count": 21,
   "id": "83b873c8-80d4-45d8-9827-2f521a74db4d",
   "metadata": {},
   "outputs": [
    {
     "name": "stdout",
     "output_type": "stream",
     "text": [
      "1\n",
      "3\n",
      "5\n",
      "7\n",
      "9\n"
     ]
    }
   ],
   "source": [
    "for i in range(1,11):\n",
    "    if(i%2==0):\n",
    "        continue\n",
    "    print(i)"
   ]
  },
  {
   "cell_type": "code",
   "execution_count": 23,
   "id": "3deeea5f-505c-417d-ae2c-e33f1096c31f",
   "metadata": {},
   "outputs": [
    {
     "name": "stdout",
     "output_type": "stream",
     "text": [
      "hello\n"
     ]
    }
   ],
   "source": [
    "n=10\n",
    "if n>10:\n",
    "    pass\n",
    "print(\"hello\")"
   ]
  },
  {
   "cell_type": "code",
   "execution_count": 25,
   "id": "4a6e5562-cece-4b8c-8d61-8e334e638328",
   "metadata": {},
   "outputs": [
    {
     "name": "stdout",
     "output_type": "stream",
     "text": [
      "4\n"
     ]
    }
   ],
   "source": [
    "for i in range(5):\n",
    "    pass\n",
    "print(i)"
   ]
  },
  {
   "cell_type": "code",
   "execution_count": 28,
   "id": "c3911c34-fded-49d8-a9d8-7ed6b119548a",
   "metadata": {},
   "outputs": [
    {
     "name": "stdout",
     "output_type": "stream",
     "text": [
      "p w s k i l l s "
     ]
    }
   ],
   "source": [
    "for i in  \"pwskills\":\n",
    "    if(i=='l'):\n",
    "        pass\n",
    "    print(i,end=' ')\n",
    "    "
   ]
  },
  {
   "cell_type": "code",
   "execution_count": 29,
   "id": "45dfc096-d137-4662-97fe-2d754b169b0d",
   "metadata": {},
   "outputs": [
    {
     "name": "stdout",
     "output_type": "stream",
     "text": [
      "p w s k i s "
     ]
    }
   ],
   "source": [
    "for i in \"pwskills\":\n",
    "    if(i=='l'):\n",
    "        continue\n",
    "    print(i,end=' ')"
   ]
  },
  {
   "cell_type": "markdown",
   "id": "e243cad1-c446-42ba-bd58-0f201d652d24",
   "metadata": {},
   "source": [
    "#### pass will do nothing, but continue will skip the iteration"
   ]
  },
  {
   "cell_type": "code",
   "execution_count": 30,
   "id": "a3d36c8b-0d27-4a7e-9998-0f407b1b51be",
   "metadata": {},
   "outputs": [
    {
     "name": "stdout",
     "output_type": "stream",
     "text": [
      "0\n",
      "2\n",
      "4\n",
      "6\n",
      "8\n"
     ]
    }
   ],
   "source": [
    "for i in range(10):\n",
    "    if(i%2!=0):\n",
    "        continue\n",
    "    print(i)"
   ]
  },
  {
   "cell_type": "markdown",
   "id": "5c010975-d5b8-441b-bb38-9723e6b09823",
   "metadata": {},
   "source": [
    "# Function"
   ]
  },
  {
   "cell_type": "code",
   "execution_count": 31,
   "id": "92bcd904-c6ce-4732-822e-0e24f687cc15",
   "metadata": {},
   "outputs": [],
   "source": [
    "## functional coding and oops coding "
   ]
  },
  {
   "cell_type": "code",
   "execution_count": 32,
   "id": "d8aa0b45-b61a-44ae-8dc6-23574c4b072d",
   "metadata": {},
   "outputs": [],
   "source": [
    "def add(a,b):\n",
    "    return a+b"
   ]
  },
  {
   "cell_type": "code",
   "execution_count": 33,
   "id": "6496cde4-33f4-43b7-97a0-7d78f009940a",
   "metadata": {},
   "outputs": [
    {
     "data": {
      "text/plain": [
       "5"
      ]
     },
     "execution_count": 33,
     "metadata": {},
     "output_type": "execute_result"
    }
   ],
   "source": [
    "add(2,3)"
   ]
  },
  {
   "cell_type": "code",
   "execution_count": 34,
   "id": "d50cca57-44a5-45a2-9851-75ecac2213c2",
   "metadata": {},
   "outputs": [],
   "source": [
    "def greet():\n",
    "    return \"hello world\""
   ]
  },
  {
   "cell_type": "code",
   "execution_count": 35,
   "id": "2c226768-1c7c-46bb-8fab-9324bdcdd05e",
   "metadata": {},
   "outputs": [
    {
     "data": {
      "text/plain": [
       "'hello world'"
      ]
     },
     "execution_count": 35,
     "metadata": {},
     "output_type": "execute_result"
    }
   ],
   "source": [
    "greet()"
   ]
  },
  {
   "cell_type": "code",
   "execution_count": 43,
   "id": "31148747-712c-4453-959c-6fce0c1db813",
   "metadata": {},
   "outputs": [],
   "source": [
    "def add_num():\n",
    "    a=int(input(\"enter first number\"))\n",
    "    b=int(input(\"enter first number\"))\n",
    "    c=a+b\n",
    "    print(c)"
   ]
  },
  {
   "cell_type": "code",
   "execution_count": 44,
   "id": "54874e03-174a-45bb-9969-8c13cceeca67",
   "metadata": {},
   "outputs": [
    {
     "name": "stdin",
     "output_type": "stream",
     "text": [
      "enter first number 2\n",
      "enter first number 3\n"
     ]
    },
    {
     "name": "stdout",
     "output_type": "stream",
     "text": [
      "5\n"
     ]
    }
   ],
   "source": [
    "add_num()"
   ]
  },
  {
   "cell_type": "code",
   "execution_count": 47,
   "id": "abfe5151-e06a-438f-8a00-b0cd53d6e616",
   "metadata": {},
   "outputs": [],
   "source": [
    "def multiply(x,y):\n",
    "    '''this is'''\n",
    "    a=x\n",
    "    b=y\n",
    "    c=a*b\n",
    "    print(c)"
   ]
  },
  {
   "cell_type": "code",
   "execution_count": 49,
   "id": "0aaa4ac4-ce39-4796-bc9a-57f8de80c075",
   "metadata": {},
   "outputs": [
    {
     "name": "stdout",
     "output_type": "stream",
     "text": [
      "12\n"
     ]
    }
   ],
   "source": [
    "multiply(2,6)"
   ]
  },
  {
   "cell_type": "code",
   "execution_count": 50,
   "id": "35a3afb9-9401-48bd-8270-f1b722619800",
   "metadata": {},
   "outputs": [],
   "source": [
    "def introduction(name):\n",
    "    print('hi',name)"
   ]
  },
  {
   "cell_type": "code",
   "execution_count": 51,
   "id": "965a8419-5457-4180-94e0-fe34cfeabf2c",
   "metadata": {},
   "outputs": [
    {
     "name": "stdout",
     "output_type": "stream",
     "text": [
      "hi pwskills\n"
     ]
    }
   ],
   "source": [
    "introduction(\"pwskills\")"
   ]
  },
  {
   "cell_type": "code",
   "execution_count": 52,
   "id": "fb6e6839-d377-44ab-bd7f-757b6449d0e6",
   "metadata": {},
   "outputs": [],
   "source": [
    "def intro(fname,lname):\n",
    "    print(fname +' '+lname )"
   ]
  },
  {
   "cell_type": "code",
   "execution_count": 53,
   "id": "d2c933d8-5924-4268-82cf-8942b9bf978a",
   "metadata": {},
   "outputs": [
    {
     "name": "stdout",
     "output_type": "stream",
     "text": [
      "pwskills data\n"
     ]
    }
   ],
   "source": [
    "intro(\"pwskills\",'data')"
   ]
  },
  {
   "cell_type": "code",
   "execution_count": 54,
   "id": "3a969b2a-8631-44a4-b274-67c1d4b7b173",
   "metadata": {},
   "outputs": [],
   "source": [
    "def fun(num):\n",
    "    if(num<0):\n",
    "        num=num*(-1)\n",
    "        print(num)\n",
    "    else:\n",
    "        print(num)"
   ]
  },
  {
   "cell_type": "code",
   "execution_count": 55,
   "id": "d826ebe4-2c47-46fa-84b0-149ec75689bd",
   "metadata": {},
   "outputs": [
    {
     "name": "stdout",
     "output_type": "stream",
     "text": [
      "23\n"
     ]
    }
   ],
   "source": [
    "fun(-23)"
   ]
  },
  {
   "cell_type": "code",
   "execution_count": 56,
   "id": "69439f3e-85a6-4493-ada5-bd3e119374ba",
   "metadata": {},
   "outputs": [
    {
     "name": "stdout",
     "output_type": "stream",
     "text": [
      "23\n"
     ]
    }
   ],
   "source": [
    "fun(23)"
   ]
  },
  {
   "cell_type": "code",
   "execution_count": 59,
   "id": "be18d1fb-9f09-46a4-8c0f-9cc07a33efca",
   "metadata": {},
   "outputs": [],
   "source": [
    "def fullname(a,b):\n",
    "    c=a+b\n",
    "    return c\n",
    "    "
   ]
  },
  {
   "cell_type": "code",
   "execution_count": 63,
   "id": "2775b8d5-e07c-4af7-b927-caee919c43f6",
   "metadata": {},
   "outputs": [
    {
     "data": {
      "text/plain": [
       "'pwskill science'"
      ]
     },
     "execution_count": 63,
     "metadata": {},
     "output_type": "execute_result"
    }
   ],
   "source": [
    "fullname(\"pwskill \", 'science')"
   ]
  },
  {
   "cell_type": "code",
   "execution_count": 64,
   "id": "bd348df7-1636-4840-997f-2faddfe6b540",
   "metadata": {},
   "outputs": [
    {
     "data": {
      "text/plain": [
       "'pw skills'"
      ]
     },
     "execution_count": 64,
     "metadata": {},
     "output_type": "execute_result"
    }
   ],
   "source": [
    "x=fullname(\"pw \",'skills')\n",
    "x"
   ]
  },
  {
   "cell_type": "code",
   "execution_count": 65,
   "id": "11b25087-1024-4eb6-a89b-e21e4a8a4461",
   "metadata": {},
   "outputs": [
    {
     "data": {
      "text/plain": [
       "str"
      ]
     },
     "execution_count": 65,
     "metadata": {},
     "output_type": "execute_result"
    }
   ],
   "source": [
    "type(x)"
   ]
  },
  {
   "cell_type": "code",
   "execution_count": 66,
   "id": "2e729393-2326-4d7a-9c8c-3fc3ee9c352e",
   "metadata": {},
   "outputs": [],
   "source": [
    "def fullname(a,b):\n",
    "    c=a+b\n",
    "    print(c)"
   ]
  },
  {
   "cell_type": "code",
   "execution_count": 68,
   "id": "c19081dd-718a-42ec-973b-cc9f9142ff16",
   "metadata": {},
   "outputs": [
    {
     "name": "stdout",
     "output_type": "stream",
     "text": [
      "pw skills\n"
     ]
    }
   ],
   "source": [
    "x=fullname(\"pw \",'skills')"
   ]
  },
  {
   "cell_type": "code",
   "execution_count": 70,
   "id": "ecccfaa9-6c75-4dd5-bda4-2eace7112a39",
   "metadata": {},
   "outputs": [],
   "source": [
    "## always function should return the value that can be used for the further purpose "
   ]
  },
  {
   "cell_type": "code",
   "execution_count": 71,
   "id": "c663a821-1bed-464f-9a2e-339fc3dfb979",
   "metadata": {},
   "outputs": [],
   "source": [
    "def fullname(a,b):\n",
    "    return a+b"
   ]
  },
  {
   "cell_type": "code",
   "execution_count": 73,
   "id": "4deb5d80-201f-4b6c-b540-35c31b445500",
   "metadata": {},
   "outputs": [],
   "source": [
    "y=fullname(\"pw \",'skills')"
   ]
  },
  {
   "cell_type": "code",
   "execution_count": 74,
   "id": "1372029f-3f48-460a-9ab3-01853acdf105",
   "metadata": {},
   "outputs": [
    {
     "data": {
      "text/plain": [
       "'pw skills'"
      ]
     },
     "execution_count": 74,
     "metadata": {},
     "output_type": "execute_result"
    }
   ],
   "source": [
    "y"
   ]
  },
  {
   "cell_type": "code",
   "execution_count": 75,
   "id": "ca07a269-4b41-43ff-bb0b-bda6feaa545f",
   "metadata": {},
   "outputs": [
    {
     "data": {
      "text/plain": [
       "str"
      ]
     },
     "execution_count": 75,
     "metadata": {},
     "output_type": "execute_result"
    }
   ],
   "source": [
    "type(y)"
   ]
  },
  {
   "cell_type": "code",
   "execution_count": 79,
   "id": "1d2aea7c-8248-4581-95fa-eb52a01394c7",
   "metadata": {},
   "outputs": [],
   "source": [
    "\n",
    "def calculator(a,b,operation):\n",
    "    if(operation==\"add\"):\n",
    "        return a+b\n",
    "    elif(operation=='sub'):\n",
    "        return a-b\n",
    "    elif(operation=='mul'):\n",
    "        return a*b\n",
    "    elif(operation=='div'):\n",
    "        return a/b\n",
    "    \n",
    "    "
   ]
  },
  {
   "cell_type": "code",
   "execution_count": 81,
   "id": "fcbdfc5c-bc84-4ba7-809a-bddad9e568ad",
   "metadata": {},
   "outputs": [
    {
     "data": {
      "text/plain": [
       "0.5"
      ]
     },
     "execution_count": 81,
     "metadata": {},
     "output_type": "execute_result"
    }
   ],
   "source": [
    "calculator(1,2,'div')"
   ]
  },
  {
   "cell_type": "code",
   "execution_count": 83,
   "id": "02cfb896-59d0-4db2-bf85-9697acfffd0d",
   "metadata": {},
   "outputs": [],
   "source": [
    "def area(radius):\n",
    "    return 3.14*radius*radius"
   ]
  },
  {
   "cell_type": "code",
   "execution_count": 84,
   "id": "ba232879-a830-401d-a205-8c6c31e9665a",
   "metadata": {},
   "outputs": [
    {
     "data": {
      "text/plain": [
       "50.24"
      ]
     },
     "execution_count": 84,
     "metadata": {},
     "output_type": "execute_result"
    }
   ],
   "source": [
    "area(4)"
   ]
  },
  {
   "cell_type": "code",
   "execution_count": 88,
   "id": "791eb84d-652b-4882-b639-f4e69f6ce545",
   "metadata": {},
   "outputs": [],
   "source": [
    "def area_rectangle(length,breadth):\n",
    "    return length*breadth"
   ]
  },
  {
   "cell_type": "code",
   "execution_count": 89,
   "id": "73349e5e-d20c-4728-ba90-0187d95d9936",
   "metadata": {},
   "outputs": [
    {
     "data": {
      "text/plain": [
       "6"
      ]
     },
     "execution_count": 89,
     "metadata": {},
     "output_type": "execute_result"
    }
   ],
   "source": [
    "area_rectangle(2,3)"
   ]
  },
  {
   "cell_type": "code",
   "execution_count": 90,
   "id": "bd06dbf0-b2bf-4559-a9e2-210c96283209",
   "metadata": {},
   "outputs": [],
   "source": [
    "def  area_rectangle(base,height):\n",
    "    return 1/2*(base*height)"
   ]
  },
  {
   "cell_type": "code",
   "execution_count": 91,
   "id": "ec83e77d-107a-4668-8542-eb889caec4e1",
   "metadata": {},
   "outputs": [
    {
     "data": {
      "text/plain": [
       "1.0"
      ]
     },
     "execution_count": 91,
     "metadata": {},
     "output_type": "execute_result"
    }
   ],
   "source": [
    "area_rectangle(1,2)"
   ]
  },
  {
   "cell_type": "code",
   "execution_count": 95,
   "id": "df3dd3ea-0b83-4cb3-9728-18ec74044aad",
   "metadata": {},
   "outputs": [],
   "source": [
    "def numbers():\n",
    "    for i in range(6):\n",
    "        print(i)"
   ]
  },
  {
   "cell_type": "code",
   "execution_count": 96,
   "id": "bf5de9b5-a3c2-46f2-9307-ea38f7aec63c",
   "metadata": {},
   "outputs": [
    {
     "name": "stdout",
     "output_type": "stream",
     "text": [
      "0\n",
      "1\n",
      "2\n",
      "3\n",
      "4\n",
      "5\n"
     ]
    }
   ],
   "source": [
    "numbers()"
   ]
  },
  {
   "cell_type": "code",
   "execution_count": 101,
   "id": "8d7c590f-9717-49a9-b162-2a4667c4211f",
   "metadata": {},
   "outputs": [],
   "source": [
    "def stars():\n",
    "    for i in range(6):\n",
    "        for j in range(i):\n",
    "            print('*',end=' ')\n",
    "        print('')"
   ]
  },
  {
   "cell_type": "code",
   "execution_count": 102,
   "id": "e2ff2935-0778-4279-bfda-19ca24e16ca1",
   "metadata": {},
   "outputs": [
    {
     "name": "stdout",
     "output_type": "stream",
     "text": [
      "\n",
      "* \n",
      "* * \n",
      "* * * \n",
      "* * * * \n",
      "* * * * * \n"
     ]
    }
   ],
   "source": [
    "stars()"
   ]
  },
  {
   "cell_type": "code",
   "execution_count": 103,
   "id": "56494254-339f-42dc-938d-603346e9398b",
   "metadata": {},
   "outputs": [],
   "source": [
    "def squares(num):\n",
    "    return num**2\n"
   ]
  },
  {
   "cell_type": "code",
   "execution_count": 104,
   "id": "a8ad3a6b-763b-4420-856b-ea50a06fb54d",
   "metadata": {},
   "outputs": [
    {
     "data": {
      "text/plain": [
       "9"
      ]
     },
     "execution_count": 104,
     "metadata": {},
     "output_type": "execute_result"
    }
   ],
   "source": [
    "squares(3)"
   ]
  },
  {
   "cell_type": "code",
   "execution_count": 105,
   "id": "2e6dc299-a0d3-4c6f-99aa-d954cad2ac64",
   "metadata": {},
   "outputs": [],
   "source": [
    "def sum(a,b):\n",
    "    return a+b"
   ]
  },
  {
   "cell_type": "code",
   "execution_count": 106,
   "id": "b8c1b6c7-5c33-479c-a56b-7f6a45da05d7",
   "metadata": {},
   "outputs": [
    {
     "data": {
      "text/plain": [
       "3"
      ]
     },
     "execution_count": 106,
     "metadata": {},
     "output_type": "execute_result"
    }
   ],
   "source": [
    "sum(1,2)"
   ]
  },
  {
   "cell_type": "code",
   "execution_count": 107,
   "id": "b393e289-9dc2-4f4b-b955-43233b8525de",
   "metadata": {},
   "outputs": [],
   "source": [
    "def add(s1,s2):\n",
    "    return s1+\" \"+s2\n",
    "    "
   ]
  },
  {
   "cell_type": "code",
   "execution_count": 109,
   "id": "f1a7bc39-d66c-43e0-969f-45d32962ddec",
   "metadata": {},
   "outputs": [
    {
     "data": {
      "text/plain": [
       "'pwskills data '"
      ]
     },
     "execution_count": 109,
     "metadata": {},
     "output_type": "execute_result"
    }
   ],
   "source": [
    "add('pwskills','data ')"
   ]
  },
  {
   "cell_type": "code",
   "execution_count": 117,
   "id": "4372cd1a-32dd-45fa-b83a-03d468f63cce",
   "metadata": {},
   "outputs": [],
   "source": [
    "def even_queue():\n",
    "    a=int(input(\"enter starting point\"))\n",
    "    b=int(input(\"enter ending point\"))\n",
    "    for i in range(a,b+1):\n",
    "        if(i%2==0):\n",
    "            print(i,end=' ')\n",
    "        else:\n",
    "            pass"
   ]
  },
  {
   "cell_type": "code",
   "execution_count": 118,
   "id": "d8f6fccf-0164-459c-a555-b251aa704934",
   "metadata": {},
   "outputs": [
    {
     "name": "stdin",
     "output_type": "stream",
     "text": [
      "enter starting point 2\n",
      "enter ending point 20\n"
     ]
    },
    {
     "name": "stdout",
     "output_type": "stream",
     "text": [
      "2 4 6 8 10 12 14 16 18 20 "
     ]
    }
   ],
   "source": [
    "even_queue()"
   ]
  },
  {
   "cell_type": "code",
   "execution_count": 123,
   "id": "1bebe303-df42-4333-9eec-4e50a1658e0a",
   "metadata": {},
   "outputs": [],
   "source": [
    "import cmath\n",
    "def triangle():\n",
    "    a=int(input(\"enter first side\"))\n",
    "    b=int(input(\"enter first side\"))\n",
    "    c=int(input(\"enter first side\"))\n",
    "    ans=(a**2)+(b**2)\n",
    "    final=cmath.sqrt(ans)\n",
    "    if(c==final):\n",
    "        print(\"it's triangle\")\n",
    "    else:\n",
    "        print(\"no\")\n",
    "    "
   ]
  },
  {
   "cell_type": "code",
   "execution_count": 124,
   "id": "8b4a82b0-74e5-4ce6-9082-c9dfb5e8fc0a",
   "metadata": {},
   "outputs": [
    {
     "name": "stdin",
     "output_type": "stream",
     "text": [
      "enter first side 3\n",
      "enter first side 9\n",
      "enter first side 2\n"
     ]
    },
    {
     "name": "stdout",
     "output_type": "stream",
     "text": [
      "no\n"
     ]
    }
   ],
   "source": [
    "triangle()"
   ]
  },
  {
   "cell_type": "code",
   "execution_count": null,
   "id": "a93ca0cb-6478-4ea0-8b56-c7409844dbca",
   "metadata": {},
   "outputs": [],
   "source": [
    "#### import cmath\n",
    "def triangle():\n",
    "    a=int(input(\"enter first side\"))\n",
    "    b=int(input(\"enter first side\"))\n",
    "    c=int(input(\"enter first side\"))\n",
    "    ans=(a**2)+(b**2)\n",
    "    final=cmath.sqrt(ans)\n",
    "    if(c==final):\n",
    "        print(\"it's triangle\")\n",
    "    else:\n",
    "        print(\"no\")\n",
    "    "
   ]
  },
  {
   "cell_type": "code",
   "execution_count": null,
   "id": "ad6912e2-fa66-461b-b002-c59c5090cbff",
   "metadata": {},
   "outputs": [],
   "source": [
    "def password_validator(password):\n",
    "    if(len(password)>=8 and len(password)<=32):\n",
    "        if(password[0].isupper() or password[0].islower()):\n",
    "            \n",
    "        "
   ]
  },
  {
   "cell_type": "code",
   "execution_count": null,
   "id": "4f1367d7-66c9-4742-a3cf-b220b4b36c9b",
   "metadata": {},
   "outputs": [],
   "source": []
  },
  {
   "cell_type": "code",
   "execution_count": null,
   "id": "4c04dbd1-9ca2-4bbb-a831-533042664e13",
   "metadata": {},
   "outputs": [],
   "source": []
  },
  {
   "cell_type": "code",
   "execution_count": null,
   "id": "9734ff7c-032f-48de-a1b6-f22f3d970c3c",
   "metadata": {},
   "outputs": [],
   "source": []
  },
  {
   "cell_type": "code",
   "execution_count": null,
   "id": "37e9e5e7-3f54-4049-a564-a6964807c0d1",
   "metadata": {},
   "outputs": [],
   "source": []
  },
  {
   "cell_type": "code",
   "execution_count": null,
   "id": "6f3cbd6a-9a6b-4442-8201-b6ab4130f7e1",
   "metadata": {},
   "outputs": [],
   "source": []
  }
 ],
 "metadata": {
  "kernelspec": {
   "display_name": "Python 3 (ipykernel)",
   "language": "python",
   "name": "python3"
  },
  "language_info": {
   "codemirror_mode": {
    "name": "ipython",
    "version": 3
   },
   "file_extension": ".py",
   "mimetype": "text/x-python",
   "name": "python",
   "nbconvert_exporter": "python",
   "pygments_lexer": "ipython3",
   "version": "3.10.8"
  }
 },
 "nbformat": 4,
 "nbformat_minor": 5
}
