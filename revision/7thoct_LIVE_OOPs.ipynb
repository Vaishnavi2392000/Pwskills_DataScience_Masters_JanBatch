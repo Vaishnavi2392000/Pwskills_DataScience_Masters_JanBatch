{
 "cells": [
  {
   "cell_type": "code",
   "execution_count": 58,
   "id": "615edaec-baff-4d91-a577-3f4f5829fe66",
   "metadata": {},
   "outputs": [],
   "source": [
    "class A:\n",
    "    def test(self):\n",
    "        print(\"test method is the part of class A\")\n",
    "        \n",
    "    def test1(self):\n",
    "        print(\"this is test 1 from class A\")\n",
    "        \n",
    "\n",
    "\n",
    "        "
   ]
  },
  {
   "cell_type": "code",
   "execution_count": 59,
   "id": "8a34e84f-0b2f-4f2c-a7f7-b525cb610e23",
   "metadata": {},
   "outputs": [],
   "source": [
    "a=A()"
   ]
  },
  {
   "cell_type": "code",
   "execution_count": 60,
   "id": "859ce1b5-e895-4b2c-bce1-3eb1ffb0c1d5",
   "metadata": {},
   "outputs": [
    {
     "name": "stdout",
     "output_type": "stream",
     "text": [
      "test method is the part of class A\n"
     ]
    }
   ],
   "source": [
    "a.test()"
   ]
  },
  {
   "cell_type": "code",
   "execution_count": 61,
   "id": "53efdc6b-2cb4-4406-9a88-fc609efc3a16",
   "metadata": {},
   "outputs": [],
   "source": [
    "class B(A):\n",
    "##nwrite the exact same function from class A to class B\n",
    "    def test1B(self):\n",
    "        print(\"this is the part of class B\")\n",
    "\n",
    "    "
   ]
  },
  {
   "cell_type": "code",
   "execution_count": 62,
   "id": "c7bd6f1f-7c14-45eb-b5ce-6dc9a52d52b4",
   "metadata": {},
   "outputs": [],
   "source": [
    "b=B()"
   ]
  },
  {
   "cell_type": "code",
   "execution_count": 63,
   "id": "40aae75f-397d-43de-854b-4f1cb02365b9",
   "metadata": {},
   "outputs": [
    {
     "name": "stdout",
     "output_type": "stream",
     "text": [
      "test method is the part of class A\n"
     ]
    }
   ],
   "source": [
    "b.test()"
   ]
  },
  {
   "cell_type": "code",
   "execution_count": 64,
   "id": "82ab537e-f732-4c2d-9863-92e86cd09ac5",
   "metadata": {},
   "outputs": [
    {
     "name": "stdout",
     "output_type": "stream",
     "text": [
      "this is test 1 from class A\n"
     ]
    }
   ],
   "source": [
    "b.test1()"
   ]
  },
  {
   "cell_type": "code",
   "execution_count": 65,
   "id": "c2d9d78d-76fe-45f8-939c-a10f8ff14520",
   "metadata": {},
   "outputs": [
    {
     "name": "stdout",
     "output_type": "stream",
     "text": [
      "this is the part of class B\n"
     ]
    }
   ],
   "source": [
    "b.test1B()\n"
   ]
  },
  {
   "cell_type": "code",
   "execution_count": null,
   "id": "de7946db-cf21-4c2a-9492-594628071591",
   "metadata": {},
   "outputs": [],
   "source": [
    "class lecture:\n",
    "    def topic(self):\n",
    "        print(\"todays class is all about inheritance\")\n",
    "        \n",
    "    def timing(self):\n",
    "        print(\"timing of the class is 9 am\")\n",
    "    \n",
    "    def end_time(self):\n",
    "        print(\"today i will end class bit early\")\n",
    "        \n",
    "        "
   ]
  },
  {
   "cell_type": "code",
   "execution_count": null,
   "id": "89eabf87-3974-454c-a442-9cb3e7e7c55a",
   "metadata": {},
   "outputs": [],
   "source": [
    "class Student(lecture):\n",
    "    def stundent_details(self):\n",
    "        print(\"this class will give you a student details \")\n",
    "        \n",
    "    def timing(self):\n",
    "        print(\"this is the timing function from student class\")\n",
    "        "
   ]
  },
  {
   "cell_type": "code",
   "execution_count": null,
   "id": "4c8e514e-c03f-408e-a068-2bbd5af7e9d6",
   "metadata": {},
   "outputs": [],
   "source": [
    "class teacher(Student,lecture):\n",
    "    def details(self):\n",
    "        print(\"this will give you a student details\")\n",
    "    \n",
    "    "
   ]
  },
  {
   "cell_type": "code",
   "execution_count": null,
   "id": "e56d57b6-8add-413c-95fb-cd2beaa93de0",
   "metadata": {},
   "outputs": [],
   "source": [
    "krish=teacher()"
   ]
  },
  {
   "cell_type": "code",
   "execution_count": null,
   "id": "9b182079-6247-4ec6-84e5-652ea136bc8b",
   "metadata": {},
   "outputs": [],
   "source": [
    "krish.timing()"
   ]
  },
  {
   "cell_type": "markdown",
   "id": "5b02a8b3-aadb-4dd4-ba5d-957dc33eb5a2",
   "metadata": {},
   "source": [
    "https://github.com/sudh9931/opps_assignment/tree/main"
   ]
  },
  {
   "cell_type": "raw",
   "id": "e4ab1c38-2268-4826-8a50-c4422f830fa9",
   "metadata": {},
   "source": [
    "this class will give you a student details\n",
    "Problem 1: Bank Account Create a class representing a bank account with attributes like account number, account holder name, and balance. Implement methods to deposit and withdraw money from the account.\n",
    "\n",
    "Problem 2: Employee Management Create a class representing an employee with attributes like employee ID, name, and salary. Implement methods to calculate the yearly bonus and display employee details.\n",
    "\n",
    "Problem 3: Vehicle Rental Create a class representing a vehicle rental system. Implement methods to rent a vehicle, return a vehicle, and display available vehicles.\n",
    "\n",
    "Problem 4: Library Catalog Create classes representing a library and a book. Implement methods to add books to the library, borrow books, and display available books.\n",
    "\n",
    "Problem 5: Product Inventory Create classes representing a product and an inventory system. Implement methods to add products to the inventory, update product quantity, and display available products.\n",
    "\n",
    "Problem 6: Shape Calculation Create a class representing a shape with attributes like length, width, and height. Implement methods to calculate the area and perimeter of the shape.\n",
    "\n",
    "Problem 7: Student Management Create a class representing a student with attributes like student ID, name, and grades. Implement methods to calculate the average grade and display student details.\n",
    "\n",
    "Problem 8: Email Management Create a class representing an email with attributes like sender, recipient, and subject. Implement methods to send an email and display email details.\n",
    "\n",
    "Problem 9: Social Media Profile Create a class representing a social media profile with attributes like username and posts. Implement methods to add posts, display posts, and search for posts by keyword.\n",
    "\n",
    "Problem 10: ToDo List Create a class representing a ToDo list with attributes like tasks and due dates. Implement methods to add tasks, mark tasks as completed, and display pending tasks.\n",
    "\n",
    " "
   ]
  },
  {
   "cell_type": "markdown",
   "id": "d589dbc1-7603-4983-b513-6a12c23890f3",
   "metadata": {},
   "source": [
    "Problem 1: Bank Account Create a class representing a bank account with attributes like account number, account holder name, and balance. Implement methods to deposit and withdraw money from the account."
   ]
  },
  {
   "cell_type": "code",
   "execution_count": 11,
   "id": "35318d4b-8a0f-46e4-b7db-40201cf78497",
   "metadata": {},
   "outputs": [],
   "source": [
    "class Bank:\n",
    "    def __init__(self,acc_no,acc_holder,name,balence):\n",
    "        self.acc_no=acc_no\n",
    "        self.acc_holder=acc_holder\n",
    "        self.name=name\n",
    "        self.balence=balence\n",
    "        \n",
    "    def showdata(self):\n",
    "        print(\"welcome to the bank of Pwskills!\")\n",
    "        print(\"hello \",self.name)\n",
    "        print(\"your account name  is \",self.acc_holder)\n",
    "        print(\"your accoount number is \",self.name)\n",
    "        print(\"In your account the balence is \",self.balence)\n",
    "        \n",
    "    \n",
    "    def deposit_money(self):\n",
    "        print(\"current amount in your account is \",self.balence)\n",
    "        amount1=int(input(\"enter the amount to be deposited\"))\n",
    "        new_amount=self.balence+amount1\n",
    "        self.balence=new_amount\n",
    "        print(\"In your account the balence is \",self.balence)\n",
    "        \n",
    "    def withdraw_money(self):\n",
    "        print(\"current balence is \",self.balence)\n",
    "        print(\"\\n\")\n",
    "        amount1=int(input(\"enter the amount to be withdrawn\"))\n",
    "        if(amount1>self.balence):\n",
    "            print(\"sorry! balence is not suficient\")\n",
    "        elif(amount1<500):\n",
    "            print(\"please enter the amount greator than 500!\")\n",
    "        else:\n",
    "            new_amount1=self.balence-amount1\n",
    "            self.balence=new_amount1\n",
    "            print(\"your current balence is \",self.balence)\n",
    "        "
   ]
  },
  {
   "cell_type": "code",
   "execution_count": 12,
   "id": "fb65b59d-6868-456e-888c-4ccd1cd4d2c3",
   "metadata": {},
   "outputs": [],
   "source": [
    "b=Bank(12345,\"shreya\",\"vaishnavi\",10000)"
   ]
  },
  {
   "cell_type": "code",
   "execution_count": 13,
   "id": "732d3510-3cad-4d28-aed8-e4cb1dd37282",
   "metadata": {},
   "outputs": [
    {
     "name": "stdout",
     "output_type": "stream",
     "text": [
      "welcome to the bank of Pwskills!\n",
      "hello  vaishnavi\n",
      "your account name  is  shreya\n",
      "your accoount number is  vaishnavi\n",
      "In your account the balence is  10000\n"
     ]
    }
   ],
   "source": [
    "b.showdata()"
   ]
  },
  {
   "cell_type": "code",
   "execution_count": 14,
   "id": "796d47e5-1266-454b-aa10-c4c4a880ab1b",
   "metadata": {},
   "outputs": [
    {
     "name": "stdout",
     "output_type": "stream",
     "text": [
      "current amount in your account is  10000\n"
     ]
    },
    {
     "name": "stdin",
     "output_type": "stream",
     "text": [
      "enter the amount to be deposited 2000\n"
     ]
    },
    {
     "name": "stdout",
     "output_type": "stream",
     "text": [
      "In your account the balence is  12000\n"
     ]
    }
   ],
   "source": [
    "b.deposit_money()"
   ]
  },
  {
   "cell_type": "code",
   "execution_count": 15,
   "id": "69f386ea-4f63-4172-8e71-33a46340983d",
   "metadata": {},
   "outputs": [
    {
     "name": "stdout",
     "output_type": "stream",
     "text": [
      "current balence is  12000\n",
      "\n",
      "\n"
     ]
    },
    {
     "name": "stdin",
     "output_type": "stream",
     "text": [
      "enter the amount to be withdrawn 200\n"
     ]
    },
    {
     "name": "stdout",
     "output_type": "stream",
     "text": [
      "please enter the amount greator than 500!\n"
     ]
    }
   ],
   "source": [
    "b.withdraw_money()"
   ]
  },
  {
   "cell_type": "markdown",
   "id": "7f7e7fe2-4e4f-448b-a61e-9985fda1e87c",
   "metadata": {},
   "source": [
    "problem 2: Employee Management Create a class representing an employee with attributes like employee ID, name, and salary. Implement methods to calculate the yearly bonus and display employee details."
   ]
  },
  {
   "cell_type": "code",
   "execution_count": 34,
   "id": "1789855e-d15d-4883-9bd8-01e4c9ba74e6",
   "metadata": {},
   "outputs": [],
   "source": [
    "class Employee:\n",
    "    def __init__(self,emp_id,emp_name,emp_salary):\n",
    "        self.emp_id=emp_id\n",
    "        self.emp_name=emp_name\n",
    "        self.emp_salary=emp_salary\n",
    "        \n",
    "    def showdata(self):\n",
    "        print('welcome to the pwskills!')\n",
    "        print(\"hello\",self.emp_name)\n",
    "        print(\"your emp_id is\", self.emp_id)\n",
    "        print(\"your salary is \", self.emp_salary)\n",
    "        \n",
    "    def bonus_calculator(self):\n",
    "        bonus_per_month=self.emp_salary*8.33/100\n",
    "        bonus_per_year=round(bonus_per_month*12,2)\n",
    "        print(\"the annual bonus for {} is rs {} \".format(self.emp_name ,bonus_per_year))\n",
    "        \n"
   ]
  },
  {
   "cell_type": "code",
   "execution_count": 35,
   "id": "47fd6a43-faef-4270-8a2d-1193571ef4dd",
   "metadata": {},
   "outputs": [],
   "source": [
    "e=Employee(2174052,\"vaishnavi\",23000)"
   ]
  },
  {
   "cell_type": "code",
   "execution_count": 36,
   "id": "c8d66a05-9d6d-4492-a3d3-0f7900e7c06d",
   "metadata": {},
   "outputs": [
    {
     "name": "stdout",
     "output_type": "stream",
     "text": [
      "welcome to the pwskills!\n",
      "hello vaishnavi\n",
      "your emp_id is 2174052\n",
      "your salary is  23000\n"
     ]
    }
   ],
   "source": [
    "e.showdata()"
   ]
  },
  {
   "cell_type": "code",
   "execution_count": 37,
   "id": "ee62bcba-c209-4046-9c29-4819fb5bbed9",
   "metadata": {},
   "outputs": [
    {
     "name": "stdout",
     "output_type": "stream",
     "text": [
      "the annual bonus for vaishnavi is rs 22990.8 \n"
     ]
    }
   ],
   "source": [
    "e.bonus_calculator()"
   ]
  },
  {
   "cell_type": "markdown",
   "id": "c9856f6d-8b9a-4c70-bcbd-af7b40b93af7",
   "metadata": {},
   "source": [
    "Problem 3: Vehicle Rental Create a class representing a vehicle rental system. Implement methods to rent a vehicle, return a vehicle, and display available vehicles."
   ]
  },
  {
   "cell_type": "code",
   "execution_count": null,
   "id": "faf1ef53-c797-4ba2-ae08-73fef993295f",
   "metadata": {},
   "outputs": [],
   "source": []
  },
  {
   "cell_type": "markdown",
   "id": "03ff3556-6e25-422c-8a69-b9fef85e9a72",
   "metadata": {},
   "source": [
    "Problem 6: Shape Calculation Create a class representing a shape with attributes like length, width, and height. Implement methods to calculate the area and perimeter of the shape.\n"
   ]
  },
  {
   "cell_type": "code",
   "execution_count": 45,
   "id": "45b5b201-9ef8-4b60-9e3f-9b60f25c50ea",
   "metadata": {},
   "outputs": [],
   "source": [
    "class Shape:\n",
    "    def area_of_shape(self):\n",
    "        shapes=[\"cuboid\",\"rectangle\"]\n",
    "        shape=input(\"enter any shape from the 1. cuboid, 2. rectangle\").lower()\n",
    "        if(shape in shapes):\n",
    "            print(\"you can calculate the area\")\n",
    "        if(shape==\"cuboid\"):\n",
    "            length=int(input(\"enter length\"))\n",
    "            width=int(input(\"enter width\"))\n",
    "            height=int(input(\"enter height\"))\n",
    "            area=2*length*width + 2*length*height + 2*height*width\n",
    "            print(\"area of the box is \",area)\n",
    "        elif(shape==\"rectangle\"):\n",
    "            length=int(input(\"enter length\"))\n",
    "            width=int(input(\"enter width\"))\n",
    "            area=length*width\n",
    "            print(\"area of rectangle is \",area)\n",
    "            \n",
    "    def parameter_calculator(self):\n",
    "        \n",
    "            \n",
    "    \n",
    "        \n",
    "        "
   ]
  },
  {
   "cell_type": "code",
   "execution_count": 46,
   "id": "c5dcca57-0550-4e7d-8343-be58334a1d1d",
   "metadata": {},
   "outputs": [],
   "source": [
    "s=Shape()"
   ]
  },
  {
   "cell_type": "code",
   "execution_count": 47,
   "id": "bccd4f5d-808b-40b6-a094-804cb2967d23",
   "metadata": {},
   "outputs": [
    {
     "name": "stdin",
     "output_type": "stream",
     "text": [
      "enter any shape from the 1. box, 2. cuboid, 3. rectangle rectangle\n"
     ]
    },
    {
     "name": "stdout",
     "output_type": "stream",
     "text": [
      "you can calculate the area\n"
     ]
    },
    {
     "name": "stdin",
     "output_type": "stream",
     "text": [
      "enter length 2\n",
      "enter width 3\n"
     ]
    },
    {
     "name": "stdout",
     "output_type": "stream",
     "text": [
      "area of rectangle is  6\n"
     ]
    }
   ],
   "source": [
    "s.area_of_shape()"
   ]
  },
  {
   "cell_type": "markdown",
   "id": "9ec07d9d-0f24-45ef-b5a9-441a49986511",
   "metadata": {},
   "source": [
    "Problem 7: Student Management Create a class representing a student with attributes like student ID, name, and grades. Implement methods to calculate the average grade and display student details.\n"
   ]
  },
  {
   "cell_type": "code",
   "execution_count": 67,
   "id": "69cebde1-564d-4a55-bf30-f5a1b4660540",
   "metadata": {},
   "outputs": [],
   "source": [
    "class Student:\n",
    "    def take_data(self):\n",
    "        name=input(\"enter the name\")\n",
    "        id1=int(input(\"enter the id\"))\n",
    "        grades=[]\n",
    "        try:\n",
    "            for i in range(1,6):\n",
    "                g=int(input(\"enter grades\"))\n",
    "                grades.append(g)\n",
    "            return name,id1,grades\n",
    "        except Exception as e:\n",
    "            print(e)\n",
    "    \n",
    "    def showdata(self):\n",
    "        print(\"name of the student is\",self. name)\n",
    "        print(\"id of the student is\", self.id1)\n",
    "    "
   ]
  },
  {
   "cell_type": "code",
   "execution_count": 68,
   "id": "893f2e3b-7cb2-48d0-a83f-56ad65e78d54",
   "metadata": {},
   "outputs": [],
   "source": [
    "s=Student()"
   ]
  },
  {
   "cell_type": "code",
   "execution_count": 69,
   "id": "adc5ff89-ebd9-49d6-9dc5-626b5fcba6b7",
   "metadata": {},
   "outputs": [
    {
     "name": "stdin",
     "output_type": "stream",
     "text": [
      "enter the name shreya\n",
      "enter the id 3\n",
      "enter grades sdh\n"
     ]
    },
    {
     "name": "stdout",
     "output_type": "stream",
     "text": [
      "invalid literal for int() with base 10: 'sdh'\n"
     ]
    }
   ],
   "source": [
    "s.take_data()"
   ]
  },
  {
   "cell_type": "code",
   "execution_count": 70,
   "id": "5dc87848-6caf-44fb-b941-59b2f4b2d490",
   "metadata": {},
   "outputs": [
    {
     "ename": "AttributeError",
     "evalue": "'Student' object has no attribute 'name'",
     "output_type": "error",
     "traceback": [
      "\u001b[0;31m---------------------------------------------------------------------------\u001b[0m",
      "\u001b[0;31mAttributeError\u001b[0m                            Traceback (most recent call last)",
      "Cell \u001b[0;32mIn[70], line 1\u001b[0m\n\u001b[0;32m----> 1\u001b[0m \u001b[43ms\u001b[49m\u001b[38;5;241;43m.\u001b[39;49m\u001b[43mshowdata\u001b[49m\u001b[43m(\u001b[49m\u001b[43m)\u001b[49m\n",
      "Cell \u001b[0;32mIn[67], line 15\u001b[0m, in \u001b[0;36mStudent.showdata\u001b[0;34m(self)\u001b[0m\n\u001b[1;32m     14\u001b[0m \u001b[38;5;28;01mdef\u001b[39;00m \u001b[38;5;21mshowdata\u001b[39m(\u001b[38;5;28mself\u001b[39m):\n\u001b[0;32m---> 15\u001b[0m     \u001b[38;5;28mprint\u001b[39m(\u001b[38;5;124m\"\u001b[39m\u001b[38;5;124mname of the student is\u001b[39m\u001b[38;5;124m\"\u001b[39m,\u001b[38;5;28;43mself\u001b[39;49m\u001b[38;5;241;43m.\u001b[39;49m\u001b[43m \u001b[49m\u001b[43mname\u001b[49m)\n\u001b[1;32m     16\u001b[0m     \u001b[38;5;28mprint\u001b[39m(\u001b[38;5;124m\"\u001b[39m\u001b[38;5;124mid of the student is\u001b[39m\u001b[38;5;124m\"\u001b[39m, \u001b[38;5;28mself\u001b[39m\u001b[38;5;241m.\u001b[39mid1)\n",
      "\u001b[0;31mAttributeError\u001b[0m: 'Student' object has no attribute 'name'"
     ]
    }
   ],
   "source": [
    "s.showdata()"
   ]
  },
  {
   "cell_type": "code",
   "execution_count": null,
   "id": "4b1ba7bd-3396-4b06-81fc-7c0da9c00a36",
   "metadata": {},
   "outputs": [],
   "source": []
  }
 ],
 "metadata": {
  "kernelspec": {
   "display_name": "Python 3 (ipykernel)",
   "language": "python",
   "name": "python3"
  },
  "language_info": {
   "codemirror_mode": {
    "name": "ipython",
    "version": 3
   },
   "file_extension": ".py",
   "mimetype": "text/x-python",
   "name": "python",
   "nbconvert_exporter": "python",
   "pygments_lexer": "ipython3",
   "version": "3.10.8"
  }
 },
 "nbformat": 4,
 "nbformat_minor": 5
}
