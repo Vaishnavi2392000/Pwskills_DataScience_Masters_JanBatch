{
 "cells": [
  {
   "cell_type": "code",
   "execution_count": 2,
   "id": "3e4b79db-1377-43da-8bda-0152e0296f82",
   "metadata": {},
   "outputs": [
    {
     "ename": "SyntaxError",
     "evalue": "incomplete input (4145799649.py, line 4)",
     "output_type": "error",
     "traceback": [
      "\u001b[0;36m  Cell \u001b[0;32mIn[2], line 4\u001b[0;36m\u001b[0m\n\u001b[0;31m    print(a/b\u001b[0m\n\u001b[0m             ^\u001b[0m\n\u001b[0;31mSyntaxError\u001b[0m\u001b[0;31m:\u001b[0m incomplete input\n"
     ]
    }
   ],
   "source": [
    "#syntax error\n",
    "a=int(input(\"enter a number\"))\n",
    "b=int(input(\"enter second number\"))\n",
    "print(a/b"
   ]
  },
  {
   "cell_type": "code",
   "execution_count": 4,
   "id": "0ff0b91f-07fe-43ae-b819-f7a3a068c7b2",
   "metadata": {},
   "outputs": [
    {
     "name": "stdin",
     "output_type": "stream",
     "text": [
      "enter a number 2\n",
      "enter second number 0\n"
     ]
    },
    {
     "ename": "ZeroDivisionError",
     "evalue": "division by zero",
     "output_type": "error",
     "traceback": [
      "\u001b[0;31m---------------------------------------------------------------------------\u001b[0m",
      "\u001b[0;31mZeroDivisionError\u001b[0m                         Traceback (most recent call last)",
      "Cell \u001b[0;32mIn[4], line 4\u001b[0m\n\u001b[1;32m      2\u001b[0m a\u001b[38;5;241m=\u001b[39m\u001b[38;5;28mint\u001b[39m(\u001b[38;5;28minput\u001b[39m(\u001b[38;5;124m\"\u001b[39m\u001b[38;5;124menter a number\u001b[39m\u001b[38;5;124m\"\u001b[39m))\n\u001b[1;32m      3\u001b[0m b\u001b[38;5;241m=\u001b[39m\u001b[38;5;28mint\u001b[39m(\u001b[38;5;28minput\u001b[39m(\u001b[38;5;124m\"\u001b[39m\u001b[38;5;124menter second number\u001b[39m\u001b[38;5;124m\"\u001b[39m))\n\u001b[0;32m----> 4\u001b[0m \u001b[38;5;28mprint\u001b[39m(\u001b[43ma\u001b[49m\u001b[38;5;241;43m/\u001b[39;49m\u001b[43mb\u001b[49m)\n",
      "\u001b[0;31mZeroDivisionError\u001b[0m: division by zero"
     ]
    }
   ],
   "source": [
    "# runtime error \n",
    "a=int(input(\"enter a number\"))\n",
    "b=int(input(\"enter second number\"))\n",
    "print(a/b)"
   ]
  },
  {
   "cell_type": "code",
   "execution_count": 10,
   "id": "fdd08f74-a1e9-45d7-b444-e46b117d4046",
   "metadata": {},
   "outputs": [
    {
     "name": "stdin",
     "output_type": "stream",
     "text": [
      "enter a number 9\n",
      "enter second number 0\n"
     ]
    },
    {
     "name": "stdout",
     "output_type": "stream",
     "text": [
      "print  something\n"
     ]
    }
   ],
   "source": [
    "try:\n",
    "    a=int(input(\"enter a number\"))\n",
    "    b=int(input(\"enter second number\"))\n",
    "    print(a/b)\n",
    "except :\n",
    "    pass\n",
    "print(\"print  something\")"
   ]
  },
  {
   "cell_type": "code",
   "execution_count": 11,
   "id": "d2ad1da5-366c-4cbd-b345-1f159685c48a",
   "metadata": {},
   "outputs": [],
   "source": [
    "# you're going to add any line of code inside the try block "
   ]
  },
  {
   "cell_type": "code",
   "execution_count": 14,
   "id": "2bbf94fe-acad-40e8-8afb-390239f9108e",
   "metadata": {},
   "outputs": [],
   "source": [
    "l=[1,2,3,4,45,66]\n",
    "l1=[]\n",
    "def even_parser(l):\n",
    "    for i in l:\n",
    "        if(i%2==0):\n",
    "            l1.append(i)\n",
    "    return l1"
   ]
  },
  {
   "cell_type": "code",
   "execution_count": 16,
   "id": "ff11ff66-7c5f-4722-b25d-342062703dda",
   "metadata": {},
   "outputs": [
    {
     "ename": "TypeError",
     "evalue": "'int' object is not iterable",
     "output_type": "error",
     "traceback": [
      "\u001b[0;31m---------------------------------------------------------------------------\u001b[0m",
      "\u001b[0;31mTypeError\u001b[0m                                 Traceback (most recent call last)",
      "Cell \u001b[0;32mIn[16], line 1\u001b[0m\n\u001b[0;32m----> 1\u001b[0m \u001b[43meven_parser\u001b[49m\u001b[43m(\u001b[49m\u001b[38;5;241;43m1\u001b[39;49m\u001b[43m)\u001b[49m\n",
      "Cell \u001b[0;32mIn[14], line 4\u001b[0m, in \u001b[0;36meven_parser\u001b[0;34m(l)\u001b[0m\n\u001b[1;32m      3\u001b[0m \u001b[38;5;28;01mdef\u001b[39;00m \u001b[38;5;21meven_parser\u001b[39m(l):\n\u001b[0;32m----> 4\u001b[0m     \u001b[38;5;28;01mfor\u001b[39;00m i \u001b[38;5;129;01min\u001b[39;00m l:\n\u001b[1;32m      5\u001b[0m         \u001b[38;5;28;01mif\u001b[39;00m(i\u001b[38;5;241m%\u001b[39m\u001b[38;5;241m2\u001b[39m\u001b[38;5;241m==\u001b[39m\u001b[38;5;241m0\u001b[39m):\n\u001b[1;32m      6\u001b[0m             l1\u001b[38;5;241m.\u001b[39mappend(i)\n",
      "\u001b[0;31mTypeError\u001b[0m: 'int' object is not iterable"
     ]
    }
   ],
   "source": [
    "even_parser(1)"
   ]
  },
  {
   "cell_type": "code",
   "execution_count": 22,
   "id": "82859f65-085c-4930-8770-35016e01bc60",
   "metadata": {},
   "outputs": [],
   "source": [
    "l=[1,2,3,4,45,66]\n",
    "l1=[]\n",
    "def even_parser(l):\n",
    "    try:\n",
    "        for i in l:\n",
    "            if(i%2==0):\n",
    "                l1.append(i)\n",
    "    except  Exception as e:\n",
    "        print(e)\n",
    "    return l1"
   ]
  },
  {
   "cell_type": "code",
   "execution_count": 25,
   "id": "ad15f620-8c3a-4b31-8b9c-85e067579aed",
   "metadata": {},
   "outputs": [
    {
     "name": "stdout",
     "output_type": "stream",
     "text": [
      "'int' object is not iterable\n",
      "print  something\n"
     ]
    }
   ],
   "source": [
    "even_parser(2)\n",
    "print(\"print  something\")"
   ]
  },
  {
   "cell_type": "code",
   "execution_count": 29,
   "id": "068de2e7-b3b5-4b58-9938-52db2bb52172",
   "metadata": {},
   "outputs": [
    {
     "name": "stdin",
     "output_type": "stream",
     "text": [
      "enter a 2\n",
      "enter b 0\n"
     ]
    },
    {
     "name": "stdout",
     "output_type": "stream",
     "text": [
      "division by zero\n"
     ]
    }
   ],
   "source": [
    "try:\n",
    "    a=int(input(\"enter a\"))\n",
    "    b=int(input(\"enter b\"))\n",
    "    c=a/b\n",
    "    print(c)\n",
    "except Exception as e:\n",
    "    print(e)"
   ]
  },
  {
   "cell_type": "code",
   "execution_count": 35,
   "id": "1db1efa4-1262-4e0a-84c0-4ef1fdc9ab33",
   "metadata": {},
   "outputs": [
    {
     "name": "stdin",
     "output_type": "stream",
     "text": [
      "enter a 2\n",
      "enter b l\n"
     ]
    },
    {
     "name": "stdout",
     "output_type": "stream",
     "text": [
      "invalid literal for int() with base 10: 'l'\n"
     ]
    }
   ],
   "source": [
    "try:\n",
    "    a=int(input(\"enter a\"))\n",
    "    b=int(input(\"enter b\"))\n",
    "    c=a/b\n",
    "    print(c)\n",
    "except TypeError as e:\n",
    "    print(t)\n",
    "except ZeroDivisionError as e:\n",
    "    print(e)\n",
    "except ValueError as e:\n",
    "    print(e)"
   ]
  },
  {
   "cell_type": "code",
   "execution_count": 41,
   "id": "6d3eebec-0ef8-4fff-8eed-adfced02e4be",
   "metadata": {},
   "outputs": [
    {
     "name": "stdout",
     "output_type": "stream",
     "text": [
      "division by zero\n",
      "invalid literal for int() with base 10: 'sudh'\n",
      "execute it irrespective of try \n"
     ]
    }
   ],
   "source": [
    "try:\n",
    "    x=5/0\n",
    "    print(x)\n",
    "except ZeroDivisionError as z:\n",
    "    print(z)\n",
    "    try:\n",
    "        y=int(\"sudh\")\n",
    "    except ValueError as v:\n",
    "        print(v)\n",
    "else:\n",
    "    print(\"it will be executed once try will executed without error \")\n",
    "finally:\n",
    "    print(\"execute it irrespective of try \")"
   ]
  },
  {
   "cell_type": "code",
   "execution_count": 47,
   "id": "3bf05cfc-637c-4f0b-adb1-716cf8006b26",
   "metadata": {},
   "outputs": [
    {
     "name": "stdout",
     "output_type": "stream",
     "text": [
      "this is a keyerror\n"
     ]
    }
   ],
   "source": [
    "try:\n",
    "    d={\"name\":\"sudh\",\"mobile_no\":234556,\"email_id\":\"sudh@gmail.com\"}\n",
    "    d[\"time\"]\n",
    "except Exception as e:\n",
    "    print(\"this is a keyerror\")"
   ]
  },
  {
   "cell_type": "code",
   "execution_count": 44,
   "id": "fa02c38a-93f4-481d-a638-d382834aceb5",
   "metadata": {},
   "outputs": [],
   "source": [
    "d[\"course\"]=\"pwskills\""
   ]
  },
  {
   "cell_type": "code",
   "execution_count": 45,
   "id": "fcb0fdf5-5d96-4fff-a0d8-e5369d57ad1e",
   "metadata": {},
   "outputs": [
    {
     "data": {
      "text/plain": [
       "{'name': 'sudh',\n",
       " 'mobile_no': 234556,\n",
       " 'email_id': 'sudh@gmail.com',\n",
       " 'course': 'pwskills'}"
      ]
     },
     "execution_count": 45,
     "metadata": {},
     "output_type": "execute_result"
    }
   ],
   "source": [
    "d"
   ]
  },
  {
   "cell_type": "code",
   "execution_count": 49,
   "id": "9f9cd758-5572-4241-87ec-3cb9b356fc92",
   "metadata": {},
   "outputs": [
    {
     "name": "stdout",
     "output_type": "stream",
     "text": [
      "list index out of range\n"
     ]
    }
   ],
   "source": [
    "l=[12,3,4,5,6]\n",
    "try:\n",
    "    l[10]\n",
    "except Exception as e:\n",
    "    print(e)"
   ]
  },
  {
   "cell_type": "code",
   "execution_count": 50,
   "id": "bcfd2af5-6cd4-4616-9f7c-09bbfb5c0da9",
   "metadata": {},
   "outputs": [
    {
     "name": "stdout",
     "output_type": "stream",
     "text": [
      "invalid literal for int() with base 10: 'sudh'\n"
     ]
    }
   ],
   "source": [
    "try:\n",
    "    a=\"sudh\"\n",
    "    b=int(a)\n",
    "except Exception as e:\n",
    "    print(e)"
   ]
  },
  {
   "cell_type": "code",
   "execution_count": 65,
   "id": "867ff9a0-485d-4ee6-a0d3-41b85e221ee5",
   "metadata": {},
   "outputs": [],
   "source": [
    "try:\n",
    "    file_name=\"test.txt\"\n",
    "    f=open(file_name)\n",
    "    f.read()\n",
    "except Exception as e:\n",
    "    print(e)\n"
   ]
  },
  {
   "cell_type": "code",
   "execution_count": 66,
   "id": "4d15475f-e0a0-4e11-ac3f-6bdff2b5205e",
   "metadata": {},
   "outputs": [
    {
     "name": "stdout",
     "output_type": "stream",
     "text": [
      " 10thSeptFunctions.ipynb              Day_4.ipynb\n",
      " 16SeptLiveClass.ipynb                Day_5_Dictionary.ipynb\n",
      " 17_SEPT_FUNCTION.ipynb               Day_5_Set.ipynb\n",
      " 19_Aug.ipynb                         Day_5_Tuple.ipynb\n",
      " 19th_Aug_Python_Basics.ipynb         Day_6.ipynb\n",
      "'20AUG_string (1).ipynb'              example.txt\n",
      " 20AUG_string.ipynb                   For_Loop_3rdSept.ipynb\n",
      " 20_Aug_TupleSolutions.ipynb          for_loopAssignment.ipynb\n",
      " 23Sept_liveclass.ipynb               Functions1.ipynb\n",
      " 24sept.ipynb                        'operators .ipynb'\n",
      " 2Sept.ipynb                          Python_Basic_Variable.ipynb\n",
      " 30septliveException_handling.ipynb   Python_variable2.ipynb\n",
      " 3rdSept_ControlFlow.ipynb            README.md\n",
      " 3rdsept.ipynb                        test.txt\n",
      " 3rdSept.ipynb                        Untitled1.ipynb\n",
      " 9septliveclass.ipynb                 Untitled2.ipynb\n",
      " Advance_Data_TypeDay2.ipynb          Untitled3.ipynb\n",
      " control_flow.ipynb                   Untitled4.ipynb\n",
      " Day_1.ipynb                         \u001b[0m\u001b[01;34m'Untitled Folder'\u001b[0m/\n",
      " Day_2_Control_Flow.ipynb            \u001b[01;34m'Untitled Folder 1'\u001b[0m/\n",
      " Day_2.ipynb                          Untitled.ipynb\n",
      " Day_3.ipynb\n"
     ]
    }
   ],
   "source": [
    "ls"
   ]
  },
  {
   "cell_type": "code",
   "execution_count": 67,
   "id": "fecbe616-5d1a-4ac5-b516-645e60d03061",
   "metadata": {},
   "outputs": [
    {
     "data": {
      "text/plain": [
       "'/home/jovyan/work'"
      ]
     },
     "execution_count": 67,
     "metadata": {},
     "output_type": "execute_result"
    }
   ],
   "source": [
    "pwd"
   ]
  },
  {
   "cell_type": "code",
   "execution_count": 69,
   "id": "9d69b890-ba60-4cc8-b055-4dae57b1713e",
   "metadata": {},
   "outputs": [
    {
     "data": {
      "text/plain": [
       "<_io.TextIOWrapper name='/home/jovyan/work/test.txt' mode='r' encoding='UTF-8'>"
      ]
     },
     "execution_count": 69,
     "metadata": {},
     "output_type": "execute_result"
    }
   ],
   "source": [
    "open('/home/jovyan/work/test.txt')"
   ]
  },
  {
   "cell_type": "code",
   "execution_count": 70,
   "id": "710e4e28-5fbb-4ab5-85a7-4f174a1b55e2",
   "metadata": {},
   "outputs": [
    {
     "name": "stdout",
     "output_type": "stream",
     "text": [
      "/home/jovyan\n"
     ]
    }
   ],
   "source": [
    "cd "
   ]
  },
  {
   "cell_type": "code",
   "execution_count": 71,
   "id": "77764e28-719d-4197-bef1-556d60a8f45a",
   "metadata": {},
   "outputs": [
    {
     "data": {
      "text/plain": [
       "'/home/jovyan'"
      ]
     },
     "execution_count": 71,
     "metadata": {},
     "output_type": "execute_result"
    }
   ],
   "source": [
    "pwd"
   ]
  },
  {
   "cell_type": "code",
   "execution_count": 72,
   "id": "ca1e8055-4bb1-4607-8a0b-f3f45c072e48",
   "metadata": {},
   "outputs": [
    {
     "name": "stdout",
     "output_type": "stream",
     "text": [
      "\u001b[0m\u001b[01;34mwork\u001b[0m/\n"
     ]
    }
   ],
   "source": [
    "ls"
   ]
  },
  {
   "cell_type": "code",
   "execution_count": 82,
   "id": "03d3b255-8bfa-4ebb-ae33-248c63801eac",
   "metadata": {},
   "outputs": [
    {
     "name": "stdin",
     "output_type": "stream",
     "text": [
      "enter the number 0\n"
     ]
    },
    {
     "name": "stdout",
     "output_type": "stream",
     "text": [
      "division by zero is not possible\n"
     ]
    }
   ],
   "source": [
    "try:\n",
    "    n=int(input(\"enter the number\"))\n",
    "    div=345/n\n",
    "    print(div)\n",
    "except ValueError:\n",
    "    print(\"user has entered invalid input\")\n",
    "except ZeroDivisionError:\n",
    "    print(\"division by zero is not possible\")\n",
    "\n"
   ]
  },
  {
   "cell_type": "code",
   "execution_count": 84,
   "id": "86fd5773-3736-4bd2-9293-9c14473be2b0",
   "metadata": {},
   "outputs": [
    {
     "name": "stdin",
     "output_type": "stream",
     "text": [
      "enter the number 0\n"
     ]
    },
    {
     "name": "stdout",
     "output_type": "stream",
     "text": [
      "entered invalid input or may be zero\n"
     ]
    }
   ],
   "source": [
    "try:\n",
    "    n=int(input(\"enter the number\"))\n",
    "    div=345/n\n",
    "    print(div)\n",
    "except (ZeroDivisionError,ValueError):\n",
    "    print(\"entered invalid input or may be zero\")"
   ]
  },
  {
   "cell_type": "code",
   "execution_count": 86,
   "id": "eb0c86cd-7f3c-40a0-83f1-924699ceef45",
   "metadata": {},
   "outputs": [
    {
     "name": "stdin",
     "output_type": "stream",
     "text": [
      "enter the number sudh\n"
     ]
    },
    {
     "name": "stdout",
     "output_type": "stream",
     "text": [
      "user has entered invalid input\n"
     ]
    }
   ],
   "source": [
    "try:\n",
    "    try:\n",
    "        n=int(input(\"enter the number\"))\n",
    "        div=345/n\n",
    "        print(div)\n",
    "    except ZeroDivisionError:\n",
    "        print(\"user has entered zero\")\n",
    "except ValueError:\n",
    "    print(\"user has entered invalid input\")"
   ]
  },
  {
   "cell_type": "code",
   "execution_count": 92,
   "id": "a121100d-a5ce-41e0-9b47-dd118891a1c6",
   "metadata": {},
   "outputs": [
    {
     "name": "stdin",
     "output_type": "stream",
     "text": [
      "enter the number 0\n"
     ]
    },
    {
     "name": "stdout",
     "output_type": "stream",
     "text": [
      "invalid input\n"
     ]
    }
   ],
   "source": [
    "try:\n",
    "    n=int(input(\"enter the number\"))\n",
    "    div=345/n\n",
    "    print(div)\n",
    "except Exception:\n",
    "    print(\"invalid input\")\n",
    "else:\n",
    "    print(div)"
   ]
  },
  {
   "cell_type": "code",
   "execution_count": 15,
   "id": "01299ee1-d60f-47c3-877a-8af83506e9d4",
   "metadata": {},
   "outputs": [
    {
     "name": "stdin",
     "output_type": "stream",
     "text": [
      "enter first number 3\n",
      "enter second number 3\n"
     ]
    },
    {
     "name": "stdout",
     "output_type": "stream",
     "text": [
      "1.0\n",
      "it will  works after only susess of try\n",
      "it will wrok always  \n"
     ]
    }
   ],
   "source": [
    "try:\n",
    "    a=int(input(\"enter first number\"))\n",
    "    b=int(input(\"enter second number\"))\n",
    "    c=a/b\n",
    "    print(c)\n",
    "except Exception as e :\n",
    "    print(e)\n",
    "else:\n",
    "    print(\"it will  works after only susess of try\")\n",
    "finally:\n",
    "    print(\"it will wrok always  \")"
   ]
  },
  {
   "cell_type": "code",
   "execution_count": 8,
   "id": "1af292b1-2d07-4362-a72c-893c13cd82e7",
   "metadata": {},
   "outputs": [
    {
     "data": {
      "text/plain": [
       "'/home/jovyan/work'"
      ]
     },
     "execution_count": 8,
     "metadata": {},
     "output_type": "execute_result"
    }
   ],
   "source": [
    "pwd"
   ]
  },
  {
   "cell_type": "code",
   "execution_count": 11,
   "id": "b6db84a5-15f8-452a-97c4-1334d9723bf6",
   "metadata": {},
   "outputs": [
    {
     "data": {
      "text/plain": [
       "'hshdf\\nsdfndf\\ndhhfsf\\nfdshshd \\nhsdfajss\\nfssfssd\\n'"
      ]
     },
     "execution_count": 11,
     "metadata": {},
     "output_type": "execute_result"
    }
   ],
   "source": [
    "f=open(\"/home/jovyan/work/pro/test.txt\")\n",
    "f.read()"
   ]
  },
  {
   "cell_type": "code",
   "execution_count": 16,
   "id": "53d20b91-cfcb-4b8f-a641-1094c6686e83",
   "metadata": {},
   "outputs": [
    {
     "data": {
      "text/plain": [
       "'hshdf\\nsdfndf\\ndhhfsf\\nfdshshd \\nhsdfajss\\nfssfssd\\n'"
      ]
     },
     "execution_count": 16,
     "metadata": {},
     "output_type": "execute_result"
    }
   ],
   "source": [
    "x=open(\"/home/jovyan/work/pro/test.txt\")\n",
    "x.read()\n"
   ]
  },
  {
   "cell_type": "code",
   "execution_count": 17,
   "id": "4e5e504c-d2f7-4056-a162-302a26ae94d7",
   "metadata": {},
   "outputs": [
    {
     "data": {
      "text/plain": [
       "<_io.TextIOWrapper name='/home/jovyan/work/pro/test.txt' mode='r' encoding='UTF-8'>"
      ]
     },
     "execution_count": 17,
     "metadata": {},
     "output_type": "execute_result"
    }
   ],
   "source": [
    "x"
   ]
  },
  {
   "cell_type": "code",
   "execution_count": 3,
   "id": "9c9b8f6e-4f6c-489b-8236-ba04913bb5cc",
   "metadata": {},
   "outputs": [
    {
     "name": "stdout",
     "output_type": "stream",
     "text": [
      "TextIOWrapper.write() takes exactly one argument (0 given)\n",
      "name 'data' is not defined\n",
      "is is working\n"
     ]
    }
   ],
   "source": [
    "try:\n",
    "    f=open(\"/home/jovyan/work/pro/test.txt\")\n",
    "    data=f.write()\n",
    "except Exception  as e:\n",
    "    print(e)\n",
    "else:\n",
    "    print(\"working\" )\n",
    "finally:\n",
    "    try:\n",
    "        print(data)\n",
    "    except Exception as e:\n",
    "        print(e)\n",
    "    finally:\n",
    "        f.close()\n",
    "    print(\"is is working\")\n",
    "\n",
    "      "
   ]
  },
  {
   "cell_type": "code",
   "execution_count": 8,
   "id": "7ca4eba9-2f41-4d05-9b6e-2f7d217bf877",
   "metadata": {},
   "outputs": [
    {
     "name": "stdin",
     "output_type": "stream",
     "text": [
      "enter the height of the wall -23\n"
     ]
    },
    {
     "name": "stdout",
     "output_type": "stream",
     "text": [
      "-23\n",
      "entered height is negative\n"
     ]
    }
   ],
   "source": [
    "##custom exception handling\n",
    "try:\n",
    "    a=int(input(\"enter the height of the wall\"))\n",
    "    print(a)\n",
    "    if(a<0):\n",
    "        raise ValueError(\"entered height is negative\")\n",
    "except ValueError as v:\n",
    "    print(v)\n",
    "    "
   ]
  },
  {
   "cell_type": "code",
   "execution_count": 2,
   "id": "945c6c55-125a-455c-9acf-418d83de1939",
   "metadata": {},
   "outputs": [
    {
     "name": "stdin",
     "output_type": "stream",
     "text": [
      "enter the age -9\n"
     ]
    },
    {
     "name": "stdout",
     "output_type": "stream",
     "text": [
      "user entered wrong age\n"
     ]
    }
   ],
   "source": [
    "try:\n",
    "    age=int(input(\"enter the age\"))\n",
    "    if(age<0):\n",
    "        raise ValueError(\"user entered wrong age\")\n",
    "    elif(age<18):\n",
    "        raise Exception(\"under age \")\n",
    "    else:\n",
    "        print(f\"{age}\")\n",
    "except Exception as e:\n",
    "    print(e)\n",
    "        "
   ]
  },
  {
   "cell_type": "markdown",
   "id": "28d7f1e6-db5b-48ba-a844-d57f8baba59f",
   "metadata": {},
   "source": [
    "# logging \n"
   ]
  },
  {
   "cell_type": "code",
   "execution_count": 6,
   "id": "1d6136fa-5ac9-4c22-abe9-b39dba1d5dd3",
   "metadata": {},
   "outputs": [],
   "source": [
    "## we're storing the messages in some file system\n",
    "## in production you're not advsable to use the print statement for a single time in the code \n",
    "## so that we can go though messages whenever there is any issue.\n"
   ]
  },
  {
   "cell_type": "code",
   "execution_count": 7,
   "id": "ec679a85-553d-4e7c-b0db-a96752d83832",
   "metadata": {},
   "outputs": [],
   "source": [
    "import logging as lg"
   ]
  },
  {
   "cell_type": "code",
   "execution_count": 8,
   "id": "3ce09032-c7b6-444c-8256-52f58db5c15f",
   "metadata": {},
   "outputs": [],
   "source": [
    "lg.basicConfig(filename=\"test.log\",level=lg.INFO)"
   ]
  },
  {
   "cell_type": "code",
   "execution_count": 9,
   "id": "a62c0917-75d4-4550-a5dd-19a7b25e259b",
   "metadata": {},
   "outputs": [
    {
     "data": {
      "text/plain": [
       "'/home/jovyan/work'"
      ]
     },
     "execution_count": 9,
     "metadata": {},
     "output_type": "execute_result"
    }
   ],
   "source": [
    "pwd"
   ]
  },
  {
   "cell_type": "code",
   "execution_count": 11,
   "id": "54223dcc-9788-4351-ac86-5f212530884f",
   "metadata": {},
   "outputs": [],
   "source": [
    "lg.info(\"message has been stored\")"
   ]
  },
  {
   "cell_type": "code",
   "execution_count": 13,
   "id": "f932757f-de03-4e4c-abae-b4ecc3ed2236",
   "metadata": {},
   "outputs": [],
   "source": [
    "lg.debug(\"this is the debug messgae\")"
   ]
  },
  {
   "cell_type": "code",
   "execution_count": 14,
   "id": "49881d5d-6877-4c4f-8bf8-cb217c343550",
   "metadata": {},
   "outputs": [],
   "source": [
    "lg.warning(\"this is my warning message\")"
   ]
  },
  {
   "cell_type": "code",
   "execution_count": 15,
   "id": "c4c943d0-b433-4b10-a22a-c6395d25dc83",
   "metadata": {},
   "outputs": [],
   "source": [
    "lg.error(\"this is the error message\")"
   ]
  },
  {
   "cell_type": "code",
   "execution_count": 16,
   "id": "c535cb72-5bc6-4730-951c-44f0096c498a",
   "metadata": {},
   "outputs": [],
   "source": [
    "lg.critical(\"this is critical message\")"
   ]
  },
  {
   "cell_type": "code",
   "execution_count": 1,
   "id": "aed05301-2673-467f-9fc0-f3b54f59a816",
   "metadata": {},
   "outputs": [],
   "source": [
    "import logging\n",
    "logging.basicConfig(filename=\"testreport.log\",level=logging.DEBUG,format=\"%(levelname)s-%(asctime)s-%(message)s\")\n"
   ]
  },
  {
   "cell_type": "code",
   "execution_count": 2,
   "id": "8b4e924d-5fc7-48c6-9673-dcc2104a429c",
   "metadata": {},
   "outputs": [
    {
     "name": "stdin",
     "output_type": "stream",
     "text": [
      "ennter age -99\n"
     ]
    }
   ],
   "source": [
    "try:\n",
    "    age=int(input(\"ennter age\"))\n",
    "    logging.info(\"program as been started\")\n",
    "    logging.info(\"user has entered =%d\",age)\n",
    "    if(age<0):\n",
    "        logging.info(\"user entered a age lesser than 0\")\n",
    "        raise Exception(\"value lesser than 0\")\n",
    "    elif(age<18):\n",
    "        logging.info(\"user is under age\")\n",
    "        raise Exception(\"user is underage\")\n",
    "    else:\n",
    "        logging.info(\"valid user!!\")\n",
    "except Exception as e:\n",
    "    logging.error(e)\n",
    "\n",
    "else:\n",
    "    logging.info(\"it's just execute after successfully excecution of try block\")\n",
    "finally:\n",
    "    logging.info(\"finally executed always\")"
   ]
  },
  {
   "cell_type": "code",
   "execution_count": 1,
   "id": "22040abb-d95b-4c39-b250-cbf49c6e83d1",
   "metadata": {},
   "outputs": [],
   "source": [
    "import logging \n",
    "logging.basicConfig(filename=\"evenparsorreport.log\",level=logging.DEBUG,format=\"%(levelname)s-%(asctime)s-%(message)s\")\n"
   ]
  },
  {
   "cell_type": "code",
   "execution_count": 2,
   "id": "324870f0-44b9-47ec-95db-0d8d426aa6de",
   "metadata": {},
   "outputs": [],
   "source": [
    "\n",
    "l=[12,34,56,7,23]\n",
    "l1=[]\n",
    "def even_parsor(l):\n",
    "    logging.info(\"program has been started\")\n",
    "    try:\n",
    "        for i in l:\n",
    "            logging.info(\"inside for loop and i=%d\",i)\n",
    "            if(i%2==0):\n",
    "                logging.info(\"checking the value of i\")\n",
    "                l1.append(i)\n",
    "                logging.info(\"appending the value i in list\")\n",
    "        logging.info(l1)\n",
    "        return l1\n",
    "        \n",
    "    \n",
    "    except Exception as e:\n",
    "        logging.error(e)\n",
    "    \n",
    "    finally:\n",
    "        logging.info(\"final block is executed\")\n",
    "        "
   ]
  },
  {
   "cell_type": "code",
   "execution_count": 3,
   "id": "10da381e-0e8a-4d84-a9d4-6fd108e8a5aa",
   "metadata": {},
   "outputs": [
    {
     "data": {
      "text/plain": [
       "[12, 34, 56]"
      ]
     },
     "execution_count": 3,
     "metadata": {},
     "output_type": "execute_result"
    }
   ],
   "source": [
    "even_parsor(l)"
   ]
  },
  {
   "cell_type": "code",
   "execution_count": null,
   "id": "2625b7c4-0046-471f-9924-311d014f5df8",
   "metadata": {},
   "outputs": [],
   "source": []
  }
 ],
 "metadata": {
  "kernelspec": {
   "display_name": "Python 3 (ipykernel)",
   "language": "python",
   "name": "python3"
  },
  "language_info": {
   "codemirror_mode": {
    "name": "ipython",
    "version": 3
   },
   "file_extension": ".py",
   "mimetype": "text/x-python",
   "name": "python",
   "nbconvert_exporter": "python",
   "pygments_lexer": "ipython3",
   "version": "3.10.8"
  }
 },
 "nbformat": 4,
 "nbformat_minor": 5
}
