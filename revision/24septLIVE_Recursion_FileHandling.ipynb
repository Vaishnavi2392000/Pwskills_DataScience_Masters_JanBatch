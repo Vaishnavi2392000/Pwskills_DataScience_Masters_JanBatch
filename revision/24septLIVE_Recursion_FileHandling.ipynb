{
 "cells": [
  {
   "cell_type": "code",
   "execution_count": 1,
   "id": "d8b4f402-5776-4afd-8b56-45590188c610",
   "metadata": {},
   "outputs": [
    {
     "data": {
      "text/plain": [
       "8"
      ]
     },
     "execution_count": 1,
     "metadata": {},
     "output_type": "execute_result"
    }
   ],
   "source": [
    "s=\"pwskills\"\n",
    "len(s)"
   ]
  },
  {
   "cell_type": "code",
   "execution_count": 57,
   "id": "52625853-a055-4aac-b326-1af9e2468ab1",
   "metadata": {},
   "outputs": [],
   "source": [
    "# find the length of the string using recursion\n",
    "def find_length(s):\n",
    "    if(s==''):\n",
    "        return 0\n",
    "    else:\n",
    "        return 1+find_length(s[1:])\n",
    "        "
   ]
  },
  {
   "cell_type": "code",
   "execution_count": 9,
   "id": "0816ba21-eb5e-4a7f-ae40-bb2c229d1ea1",
   "metadata": {},
   "outputs": [
    {
     "data": {
      "text/plain": [
       "8"
      ]
     },
     "execution_count": 9,
     "metadata": {},
     "output_type": "execute_result"
    }
   ],
   "source": [
    "find_length(s)"
   ]
  },
  {
   "cell_type": "code",
   "execution_count": 10,
   "id": "cb374817-d0f9-48f8-a3a5-9cd9c52f0b41",
   "metadata": {},
   "outputs": [
    {
     "data": {
      "text/plain": [
       "'pwskills'"
      ]
     },
     "execution_count": 10,
     "metadata": {},
     "output_type": "execute_result"
    }
   ],
   "source": [
    "s"
   ]
  },
  {
   "cell_type": "code",
   "execution_count": 58,
   "id": "d07cc094-8ffa-45b9-8c77-6d25624abbb5",
   "metadata": {},
   "outputs": [],
   "source": [
    "# reverse the string using recursion\n",
    "def reverse_string(s):\n",
    "    if(s==''):\n",
    "        return \"\"\n",
    "    else:\n",
    "        return reverse_string(s[1::])+s[0]"
   ]
  },
  {
   "cell_type": "code",
   "execution_count": 28,
   "id": "6f28a7bc-5e32-410b-82df-765c47a3342c",
   "metadata": {},
   "outputs": [
    {
     "data": {
      "text/plain": [
       "'sllikswp'"
      ]
     },
     "execution_count": 28,
     "metadata": {},
     "output_type": "execute_result"
    }
   ],
   "source": [
    "reverse_string(s)"
   ]
  },
  {
   "cell_type": "code",
   "execution_count": 35,
   "id": "506410e5-dc7a-4ebf-9f7b-f1647cadebf1",
   "metadata": {},
   "outputs": [],
   "source": [
    "def reverse_string1(s):\n",
    "    if(s==''):\n",
    "        return \"\"\n",
    "    else:\n",
    "        return s[-1]+reverse_string1(s[0:-1])"
   ]
  },
  {
   "cell_type": "code",
   "execution_count": 36,
   "id": "6cfed556-db25-43d3-a3ff-065692458308",
   "metadata": {},
   "outputs": [
    {
     "data": {
      "text/plain": [
       "'sllikswp'"
      ]
     },
     "execution_count": 36,
     "metadata": {},
     "output_type": "execute_result"
    }
   ],
   "source": [
    "reverse_string1(s)"
   ]
  },
  {
   "cell_type": "code",
   "execution_count": 40,
   "id": "174de8c0-cd9f-4388-8dad-64d5a3aa6403",
   "metadata": {},
   "outputs": [],
   "source": [
    "# find the character count using recursion\n",
    "s=\"sudhanshu\"\n",
    "def character_find(s,c):\n",
    "    if(s==''):\n",
    "        return 0\n",
    "    elif(s[0]==c):\n",
    "        return 1+character_find(s[1:],c)\n",
    "    else:\n",
    "        return character_find(s[1:],c)\n",
    "    "
   ]
  },
  {
   "cell_type": "code",
   "execution_count": 41,
   "id": "765aaf41-9853-42cf-aced-413025600a34",
   "metadata": {},
   "outputs": [
    {
     "data": {
      "text/plain": [
       "2"
      ]
     },
     "execution_count": 41,
     "metadata": {},
     "output_type": "execute_result"
    }
   ],
   "source": [
    "character_find(s,\"s\")"
   ]
  },
  {
   "cell_type": "code",
   "execution_count": 44,
   "id": "ddf72578-ee95-44eb-b834-c723c167146e",
   "metadata": {},
   "outputs": [],
   "source": [
    "## check if list is sorted or not using recursion\n",
    "l=[4,5,6]\n",
    "def is_list_sorted(l):\n",
    "    if(len(l)<=1):\n",
    "        return True\n",
    "    elif(l[0]>l[1]):\n",
    "        return False\n",
    "    else:\n",
    "        return is_list_sorted(l[1:])\n",
    "        "
   ]
  },
  {
   "cell_type": "code",
   "execution_count": 45,
   "id": "927a84d8-77a7-4baa-8077-e10f51db9e38",
   "metadata": {},
   "outputs": [
    {
     "data": {
      "text/plain": [
       "True"
      ]
     },
     "execution_count": 45,
     "metadata": {},
     "output_type": "execute_result"
    }
   ],
   "source": [
    "is_list_sorted(l)"
   ]
  },
  {
   "cell_type": "code",
   "execution_count": 59,
   "id": "02f2b1dd-08e6-400b-96a1-a517f76c20e6",
   "metadata": {},
   "outputs": [],
   "source": [
    "## check if number is perfect square or not using recursion\n",
    "def check_perfect_square(number,start=1):\n",
    "    if(number==start**2):\n",
    "        return True\n",
    "    elif(number<start**2):\n",
    "        return False\n",
    "    else:\n",
    "        return check_perfect_square(number,start+1)"
   ]
  },
  {
   "cell_type": "code",
   "execution_count": 60,
   "id": "7b611783-edf0-4f39-b5a2-79717a4b1f0c",
   "metadata": {},
   "outputs": [
    {
     "data": {
      "text/plain": [
       "True"
      ]
     },
     "execution_count": 60,
     "metadata": {},
     "output_type": "execute_result"
    }
   ],
   "source": [
    "check_perfect_square(625)"
   ]
  },
  {
   "cell_type": "code",
   "execution_count": 61,
   "id": "b441a0a7-65b7-44ed-b771-72379b92ab62",
   "metadata": {},
   "outputs": [
    {
     "data": {
      "text/plain": [
       "False"
      ]
     },
     "execution_count": 61,
     "metadata": {},
     "output_type": "execute_result"
    }
   ],
   "source": [
    "check_perfect_square(6)"
   ]
  },
  {
   "cell_type": "markdown",
   "id": "f034dc0d-50d7-4792-aed5-dff3e5250f2c",
   "metadata": {},
   "source": [
    "### iterator, iterable, generators"
   ]
  },
  {
   "cell_type": "markdown",
   "id": "288dc429-5927-4c85-9909-a92324b44e5a",
   "metadata": {},
   "source": [
    "#### 1. the object to be iterator for first thing it must be a  iterable\n",
    "#### 2. iterable can be converted into intertor() object.\n",
    "#### 3. for loop internally convert iterable into iterator object.\n",
    "#### 4. list, string ,tuple,set,dictionary are iterable and int,bool is not interable"
   ]
  },
  {
   "cell_type": "code",
   "execution_count": 82,
   "id": "d8ac11a7-f53f-49fd-95f9-cdfad3287337",
   "metadata": {},
   "outputs": [],
   "source": [
    "l=[1,4,2,5,6]\n",
    "s=iter(l)"
   ]
  },
  {
   "cell_type": "code",
   "execution_count": 83,
   "id": "8478c16f-da61-4b0e-aa7c-1d8e04c88593",
   "metadata": {},
   "outputs": [
    {
     "data": {
      "text/plain": [
       "1"
      ]
     },
     "execution_count": 83,
     "metadata": {},
     "output_type": "execute_result"
    }
   ],
   "source": [
    "next(s)"
   ]
  },
  {
   "cell_type": "code",
   "execution_count": 84,
   "id": "d94786a6-89ad-465e-b003-24f555b043fb",
   "metadata": {},
   "outputs": [
    {
     "ename": "TypeError",
     "evalue": "'int' object is not iterable",
     "output_type": "error",
     "traceback": [
      "\u001b[0;31m---------------------------------------------------------------------------\u001b[0m",
      "\u001b[0;31mTypeError\u001b[0m                                 Traceback (most recent call last)",
      "Cell \u001b[0;32mIn[84], line 1\u001b[0m\n\u001b[0;32m----> 1\u001b[0m \u001b[38;5;28;01mfor\u001b[39;00m i \u001b[38;5;129;01min\u001b[39;00m \u001b[38;5;241m2345\u001b[39m:\n\u001b[1;32m      2\u001b[0m     \u001b[38;5;28mprint\u001b[39m(i)\n",
      "\u001b[0;31mTypeError\u001b[0m: 'int' object is not iterable"
     ]
    }
   ],
   "source": [
    "for i in 2345:\n",
    "    print(i)"
   ]
  },
  {
   "cell_type": "code",
   "execution_count": 85,
   "id": "3da47507-a0f9-4388-b8da-3d88ccf8d6a0",
   "metadata": {},
   "outputs": [
    {
     "name": "stdout",
     "output_type": "stream",
     "text": [
      "56\n",
      "4\n",
      "78\n",
      "23\n"
     ]
    }
   ],
   "source": [
    "for i in {23,4,56,56,78}:\n",
    "    print(i)"
   ]
  },
  {
   "cell_type": "code",
   "execution_count": 86,
   "id": "19c69c12-37cf-4f2d-868a-17c86805e452",
   "metadata": {},
   "outputs": [],
   "source": [
    "s=iter({2,3,4,32,2})"
   ]
  },
  {
   "cell_type": "code",
   "execution_count": 79,
   "id": "86f2cf1f-e17d-4b27-bcdd-964a5e39acfa",
   "metadata": {},
   "outputs": [
    {
     "data": {
      "text/plain": [
       "32"
      ]
     },
     "execution_count": 79,
     "metadata": {},
     "output_type": "execute_result"
    }
   ],
   "source": [
    "next(s)"
   ]
  },
  {
   "cell_type": "code",
   "execution_count": 87,
   "id": "0a1167ed-0e86-4d2e-820c-65f72fc27573",
   "metadata": {},
   "outputs": [
    {
     "name": "stdout",
     "output_type": "stream",
     "text": [
      "1\n",
      "2\n",
      "3\n",
      "4\n"
     ]
    }
   ],
   "source": [
    "for i in (1,2,3,4):\n",
    "    print(i)"
   ]
  },
  {
   "cell_type": "code",
   "execution_count": 88,
   "id": "17169d81-0f96-4654-912c-21db5b011778",
   "metadata": {},
   "outputs": [
    {
     "ename": "TypeError",
     "evalue": "'type' object is not iterable",
     "output_type": "error",
     "traceback": [
      "\u001b[0;31m---------------------------------------------------------------------------\u001b[0m",
      "\u001b[0;31mTypeError\u001b[0m                                 Traceback (most recent call last)",
      "Cell \u001b[0;32mIn[88], line 1\u001b[0m\n\u001b[0;32m----> 1\u001b[0m \u001b[38;5;28;43miter\u001b[39;49m\u001b[43m(\u001b[49m\u001b[38;5;28;43mbool\u001b[39;49m\u001b[43m)\u001b[49m\n",
      "\u001b[0;31mTypeError\u001b[0m: 'type' object is not iterable"
     ]
    }
   ],
   "source": [
    "iter(bool)"
   ]
  },
  {
   "cell_type": "code",
   "execution_count": 94,
   "id": "b0a8810a-5390-4364-a26b-ad35d28038c1",
   "metadata": {},
   "outputs": [],
   "source": [
    "s=iter({\"name\":\"pooja\"})"
   ]
  },
  {
   "cell_type": "code",
   "execution_count": 95,
   "id": "41097eed-2dbb-4126-83ba-71e0e4ab5322",
   "metadata": {},
   "outputs": [
    {
     "data": {
      "text/plain": [
       "'name'"
      ]
     },
     "execution_count": 95,
     "metadata": {},
     "output_type": "execute_result"
    }
   ],
   "source": [
    "next(s)"
   ]
  },
  {
   "cell_type": "code",
   "execution_count": 96,
   "id": "387b8d00-e930-4020-b2f5-99e722b1f850",
   "metadata": {},
   "outputs": [
    {
     "data": {
      "text/plain": [
       "[0, 1, 2, 3, 4]"
      ]
     },
     "execution_count": 96,
     "metadata": {},
     "output_type": "execute_result"
    }
   ],
   "source": [
    "list(range(0,5))"
   ]
  },
  {
   "cell_type": "code",
   "execution_count": 99,
   "id": "b3c1ebeb-0b55-45db-8982-7a3929161132",
   "metadata": {},
   "outputs": [],
   "source": [
    "s=iter(range(0,4))"
   ]
  },
  {
   "cell_type": "code",
   "execution_count": 100,
   "id": "79df29a9-fc2e-45da-a6c5-8777e1eeb710",
   "metadata": {},
   "outputs": [
    {
     "data": {
      "text/plain": [
       "0"
      ]
     },
     "execution_count": 100,
     "metadata": {},
     "output_type": "execute_result"
    }
   ],
   "source": [
    "next(s)"
   ]
  },
  {
   "cell_type": "code",
   "execution_count": 101,
   "id": "d09c4185-9b95-4862-b662-32231eedc372",
   "metadata": {},
   "outputs": [
    {
     "data": {
      "text/plain": [
       "1"
      ]
     },
     "execution_count": 101,
     "metadata": {},
     "output_type": "execute_result"
    }
   ],
   "source": [
    "next(s)"
   ]
  },
  {
   "cell_type": "code",
   "execution_count": 102,
   "id": "1960c712-80bf-4cf0-b551-0c24a24731b2",
   "metadata": {},
   "outputs": [
    {
     "data": {
      "text/plain": [
       "2"
      ]
     },
     "execution_count": 102,
     "metadata": {},
     "output_type": "execute_result"
    }
   ],
   "source": [
    "next(s)"
   ]
  },
  {
   "cell_type": "code",
   "execution_count": 103,
   "id": "7dddaba4-52c6-4b57-9356-fc2515280267",
   "metadata": {},
   "outputs": [
    {
     "data": {
      "text/plain": [
       "3"
      ]
     },
     "execution_count": 103,
     "metadata": {},
     "output_type": "execute_result"
    }
   ],
   "source": [
    "next(s)"
   ]
  },
  {
   "cell_type": "code",
   "execution_count": 104,
   "id": "d403c403-f709-40e7-b566-45072beff040",
   "metadata": {},
   "outputs": [
    {
     "ename": "StopIteration",
     "evalue": "",
     "output_type": "error",
     "traceback": [
      "\u001b[0;31m---------------------------------------------------------------------------\u001b[0m",
      "\u001b[0;31mStopIteration\u001b[0m                             Traceback (most recent call last)",
      "Cell \u001b[0;32mIn[104], line 1\u001b[0m\n\u001b[0;32m----> 1\u001b[0m \u001b[38;5;28;43mnext\u001b[39;49m\u001b[43m(\u001b[49m\u001b[43ms\u001b[49m\u001b[43m)\u001b[49m\n",
      "\u001b[0;31mStopIteration\u001b[0m: "
     ]
    }
   ],
   "source": [
    "next(s)"
   ]
  },
  {
   "cell_type": "code",
   "execution_count": 106,
   "id": "840ec917-1b86-4eb3-ad9d-550b81a0aabc",
   "metadata": {},
   "outputs": [],
   "source": [
    "s=range(1,5)"
   ]
  },
  {
   "cell_type": "code",
   "execution_count": 108,
   "id": "cbf16847-df17-4107-a012-7fb3e1d07fd7",
   "metadata": {},
   "outputs": [],
   "source": [
    "def count_fun(n):\n",
    "    i=1\n",
    "    while(i<=n):\n",
    "        yield(i)\n",
    "        i+=1"
   ]
  },
  {
   "cell_type": "code",
   "execution_count": 110,
   "id": "e95b3eb1-416f-4293-80da-79b6cec79d67",
   "metadata": {},
   "outputs": [
    {
     "data": {
      "text/plain": [
       "[1, 2, 3, 4, 5, 6, 7, 8, 9]"
      ]
     },
     "execution_count": 110,
     "metadata": {},
     "output_type": "execute_result"
    }
   ],
   "source": [
    "list(count_fun(9))"
   ]
  },
  {
   "cell_type": "code",
   "execution_count": 117,
   "id": "335b66b9-6875-4f33-9cdd-1cf6dcd3e11c",
   "metadata": {},
   "outputs": [],
   "source": [
    "s=iter(count_fun(7))"
   ]
  },
  {
   "cell_type": "code",
   "execution_count": 118,
   "id": "ae6ac218-c1f1-43dd-abcf-f447798fe71c",
   "metadata": {},
   "outputs": [
    {
     "data": {
      "text/plain": [
       "1"
      ]
     },
     "execution_count": 118,
     "metadata": {},
     "output_type": "execute_result"
    }
   ],
   "source": [
    "next(s)"
   ]
  },
  {
   "cell_type": "code",
   "execution_count": 119,
   "id": "dc212640-eeee-44f9-b496-a2576ab3d729",
   "metadata": {},
   "outputs": [
    {
     "data": {
      "text/plain": [
       "<generator object count_fun at 0x7f9b7a5136f0>"
      ]
     },
     "execution_count": 119,
     "metadata": {},
     "output_type": "execute_result"
    }
   ],
   "source": [
    "count_fun(5)"
   ]
  },
  {
   "cell_type": "code",
   "execution_count": 120,
   "id": "e50905de-901f-491d-9d92-c1255cbb3a81",
   "metadata": {},
   "outputs": [],
   "source": [
    "def count_fun(n):\n",
    "    i=1\n",
    "    while(i<=n):\n",
    "        return(i)\n",
    "        i+=1"
   ]
  },
  {
   "cell_type": "code",
   "execution_count": 121,
   "id": "77424855-f2a2-471f-8e54-f44df06cdfce",
   "metadata": {},
   "outputs": [
    {
     "data": {
      "text/plain": [
       "1"
      ]
     },
     "execution_count": 121,
     "metadata": {},
     "output_type": "execute_result"
    }
   ],
   "source": [
    "count_fun(6)"
   ]
  },
  {
   "cell_type": "code",
   "execution_count": 122,
   "id": "bb3d1264-7dd5-4890-8689-d9bac8f934c6",
   "metadata": {},
   "outputs": [],
   "source": [
    "def fibonacci(n):\n",
    "    a,b=0,1\n",
    "    for i in range(n):\n",
    "        yield a\n",
    "        a,b=b,a+b\n",
    "        "
   ]
  },
  {
   "cell_type": "code",
   "execution_count": 126,
   "id": "3acae396-58d0-482d-a184-df011e13f248",
   "metadata": {},
   "outputs": [],
   "source": [
    "s=iter(fibonacci(4))"
   ]
  },
  {
   "cell_type": "code",
   "execution_count": 127,
   "id": "cc510df8-ad5c-43ac-82be-99f59af48e7a",
   "metadata": {},
   "outputs": [
    {
     "data": {
      "text/plain": [
       "0"
      ]
     },
     "execution_count": 127,
     "metadata": {},
     "output_type": "execute_result"
    }
   ],
   "source": [
    "next(s)"
   ]
  },
  {
   "cell_type": "code",
   "execution_count": 128,
   "id": "5f853b47-1ead-4ad6-87eb-866a43aa56b9",
   "metadata": {},
   "outputs": [],
   "source": [
    "## read example.txt and give sentence line by line"
   ]
  },
  {
   "cell_type": "code",
   "execution_count": 129,
   "id": "12888c72-3809-46bf-af19-328ee0bee2fb",
   "metadata": {},
   "outputs": [
    {
     "name": "stdout",
     "output_type": "stream",
     "text": [
      " 10thSeptFunctions.ipynb        Day_3.ipynb\n",
      " 16SeptLiveClass.ipynb          Day_4.ipynb\n",
      " 17_SEPT_FUNCTION.ipynb         Day_5_Dictionary.ipynb\n",
      " 19_Aug.ipynb                   Day_5_Set.ipynb\n",
      " 19th_Aug_Python_Basics.ipynb   Day_5_Tuple.ipynb\n",
      "'20AUG_string (1).ipynb'        Day_6.ipynb\n",
      " 20AUG_string.ipynb             example.txt\n",
      " 23Sept_liveclass.ipynb         For_Loop_3rdSept.ipynb\n",
      " 24sept.ipynb                   Functions1.ipynb\n",
      " 2Sept.ipynb                   'operators .ipynb'\n",
      " 3rdSept_ControlFlow.ipynb      Python_Basic_Variable.ipynb\n",
      " 3rdsept.ipynb                  Python_variable2.ipynb\n",
      " 3rdSept.ipynb                  README.md\n",
      " 9septliveclass.ipynb           Untitled1.ipynb\n",
      " Advance_Data_TypeDay2.ipynb    Untitled2.ipynb\n",
      " control_flow.ipynb             Untitled3.ipynb\n",
      " Day_1.ipynb                    Untitled4.ipynb\n",
      " Day_2_Control_Flow.ipynb      \u001b[0m\u001b[01;34m'Untitled Folder'\u001b[0m/\n",
      " Day_2.ipynb                    Untitled.ipynb\n"
     ]
    }
   ],
   "source": [
    "ls"
   ]
  },
  {
   "cell_type": "code",
   "execution_count": 130,
   "id": "5bfcd6e2-dedd-48df-8c47-904790dd1589",
   "metadata": {},
   "outputs": [
    {
     "data": {
      "text/plain": [
       "'/home/jovyan/work'"
      ]
     },
     "execution_count": 130,
     "metadata": {},
     "output_type": "execute_result"
    }
   ],
   "source": [
    "pwd"
   ]
  },
  {
   "cell_type": "code",
   "execution_count": 133,
   "id": "caea2db2-1bf9-42c6-afd3-543f5d45fc11",
   "metadata": {},
   "outputs": [
    {
     "name": "stdout",
     "output_type": "stream",
     "text": [
      "Google LLC (/ˈɡuːɡəl/ ⓘ) is an American multinational technology company focusing on artificial intelligence,[9] online advertising, search engine technology, cloud computing, computer software, quantum computing, e-commerce, and consumer electronics. It has been referred to as \"the most powerful company in the world\"[10] and as one of the world's most valuable brands due to its market dominance, data collection, and technological advantages in the field of artificial intelligence.[11][12][13] Alongside Amazon, Apple Inc., Meta Platforms, and Microsoft, Google's parent company Alphabet Inc. is one of the five Big Tech companies.\n",
      "\n",
      "\n",
      "\n",
      "Google was founded on September 4, 1998, by American computer scientists Larry Page and Sergey Brin while they were PhD students at Stanford University in California. Together they own about 14% of its publicly listed shares and control 56% of its stockholder voting power through super-voting stock. The company went public via an initial public offering (IPO) in 2004. In 2015, Google was reorganized as a wholly owned subsidiary of Alphabet Inc. Google is Alphabet's largest subsidiary and is a holding company for Alphabet's internet properties and interests. Sundar Pichai was appointed CEO of Google on October 24, 2015, replacing Larry Page, who became the CEO of Alphabet. On December 3, 2019, Pichai also became the CEO of Alphabet.[14]\n",
      "\n",
      "\n",
      "\n",
      "The company has since rapidly grown to offer a multitude of products and services beyond Google Search, many of which hold dominant market positions. These products address a wide range of use cases, including email (Gmail), navigation (Waze & Maps), cloud computing (Cloud), web browsing (Chrome), video sharing (YouTube), productivity (Workspace), operating systems (Android), cloud storage (Drive), language translation (Translate), photo storage (Photos), video calling (Meet), smart home (Nest), smartphones (Pixel), wearable technology (Pixel Watch & Fitbit), music streaming (YouTube Music), video on demand (YouTube TV), artificial intelligence (Google Assistant), machine learning APIs (TensorFlow), AI chips (TPU), and more. Discontinued Google products include gaming (Stadia), Glass, Google+, Reader, Play Music, Nexus, Hangouts, and Inbox by Gmail.[15][16]\n",
      "\n",
      "\n",
      "\n",
      "Google's other ventures outside of Internet services and consumer electronics include quantum computing (Sycamore), self-driving cars (Waymo, formerly the Google Self-Driving Car Project), smart cities (Sidewalk Labs), and transformer models (Google Brain).[17]\n",
      "\n",
      "\n",
      "\n",
      "Google and YouTube are the two most visited websites worldwide followed by Facebook and Twitter. Google is also the largest search engine, mapping and navigation application, email provider, office suite, video sharing platform, photo and cloud storage provider, mobile operating system, web browser, ML framework, and AI virtual assistant provider in the world as measured by market share. On the list of most valuable brands, Google is ranked second by Forbes[18] and fourth by Interbrand.[19] It has received significant criticism involving issues such as privacy concerns, tax avoidance, censorship, search neutrality, antitrust and abuse of its monopoly position.\n",
      "\n",
      "\n",
      "\n",
      "History\n",
      "\n",
      "Main articles: History of Google and List of mergers and acquisitions by Alphabet\n",
      "\n",
      "See also: Alphabet Inc.\n",
      "\n",
      "Early years\n",
      "\n",
      "\n",
      "\n",
      "Larry Page and Sergey Brin in 2003\n",
      "\n",
      "Google began in January 1996 as a research project by Larry Page and Sergey Brin when they were both PhD students at Stanford University in California.[20][21][22] The project initially involved an unofficial \"third founder\", Scott Hassan, the original lead programmer who wrote much of the code for the original Google Search engine, but he left before Google was officially founded as a company;[23][24] Hassan went on to pursue a career in robotics and founded the company Willow Garage in 2006.[25][26]\n",
      "\n",
      "\n",
      "\n",
      "While conventional search engines ranked results by counting how many times the search terms appeared on the page, they theorized about a better system that analyzed the relationships among websites.[27] They called this algorithm PageRank; it determined a website's relevance by the number of pages, and the importance of those pages that linked back to the original site.[28][29] Page told his ideas to Hassan, who began writing the code to implement Page's ideas.[23]\n",
      "\n",
      "\n",
      "\n",
      "Page and Brin originally nicknamed the new search engine \"BackRub\", because the system checked backlinks to estimate the importance of a site.[20][30][31] Hassan as well as Alan Steremberg were cited by Page and Brin as being critical to the development of Google. Rajeev Motwani and Terry Winograd later co-authored with Page and Brin the first paper about the project, describing PageRank and the initial prototype of the Google search engine, published in 1998. Héctor García-Molina and Jeff Ullman were also cited as contributors to the project.[32] PageRank was influenced by a similar page-ranking and site-scoring algorithm earlier used for RankDex, developed by Robin Li in 1996, with Larry Page's PageRank patent including a citation to Li's earlier RankDex patent; Li later went on to create the Chinese search engine Baidu.[33][34]\n",
      "\n",
      "\n",
      "\n",
      "Eventually, they changed the name to Google; the name of the search engine was a misspelling of the word googol,[20][35][36] a very large number written 10100 (1 followed by 100 zeros), picked to signify that the search engine was intended to provide large quantities of information.[37]\n",
      "\n",
      "\n",
      "\n",
      "Google's homepage in 1998\n",
      "\n",
      "Google's original homepage had a simple design because the company founders had little experience in HTML, the markup language used for designing web pages.[38]\n",
      "\n",
      "Google was initially funded by an August 1998 investment of $100,000 from Andy Bechtolsheim,[20] co-founder of Sun Microsystems. This initial investment served as a motivation to incorporate the company to be able to use the funds.[39][40] Page and Brin initially approached David Cheriton for advice because he had a nearby office in Stanford, and they knew he had startup experience, having recently sold the company he co-founded, Granite Systems, to Cisco for $220 million. David arranged a meeting with Page and Brin and his Granite co-founder Andy Bechtolsheim. The meeting was set for 8 a.m. at the front porch of David's home in Palo Alto and it had to be brief because Andy had another meeting at Cisco, where he now worked after the acquisition, at 9 a.m. Andy briefly tested a demo of the website, liked what he saw, and then went back to his car to grab the check\n"
     ]
    }
   ],
   "source": [
    "for i in open(\"example.txt\"):\n",
    "       print(i)"
   ]
  },
  {
   "cell_type": "code",
   "execution_count": 148,
   "id": "912bbb3a-6d72-40d5-9f27-6831aca49d13",
   "metadata": {},
   "outputs": [],
   "source": [
    "def read_txt_file(file):\n",
    "    with open(\"example.txt\") as file:\n",
    "        for i in file:\n",
    "            yield i\n"
   ]
  },
  {
   "cell_type": "code",
   "execution_count": 149,
   "id": "d73db1a5-d424-4594-bea6-bdc6dbbae9ff",
   "metadata": {},
   "outputs": [
    {
     "data": {
      "text/plain": [
       "<generator object read_txt_file at 0x7f9b7a5d1540>"
      ]
     },
     "execution_count": 149,
     "metadata": {},
     "output_type": "execute_result"
    }
   ],
   "source": [
    "\n",
    "(read_txt_file(\"example.txt\"))\n"
   ]
  },
  {
   "cell_type": "code",
   "execution_count": 150,
   "id": "29d60eef-6ee6-473b-8ecf-1323e6744d00",
   "metadata": {},
   "outputs": [
    {
     "name": "stdout",
     "output_type": "stream",
     "text": [
      "Google LLC (/ˈɡuːɡəl/ ⓘ) is an American multinational technology company focusing on artificial intelligence,[9] online advertising, search engine technology, cloud computing, computer software, quantum computing, e-commerce, and consumer electronics. It has been referred to as \"the most powerful company in the world\"[10] and as one of the world's most valuable brands due to its market dominance, data collection, and technological advantages in the field of artificial intelligence.[11][12][13] Alongside Amazon, Apple Inc., Meta Platforms, and Microsoft, Google's parent company Alphabet Inc. is one of the five Big Tech companies.\n",
      "\n",
      "\n",
      "\n",
      "Google was founded on September 4, 1998, by American computer scientists Larry Page and Sergey Brin while they were PhD students at Stanford University in California. Together they own about 14% of its publicly listed shares and control 56% of its stockholder voting power through super-voting stock. The company went public via an initial public offering (IPO) in 2004. In 2015, Google was reorganized as a wholly owned subsidiary of Alphabet Inc. Google is Alphabet's largest subsidiary and is a holding company for Alphabet's internet properties and interests. Sundar Pichai was appointed CEO of Google on October 24, 2015, replacing Larry Page, who became the CEO of Alphabet. On December 3, 2019, Pichai also became the CEO of Alphabet.[14]\n",
      "\n",
      "\n",
      "\n",
      "The company has since rapidly grown to offer a multitude of products and services beyond Google Search, many of which hold dominant market positions. These products address a wide range of use cases, including email (Gmail), navigation (Waze & Maps), cloud computing (Cloud), web browsing (Chrome), video sharing (YouTube), productivity (Workspace), operating systems (Android), cloud storage (Drive), language translation (Translate), photo storage (Photos), video calling (Meet), smart home (Nest), smartphones (Pixel), wearable technology (Pixel Watch & Fitbit), music streaming (YouTube Music), video on demand (YouTube TV), artificial intelligence (Google Assistant), machine learning APIs (TensorFlow), AI chips (TPU), and more. Discontinued Google products include gaming (Stadia), Glass, Google+, Reader, Play Music, Nexus, Hangouts, and Inbox by Gmail.[15][16]\n",
      "\n",
      "\n",
      "\n",
      "Google's other ventures outside of Internet services and consumer electronics include quantum computing (Sycamore), self-driving cars (Waymo, formerly the Google Self-Driving Car Project), smart cities (Sidewalk Labs), and transformer models (Google Brain).[17]\n",
      "\n",
      "\n",
      "\n",
      "Google and YouTube are the two most visited websites worldwide followed by Facebook and Twitter. Google is also the largest search engine, mapping and navigation application, email provider, office suite, video sharing platform, photo and cloud storage provider, mobile operating system, web browser, ML framework, and AI virtual assistant provider in the world as measured by market share. On the list of most valuable brands, Google is ranked second by Forbes[18] and fourth by Interbrand.[19] It has received significant criticism involving issues such as privacy concerns, tax avoidance, censorship, search neutrality, antitrust and abuse of its monopoly position.\n",
      "\n",
      "\n",
      "\n",
      "History\n",
      "\n",
      "Main articles: History of Google and List of mergers and acquisitions by Alphabet\n",
      "\n",
      "See also: Alphabet Inc.\n",
      "\n",
      "Early years\n",
      "\n",
      "\n",
      "\n",
      "Larry Page and Sergey Brin in 2003\n",
      "\n",
      "Google began in January 1996 as a research project by Larry Page and Sergey Brin when they were both PhD students at Stanford University in California.[20][21][22] The project initially involved an unofficial \"third founder\", Scott Hassan, the original lead programmer who wrote much of the code for the original Google Search engine, but he left before Google was officially founded as a company;[23][24] Hassan went on to pursue a career in robotics and founded the company Willow Garage in 2006.[25][26]\n",
      "\n",
      "\n",
      "\n",
      "While conventional search engines ranked results by counting how many times the search terms appeared on the page, they theorized about a better system that analyzed the relationships among websites.[27] They called this algorithm PageRank; it determined a website's relevance by the number of pages, and the importance of those pages that linked back to the original site.[28][29] Page told his ideas to Hassan, who began writing the code to implement Page's ideas.[23]\n",
      "\n",
      "\n",
      "\n",
      "Page and Brin originally nicknamed the new search engine \"BackRub\", because the system checked backlinks to estimate the importance of a site.[20][30][31] Hassan as well as Alan Steremberg were cited by Page and Brin as being critical to the development of Google. Rajeev Motwani and Terry Winograd later co-authored with Page and Brin the first paper about the project, describing PageRank and the initial prototype of the Google search engine, published in 1998. Héctor García-Molina and Jeff Ullman were also cited as contributors to the project.[32] PageRank was influenced by a similar page-ranking and site-scoring algorithm earlier used for RankDex, developed by Robin Li in 1996, with Larry Page's PageRank patent including a citation to Li's earlier RankDex patent; Li later went on to create the Chinese search engine Baidu.[33][34]\n",
      "\n",
      "\n",
      "\n",
      "Eventually, they changed the name to Google; the name of the search engine was a misspelling of the word googol,[20][35][36] a very large number written 10100 (1 followed by 100 zeros), picked to signify that the search engine was intended to provide large quantities of information.[37]\n",
      "\n",
      "\n",
      "\n",
      "Google's homepage in 1998\n",
      "\n",
      "Google's original homepage had a simple design because the company founders had little experience in HTML, the markup language used for designing web pages.[38]\n",
      "\n",
      "Google was initially funded by an August 1998 investment of $100,000 from Andy Bechtolsheim,[20] co-founder of Sun Microsystems. This initial investment served as a motivation to incorporate the company to be able to use the funds.[39][40] Page and Brin initially approached David Cheriton for advice because he had a nearby office in Stanford, and they knew he had startup experience, having recently sold the company he co-founded, Granite Systems, to Cisco for $220 million. David arranged a meeting with Page and Brin and his Granite co-founder Andy Bechtolsheim. The meeting was set for 8 a.m. at the front porch of David's home in Palo Alto and it had to be brief because Andy had another meeting at Cisco, where he now worked after the acquisition, at 9 a.m. Andy briefly tested a demo of the website, liked what he saw, and then went back to his car to grab the check\n"
     ]
    }
   ],
   "source": [
    "for i in read_txt_file(\"example.txt\"):\n",
    "    print(i)"
   ]
  },
  {
   "cell_type": "code",
   "execution_count": null,
   "id": "754103aa-0b31-47b9-945c-36ee6a38dee4",
   "metadata": {},
   "outputs": [],
   "source": []
  }
 ],
 "metadata": {
  "kernelspec": {
   "display_name": "Python 3 (ipykernel)",
   "language": "python",
   "name": "python3"
  },
  "language_info": {
   "codemirror_mode": {
    "name": "ipython",
    "version": 3
   },
   "file_extension": ".py",
   "mimetype": "text/x-python",
   "name": "python",
   "nbconvert_exporter": "python",
   "pygments_lexer": "ipython3",
   "version": "3.10.8"
  }
 },
 "nbformat": 4,
 "nbformat_minor": 5
}
