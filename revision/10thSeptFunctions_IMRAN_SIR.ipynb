{
 "cells": [
  {
   "cell_type": "code",
   "execution_count": 1,
   "id": "f1880f4c-14d9-49cb-b64c-8c659db66a8d",
   "metadata": {},
   "outputs": [],
   "source": [
    "def fun(*args):\n",
    "    return sum(args) "
   ]
  },
  {
   "cell_type": "code",
   "execution_count": 2,
   "id": "7a7310b5-6ff3-498b-9a46-55e3a095b8f9",
   "metadata": {},
   "outputs": [
    {
     "data": {
      "text/plain": [
       "10"
      ]
     },
     "execution_count": 2,
     "metadata": {},
     "output_type": "execute_result"
    }
   ],
   "source": [
    "fun(1,2,3,4)"
   ]
  },
  {
   "cell_type": "code",
   "execution_count": 12,
   "id": "2aa39a36-71c0-4a38-8303-550d3765f02d",
   "metadata": {},
   "outputs": [],
   "source": [
    "def simple(**kwargs):\n",
    "    print(kwargs)"
   ]
  },
  {
   "cell_type": "code",
   "execution_count": 13,
   "id": "56e85406-a1d4-4e8b-bef1-85546543cf6c",
   "metadata": {},
   "outputs": [
    {
     "name": "stdout",
     "output_type": "stream",
     "text": [
      "{'name': 'shreya'}\n"
     ]
    }
   ],
   "source": [
    "simple(name='shreya')"
   ]
  },
  {
   "cell_type": "code",
   "execution_count": 14,
   "id": "09baa0d2-9d5a-47ac-b8bd-4cd9ed713971",
   "metadata": {},
   "outputs": [],
   "source": [
    "def newone(**x):\n",
    "    print(x)"
   ]
  },
  {
   "cell_type": "code",
   "execution_count": 19,
   "id": "58590115-5d1f-4f1b-9ffb-c2db2f56bd2a",
   "metadata": {},
   "outputs": [
    {
     "name": "stdout",
     "output_type": "stream",
     "text": [
      "{'one': 'yes'}\n"
     ]
    }
   ],
   "source": [
    "newone(one='yes')"
   ]
  },
  {
   "cell_type": "code",
   "execution_count": 21,
   "id": "8dd1feb9-b6d3-4430-91b5-3d02647b97fe",
   "metadata": {},
   "outputs": [
    {
     "name": "stdout",
     "output_type": "stream",
     "text": [
      "{'two': 'pooja'}\n"
     ]
    }
   ],
   "source": [
    "newone(two=\"pooja\")"
   ]
  },
  {
   "cell_type": "code",
   "execution_count": 22,
   "id": "90630627-fedb-44c0-bf9d-5111e5704762",
   "metadata": {},
   "outputs": [],
   "source": [
    "def showkeyvalue(**kwargs):\n",
    "    print(kwargs)"
   ]
  },
  {
   "cell_type": "code",
   "execution_count": 26,
   "id": "e3b3a58c-ce18-4bc6-bb17-161c612e8e4d",
   "metadata": {},
   "outputs": [
    {
     "name": "stdout",
     "output_type": "stream",
     "text": [
      "{'name': 'vaishnavi', 'name1': 'pooja'}\n"
     ]
    }
   ],
   "source": [
    "showkeyvalue(name=\"vaishnavi\",name1='pooja')"
   ]
  },
  {
   "cell_type": "code",
   "execution_count": 27,
   "id": "1a53a6eb-4c5f-4042-8b9a-73ac2c6c89b0",
   "metadata": {},
   "outputs": [],
   "source": [
    "dict1={23:\"pooja\"}"
   ]
  },
  {
   "cell_type": "code",
   "execution_count": 28,
   "id": "17460d6d-0fa6-4a6c-8096-59b0744b9603",
   "metadata": {},
   "outputs": [
    {
     "data": {
      "text/plain": [
       "{23: 'pooja'}"
      ]
     },
     "execution_count": 28,
     "metadata": {},
     "output_type": "execute_result"
    }
   ],
   "source": [
    "dict1"
   ]
  },
  {
   "cell_type": "code",
   "execution_count": 29,
   "id": "dbec0bb1-ca09-432b-bd08-f405ecc7e055",
   "metadata": {},
   "outputs": [],
   "source": [
    "def new_fun(**kwargs):\n",
    "    return kwargs\n"
   ]
  },
  {
   "cell_type": "code",
   "execution_count": 30,
   "id": "483d2be2-810f-49ab-b946-4e9ae886aff5",
   "metadata": {},
   "outputs": [],
   "source": [
    "x="
   ]
  },
  {
   "cell_type": "code",
   "execution_count": 31,
   "id": "a4c86230-a91c-4333-99eb-4a2324b508a1",
   "metadata": {},
   "outputs": [
    {
     "data": {
      "text/plain": [
       "{'shreya': 23}"
      ]
     },
     "execution_count": 31,
     "metadata": {},
     "output_type": "execute_result"
    }
   ],
   "source": [
    "x"
   ]
  },
  {
   "cell_type": "markdown",
   "id": "4b3c48b9-126f-43fc-b0a9-3b0bd9eca817",
   "metadata": {},
   "source": [
    "## Lambda Function"
   ]
  },
  {
   "cell_type": "code",
   "execution_count": 39,
   "id": "8bb9938a-a8a4-4900-8b52-56471b8fe315",
   "metadata": {},
   "outputs": [],
   "source": [
    "x=lambda: print(\"hello world\")"
   ]
  },
  {
   "cell_type": "code",
   "execution_count": 41,
   "id": "e8064d9f-38aa-4698-a628-3fe0bd809728",
   "metadata": {},
   "outputs": [
    {
     "name": "stdout",
     "output_type": "stream",
     "text": [
      "hello world\n"
     ]
    }
   ],
   "source": [
    "x()"
   ]
  },
  {
   "cell_type": "code",
   "execution_count": 43,
   "id": "b32d64f8-7ec4-44b3-9db1-fa09d4b29f00",
   "metadata": {},
   "outputs": [],
   "source": [
    "y=lambda :print(\"pwskills\")"
   ]
  },
  {
   "cell_type": "code",
   "execution_count": 44,
   "id": "a62373a4-2777-41c5-95a2-5d0fe72fde4f",
   "metadata": {},
   "outputs": [
    {
     "name": "stdout",
     "output_type": "stream",
     "text": [
      "pwskills\n"
     ]
    }
   ],
   "source": [
    "y()"
   ]
  },
  {
   "cell_type": "code",
   "execution_count": 47,
   "id": "3b38405a-af06-4a2a-88a6-45b2a9a9b447",
   "metadata": {},
   "outputs": [],
   "source": [
    "add=lambda x,y:print(x+y)"
   ]
  },
  {
   "cell_type": "code",
   "execution_count": 48,
   "id": "84e4a652-a117-4691-989b-8c6082f3fe07",
   "metadata": {},
   "outputs": [
    {
     "name": "stdout",
     "output_type": "stream",
     "text": [
      "5\n"
     ]
    }
   ],
   "source": [
    "add(2,3)"
   ]
  },
  {
   "cell_type": "code",
   "execution_count": 50,
   "id": "12dee6b4-d47a-4e78-a3bf-b6089bd65e09",
   "metadata": {},
   "outputs": [],
   "source": [
    "x=lambda x,y: print(x*y)"
   ]
  },
  {
   "cell_type": "code",
   "execution_count": 51,
   "id": "f39466bb-3880-4486-b717-1e44ea0e7fe5",
   "metadata": {},
   "outputs": [
    {
     "name": "stdout",
     "output_type": "stream",
     "text": [
      "12\n"
     ]
    }
   ],
   "source": [
    "x(3,4)"
   ]
  },
  {
   "cell_type": "code",
   "execution_count": 52,
   "id": "d6acf2bf-f50b-4176-a969-ca5fa432048f",
   "metadata": {},
   "outputs": [
    {
     "name": "stdin",
     "output_type": "stream",
     "text": [
      "enter first number 2\n",
      "enter second number 4\n"
     ]
    }
   ],
   "source": [
    "a=int(input(\"enter first number\"))\n",
    "b=int(input(\"enter second number\"))\n",
    "square=lambda a,b:(a**2,b**2)"
   ]
  },
  {
   "cell_type": "code",
   "execution_count": 54,
   "id": "59861691-fa15-42cd-95c6-ce3996bab620",
   "metadata": {},
   "outputs": [
    {
     "data": {
      "text/plain": [
       "(4, 16)"
      ]
     },
     "execution_count": 54,
     "metadata": {},
     "output_type": "execute_result"
    }
   ],
   "source": [
    "square(a,b)"
   ]
  },
  {
   "cell_type": "code",
   "execution_count": 59,
   "id": "ab6e66e0-00c2-4ef6-9042-403e8e7c3c2f",
   "metadata": {},
   "outputs": [],
   "source": [
    "even=lambda x:(x%2==0)"
   ]
  },
  {
   "cell_type": "code",
   "execution_count": 60,
   "id": "20740956-0fdd-4938-a5c6-4b4c468de54e",
   "metadata": {},
   "outputs": [
    {
     "data": {
      "text/plain": [
       "True"
      ]
     },
     "execution_count": 60,
     "metadata": {},
     "output_type": "execute_result"
    }
   ],
   "source": [
    "even(230)"
   ]
  },
  {
   "cell_type": "code",
   "execution_count": 61,
   "id": "0676e20e-5faa-4215-b897-28a412fd85af",
   "metadata": {},
   "outputs": [],
   "source": [
    "even_odd=lambda n: \"True\" if (n%2==0) else \"False\""
   ]
  },
  {
   "cell_type": "code",
   "execution_count": 64,
   "id": "3ac5be4e-b42f-4444-ad35-1383ed6a0569",
   "metadata": {},
   "outputs": [
    {
     "data": {
      "text/plain": [
       "'True'"
      ]
     },
     "execution_count": 64,
     "metadata": {},
     "output_type": "execute_result"
    }
   ],
   "source": [
    "even_odd(2390)"
   ]
  },
  {
   "cell_type": "code",
   "execution_count": 65,
   "id": "dc0c41c6-27b4-4a5c-b03d-87c359c601c2",
   "metadata": {},
   "outputs": [],
   "source": [
    "even_odd=lambda n: \"{} is even\".format(n) if(n%2==0) else \"False\""
   ]
  },
  {
   "cell_type": "code",
   "execution_count": 67,
   "id": "f574861d-761c-416f-9a47-34e9a0a9f8c6",
   "metadata": {},
   "outputs": [
    {
     "data": {
      "text/plain": [
       "'20 is even'"
      ]
     },
     "execution_count": 67,
     "metadata": {},
     "output_type": "execute_result"
    }
   ],
   "source": [
    "even_odd(20)"
   ]
  },
  {
   "cell_type": "code",
   "execution_count": 68,
   "id": "d0eeff43-213f-4922-ba1c-75039acb0d13",
   "metadata": {},
   "outputs": [
    {
     "name": "stdin",
     "output_type": "stream",
     "text": [
      "enter input 23\n",
      "enter second input 45\n"
     ]
    }
   ],
   "source": [
    "a=int(input(\"enter input\"))\n",
    "b=int(input(\"enter second input\"))\n",
    "greatest=lambda a,d: \"{} is greator\".format(a) if a>b else \"{} is greator\".format(b)"
   ]
  },
  {
   "cell_type": "code",
   "execution_count": 69,
   "id": "857ffef5-a963-41a1-ad26-f853cc5090fd",
   "metadata": {},
   "outputs": [
    {
     "data": {
      "text/plain": [
       "'45 is greator'"
      ]
     },
     "execution_count": 69,
     "metadata": {},
     "output_type": "execute_result"
    }
   ],
   "source": [
    "greatest(23,45)"
   ]
  },
  {
   "cell_type": "code",
   "execution_count": 71,
   "id": "0d4be39e-5dfd-412e-b181-7416b7dc25db",
   "metadata": {},
   "outputs": [
    {
     "ename": "SyntaxError",
     "evalue": "expected 'else' after 'if' expression (3324388368.py, line 4)",
     "output_type": "error",
     "traceback": [
      "\u001b[0;36m  Cell \u001b[0;32mIn[71], line 4\u001b[0;36m\u001b[0m\n\u001b[0;31m    greatest=lambda a,b,c: \"{} is greator\".format(a) if (a>b and a>c) elif (b>c and b>a) \"b is greator\" else \"{} is greator\".format(c)\u001b[0m\n\u001b[0m                           ^\u001b[0m\n\u001b[0;31mSyntaxError\u001b[0m\u001b[0;31m:\u001b[0m expected 'else' after 'if' expression\n"
     ]
    }
   ],
   "source": [
    "a=int(input(\"enter input\"))\n",
    "b=int(input(\"enter second input\"))\n",
    "b=int(input(\"enter second input\"))\n",
    "greatest=lambda a,b,c: \"{} is greator\".format(a) if (a>b and a>c) elif (b>c and b>a) \"b is greator\" else \"{} is greator\".format(c)"
   ]
  },
  {
   "cell_type": "code",
   "execution_count": 73,
   "id": "24461783-ef02-4b07-aaa5-2393f03b5cbc",
   "metadata": {},
   "outputs": [],
   "source": [
    "products=[\n",
    "    {\"name\":\"product1\",'price':450},\n",
    "    {'name':\"product2\",'price':45},\n",
    "    {'name':\"product3\",\"price\":56}\n",
    "]"
   ]
  },
  {
   "cell_type": "code",
   "execution_count": 75,
   "id": "9bb2e24b-ca3e-4062-b433-d15e79af8bab",
   "metadata": {},
   "outputs": [],
   "source": [
    "sorted_products =sorted(products,key=lambda x:x['price'])"
   ]
  },
  {
   "cell_type": "code",
   "execution_count": 76,
   "id": "8f7232c2-cdbc-4b14-a0f8-432713506e54",
   "metadata": {},
   "outputs": [
    {
     "name": "stdout",
     "output_type": "stream",
     "text": [
      "{'name': 'product2', 'price': 45}\n",
      "{'name': 'product3', 'price': 56}\n",
      "{'name': 'product1', 'price': 450}\n"
     ]
    }
   ],
   "source": [
    "for i in sorted_products:\n",
    "    print(i)"
   ]
  },
  {
   "cell_type": "code",
   "execution_count": 83,
   "id": "c3dee68c-7263-4646-aaab-0e67dc1eb8d4",
   "metadata": {},
   "outputs": [],
   "source": [
    "a=lambda :products['price']"
   ]
  },
  {
   "cell_type": "code",
   "execution_count": 85,
   "id": "6e9dc95b-910d-4567-b4d5-9013a59204d1",
   "metadata": {},
   "outputs": [
    {
     "data": {
      "text/plain": [
       "<function __main__.<lambda>()>"
      ]
     },
     "execution_count": 85,
     "metadata": {},
     "output_type": "execute_result"
    }
   ],
   "source": [
    "a"
   ]
  },
  {
   "cell_type": "code",
   "execution_count": 89,
   "id": "b9424262-7f10-4206-a6ac-a5ce03588037",
   "metadata": {},
   "outputs": [],
   "source": [
    "# filter \n",
    "## map\n",
    "### reduce \n",
    "#### lambda "
   ]
  },
  {
   "cell_type": "code",
   "execution_count": 91,
   "id": "26e585c7-4485-4205-83d4-04ab302c0ae4",
   "metadata": {},
   "outputs": [
    {
     "data": {
      "text/plain": [
       "10"
      ]
     },
     "execution_count": 91,
     "metadata": {},
     "output_type": "execute_result"
    }
   ],
   "source": [
    "x=-10\n",
    "abs(x)"
   ]
  },
  {
   "cell_type": "code",
   "execution_count": 92,
   "id": "7bb77c41-5a20-463d-90ee-d23a327dd6a9",
   "metadata": {},
   "outputs": [
    {
     "data": {
      "text/plain": [
       "5"
      ]
     },
     "execution_count": 92,
     "metadata": {},
     "output_type": "execute_result"
    }
   ],
   "source": [
    "d=[1,2,3,4,5]\n",
    "max(d)"
   ]
  },
  {
   "cell_type": "code",
   "execution_count": 93,
   "id": "8f27f913-9ee1-4782-acd8-cb769a4457b8",
   "metadata": {},
   "outputs": [],
   "source": [
    "language=['python','java','javascript']"
   ]
  },
  {
   "cell_type": "code",
   "execution_count": 99,
   "id": "361d301c-5b63-4f0d-b337-01c77d24c3c6",
   "metadata": {},
   "outputs": [
    {
     "data": {
      "text/plain": [
       "[(20, 'python'), (21, 'java'), (22, 'javascript')]"
      ]
     },
     "execution_count": 99,
     "metadata": {},
     "output_type": "execute_result"
    }
   ],
   "source": [
    "[i for i in enumerate(language,20)]"
   ]
  },
  {
   "cell_type": "code",
   "execution_count": 102,
   "id": "30ebb003-39d6-4d69-b449-1e0590bc8ea5",
   "metadata": {},
   "outputs": [],
   "source": [
    "a=[i+1 for i in range(1,3)]"
   ]
  },
  {
   "cell_type": "code",
   "execution_count": 103,
   "id": "021bbb04-976a-4c01-aac9-e7a510301c8c",
   "metadata": {},
   "outputs": [
    {
     "data": {
      "text/plain": [
       "[2, 3]"
      ]
     },
     "execution_count": 103,
     "metadata": {},
     "output_type": "execute_result"
    }
   ],
   "source": [
    "a"
   ]
  },
  {
   "cell_type": "code",
   "execution_count": 105,
   "id": "5f2f8499-8ca8-456f-b64d-7737c91410a2",
   "metadata": {},
   "outputs": [
    {
     "data": {
      "text/plain": [
       "[1, 4, 9, 16, 25, 36, 49, 64, 81]"
      ]
     },
     "execution_count": 105,
     "metadata": {},
     "output_type": "execute_result"
    }
   ],
   "source": [
    "a=[i*i for i in range(1,10)]\n",
    "a"
   ]
  },
  {
   "cell_type": "code",
   "execution_count": 114,
   "id": "21c5f5a0-d650-46c6-bde7-559fb7276926",
   "metadata": {},
   "outputs": [],
   "source": [
    "a=[i for i in range(1,11) if(i%4==0)]"
   ]
  },
  {
   "cell_type": "code",
   "execution_count": 115,
   "id": "47bb88f8-8e59-4d64-880f-5fbfa33485ab",
   "metadata": {},
   "outputs": [
    {
     "data": {
      "text/plain": [
       "[4, 8]"
      ]
     },
     "execution_count": 115,
     "metadata": {},
     "output_type": "execute_result"
    }
   ],
   "source": [
    "a"
   ]
  },
  {
   "cell_type": "code",
   "execution_count": 117,
   "id": "77dab823-169b-4ff8-ba9f-3d1476c8ad2e",
   "metadata": {},
   "outputs": [],
   "source": [
    "l=[12,3,4,5,56,7,89]\n",
    "e=[i if (i>4)  else 'true' for i in l  ]"
   ]
  },
  {
   "cell_type": "code",
   "execution_count": 118,
   "id": "7018ca11-7442-45ca-9a52-02e2699d1729",
   "metadata": {},
   "outputs": [
    {
     "data": {
      "text/plain": [
       "[12, 'true', 'true', 5, 56, 7, 89]"
      ]
     },
     "execution_count": 118,
     "metadata": {},
     "output_type": "execute_result"
    }
   ],
   "source": [
    "e"
   ]
  },
  {
   "cell_type": "code",
   "execution_count": 124,
   "id": "31d8e07b-a8a4-4e26-8ab4-6db31e0e9aba",
   "metadata": {},
   "outputs": [
    {
     "ename": "SyntaxError",
     "evalue": "invalid syntax (4061950274.py, line 1)",
     "output_type": "error",
     "traceback": [
      "\u001b[0;36m  Cell \u001b[0;32mIn[124], line 1\u001b[0;36m\u001b[0m\n\u001b[0;31m    [if (i>4) continue  else i for i in l ]\u001b[0m\n\u001b[0m     ^\u001b[0m\n\u001b[0;31mSyntaxError\u001b[0m\u001b[0;31m:\u001b[0m invalid syntax\n"
     ]
    }
   ],
   "source": [
    "[if (i>4) continue  else i for i in l ]"
   ]
  },
  {
   "cell_type": "code",
   "execution_count": null,
   "id": "079b5ff2-e7d8-45a4-89bd-9db2725a5f8e",
   "metadata": {},
   "outputs": [],
   "source": []
  }
 ],
 "metadata": {
  "kernelspec": {
   "display_name": "Python 3 (ipykernel)",
   "language": "python",
   "name": "python3"
  },
  "language_info": {
   "codemirror_mode": {
    "name": "ipython",
    "version": 3
   },
   "file_extension": ".py",
   "mimetype": "text/x-python",
   "name": "python",
   "nbconvert_exporter": "python",
   "pygments_lexer": "ipython3",
   "version": "3.10.8"
  }
 },
 "nbformat": 4,
 "nbformat_minor": 5
}
