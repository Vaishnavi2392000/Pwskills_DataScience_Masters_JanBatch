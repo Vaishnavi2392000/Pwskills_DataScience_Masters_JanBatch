{
 "cells": [
  {
   "cell_type": "code",
   "execution_count": 1,
   "id": "272d9c3f-61df-47dc-9ee2-f187237b3914",
   "metadata": {},
   "outputs": [],
   "source": [
    "l=[]"
   ]
  },
  {
   "cell_type": "code",
   "execution_count": 2,
   "id": "61bda14d-4ba9-4ff8-b5f3-a643bfb53bda",
   "metadata": {},
   "outputs": [
    {
     "data": {
      "text/plain": [
       "list"
      ]
     },
     "execution_count": 2,
     "metadata": {},
     "output_type": "execute_result"
    }
   ],
   "source": [
    "type(l)"
   ]
  },
  {
   "cell_type": "code",
   "execution_count": 9,
   "id": "eb4f5cc2-f592-405a-ae2f-2d732792c30f",
   "metadata": {},
   "outputs": [],
   "source": [
    "l=[1,2,3,4,45.67,True,\"Shreya\",[12,3,4,5]]\n"
   ]
  },
  {
   "cell_type": "code",
   "execution_count": 10,
   "id": "f826e15a-b016-4c8b-89a6-897244feb02f",
   "metadata": {},
   "outputs": [
    {
     "data": {
      "text/plain": [
       "[1, 2, 3, 4, 45.67, True, 'Shreya', [12, 3, 4, 5]]"
      ]
     },
     "execution_count": 10,
     "metadata": {},
     "output_type": "execute_result"
    }
   ],
   "source": [
    "l"
   ]
  },
  {
   "cell_type": "code",
   "execution_count": 11,
   "id": "f34a0061-daea-4ff4-ade5-0b0b35e5ea06",
   "metadata": {},
   "outputs": [
    {
     "data": {
      "text/plain": [
       "'Shreya'"
      ]
     },
     "execution_count": 11,
     "metadata": {},
     "output_type": "execute_result"
    }
   ],
   "source": [
    "l[6]"
   ]
  },
  {
   "cell_type": "code",
   "execution_count": 12,
   "id": "5f43c11f-80dc-44a8-b08d-3ec88ee53d6d",
   "metadata": {},
   "outputs": [
    {
     "data": {
      "text/plain": [
       "[12, 3, 4, 5]"
      ]
     },
     "execution_count": 12,
     "metadata": {},
     "output_type": "execute_result"
    }
   ],
   "source": [
    "l[-1]"
   ]
  },
  {
   "cell_type": "code",
   "execution_count": 14,
   "id": "fc0e4c8f-fb3f-4729-97bb-7f7f828fb484",
   "metadata": {},
   "outputs": [
    {
     "data": {
      "text/plain": [
       "4"
      ]
     },
     "execution_count": 14,
     "metadata": {},
     "output_type": "execute_result"
    }
   ],
   "source": [
    "l[-1][-2]"
   ]
  },
  {
   "cell_type": "code",
   "execution_count": 16,
   "id": "4566035e-57d5-40b4-8f22-f847e2840bb4",
   "metadata": {},
   "outputs": [
    {
     "data": {
      "text/plain": [
       "[1, 2, 3, 4]"
      ]
     },
     "execution_count": 16,
     "metadata": {},
     "output_type": "execute_result"
    }
   ],
   "source": [
    "l[0:4]"
   ]
  },
  {
   "cell_type": "code",
   "execution_count": 17,
   "id": "9a9951f1-a5bb-4a8b-a880-c96c06fb6506",
   "metadata": {},
   "outputs": [],
   "source": [
    "l2=[3,4,5,'pwskills','sudh']"
   ]
  },
  {
   "cell_type": "code",
   "execution_count": 18,
   "id": "94a8a9e5-39c8-4ca4-8eb7-924254457678",
   "metadata": {},
   "outputs": [
    {
     "data": {
      "text/plain": [
       "[3, 4, 5, 'pwskills', 'sudh']"
      ]
     },
     "execution_count": 18,
     "metadata": {},
     "output_type": "execute_result"
    }
   ],
   "source": [
    "l2"
   ]
  },
  {
   "cell_type": "code",
   "execution_count": 20,
   "id": "cc5b9781-6e1e-460b-a907-4beacef7aa09",
   "metadata": {},
   "outputs": [
    {
     "data": {
      "text/plain": [
       "[1, 2, 3, 4, 45.67, True, 'Shreya', [12, 3, 4, 5], 3, 4, 5, 'pwskills', 'sudh']"
      ]
     },
     "execution_count": 20,
     "metadata": {},
     "output_type": "execute_result"
    }
   ],
   "source": [
    "l+l2"
   ]
  },
  {
   "cell_type": "markdown",
   "id": "07a82dbb-3377-47df-894a-518427449563",
   "metadata": {},
   "source": [
    "## "
   ]
  },
  {
   "cell_type": "code",
   "execution_count": 21,
   "id": "d0016744-6602-43fc-bd7d-a8e5b200d0ab",
   "metadata": {},
   "outputs": [
    {
     "ename": "TypeError",
     "evalue": "can only concatenate list (not \"str\") to list",
     "output_type": "error",
     "traceback": [
      "\u001b[0;31m---------------------------------------------------------------------------\u001b[0m",
      "\u001b[0;31mTypeError\u001b[0m                                 Traceback (most recent call last)",
      "Cell \u001b[0;32mIn[21], line 1\u001b[0m\n\u001b[0;32m----> 1\u001b[0m \u001b[43ml2\u001b[49m\u001b[38;5;241;43m+\u001b[39;49m\u001b[38;5;124;43m\"\u001b[39;49m\u001b[38;5;124;43msudh\u001b[39;49m\u001b[38;5;124;43m\"\u001b[39;49m\n",
      "\u001b[0;31mTypeError\u001b[0m: can only concatenate list (not \"str\") to list"
     ]
    }
   ],
   "source": [
    "l2+\"sudh\""
   ]
  },
  {
   "cell_type": "code",
   "execution_count": 22,
   "id": "739a83bb-2acf-4661-8c3f-89f8627ee432",
   "metadata": {},
   "outputs": [
    {
     "data": {
      "text/plain": [
       "[3, 4, 5, 'pwskills', 'sudh', 's', 'u', 'd', 'h']"
      ]
     },
     "execution_count": 22,
     "metadata": {},
     "output_type": "execute_result"
    }
   ],
   "source": [
    "l2+list(\"sudh\")"
   ]
  },
  {
   "cell_type": "code",
   "execution_count": 26,
   "id": "8486841a-4b5f-4c25-b08c-b5ace253dbcb",
   "metadata": {},
   "outputs": [
    {
     "data": {
      "text/plain": [
       "'sudh'"
      ]
     },
     "execution_count": 26,
     "metadata": {},
     "output_type": "execute_result"
    }
   ],
   "source": [
    "''.join(list('sudh'))"
   ]
  },
  {
   "cell_type": "code",
   "execution_count": 27,
   "id": "9ba0108b-4f17-41e7-aee0-798c9536eae6",
   "metadata": {},
   "outputs": [
    {
     "data": {
      "text/plain": [
       "[3, 4, 5, 'pwskills', 'sudh']"
      ]
     },
     "execution_count": 27,
     "metadata": {},
     "output_type": "execute_result"
    }
   ],
   "source": [
    "l2"
   ]
  },
  {
   "cell_type": "code",
   "execution_count": 32,
   "id": "75753b8a-53e1-426b-9f70-72327ed20abe",
   "metadata": {},
   "outputs": [
    {
     "data": {
      "text/plain": [
       "140214617191616"
      ]
     },
     "execution_count": 32,
     "metadata": {},
     "output_type": "execute_result"
    }
   ],
   "source": [
    "l2[0]\n",
    "id(l2)"
   ]
  },
  {
   "cell_type": "code",
   "execution_count": 29,
   "id": "ce3124ef-5a05-445a-addc-881053754f53",
   "metadata": {},
   "outputs": [],
   "source": [
    "l2[0]=300"
   ]
  },
  {
   "cell_type": "code",
   "execution_count": 30,
   "id": "eedea37e-6ae7-42b2-a06e-a0cbe295477d",
   "metadata": {},
   "outputs": [
    {
     "data": {
      "text/plain": [
       "[300, 4, 5, 'pwskills', 'sudh']"
      ]
     },
     "execution_count": 30,
     "metadata": {},
     "output_type": "execute_result"
    }
   ],
   "source": [
    "l2"
   ]
  },
  {
   "cell_type": "code",
   "execution_count": 31,
   "id": "989c7e9e-bfaf-4051-88bf-46ef7dad3616",
   "metadata": {},
   "outputs": [
    {
     "data": {
      "text/plain": [
       "140214617191616"
      ]
     },
     "execution_count": 31,
     "metadata": {},
     "output_type": "execute_result"
    }
   ],
   "source": [
    "id(l2)"
   ]
  },
  {
   "cell_type": "code",
   "execution_count": 33,
   "id": "64439f40-602d-4336-9853-b5358221c4a1",
   "metadata": {},
   "outputs": [],
   "source": [
    "t=()"
   ]
  },
  {
   "cell_type": "code",
   "execution_count": 34,
   "id": "f1a35cff-6f09-4c4a-a292-607394c7236d",
   "metadata": {},
   "outputs": [
    {
     "data": {
      "text/plain": [
       "tuple"
      ]
     },
     "execution_count": 34,
     "metadata": {},
     "output_type": "execute_result"
    }
   ],
   "source": [
    "type(t)"
   ]
  },
  {
   "cell_type": "code",
   "execution_count": 35,
   "id": "466594df-15f1-44d5-8d56-1efaebd20f75",
   "metadata": {},
   "outputs": [],
   "source": [
    "t=(12,34,56,67,'suhd')"
   ]
  },
  {
   "cell_type": "code",
   "execution_count": 36,
   "id": "44256c50-3c7e-4143-a380-f2eba91f9351",
   "metadata": {},
   "outputs": [
    {
     "data": {
      "text/plain": [
       "(12, 34, 56, 67, 'suhd')"
      ]
     },
     "execution_count": 36,
     "metadata": {},
     "output_type": "execute_result"
    }
   ],
   "source": [
    "t"
   ]
  },
  {
   "cell_type": "code",
   "execution_count": 37,
   "id": "954ea05b-e769-4872-a637-46b48531c019",
   "metadata": {},
   "outputs": [
    {
     "data": {
      "text/plain": [
       "12"
      ]
     },
     "execution_count": 37,
     "metadata": {},
     "output_type": "execute_result"
    }
   ],
   "source": [
    "t[0]"
   ]
  },
  {
   "cell_type": "code",
   "execution_count": 38,
   "id": "cdae6c5f-af1c-4c6d-8dd3-4bf0bd314085",
   "metadata": {},
   "outputs": [
    {
     "data": {
      "text/plain": [
       "('suhd', 67, 56, 34, 12)"
      ]
     },
     "execution_count": 38,
     "metadata": {},
     "output_type": "execute_result"
    }
   ],
   "source": [
    "t[::-1]"
   ]
  },
  {
   "cell_type": "code",
   "execution_count": 39,
   "id": "7de9ac53-1b0d-44e3-b51f-b7a75f40effa",
   "metadata": {},
   "outputs": [
    {
     "ename": "TypeError",
     "evalue": "'tuple' object does not support item assignment",
     "output_type": "error",
     "traceback": [
      "\u001b[0;31m---------------------------------------------------------------------------\u001b[0m",
      "\u001b[0;31mTypeError\u001b[0m                                 Traceback (most recent call last)",
      "Cell \u001b[0;32mIn[39], line 1\u001b[0m\n\u001b[0;32m----> 1\u001b[0m \u001b[43mt\u001b[49m\u001b[43m[\u001b[49m\u001b[38;5;241;43m0\u001b[39;49m\u001b[43m]\u001b[49m\u001b[38;5;241m=\u001b[39m\u001b[38;5;124m'\u001b[39m\u001b[38;5;124mShreya\u001b[39m\u001b[38;5;124m'\u001b[39m\n",
      "\u001b[0;31mTypeError\u001b[0m: 'tuple' object does not support item assignment"
     ]
    }
   ],
   "source": [
    "t[0]='Shreya'"
   ]
  },
  {
   "cell_type": "code",
   "execution_count": 40,
   "id": "8e28eab0-6631-4d5b-b9c2-57436a24a27b",
   "metadata": {},
   "outputs": [],
   "source": [
    "t1=(5,6,7,8,9)"
   ]
  },
  {
   "cell_type": "code",
   "execution_count": 42,
   "id": "84537900-b214-4459-9fd0-d40c23f1b7e3",
   "metadata": {},
   "outputs": [
    {
     "data": {
      "text/plain": [
       "(12, 34, 56, 67, 'suhd', 5, 6, 7, 8, 9)"
      ]
     },
     "execution_count": 42,
     "metadata": {},
     "output_type": "execute_result"
    }
   ],
   "source": [
    "t+t1"
   ]
  },
  {
   "cell_type": "code",
   "execution_count": 43,
   "id": "9679f8f7-0632-432a-a66a-2ff08cb87958",
   "metadata": {},
   "outputs": [],
   "source": [
    "## concaination is allowed in the tuple and list both"
   ]
  },
  {
   "cell_type": "code",
   "execution_count": 44,
   "id": "8eda2626-6fc8-41dd-8322-e07b81913310",
   "metadata": {},
   "outputs": [
    {
     "data": {
      "text/plain": [
       "(12, 34, 56, 67, 'suhd', 12, 34, 56, 67, 'suhd')"
      ]
     },
     "execution_count": 44,
     "metadata": {},
     "output_type": "execute_result"
    }
   ],
   "source": [
    "t*2\n"
   ]
  },
  {
   "cell_type": "code",
   "execution_count": 46,
   "id": "54a2fe9b-f44f-4a18-9f20-c18215e986e3",
   "metadata": {},
   "outputs": [
    {
     "data": {
      "text/plain": [
       "(12, 34, 56, 67, 'suhd')"
      ]
     },
     "execution_count": 46,
     "metadata": {},
     "output_type": "execute_result"
    }
   ],
   "source": [
    "t"
   ]
  },
  {
   "cell_type": "code",
   "execution_count": 47,
   "id": "6769e2ee-d223-4a19-8e06-56accdb230e3",
   "metadata": {},
   "outputs": [
    {
     "data": {
      "text/plain": [
       "[12, 34, 56, 67, 'suhd']"
      ]
     },
     "execution_count": 47,
     "metadata": {},
     "output_type": "execute_result"
    }
   ],
   "source": [
    "list(t)"
   ]
  },
  {
   "cell_type": "code",
   "execution_count": 48,
   "id": "a7ff1362-ba10-48e2-a76e-498c7304dc53",
   "metadata": {},
   "outputs": [
    {
     "data": {
      "text/plain": [
       "[300, 4, 5, 'pwskills', 'sudh']"
      ]
     },
     "execution_count": 48,
     "metadata": {},
     "output_type": "execute_result"
    }
   ],
   "source": [
    "l2"
   ]
  },
  {
   "cell_type": "code",
   "execution_count": 49,
   "id": "7bcb929e-2b58-4c0c-93e7-c92ce98c889c",
   "metadata": {},
   "outputs": [
    {
     "data": {
      "text/plain": [
       "(300, 4, 5, 'pwskills', 'sudh')"
      ]
     },
     "execution_count": 49,
     "metadata": {},
     "output_type": "execute_result"
    }
   ],
   "source": [
    "tuple(l2)"
   ]
  },
  {
   "cell_type": "code",
   "execution_count": 50,
   "id": "0ed72ea4-a86b-4631-b04c-c5df96cf7d29",
   "metadata": {},
   "outputs": [
    {
     "data": {
      "text/plain": [
       "5"
      ]
     },
     "execution_count": 50,
     "metadata": {},
     "output_type": "execute_result"
    }
   ],
   "source": [
    "len(t)"
   ]
  },
  {
   "cell_type": "code",
   "execution_count": 52,
   "id": "653af91a-39ac-4ae9-9526-0956f23d2ac9",
   "metadata": {},
   "outputs": [
    {
     "data": {
      "text/plain": [
       "9"
      ]
     },
     "execution_count": 52,
     "metadata": {},
     "output_type": "execute_result"
    }
   ],
   "source": [
    "len(\"string   \")"
   ]
  },
  {
   "cell_type": "code",
   "execution_count": 55,
   "id": "cff622be-c4c0-472a-8708-a4e62008d29c",
   "metadata": {},
   "outputs": [
    {
     "data": {
      "text/plain": [
       "8"
      ]
     },
     "execution_count": 55,
     "metadata": {},
     "output_type": "execute_result"
    }
   ],
   "source": [
    "len(l)"
   ]
  },
  {
   "cell_type": "code",
   "execution_count": 56,
   "id": "b333f40b-126f-47fc-aa24-c67649424f15",
   "metadata": {},
   "outputs": [],
   "source": [
    "s={}"
   ]
  },
  {
   "cell_type": "code",
   "execution_count": 57,
   "id": "4483bd4a-99bc-4d75-b616-634becedf127",
   "metadata": {},
   "outputs": [
    {
     "data": {
      "text/plain": [
       "dict"
      ]
     },
     "execution_count": 57,
     "metadata": {},
     "output_type": "execute_result"
    }
   ],
   "source": [
    "type(s)"
   ]
  },
  {
   "cell_type": "code",
   "execution_count": 58,
   "id": "ee39508c-8559-46ff-b7e4-eaff07f9505c",
   "metadata": {},
   "outputs": [],
   "source": [
    "s1={1,2,3,4,5,5}"
   ]
  },
  {
   "cell_type": "code",
   "execution_count": 59,
   "id": "7e996314-864f-4d56-b0cc-fd4cecb66922",
   "metadata": {},
   "outputs": [
    {
     "data": {
      "text/plain": [
       "set"
      ]
     },
     "execution_count": 59,
     "metadata": {},
     "output_type": "execute_result"
    }
   ],
   "source": [
    "type(s1)"
   ]
  },
  {
   "cell_type": "code",
   "execution_count": 60,
   "id": "f3335f4d-5721-4e52-b2db-bdb8328db4cf",
   "metadata": {},
   "outputs": [
    {
     "data": {
      "text/plain": [
       "{1, 2, 3, 4, 5}"
      ]
     },
     "execution_count": 60,
     "metadata": {},
     "output_type": "execute_result"
    }
   ],
   "source": [
    "s1"
   ]
  },
  {
   "cell_type": "code",
   "execution_count": 61,
   "id": "56a3b8ef-5610-4280-beee-ea4ba8912e9e",
   "metadata": {},
   "outputs": [],
   "source": [
    "s2={\"sudh\",'sudh',\"sudh\",1,1,1,1}"
   ]
  },
  {
   "cell_type": "code",
   "execution_count": 62,
   "id": "d686122f-1892-4cdf-8c6f-5cde56888538",
   "metadata": {},
   "outputs": [
    {
     "data": {
      "text/plain": [
       "{1, 'sudh'}"
      ]
     },
     "execution_count": 62,
     "metadata": {},
     "output_type": "execute_result"
    }
   ],
   "source": [
    "s2"
   ]
  },
  {
   "cell_type": "code",
   "execution_count": 63,
   "id": "4c805aac-2b9d-4585-b16c-20b56fb09c91",
   "metadata": {},
   "outputs": [
    {
     "data": {
      "text/plain": [
       "[1, 'sudh']"
      ]
     },
     "execution_count": 63,
     "metadata": {},
     "output_type": "execute_result"
    }
   ],
   "source": [
    "list(s2)"
   ]
  },
  {
   "cell_type": "code",
   "execution_count": 65,
   "id": "d6c92957-2b8f-4710-ba2f-4c6096f81e23",
   "metadata": {},
   "outputs": [
    {
     "data": {
      "text/plain": [
       "{300, 4, 5, 'pwskills', 'sudh'}"
      ]
     },
     "execution_count": 65,
     "metadata": {},
     "output_type": "execute_result"
    }
   ],
   "source": [
    "set(l2)"
   ]
  },
  {
   "cell_type": "code",
   "execution_count": 66,
   "id": "62e6828f-b748-490a-886d-dcc654e088e9",
   "metadata": {},
   "outputs": [
    {
     "data": {
      "text/plain": [
       "[300, 4, 5, 'pwskills', 'sudh']"
      ]
     },
     "execution_count": 66,
     "metadata": {},
     "output_type": "execute_result"
    }
   ],
   "source": [
    "l2"
   ]
  },
  {
   "cell_type": "code",
   "execution_count": 67,
   "id": "da340cb9-e710-4ace-b9c2-46e7113b1712",
   "metadata": {},
   "outputs": [
    {
     "data": {
      "text/plain": [
       "[1, 1, 1, 1, 2, 3, 4, 5]"
      ]
     },
     "execution_count": 67,
     "metadata": {},
     "output_type": "execute_result"
    }
   ],
   "source": [
    "l1=[1,1,1,1,2,3,4,5]\n",
    "l1"
   ]
  },
  {
   "cell_type": "code",
   "execution_count": 68,
   "id": "129fef33-393e-45ad-b758-5394e634f246",
   "metadata": {},
   "outputs": [
    {
     "data": {
      "text/plain": [
       "140214603577216"
      ]
     },
     "execution_count": 68,
     "metadata": {},
     "output_type": "execute_result"
    }
   ],
   "source": [
    "id(l1)"
   ]
  },
  {
   "cell_type": "code",
   "execution_count": 69,
   "id": "8c66846a-da8d-4b4e-8800-3beb7a916a67",
   "metadata": {},
   "outputs": [
    {
     "data": {
      "text/plain": [
       "{1, 2, 3, 4, 5}"
      ]
     },
     "execution_count": 69,
     "metadata": {},
     "output_type": "execute_result"
    }
   ],
   "source": [
    "set(l1)"
   ]
  },
  {
   "cell_type": "code",
   "execution_count": 70,
   "id": "ba649e43-9c95-4b9e-99ab-d8b48cdd2eec",
   "metadata": {},
   "outputs": [
    {
     "data": {
      "text/plain": [
       "140214607884384"
      ]
     },
     "execution_count": 70,
     "metadata": {},
     "output_type": "execute_result"
    }
   ],
   "source": [
    "id(set(l1))"
   ]
  },
  {
   "cell_type": "code",
   "execution_count": 71,
   "id": "ed90fe41-3f39-49d9-91cf-365e8426b18e",
   "metadata": {},
   "outputs": [
    {
     "data": {
      "text/plain": [
       "(1, 2, 3, 4, 5)"
      ]
     },
     "execution_count": 71,
     "metadata": {},
     "output_type": "execute_result"
    }
   ],
   "source": [
    "tuple(s1)"
   ]
  },
  {
   "cell_type": "code",
   "execution_count": 72,
   "id": "9f9d2d42-1797-4998-93b7-378e99600261",
   "metadata": {},
   "outputs": [
    {
     "data": {
      "text/plain": [
       "[1, 2, 3, 4, 45.67, True, 'Shreya', [12, 3, 4, 5]]"
      ]
     },
     "execution_count": 72,
     "metadata": {},
     "output_type": "execute_result"
    }
   ],
   "source": [
    "l"
   ]
  },
  {
   "cell_type": "code",
   "execution_count": 73,
   "id": "e0812dc4-92df-4ba7-b95d-536164f710a0",
   "metadata": {},
   "outputs": [
    {
     "ename": "TypeError",
     "evalue": "unhashable type: 'list'",
     "output_type": "error",
     "traceback": [
      "\u001b[0;31m---------------------------------------------------------------------------\u001b[0m",
      "\u001b[0;31mTypeError\u001b[0m                                 Traceback (most recent call last)",
      "Cell \u001b[0;32mIn[73], line 1\u001b[0m\n\u001b[0;32m----> 1\u001b[0m \u001b[38;5;28;43mset\u001b[39;49m\u001b[43m(\u001b[49m\u001b[43ml\u001b[49m\u001b[43m)\u001b[49m\n",
      "\u001b[0;31mTypeError\u001b[0m: unhashable type: 'list'"
     ]
    }
   ],
   "source": [
    "set(l)"
   ]
  },
  {
   "cell_type": "code",
   "execution_count": 74,
   "id": "df4fc68f-a4f4-4bde-82fa-b1acbe1e91e8",
   "metadata": {},
   "outputs": [
    {
     "ename": "TypeError",
     "evalue": "unhashable type: 'list'",
     "output_type": "error",
     "traceback": [
      "\u001b[0;31m---------------------------------------------------------------------------\u001b[0m",
      "\u001b[0;31mTypeError\u001b[0m                                 Traceback (most recent call last)",
      "Cell \u001b[0;32mIn[74], line 1\u001b[0m\n\u001b[0;32m----> 1\u001b[0m \u001b[38;5;28;43mhash\u001b[39;49m\u001b[43m(\u001b[49m\u001b[43ml\u001b[49m\u001b[43m)\u001b[49m\n",
      "\u001b[0;31mTypeError\u001b[0m: unhashable type: 'list'"
     ]
    }
   ],
   "source": [
    "hash(l)"
   ]
  },
  {
   "cell_type": "code",
   "execution_count": 75,
   "id": "9871e28b-6dbb-4c19-827b-306457415cd6",
   "metadata": {},
   "outputs": [
    {
     "ename": "TypeError",
     "evalue": "unhashable type: 'dict'",
     "output_type": "error",
     "traceback": [
      "\u001b[0;31m---------------------------------------------------------------------------\u001b[0m",
      "\u001b[0;31mTypeError\u001b[0m                                 Traceback (most recent call last)",
      "Cell \u001b[0;32mIn[75], line 1\u001b[0m\n\u001b[0;32m----> 1\u001b[0m \u001b[38;5;28;43mhash\u001b[39;49m\u001b[43m(\u001b[49m\u001b[43ms\u001b[49m\u001b[43m)\u001b[49m\n",
      "\u001b[0;31mTypeError\u001b[0m: unhashable type: 'dict'"
     ]
    }
   ],
   "source": [
    "hash(s)"
   ]
  },
  {
   "cell_type": "code",
   "execution_count": 76,
   "id": "ea84472a-835d-4382-a1da-998b67e01b4f",
   "metadata": {},
   "outputs": [
    {
     "data": {
      "text/plain": [
       "-5138258949781154543"
      ]
     },
     "execution_count": 76,
     "metadata": {},
     "output_type": "execute_result"
    }
   ],
   "source": [
    "hash(t)"
   ]
  },
  {
   "cell_type": "code",
   "execution_count": 77,
   "id": "4c25edbd-3a23-401b-83f6-751c53da2444",
   "metadata": {},
   "outputs": [
    {
     "ename": "KeyError",
     "evalue": "0",
     "output_type": "error",
     "traceback": [
      "\u001b[0;31m---------------------------------------------------------------------------\u001b[0m",
      "\u001b[0;31mKeyError\u001b[0m                                  Traceback (most recent call last)",
      "Cell \u001b[0;32mIn[77], line 1\u001b[0m\n\u001b[0;32m----> 1\u001b[0m \u001b[43ms\u001b[49m\u001b[43m[\u001b[49m\u001b[38;5;241;43m0\u001b[39;49m\u001b[43m]\u001b[49m\n",
      "\u001b[0;31mKeyError\u001b[0m: 0"
     ]
    }
   ],
   "source": [
    "s[0]"
   ]
  },
  {
   "cell_type": "code",
   "execution_count": 78,
   "id": "eccf4bc8-eaf6-453a-a1f3-6c7dd085aab0",
   "metadata": {},
   "outputs": [],
   "source": [
    "s[0]='sudh'"
   ]
  },
  {
   "cell_type": "code",
   "execution_count": 79,
   "id": "9a1b00ca-68fd-4ec6-9e04-5c23fd7f2c07",
   "metadata": {},
   "outputs": [
    {
     "data": {
      "text/plain": [
       "{0: 'sudh'}"
      ]
     },
     "execution_count": 79,
     "metadata": {},
     "output_type": "execute_result"
    }
   ],
   "source": [
    "s"
   ]
  },
  {
   "cell_type": "code",
   "execution_count": 80,
   "id": "d8971460-9095-4590-ae84-9a278147e14b",
   "metadata": {},
   "outputs": [],
   "source": [
    "s1='sh'\n",
    "s2='shreya'"
   ]
  },
  {
   "cell_type": "code",
   "execution_count": null,
   "id": "8ad24ac2-f056-4885-969f-27f8cfa0ac00",
   "metadata": {},
   "outputs": [],
   "source": [
    "s1 in s2"
   ]
  },
  {
   "cell_type": "code",
   "execution_count": 82,
   "id": "66056102-41b6-489c-85b5-4ab5d6508af1",
   "metadata": {},
   "outputs": [],
   "source": [
    "d1={}"
   ]
  },
  {
   "cell_type": "code",
   "execution_count": 84,
   "id": "89e19651-e76e-475d-8a83-b5fa5150ba22",
   "metadata": {},
   "outputs": [
    {
     "data": {
      "text/plain": [
       "dict"
      ]
     },
     "execution_count": 84,
     "metadata": {},
     "output_type": "execute_result"
    }
   ],
   "source": [
    "type(d1)"
   ]
  },
  {
   "cell_type": "code",
   "execution_count": 89,
   "id": "ac11c81d-9985-4158-ac24-e8baf966e68e",
   "metadata": {},
   "outputs": [],
   "source": [
    "d1={\"name\":'sudhanshu','subject':['data science','big data','data analytics'],\"number\":23}"
   ]
  },
  {
   "cell_type": "code",
   "execution_count": 90,
   "id": "efe611fa-af0f-47ce-8db1-7b211cc446f9",
   "metadata": {},
   "outputs": [
    {
     "data": {
      "text/plain": [
       "{'name': 'sudhanshu',\n",
       " 'subject': ['data science', 'big data', 'data analytics'],\n",
       " 'number': 23}"
      ]
     },
     "execution_count": 90,
     "metadata": {},
     "output_type": "execute_result"
    }
   ],
   "source": [
    "d1"
   ]
  },
  {
   "cell_type": "code",
   "execution_count": 91,
   "id": "7e8cdeb2-463c-4c45-afad-1aa86563889d",
   "metadata": {},
   "outputs": [
    {
     "ename": "TypeError",
     "evalue": "unhashable type: 'dict'",
     "output_type": "error",
     "traceback": [
      "\u001b[0;31m---------------------------------------------------------------------------\u001b[0m",
      "\u001b[0;31mTypeError\u001b[0m                                 Traceback (most recent call last)",
      "Cell \u001b[0;32mIn[91], line 1\u001b[0m\n\u001b[0;32m----> 1\u001b[0m \u001b[38;5;28;43mhash\u001b[39;49m\u001b[43m(\u001b[49m\u001b[43md1\u001b[49m\u001b[43m)\u001b[49m\n",
      "\u001b[0;31mTypeError\u001b[0m: unhashable type: 'dict'"
     ]
    }
   ],
   "source": [
    "hash(d1)"
   ]
  },
  {
   "cell_type": "code",
   "execution_count": 93,
   "id": "bf95bfa3-b660-491e-bf0d-fda0a8214843",
   "metadata": {},
   "outputs": [],
   "source": [
    "d1={\"name\":\"sudh\",'name':\"pwskills\"}"
   ]
  },
  {
   "cell_type": "code",
   "execution_count": 94,
   "id": "2f6391c0-19c3-4822-8590-2db8232b7c69",
   "metadata": {},
   "outputs": [
    {
     "data": {
      "text/plain": [
       "{'name': 'pwskills'}"
      ]
     },
     "execution_count": 94,
     "metadata": {},
     "output_type": "execute_result"
    }
   ],
   "source": [
    "d1"
   ]
  },
  {
   "cell_type": "code",
   "execution_count": 95,
   "id": "543cd8d9-4c53-4b0a-99bc-cdc7980a7257",
   "metadata": {},
   "outputs": [],
   "source": [
    "## in dictionary keys acts as the name indexes. Keys are equivalent to the name index"
   ]
  },
  {
   "cell_type": "code",
   "execution_count": 96,
   "id": "647e9612-11f4-4bd0-84b6-8acabccf4be4",
   "metadata": {},
   "outputs": [],
   "source": [
    "d2={2345:\"sudh\"}"
   ]
  },
  {
   "cell_type": "code",
   "execution_count": 97,
   "id": "36eab027-f799-4bd1-a2af-ffadbe4f2e7b",
   "metadata": {},
   "outputs": [
    {
     "data": {
      "text/plain": [
       "{2345: 'sudh'}"
      ]
     },
     "execution_count": 97,
     "metadata": {},
     "output_type": "execute_result"
    }
   ],
   "source": [
    "d2"
   ]
  },
  {
   "cell_type": "code",
   "execution_count": 98,
   "id": "c4991dff-a1e4-43f0-8df3-58e7bf15a014",
   "metadata": {},
   "outputs": [
    {
     "ename": "TypeError",
     "evalue": "unhashable type: 'list'",
     "output_type": "error",
     "traceback": [
      "\u001b[0;31m---------------------------------------------------------------------------\u001b[0m",
      "\u001b[0;31mTypeError\u001b[0m                                 Traceback (most recent call last)",
      "Cell \u001b[0;32mIn[98], line 1\u001b[0m\n\u001b[0;32m----> 1\u001b[0m d3\u001b[38;5;241m=\u001b[39m{[\u001b[38;5;241m23\u001b[39m,\u001b[38;5;241m34\u001b[39m,\u001b[38;5;241m5\u001b[39m]:\u001b[38;5;124m\"\u001b[39m\u001b[38;5;124msudh\u001b[39m\u001b[38;5;124m\"\u001b[39m}\n",
      "\u001b[0;31mTypeError\u001b[0m: unhashable type: 'list'"
     ]
    }
   ],
   "source": [
    "d3={[23,34,5]:\"sudh\"}"
   ]
  },
  {
   "cell_type": "code",
   "execution_count": 100,
   "id": "7587931c-88d8-4ee5-be8e-22d709411a4e",
   "metadata": {},
   "outputs": [],
   "source": [
    "d4={(1,2,3,4):'sudh'}"
   ]
  },
  {
   "cell_type": "code",
   "execution_count": 101,
   "id": "4a3ff4d8-cc6e-4325-a799-af3df846e5f4",
   "metadata": {},
   "outputs": [
    {
     "data": {
      "text/plain": [
       "{(1, 2, 3, 4): 'sudh'}"
      ]
     },
     "execution_count": 101,
     "metadata": {},
     "output_type": "execute_result"
    }
   ],
   "source": [
    "d4"
   ]
  },
  {
   "cell_type": "code",
   "execution_count": 102,
   "id": "b67fbeba-77ed-40d6-bcf4-8c8da7aaa43d",
   "metadata": {},
   "outputs": [],
   "source": [
    "d5={\"shrrrri\":34}"
   ]
  },
  {
   "cell_type": "code",
   "execution_count": 103,
   "id": "3607ebd2-1c0b-4b69-80cd-e342fca82faf",
   "metadata": {},
   "outputs": [
    {
     "data": {
      "text/plain": [
       "{'shrrrri': 34}"
      ]
     },
     "execution_count": 103,
     "metadata": {},
     "output_type": "execute_result"
    }
   ],
   "source": [
    "d5"
   ]
  },
  {
   "cell_type": "code",
   "execution_count": 104,
   "id": "8c279c61-9993-4092-ae86-b773b9009de6",
   "metadata": {},
   "outputs": [
    {
     "data": {
      "text/plain": [
       "-6277057605676830817"
      ]
     },
     "execution_count": 104,
     "metadata": {},
     "output_type": "execute_result"
    }
   ],
   "source": [
    "hash('shtrrri')"
   ]
  },
  {
   "cell_type": "code",
   "execution_count": 130,
   "id": "21771136-536b-42ac-a3c5-737e04f98ff1",
   "metadata": {},
   "outputs": [],
   "source": [
    "d5={\"course\":['dsa','java','python','blocakchain'],\n",
    "   'mentor':('sudhanshu','krish','vishwa','sunny'),\n",
    "   \"prices\":{3500,23000,11000,3500},\n",
    "    \"duration\":1, \n",
    "    'access_year':1,\n",
    "   \"syallbus\":{'python':['core python','dsa','oops','exception handling','numpy','pandas','databases'],\n",
    "    'machine learning':['supervised','unsupervised','llm']}}\n"
   ]
  },
  {
   "cell_type": "code",
   "execution_count": 131,
   "id": "ae58782a-f402-4c24-a870-9843dbf272d0",
   "metadata": {},
   "outputs": [
    {
     "data": {
      "text/plain": [
       "{'course': ['dsa', 'java', 'python', 'blocakchain'],\n",
       " 'mentor': ('sudhanshu', 'krish', 'vishwa', 'sunny'),\n",
       " 'prices': {3500, 11000, 23000},\n",
       " 'duration': 1,\n",
       " 'access_year': 1,\n",
       " 'syallbus': {'python': ['core python',\n",
       "   'dsa',\n",
       "   'oops',\n",
       "   'exception handling',\n",
       "   'numpy',\n",
       "   'pandas',\n",
       "   'databases'],\n",
       "  'machine learning': ['supervised', 'unsupervised', 'llm']}}"
      ]
     },
     "execution_count": 131,
     "metadata": {},
     "output_type": "execute_result"
    }
   ],
   "source": [
    "d5"
   ]
  },
  {
   "cell_type": "code",
   "execution_count": 132,
   "id": "ea195a20-699c-4760-846a-a5e4544d719a",
   "metadata": {},
   "outputs": [],
   "source": [
    "## value can be duplicate but key can not "
   ]
  },
  {
   "cell_type": "code",
   "execution_count": 133,
   "id": "0f96a815-5278-4976-af7b-cbb5b4ac05f9",
   "metadata": {},
   "outputs": [
    {
     "data": {
      "text/plain": [
       "['dsa', 'java', 'python', 'blocakchain']"
      ]
     },
     "execution_count": 133,
     "metadata": {},
     "output_type": "execute_result"
    }
   ],
   "source": [
    "d5['course']"
   ]
  },
  {
   "cell_type": "code",
   "execution_count": 134,
   "id": "ed8139ca-baa3-4567-98eb-90bba9608860",
   "metadata": {},
   "outputs": [
    {
     "data": {
      "text/plain": [
       "('sudhanshu', 'krish', 'vishwa', 'sunny')"
      ]
     },
     "execution_count": 134,
     "metadata": {},
     "output_type": "execute_result"
    }
   ],
   "source": [
    "d5['mentor']"
   ]
  },
  {
   "cell_type": "code",
   "execution_count": 135,
   "id": "7a849538-eec3-40dd-a9fc-f82ddbd7186e",
   "metadata": {},
   "outputs": [
    {
     "data": {
      "text/plain": [
       "{3500, 11000, 23000}"
      ]
     },
     "execution_count": 135,
     "metadata": {},
     "output_type": "execute_result"
    }
   ],
   "source": [
    "d5['prices']"
   ]
  },
  {
   "cell_type": "code",
   "execution_count": 136,
   "id": "f1a16261-8c63-4034-b3ed-9feca8a1bdbf",
   "metadata": {},
   "outputs": [
    {
     "ename": "TypeError",
     "evalue": "unhashable type: 'dict'",
     "output_type": "error",
     "traceback": [
      "\u001b[0;31m---------------------------------------------------------------------------\u001b[0m",
      "\u001b[0;31mTypeError\u001b[0m                                 Traceback (most recent call last)",
      "Cell \u001b[0;32mIn[136], line 1\u001b[0m\n\u001b[0;32m----> 1\u001b[0m \u001b[38;5;28;43mhash\u001b[39;49m\u001b[43m(\u001b[49m\u001b[43md5\u001b[49m\u001b[43m)\u001b[49m\n",
      "\u001b[0;31mTypeError\u001b[0m: unhashable type: 'dict'"
     ]
    }
   ],
   "source": [
    "hash(d5)"
   ]
  },
  {
   "cell_type": "code",
   "execution_count": 137,
   "id": "d5e43b19-ac3f-44e7-aa98-7b42aa343925",
   "metadata": {},
   "outputs": [],
   "source": [
    "d5['certification']=True"
   ]
  },
  {
   "cell_type": "code",
   "execution_count": 138,
   "id": "b98e747b-e6c5-4b97-8817-85547b64548e",
   "metadata": {},
   "outputs": [
    {
     "data": {
      "text/plain": [
       "{'course': ['dsa', 'java', 'python', 'blocakchain'],\n",
       " 'mentor': ('sudhanshu', 'krish', 'vishwa', 'sunny'),\n",
       " 'prices': {3500, 11000, 23000},\n",
       " 'duration': 1,\n",
       " 'access_year': 1,\n",
       " 'syallbus': {'python': ['core python',\n",
       "   'dsa',\n",
       "   'oops',\n",
       "   'exception handling',\n",
       "   'numpy',\n",
       "   'pandas',\n",
       "   'databases'],\n",
       "  'machine learning': ['supervised', 'unsupervised', 'llm']},\n",
       " 'certification': True}"
      ]
     },
     "execution_count": 138,
     "metadata": {},
     "output_type": "execute_result"
    }
   ],
   "source": [
    "d5"
   ]
  },
  {
   "cell_type": "code",
   "execution_count": 139,
   "id": "586be9fb-7d24-4808-aef7-753cddbab131",
   "metadata": {},
   "outputs": [
    {
     "data": {
      "text/plain": [
       "[1, 2, 3, 4, 45.67, True, 'Shreya', [12, 3, 4, 5]]"
      ]
     },
     "execution_count": 139,
     "metadata": {},
     "output_type": "execute_result"
    }
   ],
   "source": [
    "l"
   ]
  },
  {
   "cell_type": "code",
   "execution_count": 143,
   "id": "8c93e99a-a7da-475f-801c-c5b9c502b647",
   "metadata": {},
   "outputs": [],
   "source": [
    "s1=\"pwskills\""
   ]
  },
  {
   "cell_type": "code",
   "execution_count": 144,
   "id": "5fc3093a-84a6-4616-936c-ae0c43105a6e",
   "metadata": {},
   "outputs": [
    {
     "data": {
      "text/plain": [
       "2"
      ]
     },
     "execution_count": 144,
     "metadata": {},
     "output_type": "execute_result"
    }
   ],
   "source": [
    "s1.count('l')"
   ]
  },
  {
   "cell_type": "code",
   "execution_count": 145,
   "id": "7f64554f-a572-4a23-a050-6a463b8a27e7",
   "metadata": {},
   "outputs": [
    {
     "data": {
      "text/plain": [
       "2"
      ]
     },
     "execution_count": 145,
     "metadata": {},
     "output_type": "execute_result"
    }
   ],
   "source": [
    "s1.count('s')"
   ]
  },
  {
   "cell_type": "code",
   "execution_count": 146,
   "id": "45797434-d489-4140-9aa1-bc64860a7f8c",
   "metadata": {},
   "outputs": [
    {
     "data": {
      "text/plain": [
       "0"
      ]
     },
     "execution_count": 146,
     "metadata": {},
     "output_type": "execute_result"
    }
   ],
   "source": [
    "s1.count('f')"
   ]
  },
  {
   "cell_type": "code",
   "execution_count": 147,
   "id": "8a9a7ad2-7644-4cd5-b246-fad813f65bf9",
   "metadata": {},
   "outputs": [
    {
     "data": {
      "text/plain": [
       "2"
      ]
     },
     "execution_count": 147,
     "metadata": {},
     "output_type": "execute_result"
    }
   ],
   "source": [
    "s1.find('s')"
   ]
  },
  {
   "cell_type": "code",
   "execution_count": 148,
   "id": "aeba53df-eef6-4dab-9027-0c3de297fda1",
   "metadata": {},
   "outputs": [
    {
     "data": {
      "text/plain": [
       "5"
      ]
     },
     "execution_count": 148,
     "metadata": {},
     "output_type": "execute_result"
    }
   ],
   "source": [
    "s1.find('l')"
   ]
  },
  {
   "cell_type": "code",
   "execution_count": 149,
   "id": "0340b9c5-12df-46f9-bd74-5c8a5f5435a2",
   "metadata": {},
   "outputs": [
    {
     "data": {
      "text/plain": [
       "-1"
      ]
     },
     "execution_count": 149,
     "metadata": {},
     "output_type": "execute_result"
    }
   ],
   "source": [
    "s1.find('f')"
   ]
  },
  {
   "cell_type": "code",
   "execution_count": 150,
   "id": "c397cc67-c4c5-48d2-bee8-f3af8ea94923",
   "metadata": {},
   "outputs": [
    {
     "data": {
      "text/plain": [
       "2"
      ]
     },
     "execution_count": 150,
     "metadata": {},
     "output_type": "execute_result"
    }
   ],
   "source": [
    "s1.index('s')"
   ]
  },
  {
   "cell_type": "code",
   "execution_count": 151,
   "id": "8ba99742-312c-41f1-88ba-e3b1f425a1c9",
   "metadata": {},
   "outputs": [
    {
     "ename": "ValueError",
     "evalue": "substring not found",
     "output_type": "error",
     "traceback": [
      "\u001b[0;31m---------------------------------------------------------------------------\u001b[0m",
      "\u001b[0;31mValueError\u001b[0m                                Traceback (most recent call last)",
      "Cell \u001b[0;32mIn[151], line 1\u001b[0m\n\u001b[0;32m----> 1\u001b[0m \u001b[43ms1\u001b[49m\u001b[38;5;241;43m.\u001b[39;49m\u001b[43mindex\u001b[49m\u001b[43m(\u001b[49m\u001b[38;5;124;43m'\u001b[39;49m\u001b[38;5;124;43mz\u001b[39;49m\u001b[38;5;124;43m'\u001b[39;49m\u001b[43m)\u001b[49m\n",
      "\u001b[0;31mValueError\u001b[0m: substring not found"
     ]
    }
   ],
   "source": [
    "s1.index('z')"
   ]
  },
  {
   "cell_type": "code",
   "execution_count": 152,
   "id": "aa77e45b-5b5f-41e7-9141-ffbbef8537bb",
   "metadata": {},
   "outputs": [
    {
     "data": {
      "text/plain": [
       "{0: 'sudh'}"
      ]
     },
     "execution_count": 152,
     "metadata": {},
     "output_type": "execute_result"
    }
   ],
   "source": [
    "s"
   ]
  },
  {
   "cell_type": "code",
   "execution_count": 153,
   "id": "9ddf0747-6022-49ff-958a-ed30515984a5",
   "metadata": {},
   "outputs": [
    {
     "data": {
      "text/plain": [
       "'Pwskills'"
      ]
     },
     "execution_count": 153,
     "metadata": {},
     "output_type": "execute_result"
    }
   ],
   "source": [
    "s1.title()"
   ]
  },
  {
   "cell_type": "code",
   "execution_count": 154,
   "id": "6e37ad35-b16b-4b2f-bbbf-c102ac67b386",
   "metadata": {},
   "outputs": [
    {
     "data": {
      "text/plain": [
       "'pwskills'"
      ]
     },
     "execution_count": 154,
     "metadata": {},
     "output_type": "execute_result"
    }
   ],
   "source": [
    "s1.lower()"
   ]
  },
  {
   "cell_type": "code",
   "execution_count": 155,
   "id": "795582dd-25a2-42d8-be4a-3d5ebd1b7ee8",
   "metadata": {},
   "outputs": [],
   "source": [
    "s1='my name is vaishnavi ghadge'"
   ]
  },
  {
   "cell_type": "code",
   "execution_count": 156,
   "id": "2a7ab4f0-2db8-4ed3-af67-f4c9b24408bb",
   "metadata": {},
   "outputs": [
    {
     "data": {
      "text/plain": [
       "'my name is vaishnavi ghadge'"
      ]
     },
     "execution_count": 156,
     "metadata": {},
     "output_type": "execute_result"
    }
   ],
   "source": [
    "s1"
   ]
  },
  {
   "cell_type": "code",
   "execution_count": 157,
   "id": "e68275cb-1e3e-436f-b34a-43d66543bbd0",
   "metadata": {},
   "outputs": [
    {
     "data": {
      "text/plain": [
       "['my', 'name', 'is', 'vaishnavi', 'ghadge']"
      ]
     },
     "execution_count": 157,
     "metadata": {},
     "output_type": "execute_result"
    }
   ],
   "source": [
    "s1.split()"
   ]
  },
  {
   "cell_type": "code",
   "execution_count": 158,
   "id": "03a5b07d-f88a-4590-a974-e42652774240",
   "metadata": {},
   "outputs": [],
   "source": [
    "s1='my name, is vaishnavi ghadge'"
   ]
  },
  {
   "cell_type": "code",
   "execution_count": 160,
   "id": "c3e130d6-2a40-4c5f-ae93-74b69fb646e3",
   "metadata": {},
   "outputs": [
    {
     "data": {
      "text/plain": [
       "['my', 'name,', 'is', 'vaishnavi', 'ghadge']"
      ]
     },
     "execution_count": 160,
     "metadata": {},
     "output_type": "execute_result"
    }
   ],
   "source": [
    "s1.split(' ')"
   ]
  },
  {
   "cell_type": "code",
   "execution_count": 165,
   "id": "6cbcf9e0-142a-4498-ae06-2d7c8a71acea",
   "metadata": {},
   "outputs": [],
   "source": [
    "s1='this is my fsds class.i am attaining the this 4th time'"
   ]
  },
  {
   "cell_type": "code",
   "execution_count": 166,
   "id": "afeb11d2-f8ac-4729-925e-c2ed4a5a2b5c",
   "metadata": {},
   "outputs": [
    {
     "data": {
      "text/plain": [
       "'this is my fsds class'"
      ]
     },
     "execution_count": 166,
     "metadata": {},
     "output_type": "execute_result"
    }
   ],
   "source": [
    "s1.split('.')[0]"
   ]
  },
  {
   "cell_type": "code",
   "execution_count": 167,
   "id": "2b3a735a-507f-4ec1-b626-e5a9d6aa94ca",
   "metadata": {},
   "outputs": [
    {
     "data": {
      "text/plain": [
       "'i am attaining the this 4th time'"
      ]
     },
     "execution_count": 167,
     "metadata": {},
     "output_type": "execute_result"
    }
   ],
   "source": [
    "s1.split('.')[1]"
   ]
  },
  {
   "cell_type": "code",
   "execution_count": 168,
   "id": "fba92017-9873-4834-aa9f-a1156065df11",
   "metadata": {},
   "outputs": [
    {
     "data": {
      "text/plain": [
       "'This is my fsds class.i am attaining the this 4th time'"
      ]
     },
     "execution_count": 168,
     "metadata": {},
     "output_type": "execute_result"
    }
   ],
   "source": [
    "s1.capitalize()"
   ]
  },
  {
   "cell_type": "code",
   "execution_count": 169,
   "id": "0af10fbc-373b-4255-891f-8c7875181bc9",
   "metadata": {},
   "outputs": [
    {
     "data": {
      "text/plain": [
       "'Shreya'"
      ]
     },
     "execution_count": 169,
     "metadata": {},
     "output_type": "execute_result"
    }
   ],
   "source": [
    "s2.capitalize()"
   ]
  },
  {
   "cell_type": "code",
   "execution_count": 170,
   "id": "c8a6a232-7c16-4a49-9423-ecc26c8d7717",
   "metadata": {},
   "outputs": [
    {
     "data": {
      "text/plain": [
       "'This Is My Fsds Class.I Am Attaining The This 4Th Time'"
      ]
     },
     "execution_count": 170,
     "metadata": {},
     "output_type": "execute_result"
    }
   ],
   "source": [
    "s1.title()"
   ]
  },
  {
   "cell_type": "code",
   "execution_count": 171,
   "id": "daaf5bd3-f46a-476e-8c1f-8962792a3304",
   "metadata": {},
   "outputs": [
    {
     "data": {
      "text/plain": [
       "'this is my fsds class.i am attaiNiNg the this 4th time'"
      ]
     },
     "execution_count": 171,
     "metadata": {},
     "output_type": "execute_result"
    }
   ],
   "source": [
    "s1.replace('n','N')"
   ]
  },
  {
   "cell_type": "code",
   "execution_count": 172,
   "id": "9e88f00f-ab91-4e97-af2e-9bfb3cef53a6",
   "metadata": {},
   "outputs": [],
   "source": [
    "s2=\"vaishnavi ghadge\""
   ]
  },
  {
   "cell_type": "code",
   "execution_count": 173,
   "id": "300315ae-07a9-4ba9-9975-3e4bfe7e78a0",
   "metadata": {},
   "outputs": [
    {
     "data": {
      "text/plain": [
       "'shrenavi ghadge'"
      ]
     },
     "execution_count": 173,
     "metadata": {},
     "output_type": "execute_result"
    }
   ],
   "source": [
    "s2.replace('vaish','shre')"
   ]
  },
  {
   "cell_type": "code",
   "execution_count": 174,
   "id": "754e8339-ccde-427f-8aca-382588d28126",
   "metadata": {},
   "outputs": [],
   "source": [
    "s2=\"shreya\""
   ]
  },
  {
   "cell_type": "code",
   "execution_count": 175,
   "id": "00244bb0-fb19-4973-9597-b20ef09406c0",
   "metadata": {},
   "outputs": [
    {
     "data": {
      "text/plain": [
       "140214605151792"
      ]
     },
     "execution_count": 175,
     "metadata": {},
     "output_type": "execute_result"
    }
   ],
   "source": [
    "id(s2)"
   ]
  },
  {
   "cell_type": "code",
   "execution_count": 177,
   "id": "fa5cd8e6-d4f4-46d4-bad6-252e4ea60554",
   "metadata": {},
   "outputs": [],
   "source": [
    "ans=s2.replace(\"sh\",'vai')"
   ]
  },
  {
   "cell_type": "code",
   "execution_count": 178,
   "id": "909cbfa4-bafd-444b-8aad-31e5aa02dafa",
   "metadata": {},
   "outputs": [
    {
     "data": {
      "text/plain": [
       "140214603657392"
      ]
     },
     "execution_count": 178,
     "metadata": {},
     "output_type": "execute_result"
    }
   ],
   "source": [
    "id(ans)"
   ]
  },
  {
   "cell_type": "code",
   "execution_count": 179,
   "id": "3f629d40-f5a6-4bac-b74c-e558f03a9373",
   "metadata": {},
   "outputs": [
    {
     "data": {
      "text/plain": [
       "'shreya'"
      ]
     },
     "execution_count": 179,
     "metadata": {},
     "output_type": "execute_result"
    }
   ],
   "source": [
    "s2"
   ]
  },
  {
   "cell_type": "code",
   "execution_count": null,
   "id": "daead3af-0208-4ac7-896b-153d79b3f343",
   "metadata": {},
   "outputs": [],
   "source": [
    "## strings are immutable. replace() is creating another referance and then change it "
   ]
  },
  {
   "cell_type": "code",
   "execution_count": 185,
   "id": "430c3247-44c1-467e-ac38-0fb03de2c8c1",
   "metadata": {},
   "outputs": [
    {
     "data": {
      "text/plain": [
       "'$$$$$$$$$$$$$$$$$$$$$$shreya$$$$$$$$$$$$$$$$$$$$$$'"
      ]
     },
     "execution_count": 185,
     "metadata": {},
     "output_type": "execute_result"
    }
   ],
   "source": [
    "s2.center(50,'$')"
   ]
  },
  {
   "cell_type": "code",
   "execution_count": 187,
   "id": "7c4f7ac7-f7a0-47c8-8a4a-9c27a034eca3",
   "metadata": {},
   "outputs": [
    {
     "data": {
      "text/plain": [
       "'shreya'"
      ]
     },
     "execution_count": 187,
     "metadata": {},
     "output_type": "execute_result"
    }
   ],
   "source": [
    "s2"
   ]
  },
  {
   "cell_type": "code",
   "execution_count": 188,
   "id": "361125c4-257b-4f43-904d-d14b70ebed15",
   "metadata": {},
   "outputs": [
    {
     "data": {
      "text/plain": [
       "'this is my fsds class.i am attaining the this 4th time'"
      ]
     },
     "execution_count": 188,
     "metadata": {},
     "output_type": "execute_result"
    }
   ],
   "source": [
    "s1.strip()"
   ]
  },
  {
   "cell_type": "code",
   "execution_count": 189,
   "id": "2d8e3617-4c40-4db0-8270-2318761ee764",
   "metadata": {},
   "outputs": [
    {
     "data": {
      "text/plain": [
       "'this is my fsds class.i am attaining the this 4th time'"
      ]
     },
     "execution_count": 189,
     "metadata": {},
     "output_type": "execute_result"
    }
   ],
   "source": [
    "s1.lstrip()"
   ]
  },
  {
   "cell_type": "code",
   "execution_count": 190,
   "id": "b143c427-67f7-4607-b213-966b16acf480",
   "metadata": {},
   "outputs": [
    {
     "data": {
      "text/plain": [
       "'this is my fsds class.i am attaining the this 4th time'"
      ]
     },
     "execution_count": 190,
     "metadata": {},
     "output_type": "execute_result"
    }
   ],
   "source": [
    "s1.rstrip()"
   ]
  },
  {
   "cell_type": "code",
   "execution_count": 191,
   "id": "e07fcd98-8b73-44c0-9329-3f3f5f0c1691",
   "metadata": {},
   "outputs": [
    {
     "data": {
      "text/plain": [
       "False"
      ]
     },
     "execution_count": 191,
     "metadata": {},
     "output_type": "execute_result"
    }
   ],
   "source": [
    "s1.isupper()"
   ]
  },
  {
   "cell_type": "code",
   "execution_count": 192,
   "id": "cd68fb90-c6e3-4e62-862d-8fb06a147434",
   "metadata": {},
   "outputs": [
    {
     "data": {
      "text/plain": [
       "False"
      ]
     },
     "execution_count": 192,
     "metadata": {},
     "output_type": "execute_result"
    }
   ],
   "source": [
    "s1.isalnum()"
   ]
  },
  {
   "cell_type": "code",
   "execution_count": 193,
   "id": "f966a929-3008-4a48-bd0e-f113f0150632",
   "metadata": {},
   "outputs": [
    {
     "data": {
      "text/plain": [
       "False"
      ]
     },
     "execution_count": 193,
     "metadata": {},
     "output_type": "execute_result"
    }
   ],
   "source": [
    "s1.isnumeric()"
   ]
  },
  {
   "cell_type": "code",
   "execution_count": 194,
   "id": "8d35d558-27fb-40f2-a238-af87eb91e3de",
   "metadata": {},
   "outputs": [
    {
     "data": {
      "text/plain": [
       "[1, 1, 1, 1, 2, 3, 4, 5]"
      ]
     },
     "execution_count": 194,
     "metadata": {},
     "output_type": "execute_result"
    }
   ],
   "source": [
    "l1"
   ]
  },
  {
   "cell_type": "code",
   "execution_count": 195,
   "id": "70b51159-2929-4e85-a40b-9c2586461af2",
   "metadata": {},
   "outputs": [
    {
     "data": {
      "text/plain": [
       "[1, 2, 3, 4, 45.67, True, 'Shreya', [12, 3, 4, 5]]"
      ]
     },
     "execution_count": 195,
     "metadata": {},
     "output_type": "execute_result"
    }
   ],
   "source": [
    "l"
   ]
  },
  {
   "cell_type": "code",
   "execution_count": 196,
   "id": "d3f70567-cc96-4458-b409-9532653a06fe",
   "metadata": {},
   "outputs": [],
   "source": [
    "l.append(23)"
   ]
  },
  {
   "cell_type": "code",
   "execution_count": 197,
   "id": "5878e1d8-220b-45f3-b887-dec16560764e",
   "metadata": {},
   "outputs": [
    {
     "data": {
      "text/plain": [
       "[1, 2, 3, 4, 45.67, True, 'Shreya', [12, 3, 4, 5], 23]"
      ]
     },
     "execution_count": 197,
     "metadata": {},
     "output_type": "execute_result"
    }
   ],
   "source": [
    "l"
   ]
  },
  {
   "cell_type": "code",
   "execution_count": 198,
   "id": "c37167ef-23a5-43fc-815b-4158c96a9500",
   "metadata": {},
   "outputs": [
    {
     "data": {
      "text/plain": [
       "[1, 2, 3, 4, 45.67, True, 'Shreya', [12, 3, 4, 5], 23]"
      ]
     },
     "execution_count": 198,
     "metadata": {},
     "output_type": "execute_result"
    }
   ],
   "source": [
    "l"
   ]
  },
  {
   "cell_type": "code",
   "execution_count": 202,
   "id": "dbb0bf24-076b-4a6c-bba3-7e734af659ee",
   "metadata": {},
   "outputs": [],
   "source": [
    "l.insert(4,0)"
   ]
  },
  {
   "cell_type": "code",
   "execution_count": 203,
   "id": "563d2cf8-13cb-46d1-a5ac-9dca9d3fe3a6",
   "metadata": {},
   "outputs": [
    {
     "data": {
      "text/plain": [
       "[2, 1, 2, 3, 0, 4, 45.67, True, 'Shreya', [12, 3, 4, 5], 23]"
      ]
     },
     "execution_count": 203,
     "metadata": {},
     "output_type": "execute_result"
    }
   ],
   "source": [
    "l"
   ]
  },
  {
   "cell_type": "code",
   "execution_count": 205,
   "id": "31c1cb7e-6f21-493a-a9d2-53c30cd0465a",
   "metadata": {},
   "outputs": [],
   "source": [
    "l.extend([23])"
   ]
  },
  {
   "cell_type": "code",
   "execution_count": 206,
   "id": "ca2acd76-9c88-44b6-a0f4-170670d6c721",
   "metadata": {},
   "outputs": [
    {
     "data": {
      "text/plain": [
       "[2, 1, 2, 3, 0, 4, 45.67, True, 'Shreya', [12, 3, 4, 5], 23, 23]"
      ]
     },
     "execution_count": 206,
     "metadata": {},
     "output_type": "execute_result"
    }
   ],
   "source": [
    "l"
   ]
  },
  {
   "cell_type": "code",
   "execution_count": 207,
   "id": "4c4b04b9-8fe2-4340-bb46-d7480b999ad4",
   "metadata": {},
   "outputs": [],
   "source": [
    "l2.append('sudh')"
   ]
  },
  {
   "cell_type": "code",
   "execution_count": 208,
   "id": "2b0cc2e1-c266-479b-bd57-416f0ed851d7",
   "metadata": {},
   "outputs": [
    {
     "data": {
      "text/plain": [
       "[300, 4, 5, 'pwskills', 'sudh', 'sudh']"
      ]
     },
     "execution_count": 208,
     "metadata": {},
     "output_type": "execute_result"
    }
   ],
   "source": [
    "l2"
   ]
  },
  {
   "cell_type": "code",
   "execution_count": 209,
   "id": "ab5fa347-42c3-4ab7-adac-6d863f187412",
   "metadata": {},
   "outputs": [],
   "source": [
    "l3=[1,2,3,4,5]"
   ]
  },
  {
   "cell_type": "code",
   "execution_count": 210,
   "id": "a5034b80-849f-4901-9684-465f394b4d3f",
   "metadata": {},
   "outputs": [],
   "source": [
    "l3.append([1,4,4,3])"
   ]
  },
  {
   "cell_type": "code",
   "execution_count": 211,
   "id": "d67c8290-4503-4fc2-bbb0-760b9abd1a62",
   "metadata": {},
   "outputs": [
    {
     "data": {
      "text/plain": [
       "[1, 2, 3, 4, 5, [1, 4, 4, 3]]"
      ]
     },
     "execution_count": 211,
     "metadata": {},
     "output_type": "execute_result"
    }
   ],
   "source": [
    "l3"
   ]
  },
  {
   "cell_type": "code",
   "execution_count": 212,
   "id": "c7e7ada8-8cc9-428d-a26f-ef34a1830d02",
   "metadata": {},
   "outputs": [],
   "source": [
    "l3.extend([1,2,3,4])"
   ]
  },
  {
   "cell_type": "code",
   "execution_count": 213,
   "id": "265634e3-77ba-45b2-9654-11e18bd14f5e",
   "metadata": {},
   "outputs": [
    {
     "data": {
      "text/plain": [
       "[1, 2, 3, 4, 5, [1, 4, 4, 3], 1, 2, 3, 4]"
      ]
     },
     "execution_count": 213,
     "metadata": {},
     "output_type": "execute_result"
    }
   ],
   "source": [
    "l3"
   ]
  },
  {
   "cell_type": "code",
   "execution_count": 214,
   "id": "860e55d0-832d-4e73-827b-39bd47d638fb",
   "metadata": {},
   "outputs": [],
   "source": [
    "l3.insert(2,['shreya','pooja'])"
   ]
  },
  {
   "cell_type": "code",
   "execution_count": 215,
   "id": "e6f6f0ec-f3e4-4627-aaff-1a3fb0923937",
   "metadata": {},
   "outputs": [
    {
     "data": {
      "text/plain": [
       "[1, 2, ['shreya', 'pooja'], 3, 4, 5, [1, 4, 4, 3], 1, 2, 3, 4]"
      ]
     },
     "execution_count": 215,
     "metadata": {},
     "output_type": "execute_result"
    }
   ],
   "source": [
    "l3"
   ]
  },
  {
   "cell_type": "code",
   "execution_count": 216,
   "id": "ccabb230-bc0a-4f3a-8155-9a344d0391bf",
   "metadata": {},
   "outputs": [
    {
     "data": {
      "text/plain": [
       "4"
      ]
     },
     "execution_count": 216,
     "metadata": {},
     "output_type": "execute_result"
    }
   ],
   "source": [
    "l3.pop()"
   ]
  },
  {
   "cell_type": "code",
   "execution_count": 218,
   "id": "cecf520b-3052-443b-bd80-0e3226db9664",
   "metadata": {},
   "outputs": [],
   "source": [
    "l3.remove(1)"
   ]
  },
  {
   "cell_type": "code",
   "execution_count": 219,
   "id": "c64829d8-b256-41cc-8144-7005ab2856c1",
   "metadata": {},
   "outputs": [
    {
     "data": {
      "text/plain": [
       "[2, ['shreya', 'pooja'], 3, 4, 5, [1, 4, 4, 3], 1, 2, 3]"
      ]
     },
     "execution_count": 219,
     "metadata": {},
     "output_type": "execute_result"
    }
   ],
   "source": [
    "l3"
   ]
  },
  {
   "cell_type": "code",
   "execution_count": 221,
   "id": "ed5e6b39-dc02-4ef4-b5a1-c73d79333d97",
   "metadata": {},
   "outputs": [
    {
     "data": {
      "text/plain": [
       "['shreya', 'pooja']"
      ]
     },
     "execution_count": 221,
     "metadata": {},
     "output_type": "execute_result"
    }
   ],
   "source": [
    "l3.pop(1)"
   ]
  },
  {
   "cell_type": "code",
   "execution_count": 222,
   "id": "71ead13c-18f1-4cdd-8a0d-a0b0031553ef",
   "metadata": {},
   "outputs": [
    {
     "data": {
      "text/plain": [
       "[2, 3, 4, 5, [1, 4, 4, 3], 1, 2, 3]"
      ]
     },
     "execution_count": 222,
     "metadata": {},
     "output_type": "execute_result"
    }
   ],
   "source": [
    "l3"
   ]
  },
  {
   "cell_type": "code",
   "execution_count": 223,
   "id": "3f1536ea-78f3-4ac3-bf51-7d11ee3629b6",
   "metadata": {},
   "outputs": [
    {
     "data": {
      "text/plain": [
       "3"
      ]
     },
     "execution_count": 223,
     "metadata": {},
     "output_type": "execute_result"
    }
   ],
   "source": [
    "l3.pop()"
   ]
  },
  {
   "cell_type": "code",
   "execution_count": 224,
   "id": "5f4a4a3c-fabc-4175-a20f-b134b7855fdd",
   "metadata": {},
   "outputs": [
    {
     "data": {
      "text/plain": [
       "[2, 3, 4, 5, [1, 4, 4, 3], 1, 2]"
      ]
     },
     "execution_count": 224,
     "metadata": {},
     "output_type": "execute_result"
    }
   ],
   "source": [
    "l3"
   ]
  },
  {
   "cell_type": "code",
   "execution_count": 225,
   "id": "9a800c39-333b-4d3b-a5e2-4084e615d03e",
   "metadata": {},
   "outputs": [],
   "source": [
    "del s"
   ]
  },
  {
   "cell_type": "code",
   "execution_count": 226,
   "id": "97df771a-b9ad-415e-b687-66ab2ad8db44",
   "metadata": {},
   "outputs": [
    {
     "ename": "NameError",
     "evalue": "name 's' is not defined",
     "output_type": "error",
     "traceback": [
      "\u001b[0;31m---------------------------------------------------------------------------\u001b[0m",
      "\u001b[0;31mNameError\u001b[0m                                 Traceback (most recent call last)",
      "Cell \u001b[0;32mIn[226], line 1\u001b[0m\n\u001b[0;32m----> 1\u001b[0m \u001b[43ms\u001b[49m\n",
      "\u001b[0;31mNameError\u001b[0m: name 's' is not defined"
     ]
    }
   ],
   "source": [
    "s"
   ]
  },
  {
   "cell_type": "code",
   "execution_count": 227,
   "id": "9ef37e59-1922-4c6c-8da0-2662cd1be12f",
   "metadata": {},
   "outputs": [
    {
     "data": {
      "text/plain": [
       "[300, 4, 5, 'pwskills', 'sudh', 'sudh']"
      ]
     },
     "execution_count": 227,
     "metadata": {},
     "output_type": "execute_result"
    }
   ],
   "source": [
    "l2"
   ]
  },
  {
   "cell_type": "code",
   "execution_count": 228,
   "id": "44b99d4e-ccf0-4008-be9a-e9034c461045",
   "metadata": {},
   "outputs": [],
   "source": [
    "l2.remove(300)"
   ]
  },
  {
   "cell_type": "code",
   "execution_count": 229,
   "id": "8921bac6-d2e8-4e35-8360-c12b7bd3df48",
   "metadata": {},
   "outputs": [
    {
     "data": {
      "text/plain": [
       "[4, 5, 'pwskills', 'sudh', 'sudh']"
      ]
     },
     "execution_count": 229,
     "metadata": {},
     "output_type": "execute_result"
    }
   ],
   "source": [
    "l2"
   ]
  },
  {
   "cell_type": "code",
   "execution_count": 231,
   "id": "78ed2ca4-d34e-4c1c-881a-91b54569725a",
   "metadata": {},
   "outputs": [],
   "source": [
    "l2.remove('sudh')"
   ]
  },
  {
   "cell_type": "markdown",
   "id": "70ab5e4f-d366-45ef-a02a-0ffcff03c76a",
   "metadata": {},
   "source": []
  },
  {
   "cell_type": "code",
   "execution_count": 232,
   "id": "5dd3c158-324d-4e24-bc6b-3718d8d8ed5c",
   "metadata": {},
   "outputs": [
    {
     "data": {
      "text/plain": [
       "[4, 5, 'pwskills', 'sudh']"
      ]
     },
     "execution_count": 232,
     "metadata": {},
     "output_type": "execute_result"
    }
   ],
   "source": [
    "l2"
   ]
  },
  {
   "cell_type": "code",
   "execution_count": 233,
   "id": "dd6eaec9-2d08-4a16-b3b3-3f3aa9b4ce34",
   "metadata": {},
   "outputs": [
    {
     "ename": "ValueError",
     "evalue": "list.remove(x): x not in list",
     "output_type": "error",
     "traceback": [
      "\u001b[0;31m---------------------------------------------------------------------------\u001b[0m",
      "\u001b[0;31mValueError\u001b[0m                                Traceback (most recent call last)",
      "Cell \u001b[0;32mIn[233], line 1\u001b[0m\n\u001b[0;32m----> 1\u001b[0m \u001b[43ml2\u001b[49m\u001b[38;5;241;43m.\u001b[39;49m\u001b[43mremove\u001b[49m\u001b[43m(\u001b[49m\u001b[38;5;124;43m'\u001b[39;49m\u001b[38;5;124;43mz\u001b[39;49m\u001b[38;5;124;43m'\u001b[39;49m\u001b[43m)\u001b[49m\n",
      "\u001b[0;31mValueError\u001b[0m: list.remove(x): x not in list"
     ]
    }
   ],
   "source": [
    "l2.remove('z')"
   ]
  },
  {
   "cell_type": "code",
   "execution_count": 234,
   "id": "bec18cbf-4a28-4b52-ab86-1eb18144929c",
   "metadata": {},
   "outputs": [
    {
     "ename": "IndexError",
     "evalue": "pop index out of range",
     "output_type": "error",
     "traceback": [
      "\u001b[0;31m---------------------------------------------------------------------------\u001b[0m",
      "\u001b[0;31mIndexError\u001b[0m                                Traceback (most recent call last)",
      "Cell \u001b[0;32mIn[234], line 1\u001b[0m\n\u001b[0;32m----> 1\u001b[0m \u001b[43ml2\u001b[49m\u001b[38;5;241;43m.\u001b[39;49m\u001b[43mpop\u001b[49m\u001b[43m(\u001b[49m\u001b[38;5;241;43m10000\u001b[39;49m\u001b[43m)\u001b[49m\n",
      "\u001b[0;31mIndexError\u001b[0m: pop index out of range"
     ]
    }
   ],
   "source": [
    "l2.pop(10000)"
   ]
  },
  {
   "cell_type": "code",
   "execution_count": 235,
   "id": "1e002df7-3236-4bcb-9ddc-9f2f417fa0af",
   "metadata": {},
   "outputs": [],
   "source": [
    "l1.clear()"
   ]
  },
  {
   "cell_type": "code",
   "execution_count": 238,
   "id": "0dbac003-c0b4-4992-aca5-89b1d9e76bc0",
   "metadata": {},
   "outputs": [
    {
     "data": {
      "text/plain": [
       "[2, 1, 2, 3, 0, 4, 45.67, True, 'Shreya', [12, 3, 4, 5], 23, 23]"
      ]
     },
     "execution_count": 238,
     "metadata": {},
     "output_type": "execute_result"
    }
   ],
   "source": [
    "l"
   ]
  },
  {
   "cell_type": "code",
   "execution_count": 241,
   "id": "1e5457b8-6873-498e-8b4d-0c30171107d1",
   "metadata": {},
   "outputs": [
    {
     "data": {
      "text/plain": [
       "0"
      ]
     },
     "execution_count": 241,
     "metadata": {},
     "output_type": "execute_result"
    }
   ],
   "source": [
    "l.index(2)"
   ]
  },
  {
   "cell_type": "code",
   "execution_count": 243,
   "id": "af39df75-e633-4c0f-b593-d6abad1605e4",
   "metadata": {},
   "outputs": [
    {
     "data": {
      "text/plain": [
       "[4, 5, 'pwskills', 'sudh']"
      ]
     },
     "execution_count": 243,
     "metadata": {},
     "output_type": "execute_result"
    }
   ],
   "source": [
    "l2"
   ]
  },
  {
   "cell_type": "code",
   "execution_count": 244,
   "id": "c3e1ae33-8c97-4b0e-a8ef-b55b7bc3f039",
   "metadata": {},
   "outputs": [
    {
     "data": {
      "text/plain": [
       "1"
      ]
     },
     "execution_count": 244,
     "metadata": {},
     "output_type": "execute_result"
    }
   ],
   "source": [
    "l2.count(4)"
   ]
  },
  {
   "cell_type": "code",
   "execution_count": 245,
   "id": "6963408b-f428-42d9-93ca-9d9b2c72d070",
   "metadata": {},
   "outputs": [
    {
     "data": {
      "text/plain": [
       "0"
      ]
     },
     "execution_count": 245,
     "metadata": {},
     "output_type": "execute_result"
    }
   ],
   "source": [
    "l2.index(4)"
   ]
  },
  {
   "cell_type": "code",
   "execution_count": 246,
   "id": "0ffd110d-e748-4351-9568-f98953079ad5",
   "metadata": {},
   "outputs": [
    {
     "data": {
      "text/plain": [
       "[4, 5, 'pwskills', 'sudh']"
      ]
     },
     "execution_count": 246,
     "metadata": {},
     "output_type": "execute_result"
    }
   ],
   "source": [
    "l2"
   ]
  },
  {
   "cell_type": "code",
   "execution_count": 247,
   "id": "7b0128b7-e5cd-4927-85e3-f295fb22f4de",
   "metadata": {},
   "outputs": [
    {
     "ename": "TypeError",
     "evalue": "'<' not supported between instances of 'str' and 'int'",
     "output_type": "error",
     "traceback": [
      "\u001b[0;31m---------------------------------------------------------------------------\u001b[0m",
      "\u001b[0;31mTypeError\u001b[0m                                 Traceback (most recent call last)",
      "Cell \u001b[0;32mIn[247], line 1\u001b[0m\n\u001b[0;32m----> 1\u001b[0m \u001b[43ml2\u001b[49m\u001b[38;5;241;43m.\u001b[39;49m\u001b[43msort\u001b[49m\u001b[43m(\u001b[49m\u001b[43m)\u001b[49m\n",
      "\u001b[0;31mTypeError\u001b[0m: '<' not supported between instances of 'str' and 'int'"
     ]
    }
   ],
   "source": [
    "l2.sort()"
   ]
  },
  {
   "cell_type": "code",
   "execution_count": 248,
   "id": "d1a7e8c9-71be-42a1-8b2a-a31c5a0702e7",
   "metadata": {},
   "outputs": [],
   "source": [
    "l3=[12,3,4,21,-1]"
   ]
  },
  {
   "cell_type": "code",
   "execution_count": 249,
   "id": "3649b994-ad72-4e72-9f08-823220f17f43",
   "metadata": {},
   "outputs": [],
   "source": [
    "l3.sort()"
   ]
  },
  {
   "cell_type": "code",
   "execution_count": 250,
   "id": "27ff875e-5084-431d-b2d5-0528b0c09a0e",
   "metadata": {},
   "outputs": [
    {
     "data": {
      "text/plain": [
       "[-1, 3, 4, 12, 21]"
      ]
     },
     "execution_count": 250,
     "metadata": {},
     "output_type": "execute_result"
    }
   ],
   "source": [
    "l3"
   ]
  },
  {
   "cell_type": "code",
   "execution_count": 251,
   "id": "87aa8084-89be-426d-a7a6-43b161e7a20b",
   "metadata": {},
   "outputs": [
    {
     "data": {
      "text/plain": [
       "[-1, 3, 4, 12, 21]"
      ]
     },
     "execution_count": 251,
     "metadata": {},
     "output_type": "execute_result"
    }
   ],
   "source": [
    "l3\n"
   ]
  },
  {
   "cell_type": "code",
   "execution_count": 257,
   "id": "8fd9d9e0-9f2d-4be1-a7f5-c66de34dec87",
   "metadata": {},
   "outputs": [],
   "source": [
    "l4=['sudh','shreya','suyush','aback']"
   ]
  },
  {
   "cell_type": "code",
   "execution_count": 258,
   "id": "7f5317d8-9b02-4228-b5bb-2cce3168d19a",
   "metadata": {},
   "outputs": [],
   "source": [
    "l4.sort(reverse=True)"
   ]
  },
  {
   "cell_type": "code",
   "execution_count": 259,
   "id": "430b88a8-fca1-41be-96af-4e70659bc95f",
   "metadata": {},
   "outputs": [
    {
     "data": {
      "text/plain": [
       "['suyush', 'sudh', 'shreya', 'aback']"
      ]
     },
     "execution_count": 259,
     "metadata": {},
     "output_type": "execute_result"
    }
   ],
   "source": [
    "l4"
   ]
  },
  {
   "cell_type": "code",
   "execution_count": 260,
   "id": "fe017c5c-785d-492d-a672-c4583276d5b7",
   "metadata": {},
   "outputs": [],
   "source": [
    "l2.reverse()"
   ]
  },
  {
   "cell_type": "code",
   "execution_count": 261,
   "id": "4e7c5803-484e-41b3-8a90-a0b2f3b40e39",
   "metadata": {},
   "outputs": [
    {
     "data": {
      "text/plain": [
       "['sudh', 'pwskills', 5, 4]"
      ]
     },
     "execution_count": 261,
     "metadata": {},
     "output_type": "execute_result"
    }
   ],
   "source": [
    "l2"
   ]
  },
  {
   "cell_type": "code",
   "execution_count": 262,
   "id": "a43959d0-70c4-4961-b394-27f8ce82e03e",
   "metadata": {},
   "outputs": [
    {
     "data": {
      "text/plain": [
       "[4, 5, 'pwskills', 'sudh']"
      ]
     },
     "execution_count": 262,
     "metadata": {},
     "output_type": "execute_result"
    }
   ],
   "source": [
    "l2[::-1]"
   ]
  },
  {
   "cell_type": "code",
   "execution_count": 270,
   "id": "e51a5c2c-8809-46ea-8a7b-e67a774baf9d",
   "metadata": {},
   "outputs": [],
   "source": [
    "l5=[0,2,5,2,5,2,-1,-1]"
   ]
  },
  {
   "cell_type": "code",
   "execution_count": 271,
   "id": "3fd69f8b-57e5-457e-b7b1-8cbde7b2c83e",
   "metadata": {},
   "outputs": [
    {
     "data": {
      "text/plain": [
       "{-1, 0, 2, 5}"
      ]
     },
     "execution_count": 271,
     "metadata": {},
     "output_type": "execute_result"
    }
   ],
   "source": [
    "set(l5)"
   ]
  },
  {
   "cell_type": "code",
   "execution_count": 272,
   "id": "75187b8f-3af7-4f78-bc32-ba3ebf1c2aed",
   "metadata": {},
   "outputs": [],
   "source": [
    "ans=list(set(l5))"
   ]
  },
  {
   "cell_type": "code",
   "execution_count": 273,
   "id": "8461a2bf-d542-493b-95d9-a51172370e00",
   "metadata": {},
   "outputs": [],
   "source": [
    "ans.sort()"
   ]
  },
  {
   "cell_type": "code",
   "execution_count": 274,
   "id": "02e8ab0a-ee97-49f2-be06-f6800875e919",
   "metadata": {},
   "outputs": [
    {
     "data": {
      "text/plain": [
       "[-1, 0, 2, 5]"
      ]
     },
     "execution_count": 274,
     "metadata": {},
     "output_type": "execute_result"
    }
   ],
   "source": [
    "ans"
   ]
  },
  {
   "cell_type": "code",
   "execution_count": 275,
   "id": "c199af2f-ab2d-4247-8dbe-e5b1ceac4b1f",
   "metadata": {},
   "outputs": [],
   "source": [
    "l0=[2,3,4,5]"
   ]
  },
  {
   "cell_type": "code",
   "execution_count": 276,
   "id": "66511760-0238-4b22-81ac-aa35cd2aee64",
   "metadata": {},
   "outputs": [
    {
     "data": {
      "text/plain": [
       "[2, 3, 4, 5]"
      ]
     },
     "execution_count": 276,
     "metadata": {},
     "output_type": "execute_result"
    }
   ],
   "source": [
    "l0"
   ]
  },
  {
   "cell_type": "code",
   "execution_count": 277,
   "id": "0da2ae79-61a8-4bd8-8e55-0042775f1ac8",
   "metadata": {},
   "outputs": [],
   "source": [
    "l1=l0"
   ]
  },
  {
   "cell_type": "code",
   "execution_count": 278,
   "id": "a1213ab6-b39a-4995-baff-623117ea0d98",
   "metadata": {},
   "outputs": [
    {
     "data": {
      "text/plain": [
       "[2, 3, 4, 5]"
      ]
     },
     "execution_count": 278,
     "metadata": {},
     "output_type": "execute_result"
    }
   ],
   "source": [
    "l1"
   ]
  },
  {
   "cell_type": "code",
   "execution_count": 279,
   "id": "13553dde-3102-4f1a-9e3f-761b281fcbb5",
   "metadata": {},
   "outputs": [
    {
     "data": {
      "text/plain": [
       "140214598632960"
      ]
     },
     "execution_count": 279,
     "metadata": {},
     "output_type": "execute_result"
    }
   ],
   "source": [
    "id(l1)"
   ]
  },
  {
   "cell_type": "code",
   "execution_count": 280,
   "id": "5069e415-1d8d-4d8b-9cda-afb3d8757f72",
   "metadata": {},
   "outputs": [
    {
     "data": {
      "text/plain": [
       "140214598632960"
      ]
     },
     "execution_count": 280,
     "metadata": {},
     "output_type": "execute_result"
    }
   ],
   "source": [
    "id(l0)"
   ]
  },
  {
   "cell_type": "code",
   "execution_count": 281,
   "id": "6169124c-8ae8-4478-b185-378163119fdf",
   "metadata": {},
   "outputs": [],
   "source": [
    "l0[0]='shreya'"
   ]
  },
  {
   "cell_type": "code",
   "execution_count": 282,
   "id": "63b93caa-d404-432e-95b2-40f7940b5faa",
   "metadata": {},
   "outputs": [
    {
     "data": {
      "text/plain": [
       "['shreya', 3, 4, 5]"
      ]
     },
     "execution_count": 282,
     "metadata": {},
     "output_type": "execute_result"
    }
   ],
   "source": [
    "l0"
   ]
  },
  {
   "cell_type": "code",
   "execution_count": 283,
   "id": "644b53f1-1f19-4ca7-a873-0b3355ab1996",
   "metadata": {},
   "outputs": [
    {
     "data": {
      "text/plain": [
       "['shreya', 3, 4, 5]"
      ]
     },
     "execution_count": 283,
     "metadata": {},
     "output_type": "execute_result"
    }
   ],
   "source": [
    "l1"
   ]
  },
  {
   "cell_type": "code",
   "execution_count": 285,
   "id": "01c8321b-819c-436a-8062-d2dbe7507511",
   "metadata": {},
   "outputs": [],
   "source": [
    "l2=l1.copy()"
   ]
  },
  {
   "cell_type": "markdown",
   "id": "0b05d300-21dd-4025-9bbf-d412c92cb16b",
   "metadata": {},
   "source": [
    "## "
   ]
  },
  {
   "cell_type": "code",
   "execution_count": 286,
   "id": "e1d5fa48-a79a-4e2f-8653-db2328897e7d",
   "metadata": {},
   "outputs": [
    {
     "data": {
      "text/plain": [
       "['shreya', 3, 4, 5]"
      ]
     },
     "execution_count": 286,
     "metadata": {},
     "output_type": "execute_result"
    }
   ],
   "source": [
    "l2"
   ]
  },
  {
   "cell_type": "code",
   "execution_count": 287,
   "id": "b9d12a92-7388-405e-a24d-cc587b1d6b0d",
   "metadata": {},
   "outputs": [],
   "source": [
    "l1[0]='pooja'"
   ]
  },
  {
   "cell_type": "code",
   "execution_count": 288,
   "id": "8623b2f1-98fb-444f-b753-650f107e93ba",
   "metadata": {},
   "outputs": [
    {
     "data": {
      "text/plain": [
       "['pooja', 3, 4, 5]"
      ]
     },
     "execution_count": 288,
     "metadata": {},
     "output_type": "execute_result"
    }
   ],
   "source": [
    "l1"
   ]
  },
  {
   "cell_type": "code",
   "execution_count": 289,
   "id": "a64ff913-3fc1-4718-9c3f-19363e954840",
   "metadata": {},
   "outputs": [
    {
     "data": {
      "text/plain": [
       "['shreya', 3, 4, 5]"
      ]
     },
     "execution_count": 289,
     "metadata": {},
     "output_type": "execute_result"
    }
   ],
   "source": [
    "l2"
   ]
  },
  {
   "cell_type": "code",
   "execution_count": 290,
   "id": "084fa04b-b985-447b-ae1f-ac7988fdf02b",
   "metadata": {},
   "outputs": [
    {
     "data": {
      "text/plain": [
       "['pooja', 3, 4, 5]"
      ]
     },
     "execution_count": 290,
     "metadata": {},
     "output_type": "execute_result"
    }
   ],
   "source": [
    "l0\n"
   ]
  },
  {
   "cell_type": "code",
   "execution_count": 291,
   "id": "2d093e2b-1d22-40e4-8875-6cd9179762a6",
   "metadata": {},
   "outputs": [
    {
     "data": {
      "text/plain": [
       "(12, 34, 56, 67, 'suhd')"
      ]
     },
     "execution_count": 291,
     "metadata": {},
     "output_type": "execute_result"
    }
   ],
   "source": [
    "t"
   ]
  },
  {
   "cell_type": "code",
   "execution_count": 293,
   "id": "79d2fc80-bf1b-4e1d-895b-737c52df51a9",
   "metadata": {},
   "outputs": [
    {
     "data": {
      "text/plain": [
       "0"
      ]
     },
     "execution_count": 293,
     "metadata": {},
     "output_type": "execute_result"
    }
   ],
   "source": [
    "t.index(12)"
   ]
  },
  {
   "cell_type": "code",
   "execution_count": 294,
   "id": "3541e9a6-b81e-401a-a0d0-8616fc9f3125",
   "metadata": {},
   "outputs": [
    {
     "data": {
      "text/plain": [
       "1"
      ]
     },
     "execution_count": 294,
     "metadata": {},
     "output_type": "execute_result"
    }
   ],
   "source": [
    "t.count(12)"
   ]
  },
  {
   "cell_type": "code",
   "execution_count": 296,
   "id": "d75080bf-e4fc-43e1-8c44-2b7e478bd7c5",
   "metadata": {},
   "outputs": [],
   "source": [
    "s={12,3,4,56,78,0,21,34,21,7,8,9,0,0,9}"
   ]
  },
  {
   "cell_type": "code",
   "execution_count": 297,
   "id": "f895cf0e-b3a4-4544-a9ba-bdae39d300c0",
   "metadata": {},
   "outputs": [
    {
     "data": {
      "text/plain": [
       "{0, 3, 4, 7, 8, 9, 12, 21, 34, 56, 78}"
      ]
     },
     "execution_count": 297,
     "metadata": {},
     "output_type": "execute_result"
    }
   ],
   "source": [
    "s"
   ]
  },
  {
   "cell_type": "code",
   "execution_count": 298,
   "id": "3f07daf1-7757-47ee-9663-b47a696ac768",
   "metadata": {},
   "outputs": [
    {
     "data": {
      "text/plain": [
       "set"
      ]
     },
     "execution_count": 298,
     "metadata": {},
     "output_type": "execute_result"
    }
   ],
   "source": [
    "type(s)"
   ]
  },
  {
   "cell_type": "code",
   "execution_count": 301,
   "id": "302a3bd9-2492-42f3-a802-969136aa64aa",
   "metadata": {},
   "outputs": [],
   "source": [
    "s.add(-2)"
   ]
  },
  {
   "cell_type": "code",
   "execution_count": 302,
   "id": "4da90bdd-84db-4342-97ca-d35b99ea8da8",
   "metadata": {},
   "outputs": [
    {
     "data": {
      "text/plain": [
       "{-2, 0, 2, 3, 4, 7, 8, 9, 12, 21, 34, 56, 78}"
      ]
     },
     "execution_count": 302,
     "metadata": {},
     "output_type": "execute_result"
    }
   ],
   "source": [
    "s"
   ]
  },
  {
   "cell_type": "code",
   "execution_count": 303,
   "id": "fa1ea8fe-e6ce-4668-bb1b-d29236a96b03",
   "metadata": {},
   "outputs": [],
   "source": [
    "s.clear()"
   ]
  },
  {
   "cell_type": "code",
   "execution_count": 304,
   "id": "e6705f3e-2dd9-4298-8e9c-eac3d22dde37",
   "metadata": {},
   "outputs": [
    {
     "data": {
      "text/plain": [
       "set()"
      ]
     },
     "execution_count": 304,
     "metadata": {},
     "output_type": "execute_result"
    }
   ],
   "source": [
    "s"
   ]
  },
  {
   "cell_type": "code",
   "execution_count": 305,
   "id": "67111dfb-148e-4193-bf31-73a5d7a5909b",
   "metadata": {},
   "outputs": [],
   "source": [
    "s1={12,3,4,56,78,0,21,34,21,7,8,9,0,0,9}"
   ]
  },
  {
   "cell_type": "code",
   "execution_count": 306,
   "id": "10609a8a-0d83-437c-bbc6-66a172871b32",
   "metadata": {},
   "outputs": [],
   "source": [
    "s1.remove(9)"
   ]
  },
  {
   "cell_type": "code",
   "execution_count": 307,
   "id": "56b20d14-a561-4171-a408-c53eb3c4d535",
   "metadata": {},
   "outputs": [
    {
     "data": {
      "text/plain": [
       "{0, 3, 4, 7, 8, 12, 21, 34, 56, 78}"
      ]
     },
     "execution_count": 307,
     "metadata": {},
     "output_type": "execute_result"
    }
   ],
   "source": [
    "s1"
   ]
  },
  {
   "cell_type": "code",
   "execution_count": 308,
   "id": "8253b1e9-c498-43c3-83be-04e0282642d4",
   "metadata": {},
   "outputs": [],
   "source": [
    "s1.discard(9)"
   ]
  },
  {
   "cell_type": "code",
   "execution_count": 309,
   "id": "8f873bc1-7ce7-4e92-8913-19e9dabc20a8",
   "metadata": {},
   "outputs": [
    {
     "data": {
      "text/plain": [
       "{0, 3, 4, 7, 8, 12, 21, 34, 56, 78}"
      ]
     },
     "execution_count": 309,
     "metadata": {},
     "output_type": "execute_result"
    }
   ],
   "source": [
    "s1"
   ]
  },
  {
   "cell_type": "code",
   "execution_count": 310,
   "id": "49adb7f0-0a49-4617-8443-cdaa74503c0d",
   "metadata": {},
   "outputs": [
    {
     "ename": "KeyError",
     "evalue": "-8",
     "output_type": "error",
     "traceback": [
      "\u001b[0;31m---------------------------------------------------------------------------\u001b[0m",
      "\u001b[0;31mKeyError\u001b[0m                                  Traceback (most recent call last)",
      "Cell \u001b[0;32mIn[310], line 1\u001b[0m\n\u001b[0;32m----> 1\u001b[0m \u001b[43ms1\u001b[49m\u001b[38;5;241;43m.\u001b[39;49m\u001b[43mremove\u001b[49m\u001b[43m(\u001b[49m\u001b[38;5;241;43m-\u001b[39;49m\u001b[38;5;241;43m8\u001b[39;49m\u001b[43m)\u001b[49m\n",
      "\u001b[0;31mKeyError\u001b[0m: -8"
     ]
    }
   ],
   "source": [
    "s1.remove(-8)"
   ]
  },
  {
   "cell_type": "code",
   "execution_count": 311,
   "id": "ac8460ef-936d-419f-87d0-3f004c38fc77",
   "metadata": {},
   "outputs": [],
   "source": [
    "s1.discard(-8)"
   ]
  },
  {
   "cell_type": "code",
   "execution_count": 312,
   "id": "0dff10b1-3aa2-44b0-90d9-0f2a943e6f8e",
   "metadata": {},
   "outputs": [
    {
     "data": {
      "text/plain": [
       "{0, 3, 4, 7, 8, 12, 21, 34, 56, 78}"
      ]
     },
     "execution_count": 312,
     "metadata": {},
     "output_type": "execute_result"
    }
   ],
   "source": [
    "s1"
   ]
  },
  {
   "cell_type": "code",
   "execution_count": 313,
   "id": "b73a5e41-a8c5-4be1-a22d-ccf376761357",
   "metadata": {},
   "outputs": [
    {
     "data": {
      "text/plain": [
       "{'course': ['dsa', 'java', 'python', 'blocakchain'],\n",
       " 'mentor': ('sudhanshu', 'krish', 'vishwa', 'sunny'),\n",
       " 'prices': {3500, 11000, 23000},\n",
       " 'duration': 1,\n",
       " 'access_year': 1,\n",
       " 'syallbus': {'python': ['core python',\n",
       "   'dsa',\n",
       "   'oops',\n",
       "   'exception handling',\n",
       "   'numpy',\n",
       "   'pandas',\n",
       "   'databases'],\n",
       "  'machine learning': ['supervised', 'unsupervised', 'llm']},\n",
       " 'certification': True}"
      ]
     },
     "execution_count": 313,
     "metadata": {},
     "output_type": "execute_result"
    }
   ],
   "source": [
    "d5"
   ]
  },
  {
   "cell_type": "code",
   "execution_count": 314,
   "id": "1d6732c3-b4ea-4418-9aeb-8ed06791517c",
   "metadata": {},
   "outputs": [
    {
     "data": {
      "text/plain": [
       "dict_keys(['course', 'mentor', 'prices', 'duration', 'access_year', 'syallbus', 'certification'])"
      ]
     },
     "execution_count": 314,
     "metadata": {},
     "output_type": "execute_result"
    }
   ],
   "source": [
    "d5.keys()"
   ]
  },
  {
   "cell_type": "code",
   "execution_count": 318,
   "id": "e79ba4b4-85a8-41ac-ab40-395c620039eb",
   "metadata": {},
   "outputs": [
    {
     "data": {
      "text/plain": [
       "list[dict_values([['dsa', 'java', 'python', 'blocakchain'], ('sudhanshu', 'krish', 'vishwa', 'sunny'), {23000, 11000, 3500}, 1, 1, {'python': ['core python', 'dsa', 'oops', 'exception handling', 'numpy', 'pandas', 'databases'], 'machine learning': ['supervised', 'unsupervised', 'llm']}, True])]"
      ]
     },
     "execution_count": 318,
     "metadata": {},
     "output_type": "execute_result"
    }
   ],
   "source": [
    "list[d5.values()]"
   ]
  },
  {
   "cell_type": "code",
   "execution_count": 320,
   "id": "b4c29c18-2c45-457a-83a3-2134fdbfaf08",
   "metadata": {},
   "outputs": [
    {
     "data": {
      "text/plain": [
       "dict_items([('course', ['dsa', 'java', 'python', 'blocakchain']), ('mentor', ('sudhanshu', 'krish', 'vishwa', 'sunny')), ('prices', {23000, 11000, 3500}), ('duration', 1), ('access_year', 1), ('syallbus', {'python': ['core python', 'dsa', 'oops', 'exception handling', 'numpy', 'pandas', 'databases'], 'machine learning': ['supervised', 'unsupervised', 'llm']}), ('certification', True)])"
      ]
     },
     "execution_count": 320,
     "metadata": {},
     "output_type": "execute_result"
    }
   ],
   "source": [
    "d5.items()"
   ]
  },
  {
   "cell_type": "code",
   "execution_count": 321,
   "id": "ca9dc094-820e-48f0-a5db-b46b0b09ee44",
   "metadata": {},
   "outputs": [
    {
     "data": {
      "text/plain": [
       "['dsa', 'java', 'python', 'blocakchain']"
      ]
     },
     "execution_count": 321,
     "metadata": {},
     "output_type": "execute_result"
    }
   ],
   "source": [
    "d5.get('course')"
   ]
  },
  {
   "cell_type": "code",
   "execution_count": 323,
   "id": "9a95b51f-06b1-45c1-9c94-44989f434ef5",
   "metadata": {},
   "outputs": [
    {
     "data": {
      "text/plain": [
       "['dsa', 'java', 'python', 'blocakchain']"
      ]
     },
     "execution_count": 323,
     "metadata": {},
     "output_type": "execute_result"
    }
   ],
   "source": [
    "d5['course']"
   ]
  },
  {
   "cell_type": "code",
   "execution_count": 324,
   "id": "3535754a-5867-4a86-9ba8-cfbe387ad2eb",
   "metadata": {},
   "outputs": [],
   "source": [
    "d5['quality']=\"As always BEST\""
   ]
  },
  {
   "cell_type": "code",
   "execution_count": 326,
   "id": "68b744c4-2e5b-4bcc-92f7-abad1ec55942",
   "metadata": {},
   "outputs": [
    {
     "data": {
      "text/plain": [
       "{'course': ['dsa', 'java', 'python', 'blocakchain'],\n",
       " 'mentor': ('sudhanshu', 'krish', 'vishwa', 'sunny'),\n",
       " 'prices': {3500, 11000, 23000},\n",
       " 'duration': 1,\n",
       " 'access_year': 1,\n",
       " 'syallbus': {'python': ['core python',\n",
       "   'dsa',\n",
       "   'oops',\n",
       "   'exception handling',\n",
       "   'numpy',\n",
       "   'pandas',\n",
       "   'databases'],\n",
       "  'machine learning': ['supervised', 'unsupervised', 'llm']},\n",
       " 'certification': True,\n",
       " 'quality': 'As always BEST'}"
      ]
     },
     "execution_count": 326,
     "metadata": {},
     "output_type": "execute_result"
    }
   ],
   "source": [
    "d5"
   ]
  },
  {
   "cell_type": "code",
   "execution_count": null,
   "id": "d2aa2fcb-0e04-42cd-a9d8-7c478f4fce88",
   "metadata": {},
   "outputs": [],
   "source": []
  }
 ],
 "metadata": {
  "kernelspec": {
   "display_name": "Python 3 (ipykernel)",
   "language": "python",
   "name": "python3"
  },
  "language_info": {
   "codemirror_mode": {
    "name": "ipython",
    "version": 3
   },
   "file_extension": ".py",
   "mimetype": "text/x-python",
   "name": "python",
   "nbconvert_exporter": "python",
   "pygments_lexer": "ipython3",
   "version": "3.10.8"
  }
 },
 "nbformat": 4,
 "nbformat_minor": 5
}
