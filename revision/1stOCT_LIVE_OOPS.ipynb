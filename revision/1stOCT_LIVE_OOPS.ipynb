{
 "cells": [
  {
   "cell_type": "markdown",
   "id": "02e2001a-d8d1-436b-ad7b-47497b0f9250",
   "metadata": {},
   "source": [
    "# oops "
   ]
  },
  {
   "cell_type": "raw",
   "id": "e0127c6e-275b-47e3-9998-c2b25667c847",
   "metadata": {},
   "source": [
    "## scripting  vs moduling:\n",
    "without creating the module the scripting works \n",
    "without creating classess and objects \n",
    "python supports both scripting and oop also\n",
    "scripting does not provide module creating\n",
    "In oops everything is considered as classess and objects\n",
    "##pypy is one library used to publish another developed library\n",
    "maintaining the code, adoptation of the code is required so oops is used \n"
   ]
  },
  {
   "cell_type": "raw",
   "id": "4988a718-a85c-4c0a-82b7-8f4d0f8932b6",
   "metadata": {},
   "source": [
    "class : the classification of real world entity based on some similar  properties.\n",
    "object :the instance/ variable of the class"
   ]
  },
  {
   "cell_type": "code",
   "execution_count": 1,
   "id": "fe1b7257-165a-4ac1-9b59-b6690294c0ee",
   "metadata": {},
   "outputs": [],
   "source": [
    "a=12\n",
    "b=23\n",
    "c=34\n",
    "# the common thing between a,b and c is that all of them belong to the int class"
   ]
  },
  {
   "cell_type": "raw",
   "id": "881dc68b-1d7b-44d0-b0d8-0e69c1cf7101",
   "metadata": {},
   "source": [
    "int is the class and variables we are creating are the object of that class."
   ]
  },
  {
   "cell_type": "code",
   "execution_count": 2,
   "id": "2e60dee2-e638-4438-9524-a3696c87c2ab",
   "metadata": {},
   "outputs": [],
   "source": [
    "#very first argument should be the referance of the class i.e denoted by self.\n",
    "class BankAccount:\n",
    "    def open_account(self,name,email_id):\n",
    "        print(\"open and account by taking name and emialid \")\n",
    "        return name+email_id\n",
    "    \n",
    "    def deposit(self,amount):\n",
    "        print(\"i am trying to deposit an ammount in the account\")\n",
    "        \n",
    "    def withdraw(self,amt_withd):\n",
    "        print(\"withdraw the ammount \")\n",
    "    \n",
    "    def update_details(self,name_update,email_update):\n",
    "        print(\"update name and email id for the user\")\n",
    "        \n",
    "#all of the fucntion belong to the single class     \n",
    "#all are generic functions not specific one \n",
    "# for all users the options will be same \n",
    "#class acts as the umbrella for all the functions\n"
   ]
  },
  {
   "cell_type": "code",
   "execution_count": 3,
   "id": "440965fc-b2c8-4e5a-bf80-82597534bbd1",
   "metadata": {},
   "outputs": [],
   "source": [
    "def open_account(name,email_id):\n",
    "        print(\"open and account by taking name and emialid \")\n",
    "        return name+email_id"
   ]
  },
  {
   "cell_type": "code",
   "execution_count": 4,
   "id": "da84c31a-6841-4312-9c35-32efd607aee1",
   "metadata": {},
   "outputs": [
    {
     "name": "stdout",
     "output_type": "stream",
     "text": [
      "open and account by taking name and emialid \n"
     ]
    },
    {
     "data": {
      "text/plain": [
       "'shreyaghadges@gmail.com'"
      ]
     },
     "execution_count": 4,
     "metadata": {},
     "output_type": "execute_result"
    }
   ],
   "source": [
    "open_account(\"shreya\",\"ghadges@gmail.com\") "
   ]
  },
  {
   "cell_type": "code",
   "execution_count": 5,
   "id": "441a6607-b9d9-4f66-95f3-8a3570527e80",
   "metadata": {},
   "outputs": [],
   "source": [
    "b1=BankAccount()\n"
   ]
  },
  {
   "cell_type": "code",
   "execution_count": 6,
   "id": "3d973e3c-73be-4b97-b578-72e252a4ac46",
   "metadata": {},
   "outputs": [
    {
     "name": "stdout",
     "output_type": "stream",
     "text": [
      "open and account by taking name and emialid \n"
     ]
    },
    {
     "data": {
      "text/plain": [
       "'shreyavaishnavi@gmail.com'"
      ]
     },
     "execution_count": 6,
     "metadata": {},
     "output_type": "execute_result"
    }
   ],
   "source": [
    "b1.open_account(\"shreya\",\"vaishnavi@gmail.com\")"
   ]
  },
  {
   "cell_type": "code",
   "execution_count": 7,
   "id": "9ceb59b0-7a0b-4141-bc78-4e43eb002e32",
   "metadata": {},
   "outputs": [],
   "source": [
    "# how to create class------>understood\n",
    "#how to create an object ----->understood\n",
    "#how to call the function inside the class ---->understood"
   ]
  },
  {
   "cell_type": "code",
   "execution_count": 8,
   "id": "6a895c19-410e-4636-987c-a4b15c4d07b0",
   "metadata": {},
   "outputs": [
    {
     "name": "stdout",
     "output_type": "stream",
     "text": [
      "withdraw the ammount \n"
     ]
    }
   ],
   "source": [
    "b1.withdraw(2000)"
   ]
  },
  {
   "cell_type": "code",
   "execution_count": 9,
   "id": "31e463b2-935e-4832-8162-9562f1167003",
   "metadata": {},
   "outputs": [],
   "source": [
    "class list_ops:\n",
    "    a=10\n",
    "    #l=[1,2,3,4,5]\n",
    "    \n",
    "    def __init__(self,l):\n",
    "        self.l1=l\n",
    "        \n",
    "        \n",
    "    def extractfromindex(self,l,index):\n",
    "        return l[index]\n",
    "    \n",
    "    def extractrangeofdata(self,l,start,end):\n",
    "        return l[start:end]\n",
    "    \n",
    "    def extracteven(self,l):\n",
    "        l1=[]\n",
    "        for i in l:\n",
    "            if(i%2==0):\n",
    "                l1.append(i)\n",
    "        return l1\n",
    "                \n",
    "        \n",
    "        "
   ]
  },
  {
   "cell_type": "code",
   "execution_count": 10,
   "id": "fb7c016c-ca1b-4186-90cb-c992e45a6cc4",
   "metadata": {},
   "outputs": [],
   "source": [
    "obj=list_ops([1,2,3,4])"
   ]
  },
  {
   "cell_type": "code",
   "execution_count": 11,
   "id": "48cc6eb3-fb7f-4db9-88d0-6d150419e042",
   "metadata": {},
   "outputs": [
    {
     "data": {
      "text/plain": [
       "[12, 4]"
      ]
     },
     "execution_count": 11,
     "metadata": {},
     "output_type": "execute_result"
    }
   ],
   "source": [
    "obj.extracteven([12,3,4,5])"
   ]
  },
  {
   "cell_type": "code",
   "execution_count": 12,
   "id": "584ae402-d81f-472f-8140-35127fe1ac7a",
   "metadata": {},
   "outputs": [
    {
     "data": {
      "text/plain": [
       "[1, 2]"
      ]
     },
     "execution_count": 12,
     "metadata": {},
     "output_type": "execute_result"
    }
   ],
   "source": [
    "obj.extractrangeofdata([1,2,3,4],0,2)"
   ]
  },
  {
   "cell_type": "code",
   "execution_count": 13,
   "id": "22169638-84c6-4099-9e20-78451d79d869",
   "metadata": {},
   "outputs": [],
   "source": [
    "## self is not the reserved keyward.\n",
    "## it is used as a pointer."
   ]
  },
  {
   "cell_type": "code",
   "execution_count": 14,
   "id": "8758acc8-7250-42cc-ae9c-e87758e42496",
   "metadata": {},
   "outputs": [
    {
     "data": {
      "text/plain": [
       "10"
      ]
     },
     "execution_count": 14,
     "metadata": {},
     "output_type": "execute_result"
    }
   ],
   "source": [
    "obj.a"
   ]
  },
  {
   "cell_type": "code",
   "execution_count": 15,
   "id": "64fd9e2c-2803-4200-8e26-129fcb75e5ec",
   "metadata": {},
   "outputs": [],
   "source": [
    "obj1=list_ops([12,34])"
   ]
  },
  {
   "cell_type": "code",
   "execution_count": 16,
   "id": "3abb63df-20fc-41e2-91dd-85df9a6a81f6",
   "metadata": {},
   "outputs": [],
   "source": [
    "obj2=list_ops([2,3])"
   ]
  },
  {
   "cell_type": "code",
   "execution_count": 17,
   "id": "7675f59f-c61d-470e-a07b-fa6107a57029",
   "metadata": {},
   "outputs": [
    {
     "data": {
      "text/plain": [
       "[2, 3]"
      ]
     },
     "execution_count": 17,
     "metadata": {},
     "output_type": "execute_result"
    }
   ],
   "source": [
    "obj2.l1\n"
   ]
  },
  {
   "cell_type": "markdown",
   "id": "f7b38706-ff96-4cf5-bcdf-6742900e34be",
   "metadata": {},
   "source": [
    "# constructor :\n",
    " to provide a data to the class internally from differnt differnt objects \n",
    " __init__ is the costructor  "
   ]
  },
  {
   "cell_type": "code",
   "execution_count": 18,
   "id": "e01a3dde-de33-47f5-8f35-7dc399ae528e",
   "metadata": {},
   "outputs": [],
   "source": [
    "class list_ops:\n",
    "    a=10\n",
    "    #l=[1,2,3,4,5]\n",
    "    \n",
    "    def __init__(self,l):\n",
    "        self.l1=l\n",
    "        self.l2=123\n",
    "        self.l2=\"sudh\"\n",
    "        self.l3=[12,34,5]\n",
    "        self.l4={\"sudh\",\"pwskills\"}\n",
    "        \n",
    "        \n",
    "    def extractfromindex(self,l,index):\n",
    "        return l[index]\n",
    "    \n",
    "    def extractrangeofdata(self,l,start,end):\n",
    "        return l[start:end]\n",
    "    \n",
    "    def extracteven(self,l):\n",
    "        l1=[]\n",
    "        for i in l:\n",
    "            if(i%2==0):\n",
    "                l1.append(i)\n",
    "        return l1\n",
    "                \n",
    "        "
   ]
  },
  {
   "cell_type": "code",
   "execution_count": 19,
   "id": "24d922be-188c-478a-9a21-ff643869fba8",
   "metadata": {},
   "outputs": [],
   "source": [
    "obj2=list_ops([1,2,3,4])"
   ]
  },
  {
   "cell_type": "code",
   "execution_count": 20,
   "id": "e0044351-1bf8-4f22-b6c7-e224fd6fd3c9",
   "metadata": {},
   "outputs": [
    {
     "data": {
      "text/plain": [
       "[1, 2, 3, 4]"
      ]
     },
     "execution_count": 20,
     "metadata": {},
     "output_type": "execute_result"
    }
   ],
   "source": [
    "obj2.l1"
   ]
  },
  {
   "cell_type": "code",
   "execution_count": 21,
   "id": "a34b1298-d718-4a80-97bf-7efe3e6e1e4c",
   "metadata": {},
   "outputs": [
    {
     "data": {
      "text/plain": [
       "{'pwskills', 'sudh'}"
      ]
     },
     "execution_count": 21,
     "metadata": {},
     "output_type": "execute_result"
    }
   ],
   "source": [
    "obj2.l4"
   ]
  },
  {
   "cell_type": "code",
   "execution_count": 22,
   "id": "947e4d57-4fd2-4789-be77-10d61da75fc6",
   "metadata": {},
   "outputs": [],
   "source": [
    "## it is not mendetary that object should not take the data from the user"
   ]
  },
  {
   "cell_type": "code",
   "execution_count": 55,
   "id": "98d12b3f-d6c5-42e3-8d29-8ed3a91d0f8f",
   "metadata": {},
   "outputs": [],
   "source": [
    "class Book:\n",
    "    def __init__(self,reader,author,title,page):\n",
    "        self.reader=reader\n",
    "        self.author=author\n",
    "        self.title=title\n",
    "        self.page=page\n",
    "    \n",
    "    def showdata(self):\n",
    "        print(\"name:\",self.reader)\n",
    "        print(\"author:\",self.author)\n",
    "        print(\"title:\",self.title)\n",
    "        print(\"pages:\",self.page)\n",
    "        \n",
    "    def page_no(self):\n",
    "        print(self.page)\n",
    "        "
   ]
  },
  {
   "cell_type": "code",
   "execution_count": 56,
   "id": "18dd88d1-c767-4ab2-8a90-7ca4ef337ca0",
   "metadata": {},
   "outputs": [],
   "source": [
    "b=Book(\"sudhanshu\",\"Alakh pandey\",\"Pwskilla\",208)"
   ]
  },
  {
   "cell_type": "code",
   "execution_count": 57,
   "id": "52139855-2ec1-46b0-93f0-78009d3f39c3",
   "metadata": {},
   "outputs": [
    {
     "name": "stdout",
     "output_type": "stream",
     "text": [
      "name: sudhanshu\n",
      "author: Alakh pandey\n",
      "title: Pwskilla\n",
      "pages: 208\n"
     ]
    }
   ],
   "source": [
    "b.showdata()"
   ]
  },
  {
   "cell_type": "code",
   "execution_count": 58,
   "id": "e6420154-e7a3-4414-bcfe-d798c85b2b5c",
   "metadata": {},
   "outputs": [
    {
     "name": "stdout",
     "output_type": "stream",
     "text": [
      "208\n"
     ]
    }
   ],
   "source": [
    "b.page_no()"
   ]
  },
  {
   "cell_type": "code",
   "execution_count": 59,
   "id": "303fb9c7-bd12-44bd-8a84-013b5d1fa19d",
   "metadata": {},
   "outputs": [],
   "source": [
    "b1=Book(\"krish\",\"sudhanshu kumar\",\"DSA\",234)"
   ]
  },
  {
   "cell_type": "code",
   "execution_count": 60,
   "id": "7688d0b7-2a76-477a-98c2-f4de3292c47b",
   "metadata": {},
   "outputs": [
    {
     "name": "stdout",
     "output_type": "stream",
     "text": [
      "name: krish\n",
      "author: sudhanshu kumar\n",
      "title: DSA\n",
      "pages: 234\n"
     ]
    }
   ],
   "source": [
    "b1.showdata()"
   ]
  },
  {
   "cell_type": "code",
   "execution_count": 61,
   "id": "d3a886ff-d915-412d-b78f-cfad55787abf",
   "metadata": {},
   "outputs": [
    {
     "name": "stdout",
     "output_type": "stream",
     "text": [
      "208\n"
     ]
    }
   ],
   "source": [
    "b.page_no()"
   ]
  },
  {
   "cell_type": "code",
   "execution_count": 63,
   "id": "214b0c5a-9ac9-4a55-9478-5f2e3480c2d5",
   "metadata": {},
   "outputs": [
    {
     "data": {
      "text/plain": [
       "'sudhanshu'"
      ]
     },
     "execution_count": 63,
     "metadata": {},
     "output_type": "execute_result"
    }
   ],
   "source": [
    "b.reader"
   ]
  },
  {
   "cell_type": "code",
   "execution_count": 64,
   "id": "cf4d261d-b4a9-41f9-a8f8-68fc7e5f4243",
   "metadata": {},
   "outputs": [
    {
     "data": {
      "text/plain": [
       "'sudhanshu kumar'"
      ]
     },
     "execution_count": 64,
     "metadata": {},
     "output_type": "execute_result"
    }
   ],
   "source": [
    "b1.author"
   ]
  },
  {
   "cell_type": "code",
   "execution_count": 65,
   "id": "a15998a3-c0f1-47c1-a6cf-d23ad12cc2fb",
   "metadata": {},
   "outputs": [],
   "source": [
    "## if i need to pass the data for differnt objects then init object is created "
   ]
  },
  {
   "cell_type": "code",
   "execution_count": 66,
   "id": "37ef2704-1537-44a4-baab-5f78af407c4d",
   "metadata": {},
   "outputs": [],
   "source": [
    "class Book1:\n",
    "    def __init__(self):\n",
    "        self.name=\"shreya\"\n",
    "        self.author=\"pwskills\"\n",
    "        \n",
    "    def showdata(self):\n",
    "        print(self.name)\n",
    "        print(self.author)\n",
    "        "
   ]
  },
  {
   "cell_type": "code",
   "execution_count": 67,
   "id": "e107bef6-7c1f-4310-99cd-9b21180ae791",
   "metadata": {},
   "outputs": [],
   "source": [
    "s=Book1()"
   ]
  },
  {
   "cell_type": "code",
   "execution_count": 68,
   "id": "13e78aeb-6140-4bd5-b521-15bdcb940456",
   "metadata": {},
   "outputs": [
    {
     "data": {
      "text/plain": [
       "'pwskills'"
      ]
     },
     "execution_count": 68,
     "metadata": {},
     "output_type": "execute_result"
    }
   ],
   "source": [
    "s.author"
   ]
  },
  {
   "cell_type": "code",
   "execution_count": 72,
   "id": "d525529f-1abf-4ce2-952b-6e56caac4791",
   "metadata": {},
   "outputs": [],
   "source": [
    "class Gmail_ops:\n",
    "    def __init__(self,userid,passward):\n",
    "        self.userid=userid\n",
    "        self.passward=passward\n",
    "        self.url=\"https://mail.google.com/mail/u/0/?tab=rm&ogbl#inbox\"\n",
    "        \n",
    "    def login(self):\n",
    "        print(\"take userid\"+self.userid+\"take password\"+self.passward+\"hit ural\"+\" \"+self.url)\n",
    "        print(\"login\")\n",
    "        \n",
    "    def read_mail(self):\n",
    "        print(\"read mail for userid\"+self.userid+\" \"+self.passward)\n",
    "\n",
    "    def reply_to_mail(self):\n",
    "        print(\"reply mail for \"+self.userid+\" \"+self.passward)\n",
    "        \n",
    "        \n",
    "        \n",
    "    "
   ]
  },
  {
   "cell_type": "code",
   "execution_count": 73,
   "id": "e400b985-d87c-4e75-aea3-8cc11c86c1db",
   "metadata": {},
   "outputs": [],
   "source": [
    "user1=Gmail_ops(\"user1\",\"user1@123\")"
   ]
  },
  {
   "cell_type": "code",
   "execution_count": 74,
   "id": "d782a938-e956-48fa-b67d-f55b527d69a4",
   "metadata": {},
   "outputs": [
    {
     "name": "stdout",
     "output_type": "stream",
     "text": [
      "take useriduser1take passworduser1@123hit ural https://mail.google.com/mail/u/0/?tab=rm&ogbl#inbox\n",
      "login\n"
     ]
    }
   ],
   "source": [
    "user1.login()"
   ]
  },
  {
   "cell_type": "code",
   "execution_count": 1,
   "id": "dc4fda74-3334-4c9b-b4e4-ae022190ba8f",
   "metadata": {},
   "outputs": [],
   "source": [
    "from functools import reduce\n",
    "import logging\n",
    "logging.basicConfig(filename=\"log_report.log\",level=logging.DEBUG)\n",
    "try:\n",
    "    class Calculator:\n",
    "        def __init__(self,username):\n",
    "            self.username=username\n",
    "            logging.info(\"user is %s\",self.username)\n",
    "            \n",
    "       \n",
    "        def sum1(self,*args):\n",
    "                try:\n",
    "                     logging.info(\"sum is %d\",sum(*args))\n",
    "                except Exception as e:\n",
    "                    logging.error(e)\n",
    "            \n",
    "        \n",
    "        def diff1(self,*args):\n",
    "                try:\n",
    "                     logging.info(\"differnce is %d\",reduce(lambda x,y:x-y,*args))\n",
    "                except TypeError as e:\n",
    "                    logging.error(e)\n",
    "        \n",
    "        \n",
    "\n",
    "        def mul(self,*args):\n",
    "                try:\n",
    "                    logging.info(\"multiplication is %d\",reduce(lambda x,y:x*y,*args))\n",
    "                except Exception as e:\n",
    "                    logging.error(e)\n",
    "            \n",
    "        \n",
    "        def div(self,*args):\n",
    "                try:\n",
    "                    logging.info(\"division is %d\",reduce(lambda x,y:x/y,*args))\n",
    "                except Exception as e:\n",
    "                    logging.error(e)\n",
    "            \n",
    "except Exception as e:\n",
    "    logging.error(e)\n",
    "    "
   ]
  },
  {
   "cell_type": "code",
   "execution_count": 2,
   "id": "9b813b17-567a-4fa0-8547-eb43a9f86459",
   "metadata": {},
   "outputs": [],
   "source": [
    "c=Calculator(\"shreya\")"
   ]
  },
  {
   "cell_type": "code",
   "execution_count": 3,
   "id": "99a51e57-5f20-4554-9ef1-1c86b4dbbbf7",
   "metadata": {},
   "outputs": [],
   "source": [
    "c.sum1(\"sudh\",\"pwks\")"
   ]
  },
  {
   "cell_type": "code",
   "execution_count": 4,
   "id": "c140cf46-c5e2-49f8-bf66-a047a73bebf7",
   "metadata": {},
   "outputs": [],
   "source": [
    "c.sum1((1,2))"
   ]
  },
  {
   "cell_type": "code",
   "execution_count": 5,
   "id": "85a7ad7c-e174-43e2-9e5d-24888f163098",
   "metadata": {},
   "outputs": [],
   "source": [
    "c.div((2,3))"
   ]
  },
  {
   "cell_type": "code",
   "execution_count": null,
   "id": "3aff737c-1d7e-4c7c-834c-62ad5ab09ac7",
   "metadata": {},
   "outputs": [],
   "source": []
  }
 ],
 "metadata": {
  "kernelspec": {
   "display_name": "Python 3 (ipykernel)",
   "language": "python",
   "name": "python3"
  },
  "language_info": {
   "codemirror_mode": {
    "name": "ipython",
    "version": 3
   },
   "file_extension": ".py",
   "mimetype": "text/x-python",
   "name": "python",
   "nbconvert_exporter": "python",
   "pygments_lexer": "ipython3",
   "version": "3.10.8"
  }
 },
 "nbformat": 4,
 "nbformat_minor": 5
}
