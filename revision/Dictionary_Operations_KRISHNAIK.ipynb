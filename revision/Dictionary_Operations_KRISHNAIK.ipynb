{
 "cells": [
  {
   "cell_type": "code",
   "execution_count": 1,
   "id": "c42b5a53-7824-42c1-be90-8362d6feb21c",
   "metadata": {},
   "outputs": [
    {
     "data": {
      "text/plain": [
       "{}"
      ]
     },
     "execution_count": 1,
     "metadata": {},
     "output_type": "execute_result"
    }
   ],
   "source": [
    "d1={}\n",
    "d1"
   ]
  },
  {
   "cell_type": "code",
   "execution_count": 2,
   "id": "9fa30218-8a6f-472a-af42-77b7f9e53693",
   "metadata": {},
   "outputs": [
    {
     "data": {
      "text/plain": [
       "dict"
      ]
     },
     "execution_count": 2,
     "metadata": {},
     "output_type": "execute_result"
    }
   ],
   "source": [
    "type(d1)"
   ]
  },
  {
   "cell_type": "code",
   "execution_count": 3,
   "id": "1ca22fa3-7c1c-4f52-a203-f6abf6341a87",
   "metadata": {},
   "outputs": [
    {
     "data": {
      "text/plain": [
       "{'name': 'pwskills', 'address': 'banglore', 'skills': 'data science'}"
      ]
     },
     "execution_count": 3,
     "metadata": {},
     "output_type": "execute_result"
    }
   ],
   "source": [
    "d1={'name':'pwskills','address':'banglore','skills':'data science'}\n",
    "d1"
   ]
  },
  {
   "cell_type": "code",
   "execution_count": 4,
   "id": "a22d9a07-8fb3-42b6-bcee-53fcf0457ba9",
   "metadata": {},
   "outputs": [],
   "source": [
    "d2={\"name\":\"shree\",'name':\"pwskills\"}"
   ]
  },
  {
   "cell_type": "code",
   "execution_count": 5,
   "id": "e56d6854-eeba-4330-bb4e-c137bd7d227d",
   "metadata": {},
   "outputs": [
    {
     "data": {
      "text/plain": [
       "{'name': 'pwskills'}"
      ]
     },
     "execution_count": 5,
     "metadata": {},
     "output_type": "execute_result"
    }
   ],
   "source": [
    "d2"
   ]
  },
  {
   "cell_type": "code",
   "execution_count": 6,
   "id": "03f49e16-a1a4-4c23-aef4-b4e7ff088ed6",
   "metadata": {},
   "outputs": [
    {
     "data": {
      "text/plain": [
       "1"
      ]
     },
     "execution_count": 6,
     "metadata": {},
     "output_type": "execute_result"
    }
   ],
   "source": [
    "hash(True)"
   ]
  },
  {
   "cell_type": "code",
   "execution_count": 7,
   "id": "95205fe0-73fd-4ef2-9437-1ec55833a4b5",
   "metadata": {},
   "outputs": [
    {
     "ename": "TypeError",
     "evalue": "unhashable type: 'list'",
     "output_type": "error",
     "traceback": [
      "\u001b[0;31m---------------------------------------------------------------------------\u001b[0m",
      "\u001b[0;31mTypeError\u001b[0m                                 Traceback (most recent call last)",
      "Cell \u001b[0;32mIn[7], line 1\u001b[0m\n\u001b[0;32m----> 1\u001b[0m \u001b[38;5;28;43mhash\u001b[39;49m\u001b[43m(\u001b[49m\u001b[43m[\u001b[49m\u001b[38;5;241;43m1\u001b[39;49m\u001b[43m,\u001b[49m\u001b[38;5;241;43m2\u001b[39;49m\u001b[43m,\u001b[49m\u001b[38;5;241;43m3\u001b[39;49m\u001b[43m]\u001b[49m\u001b[43m)\u001b[49m\n",
      "\u001b[0;31mTypeError\u001b[0m: unhashable type: 'list'"
     ]
    }
   ],
   "source": [
    "hash([1,2,3])"
   ]
  },
  {
   "cell_type": "code",
   "execution_count": 13,
   "id": "a6f083f9-754f-4603-a7ce-d1c902fff7c7",
   "metadata": {},
   "outputs": [],
   "source": [
    "d3={12:'ABC'}"
   ]
  },
  {
   "cell_type": "code",
   "execution_count": 14,
   "id": "79808351-2244-4965-9dc9-c2f841c55bef",
   "metadata": {},
   "outputs": [
    {
     "data": {
      "text/plain": [
       "{12: 'ABC'}"
      ]
     },
     "execution_count": 14,
     "metadata": {},
     "output_type": "execute_result"
    }
   ],
   "source": [
    "d3"
   ]
  },
  {
   "cell_type": "code",
   "execution_count": 15,
   "id": "880dc188-b697-4bcc-88d0-f8448effbd77",
   "metadata": {},
   "outputs": [],
   "source": [
    "d4={12.90:'pwskills'}"
   ]
  },
  {
   "cell_type": "code",
   "execution_count": 16,
   "id": "bf7632b2-0c8e-4908-bdea-721930999209",
   "metadata": {},
   "outputs": [
    {
     "data": {
      "text/plain": [
       "{12.9: 'pwskills'}"
      ]
     },
     "execution_count": 16,
     "metadata": {},
     "output_type": "execute_result"
    }
   ],
   "source": [
    "d4"
   ]
  },
  {
   "cell_type": "code",
   "execution_count": 17,
   "id": "5427ce63-3360-4f33-8fa8-248a5c411dda",
   "metadata": {},
   "outputs": [],
   "source": [
    "d5={\"str\":12.45}"
   ]
  },
  {
   "cell_type": "code",
   "execution_count": 18,
   "id": "400658df-cd8b-4cd3-9465-69bcce4bdfb8",
   "metadata": {},
   "outputs": [
    {
     "data": {
      "text/plain": [
       "{'str': 12.45}"
      ]
     },
     "execution_count": 18,
     "metadata": {},
     "output_type": "execute_result"
    }
   ],
   "source": [
    "d5"
   ]
  },
  {
   "cell_type": "code",
   "execution_count": 19,
   "id": "18671a25-d06e-4cc7-9420-f1e8685a4c25",
   "metadata": {},
   "outputs": [],
   "source": [
    "d6={(12,3,4):\"abC\"}"
   ]
  },
  {
   "cell_type": "code",
   "execution_count": 20,
   "id": "9ef13292-8b5d-4958-9508-949e066ee5ed",
   "metadata": {},
   "outputs": [
    {
     "data": {
      "text/plain": [
       "{(12, 3, 4): 'abC'}"
      ]
     },
     "execution_count": 20,
     "metadata": {},
     "output_type": "execute_result"
    }
   ],
   "source": [
    "d6"
   ]
  },
  {
   "cell_type": "code",
   "execution_count": 21,
   "id": "723c6308-0ccf-44b7-a950-6dccc9212eb6",
   "metadata": {},
   "outputs": [],
   "source": [
    "d7={True:12.45}"
   ]
  },
  {
   "cell_type": "code",
   "execution_count": 22,
   "id": "345e0ff7-220a-4a7f-b670-107e3375650e",
   "metadata": {},
   "outputs": [
    {
     "data": {
      "text/plain": [
       "{True: 12.45}"
      ]
     },
     "execution_count": 22,
     "metadata": {},
     "output_type": "execute_result"
    }
   ],
   "source": [
    "d7"
   ]
  },
  {
   "cell_type": "code",
   "execution_count": 23,
   "id": "73f4b9b3-2f47-45fd-8571-b4405ee8e299",
   "metadata": {},
   "outputs": [
    {
     "ename": "TypeError",
     "evalue": "unhashable type: 'list'",
     "output_type": "error",
     "traceback": [
      "\u001b[0;31m---------------------------------------------------------------------------\u001b[0m",
      "\u001b[0;31mTypeError\u001b[0m                                 Traceback (most recent call last)",
      "Cell \u001b[0;32mIn[23], line 1\u001b[0m\n\u001b[0;32m----> 1\u001b[0m d8\u001b[38;5;241m=\u001b[39m{[\u001b[38;5;241m12\u001b[39m,\u001b[38;5;241m34\u001b[39m,\u001b[38;5;241m5\u001b[39m]:\u001b[38;5;124m'\u001b[39m\u001b[38;5;124mABC\u001b[39m\u001b[38;5;124m'\u001b[39m}\n",
      "\u001b[0;31mTypeError\u001b[0m: unhashable type: 'list'"
     ]
    }
   ],
   "source": [
    "d8={[12,34,5]:'ABC'}"
   ]
  },
  {
   "cell_type": "code",
   "execution_count": 24,
   "id": "55ab314c-ef0e-4978-bd97-911aef66d37e",
   "metadata": {},
   "outputs": [
    {
     "ename": "TypeError",
     "evalue": "unhashable type: 'set'",
     "output_type": "error",
     "traceback": [
      "\u001b[0;31m---------------------------------------------------------------------------\u001b[0m",
      "\u001b[0;31mTypeError\u001b[0m                                 Traceback (most recent call last)",
      "Cell \u001b[0;32mIn[24], line 1\u001b[0m\n\u001b[0;32m----> 1\u001b[0m d9\u001b[38;5;241m=\u001b[39m{{\u001b[38;5;241m12\u001b[39m,\u001b[38;5;241m34\u001b[39m,\u001b[38;5;241m56\u001b[39m}:\u001b[38;5;124m\"\u001b[39m\u001b[38;5;124mABC\u001b[39m\u001b[38;5;124m\"\u001b[39m}\n",
      "\u001b[0;31mTypeError\u001b[0m: unhashable type: 'set'"
     ]
    }
   ],
   "source": [
    "d9={{12,34,56}:\"ABC\"}"
   ]
  },
  {
   "cell_type": "code",
   "execution_count": 25,
   "id": "340a463c-490e-4077-b140-6700a4e883f1",
   "metadata": {},
   "outputs": [
    {
     "ename": "TypeError",
     "evalue": "unhashable type: 'dict'",
     "output_type": "error",
     "traceback": [
      "\u001b[0;31m---------------------------------------------------------------------------\u001b[0m",
      "\u001b[0;31mTypeError\u001b[0m                                 Traceback (most recent call last)",
      "Cell \u001b[0;32mIn[25], line 1\u001b[0m\n\u001b[0;32m----> 1\u001b[0m d10\u001b[38;5;241m=\u001b[39m{{\u001b[38;5;124m\"\u001b[39m\u001b[38;5;124mA\u001b[39m\u001b[38;5;124m\"\u001b[39m:\u001b[38;5;241m1\u001b[39m}:\u001b[38;5;241m2\u001b[39m}\n",
      "\u001b[0;31mTypeError\u001b[0m: unhashable type: 'dict'"
     ]
    }
   ],
   "source": [
    "d10={{\"A\":1}:2}"
   ]
  },
  {
   "cell_type": "markdown",
   "id": "03910537-9868-4b4f-bd65-28fc9e2acd26",
   "metadata": {},
   "source": [
    "## Some important points regarding keys in the dictionary"
   ]
  },
  {
   "cell_type": "code",
   "execution_count": null,
   "id": "dbb1eaab-a59a-48ad-ab4c-bd00fe097b69",
   "metadata": {},
   "outputs": [],
   "source": []
  },
  {
   "cell_type": "markdown",
   "id": "dce329c3-e788-4f62-a3fd-146842f4c770",
   "metadata": {},
   "source": [
    "#### 1. Keys are always unique.\n",
    "#### 2. Keys can be integer, string, boolean,floats, tuples.\n",
    "#### 3. Keys can not be sets, lists and dictionary\n",
    "#### 4. i.e keys should be always immutable and hashable datatypes but can not be mutable collctions "
   ]
  },
  {
   "cell_type": "code",
   "execution_count": 26,
   "id": "6bcb614b-5f0c-41c8-ad79-3b9eb21c9139",
   "metadata": {},
   "outputs": [],
   "source": [
    "d11={'ABC':12}"
   ]
  },
  {
   "cell_type": "code",
   "execution_count": 27,
   "id": "2ded8b8b-077f-4763-890d-38afc077cf12",
   "metadata": {},
   "outputs": [
    {
     "data": {
      "text/plain": [
       "{'ABC': 12}"
      ]
     },
     "execution_count": 27,
     "metadata": {},
     "output_type": "execute_result"
    }
   ],
   "source": [
    "d11"
   ]
  },
  {
   "cell_type": "code",
   "execution_count": 28,
   "id": "dc6e60ca-9889-4c0b-999b-f1cc6f2ff935",
   "metadata": {},
   "outputs": [],
   "source": [
    "d12={12.34:'ABC'}"
   ]
  },
  {
   "cell_type": "code",
   "execution_count": 29,
   "id": "6aa1f18d-ff50-4347-b61e-e3e8dfe1de4d",
   "metadata": {},
   "outputs": [
    {
     "data": {
      "text/plain": [
       "{12.34: 'ABC'}"
      ]
     },
     "execution_count": 29,
     "metadata": {},
     "output_type": "execute_result"
    }
   ],
   "source": [
    "d12"
   ]
  },
  {
   "cell_type": "code",
   "execution_count": 30,
   "id": "31329dd9-2574-4377-8919-1ba5f47f60b2",
   "metadata": {},
   "outputs": [],
   "source": [
    "d13={12:12}"
   ]
  },
  {
   "cell_type": "code",
   "execution_count": 31,
   "id": "7407336c-a385-4479-a086-70b5e76942ec",
   "metadata": {},
   "outputs": [
    {
     "data": {
      "text/plain": [
       "{12: 12}"
      ]
     },
     "execution_count": 31,
     "metadata": {},
     "output_type": "execute_result"
    }
   ],
   "source": [
    "d13"
   ]
  },
  {
   "cell_type": "code",
   "execution_count": 32,
   "id": "7090b323-f801-4382-be35-b1558e6c5268",
   "metadata": {},
   "outputs": [
    {
     "data": {
      "text/plain": [
       "{'ABC': [12, 34, 56, 78]}"
      ]
     },
     "execution_count": 32,
     "metadata": {},
     "output_type": "execute_result"
    }
   ],
   "source": [
    "d14={\"ABC\":[12,34,56,78]}\n",
    "d14"
   ]
  },
  {
   "cell_type": "code",
   "execution_count": 33,
   "id": "e1c7466d-e0fa-460b-bd66-82687d7c3c32",
   "metadata": {},
   "outputs": [],
   "source": [
    "d15={\"Class\":('pwskilss','data science')}"
   ]
  },
  {
   "cell_type": "code",
   "execution_count": 34,
   "id": "32d22d79-3ea1-4527-bd5e-e39dc6dc55b8",
   "metadata": {},
   "outputs": [
    {
     "data": {
      "text/plain": [
       "{'Class': ('pwskilss', 'data science')}"
      ]
     },
     "execution_count": 34,
     "metadata": {},
     "output_type": "execute_result"
    }
   ],
   "source": [
    "d15"
   ]
  },
  {
   "cell_type": "code",
   "execution_count": 35,
   "id": "081a14d6-3ccf-4d5e-8c45-e77d04ebc36e",
   "metadata": {},
   "outputs": [],
   "source": [
    "d16={'skills':{'name1':\"python\",'name2':\"sql/plsql\"}}\n"
   ]
  },
  {
   "cell_type": "code",
   "execution_count": 36,
   "id": "e45294aa-9331-4216-9336-c582ada7982c",
   "metadata": {},
   "outputs": [
    {
     "data": {
      "text/plain": [
       "{'skills': {'name1': 'python', 'name2': 'sql/plsql'}}"
      ]
     },
     "execution_count": 36,
     "metadata": {},
     "output_type": "execute_result"
    }
   ],
   "source": [
    "d16"
   ]
  },
  {
   "cell_type": "code",
   "execution_count": 37,
   "id": "ae2569e9-b34c-4180-b5ca-76a8de146e7b",
   "metadata": {},
   "outputs": [
    {
     "data": {
      "text/plain": [
       "{'skills': {1, 2, 12}}"
      ]
     },
     "execution_count": 37,
     "metadata": {},
     "output_type": "execute_result"
    }
   ],
   "source": [
    "d17={\"skills\":{12,2,2,1,2}}\n",
    "d17"
   ]
  },
  {
   "cell_type": "markdown",
   "id": "effe8f62-950e-49b9-9db6-d963d2579200",
   "metadata": {},
   "source": [
    "## Some important points in values in the dictionary"
   ]
  },
  {
   "cell_type": "markdown",
   "id": "5a03495d-2559-4b73-ae46-3d0d6a61e4dc",
   "metadata": {},
   "source": [
    "#### 1. any type of value is ok for the value place "
   ]
  },
  {
   "cell_type": "code",
   "execution_count": 38,
   "id": "15bc6cbb-6d21-4807-85c3-b2f00c739319",
   "metadata": {},
   "outputs": [],
   "source": [
    "d18={\n",
    "    \"batch name\":['FSDS','JFS',\"DSA\"],\n",
    "    \"Start Date\":(12,10,21),\n",
    "    \"mentor name\":{\"anurag\",'sunny','hitesh','krish naik','sudhanshu'},\n",
    "    \n",
    "    \n",
    "    }"
   ]
  },
  {
   "cell_type": "code",
   "execution_count": 39,
   "id": "eb3656c6-9b74-4cad-b991-e3fe459540c6",
   "metadata": {},
   "outputs": [
    {
     "data": {
      "text/plain": [
       "{'batch name': ['FSDS', 'JFS', 'DSA'],\n",
       " 'Start Date': (12, 10, 21),\n",
       " 'mentor name': {'anurag', 'hitesh', 'krish naik', 'sudhanshu', 'sunny'}}"
      ]
     },
     "execution_count": 39,
     "metadata": {},
     "output_type": "execute_result"
    }
   ],
   "source": [
    "d18"
   ]
  },
  {
   "cell_type": "code",
   "execution_count": 40,
   "id": "cceb211f-85c3-4c3b-a61d-b262554332e3",
   "metadata": {},
   "outputs": [],
   "source": [
    "d18['timings']=(8,12,8)"
   ]
  },
  {
   "cell_type": "code",
   "execution_count": 41,
   "id": "ea923164-1366-46ae-a1d9-676b5d769d01",
   "metadata": {},
   "outputs": [
    {
     "data": {
      "text/plain": [
       "{'batch name': ['FSDS', 'JFS', 'DSA'],\n",
       " 'Start Date': (12, 10, 21),\n",
       " 'mentor name': {'anurag', 'hitesh', 'krish naik', 'sudhanshu', 'sunny'},\n",
       " 'timings': (8, 12, 8)}"
      ]
     },
     "execution_count": 41,
     "metadata": {},
     "output_type": "execute_result"
    }
   ],
   "source": [
    "d18"
   ]
  },
  {
   "cell_type": "code",
   "execution_count": 42,
   "id": "4f911b37-a6f4-4b8d-858c-6194a5fab59e",
   "metadata": {},
   "outputs": [
    {
     "data": {
      "text/plain": [
       "{'batch name': ['FSDS', 'JFS', 'DSA'],\n",
       " 'Start Date': (12, 10, 21),\n",
       " 'mentor name': {'anurag', 'hitesh', 'krish naik', 'sudhanshu', 'sunny'},\n",
       " 'timings': (8, 12, 8)}"
      ]
     },
     "execution_count": 42,
     "metadata": {},
     "output_type": "execute_result"
    }
   ],
   "source": [
    "d18"
   ]
  },
  {
   "cell_type": "code",
   "execution_count": 43,
   "id": "fd4e4562-a340-4e74-885a-8942f84d5768",
   "metadata": {},
   "outputs": [
    {
     "data": {
      "text/plain": [
       "(8, 12, 8)"
      ]
     },
     "execution_count": 43,
     "metadata": {},
     "output_type": "execute_result"
    }
   ],
   "source": [
    "d18[\"timings\"]"
   ]
  },
  {
   "cell_type": "code",
   "execution_count": 44,
   "id": "7daf2db1-87a4-4d9a-a46a-604b80ef6368",
   "metadata": {},
   "outputs": [
    {
     "data": {
      "text/plain": [
       "['FSDS', 'JFS', 'DSA']"
      ]
     },
     "execution_count": 44,
     "metadata": {},
     "output_type": "execute_result"
    }
   ],
   "source": [
    "d18['batch name']"
   ]
  },
  {
   "cell_type": "code",
   "execution_count": 45,
   "id": "05d08ba4-845c-4dd4-b322-db885d42b5d3",
   "metadata": {},
   "outputs": [],
   "source": [
    "d18['name']=\"sudhanshu\""
   ]
  },
  {
   "cell_type": "code",
   "execution_count": 46,
   "id": "d2075953-6531-4994-a5cf-ce4becd5fa6f",
   "metadata": {},
   "outputs": [
    {
     "data": {
      "text/plain": [
       "{'batch name': ['FSDS', 'JFS', 'DSA'],\n",
       " 'Start Date': (12, 10, 21),\n",
       " 'mentor name': {'anurag', 'hitesh', 'krish naik', 'sudhanshu', 'sunny'},\n",
       " 'timings': (8, 12, 8),\n",
       " 'name': 'sudhanshu'}"
      ]
     },
     "execution_count": 46,
     "metadata": {},
     "output_type": "execute_result"
    }
   ],
   "source": [
    "d18"
   ]
  },
  {
   "cell_type": "code",
   "execution_count": 47,
   "id": "23e04649-4dcd-4880-bcb8-cd046d57eb77",
   "metadata": {},
   "outputs": [
    {
     "data": {
      "text/plain": [
       "'SUDHANSHU'"
      ]
     },
     "execution_count": 47,
     "metadata": {},
     "output_type": "execute_result"
    }
   ],
   "source": [
    "d18['name'].upper()"
   ]
  },
  {
   "cell_type": "code",
   "execution_count": 48,
   "id": "db2cfc76-f00d-4a39-ba76-be64fffc1bed",
   "metadata": {},
   "outputs": [
    {
     "data": {
      "text/plain": [
       "{'batch name': ['FSDS', 'JFS', 'DSA'],\n",
       " 'Start Date': (12, 10, 21),\n",
       " 'mentor name': {'anurag', 'hitesh', 'krish naik', 'sudhanshu', 'sunny'},\n",
       " 'timings': (8, 12, 8),\n",
       " 'name': 'sudhanshu'}"
      ]
     },
     "execution_count": 48,
     "metadata": {},
     "output_type": "execute_result"
    }
   ],
   "source": [
    "d18"
   ]
  },
  {
   "cell_type": "code",
   "execution_count": 49,
   "id": "5052753d-0dba-466a-a415-9d5d00e67e15",
   "metadata": {},
   "outputs": [
    {
     "data": {
      "text/plain": [
       "{'batch name': ['FSDS', 'JFS', 'DSA'],\n",
       " 'Start Date': (12, 10, 21),\n",
       " 'mentor name': {'anurag', 'hitesh', 'krish naik', 'sudhanshu', 'sunny'},\n",
       " 'timings': (8, 12, 8),\n",
       " 'name': 'sudhanshu'}"
      ]
     },
     "execution_count": 49,
     "metadata": {},
     "output_type": "execute_result"
    }
   ],
   "source": [
    "d18"
   ]
  },
  {
   "cell_type": "code",
   "execution_count": 50,
   "id": "0d950b97-5aa8-414f-8174-9b31972038c6",
   "metadata": {},
   "outputs": [],
   "source": [
    "d18['placements']={\"data scietist\":10,'data analyst':12,'data engineer':10}"
   ]
  },
  {
   "cell_type": "code",
   "execution_count": 51,
   "id": "1dca4ea9-430b-488f-bd4d-37cecb9362e2",
   "metadata": {},
   "outputs": [
    {
     "data": {
      "text/plain": [
       "{'batch name': ['FSDS', 'JFS', 'DSA'],\n",
       " 'Start Date': (12, 10, 21),\n",
       " 'mentor name': {'anurag', 'hitesh', 'krish naik', 'sudhanshu', 'sunny'},\n",
       " 'timings': (8, 12, 8),\n",
       " 'name': 'sudhanshu',\n",
       " 'placements': {'data scietist': 10, 'data analyst': 12, 'data engineer': 10}}"
      ]
     },
     "execution_count": 51,
     "metadata": {},
     "output_type": "execute_result"
    }
   ],
   "source": [
    "d18"
   ]
  },
  {
   "cell_type": "code",
   "execution_count": 52,
   "id": "8fe10b4b-8ab3-476d-8867-b956090298b7",
   "metadata": {},
   "outputs": [
    {
     "data": {
      "text/plain": [
       "10"
      ]
     },
     "execution_count": 52,
     "metadata": {},
     "output_type": "execute_result"
    }
   ],
   "source": [
    "d18[\"placements\"][\"data scietist\"]"
   ]
  },
  {
   "cell_type": "markdown",
   "id": "a5bf49c3-c038-4245-8a73-8b6dabe4994d",
   "metadata": {},
   "source": [
    "#### Dictionary operations"
   ]
  },
  {
   "cell_type": "code",
   "execution_count": 53,
   "id": "f5dda231-9a6d-4bec-9cbc-ccbeb56325e2",
   "metadata": {},
   "outputs": [],
   "source": [
    "d2.clear()"
   ]
  },
  {
   "cell_type": "code",
   "execution_count": 54,
   "id": "1d139e76-9628-4f66-881c-3dd52f9fbafd",
   "metadata": {},
   "outputs": [
    {
     "data": {
      "text/plain": [
       "{}"
      ]
     },
     "execution_count": 54,
     "metadata": {},
     "output_type": "execute_result"
    }
   ],
   "source": [
    "d2"
   ]
  },
  {
   "cell_type": "code",
   "execution_count": 55,
   "id": "8c1b49d8-e57d-4c80-974e-d9a81632cfc4",
   "metadata": {},
   "outputs": [
    {
     "data": {
      "text/plain": [
       "6"
      ]
     },
     "execution_count": 55,
     "metadata": {},
     "output_type": "execute_result"
    }
   ],
   "source": [
    "len(d18)"
   ]
  },
  {
   "cell_type": "code",
   "execution_count": 56,
   "id": "710fb0cb-e6aa-4e08-8c52-57b9d340ff6f",
   "metadata": {},
   "outputs": [
    {
     "data": {
      "text/plain": [
       "dict_keys(['batch name', 'Start Date', 'mentor name', 'timings', 'name', 'placements'])"
      ]
     },
     "execution_count": 56,
     "metadata": {},
     "output_type": "execute_result"
    }
   ],
   "source": [
    "d18.keys()"
   ]
  },
  {
   "cell_type": "code",
   "execution_count": 57,
   "id": "1ac435be-0d89-485a-8017-13885c853337",
   "metadata": {},
   "outputs": [
    {
     "data": {
      "text/plain": [
       "dict_values([['FSDS', 'JFS', 'DSA'], (12, 10, 21), {'krish naik', 'sudhanshu', 'sunny', 'anurag', 'hitesh'}, (8, 12, 8), 'sudhanshu', {'data scietist': 10, 'data analyst': 12, 'data engineer': 10}])"
      ]
     },
     "execution_count": 57,
     "metadata": {},
     "output_type": "execute_result"
    }
   ],
   "source": [
    "d18.values()"
   ]
  },
  {
   "cell_type": "code",
   "execution_count": 58,
   "id": "c4527b92-9552-4d0f-b82e-9069a99d5aa4",
   "metadata": {},
   "outputs": [
    {
     "data": {
      "text/plain": [
       "dict_items([('batch name', ['FSDS', 'JFS', 'DSA']), ('Start Date', (12, 10, 21)), ('mentor name', {'krish naik', 'sudhanshu', 'sunny', 'anurag', 'hitesh'}), ('timings', (8, 12, 8)), ('name', 'sudhanshu'), ('placements', {'data scietist': 10, 'data analyst': 12, 'data engineer': 10})])"
      ]
     },
     "execution_count": 58,
     "metadata": {},
     "output_type": "execute_result"
    }
   ],
   "source": [
    "d18.items()"
   ]
  },
  {
   "cell_type": "code",
   "execution_count": 59,
   "id": "d00cd9d9-b488-4826-a390-515ee988ebb3",
   "metadata": {},
   "outputs": [
    {
     "data": {
      "text/plain": [
       "[['FSDS', 'JFS', 'DSA'],\n",
       " (12, 10, 21),\n",
       " {'anurag', 'hitesh', 'krish naik', 'sudhanshu', 'sunny'},\n",
       " (8, 12, 8),\n",
       " 'sudhanshu',\n",
       " {'data scietist': 10, 'data analyst': 12, 'data engineer': 10}]"
      ]
     },
     "execution_count": 59,
     "metadata": {},
     "output_type": "execute_result"
    }
   ],
   "source": [
    "list(d18.values())"
   ]
  },
  {
   "cell_type": "code",
   "execution_count": 60,
   "id": "3a06545f-5291-45c7-bbdc-be25ed57e6cc",
   "metadata": {},
   "outputs": [
    {
     "data": {
      "text/plain": [
       "{'batch name': ['FSDS', 'JFS', 'DSA'],\n",
       " 'Start Date': (12, 10, 21),\n",
       " 'mentor name': {'anurag', 'hitesh', 'krish naik', 'sudhanshu', 'sunny'},\n",
       " 'timings': (8, 12, 8),\n",
       " 'name': 'sudhanshu',\n",
       " 'placements': {'data scietist': 10, 'data analyst': 12, 'data engineer': 10}}"
      ]
     },
     "execution_count": 60,
     "metadata": {},
     "output_type": "execute_result"
    }
   ],
   "source": [
    "d18"
   ]
  },
  {
   "cell_type": "code",
   "execution_count": 61,
   "id": "be4e8c79-51b5-41cd-b4d5-5b5b8c7b08f7",
   "metadata": {},
   "outputs": [
    {
     "data": {
      "text/plain": [
       "dict_items([('batch name', ['FSDS', 'JFS', 'DSA']), ('Start Date', (12, 10, 21)), ('mentor name', {'krish naik', 'sudhanshu', 'sunny', 'anurag', 'hitesh'}), ('timings', (8, 12, 8)), ('name', 'sudhanshu'), ('placements', {'data scietist': 10, 'data analyst': 12, 'data engineer': 10})])"
      ]
     },
     "execution_count": 61,
     "metadata": {},
     "output_type": "execute_result"
    }
   ],
   "source": [
    "d18.items()"
   ]
  },
  {
   "cell_type": "code",
   "execution_count": 62,
   "id": "46fd2113-5578-4025-8bbb-1a4ff8f9bf78",
   "metadata": {},
   "outputs": [],
   "source": [
    "d19=d18.copy()"
   ]
  },
  {
   "cell_type": "code",
   "execution_count": 63,
   "id": "bbdf07b1-b5e1-44d7-9068-a975a6a41630",
   "metadata": {},
   "outputs": [
    {
     "data": {
      "text/plain": [
       "{'batch name': ['FSDS', 'JFS', 'DSA'],\n",
       " 'Start Date': (12, 10, 21),\n",
       " 'mentor name': {'anurag', 'hitesh', 'krish naik', 'sudhanshu', 'sunny'},\n",
       " 'timings': (8, 12, 8),\n",
       " 'name': 'sudhanshu',\n",
       " 'placements': {'data scietist': 10, 'data analyst': 12, 'data engineer': 10}}"
      ]
     },
     "execution_count": 63,
     "metadata": {},
     "output_type": "execute_result"
    }
   ],
   "source": [
    "d19"
   ]
  },
  {
   "cell_type": "code",
   "execution_count": 64,
   "id": "479b665a-e625-4a05-857b-e6bd499a388e",
   "metadata": {},
   "outputs": [
    {
     "data": {
      "text/plain": [
       "140237730177472"
      ]
     },
     "execution_count": 64,
     "metadata": {},
     "output_type": "execute_result"
    }
   ],
   "source": [
    "id(d18)"
   ]
  },
  {
   "cell_type": "code",
   "execution_count": 65,
   "id": "6505732a-5453-4c46-a63e-37e4c675708a",
   "metadata": {},
   "outputs": [
    {
     "data": {
      "text/plain": [
       "False"
      ]
     },
     "execution_count": 65,
     "metadata": {},
     "output_type": "execute_result"
    }
   ],
   "source": [
    "d18 is d19"
   ]
  },
  {
   "cell_type": "code",
   "execution_count": 66,
   "id": "3c6d0515-7293-4bbd-9466-515287eac9fb",
   "metadata": {},
   "outputs": [
    {
     "data": {
      "text/plain": [
       "140237730108992"
      ]
     },
     "execution_count": 66,
     "metadata": {},
     "output_type": "execute_result"
    }
   ],
   "source": [
    "id(d19)"
   ]
  },
  {
   "cell_type": "code",
   "execution_count": 67,
   "id": "a7e97067-6272-421e-b8ec-8edfc7b27a0e",
   "metadata": {},
   "outputs": [],
   "source": [
    "d20=d18"
   ]
  },
  {
   "cell_type": "code",
   "execution_count": 68,
   "id": "7843138d-803e-4c86-9c7b-302cee303573",
   "metadata": {},
   "outputs": [
    {
     "data": {
      "text/plain": [
       "True"
      ]
     },
     "execution_count": 68,
     "metadata": {},
     "output_type": "execute_result"
    }
   ],
   "source": [
    "d18 is d20"
   ]
  },
  {
   "cell_type": "markdown",
   "id": "ec406c51-a90b-4546-bc1e-57da89a07d82",
   "metadata": {},
   "source": [
    "### Deep copy and shallow copy "
   ]
  },
  {
   "cell_type": "code",
   "execution_count": 69,
   "id": "3ead3740-69ae-45dc-b20f-a7af5b9fe51c",
   "metadata": {},
   "outputs": [
    {
     "data": {
      "text/plain": [
       "{'batch name': ['FSDS', 'JFS', 'DSA'],\n",
       " 'Start Date': (12, 10, 21),\n",
       " 'mentor name': {'anurag', 'hitesh', 'krish naik', 'sudhanshu', 'sunny'},\n",
       " 'timings': (8, 12, 8),\n",
       " 'name': 'sudhanshu',\n",
       " 'placements': {'data scietist': 10, 'data analyst': 12, 'data engineer': 10}}"
      ]
     },
     "execution_count": 69,
     "metadata": {},
     "output_type": "execute_result"
    }
   ],
   "source": [
    "d18"
   ]
  },
  {
   "cell_type": "code",
   "execution_count": 70,
   "id": "c5ab1916-8449-48a2-ab1f-6c5786d48604",
   "metadata": {},
   "outputs": [],
   "source": [
    "d19=d18.copy()"
   ]
  },
  {
   "cell_type": "code",
   "execution_count": 71,
   "id": "938b1a9a-080b-4504-969d-ac1272813143",
   "metadata": {},
   "outputs": [
    {
     "data": {
      "text/plain": [
       "{'batch name': ['FSDS', 'JFS', 'DSA'],\n",
       " 'Start Date': (12, 10, 21),\n",
       " 'mentor name': {'anurag', 'hitesh', 'krish naik', 'sudhanshu', 'sunny'},\n",
       " 'timings': (8, 12, 8),\n",
       " 'name': 'sudhanshu',\n",
       " 'placements': {'data scietist': 10, 'data analyst': 12, 'data engineer': 10}}"
      ]
     },
     "execution_count": 71,
     "metadata": {},
     "output_type": "execute_result"
    }
   ],
   "source": [
    "d19"
   ]
  },
  {
   "cell_type": "markdown",
   "id": "08e7c128-9ca5-4a5f-9c14-614689f05978",
   "metadata": {},
   "source": [
    "## above mentioned is shllaow copy "
   ]
  },
  {
   "cell_type": "code",
   "execution_count": 72,
   "id": "674fd7a6-009d-4897-ae2a-3c7546a5abcf",
   "metadata": {},
   "outputs": [],
   "source": [
    "d18['age']=23"
   ]
  },
  {
   "cell_type": "code",
   "execution_count": 73,
   "id": "cf778dd7-185a-4f4e-9ace-33cab163b6fb",
   "metadata": {},
   "outputs": [
    {
     "data": {
      "text/plain": [
       "{'batch name': ['FSDS', 'JFS', 'DSA'],\n",
       " 'Start Date': (12, 10, 21),\n",
       " 'mentor name': {'anurag', 'hitesh', 'krish naik', 'sudhanshu', 'sunny'},\n",
       " 'timings': (8, 12, 8),\n",
       " 'name': 'sudhanshu',\n",
       " 'placements': {'data scietist': 10, 'data analyst': 12, 'data engineer': 10},\n",
       " 'age': 23}"
      ]
     },
     "execution_count": 73,
     "metadata": {},
     "output_type": "execute_result"
    }
   ],
   "source": [
    "d18"
   ]
  },
  {
   "cell_type": "code",
   "execution_count": 74,
   "id": "4cd428c4-3514-4f96-8542-aa57a335a275",
   "metadata": {},
   "outputs": [
    {
     "data": {
      "text/plain": [
       "{'batch name': ['FSDS', 'JFS', 'DSA'],\n",
       " 'Start Date': (12, 10, 21),\n",
       " 'mentor name': {'anurag', 'hitesh', 'krish naik', 'sudhanshu', 'sunny'},\n",
       " 'timings': (8, 12, 8),\n",
       " 'name': 'sudhanshu',\n",
       " 'placements': {'data scietist': 10, 'data analyst': 12, 'data engineer': 10}}"
      ]
     },
     "execution_count": 74,
     "metadata": {},
     "output_type": "execute_result"
    }
   ],
   "source": [
    "d19"
   ]
  },
  {
   "cell_type": "code",
   "execution_count": 75,
   "id": "c1f21c7a-a87a-4040-b0d8-6c17fe16f6df",
   "metadata": {},
   "outputs": [],
   "source": [
    "d20=d18"
   ]
  },
  {
   "cell_type": "code",
   "execution_count": 76,
   "id": "53f8d216-71fb-4b77-9b8a-a69f183299fa",
   "metadata": {},
   "outputs": [
    {
     "data": {
      "text/plain": [
       "{'batch name': ['FSDS', 'JFS', 'DSA'],\n",
       " 'Start Date': (12, 10, 21),\n",
       " 'mentor name': {'anurag', 'hitesh', 'krish naik', 'sudhanshu', 'sunny'},\n",
       " 'timings': (8, 12, 8),\n",
       " 'name': 'sudhanshu',\n",
       " 'placements': {'data scietist': 10, 'data analyst': 12, 'data engineer': 10},\n",
       " 'age': 23}"
      ]
     },
     "execution_count": 76,
     "metadata": {},
     "output_type": "execute_result"
    }
   ],
   "source": [
    "d18"
   ]
  },
  {
   "cell_type": "code",
   "execution_count": 77,
   "id": "cbdc6c76-562c-48e2-89f2-38f1a3ac24df",
   "metadata": {},
   "outputs": [
    {
     "data": {
      "text/plain": [
       "{'batch name': ['FSDS', 'JFS', 'DSA'],\n",
       " 'Start Date': (12, 10, 21),\n",
       " 'mentor name': {'anurag', 'hitesh', 'krish naik', 'sudhanshu', 'sunny'},\n",
       " 'timings': (8, 12, 8),\n",
       " 'name': 'sudhanshu',\n",
       " 'placements': {'data scietist': 10, 'data analyst': 12, 'data engineer': 10},\n",
       " 'age': 23}"
      ]
     },
     "execution_count": 77,
     "metadata": {},
     "output_type": "execute_result"
    }
   ],
   "source": [
    "d20"
   ]
  },
  {
   "cell_type": "markdown",
   "id": "e2cbbcd5-23cd-4b82-ac2d-744d111a3698",
   "metadata": {},
   "source": [
    "#### above mentioned as deep copy "
   ]
  },
  {
   "cell_type": "code",
   "execution_count": 78,
   "id": "8f9a51a5-6603-45e4-9f08-ea3a3d262eb1",
   "metadata": {},
   "outputs": [
    {
     "data": {
      "text/plain": [
       "{'batch name': ['FSDS', 'JFS', 'DSA'],\n",
       " 'Start Date': (12, 10, 21),\n",
       " 'mentor name': {'anurag', 'hitesh', 'krish naik', 'sudhanshu', 'sunny'},\n",
       " 'timings': (8, 12, 8),\n",
       " 'name': 'sudhanshu',\n",
       " 'placements': {'data scietist': 10, 'data analyst': 12, 'data engineer': 10},\n",
       " 'age': 23}"
      ]
     },
     "execution_count": 78,
     "metadata": {},
     "output_type": "execute_result"
    }
   ],
   "source": [
    "d18"
   ]
  },
  {
   "cell_type": "code",
   "execution_count": null,
   "id": "2b48c2c1-52b7-47ad-9b97-d3cb1a247dee",
   "metadata": {},
   "outputs": [],
   "source": []
  }
 ],
 "metadata": {
  "kernelspec": {
   "display_name": "Python 3 (ipykernel)",
   "language": "python",
   "name": "python3"
  },
  "language_info": {
   "codemirror_mode": {
    "name": "ipython",
    "version": 3
   },
   "file_extension": ".py",
   "mimetype": "text/x-python",
   "name": "python",
   "nbconvert_exporter": "python",
   "pygments_lexer": "ipython3",
   "version": "3.10.8"
  }
 },
 "nbformat": 4,
 "nbformat_minor": 5
}
