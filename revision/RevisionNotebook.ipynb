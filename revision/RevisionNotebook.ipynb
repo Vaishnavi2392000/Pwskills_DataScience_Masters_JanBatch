{
 "cells": [
  {
   "cell_type": "markdown",
   "id": "7c3c9de0-7c77-4669-bffa-ce0a0c8f65d0",
   "metadata": {},
   "source": [
    "# Day 1: Basic Data types By Krish Sir from masters batch"
   ]
  },
  {
   "cell_type": "code",
   "execution_count": 2,
   "id": "40790bdb-38f1-405b-b1f4-86e02f6e0e08",
   "metadata": {},
   "outputs": [
    {
     "data": {
      "text/plain": [
       "10"
      ]
     },
     "execution_count": 2,
     "metadata": {},
     "output_type": "execute_result"
    }
   ],
   "source": [
    "a=10\n",
    "a"
   ]
  },
  {
   "cell_type": "code",
   "execution_count": 3,
   "id": "e9cc9d2b-a001-4560-aa9f-67356b2bbaed",
   "metadata": {},
   "outputs": [
    {
     "data": {
      "text/plain": [
       "12.34"
      ]
     },
     "execution_count": 3,
     "metadata": {},
     "output_type": "execute_result"
    }
   ],
   "source": [
    "b=12.34\n",
    "b"
   ]
  },
  {
   "cell_type": "code",
   "execution_count": 4,
   "id": "30412cb8-ab67-4f4a-88f6-1c770f9a84ff",
   "metadata": {},
   "outputs": [
    {
     "data": {
      "text/plain": [
       "(3+5j)"
      ]
     },
     "execution_count": 4,
     "metadata": {},
     "output_type": "execute_result"
    }
   ],
   "source": [
    "c=3+5j\n",
    "c"
   ]
  },
  {
   "cell_type": "code",
   "execution_count": 6,
   "id": "d6dba19d-a748-41e1-8d74-96df8897eb9a",
   "metadata": {},
   "outputs": [
    {
     "data": {
      "text/plain": [
       "'pwskills'"
      ]
     },
     "execution_count": 6,
     "metadata": {},
     "output_type": "execute_result"
    }
   ],
   "source": [
    "d=\"pwskills\"\n",
    "d"
   ]
  },
  {
   "cell_type": "code",
   "execution_count": 7,
   "id": "2dbc68ac-9c9f-4449-8499-f45a655fe5c7",
   "metadata": {},
   "outputs": [
    {
     "data": {
      "text/plain": [
       "int"
      ]
     },
     "execution_count": 7,
     "metadata": {},
     "output_type": "execute_result"
    }
   ],
   "source": [
    "type(a)"
   ]
  },
  {
   "cell_type": "code",
   "execution_count": 8,
   "id": "34c3f63a-dc56-493f-8162-bc8b9d6062b8",
   "metadata": {},
   "outputs": [
    {
     "data": {
      "text/plain": [
       "float"
      ]
     },
     "execution_count": 8,
     "metadata": {},
     "output_type": "execute_result"
    }
   ],
   "source": [
    "type(b)"
   ]
  },
  {
   "cell_type": "code",
   "execution_count": 9,
   "id": "8423caaa-6af6-4c72-a9f6-b6dd3c4371a2",
   "metadata": {},
   "outputs": [
    {
     "data": {
      "text/plain": [
       "complex"
      ]
     },
     "execution_count": 9,
     "metadata": {},
     "output_type": "execute_result"
    }
   ],
   "source": [
    "type(c)"
   ]
  },
  {
   "cell_type": "code",
   "execution_count": 10,
   "id": "2b954fb0-f546-4c2e-b4b2-34653b5cb989",
   "metadata": {},
   "outputs": [
    {
     "data": {
      "text/plain": [
       "str"
      ]
     },
     "execution_count": 10,
     "metadata": {},
     "output_type": "execute_result"
    }
   ],
   "source": [
    "type(d)"
   ]
  },
  {
   "cell_type": "code",
   "execution_count": 11,
   "id": "30affe92-cf73-43af-b220-106dbea13b60",
   "metadata": {},
   "outputs": [
    {
     "data": {
      "text/plain": [
       "'23'"
      ]
     },
     "execution_count": 11,
     "metadata": {},
     "output_type": "execute_result"
    }
   ],
   "source": [
    "a=23\n",
    "str(a)"
   ]
  },
  {
   "cell_type": "code",
   "execution_count": 13,
   "id": "21cff8d6-7b01-481e-bb6a-e8b243eac8db",
   "metadata": {},
   "outputs": [
    {
     "data": {
      "text/plain": [
       "123"
      ]
     },
     "execution_count": 13,
     "metadata": {},
     "output_type": "execute_result"
    }
   ],
   "source": [
    "a=\"123\"\n",
    "int(a)"
   ]
  },
  {
   "cell_type": "markdown",
   "id": "52aafe5f-f539-4b3c-bc17-550aae24d5e5",
   "metadata": {},
   "source": [
    "## we can typecast integer to the string but if we have to typecast string to the integer then string must be an integer"
   ]
  },
  {
   "cell_type": "code",
   "execution_count": 14,
   "id": "7d76ab25-e8e8-40e5-ba8f-1d49eeca0732",
   "metadata": {},
   "outputs": [
    {
     "ename": "ValueError",
     "evalue": "invalid literal for int() with base 10: 'A'",
     "output_type": "error",
     "traceback": [
      "\u001b[0;31m---------------------------------------------------------------------------\u001b[0m",
      "\u001b[0;31mValueError\u001b[0m                                Traceback (most recent call last)",
      "Cell \u001b[0;32mIn[14], line 2\u001b[0m\n\u001b[1;32m      1\u001b[0m a\u001b[38;5;241m=\u001b[39m\u001b[38;5;124m\"\u001b[39m\u001b[38;5;124mA\u001b[39m\u001b[38;5;124m\"\u001b[39m\n\u001b[0;32m----> 2\u001b[0m \u001b[38;5;28;43mint\u001b[39;49m\u001b[43m(\u001b[49m\u001b[43ma\u001b[49m\u001b[43m)\u001b[49m\n",
      "\u001b[0;31mValueError\u001b[0m: invalid literal for int() with base 10: 'A'"
     ]
    }
   ],
   "source": [
    "a=\"A\"\n",
    "int(a)"
   ]
  },
  {
   "cell_type": "code",
   "execution_count": 15,
   "id": "68b3f26d-50f1-4010-8c36-df2aa451eb6e",
   "metadata": {},
   "outputs": [
    {
     "data": {
      "text/plain": [
       "2"
      ]
     },
     "execution_count": 15,
     "metadata": {},
     "output_type": "execute_result"
    }
   ],
   "source": [
    "1+1"
   ]
  },
  {
   "cell_type": "code",
   "execution_count": 16,
   "id": "72ca9969-f916-4369-983c-7e59964fadd3",
   "metadata": {},
   "outputs": [
    {
     "data": {
      "text/plain": [
       "'pwskills'"
      ]
     },
     "execution_count": 16,
     "metadata": {},
     "output_type": "execute_result"
    }
   ],
   "source": [
    "\"pw\"+\"skills\""
   ]
  },
  {
   "cell_type": "code",
   "execution_count": 17,
   "id": "73f01100-5693-4dd6-9a93-d86e073fc306",
   "metadata": {},
   "outputs": [
    {
     "ename": "TypeError",
     "evalue": "can only concatenate str (not \"int\") to str",
     "output_type": "error",
     "traceback": [
      "\u001b[0;31m---------------------------------------------------------------------------\u001b[0m",
      "\u001b[0;31mTypeError\u001b[0m                                 Traceback (most recent call last)",
      "Cell \u001b[0;32mIn[17], line 1\u001b[0m\n\u001b[0;32m----> 1\u001b[0m \u001b[38;5;124;43m\"\u001b[39;49m\u001b[38;5;124;43m1\u001b[39;49m\u001b[38;5;124;43m\"\u001b[39;49m\u001b[38;5;241;43m+\u001b[39;49m\u001b[38;5;241;43m1\u001b[39;49m\n",
      "\u001b[0;31mTypeError\u001b[0m: can only concatenate str (not \"int\") to str"
     ]
    }
   ],
   "source": [
    "\"1\"+1\n"
   ]
  },
  {
   "cell_type": "markdown",
   "id": "cb801c11-1563-4d19-a760-29cdd92115c0",
   "metadata": {},
   "source": [
    "## typeconversion is possible with the same data types"
   ]
  },
  {
   "cell_type": "code",
   "execution_count": 18,
   "id": "b9dc21b0-9542-4d46-bc2b-f478828cc8cc",
   "metadata": {},
   "outputs": [
    {
     "data": {
      "text/plain": [
       "True"
      ]
     },
     "execution_count": 18,
     "metadata": {},
     "output_type": "execute_result"
    }
   ],
   "source": [
    "bool(1)"
   ]
  },
  {
   "cell_type": "code",
   "execution_count": 19,
   "id": "8adb760f-7aa9-4f07-abea-a1764fb3698f",
   "metadata": {},
   "outputs": [
    {
     "data": {
      "text/plain": [
       "False"
      ]
     },
     "execution_count": 19,
     "metadata": {},
     "output_type": "execute_result"
    }
   ],
   "source": [
    "bool(0)"
   ]
  },
  {
   "cell_type": "code",
   "execution_count": 20,
   "id": "69db9bdd-5c27-446a-ad36-213ee9edfee1",
   "metadata": {},
   "outputs": [
    {
     "data": {
      "text/plain": [
       "True"
      ]
     },
     "execution_count": 20,
     "metadata": {},
     "output_type": "execute_result"
    }
   ],
   "source": [
    "bool(-9090)"
   ]
  },
  {
   "cell_type": "markdown",
   "id": "99bf5e37-3766-4756-960c-e2414cde677b",
   "metadata": {},
   "source": [
    "## boolean of every positive, negative value is always True. But Boolean of 0 is always False"
   ]
  },
  {
   "cell_type": "markdown",
   "id": "004724f5-9680-406a-ba08-6b69de77c025",
   "metadata": {},
   "source": [
    "# Day 2: print Formatting, conditional statements by Krish Naik from masters Batch"
   ]
  },
  {
   "cell_type": "markdown",
   "id": "13fd85ad-317e-4c14-9c77-92b66000667b",
   "metadata": {},
   "source": [
    "### print fomratting"
   ]
  },
  {
   "cell_type": "code",
   "execution_count": 21,
   "id": "7031b5b9-5b0b-4c21-ac68-4c3646ff2a03",
   "metadata": {},
   "outputs": [
    {
     "name": "stdout",
     "output_type": "stream",
     "text": [
      "my name is shreya\n",
      "my age is  24\n"
     ]
    }
   ],
   "source": [
    "name=\"shreya\"\n",
    "age=24\n",
    "print(\"my name is\",name)\n",
    "print(\"my age is \",age)\n"
   ]
  },
  {
   "cell_type": "code",
   "execution_count": 22,
   "id": "f44c00e0-5ccd-4adf-bcdf-16baddf66353",
   "metadata": {},
   "outputs": [
    {
     "name": "stdout",
     "output_type": "stream",
     "text": [
      "my name is shreya and age is 24\n"
     ]
    }
   ],
   "source": [
    "print(f\"my name is {name} and age is {age}\")"
   ]
  },
  {
   "cell_type": "code",
   "execution_count": 23,
   "id": "2f2e031c-1def-4622-882e-6f67f96ca0a7",
   "metadata": {},
   "outputs": [
    {
     "name": "stdout",
     "output_type": "stream",
     "text": [
      "my name is shreya and age is 24\n"
     ]
    }
   ],
   "source": [
    "print(\"my name is {} and age is {}\".format(name,age))"
   ]
  },
  {
   "cell_type": "markdown",
   "id": "45005b67-0ee3-4410-89b3-043a577e5e80",
   "metadata": {},
   "source": [
    "## if-else statements"
   ]
  },
  {
   "cell_type": "code",
   "execution_count": 31,
   "id": "5f689ebb-7550-443a-a838-b3a7b93a051b",
   "metadata": {},
   "outputs": [
    {
     "name": "stdin",
     "output_type": "stream",
     "text": [
      "enter the amount 6789\n"
     ]
    },
    {
     "name": "stdout",
     "output_type": "stream",
     "text": [
      "after wthdraw the amount is 3211\n",
      "enjoy\n"
     ]
    }
   ],
   "source": [
    "amount=int(input(\"enter the amount\"))\n",
    "if(amount>10000):\n",
    "    print(\"insufficient balence\")\n",
    "elif(amount<10000):\n",
    "    if(amount<500):\n",
    "        print(\"can't withdraw lesser than 10000\")\n",
    "    else:\n",
    "        print(\"after wthdraw the amount is\",10000-amount)\n",
    "print(\"enjoy\")\n",
    "        "
   ]
  },
  {
   "cell_type": "markdown",
   "id": "c5b1eeab-668a-4cc9-89e9-6ad1b8071d7c",
   "metadata": {},
   "source": [
    "## while loop\n"
   ]
  },
  {
   "cell_type": "code",
   "execution_count": 42,
   "id": "dbc6e734-bacf-4199-8636-4298becd2104",
   "metadata": {},
   "outputs": [
    {
     "name": "stdout",
     "output_type": "stream",
     "text": [
      "pwskills"
     ]
    }
   ],
   "source": [
    "s=\"pwskills\"\n",
    "l=0\n",
    "while(l!=len(s)):\n",
    "    print(s[l],end='')\n",
    "    l+=1\n",
    "\n"
   ]
  },
  {
   "cell_type": "markdown",
   "id": "28cf4b9f-fa16-4086-9378-220ee7606409",
   "metadata": {},
   "source": [
    "## for loop"
   ]
  },
  {
   "cell_type": "code",
   "execution_count": 46,
   "id": "80daf085-9d71-40f3-b075-fc8b5367b848",
   "metadata": {},
   "outputs": [
    {
     "name": "stdout",
     "output_type": "stream",
     "text": [
      "m\n",
      "a\n",
      "n\n",
      "g\n",
      "o\n"
     ]
    }
   ],
   "source": [
    "s=\"mango\"\n",
    "for i in range(len(s)):\n",
    "    print(s[i])"
   ]
  },
  {
   "cell_type": "markdown",
   "id": "75dd95ba-6467-480f-b332-e459ca342eeb",
   "metadata": {},
   "source": [
    "## string operations and string slicing "
   ]
  },
  {
   "cell_type": "code",
   "execution_count": 49,
   "id": "3386b9ae-d35b-43f6-97ba-e16131939aaf",
   "metadata": {},
   "outputs": [
    {
     "data": {
      "text/plain": [
       "'pw skills data science master course'"
      ]
     },
     "execution_count": 49,
     "metadata": {},
     "output_type": "execute_result"
    }
   ],
   "source": [
    "str1=\"pw skills data science master course\"\n",
    "str1"
   ]
  },
  {
   "cell_type": "code",
   "execution_count": 50,
   "id": "fd2c4c54-9568-4147-bd1d-75998f8d411a",
   "metadata": {},
   "outputs": [
    {
     "data": {
      "text/plain": [
       "' retsam ecneics atad sll'"
      ]
     },
     "execution_count": 50,
     "metadata": {},
     "output_type": "execute_result"
    }
   ],
   "source": [
    "str1[-7:5:-1]"
   ]
  },
  {
   "cell_type": "code",
   "execution_count": 52,
   "id": "bf68529b-4e07-4730-9335-df481aba1744",
   "metadata": {},
   "outputs": [
    {
     "data": {
      "text/plain": [
       "5"
      ]
     },
     "execution_count": 52,
     "metadata": {},
     "output_type": "execute_result"
    }
   ],
   "source": [
    "str1.count(\"s\")"
   ]
  },
  {
   "cell_type": "code",
   "execution_count": 53,
   "id": "7301f6b7-478a-46b8-9144-b8298357c578",
   "metadata": {},
   "outputs": [
    {
     "data": {
      "text/plain": [
       "0"
      ]
     },
     "execution_count": 53,
     "metadata": {},
     "output_type": "execute_result"
    }
   ],
   "source": [
    "str1.count(\"z\")"
   ]
  },
  {
   "cell_type": "code",
   "execution_count": 54,
   "id": "e59d9701-1852-40f2-a39d-8e9dc22068de",
   "metadata": {},
   "outputs": [
    {
     "data": {
      "text/plain": [
       "'pwskills data science masters course'"
      ]
     },
     "execution_count": 54,
     "metadata": {},
     "output_type": "execute_result"
    }
   ],
   "source": [
    "s1=\"pwskills data science masters course\"\n",
    "s1"
   ]
  },
  {
   "cell_type": "code",
   "execution_count": 55,
   "id": "6353d996-3c20-4b6c-a57b-1d2c33c52e3e",
   "metadata": {},
   "outputs": [
    {
     "data": {
      "text/plain": [
       "1"
      ]
     },
     "execution_count": 55,
     "metadata": {},
     "output_type": "execute_result"
    }
   ],
   "source": [
    "s1.count(\"w\")"
   ]
  },
  {
   "cell_type": "code",
   "execution_count": 56,
   "id": "4f715d63-7497-4f1d-a673-c5f88205d83e",
   "metadata": {},
   "outputs": [
    {
     "data": {
      "text/plain": [
       "36"
      ]
     },
     "execution_count": 56,
     "metadata": {},
     "output_type": "execute_result"
    }
   ],
   "source": [
    "len(s1)"
   ]
  },
  {
   "cell_type": "code",
   "execution_count": 57,
   "id": "2cf5ec23-747b-4dc2-ae8b-6017ff084754",
   "metadata": {},
   "outputs": [
    {
     "data": {
      "text/plain": [
       "'PWSKILLS DATA SCIENCE MASTERS COURSE'"
      ]
     },
     "execution_count": 57,
     "metadata": {},
     "output_type": "execute_result"
    }
   ],
   "source": [
    "s1.upper()"
   ]
  },
  {
   "cell_type": "code",
   "execution_count": 59,
   "id": "13dab903-4f2f-4b8d-89a8-efb4febfa930",
   "metadata": {},
   "outputs": [
    {
     "data": {
      "text/plain": [
       "'Pwskills Data Science Masters Course'"
      ]
     },
     "execution_count": 59,
     "metadata": {},
     "output_type": "execute_result"
    }
   ],
   "source": [
    "s1.title()"
   ]
  },
  {
   "cell_type": "code",
   "execution_count": 60,
   "id": "cfd0f07c-1f10-4a96-b778-3ad4930ca60b",
   "metadata": {},
   "outputs": [
    {
     "data": {
      "text/plain": [
       "'Pwskills data science masters course'"
      ]
     },
     "execution_count": 60,
     "metadata": {},
     "output_type": "execute_result"
    }
   ],
   "source": [
    "s1.capitalize()"
   ]
  },
  {
   "cell_type": "code",
   "execution_count": 61,
   "id": "30f78731-4e12-444e-af5d-658f6e3e295c",
   "metadata": {},
   "outputs": [
    {
     "data": {
      "text/plain": [
       "'pwskills data science masters course'"
      ]
     },
     "execution_count": 61,
     "metadata": {},
     "output_type": "execute_result"
    }
   ],
   "source": [
    "s1.casefold()"
   ]
  },
  {
   "cell_type": "code",
   "execution_count": 62,
   "id": "ac9dd47a-c893-40b0-819e-ad6cad9c4262",
   "metadata": {},
   "outputs": [
    {
     "data": {
      "text/plain": [
       "True"
      ]
     },
     "execution_count": 62,
     "metadata": {},
     "output_type": "execute_result"
    }
   ],
   "source": [
    "s1.endswith(\"e\")"
   ]
  },
  {
   "cell_type": "code",
   "execution_count": 63,
   "id": "9590a59c-a7f8-4935-8035-a43e6e1fda35",
   "metadata": {},
   "outputs": [
    {
     "data": {
      "text/plain": [
       "False"
      ]
     },
     "execution_count": 63,
     "metadata": {},
     "output_type": "execute_result"
    }
   ],
   "source": [
    "s1.startswith(\"x\")"
   ]
  },
  {
   "cell_type": "code",
   "execution_count": 65,
   "id": "84e765e4-ffd1-4960-8290-1671bfc903c7",
   "metadata": {},
   "outputs": [
    {
     "data": {
      "text/plain": [
       "2"
      ]
     },
     "execution_count": 65,
     "metadata": {},
     "output_type": "execute_result"
    }
   ],
   "source": [
    "s1.index(\"s\")"
   ]
  },
  {
   "cell_type": "code",
   "execution_count": 66,
   "id": "2c40765c-ec98-408d-bcf9-2e7e735ed896",
   "metadata": {},
   "outputs": [
    {
     "data": {
      "text/plain": [
       "True"
      ]
     },
     "execution_count": 66,
     "metadata": {},
     "output_type": "execute_result"
    }
   ],
   "source": [
    "s1.isprintable()"
   ]
  },
  {
   "cell_type": "code",
   "execution_count": 67,
   "id": "49262995-60bd-4a96-a936-a060a1342f20",
   "metadata": {},
   "outputs": [
    {
     "data": {
      "text/plain": [
       "'pwskills data science masters course'"
      ]
     },
     "execution_count": 67,
     "metadata": {},
     "output_type": "execute_result"
    }
   ],
   "source": [
    "s1.strip()"
   ]
  },
  {
   "cell_type": "code",
   "execution_count": 74,
   "id": "5cef839e-ffd7-42e2-85b0-a65338f8e428",
   "metadata": {},
   "outputs": [
    {
     "data": {
      "text/plain": [
       "['pwskills', 'data', 'science', 'masters', 'course']"
      ]
     },
     "execution_count": 74,
     "metadata": {},
     "output_type": "execute_result"
    }
   ],
   "source": [
    "s2=s1.split(\" \")\n",
    "s2"
   ]
  },
  {
   "cell_type": "code",
   "execution_count": 77,
   "id": "d500d7ea-4478-4b08-b6cd-f01bf9fdb105",
   "metadata": {},
   "outputs": [
    {
     "data": {
      "text/plain": [
       "'pwskills data science masters course'"
      ]
     },
     "execution_count": 77,
     "metadata": {},
     "output_type": "execute_result"
    }
   ],
   "source": [
    "' '.join(s2)"
   ]
  },
  {
   "cell_type": "code",
   "execution_count": 78,
   "id": "e1aa175d-1c8d-416c-bc97-0ebece03808e",
   "metadata": {},
   "outputs": [
    {
     "data": {
      "text/plain": [
       "'pwskills data science masters'"
      ]
     },
     "execution_count": 78,
     "metadata": {},
     "output_type": "execute_result"
    }
   ],
   "source": [
    "s1=\"pwskills data science masters\"\n",
    "s1"
   ]
  },
  {
   "cell_type": "code",
   "execution_count": 79,
   "id": "98962480-cf3b-4327-ac36-d3d119ffad92",
   "metadata": {},
   "outputs": [
    {
     "data": {
      "text/plain": [
       "140388586683040"
      ]
     },
     "execution_count": 79,
     "metadata": {},
     "output_type": "execute_result"
    }
   ],
   "source": [
    "id(s1)"
   ]
  },
  {
   "cell_type": "code",
   "execution_count": 82,
   "id": "d270b3dd-0e89-48c9-9edd-628c67019a0a",
   "metadata": {},
   "outputs": [
    {
     "data": {
      "text/plain": [
       "'pwskills DATA science masters'"
      ]
     },
     "execution_count": 82,
     "metadata": {},
     "output_type": "execute_result"
    }
   ],
   "source": [
    "s2=s1.replace(\"data\",\"DATA\")\n",
    "s2"
   ]
  },
  {
   "cell_type": "code",
   "execution_count": 83,
   "id": "02ae0f34-0684-4c80-9cf9-30442da3680b",
   "metadata": {},
   "outputs": [
    {
     "data": {
      "text/plain": [
       "140388586850384"
      ]
     },
     "execution_count": 83,
     "metadata": {},
     "output_type": "execute_result"
    }
   ],
   "source": [
    "id(s2)"
   ]
  },
  {
   "cell_type": "code",
   "execution_count": 84,
   "id": "42d1de80-7859-4a03-b689-add1ea5d60db",
   "metadata": {},
   "outputs": [
    {
     "ename": "TypeError",
     "evalue": "'str' object does not support item assignment",
     "output_type": "error",
     "traceback": [
      "\u001b[0;31m---------------------------------------------------------------------------\u001b[0m",
      "\u001b[0;31mTypeError\u001b[0m                                 Traceback (most recent call last)",
      "Cell \u001b[0;32mIn[84], line 1\u001b[0m\n\u001b[0;32m----> 1\u001b[0m \u001b[43ms2\u001b[49m\u001b[43m[\u001b[49m\u001b[38;5;124;43m\"\u001b[39;49m\u001b[38;5;124;43mp\u001b[39;49m\u001b[38;5;124;43m\"\u001b[39;49m\u001b[43m]\u001b[49m\u001b[38;5;241m=\u001b[39m\u001b[38;5;124m\"\u001b[39m\u001b[38;5;124mP\u001b[39m\u001b[38;5;124m\"\u001b[39m\n",
      "\u001b[0;31mTypeError\u001b[0m: 'str' object does not support item assignment"
     ]
    }
   ],
   "source": [
    "s2[\"p\"]=\"P\""
   ]
  },
  {
   "cell_type": "markdown",
   "id": "fe7ea2fe-c27f-442c-a0a2-e8022abbc595",
   "metadata": {},
   "source": [
    "### string supports word assignment but not character assignments"
   ]
  },
  {
   "cell_type": "code",
   "execution_count": 85,
   "id": "f9408bc3-ba9d-4863-a925-c36abb41938d",
   "metadata": {},
   "outputs": [],
   "source": [
    "s1=\"shreya\"\n"
   ]
  },
  {
   "cell_type": "code",
   "execution_count": 87,
   "id": "c1c7ba13-4366-4272-82cb-610eb2b3b6fb",
   "metadata": {},
   "outputs": [
    {
     "data": {
      "text/plain": [
       "'ayerhs'"
      ]
     },
     "execution_count": 87,
     "metadata": {},
     "output_type": "execute_result"
    }
   ],
   "source": [
    "''.join(reversed(s1))"
   ]
  },
  {
   "cell_type": "markdown",
   "id": "b84d1d62-bc21-4e07-a9d2-58e0a7c220d5",
   "metadata": {},
   "source": [
    "## Day 4: List slicing and list operations Krish Naik masters batch"
   ]
  },
  {
   "cell_type": "code",
   "execution_count": 88,
   "id": "10f8da1a-0302-4c72-b33c-02521c8b2fb3",
   "metadata": {},
   "outputs": [],
   "source": [
    "l=[12,3,4,5,4,7]"
   ]
  },
  {
   "cell_type": "code",
   "execution_count": 90,
   "id": "69ace2da-4f73-4dc2-a5f0-ac45cc230aac",
   "metadata": {},
   "outputs": [
    {
     "data": {
      "text/plain": [
       "[12, 3, 4, 5, 4, 7, 'pwskills data', 'pwskills data']"
      ]
     },
     "execution_count": 90,
     "metadata": {},
     "output_type": "execute_result"
    }
   ],
   "source": [
    "l.append(\"pwskills data\")\n",
    "l"
   ]
  },
  {
   "cell_type": "code",
   "execution_count": 91,
   "id": "921d7ed1-c8da-44e0-95f9-8dd4ef560321",
   "metadata": {},
   "outputs": [
    {
     "data": {
      "text/plain": [
       "1"
      ]
     },
     "execution_count": 91,
     "metadata": {},
     "output_type": "execute_result"
    }
   ],
   "source": [
    "l.count(12)"
   ]
  },
  {
   "cell_type": "code",
   "execution_count": 92,
   "id": "6bfc8996-9757-43ed-8c37-469eb59ad800",
   "metadata": {},
   "outputs": [
    {
     "data": {
      "text/plain": [
       "0"
      ]
     },
     "execution_count": 92,
     "metadata": {},
     "output_type": "execute_result"
    }
   ],
   "source": [
    "l.count(\"science\")"
   ]
  },
  {
   "cell_type": "code",
   "execution_count": 95,
   "id": "992aaa38-8861-4186-86be-831f2de78d92",
   "metadata": {},
   "outputs": [
    {
     "data": {
      "text/plain": [
       "['masters', 'masters', 12, 3, 4, 5, 4, 7, 'pwskills data', 'pwskills data']"
      ]
     },
     "execution_count": 95,
     "metadata": {},
     "output_type": "execute_result"
    }
   ],
   "source": [
    "l.insert(0,\"masters\")\n",
    "l"
   ]
  },
  {
   "cell_type": "code",
   "execution_count": 97,
   "id": "ac4fd520-36a8-4316-8c07-54892d109547",
   "metadata": {},
   "outputs": [
    {
     "data": {
      "text/plain": [
       "['masters', 'masters', 12, 3, 4, 5, 4, 7, 'pwskills data', 'pwskills data']"
      ]
     },
     "execution_count": 97,
     "metadata": {},
     "output_type": "execute_result"
    }
   ],
   "source": [
    "l.reverse()\n",
    "l"
   ]
  },
  {
   "cell_type": "code",
   "execution_count": 98,
   "id": "2ef399f7-d6b5-4b7f-98aa-8242d0a4209d",
   "metadata": {},
   "outputs": [
    {
     "ename": "ValueError",
     "evalue": "list.remove(x): x not in list",
     "output_type": "error",
     "traceback": [
      "\u001b[0;31m---------------------------------------------------------------------------\u001b[0m",
      "\u001b[0;31mValueError\u001b[0m                                Traceback (most recent call last)",
      "Cell \u001b[0;32mIn[98], line 1\u001b[0m\n\u001b[0;32m----> 1\u001b[0m \u001b[43ml\u001b[49m\u001b[38;5;241;43m.\u001b[39;49m\u001b[43mremove\u001b[49m\u001b[43m(\u001b[49m\u001b[38;5;124;43m\"\u001b[39;49m\u001b[38;5;124;43m12\u001b[39;49m\u001b[38;5;124;43m\"\u001b[39;49m\u001b[43m)\u001b[49m\n",
      "\u001b[0;31mValueError\u001b[0m: list.remove(x): x not in list"
     ]
    }
   ],
   "source": [
    "l.remove(\"12\")"
   ]
  },
  {
   "cell_type": "code",
   "execution_count": 100,
   "id": "85a9b08e-b301-4c99-b2b8-08e03710fba7",
   "metadata": {},
   "outputs": [],
   "source": [
    "l.remove(12)"
   ]
  },
  {
   "cell_type": "code",
   "execution_count": 104,
   "id": "a87e3ac8-5a2b-4a77-b726-4db2cb13f9fc",
   "metadata": {},
   "outputs": [
    {
     "data": {
      "text/plain": [
       "['masters',\n",
       " 'masters',\n",
       " 3,\n",
       " 4,\n",
       " 5,\n",
       " 4,\n",
       " 7,\n",
       " 'pwskills data',\n",
       " 'pwskills data',\n",
       " 'pwskills',\n",
       " 'masters',\n",
       " 'krish',\n",
       " 'naik',\n",
       " 'krish',\n",
       " 'naik',\n",
       " 'krish',\n",
       " 'naik']"
      ]
     },
     "execution_count": 104,
     "metadata": {},
     "output_type": "execute_result"
    }
   ],
   "source": [
    "l.extend([\"krish\",\"naik\"])\n",
    "l"
   ]
  },
  {
   "cell_type": "code",
   "execution_count": 106,
   "id": "fda54755-d000-4d77-beb0-50ac1dce775a",
   "metadata": {},
   "outputs": [
    {
     "data": {
      "text/plain": [
       "[]"
      ]
     },
     "execution_count": 106,
     "metadata": {},
     "output_type": "execute_result"
    }
   ],
   "source": [
    "l.clear()\n",
    "l"
   ]
  },
  {
   "cell_type": "code",
   "execution_count": 107,
   "id": "3d5b02e7-60d6-472b-ab9a-9add9bc21e1c",
   "metadata": {},
   "outputs": [],
   "source": [
    "l=[1,2,3,4,5]"
   ]
  },
  {
   "cell_type": "code",
   "execution_count": 108,
   "id": "c548be53-b803-438b-acbd-b2c477a332d3",
   "metadata": {},
   "outputs": [
    {
     "data": {
      "text/plain": [
       "[5, 4, 3, 2, 1]"
      ]
     },
     "execution_count": 108,
     "metadata": {},
     "output_type": "execute_result"
    }
   ],
   "source": [
    "l[::-1]"
   ]
  },
  {
   "cell_type": "code",
   "execution_count": 109,
   "id": "3ce95374-b3f8-43a5-aa61-d36822aa8a4d",
   "metadata": {},
   "outputs": [
    {
     "data": {
      "text/plain": [
       "[5, 4, 3, 2]"
      ]
     },
     "execution_count": 109,
     "metadata": {},
     "output_type": "execute_result"
    }
   ],
   "source": [
    "l[-1:-5:-1]"
   ]
  },
  {
   "cell_type": "code",
   "execution_count": 111,
   "id": "9b2e44cb-e722-4358-b4f1-b39699934d98",
   "metadata": {},
   "outputs": [
    {
     "data": {
      "text/plain": [
       "[4, 3]"
      ]
     },
     "execution_count": 111,
     "metadata": {},
     "output_type": "execute_result"
    }
   ],
   "source": [
    "l[3:-4:-1]"
   ]
  },
  {
   "cell_type": "code",
   "execution_count": 114,
   "id": "1f54e77a-ef30-4482-a3b2-64e5016599e3",
   "metadata": {},
   "outputs": [
    {
     "data": {
      "text/plain": [
       "45"
      ]
     },
     "execution_count": 114,
     "metadata": {},
     "output_type": "execute_result"
    }
   ],
   "source": [
    "sum([i for i in range(1,10)])"
   ]
  },
  {
   "cell_type": "code",
   "execution_count": 115,
   "id": "05f83584-3058-482c-9b55-65ab3c52e066",
   "metadata": {},
   "outputs": [
    {
     "data": {
      "text/plain": [
       "['pwskills', 'masters', 'amazing']"
      ]
     },
     "execution_count": 115,
     "metadata": {},
     "output_type": "execute_result"
    }
   ],
   "source": [
    "l=['pwskills','masters','amazing']\n",
    "l"
   ]
  },
  {
   "cell_type": "code",
   "execution_count": 117,
   "id": "a22d5aff-0f60-48ff-911c-04b30629d837",
   "metadata": {},
   "outputs": [
    {
     "data": {
      "text/plain": [
       "['p', 'm', 'a']"
      ]
     },
     "execution_count": 117,
     "metadata": {},
     "output_type": "execute_result"
    }
   ],
   "source": [
    "[i[0] for i in l]"
   ]
  },
  {
   "cell_type": "code",
   "execution_count": 118,
   "id": "a31f6434-e6bc-43c4-825a-6d2c0482b34d",
   "metadata": {},
   "outputs": [
    {
     "data": {
      "text/plain": [
       "['pwskills']"
      ]
     },
     "execution_count": 118,
     "metadata": {},
     "output_type": "execute_result"
    }
   ],
   "source": [
    "[i for i in l if i[0]=='p']"
   ]
  },
  {
   "cell_type": "markdown",
   "id": "5f1f00da-218f-4b4e-ad38-2d579a0ed016",
   "metadata": {},
   "source": [
    "## day 5: dictionary and it's operations"
   ]
  },
  {
   "cell_type": "code",
   "execution_count": 119,
   "id": "1ff2a1d3-7d53-4522-a9a2-b061cf8c3069",
   "metadata": {},
   "outputs": [
    {
     "data": {
      "text/plain": [
       "dict"
      ]
     },
     "execution_count": 119,
     "metadata": {},
     "output_type": "execute_result"
    }
   ],
   "source": [
    "d={}\n",
    "type(d)"
   ]
  },
  {
   "cell_type": "code",
   "execution_count": 120,
   "id": "3af6174f-d4f0-40bc-86a5-f7455fd5acfb",
   "metadata": {},
   "outputs": [
    {
     "data": {
      "text/plain": [
       "{'corse': ' pwskills data science', 'mentor': 'sudhanshu sir'}"
      ]
     },
     "execution_count": 120,
     "metadata": {},
     "output_type": "execute_result"
    }
   ],
   "source": [
    "d={\"corse\":\" pwskills data science\",\"mentor\":\"sudhanshu sir\"}\n",
    "d"
   ]
  },
  {
   "cell_type": "markdown",
   "id": "3e89ff11-b0cf-4e74-b889-daef86ffbcff",
   "metadata": {},
   "source": [
    "#### keys can be hashables only"
   ]
  },
  {
   "cell_type": "code",
   "execution_count": 122,
   "id": "76205849-921d-4b7d-a7c1-95d2aea3b60b",
   "metadata": {},
   "outputs": [
    {
     "data": {
      "text/plain": [
       "{123: 'pwskills', 456: 'data science'}"
      ]
     },
     "execution_count": 122,
     "metadata": {},
     "output_type": "execute_result"
    }
   ],
   "source": [
    "d1={123:\"pwskills\",456:\"data science\"}\n",
    "d1"
   ]
  },
  {
   "cell_type": "code",
   "execution_count": 123,
   "id": "bc75eb0b-ddac-4f4f-b103-8a9837430246",
   "metadata": {},
   "outputs": [
    {
     "data": {
      "text/plain": [
       "{(1, 2, 3): 'pwskills', (4, 5, 6): ['masters']}"
      ]
     },
     "execution_count": 123,
     "metadata": {},
     "output_type": "execute_result"
    }
   ],
   "source": [
    "d2={(1,2,3):\"pwskills\",(4,5,6):[\"masters\"]}\n",
    "d2"
   ]
  },
  {
   "cell_type": "code",
   "execution_count": 124,
   "id": "cb96625d-ee99-4b9f-918f-53406dc86210",
   "metadata": {},
   "outputs": [
    {
     "ename": "TypeError",
     "evalue": "unhashable type: 'set'",
     "output_type": "error",
     "traceback": [
      "\u001b[0;31m---------------------------------------------------------------------------\u001b[0m",
      "\u001b[0;31mTypeError\u001b[0m                                 Traceback (most recent call last)",
      "Cell \u001b[0;32mIn[124], line 1\u001b[0m\n\u001b[0;32m----> 1\u001b[0m d3\u001b[38;5;241m=\u001b[39m{{\u001b[38;5;241m1\u001b[39m,\u001b[38;5;241m2\u001b[39m,\u001b[38;5;241m3\u001b[39m}:[\u001b[38;5;241m12\u001b[39m,\u001b[38;5;241m45\u001b[39m]}\n",
      "\u001b[0;31mTypeError\u001b[0m: unhashable type: 'set'"
     ]
    }
   ],
   "source": [
    "d3={{1,2,3}:[12,45]}"
   ]
  },
  {
   "cell_type": "code",
   "execution_count": 125,
   "id": "423d4bfb-7125-4b24-bc09-9f41df22f774",
   "metadata": {},
   "outputs": [
    {
     "ename": "TypeError",
     "evalue": "unhashable type: 'list'",
     "output_type": "error",
     "traceback": [
      "\u001b[0;31m---------------------------------------------------------------------------\u001b[0m",
      "\u001b[0;31mTypeError\u001b[0m                                 Traceback (most recent call last)",
      "Cell \u001b[0;32mIn[125], line 1\u001b[0m\n\u001b[0;32m----> 1\u001b[0m d4\u001b[38;5;241m=\u001b[39m{[\u001b[38;5;241m1\u001b[39m,\u001b[38;5;241m2\u001b[39m,\u001b[38;5;241m3\u001b[39m]:\u001b[38;5;124m\"\u001b[39m\u001b[38;5;124mpwskills\u001b[39m\u001b[38;5;124m\"\u001b[39m,[\u001b[38;5;241m3\u001b[39m,\u001b[38;5;241m4\u001b[39m,\u001b[38;5;241m5\u001b[39m,\u001b[38;5;241m6\u001b[39m]:{\u001b[38;5;241m12\u001b[39m,\u001b[38;5;241m45\u001b[39m,\u001b[38;5;241m67\u001b[39m}}\n\u001b[1;32m      2\u001b[0m d4\n",
      "\u001b[0;31mTypeError\u001b[0m: unhashable type: 'list'"
     ]
    }
   ],
   "source": [
    "d4={[1,2,3]:\"pwskills\",[3,4,5,6]:{12,45,67}}\n",
    "d4"
   ]
  },
  {
   "cell_type": "markdown",
   "id": "b6b788f0-bf07-4893-93a8-d37e2208e216",
   "metadata": {},
   "source": [
    "#### keys can be only immutable objects but can not be mutable objects\n",
    "#### we can create the hash values for only immutable objects hence immutable objects can only  be keys \n",
    "#### string, tuple, boolean,int, float can only be keys \n",
    "#### dictionary, list, set can not be keys \n",
    "#### keys are always unique"
   ]
  },
  {
   "cell_type": "code",
   "execution_count": 126,
   "id": "20f81e16-4ae2-4d89-8ba5-04f7c6b8c956",
   "metadata": {},
   "outputs": [
    {
     "ename": "TypeError",
     "evalue": "unhashable type: 'set'",
     "output_type": "error",
     "traceback": [
      "\u001b[0;31m---------------------------------------------------------------------------\u001b[0m",
      "\u001b[0;31mTypeError\u001b[0m                                 Traceback (most recent call last)",
      "Cell \u001b[0;32mIn[126], line 1\u001b[0m\n\u001b[0;32m----> 1\u001b[0m d\u001b[38;5;241m=\u001b[39m{{\u001b[38;5;241m1\u001b[39m,\u001b[38;5;241m2\u001b[39m,\u001b[38;5;241m3\u001b[39m}:[\u001b[38;5;241m1\u001b[39m,\u001b[38;5;241m2\u001b[39m,\u001b[38;5;241m3\u001b[39m]}\n",
      "\u001b[0;31mTypeError\u001b[0m: unhashable type: 'set'"
     ]
    }
   ],
   "source": [
    "d={{1,2,3}:[1,2,3]}"
   ]
  },
  {
   "cell_type": "code",
   "execution_count": 127,
   "id": "d459fe58-872a-4a73-a19d-9966e74bde4a",
   "metadata": {},
   "outputs": [
    {
     "data": {
      "text/plain": [
       "{'corse': ' pwskills data science', 'mentor': 'sudhanshu sir'}"
      ]
     },
     "execution_count": 127,
     "metadata": {},
     "output_type": "execute_result"
    }
   ],
   "source": [
    "d2=d.copy()\n",
    "d2"
   ]
  },
  {
   "cell_type": "code",
   "execution_count": 128,
   "id": "39f5eb92-79e4-41c7-be17-25e1168c6a77",
   "metadata": {},
   "outputs": [
    {
     "data": {
      "text/plain": [
       "False"
      ]
     },
     "execution_count": 128,
     "metadata": {},
     "output_type": "execute_result"
    }
   ],
   "source": [
    "id(d)==id(d2)"
   ]
  },
  {
   "cell_type": "code",
   "execution_count": 129,
   "id": "7084c86a-76c3-41e5-aded-19c89e6d78f8",
   "metadata": {},
   "outputs": [],
   "source": [
    "d3=d2"
   ]
  },
  {
   "cell_type": "code",
   "execution_count": 130,
   "id": "334ec7d8-dfc6-4694-a4ac-996a3a18b2bd",
   "metadata": {},
   "outputs": [
    {
     "data": {
      "text/plain": [
       "True"
      ]
     },
     "execution_count": 130,
     "metadata": {},
     "output_type": "execute_result"
    }
   ],
   "source": [
    "id(d2)==id(d3)"
   ]
  },
  {
   "cell_type": "markdown",
   "id": "817beb1c-ed92-4437-97ca-055ed774cc5c",
   "metadata": {},
   "source": [
    "## deep copy is created by assigning the one dictionary to another while shallow copy is created by using the copy() function"
   ]
  },
  {
   "cell_type": "code",
   "execution_count": 132,
   "id": "3da08bd2-c30c-440a-9534-af1726bdf9a2",
   "metadata": {},
   "outputs": [
    {
     "data": {
      "text/plain": [
       "529344067295497451"
      ]
     },
     "execution_count": 132,
     "metadata": {},
     "output_type": "execute_result"
    }
   ],
   "source": [
    "hash((1,2,3))"
   ]
  },
  {
   "cell_type": "code",
   "execution_count": 133,
   "id": "486165f3-c10f-4fcd-aca8-52b4bb344999",
   "metadata": {},
   "outputs": [
    {
     "data": {
      "text/plain": [
       "4705670903333333564"
      ]
     },
     "execution_count": 133,
     "metadata": {},
     "output_type": "execute_result"
    }
   ],
   "source": [
    "hash(\"pwskills\")"
   ]
  },
  {
   "cell_type": "code",
   "execution_count": 134,
   "id": "924c2e97-7e94-412b-9ea8-a00a23bef4b1",
   "metadata": {},
   "outputs": [
    {
     "data": {
      "text/plain": [
       "1"
      ]
     },
     "execution_count": 134,
     "metadata": {},
     "output_type": "execute_result"
    }
   ],
   "source": [
    "hash(True)"
   ]
  },
  {
   "cell_type": "code",
   "execution_count": 136,
   "id": "41439b44-4a04-4353-924d-bfe48796a62e",
   "metadata": {},
   "outputs": [
    {
     "data": {
      "text/plain": [
       "100"
      ]
     },
     "execution_count": 136,
     "metadata": {},
     "output_type": "execute_result"
    }
   ],
   "source": [
    "hash(100)"
   ]
  },
  {
   "cell_type": "code",
   "execution_count": 137,
   "id": "64d0636e-54fe-4ec2-8c9e-a2aa79d96982",
   "metadata": {},
   "outputs": [
    {
     "ename": "TypeError",
     "evalue": "unhashable type: 'list'",
     "output_type": "error",
     "traceback": [
      "\u001b[0;31m---------------------------------------------------------------------------\u001b[0m",
      "\u001b[0;31mTypeError\u001b[0m                                 Traceback (most recent call last)",
      "Cell \u001b[0;32mIn[137], line 1\u001b[0m\n\u001b[0;32m----> 1\u001b[0m \u001b[38;5;28;43mhash\u001b[39;49m\u001b[43m(\u001b[49m\u001b[43m[\u001b[49m\u001b[38;5;241;43m1\u001b[39;49m\u001b[43m,\u001b[49m\u001b[38;5;241;43m2\u001b[39;49m\u001b[43m,\u001b[49m\u001b[38;5;241;43m3\u001b[39;49m\u001b[43m]\u001b[49m\u001b[43m)\u001b[49m\n",
      "\u001b[0;31mTypeError\u001b[0m: unhashable type: 'list'"
     ]
    }
   ],
   "source": [
    "hash([1,2,3])"
   ]
  },
  {
   "cell_type": "code",
   "execution_count": 138,
   "id": "19877e39-c536-4e76-9f8e-dfcd4473bd5f",
   "metadata": {},
   "outputs": [
    {
     "data": {
      "text/plain": [
       "-6293100015516186834"
      ]
     },
     "execution_count": 138,
     "metadata": {},
     "output_type": "execute_result"
    }
   ],
   "source": [
    "hash((12,3))"
   ]
  },
  {
   "cell_type": "code",
   "execution_count": 139,
   "id": "e04058fb-589f-4d6f-8eed-907b60f06d66",
   "metadata": {},
   "outputs": [],
   "source": [
    "s={1,2,3,4}"
   ]
  },
  {
   "cell_type": "code",
   "execution_count": 140,
   "id": "74c641a1-3050-4511-b339-6af515e73f8f",
   "metadata": {},
   "outputs": [
    {
     "name": "stdout",
     "output_type": "stream",
     "text": [
      "1\n",
      "2\n",
      "3\n",
      "4\n"
     ]
    }
   ],
   "source": [
    "for i in s:\n",
    "    print(i)"
   ]
  },
  {
   "cell_type": "code",
   "execution_count": 141,
   "id": "58b45f1f-add6-4d9c-a193-49364b6142e2",
   "metadata": {},
   "outputs": [
    {
     "ename": "TypeError",
     "evalue": "'set' object is not subscriptable",
     "output_type": "error",
     "traceback": [
      "\u001b[0;31m---------------------------------------------------------------------------\u001b[0m",
      "\u001b[0;31mTypeError\u001b[0m                                 Traceback (most recent call last)",
      "Cell \u001b[0;32mIn[141], line 1\u001b[0m\n\u001b[0;32m----> 1\u001b[0m \u001b[43ms\u001b[49m\u001b[43m[\u001b[49m\u001b[38;5;241;43m0\u001b[39;49m\u001b[43m]\u001b[49m\n",
      "\u001b[0;31mTypeError\u001b[0m: 'set' object is not subscriptable"
     ]
    }
   ],
   "source": [
    "s[0]"
   ]
  },
  {
   "cell_type": "markdown",
   "id": "bff0bb4e-beb1-4fed-9d65-2104a0785a10",
   "metadata": {},
   "source": [
    "####  set is an unordered collection of elements, that's why we can not extract the elements from the set"
   ]
  },
  {
   "cell_type": "code",
   "execution_count": 1,
   "id": "a9a319c6-4567-4841-be96-778bb469b8f8",
   "metadata": {},
   "outputs": [
    {
     "data": {
      "text/plain": [
       "{12, 34, 67}"
      ]
     },
     "execution_count": 1,
     "metadata": {},
     "output_type": "execute_result"
    }
   ],
   "source": [
    "s={12,34,67}\n",
    "s"
   ]
  },
  {
   "cell_type": "code",
   "execution_count": 2,
   "id": "85f0dfa0-0dfd-49cc-972b-4c9936ceb1fb",
   "metadata": {},
   "outputs": [],
   "source": [
    "s.add(12)"
   ]
  },
  {
   "cell_type": "code",
   "execution_count": 3,
   "id": "bffda8a6-0f99-4a28-94d6-50d8680536b0",
   "metadata": {},
   "outputs": [
    {
     "data": {
      "text/plain": [
       "{12, 34, 67}"
      ]
     },
     "execution_count": 3,
     "metadata": {},
     "output_type": "execute_result"
    }
   ],
   "source": [
    "s"
   ]
  },
  {
   "cell_type": "code",
   "execution_count": 5,
   "id": "359064c2-32db-46e8-b93f-102b4dd13b38",
   "metadata": {},
   "outputs": [
    {
     "ename": "KeyError",
     "evalue": "12",
     "output_type": "error",
     "traceback": [
      "\u001b[0;31m---------------------------------------------------------------------------\u001b[0m",
      "\u001b[0;31mKeyError\u001b[0m                                  Traceback (most recent call last)",
      "Cell \u001b[0;32mIn[5], line 1\u001b[0m\n\u001b[0;32m----> 1\u001b[0m \u001b[43ms\u001b[49m\u001b[38;5;241;43m.\u001b[39;49m\u001b[43mremove\u001b[49m\u001b[43m(\u001b[49m\u001b[38;5;241;43m12\u001b[39;49m\u001b[43m)\u001b[49m\n\u001b[1;32m      2\u001b[0m s\n",
      "\u001b[0;31mKeyError\u001b[0m: 12"
     ]
    }
   ],
   "source": [
    "s.remove(12)\n",
    "s"
   ]
  },
  {
   "cell_type": "code",
   "execution_count": 9,
   "id": "d35741a5-ccef-4630-9003-466eb550d042",
   "metadata": {},
   "outputs": [
    {
     "data": {
      "text/plain": [
       "{12, 34, 67}"
      ]
     },
     "execution_count": 9,
     "metadata": {},
     "output_type": "execute_result"
    }
   ],
   "source": [
    "s.add(12)\n",
    "s"
   ]
  },
  {
   "cell_type": "code",
   "execution_count": 10,
   "id": "27d92374-8023-4cd8-a7cc-4e98006fccf9",
   "metadata": {},
   "outputs": [
    {
     "data": {
      "text/plain": [
       "{34, 67}"
      ]
     },
     "execution_count": 10,
     "metadata": {},
     "output_type": "execute_result"
    }
   ],
   "source": [
    "s.remove(12)\n",
    "s"
   ]
  },
  {
   "cell_type": "code",
   "execution_count": 12,
   "id": "79883b7b-05d1-4176-a0cb-0686c673c718",
   "metadata": {},
   "outputs": [
    {
     "data": {
      "text/plain": [
       "{34, 67}"
      ]
     },
     "execution_count": 12,
     "metadata": {},
     "output_type": "execute_result"
    }
   ],
   "source": [
    "s.discard(1)\n",
    "s"
   ]
  },
  {
   "cell_type": "code",
   "execution_count": 13,
   "id": "5cada9eb-9b99-4ce5-a8e2-b6da0149020a",
   "metadata": {},
   "outputs": [
    {
     "ename": "KeyError",
     "evalue": "12",
     "output_type": "error",
     "traceback": [
      "\u001b[0;31m---------------------------------------------------------------------------\u001b[0m",
      "\u001b[0;31mKeyError\u001b[0m                                  Traceback (most recent call last)",
      "Cell \u001b[0;32mIn[13], line 1\u001b[0m\n\u001b[0;32m----> 1\u001b[0m \u001b[43ms\u001b[49m\u001b[38;5;241;43m.\u001b[39;49m\u001b[43mremove\u001b[49m\u001b[43m(\u001b[49m\u001b[38;5;241;43m12\u001b[39;49m\u001b[43m)\u001b[49m\n\u001b[1;32m      2\u001b[0m s\n",
      "\u001b[0;31mKeyError\u001b[0m: 12"
     ]
    }
   ],
   "source": [
    "s.remove(12)\n",
    "s"
   ]
  },
  {
   "cell_type": "markdown",
   "id": "d691de39-8b2b-475c-a1d5-48e761a63740",
   "metadata": {},
   "source": [
    "## tuples and its operations"
   ]
  },
  {
   "cell_type": "code",
   "execution_count": 14,
   "id": "d0270f63-03d7-4489-a1a9-e1b9d5dc6397",
   "metadata": {},
   "outputs": [
    {
     "data": {
      "text/plain": [
       "(1, 2, 4, 78)"
      ]
     },
     "execution_count": 14,
     "metadata": {},
     "output_type": "execute_result"
    }
   ],
   "source": [
    "t=(1,2,4,78)\n",
    "t"
   ]
  },
  {
   "cell_type": "code",
   "execution_count": 15,
   "id": "64006db8-a7d1-49f1-87df-a391f3edb25c",
   "metadata": {},
   "outputs": [
    {
     "data": {
      "text/plain": [
       "1"
      ]
     },
     "execution_count": 15,
     "metadata": {},
     "output_type": "execute_result"
    }
   ],
   "source": [
    "t.count(2)"
   ]
  },
  {
   "cell_type": "code",
   "execution_count": 16,
   "id": "4369fa97-c9e6-4965-9e2a-c1393e294762",
   "metadata": {},
   "outputs": [
    {
     "ename": "ValueError",
     "evalue": "tuple.index(x): x not in tuple",
     "output_type": "error",
     "traceback": [
      "\u001b[0;31m---------------------------------------------------------------------------\u001b[0m",
      "\u001b[0;31mValueError\u001b[0m                                Traceback (most recent call last)",
      "Cell \u001b[0;32mIn[16], line 1\u001b[0m\n\u001b[0;32m----> 1\u001b[0m \u001b[43mt\u001b[49m\u001b[38;5;241;43m.\u001b[39;49m\u001b[43mindex\u001b[49m\u001b[43m(\u001b[49m\u001b[38;5;124;43m\"\u001b[39;49m\u001b[38;5;124;43mp\u001b[39;49m\u001b[38;5;124;43m\"\u001b[39;49m\u001b[43m)\u001b[49m\n",
      "\u001b[0;31mValueError\u001b[0m: tuple.index(x): x not in tuple"
     ]
    }
   ],
   "source": [
    "t.index(\"p\")"
   ]
  },
  {
   "cell_type": "code",
   "execution_count": 18,
   "id": "2e7a205b-67ca-4e03-9668-4e71cc7db4e4",
   "metadata": {},
   "outputs": [
    {
     "data": {
      "text/plain": [
       "3"
      ]
     },
     "execution_count": 18,
     "metadata": {},
     "output_type": "execute_result"
    }
   ],
   "source": [
    "t.index(78)"
   ]
  },
  {
   "cell_type": "code",
   "execution_count": 19,
   "id": "ae57d5f9-1ac4-47db-a328-1e4e1195bbf5",
   "metadata": {},
   "outputs": [
    {
     "data": {
      "text/plain": [
       "(1, 2, 3, True, 'pw skills', [12, 34, 56], (2+3j))"
      ]
     },
     "execution_count": 19,
     "metadata": {},
     "output_type": "execute_result"
    }
   ],
   "source": [
    "t1=(1,2,3,True,'pw skills',[12,34,56],2+3j)\n",
    "t1"
   ]
  },
  {
   "cell_type": "code",
   "execution_count": 20,
   "id": "f4a048c3-cb64-44a6-bd11-91d90ecfeb6b",
   "metadata": {},
   "outputs": [
    {
     "data": {
      "text/plain": [
       "((2+3j), [12, 34, 56], 'pw skills', True, 3, 2, 1)"
      ]
     },
     "execution_count": 20,
     "metadata": {},
     "output_type": "execute_result"
    }
   ],
   "source": [
    "t1[::-1]"
   ]
  },
  {
   "cell_type": "code",
   "execution_count": 22,
   "id": "c47b6bc2-a9e5-4f95-8cd1-8b8993440434",
   "metadata": {},
   "outputs": [
    {
     "data": {
      "text/plain": [
       "(True, 'pw skills', [12, 34, 56], (2+3j))"
      ]
     },
     "execution_count": 22,
     "metadata": {},
     "output_type": "execute_result"
    }
   ],
   "source": [
    "t1[3::1]"
   ]
  },
  {
   "cell_type": "code",
   "execution_count": 23,
   "id": "c2067899-ad5e-4c5a-be82-676db2971ee8",
   "metadata": {},
   "outputs": [
    {
     "data": {
      "text/plain": [
       "(3, 2, 1)"
      ]
     },
     "execution_count": 23,
     "metadata": {},
     "output_type": "execute_result"
    }
   ],
   "source": [
    "t1[2::-1]"
   ]
  },
  {
   "cell_type": "code",
   "execution_count": 25,
   "id": "8198cc57-f45f-4bff-bd75-49d05b472d91",
   "metadata": {},
   "outputs": [
    {
     "data": {
      "text/plain": [
       "((2+3j), [12, 34, 56])"
      ]
     },
     "execution_count": 25,
     "metadata": {},
     "output_type": "execute_result"
    }
   ],
   "source": [
    "t1[-1:4:-1]"
   ]
  },
  {
   "cell_type": "markdown",
   "id": "9db8373f-de1f-41af-b54a-de947db4be35",
   "metadata": {},
   "source": [
    "### tuples are immutable in nature. so we ca not do item reassignments "
   ]
  },
  {
   "cell_type": "code",
   "execution_count": 26,
   "id": "91464a6b-0b6b-45fc-afb1-db582976c11a",
   "metadata": {},
   "outputs": [
    {
     "name": "stdout",
     "output_type": "stream",
     "text": [
      "4 5 5 6 7 8 "
     ]
    }
   ],
   "source": [
    "t2=(4,5,5,6,7,8)\n",
    "for i in t2:\n",
    "    print(i,end=' ')"
   ]
  },
  {
   "cell_type": "code",
   "execution_count": 27,
   "id": "685cee44-e319-44c5-ad5a-cffbfd3246e4",
   "metadata": {},
   "outputs": [
    {
     "data": {
      "text/plain": [
       "True"
      ]
     },
     "execution_count": 27,
     "metadata": {},
     "output_type": "execute_result"
    }
   ],
   "source": [
    "4 in t2"
   ]
  },
  {
   "cell_type": "code",
   "execution_count": 28,
   "id": "465f8919-0bdc-4b96-8f14-36de0ac92bb7",
   "metadata": {},
   "outputs": [
    {
     "data": {
      "text/plain": [
       "False"
      ]
     },
     "execution_count": 28,
     "metadata": {},
     "output_type": "execute_result"
    }
   ],
   "source": [
    "\" \" in t2"
   ]
  },
  {
   "cell_type": "markdown",
   "id": "1fc40500-4fb1-4d7b-8508-b2332057a566",
   "metadata": {},
   "source": [
    "## 19th Aug : Python basic data types (FSDS Pro)"
   ]
  },
  {
   "cell_type": "code",
   "execution_count": 1,
   "id": "b5372382-454a-433c-84ca-fa54ad2b2c31",
   "metadata": {},
   "outputs": [
    {
     "data": {
      "text/plain": [
       "int"
      ]
     },
     "execution_count": 1,
     "metadata": {},
     "output_type": "execute_result"
    }
   ],
   "source": [
    "a=10\n",
    "type(a)"
   ]
  },
  {
   "cell_type": "code",
   "execution_count": 2,
   "id": "19c5b8a7-35b3-4c20-9afc-663ef990c24a",
   "metadata": {},
   "outputs": [
    {
     "data": {
      "text/plain": [
       "float"
      ]
     },
     "execution_count": 2,
     "metadata": {},
     "output_type": "execute_result"
    }
   ],
   "source": [
    "b=12.34\n",
    "type(b)"
   ]
  },
  {
   "cell_type": "code",
   "execution_count": 3,
   "id": "a373a3e9-bfa0-4e68-af39-b76a83f1af0e",
   "metadata": {},
   "outputs": [
    {
     "data": {
      "text/plain": [
       "str"
      ]
     },
     "execution_count": 3,
     "metadata": {},
     "output_type": "execute_result"
    }
   ],
   "source": [
    "c=\"pwskills\"\n",
    "type(c)"
   ]
  },
  {
   "cell_type": "code",
   "execution_count": 4,
   "id": "00294f50-d348-4c03-bfef-6da195cc3a75",
   "metadata": {},
   "outputs": [
    {
     "data": {
      "text/plain": [
       "complex"
      ]
     },
     "execution_count": 4,
     "metadata": {},
     "output_type": "execute_result"
    }
   ],
   "source": [
    "d=2+5j\n",
    "type(d)"
   ]
  },
  {
   "cell_type": "code",
   "execution_count": 5,
   "id": "ff6aae6a-00b8-4bd5-bd7d-8f7f29939294",
   "metadata": {},
   "outputs": [
    {
     "data": {
      "text/plain": [
       "bool"
      ]
     },
     "execution_count": 5,
     "metadata": {},
     "output_type": "execute_result"
    }
   ],
   "source": [
    "e=True\n",
    "type(e)"
   ]
  },
  {
   "cell_type": "code",
   "execution_count": 6,
   "id": "fdb48421-7abb-4064-bd5a-597d699ba267",
   "metadata": {},
   "outputs": [
    {
     "data": {
      "text/plain": [
       "list"
      ]
     },
     "execution_count": 6,
     "metadata": {},
     "output_type": "execute_result"
    }
   ],
   "source": [
    "f=[1,2,344]\n",
    "type(f)"
   ]
  },
  {
   "cell_type": "code",
   "execution_count": 7,
   "id": "91ff8754-5466-4959-a242-fb0468cafe81",
   "metadata": {},
   "outputs": [
    {
     "data": {
      "text/plain": [
       "list"
      ]
     },
     "execution_count": 7,
     "metadata": {},
     "output_type": "execute_result"
    }
   ],
   "source": [
    "g=[12,345,6]\n",
    "type(g)"
   ]
  },
  {
   "cell_type": "code",
   "execution_count": 8,
   "id": "6ce63eed-5c42-466f-8536-706c96c6d6cf",
   "metadata": {},
   "outputs": [
    {
     "data": {
      "text/plain": [
       "set"
      ]
     },
     "execution_count": 8,
     "metadata": {},
     "output_type": "execute_result"
    }
   ],
   "source": [
    "h={1,2,3}\n",
    "type(h)"
   ]
  },
  {
   "cell_type": "code",
   "execution_count": 9,
   "id": "bacf2e36-8cc7-44e0-b3c8-2016f3dc3094",
   "metadata": {},
   "outputs": [
    {
     "data": {
      "text/plain": [
       "{'pwskills': 1, 1: ('data', 'science'), ('data', 'science'): 3}"
      ]
     },
     "execution_count": 9,
     "metadata": {},
     "output_type": "execute_result"
    }
   ],
   "source": [
    "i={\"pwskills\":1,1:(\"data\",'science'),('data','science'):3}\n",
    "i"
   ]
  },
  {
   "cell_type": "code",
   "execution_count": 10,
   "id": "03ee685b-8116-4a0a-8fb6-9093dae778e8",
   "metadata": {},
   "outputs": [
    {
     "data": {
      "text/plain": [
       "[12, 345, 6]"
      ]
     },
     "execution_count": 10,
     "metadata": {},
     "output_type": "execute_result"
    }
   ],
   "source": [
    "g"
   ]
  },
  {
   "cell_type": "code",
   "execution_count": 11,
   "id": "90878f0b-eae4-4018-8abc-70a82662602e",
   "metadata": {},
   "outputs": [
    {
     "data": {
      "text/plain": [
       "[12, 345, 6, 23]"
      ]
     },
     "execution_count": 11,
     "metadata": {},
     "output_type": "execute_result"
    }
   ],
   "source": [
    "g.append(23)\n",
    "g"
   ]
  },
  {
   "cell_type": "code",
   "execution_count": 12,
   "id": "57dd323a-946b-4438-b921-a1c6a588408d",
   "metadata": {},
   "outputs": [
    {
     "data": {
      "text/plain": [
       "1"
      ]
     },
     "execution_count": 12,
     "metadata": {},
     "output_type": "execute_result"
    }
   ],
   "source": [
    "g.count(12)"
   ]
  },
  {
   "cell_type": "code",
   "execution_count": 13,
   "id": "63744424-0286-4837-8127-1b86a73b4adf",
   "metadata": {},
   "outputs": [
    {
     "data": {
      "text/plain": [
       "[12, 345, 6, 23]"
      ]
     },
     "execution_count": 13,
     "metadata": {},
     "output_type": "execute_result"
    }
   ],
   "source": [
    "g.copy()"
   ]
  },
  {
   "cell_type": "code",
   "execution_count": 14,
   "id": "83f45fb8-71ba-481d-bfca-54b1d8b441f4",
   "metadata": {},
   "outputs": [
    {
     "data": {
      "text/plain": [
       "[12, 345, 6, 23, 12, 34, 56, 78]"
      ]
     },
     "execution_count": 14,
     "metadata": {},
     "output_type": "execute_result"
    }
   ],
   "source": [
    "g.extend([12,34,56,78])\n",
    "g"
   ]
  },
  {
   "cell_type": "code",
   "execution_count": 15,
   "id": "9cf9b31e-bfd6-4382-b87b-8918a63c2b82",
   "metadata": {},
   "outputs": [
    {
     "data": {
      "text/plain": [
       "1"
      ]
     },
     "execution_count": 15,
     "metadata": {},
     "output_type": "execute_result"
    }
   ],
   "source": [
    "g.index(345)"
   ]
  },
  {
   "cell_type": "code",
   "execution_count": 16,
   "id": "d285f32b-44c5-4ae2-b4a7-592cdae55046",
   "metadata": {},
   "outputs": [
    {
     "ename": "ValueError",
     "evalue": "'pw' is not in list",
     "output_type": "error",
     "traceback": [
      "\u001b[0;31m---------------------------------------------------------------------------\u001b[0m",
      "\u001b[0;31mValueError\u001b[0m                                Traceback (most recent call last)",
      "Cell \u001b[0;32mIn[16], line 1\u001b[0m\n\u001b[0;32m----> 1\u001b[0m \u001b[43mg\u001b[49m\u001b[38;5;241;43m.\u001b[39;49m\u001b[43mindex\u001b[49m\u001b[43m(\u001b[49m\u001b[38;5;124;43m\"\u001b[39;49m\u001b[38;5;124;43mpw\u001b[39;49m\u001b[38;5;124;43m\"\u001b[39;49m\u001b[43m)\u001b[49m\n",
      "\u001b[0;31mValueError\u001b[0m: 'pw' is not in list"
     ]
    }
   ],
   "source": [
    "g.index(\"pw\")"
   ]
  },
  {
   "cell_type": "code",
   "execution_count": 19,
   "id": "56c15498-6e79-4c98-8dc6-9ceffa841b1b",
   "metadata": {},
   "outputs": [
    {
     "ename": "ValueError",
     "evalue": "list.remove(x): x not in list",
     "output_type": "error",
     "traceback": [
      "\u001b[0;31m---------------------------------------------------------------------------\u001b[0m",
      "\u001b[0;31mValueError\u001b[0m                                Traceback (most recent call last)",
      "Cell \u001b[0;32mIn[19], line 1\u001b[0m\n\u001b[0;32m----> 1\u001b[0m \u001b[43mg\u001b[49m\u001b[38;5;241;43m.\u001b[39;49m\u001b[43mremove\u001b[49m\u001b[43m(\u001b[49m\u001b[38;5;241;43m12\u001b[39;49m\u001b[43m)\u001b[49m\n\u001b[1;32m      2\u001b[0m g\n",
      "\u001b[0;31mValueError\u001b[0m: list.remove(x): x not in list"
     ]
    }
   ],
   "source": [
    "g.remove(12)\n",
    "g"
   ]
  },
  {
   "cell_type": "code",
   "execution_count": 23,
   "id": "897ea7e7-2061-4470-95bb-6cd37e4ba4c9",
   "metadata": {},
   "outputs": [
    {
     "data": {
      "text/plain": [
       "[345, 6, 23, 34, 56, 78]"
      ]
     },
     "execution_count": 23,
     "metadata": {},
     "output_type": "execute_result"
    }
   ],
   "source": [
    "g.reverse()\n",
    "g"
   ]
  },
  {
   "cell_type": "code",
   "execution_count": 24,
   "id": "96cf73ff-60d7-437b-b128-30ed803caa43",
   "metadata": {},
   "outputs": [
    {
     "data": {
      "text/plain": [
       "[345, 6, 23, 34, 56, 78]"
      ]
     },
     "execution_count": 24,
     "metadata": {},
     "output_type": "execute_result"
    }
   ],
   "source": [
    "g"
   ]
  },
  {
   "cell_type": "code",
   "execution_count": 25,
   "id": "f04ef7dc-ef3b-46a0-a77f-6f00d5ef26c1",
   "metadata": {},
   "outputs": [
    {
     "data": {
      "text/plain": [
       "(1, 23, 45, 56)"
      ]
     },
     "execution_count": 25,
     "metadata": {},
     "output_type": "execute_result"
    }
   ],
   "source": [
    "t=(1,23,45,56)\n",
    "t"
   ]
  },
  {
   "cell_type": "code",
   "execution_count": 26,
   "id": "62e6acda-13c4-45d2-b763-6352920a3927",
   "metadata": {},
   "outputs": [
    {
     "data": {
      "text/plain": [
       "1"
      ]
     },
     "execution_count": 26,
     "metadata": {},
     "output_type": "execute_result"
    }
   ],
   "source": [
    "t.count(1)"
   ]
  },
  {
   "cell_type": "code",
   "execution_count": 28,
   "id": "fb3ffef0-7d36-4833-88cf-523d05d18ccd",
   "metadata": {},
   "outputs": [
    {
     "data": {
      "text/plain": [
       "0"
      ]
     },
     "execution_count": 28,
     "metadata": {},
     "output_type": "execute_result"
    }
   ],
   "source": [
    "t.index(1)"
   ]
  },
  {
   "cell_type": "code",
   "execution_count": 29,
   "id": "eb978773-9a9e-4697-8ee4-107e9acdfd02",
   "metadata": {},
   "outputs": [
    {
     "data": {
      "text/plain": [
       "{1, 2, 12, 34, 56, 78}"
      ]
     },
     "execution_count": 29,
     "metadata": {},
     "output_type": "execute_result"
    }
   ],
   "source": [
    "s={12,34,56,78,2,1}\n",
    "s"
   ]
  },
  {
   "cell_type": "code",
   "execution_count": 30,
   "id": "185cc4ae-6ad7-4950-a93e-7791cefe3d91",
   "metadata": {},
   "outputs": [],
   "source": [
    "s.add(\"woe\")"
   ]
  },
  {
   "cell_type": "code",
   "execution_count": 31,
   "id": "a06b04a6-ef96-4ce1-badd-06cd80915c77",
   "metadata": {},
   "outputs": [
    {
     "data": {
      "text/plain": [
       "{1, 12, 2, 34, 56, 78, 'woe'}"
      ]
     },
     "execution_count": 31,
     "metadata": {},
     "output_type": "execute_result"
    }
   ],
   "source": [
    "s"
   ]
  },
  {
   "cell_type": "code",
   "execution_count": 35,
   "id": "127a4773-d495-4bba-a6d1-bb004e4ccedd",
   "metadata": {},
   "outputs": [
    {
     "data": {
      "text/plain": [
       "{1, 2, 34, 56, 78, 'woe'}"
      ]
     },
     "execution_count": 35,
     "metadata": {},
     "output_type": "execute_result"
    }
   ],
   "source": [
    "s.discard(12)\n",
    "s"
   ]
  },
  {
   "cell_type": "code",
   "execution_count": 36,
   "id": "b7652dab-a79b-4e39-a5a1-cf477316949c",
   "metadata": {},
   "outputs": [
    {
     "data": {
      "text/plain": [
       "'woe'"
      ]
     },
     "execution_count": 36,
     "metadata": {},
     "output_type": "execute_result"
    }
   ],
   "source": [
    "s.pop()"
   ]
  },
  {
   "cell_type": "code",
   "execution_count": 37,
   "id": "f442b717-8ef6-40e9-b681-577c68fcc449",
   "metadata": {},
   "outputs": [
    {
     "data": {
      "text/plain": [
       "{1, 2, 34, 56, 78}"
      ]
     },
     "execution_count": 37,
     "metadata": {},
     "output_type": "execute_result"
    }
   ],
   "source": [
    "s"
   ]
  },
  {
   "cell_type": "code",
   "execution_count": 39,
   "id": "1ea65343-7fcb-4345-8ee1-800ac3b1fdc0",
   "metadata": {},
   "outputs": [
    {
     "data": {
      "text/plain": [
       "{1, 2, 34, 56, 78}"
      ]
     },
     "execution_count": 39,
     "metadata": {},
     "output_type": "execute_result"
    }
   ],
   "source": [
    "s.discard(\"pwskills\")\n",
    "s"
   ]
  },
  {
   "cell_type": "code",
   "execution_count": 41,
   "id": "6a85a976-db11-4745-a3fa-b6156cfebb68",
   "metadata": {},
   "outputs": [
    {
     "ename": "KeyError",
     "evalue": "'we'",
     "output_type": "error",
     "traceback": [
      "\u001b[0;31m---------------------------------------------------------------------------\u001b[0m",
      "\u001b[0;31mKeyError\u001b[0m                                  Traceback (most recent call last)",
      "Cell \u001b[0;32mIn[41], line 1\u001b[0m\n\u001b[0;32m----> 1\u001b[0m \u001b[43ms\u001b[49m\u001b[38;5;241;43m.\u001b[39;49m\u001b[43mremove\u001b[49m\u001b[43m(\u001b[49m\u001b[38;5;124;43m\"\u001b[39;49m\u001b[38;5;124;43mwe\u001b[39;49m\u001b[38;5;124;43m\"\u001b[39;49m\u001b[43m)\u001b[49m\n",
      "\u001b[0;31mKeyError\u001b[0m: 'we'"
     ]
    }
   ],
   "source": [
    "s.remove(\"we\")"
   ]
  },
  {
   "cell_type": "code",
   "execution_count": 42,
   "id": "539acfa9-b620-480e-afdb-3d5acae0b409",
   "metadata": {},
   "outputs": [],
   "source": [
    "d5={\"course\":['dsa','java','python','blocakchain'],\n",
    "   'mentor':('sudhanshu','krish','vishwa','sunny'),\n",
    "   \"prices\":{3500,23000,11000,3500},\n",
    "    \"duration\":1, \n",
    "    'access_year':1,\n",
    "   \"syallbus\":{'python':['core python','dsa','oops','exception handling','numpy','pandas','databases'],\n",
    "    'machine learning':['supervised','unsupervised','llm']}}\n"
   ]
  },
  {
   "cell_type": "code",
   "execution_count": 43,
   "id": "674bb82c-5e1f-4266-a8db-2d941f97e38f",
   "metadata": {},
   "outputs": [
    {
     "data": {
      "text/plain": [
       "{'course': ['dsa', 'java', 'python', 'blocakchain'],\n",
       " 'mentor': ('sudhanshu', 'krish', 'vishwa', 'sunny'),\n",
       " 'prices': {3500, 11000, 23000},\n",
       " 'duration': 1,\n",
       " 'access_year': 1,\n",
       " 'syallbus': {'python': ['core python',\n",
       "   'dsa',\n",
       "   'oops',\n",
       "   'exception handling',\n",
       "   'numpy',\n",
       "   'pandas',\n",
       "   'databases'],\n",
       "  'machine learning': ['supervised', 'unsupervised', 'llm']}}"
      ]
     },
     "execution_count": 43,
     "metadata": {},
     "output_type": "execute_result"
    }
   ],
   "source": [
    "d5"
   ]
  },
  {
   "cell_type": "code",
   "execution_count": 45,
   "id": "07faad18-6298-4ee6-9e60-a8148f0647a1",
   "metadata": {},
   "outputs": [
    {
     "data": {
      "text/plain": [
       "['dsa', 'java', 'python', 'blocakchain']"
      ]
     },
     "execution_count": 45,
     "metadata": {},
     "output_type": "execute_result"
    }
   ],
   "source": [
    "d5[\"course\"]"
   ]
  },
  {
   "cell_type": "code",
   "execution_count": 46,
   "id": "36d05644-fac2-47cb-a005-4ac497ed1ede",
   "metadata": {},
   "outputs": [
    {
     "data": {
      "text/plain": [
       "('sudhanshu', 'krish', 'vishwa', 'sunny')"
      ]
     },
     "execution_count": 46,
     "metadata": {},
     "output_type": "execute_result"
    }
   ],
   "source": [
    "d5[\"mentor\"]"
   ]
  },
  {
   "cell_type": "code",
   "execution_count": 47,
   "id": "ef0cd5f3-aaf0-4178-8617-0c74890edf00",
   "metadata": {},
   "outputs": [
    {
     "data": {
      "text/plain": [
       "1"
      ]
     },
     "execution_count": 47,
     "metadata": {},
     "output_type": "execute_result"
    }
   ],
   "source": [
    "d5[\"access_year\"]"
   ]
  },
  {
   "cell_type": "code",
   "execution_count": 48,
   "id": "58531456-c7b8-4b97-9472-9a1b269bfaae",
   "metadata": {},
   "outputs": [
    {
     "data": {
      "text/plain": [
       "dict_keys(['course', 'mentor', 'prices', 'duration', 'access_year', 'syallbus'])"
      ]
     },
     "execution_count": 48,
     "metadata": {},
     "output_type": "execute_result"
    }
   ],
   "source": [
    "d5.keys()"
   ]
  },
  {
   "cell_type": "code",
   "execution_count": 49,
   "id": "0733eb9f-91cd-4ff9-a9b6-174b45c22ba9",
   "metadata": {},
   "outputs": [
    {
     "data": {
      "text/plain": [
       "dict_values([['dsa', 'java', 'python', 'blocakchain'], ('sudhanshu', 'krish', 'vishwa', 'sunny'), {23000, 11000, 3500}, 1, 1, {'python': ['core python', 'dsa', 'oops', 'exception handling', 'numpy', 'pandas', 'databases'], 'machine learning': ['supervised', 'unsupervised', 'llm']}])"
      ]
     },
     "execution_count": 49,
     "metadata": {},
     "output_type": "execute_result"
    }
   ],
   "source": [
    "d5.values()"
   ]
  },
  {
   "cell_type": "code",
   "execution_count": 50,
   "id": "ddccf725-3ddf-4b55-9639-e0146c705009",
   "metadata": {},
   "outputs": [
    {
     "data": {
      "text/plain": [
       "['dsa', 'java', 'python', 'blocakchain']"
      ]
     },
     "execution_count": 50,
     "metadata": {},
     "output_type": "execute_result"
    }
   ],
   "source": [
    "d5.get(\"course\")"
   ]
  },
  {
   "cell_type": "code",
   "execution_count": 51,
   "id": "6925b147-86be-437e-be59-902e5d9b2493",
   "metadata": {},
   "outputs": [
    {
     "data": {
      "text/plain": [
       "{'dsa': None, 'java': None, 'python': None, 'blocakchain': None}"
      ]
     },
     "execution_count": 51,
     "metadata": {},
     "output_type": "execute_result"
    }
   ],
   "source": [
    "d5.fromkeys(d5[\"course\"])"
   ]
  },
  {
   "cell_type": "code",
   "execution_count": 55,
   "id": "7925ae6d-34ea-4ea3-b6e6-fd03bef882f2",
   "metadata": {},
   "outputs": [
    {
     "data": {
      "text/plain": [
       "['dsa', 'java', 'python', 'blocakchain']"
      ]
     },
     "execution_count": 55,
     "metadata": {},
     "output_type": "execute_result"
    }
   ],
   "source": [
    "d5.setdefault(\"course\")"
   ]
  },
  {
   "cell_type": "code",
   "execution_count": 56,
   "id": "e99bc5e7-a19a-4694-9eb0-bb5ef5966219",
   "metadata": {},
   "outputs": [
    {
     "data": {
      "text/plain": [
       "{'course': ['dsa', 'java', 'python', 'blocakchain'],\n",
       " 'mentor': ('sudhanshu', 'krish', 'vishwa', 'sunny'),\n",
       " 'prices': {3500, 11000, 23000},\n",
       " 'duration': 1,\n",
       " 'access_year': 1,\n",
       " 'syallbus': {'python': ['core python',\n",
       "   'dsa',\n",
       "   'oops',\n",
       "   'exception handling',\n",
       "   'numpy',\n",
       "   'pandas',\n",
       "   'databases'],\n",
       "  'machine learning': ['supervised', 'unsupervised', 'llm']}}"
      ]
     },
     "execution_count": 56,
     "metadata": {},
     "output_type": "execute_result"
    }
   ],
   "source": [
    "d5"
   ]
  },
  {
   "cell_type": "markdown",
   "id": "fb4f5673-ad90-4fb0-b366-aefaae966c03",
   "metadata": {},
   "source": [
    "## 26th and 27th Aug class has been cancelled "
   ]
  },
  {
   "cell_type": "markdown",
   "id": "c89e973a-a775-4641-a48c-15446def6daf",
   "metadata": {},
   "source": [
    "## 9th Sept: Functions by Imran Sir FSDS "
   ]
  },
  {
   "cell_type": "code",
   "execution_count": 62,
   "id": "c9b295d1-fd34-40f9-86e3-393af0c1cc45",
   "metadata": {},
   "outputs": [],
   "source": [
    "def fun1():\n",
    "    for i in \"pwskills\":\n",
    "        print(i,end='')"
   ]
  },
  {
   "cell_type": "code",
   "execution_count": 63,
   "id": "1d7515e1-3064-494c-b8ad-a5d2b1a8a8f4",
   "metadata": {},
   "outputs": [
    {
     "name": "stdout",
     "output_type": "stream",
     "text": [
      "pwskills"
     ]
    }
   ],
   "source": [
    "fun1()"
   ]
  },
  {
   "cell_type": "code",
   "execution_count": 66,
   "id": "af76f1d5-9710-4ef9-b46d-1c8815509567",
   "metadata": {},
   "outputs": [],
   "source": [
    "l=[12,3,4,5]\n",
    "def fun2(l):\n",
    "    for i in l:\n",
    "        print(i,end=' ')\n",
    "    "
   ]
  },
  {
   "cell_type": "code",
   "execution_count": 67,
   "id": "ddf16aaf-70e6-461f-b022-a1843ad06c8f",
   "metadata": {},
   "outputs": [
    {
     "name": "stdout",
     "output_type": "stream",
     "text": [
      "12 3 4 5 "
     ]
    }
   ],
   "source": [
    "fun2(l)"
   ]
  },
  {
   "cell_type": "code",
   "execution_count": 70,
   "id": "602c1788-ec1a-43b3-8eb0-1b4165c52bee",
   "metadata": {},
   "outputs": [],
   "source": [
    "def fun3(dict1):\n",
    "    for i in dict1.items():\n",
    "        print(i)"
   ]
  },
  {
   "cell_type": "code",
   "execution_count": 71,
   "id": "31ea085e-a20f-44bf-819d-32bddc42dc5d",
   "metadata": {},
   "outputs": [
    {
     "name": "stdout",
     "output_type": "stream",
     "text": [
      "('course', ['dsa', 'java', 'python', 'blocakchain'])\n",
      "('mentor', ('sudhanshu', 'krish', 'vishwa', 'sunny'))\n",
      "('prices', {23000, 11000, 3500})\n",
      "('duration', 1)\n",
      "('access_year', 1)\n",
      "('syallbus', {'python': ['core python', 'dsa', 'oops', 'exception handling', 'numpy', 'pandas', 'databases'], 'machine learning': ['supervised', 'unsupervised', 'llm']})\n"
     ]
    }
   ],
   "source": [
    "fun3(d5)"
   ]
  },
  {
   "cell_type": "code",
   "execution_count": 72,
   "id": "4a6d5b2d-07b7-42f3-a6d6-b8dfa4a10fa4",
   "metadata": {},
   "outputs": [],
   "source": [
    "def fun4(*args):\n",
    "    return sum(args)"
   ]
  },
  {
   "cell_type": "code",
   "execution_count": 73,
   "id": "a916478b-954d-48e8-b987-3f4314160ee3",
   "metadata": {},
   "outputs": [
    {
     "data": {
      "text/plain": [
       "6"
      ]
     },
     "execution_count": 73,
     "metadata": {},
     "output_type": "execute_result"
    }
   ],
   "source": [
    "fun4(1,2,3)"
   ]
  },
  {
   "cell_type": "code",
   "execution_count": 74,
   "id": "cfb68c31-c9f3-415b-a2e4-a00a550dcd95",
   "metadata": {},
   "outputs": [],
   "source": [
    "def fun5(**kwargs):\n",
    "    return kwargs"
   ]
  },
  {
   "cell_type": "code",
   "execution_count": 76,
   "id": "7181c5c2-d414-4dc8-ba49-62337b96fe48",
   "metadata": {},
   "outputs": [
    {
     "data": {
      "text/plain": [
       "{'name': 'pooja'}"
      ]
     },
     "execution_count": 76,
     "metadata": {},
     "output_type": "execute_result"
    }
   ],
   "source": [
    "fun5(name=\"pooja\")"
   ]
  },
  {
   "cell_type": "code",
   "execution_count": 78,
   "id": "0eaaa304-bcbd-4fd6-9c06-7f6d0ddbcc65",
   "metadata": {},
   "outputs": [],
   "source": [
    "x=lambda :print(\"hello\")"
   ]
  },
  {
   "cell_type": "code",
   "execution_count": 79,
   "id": "f59a972e-f038-4851-b8fe-6065da1d9b9b",
   "metadata": {},
   "outputs": [
    {
     "name": "stdout",
     "output_type": "stream",
     "text": [
      "hello\n"
     ]
    }
   ],
   "source": [
    "x()"
   ]
  },
  {
   "cell_type": "code",
   "execution_count": 81,
   "id": "c5a23278-0dcb-4f31-ae67-4c811b4cc175",
   "metadata": {},
   "outputs": [],
   "source": [
    "y=lambda x,y:print(x+y)"
   ]
  },
  {
   "cell_type": "code",
   "execution_count": 82,
   "id": "543a710a-6f40-4e3a-8d85-ce09c3ea16e2",
   "metadata": {},
   "outputs": [
    {
     "name": "stdout",
     "output_type": "stream",
     "text": [
      "3\n"
     ]
    }
   ],
   "source": [
    "y(1,2)"
   ]
  },
  {
   "cell_type": "code",
   "execution_count": 83,
   "id": "6e08c368-0605-467a-b710-c0f5e26e7979",
   "metadata": {},
   "outputs": [],
   "source": [
    "z=lambda l:len(l)"
   ]
  },
  {
   "cell_type": "code",
   "execution_count": 84,
   "id": "9e4c692f-a926-4127-835e-b2f1fe8e7bc3",
   "metadata": {},
   "outputs": [
    {
     "data": {
      "text/plain": [
       "4"
      ]
     },
     "execution_count": 84,
     "metadata": {},
     "output_type": "execute_result"
    }
   ],
   "source": [
    "z([1,2,3,4])"
   ]
  },
  {
   "cell_type": "code",
   "execution_count": 1,
   "id": "060f098f-c18e-4160-8a1b-e5a60f1fd801",
   "metadata": {},
   "outputs": [],
   "source": [
    "a=lambda s:s if(len(s)<4) else None"
   ]
  },
  {
   "cell_type": "code",
   "execution_count": 2,
   "id": "568e5a9f-a3ec-4048-ba9a-11c024e73ed1",
   "metadata": {},
   "outputs": [
    {
     "data": {
      "text/plain": [
       "['pwsklls', 'data', 'd']"
      ]
     },
     "execution_count": 2,
     "metadata": {},
     "output_type": "execute_result"
    }
   ],
   "source": [
    "a([\"pwsklls\",'data','d'])"
   ]
  },
  {
   "cell_type": "markdown",
   "id": "67de6915-eeb3-4816-b8f6-41bc932baab6",
   "metadata": {},
   "source": [
    "## 17 Sept FSDS  : Functions and *args , **kwargs"
   ]
  },
  {
   "cell_type": "code",
   "execution_count": 2,
   "id": "b2dbba90-8700-429c-b231-f294ab4a5652",
   "metadata": {},
   "outputs": [],
   "source": [
    "def fun():\n",
    "    print(\"pwskills\")\n",
    "    \n"
   ]
  },
  {
   "cell_type": "code",
   "execution_count": 3,
   "id": "ea065584-6527-4fc8-92dc-54238fedd8cb",
   "metadata": {},
   "outputs": [
    {
     "name": "stdout",
     "output_type": "stream",
     "text": [
      "pwskills\n"
     ]
    }
   ],
   "source": [
    "fun()"
   ]
  },
  {
   "cell_type": "code",
   "execution_count": 4,
   "id": "54764111-0de2-4ad2-970b-85d919fdf00c",
   "metadata": {},
   "outputs": [
    {
     "name": "stdout",
     "output_type": "stream",
     "text": [
      "pwskills\n"
     ]
    },
    {
     "ename": "TypeError",
     "evalue": "unsupported operand type(s) for +: 'NoneType' and 'str'",
     "output_type": "error",
     "traceback": [
      "\u001b[0;31m---------------------------------------------------------------------------\u001b[0m",
      "\u001b[0;31mTypeError\u001b[0m                                 Traceback (most recent call last)",
      "Cell \u001b[0;32mIn[4], line 1\u001b[0m\n\u001b[0;32m----> 1\u001b[0m \u001b[43mfun\u001b[49m\u001b[43m(\u001b[49m\u001b[43m)\u001b[49m\u001b[38;5;241;43m+\u001b[39;49m\u001b[38;5;124;43m\"\u001b[39;49m\u001b[38;5;124;43mdata science\u001b[39;49m\u001b[38;5;124;43m\"\u001b[39;49m\n",
      "\u001b[0;31mTypeError\u001b[0m: unsupported operand type(s) for +: 'NoneType' and 'str'"
     ]
    }
   ],
   "source": [
    "fun()+\"data science\""
   ]
  },
  {
   "cell_type": "code",
   "execution_count": 5,
   "id": "0dc58895-620d-4aae-9016-9a534dc07fba",
   "metadata": {},
   "outputs": [],
   "source": [
    "## print does not return anything therefore we can no use it in further operations"
   ]
  },
  {
   "cell_type": "code",
   "execution_count": 6,
   "id": "13e005ed-6de0-4f79-a28f-c574f371aa4d",
   "metadata": {},
   "outputs": [],
   "source": [
    "def fun():\n",
    "    return \"pwskills\""
   ]
  },
  {
   "cell_type": "code",
   "execution_count": 7,
   "id": "16495333-f3a1-4a97-b9af-666fd76d0cdb",
   "metadata": {},
   "outputs": [
    {
     "data": {
      "text/plain": [
       "'pwskillsdata science'"
      ]
     },
     "execution_count": 7,
     "metadata": {},
     "output_type": "execute_result"
    }
   ],
   "source": [
    "fun()+\"data science\""
   ]
  },
  {
   "cell_type": "code",
   "execution_count": 8,
   "id": "9a1688f2-f845-47fd-8d8b-aa1b0de8fe60",
   "metadata": {},
   "outputs": [
    {
     "data": {
      "text/plain": [
       "str"
      ]
     },
     "execution_count": 8,
     "metadata": {},
     "output_type": "execute_result"
    }
   ],
   "source": [
    "type(fun())"
   ]
  },
  {
   "cell_type": "code",
   "execution_count": 11,
   "id": "162cf376-136d-4ba0-829a-99c629409037",
   "metadata": {},
   "outputs": [],
   "source": [
    "def fun(*args):\n",
    "    return sum(args)"
   ]
  },
  {
   "cell_type": "code",
   "execution_count": 13,
   "id": "891f094a-b0b0-4832-9ad3-82c5d61a3d8d",
   "metadata": {},
   "outputs": [
    {
     "data": {
      "text/plain": [
       "5"
      ]
     },
     "execution_count": 13,
     "metadata": {},
     "output_type": "execute_result"
    }
   ],
   "source": [
    "fun(2,3)"
   ]
  },
  {
   "cell_type": "code",
   "execution_count": 19,
   "id": "ab4023b3-042b-47e6-b8c0-90a0be7499aa",
   "metadata": {},
   "outputs": [],
   "source": [
    "def fun(**kwargs):\n",
    "    return kwargs"
   ]
  },
  {
   "cell_type": "code",
   "execution_count": 20,
   "id": "62b0d426-a0c1-4520-8703-fe34c91160db",
   "metadata": {},
   "outputs": [
    {
     "data": {
      "text/plain": [
       "{'b': 'shreya', 'classname': 'fsds'}"
      ]
     },
     "execution_count": 20,
     "metadata": {},
     "output_type": "execute_result"
    }
   ],
   "source": [
    "fun(b=\"shreya\",classname=\"fsds\")"
   ]
  },
  {
   "cell_type": "code",
   "execution_count": 21,
   "id": "b310f48a-8819-4bff-92ba-1fe3d816df60",
   "metadata": {},
   "outputs": [],
   "source": [
    "def test(b,a=20,c=30):\n",
    "    return a,b,c"
   ]
  },
  {
   "cell_type": "code",
   "execution_count": 23,
   "id": "481c34bb-5604-4107-88fd-49a4c69496c3",
   "metadata": {},
   "outputs": [
    {
     "data": {
      "text/plain": [
       "(20, 1, 30)"
      ]
     },
     "execution_count": 23,
     "metadata": {},
     "output_type": "execute_result"
    }
   ],
   "source": [
    "test(1)"
   ]
  },
  {
   "cell_type": "markdown",
   "id": "2857a6d4-0982-4700-8d22-6e16608cd6c7",
   "metadata": {},
   "source": [
    "#### lambda function "
   ]
  },
  {
   "cell_type": "code",
   "execution_count": 25,
   "id": "6318d8c9-b5ca-49b7-ac46-ba0a20f7999f",
   "metadata": {},
   "outputs": [],
   "source": [
    "x=lambda a,b: print(a+b)"
   ]
  },
  {
   "cell_type": "code",
   "execution_count": 27,
   "id": "c6ada3da-405d-454c-8213-8607b5b86417",
   "metadata": {},
   "outputs": [
    {
     "name": "stdout",
     "output_type": "stream",
     "text": [
      "3\n"
     ]
    }
   ],
   "source": [
    "x(1,2)"
   ]
  },
  {
   "cell_type": "code",
   "execution_count": 28,
   "id": "ef155c8b-e95d-4d07-9fd5-85129ab880fa",
   "metadata": {},
   "outputs": [],
   "source": [
    "res=lambda x: \"{} is even\".format(x) if (x%2==0) else \"{} is odd\".format(x)"
   ]
  },
  {
   "cell_type": "code",
   "execution_count": 30,
   "id": "d79d56aa-745d-4770-a5b3-620be0dbc80d",
   "metadata": {},
   "outputs": [
    {
     "data": {
      "text/plain": [
       "'230 is even'"
      ]
     },
     "execution_count": 30,
     "metadata": {},
     "output_type": "execute_result"
    }
   ],
   "source": [
    "res(230)"
   ]
  },
  {
   "cell_type": "code",
   "execution_count": 31,
   "id": "1602d16b-b545-491a-9a83-10d68a0f6b15",
   "metadata": {},
   "outputs": [],
   "source": [
    "l=[12,34,5,6,78,0]\n",
    "res=lambda l: print(min(l))"
   ]
  },
  {
   "cell_type": "code",
   "execution_count": 32,
   "id": "5c363cdb-a5a3-4dc8-97c5-594e7d82ee22",
   "metadata": {},
   "outputs": [
    {
     "name": "stdout",
     "output_type": "stream",
     "text": [
      "0\n"
     ]
    }
   ],
   "source": [
    "res(l)"
   ]
  },
  {
   "cell_type": "code",
   "execution_count": 33,
   "id": "ece188b9-6628-478b-a96f-135c7060dc16",
   "metadata": {},
   "outputs": [],
   "source": [
    "res=lambda s:s.upper()"
   ]
  },
  {
   "cell_type": "code",
   "execution_count": 34,
   "id": "edb779f4-c5d6-4e73-a2db-aac01c76b45a",
   "metadata": {},
   "outputs": [
    {
     "data": {
      "text/plain": [
       "'PWSKILLS'"
      ]
     },
     "execution_count": 34,
     "metadata": {},
     "output_type": "execute_result"
    }
   ],
   "source": [
    "res(\"pwskills\")"
   ]
  },
  {
   "cell_type": "code",
   "execution_count": 37,
   "id": "11900450-52d8-4d7e-95ae-907072fd16dd",
   "metadata": {},
   "outputs": [
    {
     "data": {
      "text/plain": [
       "25"
      ]
     },
     "execution_count": 37,
     "metadata": {},
     "output_type": "execute_result"
    }
   ],
   "source": [
    "sum([i for i in range(1,10) if(i%2!=0)])"
   ]
  },
  {
   "cell_type": "code",
   "execution_count": 39,
   "id": "cf0e9de7-626b-44e0-bb0f-955838c1dd9d",
   "metadata": {},
   "outputs": [],
   "source": [
    "l=[1,2,3,4]\n",
    "res=lambda l: sum([i for i in l if i%2!=0])"
   ]
  },
  {
   "cell_type": "code",
   "execution_count": 40,
   "id": "799b63ca-51a2-4a4d-b1de-2f5706cb19dd",
   "metadata": {},
   "outputs": [
    {
     "data": {
      "text/plain": [
       "4"
      ]
     },
     "execution_count": 40,
     "metadata": {},
     "output_type": "execute_result"
    }
   ],
   "source": [
    "res(l)"
   ]
  },
  {
   "cell_type": "code",
   "execution_count": 41,
   "id": "887d8be4-521b-4b42-8c00-cb7569f3165e",
   "metadata": {},
   "outputs": [],
   "source": [
    "def fact_number(n):\n",
    "    if n == 0 :\n",
    "        return 1 \n",
    "    else :\n",
    "        return n*fact_number(n-1)\n",
    "    "
   ]
  },
  {
   "cell_type": "code",
   "execution_count": 42,
   "id": "e40f9beb-2014-449b-a3a3-d297c13093d6",
   "metadata": {},
   "outputs": [],
   "source": [
    "res=lambda n: 1 if n==0 else n*res(n-1)"
   ]
  },
  {
   "cell_type": "code",
   "execution_count": 43,
   "id": "e9dc994d-a172-4831-b616-29aaaa265ba6",
   "metadata": {},
   "outputs": [
    {
     "data": {
      "text/plain": [
       "6"
      ]
     },
     "execution_count": 43,
     "metadata": {},
     "output_type": "execute_result"
    }
   ],
   "source": [
    "res(3)"
   ]
  },
  {
   "cell_type": "markdown",
   "id": "46d0b2b0-eff2-4530-be11-f3d9c946b2f7",
   "metadata": {},
   "source": [
    "## map reduce and filter"
   ]
  },
  {
   "cell_type": "code",
   "execution_count": 45,
   "id": "63609252-3c07-440d-95a5-f30d34105f07",
   "metadata": {},
   "outputs": [
    {
     "data": {
      "text/plain": [
       "[3, 4, 5, 6]"
      ]
     },
     "execution_count": 45,
     "metadata": {},
     "output_type": "execute_result"
    }
   ],
   "source": [
    "l=[1,2,3,4]\n",
    "list(map(lambda l:l+2,l))"
   ]
  },
  {
   "cell_type": "code",
   "execution_count": 47,
   "id": "02a656a8-e774-4467-9e0f-a041eb480ab7",
   "metadata": {},
   "outputs": [
    {
     "data": {
      "text/plain": [
       "[2, 4, 6, 8]"
      ]
     },
     "execution_count": 47,
     "metadata": {},
     "output_type": "execute_result"
    }
   ],
   "source": [
    "l=[1,2,3,4]\n",
    "list(map(lambda x:x*2,l))"
   ]
  },
  {
   "cell_type": "code",
   "execution_count": 49,
   "id": "2ad7dc0c-d71b-49d6-8cb3-c9123fed8151",
   "metadata": {},
   "outputs": [],
   "source": [
    "s=\"pwskills data science masters course\"\n",
    "l=s.split(' ')\n",
    "l=list(map(lambda k: len(k),l))"
   ]
  },
  {
   "cell_type": "code",
   "execution_count": 50,
   "id": "d5d3f840-602e-4ce1-8297-77c813ddaa0d",
   "metadata": {},
   "outputs": [
    {
     "data": {
      "text/plain": [
       "[8, 4, 7, 7, 6]"
      ]
     },
     "execution_count": 50,
     "metadata": {},
     "output_type": "execute_result"
    }
   ],
   "source": [
    "l"
   ]
  },
  {
   "cell_type": "code",
   "execution_count": 51,
   "id": "7e2610f9-4fe6-4e55-bb91-1ad1f3d7fecf",
   "metadata": {},
   "outputs": [
    {
     "data": {
      "text/plain": [
       "['sllikswp', 'atad', 'ecneics', 'sretsam']"
      ]
     },
     "execution_count": 51,
     "metadata": {},
     "output_type": "execute_result"
    }
   ],
   "source": [
    "l=[\"pwskills\",\"data\",\"science\",'masters']\n",
    "list(map(lambda x: x[::-1],l))"
   ]
  },
  {
   "cell_type": "code",
   "execution_count": 52,
   "id": "aa839921-f16d-41fb-87aa-e652fab74bb4",
   "metadata": {},
   "outputs": [],
   "source": [
    "l=[1,2,3,4]\n",
    "from functools import reduce"
   ]
  },
  {
   "cell_type": "code",
   "execution_count": 53,
   "id": "7dc7689e-c1dd-4541-a4ea-bacc428f5c18",
   "metadata": {},
   "outputs": [
    {
     "data": {
      "text/plain": [
       "24"
      ]
     },
     "execution_count": 53,
     "metadata": {},
     "output_type": "execute_result"
    }
   ],
   "source": [
    "reduce(lambda x,y: x*y,l)"
   ]
  },
  {
   "cell_type": "code",
   "execution_count": 55,
   "id": "ac6b78f3-5a68-41fd-9f43-051a4b599d69",
   "metadata": {},
   "outputs": [
    {
     "data": {
      "text/plain": [
       "5"
      ]
     },
     "execution_count": 55,
     "metadata": {},
     "output_type": "execute_result"
    }
   ],
   "source": [
    "l=[2,3,4,5,1]\n",
    "reduce(lambda x,y: x if (x>y) else y,l)"
   ]
  },
  {
   "cell_type": "code",
   "execution_count": 56,
   "id": "4c6b9684-dd82-4d11-81bf-eaa5bcd41348",
   "metadata": {},
   "outputs": [
    {
     "data": {
      "text/plain": [
       "48"
      ]
     },
     "execution_count": 56,
     "metadata": {},
     "output_type": "execute_result"
    }
   ],
   "source": [
    "l=[12,3,4,5]\n",
    "reduce(lambda x,y:x*y,[i for i in l if (i%2==0)])"
   ]
  },
  {
   "cell_type": "code",
   "execution_count": 64,
   "id": "936c3ea7-effd-4a76-9217-d42292ef4e01",
   "metadata": {},
   "outputs": [
    {
     "data": {
      "text/plain": [
       "{'a', 'c', 'e', 'i', 'k', 'l', 'n', 's', 't'}"
      ]
     },
     "execution_count": 64,
     "metadata": {},
     "output_type": "execute_result"
    }
   ],
   "source": [
    "s=\"PWskills Data Science\"\n",
    "set(filter(lambda x: x.islower(),s))"
   ]
  },
  {
   "cell_type": "code",
   "execution_count": 65,
   "id": "11649d66-ff05-4f16-a1c9-5586917d7045",
   "metadata": {},
   "outputs": [
    {
     "data": {
      "text/plain": [
       "['data']"
      ]
     },
     "execution_count": 65,
     "metadata": {},
     "output_type": "execute_result"
    }
   ],
   "source": [
    "s=[\"pwskills\",\"data\",\"science\",\"masters\"]\n",
    "list(filter(lambda x:len(x)<=4,s))"
   ]
  },
  {
   "cell_type": "code",
   "execution_count": 67,
   "id": "7cb46e6c-82ca-45ac-aad5-372da83c3125",
   "metadata": {},
   "outputs": [
    {
     "data": {
      "text/plain": [
       "['pwskills', 'data', 'science']"
      ]
     },
     "execution_count": 67,
     "metadata": {},
     "output_type": "execute_result"
    }
   ],
   "source": [
    "l=[\"pwskills\",\"data\",\"science\"]\n",
    "l"
   ]
  },
  {
   "cell_type": "code",
   "execution_count": 68,
   "id": "b5d1ac4b-8460-4245-b53b-c4f783782b7d",
   "metadata": {},
   "outputs": [
    {
     "data": {
      "text/plain": [
       "['pwskills']"
      ]
     },
     "execution_count": 68,
     "metadata": {},
     "output_type": "execute_result"
    }
   ],
   "source": [
    "list(filter(lambda x:x[0]=='p',l))"
   ]
  },
  {
   "cell_type": "markdown",
   "id": "b88f99b7-90e3-4e87-a94a-04262552f708",
   "metadata": {},
   "source": [
    "## 23 and 24 sept recursion to be done by aditya sharma "
   ]
  },
  {
   "cell_type": "markdown",
   "id": "51bff045-afb2-47f1-b0ea-aad22c022033",
   "metadata": {},
   "source": [
    "## 24 sept: Iterables, iterators and generators"
   ]
  },
  {
   "cell_type": "code",
   "execution_count": 71,
   "id": "95f1fd6b-9882-42a4-bd57-02454fade4c0",
   "metadata": {},
   "outputs": [],
   "source": [
    "l=[1,2,3,4]\n",
    "k=iter(l)"
   ]
  },
  {
   "cell_type": "code",
   "execution_count": 77,
   "id": "e9c3776c-43d2-4fe3-8025-a8c7a2ba9fc0",
   "metadata": {},
   "outputs": [
    {
     "data": {
      "text/plain": [
       "4"
      ]
     },
     "execution_count": 77,
     "metadata": {},
     "output_type": "execute_result"
    }
   ],
   "source": [
    "next(k)"
   ]
  },
  {
   "cell_type": "markdown",
   "id": "ec476bb1-c0a1-4d7e-8b3d-6d9c12dd1fd5",
   "metadata": {},
   "source": [
    "## 30th Sept exception handling "
   ]
  },
  {
   "cell_type": "code",
   "execution_count": 78,
   "id": "3dd678be-c17a-4620-b36f-cf9be24c0240",
   "metadata": {},
   "outputs": [],
   "source": [
    "def fun(a,b):\n",
    "    return a/b"
   ]
  },
  {
   "cell_type": "code",
   "execution_count": 80,
   "id": "84aa0f6c-6b69-4bd5-8c39-789cb9f1e3c7",
   "metadata": {},
   "outputs": [
    {
     "ename": "ZeroDivisionError",
     "evalue": "division by zero",
     "output_type": "error",
     "traceback": [
      "\u001b[0;31m---------------------------------------------------------------------------\u001b[0m",
      "\u001b[0;31mZeroDivisionError\u001b[0m                         Traceback (most recent call last)",
      "Cell \u001b[0;32mIn[80], line 1\u001b[0m\n\u001b[0;32m----> 1\u001b[0m \u001b[43mfun\u001b[49m\u001b[43m(\u001b[49m\u001b[38;5;241;43m1\u001b[39;49m\u001b[43m,\u001b[49m\u001b[38;5;241;43m0\u001b[39;49m\u001b[43m)\u001b[49m\n",
      "Cell \u001b[0;32mIn[78], line 2\u001b[0m, in \u001b[0;36mfun\u001b[0;34m(a, b)\u001b[0m\n\u001b[1;32m      1\u001b[0m \u001b[38;5;28;01mdef\u001b[39;00m \u001b[38;5;21mfun\u001b[39m(a,b):\n\u001b[0;32m----> 2\u001b[0m     \u001b[38;5;28;01mreturn\u001b[39;00m \u001b[43ma\u001b[49m\u001b[38;5;241;43m/\u001b[39;49m\u001b[43mb\u001b[49m\n",
      "\u001b[0;31mZeroDivisionError\u001b[0m: division by zero"
     ]
    }
   ],
   "source": [
    "fun(1,0)"
   ]
  },
  {
   "cell_type": "code",
   "execution_count": 81,
   "id": "8047cb2b-9349-41ea-963e-6e856dbd8b2e",
   "metadata": {},
   "outputs": [],
   "source": [
    "def fun1(a,b):\n",
    "    try :\n",
    "        return a/b\n",
    "    except ZeroDivisionError as z:\n",
    "        print(z)"
   ]
  },
  {
   "cell_type": "code",
   "execution_count": 82,
   "id": "7c4a8258-9a03-489a-bba7-bc95e2fe2103",
   "metadata": {},
   "outputs": [
    {
     "data": {
      "text/plain": [
       "0.043478260869565216"
      ]
     },
     "execution_count": 82,
     "metadata": {},
     "output_type": "execute_result"
    }
   ],
   "source": [
    "fun1(1,23)"
   ]
  },
  {
   "cell_type": "code",
   "execution_count": 83,
   "id": "e12b70e3-795c-4270-8b2f-fe0797aa49e5",
   "metadata": {},
   "outputs": [
    {
     "name": "stdout",
     "output_type": "stream",
     "text": [
      "division by zero\n"
     ]
    }
   ],
   "source": [
    "fun1(1,0)"
   ]
  },
  {
   "cell_type": "code",
   "execution_count": 88,
   "id": "a341dcb6-1606-420c-a98b-0e3cd3f04872",
   "metadata": {},
   "outputs": [],
   "source": [
    "def fun2(l):\n",
    "    try:\n",
    "        sum1=0\n",
    "        for i in l:\n",
    "            if(i%2==0):\n",
    "                sum1+=i\n",
    "        return sum1\n",
    "                \n",
    "    except Exception as e:\n",
    "        print(e)"
   ]
  },
  {
   "cell_type": "code",
   "execution_count": 89,
   "id": "cbafbcdd-c476-4a21-92fe-817b37df5431",
   "metadata": {},
   "outputs": [
    {
     "data": {
      "text/plain": [
       "6"
      ]
     },
     "execution_count": 89,
     "metadata": {},
     "output_type": "execute_result"
    }
   ],
   "source": [
    "l=[1,2,3,4]\n",
    "fun2(l)"
   ]
  },
  {
   "cell_type": "code",
   "execution_count": 94,
   "id": "ea6136c3-38db-407c-81f9-3a780314ea53",
   "metadata": {},
   "outputs": [
    {
     "name": "stdin",
     "output_type": "stream",
     "text": [
      "enter input a 1\n",
      "enter input b 0\n"
     ]
    },
    {
     "name": "stdout",
     "output_type": "stream",
     "text": [
      "division by zero\n",
      "good to see!\n"
     ]
    }
   ],
   "source": [
    "\n",
    "try:\n",
    "    a=int(input(\"enter input a\"))\n",
    "    b=int(input(\"enter input b\"))\n",
    "    print(round(a/b,2))\n",
    "except Exception as e:\n",
    "    print(e)\n",
    "print(\"good to see!\")\n",
    "    "
   ]
  },
  {
   "cell_type": "code",
   "execution_count": 97,
   "id": "5f9775a1-dc19-4c1b-9c5d-62a9ef88d7b6",
   "metadata": {},
   "outputs": [
    {
     "name": "stdin",
     "output_type": "stream",
     "text": [
      "enter the value a8888\n"
     ]
    },
    {
     "name": "stdout",
     "output_type": "stream",
     "text": [
      "invalid literal for int() with base 10: 'a8888'\n"
     ]
    }
   ],
   "source": [
    "try:\n",
    "    a=int(input(\"enter the value\"))\n",
    "    b=int(input(\"enter second vlaue\"))\n",
    "    print(a/b)\n",
    "except ZeroDivisionError as z:\n",
    "    print(z)\n",
    "\n",
    "except TypeError as t:\n",
    "    print(t)\n",
    "\n",
    "except ValueError as v:\n",
    "    print(v)\n",
    "    \n",
    "    "
   ]
  },
  {
   "cell_type": "markdown",
   "id": "ff123863-0605-43fe-b306-2f273b755905",
   "metadata": {},
   "source": [
    "## Logging "
   ]
  },
  {
   "cell_type": "code",
   "execution_count": 3,
   "id": "9392953c-4987-45e2-bf83-dad7899d264a",
   "metadata": {},
   "outputs": [],
   "source": [
    "import logging \n",
    "logging.basicConfig(filename=\"firstname.log\",level=logging.DEBUG,format = '%(asctime)s- %(levelname)s - %(message)s')"
   ]
  },
  {
   "cell_type": "code",
   "execution_count": 4,
   "id": "d89a0ff6-c19b-4a5a-961f-f2d4fc43615f",
   "metadata": {},
   "outputs": [
    {
     "name": "stdin",
     "output_type": "stream",
     "text": [
      "enter the age 23\n"
     ]
    }
   ],
   "source": [
    "try:\n",
    "    logging.info(\"the program has been started\")\n",
    "    age=int(input(\"enter the age\"))\n",
    "    logging.info(\"age is %d\",age)\n",
    "    if(age<0):\n",
    "        logging.info(\"the age is negative =%d\",age)\n",
    "        raise ValueError (\"age is userage\")\n",
    "    elif(age>1 and age<10):\n",
    "        logging.info(\"the age is = %d\",age)\n",
    "        raise Exception(\"user is underage\")\n",
    "    else:\n",
    "        logging.info(\"the age is good now=%d\",age)\n",
    "except Exception as e:\n",
    "    logging.error(e)\n",
    "else:\n",
    "    logging.info(\"the else will be executed after successful execution of try\")\n",
    "finally:\n",
    "    logging.info(\"the finally is executed always\")\n",
    "    \n",
    "        \n",
    "        "
   ]
  },
  {
   "cell_type": "code",
   "execution_count": null,
   "id": "35cacae9-da4b-4d37-bb18-736bb75e07be",
   "metadata": {},
   "outputs": [],
   "source": []
  }
 ],
 "metadata": {
  "kernelspec": {
   "display_name": "Python 3 (ipykernel)",
   "language": "python",
   "name": "python3"
  },
  "language_info": {
   "codemirror_mode": {
    "name": "ipython",
    "version": 3
   },
   "file_extension": ".py",
   "mimetype": "text/x-python",
   "name": "python",
   "nbconvert_exporter": "python",
   "pygments_lexer": "ipython3",
   "version": "3.10.8"
  }
 },
 "nbformat": 4,
 "nbformat_minor": 5
}
