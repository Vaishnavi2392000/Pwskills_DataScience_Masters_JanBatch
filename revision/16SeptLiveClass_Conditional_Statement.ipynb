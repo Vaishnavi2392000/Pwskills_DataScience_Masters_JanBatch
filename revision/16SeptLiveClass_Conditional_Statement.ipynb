{
 "cells": [
  {
   "cell_type": "code",
   "execution_count": 1,
   "id": "202f0c5f-4712-4f4d-9552-95e7276d23bc",
   "metadata": {},
   "outputs": [
    {
     "name": "stdout",
     "output_type": "stream",
     "text": [
      "yes, i am able to  buy \n"
     ]
    }
   ],
   "source": [
    "price=400\n",
    "if(price<=500):\n",
    "    print(\"yes, i am able to  buy \")"
   ]
  },
  {
   "cell_type": "code",
   "execution_count": 2,
   "id": "adda997d-fb03-4edf-a9f4-c8230e08a309",
   "metadata": {},
   "outputs": [
    {
     "ename": "IndentationError",
     "evalue": "expected an indented block after 'if' statement on line 2 (3255474057.py, line 3)",
     "output_type": "error",
     "traceback": [
      "\u001b[0;36m  Cell \u001b[0;32mIn[2], line 3\u001b[0;36m\u001b[0m\n\u001b[0;31m    print(\"yes, i am able to  buy \")\u001b[0m\n\u001b[0m    ^\u001b[0m\n\u001b[0;31mIndentationError\u001b[0m\u001b[0;31m:\u001b[0m expected an indented block after 'if' statement on line 2\n"
     ]
    }
   ],
   "source": [
    "price=400\n",
    "if(price<=500):\n",
    "print(\"yes, i am able to  buy \")"
   ]
  },
  {
   "cell_type": "code",
   "execution_count": 3,
   "id": "42da66f1-7417-4dcc-bced-316b7894e0b5",
   "metadata": {},
   "outputs": [
    {
     "data": {
      "text/plain": [
       "False"
      ]
     },
     "execution_count": 3,
     "metadata": {},
     "output_type": "execute_result"
    }
   ],
   "source": [
    "850<=500"
   ]
  },
  {
   "cell_type": "code",
   "execution_count": 4,
   "id": "85495e78-368c-4a86-8990-fdc4559f5f62",
   "metadata": {},
   "outputs": [
    {
     "name": "stdout",
     "output_type": "stream",
     "text": [
      "i wont be able to buy\n"
     ]
    }
   ],
   "source": [
    "price=670\n",
    "if(price<=500):\n",
    "    print(\"i can buy\")\n",
    "else:\n",
    "    print(\"i wont be able to buy\")"
   ]
  },
  {
   "cell_type": "code",
   "execution_count": 11,
   "id": "ba1dfd71-d550-4eaf-bcca-db047c031e08",
   "metadata": {},
   "outputs": [
    {
     "name": "stdout",
     "output_type": "stream",
     "text": [
      "I can buy pant\n"
     ]
    }
   ],
   "source": [
    "price=670\n",
    "shirt_price=200\n",
    "pant_price=500\n",
    "coat_price=800\n",
    "if(coat_price<=price):\n",
    "    print(\"i can buy a coat \")\n",
    "elif(pant_price<price):\n",
    "    print(\"I can buy pant\")\n",
    "elif(shirt_price<=500):\n",
    "    print(\"I will try to buy shirt\")\n",
    "else:\n",
    "    print(\"i wont be able to buy\")"
   ]
  },
  {
   "cell_type": "code",
   "execution_count": 8,
   "id": "75aa8974-0819-4ff4-aca4-2bee763835c9",
   "metadata": {},
   "outputs": [
    {
     "data": {
      "text/plain": [
       "True"
      ]
     },
     "execution_count": 8,
     "metadata": {},
     "output_type": "execute_result"
    }
   ],
   "source": [
    "500<=500"
   ]
  },
  {
   "cell_type": "code",
   "execution_count": 22,
   "id": "6c8a4338-7590-47a7-85ff-6dc897ee4a3d",
   "metadata": {},
   "outputs": [
    {
     "name": "stdout",
     "output_type": "stream",
     "text": [
      "yes it's available now check the size\n",
      "I can buy shirt as size is available\n",
      "why to wait to buy!! it all the conditions are satisfied\n"
     ]
    }
   ],
   "source": [
    "price=670\n",
    "shirt_price=200\n",
    "pant_price=500\n",
    "coat_price=800\n",
    "my_size='M'\n",
    "size_store=['M','L','S','XL','XXL']\n",
    "my_choice='black'\n",
    "color_choice=['red','black','white','gray']\n",
    "if(coat_price<=price):\n",
    "    print(\"i can buy a coat \")\n",
    "elif(pant_price<500):\n",
    "    print(\"I can buy pant\")\n",
    "elif(shirt_price<=500):\n",
    "    print(\"yes it's available now check the size\")\n",
    "    if(my_size in size_store):\n",
    "        print(\"I can buy shirt as size is available\")\n",
    "        if(my_choice in color_choice):\n",
    "            print(\"why to wait to buy!! it all the conditions are satisfied\")\n",
    "        else:\n",
    "            print(\"need to compramise in color\")\n",
    "    else:\n",
    "        print(\"I can not buy shirt\")\n",
    "else:\n",
    "    print(\"i wont be able to buy\")"
   ]
  },
  {
   "cell_type": "code",
   "execution_count": 28,
   "id": "5249383c-3834-4356-b3c0-db3319e88457",
   "metadata": {},
   "outputs": [
    {
     "name": "stdout",
     "output_type": "stream",
     "text": [
      "I want to join the course\n"
     ]
    }
   ],
   "source": [
    "courses=['data science masters','DSA','Jave','Big data','DA']\n",
    "price=20000\n",
    "mentor='sudhanshu kumar'\n",
    "if('DSA' in courses and price<=20000 and mentor=='sudhanshu kumar'):\n",
    "    print(\"I want to join the course\")\n",
    "else:\n",
    "    print(\"I can not join the course\")"
   ]
  },
  {
   "cell_type": "code",
   "execution_count": 32,
   "id": "55dc89cb-f7df-4a27-b473-65287e066f72",
   "metadata": {},
   "outputs": [
    {
     "name": "stdout",
     "output_type": "stream",
     "text": [
      "it's out of budjet\n"
     ]
    }
   ],
   "source": [
    "course_price=20000\n",
    "if(10000<=course_price<=15000):\n",
    "    print(\"i will try to buy the course\")\n",
    "else:\n",
    "    print(\"it's out of budjet\")"
   ]
  },
  {
   "cell_type": "code",
   "execution_count": 37,
   "id": "00ab0cdd-3f93-40bf-9e36-9c25452c09a0",
   "metadata": {},
   "outputs": [
    {
     "name": "stdin",
     "output_type": "stream",
     "text": [
      "enter username sudh\n",
      "enter password sudh@1234\n"
     ]
    },
    {
     "name": "stdout",
     "output_type": "stream",
     "text": [
      "you have logged in successfully\n"
     ]
    }
   ],
   "source": [
    "username='sudh'\n",
    "password='sudh@1234'\n",
    "if(username==input('enter username') and password==input(\"enter password\")):\n",
    "    print(\"you have logged in successfully\")\n",
    "else:\n",
    "    print(\"enter correct username and password\")"
   ]
  },
  {
   "cell_type": "code",
   "execution_count": 40,
   "id": "48e8b793-1fba-4742-97dd-bb65102b1a26",
   "metadata": {},
   "outputs": [
    {
     "name": "stdin",
     "output_type": "stream",
     "text": [
      "enter your registerd mobile numebr 123456\n"
     ]
    },
    {
     "name": "stdout",
     "output_type": "stream",
     "text": [
      "yes you're a regsistered user\n"
     ]
    },
    {
     "name": "stdin",
     "output_type": "stream",
     "text": [
      "enter otp that we have sent on your mobile number 1234\n"
     ]
    },
    {
     "name": "stdout",
     "output_type": "stream",
     "text": [
      "you  have succeesfully logged in.\n"
     ]
    }
   ],
   "source": [
    "mobile_no='123456'\n",
    "otp='1234'\n",
    "if(mobile_no==input(\"enter your registerd mobile numebr\")):\n",
    "    print(\"yes you're a regsistered user\")\n",
    "    if(otp==input('enter otp that we have sent on your mobile number')):\n",
    "        print(\"you  have succeesfully logged in.\")\n",
    "    else:\n",
    "        print(\"otp is not correct. please try again\")\n",
    "else:\n",
    "    print(\"you've not entered valid mobile number\")"
   ]
  },
  {
   "cell_type": "code",
   "execution_count": 42,
   "id": "19e150e9-06f9-45cc-b1d1-d73ff17c1f15",
   "metadata": {},
   "outputs": [
    {
     "name": "stdin",
     "output_type": "stream",
     "text": [
      "enter your registerd mobile numebr 12367\n"
     ]
    },
    {
     "name": "stdout",
     "output_type": "stream",
     "text": [
      "yes you're a regsistered user\n"
     ]
    },
    {
     "name": "stdin",
     "output_type": "stream",
     "text": [
      "enter otp that we have sent on your mobile number 1234\n"
     ]
    },
    {
     "name": "stdout",
     "output_type": "stream",
     "text": [
      "you  have succeesfully logged in.\n"
     ]
    }
   ],
   "source": [
    "mobile_no={'12367','34567','2334456','89078','45677'}\n",
    "otp='1234'\n",
    "if(input(\"enter your registerd mobile numebr\") in mobile_no):\n",
    "    print(\"yes you're a regsistered user\")\n",
    "    if(otp==input('enter otp that we have sent on your mobile number')):\n",
    "        print(\"you  have succeesfully logged in.\")\n",
    "    else:\n",
    "        print(\"otp is not correct. please try again\")\n",
    "else:\n",
    "    print(\"you've not entered valid mobile number\")"
   ]
  },
  {
   "cell_type": "markdown",
   "id": "61b8edfc-c650-4428-a1e0-fbc7ade0e8ce",
   "metadata": {},
   "source": [
    "### LOOPS"
   ]
  },
  {
   "cell_type": "code",
   "execution_count": 44,
   "id": "60c57fa3-ac0a-45ff-ad68-801a1434cc8b",
   "metadata": {},
   "outputs": [
    {
     "name": "stdout",
     "output_type": "stream",
     "text": [
      "3 4 5 6 7 8 5 23 "
     ]
    }
   ],
   "source": [
    "l=[1,2,3,4,5,6,3,21]\n",
    "for i in l:\n",
    "    print(i+2,end=' ')"
   ]
  },
  {
   "cell_type": "code",
   "execution_count": 48,
   "id": "77e2bb4c-86d5-4554-8ec1-a9fc080b61a6",
   "metadata": {},
   "outputs": [
    {
     "name": "stdout",
     "output_type": "stream",
     "text": [
      "1 2 3 4 5 6 3 21 "
     ]
    }
   ],
   "source": [
    "i=0\n",
    "while(i<=len(l)-1):\n",
    "    print(l[i],end=' ')\n",
    "    i+=1"
   ]
  },
  {
   "cell_type": "code",
   "execution_count": 60,
   "id": "da451c1a-af26-47d1-b891-6f4d9e25bbed",
   "metadata": {},
   "outputs": [
    {
     "name": "stdout",
     "output_type": "stream",
     "text": [
      "yes! user is registered\n",
      "course accessed to this user is ['big data', 'fsds']\n"
     ]
    }
   ],
   "source": [
    "l=[1,2,34,56,78]\n",
    "mobile_no=['12367', '2334456', '34567', '45677', '89078']\n",
    "stud_no='45677'\n",
    "stud_infor={'mobile_no':'45677','course':['big data','fsds']}\n",
    "for i in mobile_no:\n",
    "    if(i==stud_no):\n",
    "        print(\"yes! user is registered\")\n",
    "        if(i==stud_infor['mobile_no']):\n",
    "            print(\"course accessed to this user is\",stud_infor['course'])\n",
    "        "
   ]
  },
  {
   "cell_type": "code",
   "execution_count": 71,
   "id": "1bdc5e24-25b9-4071-94fe-b65121266e9d",
   "metadata": {},
   "outputs": [
    {
     "name": "stdout",
     "output_type": "stream",
     "text": [
      "234\n",
      "567\n",
      "['sudh', 'kumar']\n",
      "[1, 2, 3, 5, 4]\n"
     ]
    }
   ],
   "source": [
    "t=(1,2,3,5,4,'sudh','kumar',[234,567])\n",
    "l1=[]\n",
    "l2=[]\n",
    "for i in t:\n",
    "    if(type(i)==str):\n",
    "        l1.append(i)\n",
    "    elif(type(i)==list):\n",
    "        for j in i:\n",
    "            print(j)\n",
    "    else:\n",
    "        l2.append(i)\n",
    "print(l1)\n",
    "print(l2)\n"
   ]
  },
  {
   "cell_type": "code",
   "execution_count": 73,
   "id": "a14569e5-919b-438d-ab50-101c542ddc30",
   "metadata": {},
   "outputs": [
    {
     "name": "stdout",
     "output_type": "stream",
     "text": [
      "34 56 43 12 78 "
     ]
    }
   ],
   "source": [
    "set1={12,34,56,78,43,56,78}\n",
    "for i in set1:\n",
    "    print(i,end=' ')"
   ]
  },
  {
   "cell_type": "code",
   "execution_count": 75,
   "id": "c9ec1f4c-6549-48ba-82c7-8f32552da269",
   "metadata": {},
   "outputs": [
    {
     "data": {
      "text/plain": [
       "{'name': 'sudh',\n",
       " 'class': ['big data',\n",
       "  'data analytics',\n",
       "  'data science masters',\n",
       "  'data stuructures',\n",
       "  'architecture'],\n",
       " 'mobile_no': 2345566,\n",
       " 'email_id': 'sudhkumar45@pwskills.com'}"
      ]
     },
     "execution_count": 75,
     "metadata": {},
     "output_type": "execute_result"
    }
   ],
   "source": [
    "d={'name':'sudh','class':['big data','data analytics','data science masters','data stuructures','architecture'],'mobile_no':2345566,'email_id':'sudhkumar45@pwskills.com'}\n",
    "d"
   ]
  },
  {
   "cell_type": "code",
   "execution_count": 77,
   "id": "c26569e8-0d1f-45d7-9496-c43f97de41c5",
   "metadata": {},
   "outputs": [
    {
     "name": "stdout",
     "output_type": "stream",
     "text": [
      "sudh\n",
      "['big data', 'data analytics', 'data science masters', 'data stuructures', 'architecture']\n",
      "2345566\n",
      "sudhkumar45@pwskills.com\n"
     ]
    }
   ],
   "source": [
    "for i in d.values():\n",
    "    print(i)"
   ]
  },
  {
   "cell_type": "code",
   "execution_count": 80,
   "id": "293c60c8-1d5e-4309-82a0-c7c78d5ddf9c",
   "metadata": {},
   "outputs": [
    {
     "name": "stdout",
     "output_type": "stream",
     "text": [
      "['big data', 'data analytics', 'data science masters', 'data stuructures', 'architecture']\n",
      "yes\n",
      "course is available\n"
     ]
    }
   ],
   "source": [
    "for i in d.values():\n",
    "    if(type(i)==list):\n",
    "        print(i)\n",
    "        if(\"big data\" in i):\n",
    "            print('yes')\n",
    "        for j in i:\n",
    "            if(j=='big data'):\n",
    "                print(\"course is available\")"
   ]
  },
  {
   "cell_type": "code",
   "execution_count": null,
   "id": "c760c629-f8ee-4377-a96b-00368a78abe4",
   "metadata": {},
   "outputs": [],
   "source": []
  }
 ],
 "metadata": {
  "kernelspec": {
   "display_name": "Python 3 (ipykernel)",
   "language": "python",
   "name": "python3"
  },
  "language_info": {
   "codemirror_mode": {
    "name": "ipython",
    "version": 3
   },
   "file_extension": ".py",
   "mimetype": "text/x-python",
   "name": "python",
   "nbconvert_exporter": "python",
   "pygments_lexer": "ipython3",
   "version": "3.10.8"
  }
 },
 "nbformat": 4,
 "nbformat_minor": 5
}
