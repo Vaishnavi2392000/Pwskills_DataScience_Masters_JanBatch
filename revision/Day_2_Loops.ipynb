{
 "cells": [
  {
   "cell_type": "code",
   "execution_count": 1,
   "id": "af1a19f8-f952-4118-986c-7fcfd28f2cd0",
   "metadata": {},
   "outputs": [
    {
     "data": {
      "text/plain": [
       "10"
      ]
     },
     "execution_count": 1,
     "metadata": {},
     "output_type": "execute_result"
    }
   ],
   "source": [
    "a=10\n",
    "a"
   ]
  },
  {
   "cell_type": "code",
   "execution_count": 2,
   "id": "48e664bc-3847-4c12-8c61-ea1a3b6081a9",
   "metadata": {},
   "outputs": [
    {
     "data": {
      "text/plain": [
       "str"
      ]
     },
     "execution_count": 2,
     "metadata": {},
     "output_type": "execute_result"
    }
   ],
   "source": [
    "c='c'\n",
    "type(c)"
   ]
  },
  {
   "cell_type": "code",
   "execution_count": 3,
   "id": "7bf435b3-9967-4c2d-ba73-1debd4c34fcf",
   "metadata": {},
   "outputs": [
    {
     "data": {
      "text/plain": [
       "123"
      ]
     },
     "execution_count": 3,
     "metadata": {},
     "output_type": "execute_result"
    }
   ],
   "source": [
    "int('123')"
   ]
  },
  {
   "cell_type": "code",
   "execution_count": 4,
   "id": "a05cc338-9665-4ecf-b4dc-4adee6dd6e0f",
   "metadata": {},
   "outputs": [
    {
     "data": {
      "text/plain": [
       "0"
      ]
     },
     "execution_count": 4,
     "metadata": {},
     "output_type": "execute_result"
    }
   ],
   "source": [
    "int('0')"
   ]
  },
  {
   "cell_type": "code",
   "execution_count": 5,
   "id": "709bdd0c-96e8-4b73-a29c-39ab4ad7309f",
   "metadata": {},
   "outputs": [
    {
     "data": {
      "text/plain": [
       "0"
      ]
     },
     "execution_count": 5,
     "metadata": {},
     "output_type": "execute_result"
    }
   ],
   "source": [
    "int()"
   ]
  },
  {
   "cell_type": "code",
   "execution_count": 6,
   "id": "b80c7c81-299c-4bfe-bad2-54180b6ae5ce",
   "metadata": {},
   "outputs": [
    {
     "name": "stdout",
     "output_type": "stream",
     "text": [
      "Hello world\n"
     ]
    }
   ],
   "source": [
    "print(\"Hello world\") "
   ]
  },
  {
   "cell_type": "code",
   "execution_count": 7,
   "id": "4aad6e0f-7c9a-4789-b215-cb061a96797b",
   "metadata": {},
   "outputs": [
    {
     "name": "stdout",
     "output_type": "stream",
     "text": [
      "123\n"
     ]
    },
    {
     "data": {
      "text/plain": [
       "NoneType"
      ]
     },
     "execution_count": 7,
     "metadata": {},
     "output_type": "execute_result"
    }
   ],
   "source": [
    "type(print(123))"
   ]
  },
  {
   "cell_type": "code",
   "execution_count": 8,
   "id": "7720aa5d-725a-4712-93b8-6e600efede21",
   "metadata": {},
   "outputs": [
    {
     "name": "stdout",
     "output_type": "stream",
     "text": [
      "123\n"
     ]
    }
   ],
   "source": [
    "print('123')"
   ]
  },
  {
   "cell_type": "code",
   "execution_count": 9,
   "id": "f6aa9ac8-f3ff-4f28-b3ce-8547eaf7f7e3",
   "metadata": {},
   "outputs": [
    {
     "name": "stdout",
     "output_type": "stream",
     "text": [
      "my age is : 32\n"
     ]
    }
   ],
   "source": [
    "myage=32\n",
    "print(\"my age is :\", myage)"
   ]
  },
  {
   "cell_type": "code",
   "execution_count": 10,
   "id": "5effe987-a372-4f57-a098-e9d4e71f632a",
   "metadata": {},
   "outputs": [
    {
     "name": "stdout",
     "output_type": "stream",
     "text": [
      "my age is:32\n"
     ]
    }
   ],
   "source": [
    "print(f\"my age is:{myage}\")"
   ]
  },
  {
   "cell_type": "code",
   "execution_count": 11,
   "id": "60816799-8961-4824-8229-34cec23cbf20",
   "metadata": {},
   "outputs": [
    {
     "name": "stdout",
     "output_type": "stream",
     "text": [
      "my age is:{myage}\n"
     ]
    }
   ],
   "source": [
    "print(\"my age is:{myage}\")"
   ]
  },
  {
   "cell_type": "code",
   "execution_count": 12,
   "id": "05d3dca9-f130-4d6f-9f91-75ea877b7af3",
   "metadata": {},
   "outputs": [
    {
     "name": "stdout",
     "output_type": "stream",
     "text": [
      "my name is krish and my age is 32\n"
     ]
    }
   ],
   "source": [
    "name=\"krish\"\n",
    "age=32\n",
    "print(\"my name is {} and my age is {}\".format(name,age))"
   ]
  },
  {
   "cell_type": "code",
   "execution_count": 13,
   "id": "fd70a049-da04-40ce-a673-9196aaf90078",
   "metadata": {},
   "outputs": [
    {
     "name": "stdout",
     "output_type": "stream",
     "text": [
      "my name is krish and age is 32\n"
     ]
    }
   ],
   "source": [
    "print(f\"my name is {name} and age is {age}\")"
   ]
  },
  {
   "cell_type": "code",
   "execution_count": 14,
   "id": "73dbc737-e2d0-42bc-ab80-7d609cb8c3b0",
   "metadata": {},
   "outputs": [],
   "source": [
    "name=\"vaishnavi\"\n"
   ]
  },
  {
   "cell_type": "markdown",
   "id": "a9deee3b-4b1f-4dbb-b45b-55853e787880",
   "metadata": {},
   "source": []
  },
  {
   "cell_type": "code",
   "execution_count": 15,
   "id": "adac245a-44ef-41e4-b961-ce4488dba63c",
   "metadata": {},
   "outputs": [
    {
     "data": {
      "text/plain": [
       "'vaishnavi'"
      ]
     },
     "execution_count": 15,
     "metadata": {},
     "output_type": "execute_result"
    }
   ],
   "source": [
    "name"
   ]
  },
  {
   "cell_type": "code",
   "execution_count": 16,
   "id": "42acf613-6b2a-42f0-8530-ac89afb03a3f",
   "metadata": {},
   "outputs": [
    {
     "name": "stdout",
     "output_type": "stream",
     "text": [
      "my age is 23 and i have completed by Btech with name of vaishnavi\n"
     ]
    }
   ],
   "source": [
    "print(\"my age is 23 and i have completed by Btech with name of {}\".format(name))"
   ]
  },
  {
   "cell_type": "code",
   "execution_count": 17,
   "id": "8f8531f5-3e3b-4f07-87fa-06bbc72cde77",
   "metadata": {},
   "outputs": [
    {
     "data": {
      "text/plain": [
       "32"
      ]
     },
     "execution_count": 17,
     "metadata": {},
     "output_type": "execute_result"
    }
   ],
   "source": [
    "myage"
   ]
  },
  {
   "cell_type": "code",
   "execution_count": 18,
   "id": "328ffc50-50ac-415e-9d6c-85bab71d48f6",
   "metadata": {},
   "outputs": [
    {
     "name": "stdout",
     "output_type": "stream",
     "text": [
      "my name is vaishnavi and i have completed my degree in btech at the age of 32\n"
     ]
    }
   ],
   "source": [
    "print(\"my name is {} and i have completed my degree in btech at the age of {}\".format(name,age))"
   ]
  },
  {
   "cell_type": "code",
   "execution_count": 19,
   "id": "6a1611a5-1671-4277-81d2-eefd18f36688",
   "metadata": {},
   "outputs": [
    {
     "name": "stdin",
     "output_type": "stream",
     "text": [
      " rt\n"
     ]
    },
    {
     "data": {
      "text/plain": [
       "'rt'"
      ]
     },
     "execution_count": 19,
     "metadata": {},
     "output_type": "execute_result"
    }
   ],
   "source": [
    "input()"
   ]
  },
  {
   "cell_type": "code",
   "execution_count": 21,
   "id": "9c49672c-05ee-4150-bffd-d8e938d6c3db",
   "metadata": {},
   "outputs": [
    {
     "name": "stdin",
     "output_type": "stream",
     "text": [
      "enter age 67\n"
     ]
    }
   ],
   "source": [
    "age=int(input('enter age'))\n",
    "if(age>=18 and age<=35):\n",
    "    print(\"you're an young blood\")"
   ]
  },
  {
   "cell_type": "code",
   "execution_count": null,
   "id": "06d4ded4-c0bd-45dc-bd61-679b3431b9ca",
   "metadata": {},
   "outputs": [],
   "source": [
    "int(True)"
   ]
  },
  {
   "cell_type": "code",
   "execution_count": null,
   "id": "7d2c9d39-b4ac-4bfe-a43e-af925684154a",
   "metadata": {},
   "outputs": [],
   "source": [
    "int(False)"
   ]
  },
  {
   "cell_type": "code",
   "execution_count": null,
   "id": "59ba16bf-bb66-45a4-a7bb-8e82557bc7e6",
   "metadata": {},
   "outputs": [],
   "source": [
    "int(-1)"
   ]
  },
  {
   "cell_type": "code",
   "execution_count": null,
   "id": "383b765a-3dce-4169-b0c8-ce6b94581792",
   "metadata": {},
   "outputs": [],
   "source": [
    "bool(0)"
   ]
  },
  {
   "cell_type": "code",
   "execution_count": null,
   "id": "e69001ea-7165-4b40-9deb-d5018bca5f34",
   "metadata": {},
   "outputs": [],
   "source": [
    "bool(-129)"
   ]
  },
  {
   "cell_type": "code",
   "execution_count": null,
   "id": "287450aa-293e-46ea-96d1-e76f4aca0a39",
   "metadata": {},
   "outputs": [],
   "source": [
    "shopping=int(input(\"enter the amount\"))\n",
    "if(shopping>1000):\n",
    "    shopping=int(shopping-(shopping*20/100))\n",
    "    print(\"you will get the product at rs only {}\".format(shopping))\n",
    "else:\n",
    "    shopping=int(shopping-(shopping*30/100))\n",
    "    print(\"you will get the product at rs only {}\".format(shopping))"
   ]
  },
  {
   "cell_type": "code",
   "execution_count": null,
   "id": "ec168338-029e-4fb4-9ed9-df4847d7d1a4",
   "metadata": {},
   "outputs": [],
   "source": [
    "price=int(input(\"enter the price\"))\n",
    "if(price>3000):\n",
    "    print(\"product price is {}\".format(price*0.8))\n",
    "    if(price>=4000):\n",
    "        print(\"Goa is on\")\n",
    "    else:\n",
    "        print(\"enjoy the company with him only\")\n",
    "elif(price>=2000 and price<=3000):\n",
    "    print(\"product price is {} \".format(int(price*0.7)))\n",
    "    if(price==2999):\n",
    "        print(\"get additional gift \")\n",
    "\n",
    "elif(price<=1000 and price<=2000):\n",
    "    print(\"product price is {} \".format(price*0.6))"
   ]
  },
  {
   "cell_type": "markdown",
   "id": "94d2f508-97e6-4949-8e19-04137e564fda",
   "metadata": {},
   "source": [
    "### single statement suits"
   ]
  },
  {
   "cell_type": "code",
   "execution_count": null,
   "id": "4d296053-fabb-495f-a38b-d791da228d80",
   "metadata": {},
   "outputs": [],
   "source": [
    "val=int(input(\"enter the value\"))\n",
    "if(val>800):print(\"value is greator than 800\")\n",
    "else:print(\"bye bye\")"
   ]
  },
  {
   "cell_type": "code",
   "execution_count": null,
   "id": "c007357e-c451-47fa-85c9-ca10b8ad2dee",
   "metadata": {},
   "outputs": [],
   "source": [
    "a=100\n",
    "while(a>=1):\n",
    "    \n",
    "    print(a,end=' ')\n",
    "    a=a-1"
   ]
  },
  {
   "cell_type": "code",
   "execution_count": null,
   "id": "5ecc7311-92ea-49ab-b1b2-7f2a014acc22",
   "metadata": {},
   "outputs": [],
   "source": [
    "a=10\n",
    "a"
   ]
  },
  {
   "cell_type": "code",
   "execution_count": null,
   "id": "9bdcb08a-c2d6-4c3b-aa60-85a688164443",
   "metadata": {},
   "outputs": [],
   "source": [
    "a=10\n",
    "a"
   ]
  },
  {
   "cell_type": "code",
   "execution_count": 22,
   "id": "de0d71ec-430d-4d8e-a313-eda40aacf33d",
   "metadata": {},
   "outputs": [
    {
     "name": "stdout",
     "output_type": "stream",
     "text": [
      "1000\n",
      "900\n",
      "800\n",
      "700\n",
      "600\n",
      "500\n",
      "400\n",
      "300\n",
      "200\n",
      "100\n",
      "put more money\n",
      "hello all\n"
     ]
    }
   ],
   "source": [
    "amount=1000\n",
    "while(amount!=0):\n",
    "    print(amount)\n",
    "    amount=amount-100\n",
    "else:\n",
    "    print(\"put more money\")\n",
    "print('hello all')\n",
    "    "
   ]
  },
  {
   "cell_type": "code",
   "execution_count": 23,
   "id": "12e634df-e421-4a7b-a7a3-23b985c5d874",
   "metadata": {},
   "outputs": [
    {
     "data": {
      "text/plain": [
       "10"
      ]
     },
     "execution_count": 23,
     "metadata": {},
     "output_type": "execute_result"
    }
   ],
   "source": [
    "a=10\n",
    "a"
   ]
  },
  {
   "cell_type": "code",
   "execution_count": 26,
   "id": "77e97184-f707-4c96-95ea-c867a65342cb",
   "metadata": {},
   "outputs": [
    {
     "name": "stdout",
     "output_type": "stream",
     "text": [
      "1000\n",
      "900\n",
      "800\n",
      "700\n",
      "600\n",
      "500\n",
      "400\n",
      "300\n",
      "200\n",
      "100\n",
      "money has been ended bad!!\n",
      "guys feel money \n"
     ]
    }
   ],
   "source": [
    "amount=1000\n",
    "while(amount!=0):\n",
    "    print(amount)\n",
    "    amount-=100\n",
    "else:\n",
    "    print(\"money has been ended bad!!\")\n",
    "print(\"guys feel money \")"
   ]
  },
  {
   "cell_type": "code",
   "execution_count": 29,
   "id": "60f7eb2c-50c6-40dd-b082-e1db6287037e",
   "metadata": {},
   "outputs": [
    {
     "name": "stdout",
     "output_type": "stream",
     "text": [
      "M a n g o "
     ]
    }
   ],
   "source": [
    "a=\"Mango\"\n",
    "for i in range(len(a)):\n",
    "    print(a[i],end=' ')"
   ]
  },
  {
   "cell_type": "markdown",
   "id": "0e17e10e-fac0-464e-b754-4e5a8f5b8ae9",
   "metadata": {},
   "source": [
    "### nested loops\n"
   ]
  },
  {
   "cell_type": "code",
   "execution_count": 37,
   "id": "0dcb6f2d-b186-4e56-a68f-36d40768c625",
   "metadata": {},
   "outputs": [
    {
     "name": "stdout",
     "output_type": "stream",
     "text": [
      "* \n",
      "* * \n",
      "* * * \n",
      "* * * * \n",
      "* * * * * \n",
      "* * * * * * \n",
      "* * * * * * * \n"
     ]
    }
   ],
   "source": [
    "n=7\n",
    "for i in range(0,n):\n",
    "    for j in range(0,i+1):\n",
    "       # print(\"   \")\n",
    "        print(\"*\",end=' ')\n",
    "    print(\"\\r\")"
   ]
  },
  {
   "cell_type": "code",
   "execution_count": null,
   "id": "52c6b36b-5401-4859-8d75-24b7285ad37a",
   "metadata": {},
   "outputs": [],
   "source": []
  }
 ],
 "metadata": {
  "kernelspec": {
   "display_name": "Python 3 (ipykernel)",
   "language": "python",
   "name": "python3"
  },
  "language_info": {
   "codemirror_mode": {
    "name": "ipython",
    "version": 3
   },
   "file_extension": ".py",
   "mimetype": "text/x-python",
   "name": "python",
   "nbconvert_exporter": "python",
   "pygments_lexer": "ipython3",
   "version": "3.10.8"
  }
 },
 "nbformat": 4,
 "nbformat_minor": 5
}
