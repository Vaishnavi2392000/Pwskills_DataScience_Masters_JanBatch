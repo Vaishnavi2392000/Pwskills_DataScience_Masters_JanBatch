{
 "cells": [
  {
   "cell_type": "markdown",
   "id": "f95a712e-ad78-44e7-b81c-5ce3f1ce91e5",
   "metadata": {},
   "source": [
    "## TOPIC: Python Basics Variable"
   ]
  },
  {
   "cell_type": "markdown",
   "id": "1b10aef1-a958-4db8-bda0-0240a4ac4bbb",
   "metadata": {},
   "source": [
    "Que 1: \n",
    "\n",
    "Declare two variables, `x` and `y`, and assign them integer values.\n",
    "Swap the values of these variables without using any temporary\n",
    "variable."
   ]
  },
  {
   "cell_type": "markdown",
   "id": "f1ca6bdc-8eee-41db-9f25-dc022c0ec2e5",
   "metadata": {},
   "source": [
    "answer for the question no.1"
   ]
  },
  {
   "cell_type": "code",
   "execution_count": 22,
   "id": "71825050-15ac-4ff1-a4d5-ae232eb21cbf",
   "metadata": {},
   "outputs": [],
   "source": [
    "x,y=10,12  # variable declaration and assignment"
   ]
  },
  {
   "cell_type": "code",
   "execution_count": 23,
   "id": "3d4b0b1a-e9fb-43db-a0d0-cbe08f596741",
   "metadata": {},
   "outputs": [
    {
     "name": "stdout",
     "output_type": "stream",
     "text": [
      "values before swapping are 10 and 12 for x and y respt.\n"
     ]
    }
   ],
   "source": [
    "print(\"values before swapping are {} and {} for x and y respt.\".format(x,y))"
   ]
  },
  {
   "cell_type": "code",
   "execution_count": 24,
   "id": "539d8af9-38d1-4c4a-9636-8e48594e2946",
   "metadata": {},
   "outputs": [],
   "source": [
    "x,y=y,x   #swapping of two values "
   ]
  },
  {
   "cell_type": "code",
   "execution_count": 25,
   "id": "bc33a663-67d6-4a19-8a73-77de2145317a",
   "metadata": {},
   "outputs": [
    {
     "name": "stdout",
     "output_type": "stream",
     "text": [
      "values after swapping are 12 and 10 for x and y respt.\n"
     ]
    }
   ],
   "source": [
    "print(\"values after swapping are {} and {} for x and y respt.\".format(x,y))"
   ]
  },
  {
   "cell_type": "markdown",
   "id": "3d252afa-5f51-4c12-8f60-ecbeb3534615",
   "metadata": {},
   "source": [
    "Que 2:\n",
    "\n",
    "Create a program that calculates the area of a rectangle. Take the\n",
    "length and width as inputs from the user and store them in variables.\n",
    "Calculate and display the area."
   ]
  },
  {
   "cell_type": "markdown",
   "id": "d35970bc-cf64-47d8-81c3-272a697de828",
   "metadata": {},
   "source": [
    "answer for the question no.2"
   ]
  },
  {
   "cell_type": "code",
   "execution_count": 26,
   "id": "58be042e-ece8-4cc4-9d23-20704f995bb2",
   "metadata": {},
   "outputs": [
    {
     "name": "stdin",
     "output_type": "stream",
     "text": [
      "Hey User, please enter the lenth of the rectangle 2\n",
      "Hey User, please enter the width of the rectangle 3\n"
     ]
    },
    {
     "name": "stdout",
     "output_type": "stream",
     "text": [
      "area of the reactangle is 6.0\n"
     ]
    }
   ],
   "source": [
    "length=float(input(\"Hey User, please enter the lenth of the rectangle\"))   ## user input\n",
    "width=float(input(\"Hey User, please enter the width of the rectangle\"))    ## user input\n",
    "area_of_rectangle= round(length*width,3)   ## maths formula and rounding the answer upto 3 decimal points\n",
    "print(\"area of the reactangle is {}\".format(area_of_rectangle))"
   ]
  },
  {
   "cell_type": "markdown",
   "id": "6ca348fe-cc14-4a5d-85a6-9a5cea637fd9",
   "metadata": {},
   "source": [
    "Que 3:\n",
    "\n",
    "Write a Python program that converts temperature from Celsius to\n",
    "Fahrenheit. Take the temperature in Celsius as input, store it in a\n",
    "variable, convert it to Fahrenheit, and display the result."
   ]
  },
  {
   "cell_type": "markdown",
   "id": "29e19bba-035c-49ff-90eb-f782de77e760",
   "metadata": {},
   "source": [
    "Answer for Question no.3"
   ]
  },
  {
   "cell_type": "code",
   "execution_count": 27,
   "id": "743fb502-7cbc-4cc0-9f18-e73db8949165",
   "metadata": {},
   "outputs": [
    {
     "name": "stdin",
     "output_type": "stream",
     "text": [
      "Hey User, Please enter the temperature in Celcius 0\n"
     ]
    },
    {
     "name": "stdout",
     "output_type": "stream",
     "text": [
      "temperature in celcius is 0 and temperature in Fahrenheit is 32.0\n"
     ]
    }
   ],
   "source": [
    "temp=int(input(\"Hey User, Please enter the temperature in Celcius\"))\n",
    "temp_in_far=(temp*9/5)+32   ## maths formula to convert temp from celcius in Fahrenheit\n",
    "print(\"temperature in celcius is {} and temperature in Fahrenheit is {}\".format(temp,temp_in_far))"
   ]
  },
  {
   "cell_type": "markdown",
   "id": "4e4707ff-9ae2-4d93-b203-9ced58187ac1",
   "metadata": {},
   "source": [
    "## TOPIC: String Based Questions"
   ]
  },
  {
   "cell_type": "markdown",
   "id": "36eebe68-0679-464c-af4f-59a5c04cfade",
   "metadata": {},
   "source": [
    "Que 1: \n",
    "\n",
    "Write a Python program that takes a string as input and prints the\n",
    "length of the string."
   ]
  },
  {
   "cell_type": "markdown",
   "id": "e4a7ec4e-3fe9-4282-910b-d8be90744019",
   "metadata": {},
   "source": [
    "Answer For Question NO.1"
   ]
  },
  {
   "cell_type": "code",
   "execution_count": 28,
   "id": "e8677035-3804-4d0b-ace2-8790ffb88d67",
   "metadata": {},
   "outputs": [
    {
     "name": "stdin",
     "output_type": "stream",
     "text": [
      "Hola User, Please enter the string pwskills masters batch\n"
     ]
    },
    {
     "name": "stdout",
     "output_type": "stream",
     "text": [
      "length of the string is 22\n"
     ]
    }
   ],
   "source": [
    "str1=input(\"Hola User, Please enter the string\")\n",
    "print(f\"length of the string is {len(str1)}\")"
   ]
  },
  {
   "cell_type": "markdown",
   "id": "468288a9-433d-42d6-a6dd-508dc18e0cc6",
   "metadata": {},
   "source": [
    "Que 2:\n",
    "\n",
    "Create a program that takes a sentence from the user and counts the\n",
    "number of vowels (a, e, i, o, u) in the string."
   ]
  },
  {
   "cell_type": "code",
   "execution_count": 29,
   "id": "269c1c70-00e8-4619-b9ae-1714f88417cf",
   "metadata": {},
   "outputs": [
    {
     "name": "stdin",
     "output_type": "stream",
     "text": [
      "User Please enter the sentence pwskills masters batch\n"
     ]
    },
    {
     "name": "stdout",
     "output_type": "stream",
     "text": [
      "i 1\n",
      "a 2\n",
      "e 1\n"
     ]
    }
   ],
   "source": [
    "sentence=input(\"User Please enter the sentence\")\n",
    "dict1={}\n",
    "s1='aeiou'\n",
    "\n",
    "for i in sentence:\n",
    "    if(i in dict1):\n",
    "        dict1[i]+=1\n",
    "    else:\n",
    "        dict1[i]=1\n",
    "for i in dict1.keys():\n",
    "    if(i in s1):\n",
    "        print(i,dict1[i])\n",
    "    else:\n",
    "        pass\n",
    "    \n",
    "#print(dict1)"
   ]
  },
  {
   "cell_type": "markdown",
   "id": "c3e04584-08c1-42ed-8f15-599e3200d1be",
   "metadata": {},
   "source": [
    "Que 3:\n",
    "\n",
    "Given a string, reverse the order of characters using string slicing and\n",
    "print the reversed string."
   ]
  },
  {
   "cell_type": "code",
   "execution_count": 30,
   "id": "ef335386-544f-482a-9d74-9758e8c162fb",
   "metadata": {},
   "outputs": [
    {
     "name": "stdout",
     "output_type": "stream",
     "text": [
      "original string is:  pwskills data science masters pro batch \n",
      "reversed string is:  hctab orp sretsam ecneics atad sllikswp\n"
     ]
    }
   ],
   "source": [
    "str1=\"pwskills data science masters pro batch\"\n",
    "print(\"original string is:  {} \".format(str1))\n",
    "str2=str1[::-1]\n",
    "print(\"reversed string is:  {}\".format(str2))"
   ]
  },
  {
   "cell_type": "markdown",
   "id": "59ff1010-719b-4512-9b76-025121ef3c79",
   "metadata": {},
   "source": [
    "Que 4:\n",
    "\n",
    "Write a program that takes a string as input and checks if it is a\n",
    "palindrome (reads the same forwards and backwards)."
   ]
  },
  {
   "cell_type": "code",
   "execution_count": 31,
   "id": "8cce0b3a-885b-451f-9745-ef8248c42acd",
   "metadata": {},
   "outputs": [
    {
     "name": "stdin",
     "output_type": "stream",
     "text": [
      "Enter the string kanak\n"
     ]
    },
    {
     "name": "stdout",
     "output_type": "stream",
     "text": [
      "Above mentioned string:  kanak is palindrome\n"
     ]
    }
   ],
   "source": [
    "str1=input(\"Enter the string\")\n",
    "str2=str1[::-1]\n",
    "if(str1==str2):\n",
    "    print(\"Above mentioned string:  {} is palindrome\".format(str1))\n",
    "else:\n",
    "    print(\"Sorry it's not a palindrome!!\")"
   ]
  },
  {
   "cell_type": "markdown",
   "id": "e51ab12b-e3d2-4346-9ecc-ccc6d6ea68b0",
   "metadata": {},
   "source": [
    "Que No 5:\n",
    "    \n",
    "Create a program that takes a string as input and removes all the\n",
    "spaces from it. Print the modified string without spaces."
   ]
  },
  {
   "cell_type": "code",
   "execution_count": 33,
   "id": "3cc8097d-4460-4011-a455-9eaceb6f902c",
   "metadata": {},
   "outputs": [
    {
     "name": "stdin",
     "output_type": "stream",
     "text": [
      "Enter the string p w master s cou  r s    e\n"
     ]
    },
    {
     "name": "stdout",
     "output_type": "stream",
     "text": [
      "pwmasterscourse\n"
     ]
    }
   ],
   "source": [
    "str1=input(\"Enter the string\")\n",
    "ans=' '\n",
    "\n",
    "for i in str1:\n",
    "    if(i==' '):\n",
    "        ans=(str1.replace(' ',''))\n",
    "#print(\"Output after removing all the white spaces from it is {} \".format(str1.strip()))\n",
    "print(ans)"
   ]
  },
  {
   "cell_type": "code",
   "execution_count": 34,
   "id": "bea615fa-0846-462b-a1c3-ef840ab3b687",
   "metadata": {},
   "outputs": [
    {
     "name": "stdin",
     "output_type": "stream",
     "text": [
      "User Please enter the sentence pwskills\n"
     ]
    },
    {
     "name": "stdout",
     "output_type": "stream",
     "text": [
      "{'i': 1}\n"
     ]
    }
   ],
   "source": [
    "\n",
    " ## Another Approach to solve the question no 2.\n",
    "    \n",
    "sentence=input(\"User Please enter the sentence\")\n",
    "dict1={}\n",
    "s1='aeiou'\n",
    "\n",
    "for i in sentence:\n",
    "    if(i in s1):\n",
    "        if(i in dict1):\n",
    "            dict1[i]+=1\n",
    "        else:\n",
    "            dict1[i]=1\n",
    "    \n",
    "print(dict1)"
   ]
  },
  {
   "cell_type": "code",
   "execution_count": null,
   "id": "1586b9b0-96b3-46db-964c-5935dd22fc4c",
   "metadata": {},
   "outputs": [],
   "source": []
  }
 ],
 "metadata": {
  "kernelspec": {
   "display_name": "Python 3 (ipykernel)",
   "language": "python",
   "name": "python3"
  },
  "language_info": {
   "codemirror_mode": {
    "name": "ipython",
    "version": 3
   },
   "file_extension": ".py",
   "mimetype": "text/x-python",
   "name": "python",
   "nbconvert_exporter": "python",
   "pygments_lexer": "ipython3",
   "version": "3.10.8"
  }
 },
 "nbformat": 4,
 "nbformat_minor": 5
}
