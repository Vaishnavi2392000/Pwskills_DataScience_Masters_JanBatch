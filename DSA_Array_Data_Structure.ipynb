{
 "cells": [
  {
   "cell_type": "code",
   "execution_count": 26,
   "id": "b3741529-8565-48cc-84e0-127402166977",
   "metadata": {},
   "outputs": [
    {
     "name": "stdout",
     "output_type": "stream",
     "text": [
      "15\n"
     ]
    }
   ],
   "source": [
    "#find the sum of an array using O(1)and o(n)\n",
    "\n",
    "#time complexity: O(1)\n",
    "#space complexity :O(1)\n",
    "arr=[1,2,3,4,5]\n",
    "n=len(arr)\n",
    "sum1=n*(n+1)//2\n",
    "print(sum1)"
   ]
  },
  {
   "cell_type": "code",
   "execution_count": 27,
   "id": "71502816-26a2-4bfb-a422-b0110e2332a9",
   "metadata": {},
   "outputs": [
    {
     "name": "stdout",
     "output_type": "stream",
     "text": [
      "15\n"
     ]
    }
   ],
   "source": [
    "\n",
    "#time complexity: O(n)\n",
    "#space complexity :O(1)\n",
    "sum1=0\n",
    "for i in arr:\n",
    "    sum1+=i\n",
    "print(sum1)"
   ]
  },
  {
   "cell_type": "code",
   "execution_count": 28,
   "id": "6ee77439-f38a-4a9c-a6c4-acbbda1bd984",
   "metadata": {},
   "outputs": [
    {
     "name": "stdout",
     "output_type": "stream",
     "text": [
      "15.0\n"
     ]
    }
   ],
   "source": [
    "#time complexity: O(n)\n",
    "#space complexity :O(1)\n",
    "\n",
    "def sum1(arr):\n",
    "    n=len(arr)\n",
    "    ans=n*(n+1)/2\n",
    "    return ans\n",
    "    \n",
    "\n",
    "arr=[1,2,3,4,5]\n",
    "final=sum1(arr)\n",
    "print(final)"
   ]
  },
  {
   "cell_type": "code",
   "execution_count": 29,
   "id": "69a552dd-9044-47b9-871a-228f8924f5cf",
   "metadata": {},
   "outputs": [],
   "source": [
    "arr=[1,2,3,4,5]\n",
    "arr.insert(2,46)"
   ]
  },
  {
   "cell_type": "code",
   "execution_count": 30,
   "id": "70d9694e-cc3d-4d31-baf6-5d3b4875632b",
   "metadata": {},
   "outputs": [
    {
     "data": {
      "text/plain": [
       "[1, 2, 46, 3, 4, 5]"
      ]
     },
     "execution_count": 30,
     "metadata": {},
     "output_type": "execute_result"
    }
   ],
   "source": [
    "arr"
   ]
  },
  {
   "cell_type": "code",
   "execution_count": 31,
   "id": "b6679a10-6e3f-4098-8c1e-574f3a5ecf51",
   "metadata": {},
   "outputs": [],
   "source": [
    "arr.remove(3)"
   ]
  },
  {
   "cell_type": "code",
   "execution_count": 32,
   "id": "d76ccb38-ecf2-4060-8a44-affd454b782e",
   "metadata": {},
   "outputs": [
    {
     "data": {
      "text/plain": [
       "[1, 2, 46, 4, 5]"
      ]
     },
     "execution_count": 32,
     "metadata": {},
     "output_type": "execute_result"
    }
   ],
   "source": [
    "arr"
   ]
  },
  {
   "cell_type": "code",
   "execution_count": 40,
   "id": "f33054d3-7610-4ee9-8dd6-cc7d600064bd",
   "metadata": {},
   "outputs": [
    {
     "data": {
      "text/plain": [
       "'array element not found'"
      ]
     },
     "execution_count": 40,
     "metadata": {},
     "output_type": "execute_result"
    }
   ],
   "source": [
    "##find the target value is available in the array or not \n",
    "# time comp;lexity :O(n)\n",
    "#space complexity :O(1)\n",
    "\n",
    "def search(arr,target):\n",
    "    \n",
    "    for i in range(len(arr)):\n",
    "        if(arr[i]==target):\n",
    "            return f'{arr[i]} is  present at {i} place'\n",
    "        else:\n",
    "            pass\n",
    "        \n",
    "    return f'array element not found'\n",
    "\n",
    "\n",
    "arr=[12,34,56,78,90,32]\n",
    "target=780\n",
    "search(arr,target)\n"
   ]
  },
  {
   "cell_type": "code",
   "execution_count": 44,
   "id": "434fd2e8-2d97-4e91-a96d-cee4bb5507ff",
   "metadata": {},
   "outputs": [
    {
     "data": {
      "text/plain": [
       "([2, 4, 6], [1, 3, 5])"
      ]
     },
     "execution_count": 44,
     "metadata": {},
     "output_type": "execute_result"
    }
   ],
   "source": [
    "## from araay give 2 difernt lists of even and odd numbers \n",
    "##time complexity :O(n)\n",
    "## space complexity :O(n)\n",
    "\n",
    "even=[]\n",
    "odd=[]\n",
    "def evenandodd(arr):\n",
    "    for i in arr:\n",
    "        if(i%2==0):\n",
    "            even.append(i)\n",
    "        else:\n",
    "            odd.append(i)\n",
    "    return(even,odd)\n",
    "\n",
    "\n",
    "\n",
    "## driver code\n",
    "arr=[1,2,3,4,5,6]\n",
    "ans=evenandodd(arr)\n",
    "ans\n",
    "\n"
   ]
  },
  {
   "cell_type": "code",
   "execution_count": 49,
   "id": "dd85c0e8-fd33-4550-bc60-468e33494052",
   "metadata": {},
   "outputs": [
    {
     "data": {
      "text/plain": [
       "[2, 4, 6]"
      ]
     },
     "execution_count": 49,
     "metadata": {},
     "output_type": "execute_result"
    }
   ],
   "source": [
    "[i  for i in arr if i%2==0]    ## in list comprehenshion also, we are using an extra space that's why it will be always O(n)"
   ]
  },
  {
   "cell_type": "code",
   "execution_count": 50,
   "id": "5a9f139e-ec5e-45fe-9ed0-e7ce2fbcec24",
   "metadata": {},
   "outputs": [
    {
     "data": {
      "text/plain": [
       "[1, 3, 5]"
      ]
     },
     "execution_count": 50,
     "metadata": {},
     "output_type": "execute_result"
    }
   ],
   "source": [
    "[i for i in arr if i%2!=0]"
   ]
  },
  {
   "cell_type": "code",
   "execution_count": 5,
   "id": "d91ac95b-1bf7-4e8a-bd40-ceb73c01444c",
   "metadata": {},
   "outputs": [
    {
     "name": "stdout",
     "output_type": "stream",
     "text": [
      "primary diagonal sum is 15\n",
      "secondary diagonal sum is 15\n"
     ]
    }
   ],
   "source": [
    "## sum of primary diagonal elements in 2d array\n",
    "#time complexity :O(n2)\n",
    "#space complecity :O(1)\n",
    "\n",
    "def SumOfPrimaryDiagonal(arr):\n",
    "    primarysum=0\n",
    "    secondarysum=0\n",
    "    ## primary diagonal sum\n",
    "    \n",
    "    for i in range(len(arr)):\n",
    "        for j in range(len(arr)):\n",
    "            if(i==j):\n",
    "                res=arr[i][j]\n",
    "                primarysum=primarysum+res\n",
    "                \n",
    "        ## secondary diagonal sum\n",
    "            if((i+j)==(len(arr)-1)):\n",
    "                res1=arr[i][j]\n",
    "                secondarysum+=res1\n",
    "    print('primary diagonal sum is',primarysum)\n",
    "    print('secondary diagonal sum is',secondarysum)\n",
    "\n",
    "\n",
    "\n",
    "\n",
    "##driver code\n",
    "arr=[[1,2,3],[4,5,6],[7,8,9]]\n",
    "res3=SumOfPrimaryDiagonal(arr)\n",
    "\n"
   ]
  },
  {
   "cell_type": "code",
   "execution_count": 60,
   "id": "3d1a3b9c-ad87-4896-9f54-13f354e07948",
   "metadata": {},
   "outputs": [
    {
     "data": {
      "text/plain": [
       "3"
      ]
     },
     "execution_count": 60,
     "metadata": {},
     "output_type": "execute_result"
    }
   ],
   "source": [
    "arr=[[1,2,3],[4,5,6],[7,8,9]]\n",
    "len(arr)"
   ]
  },
  {
   "cell_type": "code",
   "execution_count": 61,
   "id": "f073411b-c8ce-449c-b742-6771225ea56d",
   "metadata": {},
   "outputs": [
    {
     "name": "stdout",
     "output_type": "stream",
     "text": [
      "15\n"
     ]
    }
   ],
   "source": [
    "## sum of secondary diagonal elements in 2d array\n",
    "\n",
    "sum1=0\n",
    "for i in range(len(arr)):\n",
    "    for j in range(len(arr)):\n",
    "        if(i+j==len(arr)-1):\n",
    "            sum1+=arr[i][j]\n",
    "print(sum1)"
   ]
  },
  {
   "cell_type": "code",
   "execution_count": null,
   "id": "7527d711-af9b-418d-94b9-792a40b93ccd",
   "metadata": {},
   "outputs": [],
   "source": []
  }
 ],
 "metadata": {
  "kernelspec": {
   "display_name": "Python 3 (ipykernel)",
   "language": "python",
   "name": "python3"
  },
  "language_info": {
   "codemirror_mode": {
    "name": "ipython",
    "version": 3
   },
   "file_extension": ".py",
   "mimetype": "text/x-python",
   "name": "python",
   "nbconvert_exporter": "python",
   "pygments_lexer": "ipython3",
   "version": "3.10.8"
  }
 },
 "nbformat": 4,
 "nbformat_minor": 5
}
