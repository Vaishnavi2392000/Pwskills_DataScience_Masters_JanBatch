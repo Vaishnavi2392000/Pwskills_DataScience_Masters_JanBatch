{
 "cells": [
  {
   "cell_type": "markdown",
   "id": "53d8bd8f",
   "metadata": {},
   "source": [
    "# Logging"
   ]
  },
  {
   "cell_type": "code",
   "execution_count": 1,
   "id": "3729754a",
   "metadata": {},
   "outputs": [],
   "source": [
    "## we're storing the messages in some file system\n",
    "## in production you're not advsable to use the print statement for a single time in the code \n",
    "## so that we can go though messages whenever there is any issue.\n"
   ]
  },
  {
   "cell_type": "code",
   "execution_count": 2,
   "id": "6eac135b",
   "metadata": {},
   "outputs": [],
   "source": [
    "import logging"
   ]
  },
  {
   "cell_type": "code",
   "execution_count": 3,
   "id": "30cfa69e",
   "metadata": {},
   "outputs": [],
   "source": [
    "logging.basicConfig(filename=\"first_log.log\",level=logging.DEBUG)"
   ]
  },
  {
   "cell_type": "code",
   "execution_count": 4,
   "id": "cabe26c7",
   "metadata": {},
   "outputs": [],
   "source": [
    "logging.debug(\"this is the first severity level\")\n",
    "logging.info(\"this is second severity level\")\n",
    "logging.warning(\"this is third severity level\")\n",
    "logging.error(\"this is fourth severity level\")\n",
    "logging.critical(\"this is fifth severity level\")"
   ]
  },
  {
   "cell_type": "code",
   "execution_count": 9,
   "id": "650be499",
   "metadata": {},
   "outputs": [],
   "source": [
    "logging.basicConfig(filename=\"report.log\",level=logging.DEBUG)\n"
   ]
  },
  {
   "cell_type": "code",
   "execution_count": 10,
   "id": "8d6eec21",
   "metadata": {},
   "outputs": [
    {
     "name": "stdout",
     "output_type": "stream",
     "text": [
      "enter the numbersudh\n"
     ]
    }
   ],
   "source": [
    "try:\n",
    "    logging.info(\"program has been started\")\n",
    "    a=int(input(\"enter the number\"))\n",
    "    logging.info(\"you entered=%d\",a)\n",
    "    if(a%2==0):\n",
    "        logging.info(\"you entered an even number=%d\",a)\n",
    "    else:\n",
    "        logging.info(\"you entered an odd number=%d\",a)\n",
    "except (ValueError,TypeError) as e:\n",
    "    logging.error(e)\n",
    "\n",
    "else:\n",
    "    logging.info(\"i executed after successfull execution of try block\")\n",
    "finally:\n",
    "    logging.info(\"i am executed always\")"
   ]
  },
  {
   "cell_type": "code",
   "execution_count": 3,
   "id": "7a136068",
   "metadata": {},
   "outputs": [],
   "source": [
    "import logging\n",
    "logging.basicConfig(filename=\"test_report.log\",level=logging.DEBUG,format=\"%(levelname)s-%(asctime)s-%(message)s\")\n"
   ]
  },
  {
   "cell_type": "code",
   "execution_count": 4,
   "id": "e3646d0c",
   "metadata": {},
   "outputs": [
    {
     "name": "stdout",
     "output_type": "stream",
     "text": [
      "ennter age90\n"
     ]
    }
   ],
   "source": [
    "try:\n",
    "    age=int(input(\"ennter age\"))\n",
    "    logging.info(\"program as been started\")\n",
    "    logging.info(\"user has entered =%d\",age)\n",
    "    if(age<0):\n",
    "        logging.info(\"user entered a age lesser than 0\")\n",
    "        raise Exception(\"value lesser than 0\")\n",
    "    elif(age<18):\n",
    "        logging.info(\"user is under age\")\n",
    "        raise Exception(\"user is underage\")\n",
    "    else:\n",
    "        logging.info(\"valid user!!\")\n",
    "except Exception as e:\n",
    "    logging.error(e)\n",
    "\n",
    "else:\n",
    "    logging.info(\"it's just execute after successfully excecution of try block\")\n",
    "finally:\n",
    "    logging.info(\"finally executed always\")"
   ]
  },
  {
   "cell_type": "code",
   "execution_count": 1,
   "id": "ffbf1c62",
   "metadata": {},
   "outputs": [],
   "source": [
    "import logging \n",
    "logging.basicConfig(filename=\"even_parsor_report.log\",level=logging.DEBUG,format=\"%(levelname)s-%(asctime)s-%(message)s\")\n"
   ]
  },
  {
   "cell_type": "code",
   "execution_count": 2,
   "id": "a73afe33",
   "metadata": {},
   "outputs": [],
   "source": [
    "\n",
    "l=[12,34,56,7,23]\n",
    "l1=[]\n",
    "def even_parsor(l):\n",
    "    logging.info(\"program has been started\")\n",
    "    try:\n",
    "        for i in l:\n",
    "            logging.info(\"inside for loop and i=%d\",i)\n",
    "            if(i%2==0):\n",
    "                logging.info(\"checking the value of i\")\n",
    "                l1.append(i)\n",
    "                logging.info(\"appending the value i in list\")\n",
    "        logging.info(l1)\n",
    "        return l1\n",
    "        \n",
    "    \n",
    "    except Exception as e:\n",
    "        logging.error(e)\n",
    "    \n",
    "    finally:\n",
    "        logging.info(\"final block is executed\")\n",
    "        "
   ]
  },
  {
   "cell_type": "code",
   "execution_count": 3,
   "id": "11cc3978",
   "metadata": {},
   "outputs": [
    {
     "data": {
      "text/plain": [
       "[12, 34, 56]"
      ]
     },
     "execution_count": 3,
     "metadata": {},
     "output_type": "execute_result"
    }
   ],
   "source": [
    "even_parsor(l)"
   ]
  },
  {
   "cell_type": "code",
   "execution_count": 4,
   "id": "6c38fa12",
   "metadata": {},
   "outputs": [],
   "source": [
    "import logging \n",
    "logging.basicConfig(filename=\"long_word.log\",level=logging.DEBUG)"
   ]
  },
  {
   "cell_type": "code",
   "execution_count": 5,
   "id": "a7b06cda",
   "metadata": {},
   "outputs": [],
   "source": [
    "s=\"pwskills datascience master course\"\n",
    "l=[]\n",
    "logging.info(\"you initiated the program!!\")\n",
    "def check_largest_word(s):\n",
    "    try:\n",
    "        logging.info(\"you are inside try block\")\n",
    "        l=s.split(\" \")\n",
    "        logging.info(\"you're spliting the string into a list of words\")\n",
    "        max1=\" \"\n",
    "        logging.info(\"setting the empty string to compare\")\n",
    "        for i in l:\n",
    "            logging.info(\"check the each word with max1=%s\",i)\n",
    "            if(len(i)>len(max1)):\n",
    "                max1=(i)\n",
    "        logging.info(\"maximum length word is=%s\",max1)\n",
    "        return max1\n",
    "   \n",
    "    except Exception as e:\n",
    "        logging.error(e)\n",
    "        "
   ]
  },
  {
   "cell_type": "code",
   "execution_count": 6,
   "id": "764a9353",
   "metadata": {},
   "outputs": [
    {
     "data": {
      "text/plain": [
       "'datascience'"
      ]
     },
     "execution_count": 6,
     "metadata": {},
     "output_type": "execute_result"
    }
   ],
   "source": [
    "check_largest_word(s)"
   ]
  },
  {
   "cell_type": "code",
   "execution_count": null,
   "id": "e1b5c2ee",
   "metadata": {},
   "outputs": [],
   "source": []
  },
  {
   "cell_type": "code",
   "execution_count": 2,
   "id": "1e75c675",
   "metadata": {},
   "outputs": [],
   "source": []
  },
  {
   "cell_type": "code",
   "execution_count": null,
   "id": "c9e4be1d",
   "metadata": {},
   "outputs": [],
   "source": []
  }
 ],
 "metadata": {
  "kernelspec": {
   "display_name": "Python 3 (ipykernel)",
   "language": "python",
   "name": "python3"
  },
  "language_info": {
   "codemirror_mode": {
    "name": "ipython",
    "version": 3
   },
   "file_extension": ".py",
   "mimetype": "text/x-python",
   "name": "python",
   "nbconvert_exporter": "python",
   "pygments_lexer": "ipython3",
   "version": "3.10.9"
  }
 },
 "nbformat": 4,
 "nbformat_minor": 5
}
