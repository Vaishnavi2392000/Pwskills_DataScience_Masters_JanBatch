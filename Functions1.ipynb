{
 "cells": [
  {
   "cell_type": "code",
   "execution_count": 7,
   "id": "2a576c5b-e398-4446-a696-8c63bed30835",
   "metadata": {},
   "outputs": [
    {
     "name": "stdout",
     "output_type": "stream",
     "text": [
      "this is print functions\n"
     ]
    }
   ],
   "source": [
    "print(\"this is print functions\")"
   ]
  },
  {
   "cell_type": "code",
   "execution_count": 8,
   "id": "701109c9-5403-4bfe-82cc-e2569cd103d5",
   "metadata": {},
   "outputs": [
    {
     "name": "stdout",
     "output_type": "stream",
     "text": [
      "hello\n"
     ]
    },
    {
     "data": {
      "text/plain": [
       "NoneType"
      ]
     },
     "execution_count": 8,
     "metadata": {},
     "output_type": "execute_result"
    }
   ],
   "source": [
    "type(print(\"hello\"))"
   ]
  },
  {
   "cell_type": "code",
   "execution_count": 9,
   "id": "dff0ec52-3b58-4d64-948a-f11c750e2ddb",
   "metadata": {},
   "outputs": [],
   "source": [
    "def func():\n",
    "    print(\"this is my first functions\")"
   ]
  },
  {
   "cell_type": "code",
   "execution_count": 10,
   "id": "ab69f29d-e59e-4744-bdd0-df5449089d47",
   "metadata": {},
   "outputs": [
    {
     "name": "stdout",
     "output_type": "stream",
     "text": [
      "this is my first functions\n"
     ]
    }
   ],
   "source": [
    "f=func()"
   ]
  },
  {
   "cell_type": "code",
   "execution_count": 11,
   "id": "0fd75f67-f293-46ab-b839-f3af9de11670",
   "metadata": {},
   "outputs": [
    {
     "name": "stdout",
     "output_type": "stream",
     "text": [
      "this is my first functions\n"
     ]
    }
   ],
   "source": [
    "func()"
   ]
  },
  {
   "cell_type": "code",
   "execution_count": 12,
   "id": "68603514-070c-4f25-a5ed-a5b71569a3bd",
   "metadata": {},
   "outputs": [
    {
     "name": "stdout",
     "output_type": "stream",
     "text": [
      "this is my first functions\n"
     ]
    },
    {
     "ename": "TypeError",
     "evalue": "unsupported operand type(s) for +: 'NoneType' and 'str'",
     "output_type": "error",
     "traceback": [
      "\u001b[0;31m---------------------------------------------------------------------------\u001b[0m",
      "\u001b[0;31mTypeError\u001b[0m                                 Traceback (most recent call last)",
      "Cell \u001b[0;32mIn[12], line 1\u001b[0m\n\u001b[0;32m----> 1\u001b[0m \u001b[43mfunc\u001b[49m\u001b[43m(\u001b[49m\u001b[43m)\u001b[49m\u001b[38;5;241;43m+\u001b[39;49m\u001b[38;5;124;43m\"\u001b[39;49m\u001b[38;5;124;43mhello\u001b[39;49m\u001b[38;5;124;43m\"\u001b[39;49m\n",
      "\u001b[0;31mTypeError\u001b[0m: unsupported operand type(s) for +: 'NoneType' and 'str'"
     ]
    }
   ],
   "source": [
    "func()+\"hello\""
   ]
  },
  {
   "cell_type": "code",
   "execution_count": 13,
   "id": "4652120b-4eef-4b12-88e2-cb73d8dab98b",
   "metadata": {},
   "outputs": [],
   "source": [
    "def func1():\n",
    "    return \"\"\"this is second function\"\"\""
   ]
  },
  {
   "cell_type": "code",
   "execution_count": 14,
   "id": "d28ab1bf-45b1-47de-96d4-e425acd326c6",
   "metadata": {},
   "outputs": [
    {
     "data": {
      "text/plain": [
       "'this is second function'"
      ]
     },
     "execution_count": 14,
     "metadata": {},
     "output_type": "execute_result"
    }
   ],
   "source": [
    "func1()"
   ]
  },
  {
   "cell_type": "code",
   "execution_count": 15,
   "id": "178201dd-3086-4189-8ecf-c431ed979b89",
   "metadata": {},
   "outputs": [
    {
     "data": {
      "text/plain": [
       "'this is second function hello'"
      ]
     },
     "execution_count": 15,
     "metadata": {},
     "output_type": "execute_result"
    }
   ],
   "source": [
    "func1()+ \" hello\""
   ]
  },
  {
   "cell_type": "code",
   "execution_count": 16,
   "id": "da04c279-9bf4-41e0-9b08-e891c5a4ef3c",
   "metadata": {},
   "outputs": [],
   "source": [
    "def test3():\n",
    "    return 1,4,\"pwskills\",12+4j"
   ]
  },
  {
   "cell_type": "code",
   "execution_count": 17,
   "id": "53f101bc-b56e-4a2e-bcaf-23ac14ee09f5",
   "metadata": {},
   "outputs": [
    {
     "data": {
      "text/plain": [
       "(1, 4, 'pwskills', (12+4j))"
      ]
     },
     "execution_count": 17,
     "metadata": {},
     "output_type": "execute_result"
    }
   ],
   "source": [
    "test3()"
   ]
  },
  {
   "cell_type": "markdown",
   "id": "a54f693f-6713-4a65-9cac-4b3b7d2dd392",
   "metadata": {},
   "source": [
    "### Functions\n",
    "\n",
    "#### by default the data type of function is nonetype.\n",
    "#### and return can return multiple values in the form of tuple"
   ]
  },
  {
   "cell_type": "code",
   "execution_count": 18,
   "id": "31bbbc94-8f20-4c9e-9154-ca8dbfafed87",
   "metadata": {},
   "outputs": [],
   "source": [
    "a=1,2,3,4,5"
   ]
  },
  {
   "cell_type": "code",
   "execution_count": 19,
   "id": "02a04ca7-e485-4919-96a9-11a6ab07bf9e",
   "metadata": {},
   "outputs": [
    {
     "data": {
      "text/plain": [
       "(1, 2, 3, 4, 5)"
      ]
     },
     "execution_count": 19,
     "metadata": {},
     "output_type": "execute_result"
    }
   ],
   "source": [
    "a"
   ]
  },
  {
   "cell_type": "code",
   "execution_count": 20,
   "id": "edd6e913-b260-4b7c-8b1a-458f50d7babc",
   "metadata": {},
   "outputs": [],
   "source": [
    "a,b,c,d=12.34,45.67,45.67,6+6j"
   ]
  },
  {
   "cell_type": "code",
   "execution_count": 21,
   "id": "f31700d9-7d39-4fe3-ad94-45041604f086",
   "metadata": {},
   "outputs": [
    {
     "data": {
      "text/plain": [
       "12.34"
      ]
     },
     "execution_count": 21,
     "metadata": {},
     "output_type": "execute_result"
    }
   ],
   "source": [
    "a"
   ]
  },
  {
   "cell_type": "code",
   "execution_count": 22,
   "id": "5f501216-9762-4e1f-be4d-79c3ba73f0b6",
   "metadata": {},
   "outputs": [
    {
     "data": {
      "text/plain": [
       "45.67"
      ]
     },
     "execution_count": 22,
     "metadata": {},
     "output_type": "execute_result"
    }
   ],
   "source": [
    "b"
   ]
  },
  {
   "cell_type": "code",
   "execution_count": 23,
   "id": "ff408be5-4916-46bb-842b-cbf4c1f9a6af",
   "metadata": {},
   "outputs": [
    {
     "data": {
      "text/plain": [
       "45.67"
      ]
     },
     "execution_count": 23,
     "metadata": {},
     "output_type": "execute_result"
    }
   ],
   "source": [
    "c"
   ]
  },
  {
   "cell_type": "code",
   "execution_count": 24,
   "id": "c275642e-8dea-486c-bdf7-4b8b99040f37",
   "metadata": {},
   "outputs": [
    {
     "data": {
      "text/plain": [
       "(6+6j)"
      ]
     },
     "execution_count": 24,
     "metadata": {},
     "output_type": "execute_result"
    }
   ],
   "source": [
    "d"
   ]
  },
  {
   "cell_type": "code",
   "execution_count": 25,
   "id": "97296511-0d1c-4d94-8c9c-f06a4f00aa59",
   "metadata": {},
   "outputs": [
    {
     "data": {
      "text/plain": [
       "1"
      ]
     },
     "execution_count": 25,
     "metadata": {},
     "output_type": "execute_result"
    }
   ],
   "source": [
    "test3()[0]"
   ]
  },
  {
   "cell_type": "code",
   "execution_count": 26,
   "id": "6bb03d00-fea0-4f51-a93d-0e31c06642d5",
   "metadata": {},
   "outputs": [],
   "source": [
    "def test4():\n",
    "    a=3*4+5\n",
    "    return a"
   ]
  },
  {
   "cell_type": "code",
   "execution_count": 27,
   "id": "e4130fb7-af1d-469d-a646-435c9cedbaca",
   "metadata": {},
   "outputs": [
    {
     "data": {
      "text/plain": [
       "21"
      ]
     },
     "execution_count": 27,
     "metadata": {},
     "output_type": "execute_result"
    }
   ],
   "source": [
    "test4()+4"
   ]
  },
  {
   "cell_type": "code",
   "execution_count": 28,
   "id": "9b593ed7-7bb9-4018-ab8c-1355ce389f82",
   "metadata": {},
   "outputs": [
    {
     "data": {
      "text/plain": [
       "int"
      ]
     },
     "execution_count": 28,
     "metadata": {},
     "output_type": "execute_result"
    }
   ],
   "source": [
    "type(test4())"
   ]
  },
  {
   "cell_type": "code",
   "execution_count": 29,
   "id": "7ed0511d-4ddf-42b3-8f36-62f3e7909774",
   "metadata": {},
   "outputs": [],
   "source": [
    "def test5(a,b):\n",
    "    return (a+ b)"
   ]
  },
  {
   "cell_type": "code",
   "execution_count": 30,
   "id": "0a0c9b30-79a5-43e9-89a0-133d126ceefe",
   "metadata": {},
   "outputs": [
    {
     "data": {
      "text/plain": [
       "4"
      ]
     },
     "execution_count": 30,
     "metadata": {},
     "output_type": "execute_result"
    }
   ],
   "source": [
    "test5(1,3)"
   ]
  },
  {
   "cell_type": "code",
   "execution_count": 31,
   "id": "f79abaac-e010-4b74-9c01-47f8cbf314d4",
   "metadata": {},
   "outputs": [
    {
     "data": {
      "text/plain": [
       "'sudh kumar'"
      ]
     },
     "execution_count": 31,
     "metadata": {},
     "output_type": "execute_result"
    }
   ],
   "source": [
    "test5(\"sudh\",\" kumar\")"
   ]
  },
  {
   "cell_type": "code",
   "execution_count": 32,
   "id": "64d8fb0b-6739-446c-b96a-f551d6fc48fd",
   "metadata": {},
   "outputs": [
    {
     "data": {
      "text/plain": [
       "'sudh kumar'"
      ]
     },
     "execution_count": 32,
     "metadata": {},
     "output_type": "execute_result"
    }
   ],
   "source": [
    "test5(b=\"kumar\",a=\"sudh \")"
   ]
  },
  {
   "cell_type": "code",
   "execution_count": 33,
   "id": "d825e27c-a396-4884-b1bd-cda6aaa2fa48",
   "metadata": {},
   "outputs": [
    {
     "data": {
      "text/plain": [
       "[1, 2, 3, 4, 'sudh', 'pwskills']"
      ]
     },
     "execution_count": 33,
     "metadata": {},
     "output_type": "execute_result"
    }
   ],
   "source": [
    "l=[1,2,3,4,'sudh','pwskills']\n",
    "l"
   ]
  },
  {
   "cell_type": "code",
   "execution_count": 34,
   "id": "475f3ccc-91af-44bd-a0a0-4a7fbdb0a5ce",
   "metadata": {},
   "outputs": [],
   "source": [
    "def fun(l):\n",
    "    for i in l:\n",
    "        if(type(i)!=int or type(i)==list):\n",
    "            l=l.remove(i)\n",
    "    return l\n",
    "\n",
    "            "
   ]
  },
  {
   "cell_type": "code",
   "execution_count": 35,
   "id": "14939552-02e2-4e32-a807-a46b2c38c29a",
   "metadata": {},
   "outputs": [],
   "source": [
    "fun(l)"
   ]
  },
  {
   "cell_type": "code",
   "execution_count": 36,
   "id": "da55284f-fc7d-4f0d-a728-7e144dcd0b6e",
   "metadata": {},
   "outputs": [],
   "source": [
    "l2=[1,2,3,4,[12,3,4,5],'sudh','kumar sudhanshu',23.56,56.6]"
   ]
  },
  {
   "cell_type": "code",
   "execution_count": 37,
   "id": "2fc83ff3-7000-4537-9a30-a61b7536c3ea",
   "metadata": {},
   "outputs": [],
   "source": [
    "def fun2(l):\n",
    "    l3=[]\n",
    "    for i in l:\n",
    "        if(type(i)==int or type(i)==float):\n",
    "            l3.append(i)\n",
    "        elif(type(i)==list):\n",
    "            for j in i:\n",
    "                l3.append(j)\n",
    "        else:\n",
    "            pass\n",
    "    return l3"
   ]
  },
  {
   "cell_type": "code",
   "execution_count": 38,
   "id": "6748169f-0f37-4279-af25-83a259786db7",
   "metadata": {},
   "outputs": [
    {
     "data": {
      "text/plain": [
       "[1, 2, 3, 4, 12, 3, 4, 5, 23.56, 56.6]"
      ]
     },
     "execution_count": 38,
     "metadata": {},
     "output_type": "execute_result"
    }
   ],
   "source": [
    "fun2(l2)"
   ]
  },
  {
   "cell_type": "code",
   "execution_count": 39,
   "id": "627b8033-4afe-40d4-8f4c-16f2c6c9d883",
   "metadata": {},
   "outputs": [
    {
     "data": {
      "text/plain": [
       "[12, 3, 4, 5]"
      ]
     },
     "execution_count": 39,
     "metadata": {},
     "output_type": "execute_result"
    }
   ],
   "source": [
    "l2[4]"
   ]
  },
  {
   "cell_type": "code",
   "execution_count": 40,
   "id": "796cb6e3-5445-4e35-bb6f-05257970f384",
   "metadata": {},
   "outputs": [],
   "source": [
    "l3=[]\n",
    "l3.extend(l2)"
   ]
  },
  {
   "cell_type": "code",
   "execution_count": 41,
   "id": "3134f1aa-1aa4-4c91-bb4f-ccfc14ce99be",
   "metadata": {},
   "outputs": [
    {
     "data": {
      "text/plain": [
       "[1, 2, 3, 4, [12, 3, 4, 5], 'sudh', 'kumar sudhanshu', 23.56, 56.6]"
      ]
     },
     "execution_count": 41,
     "metadata": {},
     "output_type": "execute_result"
    }
   ],
   "source": [
    "l3\n"
   ]
  },
  {
   "cell_type": "code",
   "execution_count": 42,
   "id": "7207e8b6-4fe3-4d1d-a717-c5497c17e867",
   "metadata": {},
   "outputs": [],
   "source": [
    "def tests(a,b,c,d,e):\n",
    "    pass"
   ]
  },
  {
   "cell_type": "markdown",
   "id": "b19efd20-0a68-4df2-b013-26028f6db978",
   "metadata": {},
   "source": [
    "### *args and **kwargs"
   ]
  },
  {
   "cell_type": "code",
   "execution_count": 52,
   "id": "3eba9cd6-5f5f-42c2-8450-9345027eb529",
   "metadata": {},
   "outputs": [],
   "source": [
    "def fun4(a,b):\n",
    "    return a+b"
   ]
  },
  {
   "cell_type": "code",
   "execution_count": 53,
   "id": "b2c5028e-7c38-4df0-b469-cdf1fbad125c",
   "metadata": {},
   "outputs": [
    {
     "data": {
      "text/plain": [
       "5"
      ]
     },
     "execution_count": 53,
     "metadata": {},
     "output_type": "execute_result"
    }
   ],
   "source": [
    "fun4(1,4)"
   ]
  },
  {
   "cell_type": "code",
   "execution_count": 54,
   "id": "dcb88fac-1024-4b81-8e0c-5c1c5b89f099",
   "metadata": {},
   "outputs": [],
   "source": [
    "def fun5(*args):\n",
    "    return args"
   ]
  },
  {
   "cell_type": "code",
   "execution_count": 55,
   "id": "b94d8776-9fcf-429c-a348-27b145fcbf9b",
   "metadata": {},
   "outputs": [
    {
     "data": {
      "text/plain": [
       "(1, 3, 4, 'pwskills')"
      ]
     },
     "execution_count": 55,
     "metadata": {},
     "output_type": "execute_result"
    }
   ],
   "source": [
    "fun5(1,3,4,'pwskills')"
   ]
  },
  {
   "cell_type": "code",
   "execution_count": 57,
   "id": "504007fe-a520-41c9-8b00-41ffb9afc03d",
   "metadata": {},
   "outputs": [
    {
     "data": {
      "text/plain": [
       "tuple"
      ]
     },
     "execution_count": 57,
     "metadata": {},
     "output_type": "execute_result"
    }
   ],
   "source": [
    "type(fun5({1:1}))"
   ]
  },
  {
   "cell_type": "code",
   "execution_count": 59,
   "id": "3b5c3207-d473-48dd-9e2d-6d9213be7761",
   "metadata": {},
   "outputs": [],
   "source": [
    "def fun6(*args,a):\n",
    "    return args,a"
   ]
  },
  {
   "cell_type": "code",
   "execution_count": 60,
   "id": "afb082dd-5cd6-46eb-8e66-e76b3c24f0d6",
   "metadata": {},
   "outputs": [
    {
     "data": {
      "text/plain": [
       "((12, 3, 4, 5), 12.45)"
      ]
     },
     "execution_count": 60,
     "metadata": {},
     "output_type": "execute_result"
    }
   ],
   "source": [
    "fun6(12,3,4,5,a=12.45)"
   ]
  },
  {
   "cell_type": "code",
   "execution_count": 63,
   "id": "ce7042a6-14b2-42d9-a207-b6f21b7fdfb3",
   "metadata": {},
   "outputs": [],
   "source": [
    "def test7(*args):\n",
    "    l=[]\n",
    "    for i in args:\n",
    "        if(type(i)==list):\n",
    "            l.append(i)\n",
    "    return l\n",
    "            \n",
    "    "
   ]
  },
  {
   "cell_type": "code",
   "execution_count": 67,
   "id": "c66bf1d4-7a32-4ec7-adb5-b317ff7907b1",
   "metadata": {},
   "outputs": [
    {
     "data": {
      "text/plain": [
       "[['sudh', 545, 67, 78], [12, 4, [23, 45, 6]]]"
      ]
     },
     "execution_count": 67,
     "metadata": {},
     "output_type": "execute_result"
    }
   ],
   "source": [
    "test7(1,3,4,5,['sudh',545,67,78],[12,4,[23,45,6]])"
   ]
  },
  {
   "cell_type": "code",
   "execution_count": 76,
   "id": "3ea4fd7d-c3d0-4e46-8fc3-dbdcc97df881",
   "metadata": {},
   "outputs": [],
   "source": [
    "def newfun(**kwargs):\n",
    "    return kwargs"
   ]
  },
  {
   "cell_type": "code",
   "execution_count": 77,
   "id": "09a5be49-95fa-4bbd-abc5-a852b82d235e",
   "metadata": {},
   "outputs": [
    {
     "data": {
      "text/plain": [
       "dict"
      ]
     },
     "execution_count": 77,
     "metadata": {},
     "output_type": "execute_result"
    }
   ],
   "source": [
    "type(newfun())"
   ]
  },
  {
   "cell_type": "code",
   "execution_count": 84,
   "id": "e26e66d4-764e-4c64-9ead-77a39f40b16e",
   "metadata": {},
   "outputs": [
    {
     "data": {
      "text/plain": [
       "{'a': 34, 'b': 56, 'shreya': 45, 'list1': [12, 4, 56, 67]}"
      ]
     },
     "execution_count": 84,
     "metadata": {},
     "output_type": "execute_result"
    }
   ],
   "source": [
    "newfun(a=34,b=56, shreya=45,list1=[12,4,56,67])"
   ]
  },
  {
   "cell_type": "code",
   "execution_count": 101,
   "id": "64fd3d7f-b250-4371-ab6c-685dfafc9b12",
   "metadata": {},
   "outputs": [],
   "source": [
    "def funnew(**kwargs):\n",
    "    for i in kwargs:\n",
    "        if((type(kwargs[i])==list)):\n",
    "               print(i,kwargs[i])"
   ]
  },
  {
   "cell_type": "code",
   "execution_count": 102,
   "id": "aeb1d895-a7f5-4d33-b75b-5493cc6faff6",
   "metadata": {},
   "outputs": [
    {
     "name": "stdout",
     "output_type": "stream",
     "text": [
      "list1 [12, 4, 56, 67]\n"
     ]
    }
   ],
   "source": [
    "funnew(a=34,b=56, shreya=45,list1=[12,4,56,67])\n"
   ]
  },
  {
   "cell_type": "code",
   "execution_count": null,
   "id": "37d8b362-c98f-4cd8-a11d-6b86d33dcec7",
   "metadata": {},
   "outputs": [],
   "source": []
  },
  {
   "cell_type": "code",
   "execution_count": null,
   "id": "9eb1d997-abe2-4b49-8c69-ce21fe8391b7",
   "metadata": {},
   "outputs": [],
   "source": []
  }
 ],
 "metadata": {
  "kernelspec": {
   "display_name": "Python 3 (ipykernel)",
   "language": "python",
   "name": "python3"
  },
  "language_info": {
   "codemirror_mode": {
    "name": "ipython",
    "version": 3
   },
   "file_extension": ".py",
   "mimetype": "text/x-python",
   "name": "python",
   "nbconvert_exporter": "python",
   "pygments_lexer": "ipython3",
   "version": "3.10.8"
  }
 },
 "nbformat": 4,
 "nbformat_minor": 5
}
