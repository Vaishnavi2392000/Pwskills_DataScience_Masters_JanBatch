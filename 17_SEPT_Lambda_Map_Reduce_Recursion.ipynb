{
 "cells": [
  {
   "cell_type": "code",
   "execution_count": 1,
   "id": "95771940-c997-4dfa-a64c-9846dceaf31f",
   "metadata": {},
   "outputs": [],
   "source": [
    "def test(a,b):\n",
    "    return a+b"
   ]
  },
  {
   "cell_type": "code",
   "execution_count": 2,
   "id": "85242e17-777b-4e27-b468-6a4d8b0085ba",
   "metadata": {},
   "outputs": [],
   "source": [
    "c=test(2,3)"
   ]
  },
  {
   "cell_type": "code",
   "execution_count": 3,
   "id": "f4009bec-0951-4607-b72e-e2e405a2b9a3",
   "metadata": {},
   "outputs": [
    {
     "data": {
      "text/plain": [
       "8"
      ]
     },
     "execution_count": 3,
     "metadata": {},
     "output_type": "execute_result"
    }
   ],
   "source": [
    "c+3"
   ]
  },
  {
   "cell_type": "code",
   "execution_count": 4,
   "id": "4416e914-586d-4e4e-bf24-850d1d07c68c",
   "metadata": {},
   "outputs": [
    {
     "name": "stdout",
     "output_type": "stream",
     "text": [
      "\n"
     ]
    },
    {
     "data": {
      "text/plain": [
       "NoneType"
      ]
     },
     "execution_count": 4,
     "metadata": {},
     "output_type": "execute_result"
    }
   ],
   "source": [
    "type(print())"
   ]
  },
  {
   "cell_type": "code",
   "execution_count": 5,
   "id": "aa05e48c-d2a1-4143-ab8b-a7456e0e83f3",
   "metadata": {},
   "outputs": [],
   "source": [
    "def test2():\n",
    "    return 2,'sudh',True,[1,2,3,4,5]"
   ]
  },
  {
   "cell_type": "code",
   "execution_count": 6,
   "id": "a9db0f30-8ad0-4ca8-887f-a9b24cb160d1",
   "metadata": {},
   "outputs": [
    {
     "data": {
      "text/plain": [
       "(2, 'sudh', True, [1, 2, 3, 4, 5])"
      ]
     },
     "execution_count": 6,
     "metadata": {},
     "output_type": "execute_result"
    }
   ],
   "source": [
    "test2()"
   ]
  },
  {
   "cell_type": "code",
   "execution_count": 7,
   "id": "3b339fe4-399b-4266-bcdc-e4b44c93db1f",
   "metadata": {},
   "outputs": [],
   "source": [
    "a,b,c,d=1,'sudh',(12,45,6),[1,2,3,4]"
   ]
  },
  {
   "cell_type": "code",
   "execution_count": 8,
   "id": "6a99dbbf-601b-42c7-ba2f-89b89d2dfe43",
   "metadata": {},
   "outputs": [
    {
     "data": {
      "text/plain": [
       "(1, 'sudh', (12, 45, 6), [1, 2, 3, 4])"
      ]
     },
     "execution_count": 8,
     "metadata": {},
     "output_type": "execute_result"
    }
   ],
   "source": [
    "a,b,c,d"
   ]
  },
  {
   "cell_type": "code",
   "execution_count": 9,
   "id": "0e4721d7-4703-415a-a5b0-9cdcb5366bd0",
   "metadata": {},
   "outputs": [
    {
     "data": {
      "text/plain": [
       "tuple"
      ]
     },
     "execution_count": 9,
     "metadata": {},
     "output_type": "execute_result"
    }
   ],
   "source": [
    "type(test2())"
   ]
  },
  {
   "cell_type": "code",
   "execution_count": 10,
   "id": "2ada27c6-4dd3-420e-8b5f-b3377c68ffb7",
   "metadata": {},
   "outputs": [],
   "source": [
    "def test3(x):\n",
    "    return x\n"
   ]
  },
  {
   "cell_type": "code",
   "execution_count": 11,
   "id": "2a1c72d2-3635-46cb-a9a5-d628195337e9",
   "metadata": {},
   "outputs": [
    {
     "data": {
      "text/plain": [
       "5"
      ]
     },
     "execution_count": 11,
     "metadata": {},
     "output_type": "execute_result"
    }
   ],
   "source": [
    "test3(5)"
   ]
  },
  {
   "cell_type": "code",
   "execution_count": 12,
   "id": "cacce187-5555-499a-a267-279c524d42e1",
   "metadata": {},
   "outputs": [
    {
     "data": {
      "text/plain": [
       "'sudh'"
      ]
     },
     "execution_count": 12,
     "metadata": {},
     "output_type": "execute_result"
    }
   ],
   "source": [
    "test3(\"sudh\")"
   ]
  },
  {
   "cell_type": "code",
   "execution_count": 13,
   "id": "5a1e218b-579c-4997-8230-f42e2ab8135f",
   "metadata": {},
   "outputs": [
    {
     "data": {
      "text/plain": [
       "[12, 3, 4, 5, 6, 2]"
      ]
     },
     "execution_count": 13,
     "metadata": {},
     "output_type": "execute_result"
    }
   ],
   "source": [
    "test3([12,3,4,5,6]+[2])"
   ]
  },
  {
   "cell_type": "code",
   "execution_count": 14,
   "id": "87882aa3-9472-473d-a41c-85bd48eed8db",
   "metadata": {},
   "outputs": [
    {
     "ename": "TypeError",
     "evalue": "test3() takes 1 positional argument but 2 were given",
     "output_type": "error",
     "traceback": [
      "\u001b[0;31m---------------------------------------------------------------------------\u001b[0m",
      "\u001b[0;31mTypeError\u001b[0m                                 Traceback (most recent call last)",
      "Cell \u001b[0;32mIn[14], line 1\u001b[0m\n\u001b[0;32m----> 1\u001b[0m \u001b[43mtest3\u001b[49m\u001b[43m(\u001b[49m\u001b[38;5;241;43m4\u001b[39;49m\u001b[43m,\u001b[49m\u001b[38;5;241;43m5\u001b[39;49m\u001b[43m)\u001b[49m\n",
      "\u001b[0;31mTypeError\u001b[0m: test3() takes 1 positional argument but 2 were given"
     ]
    }
   ],
   "source": [
    "test3(4,5)"
   ]
  },
  {
   "cell_type": "code",
   "execution_count": 15,
   "id": "1ecfcb0f-4b63-4061-a361-b60d6e2d994b",
   "metadata": {},
   "outputs": [
    {
     "ename": "TypeError",
     "evalue": "test3() missing 1 required positional argument: 'x'",
     "output_type": "error",
     "traceback": [
      "\u001b[0;31m---------------------------------------------------------------------------\u001b[0m",
      "\u001b[0;31mTypeError\u001b[0m                                 Traceback (most recent call last)",
      "Cell \u001b[0;32mIn[15], line 1\u001b[0m\n\u001b[0;32m----> 1\u001b[0m \u001b[43mtest3\u001b[49m\u001b[43m(\u001b[49m\u001b[43m)\u001b[49m\n",
      "\u001b[0;31mTypeError\u001b[0m: test3() missing 1 required positional argument: 'x'"
     ]
    }
   ],
   "source": [
    "test3()"
   ]
  },
  {
   "cell_type": "code",
   "execution_count": 16,
   "id": "f527c4b0-d26d-408e-ae87-a65d99945eee",
   "metadata": {},
   "outputs": [],
   "source": [
    "def test4(x,y):\n",
    "    return x,y"
   ]
  },
  {
   "cell_type": "code",
   "execution_count": 17,
   "id": "ffa3ab20-cf3d-48a9-a528-013a846baeeb",
   "metadata": {},
   "outputs": [
    {
     "ename": "TypeError",
     "evalue": "test4() missing 1 required positional argument: 'y'",
     "output_type": "error",
     "traceback": [
      "\u001b[0;31m---------------------------------------------------------------------------\u001b[0m",
      "\u001b[0;31mTypeError\u001b[0m                                 Traceback (most recent call last)",
      "Cell \u001b[0;32mIn[17], line 1\u001b[0m\n\u001b[0;32m----> 1\u001b[0m \u001b[43mtest4\u001b[49m\u001b[43m(\u001b[49m\u001b[38;5;241;43m2\u001b[39;49m\u001b[43m)\u001b[49m\n",
      "\u001b[0;31mTypeError\u001b[0m: test4() missing 1 required positional argument: 'y'"
     ]
    }
   ],
   "source": [
    "test4(2)"
   ]
  },
  {
   "cell_type": "code",
   "execution_count": 18,
   "id": "2e0903c0-aea5-425d-927e-ca77d96ba4db",
   "metadata": {},
   "outputs": [
    {
     "data": {
      "text/plain": [
       "(1, 3)"
      ]
     },
     "execution_count": 18,
     "metadata": {},
     "output_type": "execute_result"
    }
   ],
   "source": [
    "test4(1,3)"
   ]
  },
  {
   "cell_type": "code",
   "execution_count": 19,
   "id": "a0dce33d-d9e8-475c-9813-939e9945c042",
   "metadata": {},
   "outputs": [
    {
     "data": {
      "text/plain": [
       "('sudh', 'kumar hi')"
      ]
     },
     "execution_count": 19,
     "metadata": {},
     "output_type": "execute_result"
    }
   ],
   "source": [
    "test4(\"sudh\",'kumar '+ \"hi\")"
   ]
  },
  {
   "cell_type": "code",
   "execution_count": 20,
   "id": "724b178a-35bb-44d7-bcad-432519190064",
   "metadata": {},
   "outputs": [],
   "source": [
    "def test5(int):\n",
    "    return a+b"
   ]
  },
  {
   "cell_type": "code",
   "execution_count": 21,
   "id": "61e24a8f-7f86-4bd5-9860-3af316511f5d",
   "metadata": {},
   "outputs": [
    {
     "ename": "TypeError",
     "evalue": "test5() takes 1 positional argument but 2 were given",
     "output_type": "error",
     "traceback": [
      "\u001b[0;31m---------------------------------------------------------------------------\u001b[0m",
      "\u001b[0;31mTypeError\u001b[0m                                 Traceback (most recent call last)",
      "Cell \u001b[0;32mIn[21], line 1\u001b[0m\n\u001b[0;32m----> 1\u001b[0m \u001b[43mtest5\u001b[49m\u001b[43m(\u001b[49m\u001b[38;5;241;43m23\u001b[39;49m\u001b[43m,\u001b[49m\u001b[38;5;241;43m23\u001b[39;49m\u001b[43m)\u001b[49m\n",
      "\u001b[0;31mTypeError\u001b[0m: test5() takes 1 positional argument but 2 were given"
     ]
    }
   ],
   "source": [
    "test5(23,23)"
   ]
  },
  {
   "cell_type": "code",
   "execution_count": 22,
   "id": "f1743956-38a4-4e33-b237-385109d57229",
   "metadata": {},
   "outputs": [],
   "source": [
    "def test6(a:int,b:int):\n",
    "    return a+b"
   ]
  },
  {
   "cell_type": "code",
   "execution_count": 23,
   "id": "2d7e69f7-e768-4b11-8705-25ecf68626aa",
   "metadata": {},
   "outputs": [
    {
     "data": {
      "text/plain": [
       "'sudhkumar'"
      ]
     },
     "execution_count": 23,
     "metadata": {},
     "output_type": "execute_result"
    }
   ],
   "source": [
    "test6(\"sudh\",'kumar')"
   ]
  },
  {
   "cell_type": "code",
   "execution_count": 24,
   "id": "8d4071d7-fec9-4b5e-afc0-8f902e9fecce",
   "metadata": {},
   "outputs": [
    {
     "data": {
      "text/plain": [
       "5"
      ]
     },
     "execution_count": 24,
     "metadata": {},
     "output_type": "execute_result"
    }
   ],
   "source": [
    "test6(2,3)"
   ]
  },
  {
   "cell_type": "code",
   "execution_count": 25,
   "id": "ce094921-06b3-441f-a6b9-703c3f237744",
   "metadata": {},
   "outputs": [
    {
     "data": {
      "text/plain": [
       "'12'"
      ]
     },
     "execution_count": 25,
     "metadata": {},
     "output_type": "execute_result"
    }
   ],
   "source": [
    "test6(\"1\",\"2\")"
   ]
  },
  {
   "cell_type": "markdown",
   "id": "18cbb19c-a5c1-47e8-a837-9f74e5b0bd23",
   "metadata": {},
   "source": [
    "#### python is self typed data type and it understands the function data type automatically. we can not hard code them "
   ]
  },
  {
   "cell_type": "code",
   "execution_count": 26,
   "id": "2c01f4e3-8fa9-4d77-bd78-c0501c06bfba",
   "metadata": {},
   "outputs": [],
   "source": [
    "def test7(x:int,y:int):\n",
    "    return x/y"
   ]
  },
  {
   "cell_type": "code",
   "execution_count": 27,
   "id": "7f2b5d20-062a-4051-ad31-19023caa51ce",
   "metadata": {},
   "outputs": [
    {
     "data": {
      "text/plain": [
       "0.5"
      ]
     },
     "execution_count": 27,
     "metadata": {},
     "output_type": "execute_result"
    }
   ],
   "source": [
    "test7(1,2)"
   ]
  },
  {
   "cell_type": "code",
   "execution_count": 28,
   "id": "aed2b66c-d01a-481c-8c22-0f5940f2af31",
   "metadata": {},
   "outputs": [
    {
     "ename": "TypeError",
     "evalue": "unsupported operand type(s) for /: 'str' and 'str'",
     "output_type": "error",
     "traceback": [
      "\u001b[0;31m---------------------------------------------------------------------------\u001b[0m",
      "\u001b[0;31mTypeError\u001b[0m                                 Traceback (most recent call last)",
      "Cell \u001b[0;32mIn[28], line 1\u001b[0m\n\u001b[0;32m----> 1\u001b[0m \u001b[43mtest7\u001b[49m\u001b[43m(\u001b[49m\u001b[38;5;124;43m\"\u001b[39;49m\u001b[38;5;124;43mhi\u001b[39;49m\u001b[38;5;124;43m\"\u001b[39;49m\u001b[43m,\u001b[49m\u001b[38;5;124;43m'\u001b[39;49m\u001b[38;5;124;43msudh\u001b[39;49m\u001b[38;5;124;43m'\u001b[39;49m\u001b[43m)\u001b[49m\n",
      "Cell \u001b[0;32mIn[26], line 2\u001b[0m, in \u001b[0;36mtest7\u001b[0;34m(x, y)\u001b[0m\n\u001b[1;32m      1\u001b[0m \u001b[38;5;28;01mdef\u001b[39;00m \u001b[38;5;21mtest7\u001b[39m(x:\u001b[38;5;28mint\u001b[39m,y:\u001b[38;5;28mint\u001b[39m):\n\u001b[0;32m----> 2\u001b[0m     \u001b[38;5;28;01mreturn\u001b[39;00m \u001b[43mx\u001b[49m\u001b[38;5;241;43m/\u001b[39;49m\u001b[43my\u001b[49m\n",
      "\u001b[0;31mTypeError\u001b[0m: unsupported operand type(s) for /: 'str' and 'str'"
     ]
    }
   ],
   "source": [
    "test7(\"hi\",'sudh')"
   ]
  },
  {
   "cell_type": "code",
   "execution_count": 29,
   "id": "2baaf877-7564-49cb-b023-af003a7509c0",
   "metadata": {},
   "outputs": [],
   "source": [
    "def test8(c,d):\n",
    "    \"\"\" \n",
    "    this is the function which can take 2 arguments and it \n",
    "    returns the addition of them\n",
    "    \"\"\"\n",
    "    return c+d"
   ]
  },
  {
   "cell_type": "code",
   "execution_count": 30,
   "id": "692e58f5-dc49-4da5-a729-ff437b802431",
   "metadata": {},
   "outputs": [
    {
     "data": {
      "text/plain": [
       "3"
      ]
     },
     "execution_count": 30,
     "metadata": {},
     "output_type": "execute_result"
    }
   ],
   "source": [
    "test8(1,2)"
   ]
  },
  {
   "cell_type": "code",
   "execution_count": 31,
   "id": "35ff1c18-9490-4afb-816f-d0e7fede0b17",
   "metadata": {},
   "outputs": [],
   "source": [
    "def test9(*args):\n",
    "    return args"
   ]
  },
  {
   "cell_type": "code",
   "execution_count": 32,
   "id": "d8a2222a-2ee6-46be-949b-5eb1d7e84ba7",
   "metadata": {},
   "outputs": [
    {
     "data": {
      "text/plain": [
       "(1,)"
      ]
     },
     "execution_count": 32,
     "metadata": {},
     "output_type": "execute_result"
    }
   ],
   "source": [
    "test9(1)"
   ]
  },
  {
   "cell_type": "code",
   "execution_count": 33,
   "id": "0f7fde5a-01da-416d-925a-42d2c4b87a73",
   "metadata": {},
   "outputs": [
    {
     "data": {
      "text/plain": [
       "()"
      ]
     },
     "execution_count": 33,
     "metadata": {},
     "output_type": "execute_result"
    }
   ],
   "source": [
    "test9()"
   ]
  },
  {
   "cell_type": "code",
   "execution_count": 34,
   "id": "f50aab30-0d13-4bc8-a9be-5695f59f4277",
   "metadata": {},
   "outputs": [
    {
     "data": {
      "text/plain": [
       "(1, 2, 3, 4, 5)"
      ]
     },
     "execution_count": 34,
     "metadata": {},
     "output_type": "execute_result"
    }
   ],
   "source": [
    "test9(1,2,3,4,5)"
   ]
  },
  {
   "cell_type": "code",
   "execution_count": 35,
   "id": "bdfe6ec2-01b5-4573-be04-cff05be2c0c2",
   "metadata": {},
   "outputs": [
    {
     "data": {
      "text/plain": [
       "([12, 5], [4, 5, 6])"
      ]
     },
     "execution_count": 35,
     "metadata": {},
     "output_type": "execute_result"
    }
   ],
   "source": [
    "test9([12,5],[4,5,6])"
   ]
  },
  {
   "cell_type": "markdown",
   "id": "85931735-abf2-4b52-9012-bae36c0f877c",
   "metadata": {},
   "source": [
    "#### *args takes any number of arguments and we can use them and process them"
   ]
  },
  {
   "cell_type": "code",
   "execution_count": 36,
   "id": "ea44eaf8-9fb5-4ef4-83f9-76980bf9819e",
   "metadata": {},
   "outputs": [],
   "source": [
    "def test10(*sudh):\n",
    "    return sudh"
   ]
  },
  {
   "cell_type": "code",
   "execution_count": 37,
   "id": "c713a8a6-1a7d-4e4e-894d-618648fde487",
   "metadata": {},
   "outputs": [
    {
     "data": {
      "text/plain": [
       "(12, 3, 4)"
      ]
     },
     "execution_count": 37,
     "metadata": {},
     "output_type": "execute_result"
    }
   ],
   "source": [
    "test10(12,3,4)"
   ]
  },
  {
   "cell_type": "code",
   "execution_count": 38,
   "id": "2f1537cd-a8dd-42c1-9a96-7ed8315aea05",
   "metadata": {},
   "outputs": [],
   "source": [
    "def test11(**kwargs):\n",
    "    return kwargs\n"
   ]
  },
  {
   "cell_type": "code",
   "execution_count": 39,
   "id": "f743a995-2ae1-404e-a655-02c4e4dceea3",
   "metadata": {},
   "outputs": [
    {
     "data": {
      "text/plain": [
       "{}"
      ]
     },
     "execution_count": 39,
     "metadata": {},
     "output_type": "execute_result"
    }
   ],
   "source": [
    "test11()"
   ]
  },
  {
   "cell_type": "code",
   "execution_count": 40,
   "id": "f318c5f2-1ea3-4a5d-935e-53e4e80b61a2",
   "metadata": {},
   "outputs": [
    {
     "ename": "TypeError",
     "evalue": "test11() takes 0 positional arguments but 3 were given",
     "output_type": "error",
     "traceback": [
      "\u001b[0;31m---------------------------------------------------------------------------\u001b[0m",
      "\u001b[0;31mTypeError\u001b[0m                                 Traceback (most recent call last)",
      "Cell \u001b[0;32mIn[40], line 1\u001b[0m\n\u001b[0;32m----> 1\u001b[0m \u001b[43mtest11\u001b[49m\u001b[43m(\u001b[49m\u001b[38;5;241;43m1\u001b[39;49m\u001b[43m,\u001b[49m\u001b[38;5;241;43m2\u001b[39;49m\u001b[43m,\u001b[49m\u001b[38;5;241;43m3\u001b[39;49m\u001b[43m)\u001b[49m\n",
      "\u001b[0;31mTypeError\u001b[0m: test11() takes 0 positional arguments but 3 were given"
     ]
    }
   ],
   "source": [
    "test11(1,2,3)"
   ]
  },
  {
   "cell_type": "markdown",
   "id": "7fa9e5e6-d701-4c96-bee4-ac2d0b9ebbb8",
   "metadata": {},
   "source": [
    "#### kwargs takes data in key-value pair"
   ]
  },
  {
   "cell_type": "code",
   "execution_count": 41,
   "id": "6dbc3214-3f64-4f63-9d8d-1eb567d79a3c",
   "metadata": {},
   "outputs": [
    {
     "data": {
      "text/plain": [
       "{'a': 12, 'b': 'c'}"
      ]
     },
     "execution_count": 41,
     "metadata": {},
     "output_type": "execute_result"
    }
   ],
   "source": [
    "test11(a=12,b='c')"
   ]
  },
  {
   "cell_type": "code",
   "execution_count": 42,
   "id": "a4da99f9-ff21-4639-8270-285ac10f521f",
   "metadata": {},
   "outputs": [
    {
     "data": {
      "text/plain": [
       "{'name': 'vaishnavi'}"
      ]
     },
     "execution_count": 42,
     "metadata": {},
     "output_type": "execute_result"
    }
   ],
   "source": [
    "test11(name='vaishnavi')"
   ]
  },
  {
   "cell_type": "code",
   "execution_count": 43,
   "id": "072c0a35-dc18-41af-914a-54bd23dc1ffd",
   "metadata": {},
   "outputs": [
    {
     "data": {
      "text/plain": [
       "{'n': {'name': 'vashnavi'}}"
      ]
     },
     "execution_count": 43,
     "metadata": {},
     "output_type": "execute_result"
    }
   ],
   "source": [
    "test11(n={\"name\":\"vashnavi\"})"
   ]
  },
  {
   "cell_type": "code",
   "execution_count": 44,
   "id": "f9a49493-74d9-44d3-a239-54cf8ee3f344",
   "metadata": {},
   "outputs": [],
   "source": [
    "def test12(b,a=10,c=20):\n",
    "    \"\"\"\n",
    "    given function defines the default arguments in the function\n",
    "    \"\"\"\n",
    "    return a+b+c"
   ]
  },
  {
   "cell_type": "code",
   "execution_count": 45,
   "id": "a3a1c93d-adc7-4c87-951b-971362454579",
   "metadata": {},
   "outputs": [
    {
     "data": {
      "text/plain": [
       "12"
      ]
     },
     "execution_count": 45,
     "metadata": {},
     "output_type": "execute_result"
    }
   ],
   "source": [
    "test12(10,1,1)"
   ]
  },
  {
   "cell_type": "code",
   "execution_count": 46,
   "id": "68738176-43ba-4d1b-b096-9cd27e7e23a7",
   "metadata": {},
   "outputs": [
    {
     "data": {
      "text/plain": [
       "39"
      ]
     },
     "execution_count": 46,
     "metadata": {},
     "output_type": "execute_result"
    }
   ],
   "source": [
    "test12(9)"
   ]
  },
  {
   "cell_type": "code",
   "execution_count": 47,
   "id": "9c7a6b62-81c9-4f5c-9203-82260a4fb0fd",
   "metadata": {},
   "outputs": [
    {
     "data": {
      "text/plain": [
       "6"
      ]
     },
     "execution_count": 47,
     "metadata": {},
     "output_type": "execute_result"
    }
   ],
   "source": [
    "test12(1,2,3)"
   ]
  },
  {
   "cell_type": "code",
   "execution_count": 48,
   "id": "184539d8-f5e3-406e-a640-ba3d3793ebb2",
   "metadata": {},
   "outputs": [
    {
     "data": {
      "text/plain": [
       "24"
      ]
     },
     "execution_count": 48,
     "metadata": {},
     "output_type": "execute_result"
    }
   ],
   "source": [
    "test12(1,3)"
   ]
  },
  {
   "cell_type": "code",
   "execution_count": 49,
   "id": "7511cf9b-210f-4106-879f-b0c499a53f7f",
   "metadata": {},
   "outputs": [],
   "source": [
    "def test14(a,b):\n",
    "    return a+b"
   ]
  },
  {
   "cell_type": "code",
   "execution_count": 50,
   "id": "e4a0f8b1-f64a-48c2-b1d9-cbb29cbc89ba",
   "metadata": {},
   "outputs": [
    {
     "data": {
      "text/plain": [
       "5"
      ]
     },
     "execution_count": 50,
     "metadata": {},
     "output_type": "execute_result"
    }
   ],
   "source": [
    "test14(2,3)"
   ]
  },
  {
   "cell_type": "code",
   "execution_count": 51,
   "id": "b1211411-ab34-40b8-a52f-35667a370e4c",
   "metadata": {},
   "outputs": [],
   "source": [
    "m=lambda x,y:x+y"
   ]
  },
  {
   "cell_type": "code",
   "execution_count": 52,
   "id": "dd153995-ea03-4f68-9e6f-f65afeac7133",
   "metadata": {},
   "outputs": [
    {
     "data": {
      "text/plain": [
       "3"
      ]
     },
     "execution_count": 52,
     "metadata": {},
     "output_type": "execute_result"
    }
   ],
   "source": [
    "m(1,2)"
   ]
  },
  {
   "cell_type": "code",
   "execution_count": 53,
   "id": "4b4f7f96-9297-4657-a692-4a39a6897708",
   "metadata": {},
   "outputs": [
    {
     "data": {
      "text/plain": [
       "<function __main__.<lambda>(x, y)>"
      ]
     },
     "execution_count": 53,
     "metadata": {},
     "output_type": "execute_result"
    }
   ],
   "source": [
    "m"
   ]
  },
  {
   "cell_type": "code",
   "execution_count": 54,
   "id": "abb5fdb8-b75f-46d9-9ef7-1a889c522c89",
   "metadata": {},
   "outputs": [
    {
     "data": {
      "text/plain": [
       "<function __main__.test14(a, b)>"
      ]
     },
     "execution_count": 54,
     "metadata": {},
     "output_type": "execute_result"
    }
   ],
   "source": [
    "test14"
   ]
  },
  {
   "cell_type": "code",
   "execution_count": 55,
   "id": "58272145-40cf-47bc-9d2c-cf1659e1bf20",
   "metadata": {},
   "outputs": [],
   "source": [
    "n=lambda x: (x%2==0)"
   ]
  },
  {
   "cell_type": "code",
   "execution_count": 56,
   "id": "1169c475-dbfd-46c0-b162-f0f5417f1570",
   "metadata": {},
   "outputs": [
    {
     "data": {
      "text/plain": [
       "False"
      ]
     },
     "execution_count": 56,
     "metadata": {},
     "output_type": "execute_result"
    }
   ],
   "source": [
    "n(21)"
   ]
  },
  {
   "cell_type": "code",
   "execution_count": 57,
   "id": "35ab00fd-2c74-45e2-9617-6e995900ec2d",
   "metadata": {},
   "outputs": [],
   "source": [
    "def check_even(n):\n",
    "    if(n%2==0):\n",
    "        return \"given number is even\"\n",
    "    else:\n",
    "        return \"given number is odd\""
   ]
  },
  {
   "cell_type": "code",
   "execution_count": 58,
   "id": "76a06a18-b99f-42dd-b801-bc414ee8e273",
   "metadata": {},
   "outputs": [
    {
     "data": {
      "text/plain": [
       "'given number is odd'"
      ]
     },
     "execution_count": 58,
     "metadata": {},
     "output_type": "execute_result"
    }
   ],
   "source": [
    "check_even(23)"
   ]
  },
  {
   "cell_type": "code",
   "execution_count": 59,
   "id": "019de44e-64f3-4b92-aac6-ee14bd6f6b1b",
   "metadata": {},
   "outputs": [
    {
     "data": {
      "text/plain": [
       "'given number is even'"
      ]
     },
     "execution_count": 59,
     "metadata": {},
     "output_type": "execute_result"
    }
   ],
   "source": [
    "check_even(230)"
   ]
  },
  {
   "cell_type": "code",
   "execution_count": 60,
   "id": "4b5ea881-ab33-4fde-bd3d-3139bf49ccea",
   "metadata": {},
   "outputs": [],
   "source": [
    "b=lambda n : \"given number is even\" if (n%2==0) else \"given number is odd\""
   ]
  },
  {
   "cell_type": "code",
   "execution_count": 61,
   "id": "d91d21b7-04c4-4f30-a675-eef1b0425440",
   "metadata": {},
   "outputs": [
    {
     "data": {
      "text/plain": [
       "'given number is odd'"
      ]
     },
     "execution_count": 61,
     "metadata": {},
     "output_type": "execute_result"
    }
   ],
   "source": [
    "b(21)"
   ]
  },
  {
   "cell_type": "code",
   "execution_count": 62,
   "id": "56a8cdd7-0d84-4d2b-af83-c7782c0c62ff",
   "metadata": {},
   "outputs": [],
   "source": [
    "n=lambda n: \"given number is even\" if(n%2==0) else \"given number is odd\""
   ]
  },
  {
   "cell_type": "code",
   "execution_count": 63,
   "id": "bc779ba8-00bc-4927-af0c-a0fceebae926",
   "metadata": {},
   "outputs": [
    {
     "data": {
      "text/plain": [
       "'given number is odd'"
      ]
     },
     "execution_count": 63,
     "metadata": {},
     "output_type": "execute_result"
    }
   ],
   "source": [
    "n(9)"
   ]
  },
  {
   "cell_type": "code",
   "execution_count": 64,
   "id": "8feb0374-43b3-4fbd-8e81-06bdf79a7400",
   "metadata": {},
   "outputs": [],
   "source": [
    "l=[2,3,4,56,7,89,2]\n"
   ]
  },
  {
   "cell_type": "code",
   "execution_count": 65,
   "id": "7e5b863e-c6f7-474f-a242-3f478e27c123",
   "metadata": {},
   "outputs": [],
   "source": [
    "min_ele=lambda l: min(l)"
   ]
  },
  {
   "cell_type": "code",
   "execution_count": 66,
   "id": "8f5dc61b-c4c3-4b03-8064-9940fbbbf5eb",
   "metadata": {},
   "outputs": [
    {
     "data": {
      "text/plain": [
       "2"
      ]
     },
     "execution_count": 66,
     "metadata": {},
     "output_type": "execute_result"
    }
   ],
   "source": [
    "min_ele(l)"
   ]
  },
  {
   "cell_type": "code",
   "execution_count": 67,
   "id": "4fe37bee-895c-4445-a6a9-ea574213884e",
   "metadata": {},
   "outputs": [],
   "source": [
    "n=lambda x,y: x//y"
   ]
  },
  {
   "cell_type": "code",
   "execution_count": 68,
   "id": "6d94ef98-83fc-4663-b5b1-4e16dc63febe",
   "metadata": {},
   "outputs": [
    {
     "data": {
      "text/plain": [
       "0"
      ]
     },
     "execution_count": 68,
     "metadata": {},
     "output_type": "execute_result"
    }
   ],
   "source": [
    "n(1,2)"
   ]
  },
  {
   "cell_type": "code",
   "execution_count": 69,
   "id": "bb369295-895f-4f01-b52a-2ceba7b5cee3",
   "metadata": {},
   "outputs": [],
   "source": [
    "use=lambda str1:str1.upper()"
   ]
  },
  {
   "cell_type": "code",
   "execution_count": 70,
   "id": "62e1cf73-342b-4506-83a5-3d54fee4e30c",
   "metadata": {},
   "outputs": [
    {
     "data": {
      "text/plain": [
       "'PWSKILLS'"
      ]
     },
     "execution_count": 70,
     "metadata": {},
     "output_type": "execute_result"
    }
   ],
   "source": [
    "use(\"pwskills\")"
   ]
  },
  {
   "cell_type": "code",
   "execution_count": 71,
   "id": "c651f421-3409-4495-aba2-64d87816725b",
   "metadata": {},
   "outputs": [],
   "source": [
    "l=[12,3,4,5,6,32]\n"
   ]
  },
  {
   "cell_type": "code",
   "execution_count": 72,
   "id": "ea1ce4a5-d825-4f49-9609-e40a8e785729",
   "metadata": {},
   "outputs": [],
   "source": [
    "x=lambda l:sum([i for i in l if(i%2!=0)])"
   ]
  },
  {
   "cell_type": "code",
   "execution_count": 73,
   "id": "9e250641-4a02-489d-ae5a-5d9be60c67c2",
   "metadata": {},
   "outputs": [
    {
     "data": {
      "text/plain": [
       "8"
      ]
     },
     "execution_count": 73,
     "metadata": {},
     "output_type": "execute_result"
    }
   ],
   "source": [
    "x(l)"
   ]
  },
  {
   "cell_type": "code",
   "execution_count": 74,
   "id": "9c9df417-1417-4ea2-a53c-19ad43115f13",
   "metadata": {},
   "outputs": [],
   "source": [
    "def sum_all(l):\n",
    "    l1=[] \n",
    "    for i in l:\n",
    "        if(i%2!=0):\n",
    "            l1.append(i)\n",
    "    return sum(l1)"
   ]
  },
  {
   "cell_type": "code",
   "execution_count": 75,
   "id": "c5544c50-5cdd-47c4-be97-76735caff129",
   "metadata": {},
   "outputs": [
    {
     "data": {
      "text/plain": [
       "8"
      ]
     },
     "execution_count": 75,
     "metadata": {},
     "output_type": "execute_result"
    }
   ],
   "source": [
    "sum_all(l)"
   ]
  },
  {
   "cell_type": "code",
   "execution_count": 76,
   "id": "1ff7df40-c31a-4413-882e-abb0876d5463",
   "metadata": {},
   "outputs": [
    {
     "data": {
      "text/plain": [
       "8"
      ]
     },
     "execution_count": 76,
     "metadata": {},
     "output_type": "execute_result"
    }
   ],
   "source": [
    "sum([i for i in l if (i%2!=0)])"
   ]
  },
  {
   "cell_type": "code",
   "execution_count": 77,
   "id": "791f4320-04a7-4464-9477-15dfbc275eb5",
   "metadata": {},
   "outputs": [],
   "source": [
    "a=[12,3,4,5,6]\n"
   ]
  },
  {
   "cell_type": "code",
   "execution_count": 78,
   "id": "00ccac7f-b9ea-4eef-a98c-311d8ca2fcae",
   "metadata": {},
   "outputs": [
    {
     "data": {
      "text/plain": [
       "22"
      ]
     },
     "execution_count": 78,
     "metadata": {},
     "output_type": "execute_result"
    }
   ],
   "source": [
    "sum([i for i in a if(i%2==0)])"
   ]
  },
  {
   "cell_type": "code",
   "execution_count": 79,
   "id": "00f131aa-7e95-45b0-913f-f9cf30c93b72",
   "metadata": {},
   "outputs": [],
   "source": [
    "def factorial(n):\n",
    "    fact=1\n",
    "    if(n==0):\n",
    "        return 1\n",
    "    else:\n",
    "        for i in range(1,n+1):\n",
    "            fact=fact*i\n",
    "        return fact"
   ]
  },
  {
   "cell_type": "code",
   "execution_count": 80,
   "id": "d0a02953-4c1a-4460-8803-5b8f238fc472",
   "metadata": {},
   "outputs": [
    {
     "data": {
      "text/plain": [
       "120"
      ]
     },
     "execution_count": 80,
     "metadata": {},
     "output_type": "execute_result"
    }
   ],
   "source": [
    "factorial(5)"
   ]
  },
  {
   "cell_type": "code",
   "execution_count": 81,
   "id": "a67588cd-c439-4cc5-8e0c-140c58af5c3b",
   "metadata": {},
   "outputs": [],
   "source": [
    "def factorial(n):\n",
    "    if(n==0):\n",
    "        return 1\n",
    "    else:\n",
    "        return n*factorial(n-1)"
   ]
  },
  {
   "cell_type": "code",
   "execution_count": 82,
   "id": "52bcbeb4-d6e4-466b-a1a6-f7cefce5845e",
   "metadata": {},
   "outputs": [
    {
     "data": {
      "text/plain": [
       "24"
      ]
     },
     "execution_count": 82,
     "metadata": {},
     "output_type": "execute_result"
    }
   ],
   "source": [
    "factorial(4)"
   ]
  },
  {
   "cell_type": "code",
   "execution_count": 83,
   "id": "b52b07e6-0cf6-4f34-882c-f7fe24a9a692",
   "metadata": {},
   "outputs": [],
   "source": [
    "def factorial(n):\n",
    "    fact=1\n",
    "    if(n==0):\n",
    "        return 1\n",
    "    else:\n",
    "        for i in range(1,n+1):\n",
    "             fact=fact*i\n",
    "        return fact"
   ]
  },
  {
   "cell_type": "code",
   "execution_count": 84,
   "id": "a9e8f63b-d216-4de1-b2f2-00c9f0304597",
   "metadata": {},
   "outputs": [
    {
     "data": {
      "text/plain": [
       "6"
      ]
     },
     "execution_count": 84,
     "metadata": {},
     "output_type": "execute_result"
    }
   ],
   "source": [
    "factorial(3)"
   ]
  },
  {
   "cell_type": "code",
   "execution_count": 85,
   "id": "95ef49de-0073-488b-a3f3-2d75b7edf2fe",
   "metadata": {},
   "outputs": [],
   "source": [
    "x=lambda n: mul([i for i in range(1,n+1)])"
   ]
  },
  {
   "cell_type": "code",
   "execution_count": 86,
   "id": "1d627a7c-0bd1-4188-a4b4-3cb538ca4bab",
   "metadata": {},
   "outputs": [
    {
     "ename": "NameError",
     "evalue": "name 'mul' is not defined",
     "output_type": "error",
     "traceback": [
      "\u001b[0;31m---------------------------------------------------------------------------\u001b[0m",
      "\u001b[0;31mNameError\u001b[0m                                 Traceback (most recent call last)",
      "Cell \u001b[0;32mIn[86], line 1\u001b[0m\n\u001b[0;32m----> 1\u001b[0m \u001b[43mx\u001b[49m\u001b[43m(\u001b[49m\u001b[38;5;241;43m4\u001b[39;49m\u001b[43m)\u001b[49m\n",
      "Cell \u001b[0;32mIn[85], line 1\u001b[0m, in \u001b[0;36m<lambda>\u001b[0;34m(n)\u001b[0m\n\u001b[0;32m----> 1\u001b[0m x\u001b[38;5;241m=\u001b[39m\u001b[38;5;28;01mlambda\u001b[39;00m n: \u001b[43mmul\u001b[49m([i \u001b[38;5;28;01mfor\u001b[39;00m i \u001b[38;5;129;01min\u001b[39;00m \u001b[38;5;28mrange\u001b[39m(\u001b[38;5;241m1\u001b[39m,n\u001b[38;5;241m+\u001b[39m\u001b[38;5;241m1\u001b[39m)])\n",
      "\u001b[0;31mNameError\u001b[0m: name 'mul' is not defined"
     ]
    }
   ],
   "source": [
    "x(4)"
   ]
  },
  {
   "cell_type": "code",
   "execution_count": 87,
   "id": "1fe8ede6-9f8b-4409-ba07-e1c91e53f6e2",
   "metadata": {},
   "outputs": [],
   "source": [
    "fact_numbe=lambda n: 1 if (n==0) else n*fact_numbe(n-1)"
   ]
  },
  {
   "cell_type": "code",
   "execution_count": 88,
   "id": "b68a9d51-88d1-4aa6-a166-a2559dda0cef",
   "metadata": {},
   "outputs": [
    {
     "data": {
      "text/plain": [
       "24"
      ]
     },
     "execution_count": 88,
     "metadata": {},
     "output_type": "execute_result"
    }
   ],
   "source": [
    "fact_numbe(4)"
   ]
  },
  {
   "cell_type": "markdown",
   "id": "5c7b0028-a2a9-4f36-8cd3-0cd2a06c428f",
   "metadata": {},
   "source": [
    "### map(), reduce() and filter()"
   ]
  },
  {
   "cell_type": "code",
   "execution_count": 89,
   "id": "eb95b5df-5399-49de-834a-6f48397e0623",
   "metadata": {},
   "outputs": [
    {
     "data": {
      "text/plain": [
       "[7, 8, 9, 10, 11]"
      ]
     },
     "execution_count": 89,
     "metadata": {},
     "output_type": "execute_result"
    }
   ],
   "source": [
    "l=[5,6,7,8,9]\n",
    "l1=[]\n",
    "for i in l:\n",
    "    l1.append(i+2)\n",
    "l1"
   ]
  },
  {
   "cell_type": "code",
   "execution_count": 90,
   "id": "e96f508a-d25a-49fc-b95e-c70dcbcb61d1",
   "metadata": {},
   "outputs": [],
   "source": [
    "l=[5,6,7,8,9]\n",
    "def fun_add_two(l):\n",
    "    l1=[]\n",
    "    for i in l:\n",
    "        l1.append(i+2)\n",
    "    return l1"
   ]
  },
  {
   "cell_type": "code",
   "execution_count": 91,
   "id": "0371ba35-f001-4cfe-91e4-d9f130fda440",
   "metadata": {},
   "outputs": [
    {
     "data": {
      "text/plain": [
       "[7, 8, 9, 10, 11]"
      ]
     },
     "execution_count": 91,
     "metadata": {},
     "output_type": "execute_result"
    }
   ],
   "source": [
    "fun_add_two(l)"
   ]
  },
  {
   "cell_type": "code",
   "execution_count": 92,
   "id": "082c3666-3dc2-47d3-8930-f82b234457f6",
   "metadata": {},
   "outputs": [],
   "source": [
    "v=map(lambda a:a+2,l)"
   ]
  },
  {
   "cell_type": "code",
   "execution_count": 93,
   "id": "49ec70cc-324d-4723-bd4f-e08833631999",
   "metadata": {},
   "outputs": [
    {
     "data": {
      "text/plain": [
       "[7, 8, 9, 10, 11]"
      ]
     },
     "execution_count": 93,
     "metadata": {},
     "output_type": "execute_result"
    }
   ],
   "source": [
    "list(v)"
   ]
  },
  {
   "cell_type": "code",
   "execution_count": 94,
   "id": "aa1238da-ef04-4d5b-a0a3-020ad994853b",
   "metadata": {},
   "outputs": [],
   "source": [
    "l=[12,3,4]\n",
    "def test13(c):\n",
    "    return c+2"
   ]
  },
  {
   "cell_type": "code",
   "execution_count": 95,
   "id": "197d5da5-1253-4d01-a60e-ceb065d0ff1e",
   "metadata": {},
   "outputs": [
    {
     "data": {
      "text/plain": [
       "[14, 5, 6]"
      ]
     },
     "execution_count": 95,
     "metadata": {},
     "output_type": "execute_result"
    }
   ],
   "source": [
    "list(map(test13,l))"
   ]
  },
  {
   "cell_type": "code",
   "execution_count": 96,
   "id": "5e5e5867-6960-4059-9281-3709380a9e6b",
   "metadata": {},
   "outputs": [],
   "source": [
    "l=['sudh','kumar','pwskills']\n",
    "def fun(l):\n",
    "    l1=[]\n",
    "    for i in l:\n",
    "         l1.append(len(i))\n",
    "    return l1 \n",
    "               "
   ]
  },
  {
   "cell_type": "code",
   "execution_count": 97,
   "id": "7048e596-b2a3-4418-9153-0664b58fed25",
   "metadata": {},
   "outputs": [
    {
     "data": {
      "text/plain": [
       "[4, 5, 8]"
      ]
     },
     "execution_count": 97,
     "metadata": {},
     "output_type": "execute_result"
    }
   ],
   "source": [
    "fun(l)"
   ]
  },
  {
   "cell_type": "code",
   "execution_count": 98,
   "id": "837584c1-b52c-4e39-ad36-da338b7342a3",
   "metadata": {},
   "outputs": [
    {
     "data": {
      "text/plain": [
       "[4, 5, 8]"
      ]
     },
     "execution_count": 98,
     "metadata": {},
     "output_type": "execute_result"
    }
   ],
   "source": [
    "list(map(lambda l:len(l),l))"
   ]
  },
  {
   "cell_type": "code",
   "execution_count": 99,
   "id": "2005a31a-a7cd-4d1d-93cb-0300d63a9846",
   "metadata": {},
   "outputs": [
    {
     "data": {
      "text/plain": [
       "[4, 5, 8]"
      ]
     },
     "execution_count": 99,
     "metadata": {},
     "output_type": "execute_result"
    }
   ],
   "source": [
    "list(map(len,l))"
   ]
  },
  {
   "cell_type": "code",
   "execution_count": 100,
   "id": "1c07fb2a-a3e7-4cc1-b480-cc3fb3a135cd",
   "metadata": {},
   "outputs": [
    {
     "data": {
      "text/plain": [
       "['sudh', 'kumar', 'pwskills']"
      ]
     },
     "execution_count": 100,
     "metadata": {},
     "output_type": "execute_result"
    }
   ],
   "source": [
    "l"
   ]
  },
  {
   "cell_type": "code",
   "execution_count": 101,
   "id": "8edd5ae3-9841-4c46-84eb-3678af40303c",
   "metadata": {},
   "outputs": [
    {
     "data": {
      "text/plain": [
       "['hdus', 'ramuk', 'sllikswp']"
      ]
     },
     "execution_count": 101,
     "metadata": {},
     "output_type": "execute_result"
    }
   ],
   "source": [
    "list(map(lambda x: x[::-1],l))"
   ]
  },
  {
   "cell_type": "code",
   "execution_count": 102,
   "id": "402ddb9e-a71d-4ef7-851a-46f30a1ab260",
   "metadata": {},
   "outputs": [
    {
     "data": {
      "text/plain": [
       "['shreya', 'ghadge']"
      ]
     },
     "execution_count": 102,
     "metadata": {},
     "output_type": "execute_result"
    }
   ],
   "source": [
    "s=['shreya','ghadge']\n",
    "s"
   ]
  },
  {
   "cell_type": "code",
   "execution_count": 103,
   "id": "85df87a8-9a0a-4ccf-b36a-e8553b191d66",
   "metadata": {},
   "outputs": [],
   "source": [
    "n=lambda x:x.upper()"
   ]
  },
  {
   "cell_type": "code",
   "execution_count": 104,
   "id": "ab3e0cae-a3ab-4768-9318-2b0441a7feac",
   "metadata": {},
   "outputs": [
    {
     "data": {
      "text/plain": [
       "['shreya', 'ghadge']"
      ]
     },
     "execution_count": 104,
     "metadata": {},
     "output_type": "execute_result"
    }
   ],
   "source": [
    "list(s)"
   ]
  },
  {
   "cell_type": "code",
   "execution_count": 105,
   "id": "5df9d18c-de20-443d-bd46-0bf084d5f03a",
   "metadata": {},
   "outputs": [
    {
     "name": "stdout",
     "output_type": "stream",
     "text": [
      "720\n"
     ]
    }
   ],
   "source": [
    "l=[2,3,4,5,6]\n",
    "mul=1\n",
    "for i in l:\n",
    "    mul=mul*i\n",
    "print(mul)"
   ]
  },
  {
   "cell_type": "code",
   "execution_count": 106,
   "id": "929c54c5-f85d-4b5d-a5bb-a833727012dc",
   "metadata": {},
   "outputs": [],
   "source": [
    "from functools import reduce"
   ]
  },
  {
   "cell_type": "code",
   "execution_count": 107,
   "id": "f847726c-ff67-4f0c-ad9b-130b95c84b6c",
   "metadata": {},
   "outputs": [],
   "source": [
    "l=lambda x,y:x*y"
   ]
  },
  {
   "cell_type": "code",
   "execution_count": 108,
   "id": "dac6e2b3-9085-45c0-bce2-0035a25488d2",
   "metadata": {},
   "outputs": [
    {
     "ename": "TypeError",
     "evalue": "'function' object is not iterable",
     "output_type": "error",
     "traceback": [
      "\u001b[0;31m---------------------------------------------------------------------------\u001b[0m",
      "\u001b[0;31mTypeError\u001b[0m                                 Traceback (most recent call last)",
      "Cell \u001b[0;32mIn[108], line 1\u001b[0m\n\u001b[0;32m----> 1\u001b[0m \u001b[38;5;28;43mlist\u001b[39;49m\u001b[43m(\u001b[49m\u001b[43ml\u001b[49m\u001b[43m)\u001b[49m\n",
      "\u001b[0;31mTypeError\u001b[0m: 'function' object is not iterable"
     ]
    }
   ],
   "source": [
    "list(l)"
   ]
  },
  {
   "cell_type": "code",
   "execution_count": 109,
   "id": "1c2926e4-5ff3-4e9c-b8a1-fc66fecfb5ac",
   "metadata": {},
   "outputs": [],
   "source": [
    "l=[12,3,4,5]"
   ]
  },
  {
   "cell_type": "code",
   "execution_count": 110,
   "id": "ff975699-35bb-4b35-b607-16bb75504209",
   "metadata": {},
   "outputs": [
    {
     "name": "stdout",
     "output_type": "stream",
     "text": [
      "12\n"
     ]
    }
   ],
   "source": [
    "max1=0\n",
    "for i in l:\n",
    "    if(i>max1):\n",
    "        max1=i\n",
    "print(max1)\n",
    "    "
   ]
  },
  {
   "cell_type": "code",
   "execution_count": 111,
   "id": "8d566f47-9d8e-4c8a-b762-476fdd836ff0",
   "metadata": {},
   "outputs": [
    {
     "data": {
      "text/plain": [
       "12"
      ]
     },
     "execution_count": 111,
     "metadata": {},
     "output_type": "execute_result"
    }
   ],
   "source": [
    "reduce(lambda a,b:a if a>b else b,l)"
   ]
  },
  {
   "cell_type": "code",
   "execution_count": 112,
   "id": "b5e535d9-22b5-4f51-b3dc-ae2e6b4735cb",
   "metadata": {},
   "outputs": [
    {
     "data": {
      "text/plain": [
       "24"
      ]
     },
     "execution_count": 112,
     "metadata": {},
     "output_type": "execute_result"
    }
   ],
   "source": [
    "n=4\n",
    "reduce(lambda a,b: a*b, range(1,n+1))"
   ]
  },
  {
   "cell_type": "code",
   "execution_count": 113,
   "id": "4e438f14-a840-489f-ad3d-188820b94988",
   "metadata": {},
   "outputs": [],
   "source": [
    "def test14(a,b):\n",
    "    return a*b"
   ]
  },
  {
   "cell_type": "code",
   "execution_count": 114,
   "id": "74dda78d-6cbe-4f30-9926-af5ce1705d35",
   "metadata": {},
   "outputs": [
    {
     "data": {
      "text/plain": [
       "24"
      ]
     },
     "execution_count": 114,
     "metadata": {},
     "output_type": "execute_result"
    }
   ],
   "source": [
    "reduce(test14,range(1,5))"
   ]
  },
  {
   "cell_type": "code",
   "execution_count": 115,
   "id": "86a33a92-8638-4c13-9257-bcade1ce6343",
   "metadata": {},
   "outputs": [
    {
     "ename": "SyntaxError",
     "evalue": "expected 'else' after 'if' expression (377482300.py, line 2)",
     "output_type": "error",
     "traceback": [
      "\u001b[0;36m  Cell \u001b[0;32mIn[115], line 2\u001b[0;36m\u001b[0m\n\u001b[0;31m    reduce(lambda a,b:a*1 if(a%2==0),l)\u001b[0m\n\u001b[0m                      ^\u001b[0m\n\u001b[0;31mSyntaxError\u001b[0m\u001b[0;31m:\u001b[0m expected 'else' after 'if' expression\n"
     ]
    }
   ],
   "source": [
    "l=[1,2,3,4,5,6,7]\n",
    "reduce(lambda a,b:a*1 if(a%2==0),l)"
   ]
  },
  {
   "cell_type": "code",
   "execution_count": 116,
   "id": "81f4407d-6017-42c6-ace5-92562d667ce2",
   "metadata": {},
   "outputs": [
    {
     "data": {
      "text/plain": [
       "[1, 2, 3, 4, 5, 6, 7]"
      ]
     },
     "execution_count": 116,
     "metadata": {},
     "output_type": "execute_result"
    }
   ],
   "source": [
    "l=[1,2,3,4,5,6,7]\n",
    "l"
   ]
  },
  {
   "cell_type": "code",
   "execution_count": 117,
   "id": "00adb56c-4c41-48f9-9742-fd81ffb2e497",
   "metadata": {},
   "outputs": [],
   "source": [
    "def fun(l):\n",
    "    l1=[]\n",
    "    for i in l:\n",
    "        if(i%2==0):\n",
    "            l1.append(i)\n",
    "    print(l1)\n",
    "            "
   ]
  },
  {
   "cell_type": "code",
   "execution_count": 118,
   "id": "6a0031ba-9358-48d7-a226-16e4540cd84d",
   "metadata": {},
   "outputs": [
    {
     "name": "stdout",
     "output_type": "stream",
     "text": [
      "[2, 4, 6]\n"
     ]
    }
   ],
   "source": [
    "fun(l)"
   ]
  },
  {
   "cell_type": "code",
   "execution_count": 119,
   "id": "5a86300d-dd7f-41f2-9751-8cde4d725ec9",
   "metadata": {},
   "outputs": [
    {
     "data": {
      "text/plain": [
       "48"
      ]
     },
     "execution_count": 119,
     "metadata": {},
     "output_type": "execute_result"
    }
   ],
   "source": [
    "reduce(lambda a,b:a*b ,[i for i in l if(i%2==0)])"
   ]
  },
  {
   "cell_type": "code",
   "execution_count": 120,
   "id": "006b24a5-c9e7-4503-bfdb-3ebc09c9247b",
   "metadata": {},
   "outputs": [],
   "source": [
    "l=[1,2,3,11,4,5,7,6,6,78,8,4]"
   ]
  },
  {
   "cell_type": "code",
   "execution_count": 121,
   "id": "80a9d844-6662-4501-97cc-8f1d7fd51324",
   "metadata": {},
   "outputs": [
    {
     "data": {
      "text/plain": [
       "[1, 3, 11, 5, 7]"
      ]
     },
     "execution_count": 121,
     "metadata": {},
     "output_type": "execute_result"
    }
   ],
   "source": [
    "[i for i in l if(i%2!=0)]"
   ]
  },
  {
   "cell_type": "code",
   "execution_count": 122,
   "id": "09c88f74-fda7-4d69-88c0-d0befa59df23",
   "metadata": {},
   "outputs": [
    {
     "data": {
      "text/plain": [
       "[1, 3, 11, 5, 7]"
      ]
     },
     "execution_count": 122,
     "metadata": {},
     "output_type": "execute_result"
    }
   ],
   "source": [
    "list(filter(lambda x: x%2!=0,l))"
   ]
  },
  {
   "cell_type": "code",
   "execution_count": 123,
   "id": "0e3a19d6-f95c-4bc5-9f48-e4f7ddb8c8ac",
   "metadata": {},
   "outputs": [
    {
     "data": {
      "text/plain": [
       "'PW Skills'"
      ]
     },
     "execution_count": 123,
     "metadata": {},
     "output_type": "execute_result"
    }
   ],
   "source": [
    "s=\"PW Skills\"\n",
    "s\n"
   ]
  },
  {
   "cell_type": "code",
   "execution_count": 124,
   "id": "e1a24ed7-4642-4a9b-b3d6-5c3aebaf082a",
   "metadata": {},
   "outputs": [
    {
     "data": {
      "text/plain": [
       "['P', 'W', 'S']"
      ]
     },
     "execution_count": 124,
     "metadata": {},
     "output_type": "execute_result"
    }
   ],
   "source": [
    "list(filter(lambda x: x.isupper(),s))"
   ]
  },
  {
   "cell_type": "code",
   "execution_count": 125,
   "id": "9ed91a4a-fdef-40db-8e8b-4a4a81e829d3",
   "metadata": {},
   "outputs": [
    {
     "data": {
      "text/plain": [
       "['pw', 'pwksills', 'sudh', 'krish']"
      ]
     },
     "execution_count": 125,
     "metadata": {},
     "output_type": "execute_result"
    }
   ],
   "source": [
    "l=[\"pw\",\"pwksills\",'sudh','krish']\n",
    "l"
   ]
  },
  {
   "cell_type": "code",
   "execution_count": 126,
   "id": "1dcd4225-3f49-468e-bd8a-53d7746a84a0",
   "metadata": {},
   "outputs": [
    {
     "data": {
      "text/plain": [
       "['pw']"
      ]
     },
     "execution_count": 126,
     "metadata": {},
     "output_type": "execute_result"
    }
   ],
   "source": [
    "list(filter(lambda x: len(x)<4,l))"
   ]
  },
  {
   "cell_type": "code",
   "execution_count": 127,
   "id": "499774b4-2c75-41e9-a280-263849f0d861",
   "metadata": {},
   "outputs": [
    {
     "data": {
      "text/plain": [
       "['pw', 'pwksills', 'sudh', 'krish']"
      ]
     },
     "execution_count": 127,
     "metadata": {},
     "output_type": "execute_result"
    }
   ],
   "source": [
    "l"
   ]
  },
  {
   "cell_type": "code",
   "execution_count": 128,
   "id": "c00c470a-4ede-48a2-817b-028a69abfddb",
   "metadata": {},
   "outputs": [
    {
     "data": {
      "text/plain": [
       "['pw', 'pwksills']"
      ]
     },
     "execution_count": 128,
     "metadata": {},
     "output_type": "execute_result"
    }
   ],
   "source": [
    "list(filter(lambda x: x[0]=='p',l))"
   ]
  },
  {
   "cell_type": "markdown",
   "id": "5d43c5e9-9c93-495f-8892-18276ecf8e8b",
   "metadata": {},
   "source": [
    "## Recursion"
   ]
  },
  {
   "cell_type": "code",
   "execution_count": 134,
   "id": "3eb68b76-edc6-4d53-86e7-eef448272f1c",
   "metadata": {},
   "outputs": [],
   "source": [
    "def gen_fib(n):\n",
    "    if(n<=1):\n",
    "        return n\n",
    "    else:\n",
    "        return gen_fib(n-1)+gen_fib(n-2)"
   ]
  },
  {
   "cell_type": "code",
   "execution_count": 135,
   "id": "37ff564f-cb8f-4d12-9e5a-6661b1fee1b4",
   "metadata": {},
   "outputs": [
    {
     "data": {
      "text/plain": [
       "13"
      ]
     },
     "execution_count": 135,
     "metadata": {},
     "output_type": "execute_result"
    }
   ],
   "source": [
    "gen_fib(7)"
   ]
  },
  {
   "cell_type": "code",
   "execution_count": 136,
   "id": "b4fbb916-c88d-4cac-9933-66de99c016f3",
   "metadata": {},
   "outputs": [],
   "source": [
    "def sum_all(n):\n",
    "    if(n==1):\n",
    "        return n\n",
    "    else:\n",
    "        return n+sum_all(n-1)"
   ]
  },
  {
   "cell_type": "code",
   "execution_count": 137,
   "id": "2cf201cb-f3ee-42d9-ba3d-0899ec94af53",
   "metadata": {},
   "outputs": [
    {
     "data": {
      "text/plain": [
       "55"
      ]
     },
     "execution_count": 137,
     "metadata": {},
     "output_type": "execute_result"
    }
   ],
   "source": [
    "sum_all(10)"
   ]
  },
  {
   "cell_type": "raw",
   "id": "35d37140-3fbc-4ac6-8601-1f74bcd4f9b1",
   "metadata": {},
   "source": [
    "recursion\n",
    "while loop\n",
    "iterator\n",
    "iterable\n",
    "generator\n",
    "zip\n",
    "enumeration\n",
    "decorators\n",
    "all comprehension\n"
   ]
  },
  {
   "cell_type": "code",
   "execution_count": null,
   "id": "b8d4c717-9d8a-46ca-a611-c7c58cc1c52e",
   "metadata": {},
   "outputs": [],
   "source": []
  },
  {
   "cell_type": "code",
   "execution_count": null,
   "id": "2cf363fb-b22b-4b23-b18e-30272b4ef35f",
   "metadata": {},
   "outputs": [],
   "source": []
  },
  {
   "cell_type": "code",
   "execution_count": null,
   "id": "54cd367b-d1e5-4931-b6d8-98f92ef65e8e",
   "metadata": {},
   "outputs": [],
   "source": []
  },
  {
   "cell_type": "code",
   "execution_count": null,
   "id": "65193a67-99c6-4996-a10d-40ef5ad57299",
   "metadata": {},
   "outputs": [],
   "source": []
  },
  {
   "cell_type": "code",
   "execution_count": null,
   "id": "afb7112f-3de6-4004-9a05-6ee857e1194e",
   "metadata": {},
   "outputs": [],
   "source": []
  },
  {
   "cell_type": "code",
   "execution_count": null,
   "id": "88cc9f60-9872-4647-97c6-bc245f6deb7d",
   "metadata": {},
   "outputs": [],
   "source": []
  },
  {
   "cell_type": "code",
   "execution_count": null,
   "id": "fceb55d1-ea7c-411f-9cbe-15b7a8198dfb",
   "metadata": {},
   "outputs": [],
   "source": []
  },
  {
   "cell_type": "code",
   "execution_count": null,
   "id": "4b046267-1941-458c-b3d0-5fdf2f0a8131",
   "metadata": {},
   "outputs": [],
   "source": []
  },
  {
   "cell_type": "code",
   "execution_count": null,
   "id": "10c8608e-40f0-485c-b6b3-ac4e9a73a07e",
   "metadata": {},
   "outputs": [],
   "source": []
  },
  {
   "cell_type": "code",
   "execution_count": null,
   "id": "f43d733b-7c67-426d-9cf4-63fa8d1a0ac9",
   "metadata": {},
   "outputs": [],
   "source": []
  },
  {
   "cell_type": "code",
   "execution_count": null,
   "id": "55477903-dc5f-4ae0-98e3-0b4a7ec3f568",
   "metadata": {},
   "outputs": [],
   "source": []
  },
  {
   "cell_type": "code",
   "execution_count": null,
   "id": "6d474eb7-9cb7-4ba3-ac49-6241d218057e",
   "metadata": {},
   "outputs": [],
   "source": []
  },
  {
   "cell_type": "code",
   "execution_count": null,
   "id": "d81d5896-08e5-4ec0-b887-8a3d08c8e936",
   "metadata": {},
   "outputs": [],
   "source": []
  },
  {
   "cell_type": "code",
   "execution_count": null,
   "id": "1c91eca0-5a44-4a91-b429-51244825e5c7",
   "metadata": {},
   "outputs": [],
   "source": []
  },
  {
   "cell_type": "code",
   "execution_count": null,
   "id": "e26ec4b1-f86c-4714-9cda-91a93ce76639",
   "metadata": {},
   "outputs": [],
   "source": []
  },
  {
   "cell_type": "code",
   "execution_count": null,
   "id": "1d1aab75-0a3c-4815-bd58-5e20ed9174fa",
   "metadata": {},
   "outputs": [],
   "source": []
  },
  {
   "cell_type": "code",
   "execution_count": null,
   "id": "6e0305a2-35e9-4f4a-a463-449e5af7c8a9",
   "metadata": {},
   "outputs": [],
   "source": []
  },
  {
   "cell_type": "code",
   "execution_count": null,
   "id": "38dbe01c-7801-488a-a911-77327a02e49c",
   "metadata": {},
   "outputs": [],
   "source": []
  },
  {
   "cell_type": "code",
   "execution_count": null,
   "id": "224d71d3-694d-4629-b95a-db11bbf20a19",
   "metadata": {},
   "outputs": [],
   "source": []
  }
 ],
 "metadata": {
  "kernelspec": {
   "display_name": "Python 3 (ipykernel)",
   "language": "python",
   "name": "python3"
  },
  "language_info": {
   "codemirror_mode": {
    "name": "ipython",
    "version": 3
   },
   "file_extension": ".py",
   "mimetype": "text/x-python",
   "name": "python",
   "nbconvert_exporter": "python",
   "pygments_lexer": "ipython3",
   "version": "3.10.8"
  }
 },
 "nbformat": 4,
 "nbformat_minor": 5
}
